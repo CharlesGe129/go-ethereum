{
 "cells": [
  {
   "cell_type": "code",
   "execution_count": 1,
   "metadata": {},
   "outputs": [],
   "source": [
    "import pandas as pd"
   ]
  },
  {
   "cell_type": "code",
   "execution_count": 2,
   "metadata": {},
   "outputs": [],
   "source": [
    "UNCLE_PATH = '../crawler/uncle_sample/'\n",
    "CANONICAL_PATH = '../crawler/canonical_sample/'"
   ]
  },
  {
   "cell_type": "markdown",
   "metadata": {},
   "source": [
    "## Step 1: Make uncle and canonical have same columns"
   ]
  },
  {
   "cell_type": "markdown",
   "metadata": {},
   "source": [
    "### Load uncles"
   ]
  },
  {
   "cell_type": "code",
   "execution_count": 3,
   "metadata": {},
   "outputs": [
    {
     "name": "stdout",
     "output_type": "stream",
     "text": [
      "loading  7870000.txt\n",
      "loading  7970000.txt\n",
      "loading  7960000.txt\n",
      "loading  7860000.txt\n",
      "loading  7840000.txt\n",
      "loading  7940000.txt\n",
      "loading  7790000.txt\n",
      "loading  7780000.txt\n",
      "loading  7950000.txt\n",
      "loading  7850000.txt\n",
      "loading  7800000.txt\n",
      "loading  7900000.txt\n",
      "loading  7990000.txt\n",
      "loading  7890000.txt\n",
      "loading  7880000.txt\n",
      "loading  7980000.txt\n",
      "loading  7910000.txt\n",
      "loading  7810000.txt\n",
      "loading  7770000.txt\n",
      "loading  7830000.txt\n",
      "loading  7930000.txt\n",
      "loading  7920000.txt\n",
      "loading  7820000.txt\n",
      "(17487, 19)\n"
     ]
    },
    {
     "data": {
      "text/html": [
       "<div>\n",
       "<style scoped>\n",
       "    .dataframe tbody tr th:only-of-type {\n",
       "        vertical-align: middle;\n",
       "    }\n",
       "\n",
       "    .dataframe tbody tr th {\n",
       "        vertical-align: top;\n",
       "    }\n",
       "\n",
       "    .dataframe thead th {\n",
       "        text-align: right;\n",
       "    }\n",
       "</style>\n",
       "<table border=\"1\" class=\"dataframe\">\n",
       "  <thead>\n",
       "    <tr style=\"text-align: right;\">\n",
       "      <th></th>\n",
       "      <th>difficulty</th>\n",
       "      <th>extraData</th>\n",
       "      <th>gasLimit</th>\n",
       "      <th>gasUsed</th>\n",
       "      <th>hash</th>\n",
       "      <th>logsBloom</th>\n",
       "      <th>miner</th>\n",
       "      <th>mixHash</th>\n",
       "      <th>nonce</th>\n",
       "      <th>number</th>\n",
       "      <th>parentHash</th>\n",
       "      <th>receiptsRoot</th>\n",
       "      <th>sha3Uncles</th>\n",
       "      <th>size</th>\n",
       "      <th>stateRoot</th>\n",
       "      <th>timestamp</th>\n",
       "      <th>totalDifficulty</th>\n",
       "      <th>transactionsRoot</th>\n",
       "      <th>uncles</th>\n",
       "    </tr>\n",
       "  </thead>\n",
       "  <tbody>\n",
       "    <tr>\n",
       "      <th>0</th>\n",
       "      <td>0x7855cbbd987dc</td>\n",
       "      <td>0x505059452d65746865726d696e652d61736961312d36</td>\n",
       "      <td>0x7a1200</td>\n",
       "      <td>0x7a04d7</td>\n",
       "      <td>0x325b114e997815a6b778e6f8f22316fa40d5641212bf...</td>\n",
       "      <td>0x800440850400a089167a442b1809141c301495891400...</td>\n",
       "      <td>0xea674fdde714fd979de3edf0f56aa9716b898ec8</td>\n",
       "      <td>0x77cc2f77cfe4ef397af9d01f9fe5c1485b066dcd3c95...</td>\n",
       "      <td>0xa133dc8003163fd0</td>\n",
       "      <td>0x783d35</td>\n",
       "      <td>0x2c58546a79da82e550a50527e8034feebf9e7832d765...</td>\n",
       "      <td>0xb01119e71467e569a4cb9c9a38232019f741108817fb...</td>\n",
       "      <td>0x1dcc4de8dec75d7aab85b567b6ccd41ad312451b948a...</td>\n",
       "      <td>0x21f</td>\n",
       "      <td>0x4888e3d10ff7e7456ddbbff8db58dd90b67696f2ec2c...</td>\n",
       "      <td>0x5cf3bb90</td>\n",
       "      <td>0x236432697c9101a6eeb</td>\n",
       "      <td>0xee981a7ba8b9dda1a3a0686d5414e4882096ecf4d7b9...</td>\n",
       "      <td>[]</td>\n",
       "    </tr>\n",
       "    <tr>\n",
       "      <th>1</th>\n",
       "      <td>0x7837bb6dd61a9</td>\n",
       "      <td>0xde830203088f5061726974792d457468657265756d86...</td>\n",
       "      <td>0x7a121d</td>\n",
       "      <td>0x793e3c</td>\n",
       "      <td>0xd43965e6cb9d495bee49f4b1bc9721d346ef4fde3857...</td>\n",
       "      <td>0x85c08a8760410c70620a412c232e390ead5800090030...</td>\n",
       "      <td>0x858fdec2da9fa3cd3d97b8bd1af98e9249d33613</td>\n",
       "      <td>0xe34a43adf3eaa477d534aa55d59589389f8f87966fd8...</td>\n",
       "      <td>0xca21a2b0013e4da1</td>\n",
       "      <td>0x783d33</td>\n",
       "      <td>0x27a5adab1f9d55d4a8b34b656742123f157d677cf9d5...</td>\n",
       "      <td>0x991bcec040867c56acd26b7f9cff0b744c2e9c982747...</td>\n",
       "      <td>0x1dcc4de8dec75d7aab85b567b6ccd41ad312451b948a...</td>\n",
       "      <td>0x228</td>\n",
       "      <td>0xbe00fd9c3e3305bcd687530d0c28e8758d10f90dd3c8...</td>\n",
       "      <td>0x5cf3bb87</td>\n",
       "      <td>0x23643178e0029eca9ba</td>\n",
       "      <td>0x87d0c07c7cbf77df489e55f21ed27a02330b39e55340...</td>\n",
       "      <td>[]</td>\n",
       "    </tr>\n",
       "    <tr>\n",
       "      <th>2</th>\n",
       "      <td>0x7837c1312235b</td>\n",
       "      <td>0x73656f33</td>\n",
       "      <td>0x7a121d</td>\n",
       "      <td>0x7a0a41</td>\n",
       "      <td>0x352320de85789695a4a24f89f564762442245fb27d33...</td>\n",
       "      <td>0x4500948200000e09120e004001880a1402dc0808a118...</td>\n",
       "      <td>0xb2930b35844a230f00e51431acae96fe543a0347</td>\n",
       "      <td>0x45149197443b4e9ffac59e3b666def3cf98e434741c8...</td>\n",
       "      <td>0x33d70f080926ba45</td>\n",
       "      <td>0x783d2c</td>\n",
       "      <td>0x7e47c74c2d322792fa32e63c3c60f5f8e3a58c9ab9a1...</td>\n",
       "      <td>0x1f7c53156f1e6750e64e6aac8c7146be92a5d3157b83...</td>\n",
       "      <td>0x1dcc4de8dec75d7aab85b567b6ccd41ad312451b948a...</td>\n",
       "      <td>0x20d</td>\n",
       "      <td>0x278a5c445ae3b9ecf0daca3681ff204351dbe48a3c51...</td>\n",
       "      <td>0x5cf3bb1e</td>\n",
       "      <td>0x23642e2fb3ec1eb8339</td>\n",
       "      <td>0xda0ae2eae74823e93b5a56577a96e32a30b253c1d52c...</td>\n",
       "      <td>[]</td>\n",
       "    </tr>\n",
       "    <tr>\n",
       "      <th>3</th>\n",
       "      <td>0x7828c15c8330d</td>\n",
       "      <td>0x505059452d65746865726d696e652d61736961312d35</td>\n",
       "      <td>0x7a1200</td>\n",
       "      <td>0x7a0a8a</td>\n",
       "      <td>0xa4510244d270c01b91aae3db0d094c86bbdd99ea626f...</td>\n",
       "      <td>0x9e6fdebed71edf4ad7d7c8f9ddcef9ff32b3ff8ff311...</td>\n",
       "      <td>0xea674fdde714fd979de3edf0f56aa9716b898ec8</td>\n",
       "      <td>0xde83e96b4093c9065b836a45dd6be859d875ff305b7c...</td>\n",
       "      <td>0x4131564c4c5e3765</td>\n",
       "      <td>0x783d23</td>\n",
       "      <td>0x0e3a5e074a7e4a01a64c67d9fbeb4b615930f0868640...</td>\n",
       "      <td>0x6036479ec3ecf1fd736c25503bf2915f73029b4c8c72...</td>\n",
       "      <td>0x1dcc4de8dec75d7aab85b567b6ccd41ad312451b948a...</td>\n",
       "      <td>0x21f</td>\n",
       "      <td>0x7967d2e630dc976f4a27a0dac65e73b22220337f41e5...</td>\n",
       "      <td>0x5cf3baa2</td>\n",
       "      <td>0x236429f681506d75b45</td>\n",
       "      <td>0x326ff76c06df94d812319816785140935e527482043a...</td>\n",
       "      <td>[]</td>\n",
       "    </tr>\n",
       "    <tr>\n",
       "      <th>4</th>\n",
       "      <td>0x7837c81585e18</td>\n",
       "      <td>0x5050594520737061726b706f6f6c2d6574682d7477</td>\n",
       "      <td>0x7a121d</td>\n",
       "      <td>0x79d270</td>\n",
       "      <td>0x6b705dc6ea86f316849a07ff8dfef96f23d84410c826...</td>\n",
       "      <td>0x008450825c006c80005360680d01180400843cc52a14...</td>\n",
       "      <td>0x5a0b54d5dc17e0aadc383d2db43b0a0d3e029c4c</td>\n",
       "      <td>0xae46622cef212993736301fe7fb117baeb32455a08b9...</td>\n",
       "      <td>0x511ae9a8042a5f66</td>\n",
       "      <td>0x783d22</td>\n",
       "      <td>0xf4c79618f801db4dbaa81e6fd2df8c44d8812e027227...</td>\n",
       "      <td>0x715f34f7593875d7aaa74d77dc9880c4d43540154926...</td>\n",
       "      <td>0x1dcc4de8dec75d7aab85b567b6ccd41ad312451b948a...</td>\n",
       "      <td>0x21e</td>\n",
       "      <td>0x5d6400178f04f3c49060adac78e82424a78e89d2e236...</td>\n",
       "      <td>0x5cf3ba8e</td>\n",
       "      <td>0x2364297e588f10f2838</td>\n",
       "      <td>0x22836a6e3ecedd8732ebd2f214ffce0d009b19132f54...</td>\n",
       "      <td>[]</td>\n",
       "    </tr>\n",
       "  </tbody>\n",
       "</table>\n",
       "</div>"
      ],
      "text/plain": [
       "        difficulty                                          extraData  \\\n",
       "0  0x7855cbbd987dc     0x505059452d65746865726d696e652d61736961312d36   \n",
       "1  0x7837bb6dd61a9  0xde830203088f5061726974792d457468657265756d86...   \n",
       "2  0x7837c1312235b                                         0x73656f33   \n",
       "3  0x7828c15c8330d     0x505059452d65746865726d696e652d61736961312d35   \n",
       "4  0x7837c81585e18       0x5050594520737061726b706f6f6c2d6574682d7477   \n",
       "\n",
       "   gasLimit   gasUsed                                               hash  \\\n",
       "0  0x7a1200  0x7a04d7  0x325b114e997815a6b778e6f8f22316fa40d5641212bf...   \n",
       "1  0x7a121d  0x793e3c  0xd43965e6cb9d495bee49f4b1bc9721d346ef4fde3857...   \n",
       "2  0x7a121d  0x7a0a41  0x352320de85789695a4a24f89f564762442245fb27d33...   \n",
       "3  0x7a1200  0x7a0a8a  0xa4510244d270c01b91aae3db0d094c86bbdd99ea626f...   \n",
       "4  0x7a121d  0x79d270  0x6b705dc6ea86f316849a07ff8dfef96f23d84410c826...   \n",
       "\n",
       "                                           logsBloom  \\\n",
       "0  0x800440850400a089167a442b1809141c301495891400...   \n",
       "1  0x85c08a8760410c70620a412c232e390ead5800090030...   \n",
       "2  0x4500948200000e09120e004001880a1402dc0808a118...   \n",
       "3  0x9e6fdebed71edf4ad7d7c8f9ddcef9ff32b3ff8ff311...   \n",
       "4  0x008450825c006c80005360680d01180400843cc52a14...   \n",
       "\n",
       "                                        miner  \\\n",
       "0  0xea674fdde714fd979de3edf0f56aa9716b898ec8   \n",
       "1  0x858fdec2da9fa3cd3d97b8bd1af98e9249d33613   \n",
       "2  0xb2930b35844a230f00e51431acae96fe543a0347   \n",
       "3  0xea674fdde714fd979de3edf0f56aa9716b898ec8   \n",
       "4  0x5a0b54d5dc17e0aadc383d2db43b0a0d3e029c4c   \n",
       "\n",
       "                                             mixHash               nonce  \\\n",
       "0  0x77cc2f77cfe4ef397af9d01f9fe5c1485b066dcd3c95...  0xa133dc8003163fd0   \n",
       "1  0xe34a43adf3eaa477d534aa55d59589389f8f87966fd8...  0xca21a2b0013e4da1   \n",
       "2  0x45149197443b4e9ffac59e3b666def3cf98e434741c8...  0x33d70f080926ba45   \n",
       "3  0xde83e96b4093c9065b836a45dd6be859d875ff305b7c...  0x4131564c4c5e3765   \n",
       "4  0xae46622cef212993736301fe7fb117baeb32455a08b9...  0x511ae9a8042a5f66   \n",
       "\n",
       "     number                                         parentHash  \\\n",
       "0  0x783d35  0x2c58546a79da82e550a50527e8034feebf9e7832d765...   \n",
       "1  0x783d33  0x27a5adab1f9d55d4a8b34b656742123f157d677cf9d5...   \n",
       "2  0x783d2c  0x7e47c74c2d322792fa32e63c3c60f5f8e3a58c9ab9a1...   \n",
       "3  0x783d23  0x0e3a5e074a7e4a01a64c67d9fbeb4b615930f0868640...   \n",
       "4  0x783d22  0xf4c79618f801db4dbaa81e6fd2df8c44d8812e027227...   \n",
       "\n",
       "                                        receiptsRoot  \\\n",
       "0  0xb01119e71467e569a4cb9c9a38232019f741108817fb...   \n",
       "1  0x991bcec040867c56acd26b7f9cff0b744c2e9c982747...   \n",
       "2  0x1f7c53156f1e6750e64e6aac8c7146be92a5d3157b83...   \n",
       "3  0x6036479ec3ecf1fd736c25503bf2915f73029b4c8c72...   \n",
       "4  0x715f34f7593875d7aaa74d77dc9880c4d43540154926...   \n",
       "\n",
       "                                          sha3Uncles   size  \\\n",
       "0  0x1dcc4de8dec75d7aab85b567b6ccd41ad312451b948a...  0x21f   \n",
       "1  0x1dcc4de8dec75d7aab85b567b6ccd41ad312451b948a...  0x228   \n",
       "2  0x1dcc4de8dec75d7aab85b567b6ccd41ad312451b948a...  0x20d   \n",
       "3  0x1dcc4de8dec75d7aab85b567b6ccd41ad312451b948a...  0x21f   \n",
       "4  0x1dcc4de8dec75d7aab85b567b6ccd41ad312451b948a...  0x21e   \n",
       "\n",
       "                                           stateRoot   timestamp  \\\n",
       "0  0x4888e3d10ff7e7456ddbbff8db58dd90b67696f2ec2c...  0x5cf3bb90   \n",
       "1  0xbe00fd9c3e3305bcd687530d0c28e8758d10f90dd3c8...  0x5cf3bb87   \n",
       "2  0x278a5c445ae3b9ecf0daca3681ff204351dbe48a3c51...  0x5cf3bb1e   \n",
       "3  0x7967d2e630dc976f4a27a0dac65e73b22220337f41e5...  0x5cf3baa2   \n",
       "4  0x5d6400178f04f3c49060adac78e82424a78e89d2e236...  0x5cf3ba8e   \n",
       "\n",
       "         totalDifficulty                                   transactionsRoot  \\\n",
       "0  0x236432697c9101a6eeb  0xee981a7ba8b9dda1a3a0686d5414e4882096ecf4d7b9...   \n",
       "1  0x23643178e0029eca9ba  0x87d0c07c7cbf77df489e55f21ed27a02330b39e55340...   \n",
       "2  0x23642e2fb3ec1eb8339  0xda0ae2eae74823e93b5a56577a96e32a30b253c1d52c...   \n",
       "3  0x236429f681506d75b45  0x326ff76c06df94d812319816785140935e527482043a...   \n",
       "4  0x2364297e588f10f2838  0x22836a6e3ecedd8732ebd2f214ffce0d009b19132f54...   \n",
       "\n",
       "  uncles  \n",
       "0     []  \n",
       "1     []  \n",
       "2     []  \n",
       "3     []  \n",
       "4     []  "
      ]
     },
     "execution_count": 3,
     "metadata": {},
     "output_type": "execute_result"
    }
   ],
   "source": [
    "import json\n",
    "import os\n",
    "uncle_df = None\n",
    "\n",
    "for filename in os.listdir(UNCLE_PATH):\n",
    "    if filename.endswith(\".txt\"):\n",
    "        print('loading ', filename)\n",
    "        new_uncles = pd.read_json(UNCLE_PATH + filename, lines=True)\n",
    "        uncle_df = pd.concat([uncle_df, new_uncles], ignore_index=True)\n",
    "\n",
    "print(uncle_df.shape)\n",
    "uncle_df.head()"
   ]
  },
  {
   "cell_type": "markdown",
   "metadata": {},
   "source": [
    "### Load canonical"
   ]
  },
  {
   "cell_type": "code",
   "execution_count": 4,
   "metadata": {},
   "outputs": [
    {
     "name": "stdout",
     "output_type": "stream",
     "text": [
      "loading  7870000.txt\n",
      "loading  7970000.txt\n",
      "loading  7730000.txt\n",
      "loading  7960000.txt\n",
      "loading  7860000.txt\n",
      "loading  7720000.txt\n",
      "loading  7840000.txt\n",
      "loading  7940000.txt\n",
      "loading  7700000.txt\n",
      "loading  7790000.txt\n",
      "loading  7690000.txt\n",
      "loading  7680000.txt\n",
      "loading  7780000.txt\n",
      "loading  7950000.txt\n",
      "loading  7850000.txt\n",
      "loading  7710000.txt\n",
      "loading  7740000.txt\n",
      "loading  7800000.txt\n",
      "loading  7900000.txt\n",
      "loading  7990000.txt\n",
      "loading  7890000.txt\n",
      "loading  7880000.txt\n",
      "loading  7980000.txt\n",
      "loading  8000000.txt\n",
      "loading  7750000.txt\n",
      "loading  7910000.txt\n",
      "loading  7810000.txt\n",
      "loading  7770000.txt\n",
      "loading  7830000.txt\n",
      "loading  7930000.txt\n",
      "loading  7760000.txt\n",
      "loading  7920000.txt\n",
      "loading  7820000.txt\n",
      "(320003, 20)\n"
     ]
    },
    {
     "data": {
      "text/html": [
       "<div>\n",
       "<style scoped>\n",
       "    .dataframe tbody tr th:only-of-type {\n",
       "        vertical-align: middle;\n",
       "    }\n",
       "\n",
       "    .dataframe tbody tr th {\n",
       "        vertical-align: top;\n",
       "    }\n",
       "\n",
       "    .dataframe thead th {\n",
       "        text-align: right;\n",
       "    }\n",
       "</style>\n",
       "<table border=\"1\" class=\"dataframe\">\n",
       "  <thead>\n",
       "    <tr style=\"text-align: right;\">\n",
       "      <th></th>\n",
       "      <th>difficulty</th>\n",
       "      <th>extraData</th>\n",
       "      <th>gasLimit</th>\n",
       "      <th>gasUsed</th>\n",
       "      <th>hash</th>\n",
       "      <th>logsBloom</th>\n",
       "      <th>miner</th>\n",
       "      <th>mixHash</th>\n",
       "      <th>nonce</th>\n",
       "      <th>number</th>\n",
       "      <th>parentHash</th>\n",
       "      <th>receiptsRoot</th>\n",
       "      <th>sha3Uncles</th>\n",
       "      <th>size</th>\n",
       "      <th>stateRoot</th>\n",
       "      <th>timestamp</th>\n",
       "      <th>totalDifficulty</th>\n",
       "      <th>transactions</th>\n",
       "      <th>transactionsRoot</th>\n",
       "      <th>uncles</th>\n",
       "    </tr>\n",
       "  </thead>\n",
       "  <tbody>\n",
       "    <tr>\n",
       "      <th>0</th>\n",
       "      <td>0x7882ec85c1b15</td>\n",
       "      <td>0x5050594520737061726b706f6f6c2d6574682d636e2d...</td>\n",
       "      <td>0x7a212d</td>\n",
       "      <td>0x7a1f00</td>\n",
       "      <td>0x33d7e4ea2214d70fc7f84e72313f303bfbb92792e05f...</td>\n",
       "      <td>0x0841000e00304472001320016012400d249008002a08...</td>\n",
       "      <td>0x5a0b54d5dc17e0aadc383d2db43b0a0d3e029c4c</td>\n",
       "      <td>0xe5b35a2e5bb89d10164b74083f815eb143e1ec2d1d9a...</td>\n",
       "      <td>0x09740b44039c1c70</td>\n",
       "      <td>0x783d3f</td>\n",
       "      <td>0x119c16e6a271071652c416b33d10edb654d287534538...</td>\n",
       "      <td>0x6c1d6ae92a726bd0b80260fa8541b2e757d5c3f532c0...</td>\n",
       "      <td>0x1dcc4de8dec75d7aab85b567b6ccd41ad312451b948a...</td>\n",
       "      <td>0x5254</td>\n",
       "      <td>0x334aa74d9e4c57020bc45618516816a627e6505c22bb...</td>\n",
       "      <td>0x5cf3bc05</td>\n",
       "      <td>0x2364371e4eaf4972778</td>\n",
       "      <td>[0x12f357e7759cf678c487000a08a81d32385892dafd7...</td>\n",
       "      <td>0xe62261509f6f2422af5decc71c2f52d5b9994178b006...</td>\n",
       "      <td>[]</td>\n",
       "    </tr>\n",
       "    <tr>\n",
       "      <th>1</th>\n",
       "      <td>0x7873ddca08705</td>\n",
       "      <td>0x73656f33</td>\n",
       "      <td>0x7a121d</td>\n",
       "      <td>0x798899</td>\n",
       "      <td>0x119c16e6a271071652c416b33d10edb654d287534538...</td>\n",
       "      <td>0xc519004295004440116201208482c02624068684000a...</td>\n",
       "      <td>0xb2930b35844a230f00e51431acae96fe543a0347</td>\n",
       "      <td>0xe1ccb15157946fff8fe46f4ceb1cb0543ccee13aa92b...</td>\n",
       "      <td>0x44d0cb3827b3e546</td>\n",
       "      <td>0x783d3e</td>\n",
       "      <td>0xb43fc96108beb3a7ae1565642135fb16ce091f2f01f4...</td>\n",
       "      <td>0x386da5607029495129baa4b4765fb2b90f70961da0a2...</td>\n",
       "      <td>0x1dcc4de8dec75d7aab85b567b6ccd41ad312451b948a...</td>\n",
       "      <td>0x6a14</td>\n",
       "      <td>0x2757fa5e4ff63dd2027f385c2cde236724d51e8d40e5...</td>\n",
       "      <td>0x5cf3bbfd</td>\n",
       "      <td>0x236436a5cbc2c3b0c63</td>\n",
       "      <td>[0xa49f8ff7cbeb7735ac95660ab9a7049b1ba0e374ee9...</td>\n",
       "      <td>0xa3df984e5b2917367ad7aeffc1f4faa1c4e0356cbcad...</td>\n",
       "      <td>[]</td>\n",
       "    </tr>\n",
       "    <tr>\n",
       "      <th>2</th>\n",
       "      <td>0x7882ede7c568f</td>\n",
       "      <td>0x505059452d65746865726d696e652d6575312d37</td>\n",
       "      <td>0x7a2a4f</td>\n",
       "      <td>0x7a01be</td>\n",
       "      <td>0xb43fc96108beb3a7ae1565642135fb16ce091f2f01f4...</td>\n",
       "      <td>0x8a44b88e00481428386240025009d047a080199f3926...</td>\n",
       "      <td>0xea674fdde714fd979de3edf0f56aa9716b898ec8</td>\n",
       "      <td>0xac35bb304e60cfdc1e44bf008c9c32d228223146de69...</td>\n",
       "      <td>0x14e885b802ce74bf</td>\n",
       "      <td>0x783d3d</td>\n",
       "      <td>0x12a9f67f38b861030e418c79b0ff9682cac2e2876ae9...</td>\n",
       "      <td>0xc7a7f04a723c0068c6e18aadc988880abdd113d7d563...</td>\n",
       "      <td>0x1dcc4de8dec75d7aab85b567b6ccd41ad312451b948a...</td>\n",
       "      <td>0x8199</td>\n",
       "      <td>0x103c58b0bb35053be2a43d5756f659783dd727b56e96...</td>\n",
       "      <td>0x5cf3bbea</td>\n",
       "      <td>0x2364362d57e4f9a855e</td>\n",
       "      <td>[0xad6249c82113f60b54e9b10d2d141485c70b09ae975...</td>\n",
       "      <td>0x699ed9ed94b280eceb64a550c6bbde6dd1e01ca0a224...</td>\n",
       "      <td>[]</td>\n",
       "    </tr>\n",
       "    <tr>\n",
       "      <th>3</th>\n",
       "      <td>0x7873df2bdfed0</td>\n",
       "      <td>0x5050594520737061726b706f6f6c2d6574682d636e2d...</td>\n",
       "      <td>0x7a48e0</td>\n",
       "      <td>0x79ffe5</td>\n",
       "      <td>0x12a9f67f38b861030e418c79b0ff9682cac2e2876ae9...</td>\n",
       "      <td>0x81a6804042080440898a322020236165a29100082213...</td>\n",
       "      <td>0x5a0b54d5dc17e0aadc383d2db43b0a0d3e029c4c</td>\n",
       "      <td>0xdc7afd4017f853d1be822746e7a2ebf3c3892eed5cc2...</td>\n",
       "      <td>0xe8830528000a74bb</td>\n",
       "      <td>0x783d3c</td>\n",
       "      <td>0x4fca8594fa2a6590ad942b4ca83b5c24dcb79db827be...</td>\n",
       "      <td>0x53ddadac317e409cb232917320d7c22d378059b768f1...</td>\n",
       "      <td>0x1dcc4de8dec75d7aab85b567b6ccd41ad312451b948a...</td>\n",
       "      <td>0x7bfc</td>\n",
       "      <td>0xd34390ddb96a99fe23d10b0a82c88eca87c9abfdf4f2...</td>\n",
       "      <td>0x5cf3bbe8</td>\n",
       "      <td>0x236435b4d4f711e2ecf</td>\n",
       "      <td>[0x0085930842e1cb8c860ff7b6f551db90b3ddad3a7ff...</td>\n",
       "      <td>0xcc22d0648fa63425b22f3e8b5e676e0a235c7bebf38d...</td>\n",
       "      <td>[]</td>\n",
       "    </tr>\n",
       "    <tr>\n",
       "      <th>4</th>\n",
       "      <td>0x7892036cbb1bc</td>\n",
       "      <td>0x5050594520737061726b706f6f6c2d6574682d636e2d...</td>\n",
       "      <td>0x7a39ac</td>\n",
       "      <td>0x7a031f</td>\n",
       "      <td>0x4fca8594fa2a6590ad942b4ca83b5c24dcb79db827be...</td>\n",
       "      <td>0xbf70eabb69abcedd7d194f96b5d1f767edf2069b76ba...</td>\n",
       "      <td>0x5a0b54d5dc17e0aadc383d2db43b0a0d3e029c4c</td>\n",
       "      <td>0xe521739e68bb8221de1778626417a7dc3fc0432b2c3b...</td>\n",
       "      <td>0x275da88416e109de</td>\n",
       "      <td>0x783d3b</td>\n",
       "      <td>0x8f51f7733cbea9298fb9ca53e9509c54c35baa85ed1e...</td>\n",
       "      <td>0x0bd89d3c8e0c332b79203202f3e620151f7ba9b9e29a...</td>\n",
       "      <td>0x1dcc4de8dec75d7aab85b567b6ccd41ad312451b948a...</td>\n",
       "      <td>0x9dda</td>\n",
       "      <td>0xd0582975fa92db360a33baaa78c5dec130077b7cc204...</td>\n",
       "      <td>0x5cf3bbc8</td>\n",
       "      <td>0x2364353c6117e602fff</td>\n",
       "      <td>[0x5de139e08822bb2ef34f8a9bb8ae3ea5007f66f24ed...</td>\n",
       "      <td>0x8485469f4b1b34346162be1f43d8f4e201794eb5a492...</td>\n",
       "      <td>[]</td>\n",
       "    </tr>\n",
       "  </tbody>\n",
       "</table>\n",
       "</div>"
      ],
      "text/plain": [
       "        difficulty                                          extraData  \\\n",
       "0  0x7882ec85c1b15  0x5050594520737061726b706f6f6c2d6574682d636e2d...   \n",
       "1  0x7873ddca08705                                         0x73656f33   \n",
       "2  0x7882ede7c568f         0x505059452d65746865726d696e652d6575312d37   \n",
       "3  0x7873df2bdfed0  0x5050594520737061726b706f6f6c2d6574682d636e2d...   \n",
       "4  0x7892036cbb1bc  0x5050594520737061726b706f6f6c2d6574682d636e2d...   \n",
       "\n",
       "   gasLimit   gasUsed                                               hash  \\\n",
       "0  0x7a212d  0x7a1f00  0x33d7e4ea2214d70fc7f84e72313f303bfbb92792e05f...   \n",
       "1  0x7a121d  0x798899  0x119c16e6a271071652c416b33d10edb654d287534538...   \n",
       "2  0x7a2a4f  0x7a01be  0xb43fc96108beb3a7ae1565642135fb16ce091f2f01f4...   \n",
       "3  0x7a48e0  0x79ffe5  0x12a9f67f38b861030e418c79b0ff9682cac2e2876ae9...   \n",
       "4  0x7a39ac  0x7a031f  0x4fca8594fa2a6590ad942b4ca83b5c24dcb79db827be...   \n",
       "\n",
       "                                           logsBloom  \\\n",
       "0  0x0841000e00304472001320016012400d249008002a08...   \n",
       "1  0xc519004295004440116201208482c02624068684000a...   \n",
       "2  0x8a44b88e00481428386240025009d047a080199f3926...   \n",
       "3  0x81a6804042080440898a322020236165a29100082213...   \n",
       "4  0xbf70eabb69abcedd7d194f96b5d1f767edf2069b76ba...   \n",
       "\n",
       "                                        miner  \\\n",
       "0  0x5a0b54d5dc17e0aadc383d2db43b0a0d3e029c4c   \n",
       "1  0xb2930b35844a230f00e51431acae96fe543a0347   \n",
       "2  0xea674fdde714fd979de3edf0f56aa9716b898ec8   \n",
       "3  0x5a0b54d5dc17e0aadc383d2db43b0a0d3e029c4c   \n",
       "4  0x5a0b54d5dc17e0aadc383d2db43b0a0d3e029c4c   \n",
       "\n",
       "                                             mixHash               nonce  \\\n",
       "0  0xe5b35a2e5bb89d10164b74083f815eb143e1ec2d1d9a...  0x09740b44039c1c70   \n",
       "1  0xe1ccb15157946fff8fe46f4ceb1cb0543ccee13aa92b...  0x44d0cb3827b3e546   \n",
       "2  0xac35bb304e60cfdc1e44bf008c9c32d228223146de69...  0x14e885b802ce74bf   \n",
       "3  0xdc7afd4017f853d1be822746e7a2ebf3c3892eed5cc2...  0xe8830528000a74bb   \n",
       "4  0xe521739e68bb8221de1778626417a7dc3fc0432b2c3b...  0x275da88416e109de   \n",
       "\n",
       "     number                                         parentHash  \\\n",
       "0  0x783d3f  0x119c16e6a271071652c416b33d10edb654d287534538...   \n",
       "1  0x783d3e  0xb43fc96108beb3a7ae1565642135fb16ce091f2f01f4...   \n",
       "2  0x783d3d  0x12a9f67f38b861030e418c79b0ff9682cac2e2876ae9...   \n",
       "3  0x783d3c  0x4fca8594fa2a6590ad942b4ca83b5c24dcb79db827be...   \n",
       "4  0x783d3b  0x8f51f7733cbea9298fb9ca53e9509c54c35baa85ed1e...   \n",
       "\n",
       "                                        receiptsRoot  \\\n",
       "0  0x6c1d6ae92a726bd0b80260fa8541b2e757d5c3f532c0...   \n",
       "1  0x386da5607029495129baa4b4765fb2b90f70961da0a2...   \n",
       "2  0xc7a7f04a723c0068c6e18aadc988880abdd113d7d563...   \n",
       "3  0x53ddadac317e409cb232917320d7c22d378059b768f1...   \n",
       "4  0x0bd89d3c8e0c332b79203202f3e620151f7ba9b9e29a...   \n",
       "\n",
       "                                          sha3Uncles    size  \\\n",
       "0  0x1dcc4de8dec75d7aab85b567b6ccd41ad312451b948a...  0x5254   \n",
       "1  0x1dcc4de8dec75d7aab85b567b6ccd41ad312451b948a...  0x6a14   \n",
       "2  0x1dcc4de8dec75d7aab85b567b6ccd41ad312451b948a...  0x8199   \n",
       "3  0x1dcc4de8dec75d7aab85b567b6ccd41ad312451b948a...  0x7bfc   \n",
       "4  0x1dcc4de8dec75d7aab85b567b6ccd41ad312451b948a...  0x9dda   \n",
       "\n",
       "                                           stateRoot   timestamp  \\\n",
       "0  0x334aa74d9e4c57020bc45618516816a627e6505c22bb...  0x5cf3bc05   \n",
       "1  0x2757fa5e4ff63dd2027f385c2cde236724d51e8d40e5...  0x5cf3bbfd   \n",
       "2  0x103c58b0bb35053be2a43d5756f659783dd727b56e96...  0x5cf3bbea   \n",
       "3  0xd34390ddb96a99fe23d10b0a82c88eca87c9abfdf4f2...  0x5cf3bbe8   \n",
       "4  0xd0582975fa92db360a33baaa78c5dec130077b7cc204...  0x5cf3bbc8   \n",
       "\n",
       "         totalDifficulty                                       transactions  \\\n",
       "0  0x2364371e4eaf4972778  [0x12f357e7759cf678c487000a08a81d32385892dafd7...   \n",
       "1  0x236436a5cbc2c3b0c63  [0xa49f8ff7cbeb7735ac95660ab9a7049b1ba0e374ee9...   \n",
       "2  0x2364362d57e4f9a855e  [0xad6249c82113f60b54e9b10d2d141485c70b09ae975...   \n",
       "3  0x236435b4d4f711e2ecf  [0x0085930842e1cb8c860ff7b6f551db90b3ddad3a7ff...   \n",
       "4  0x2364353c6117e602fff  [0x5de139e08822bb2ef34f8a9bb8ae3ea5007f66f24ed...   \n",
       "\n",
       "                                    transactionsRoot uncles  \n",
       "0  0xe62261509f6f2422af5decc71c2f52d5b9994178b006...     []  \n",
       "1  0xa3df984e5b2917367ad7aeffc1f4faa1c4e0356cbcad...     []  \n",
       "2  0x699ed9ed94b280eceb64a550c6bbde6dd1e01ca0a224...     []  \n",
       "3  0xcc22d0648fa63425b22f3e8b5e676e0a235c7bebf38d...     []  \n",
       "4  0x8485469f4b1b34346162be1f43d8f4e201794eb5a492...     []  "
      ]
     },
     "execution_count": 4,
     "metadata": {},
     "output_type": "execute_result"
    }
   ],
   "source": [
    "canonical_df = None\n",
    "\n",
    "for filename in os.listdir(CANONICAL_PATH):\n",
    "    if filename.endswith(\".txt\"):\n",
    "        print('loading ', filename)\n",
    "        new_canonical = pd.read_json(CANONICAL_PATH + filename, lines=True)\n",
    "        canonical_df = pd.concat([canonical_df, new_canonical], ignore_index=True)\n",
    "\n",
    "print(canonical_df.shape)\n",
    "canonical_df.head()"
   ]
  },
  {
   "cell_type": "markdown",
   "metadata": {},
   "source": [
    "### Get uncle columns"
   ]
  },
  {
   "cell_type": "code",
   "execution_count": 5,
   "metadata": {},
   "outputs": [
    {
     "data": {
      "text/plain": [
       "Index(['difficulty', 'extraData', 'gasLimit', 'gasUsed', 'hash', 'logsBloom',\n",
       "       'miner', 'mixHash', 'nonce', 'number', 'parentHash', 'receiptsRoot',\n",
       "       'sha3Uncles', 'size', 'stateRoot', 'timestamp', 'totalDifficulty',\n",
       "       'transactionsRoot', 'uncles'],\n",
       "      dtype='object')"
      ]
     },
     "execution_count": 5,
     "metadata": {},
     "output_type": "execute_result"
    }
   ],
   "source": [
    "uncle_df.columns"
   ]
  },
  {
   "cell_type": "markdown",
   "metadata": {},
   "source": [
    "### Get canonical columns"
   ]
  },
  {
   "cell_type": "code",
   "execution_count": 6,
   "metadata": {},
   "outputs": [
    {
     "data": {
      "text/plain": [
       "Index(['difficulty', 'extraData', 'gasLimit', 'gasUsed', 'hash', 'logsBloom',\n",
       "       'miner', 'mixHash', 'nonce', 'number', 'parentHash', 'receiptsRoot',\n",
       "       'sha3Uncles', 'size', 'stateRoot', 'timestamp', 'totalDifficulty',\n",
       "       'transactions', 'transactionsRoot', 'uncles'],\n",
       "      dtype='object')"
      ]
     },
     "execution_count": 6,
     "metadata": {},
     "output_type": "execute_result"
    }
   ],
   "source": [
    "# canonical_df = pd.read_json(CANONICAL_PATH+'7770000.txt', lines=True)\n",
    "canonical_df.columns"
   ]
  },
  {
   "cell_type": "code",
   "execution_count": 7,
   "metadata": {},
   "outputs": [],
   "source": [
    "uncle_df = uncle_df.drop(columns=['extraData', 'mixHash', 'nonce', \n",
    "                                  'receiptsRoot', 'sha3Uncles', 'stateRoot', 'transactionsRoot'])"
   ]
  },
  {
   "cell_type": "code",
   "execution_count": 8,
   "metadata": {},
   "outputs": [
    {
     "data": {
      "text/plain": [
       "Index(['difficulty', 'gasLimit', 'gasUsed', 'hash', 'logsBloom', 'miner',\n",
       "       'number', 'parentHash', 'size', 'timestamp', 'totalDifficulty',\n",
       "       'uncles'],\n",
       "      dtype='object')"
      ]
     },
     "execution_count": 8,
     "metadata": {},
     "output_type": "execute_result"
    }
   ],
   "source": [
    "uncle_df.columns"
   ]
  },
  {
   "cell_type": "code",
   "execution_count": 9,
   "metadata": {},
   "outputs": [
    {
     "data": {
      "text/plain": [
       "Index(['difficulty', 'gasLimit', 'gasUsed', 'hash', 'logsBloom', 'miner',\n",
       "       'number', 'parentHash', 'size', 'timestamp', 'totalDifficulty',\n",
       "       'uncles'],\n",
       "      dtype='object')"
      ]
     },
     "execution_count": 9,
     "metadata": {},
     "output_type": "execute_result"
    }
   ],
   "source": [
    "canonical_df = canonical_df.drop(columns=['extraData', 'mixHash', 'nonce', \n",
    "                                          'receiptsRoot', 'sha3Uncles', 'stateRoot', \n",
    "                                          'transactions', 'transactionsRoot'])\n",
    "canonical_df.columns"
   ]
  },
  {
   "cell_type": "code",
   "execution_count": null,
   "metadata": {},
   "outputs": [],
   "source": []
  },
  {
   "cell_type": "markdown",
   "metadata": {},
   "source": [
    "##  Step 2: Label canonical as 0 and uncle as 1"
   ]
  },
  {
   "cell_type": "code",
   "execution_count": 10,
   "metadata": {},
   "outputs": [
    {
     "data": {
      "text/html": [
       "<div>\n",
       "<style scoped>\n",
       "    .dataframe tbody tr th:only-of-type {\n",
       "        vertical-align: middle;\n",
       "    }\n",
       "\n",
       "    .dataframe tbody tr th {\n",
       "        vertical-align: top;\n",
       "    }\n",
       "\n",
       "    .dataframe thead th {\n",
       "        text-align: right;\n",
       "    }\n",
       "</style>\n",
       "<table border=\"1\" class=\"dataframe\">\n",
       "  <thead>\n",
       "    <tr style=\"text-align: right;\">\n",
       "      <th></th>\n",
       "      <th>difficulty</th>\n",
       "      <th>gasLimit</th>\n",
       "      <th>gasUsed</th>\n",
       "      <th>hash</th>\n",
       "      <th>logsBloom</th>\n",
       "      <th>miner</th>\n",
       "      <th>number</th>\n",
       "      <th>parentHash</th>\n",
       "      <th>size</th>\n",
       "      <th>timestamp</th>\n",
       "      <th>totalDifficulty</th>\n",
       "      <th>uncles</th>\n",
       "      <th>label</th>\n",
       "    </tr>\n",
       "  </thead>\n",
       "  <tbody>\n",
       "    <tr>\n",
       "      <th>0</th>\n",
       "      <td>0x7882ec85c1b15</td>\n",
       "      <td>0x7a212d</td>\n",
       "      <td>0x7a1f00</td>\n",
       "      <td>0x33d7e4ea2214d70fc7f84e72313f303bfbb92792e05f...</td>\n",
       "      <td>0x0841000e00304472001320016012400d249008002a08...</td>\n",
       "      <td>0x5a0b54d5dc17e0aadc383d2db43b0a0d3e029c4c</td>\n",
       "      <td>0x783d3f</td>\n",
       "      <td>0x119c16e6a271071652c416b33d10edb654d287534538...</td>\n",
       "      <td>0x5254</td>\n",
       "      <td>0x5cf3bc05</td>\n",
       "      <td>0x2364371e4eaf4972778</td>\n",
       "      <td>[]</td>\n",
       "      <td>0</td>\n",
       "    </tr>\n",
       "    <tr>\n",
       "      <th>1</th>\n",
       "      <td>0x7873ddca08705</td>\n",
       "      <td>0x7a121d</td>\n",
       "      <td>0x798899</td>\n",
       "      <td>0x119c16e6a271071652c416b33d10edb654d287534538...</td>\n",
       "      <td>0xc519004295004440116201208482c02624068684000a...</td>\n",
       "      <td>0xb2930b35844a230f00e51431acae96fe543a0347</td>\n",
       "      <td>0x783d3e</td>\n",
       "      <td>0xb43fc96108beb3a7ae1565642135fb16ce091f2f01f4...</td>\n",
       "      <td>0x6a14</td>\n",
       "      <td>0x5cf3bbfd</td>\n",
       "      <td>0x236436a5cbc2c3b0c63</td>\n",
       "      <td>[]</td>\n",
       "      <td>0</td>\n",
       "    </tr>\n",
       "    <tr>\n",
       "      <th>2</th>\n",
       "      <td>0x7882ede7c568f</td>\n",
       "      <td>0x7a2a4f</td>\n",
       "      <td>0x7a01be</td>\n",
       "      <td>0xb43fc96108beb3a7ae1565642135fb16ce091f2f01f4...</td>\n",
       "      <td>0x8a44b88e00481428386240025009d047a080199f3926...</td>\n",
       "      <td>0xea674fdde714fd979de3edf0f56aa9716b898ec8</td>\n",
       "      <td>0x783d3d</td>\n",
       "      <td>0x12a9f67f38b861030e418c79b0ff9682cac2e2876ae9...</td>\n",
       "      <td>0x8199</td>\n",
       "      <td>0x5cf3bbea</td>\n",
       "      <td>0x2364362d57e4f9a855e</td>\n",
       "      <td>[]</td>\n",
       "      <td>0</td>\n",
       "    </tr>\n",
       "    <tr>\n",
       "      <th>3</th>\n",
       "      <td>0x7873df2bdfed0</td>\n",
       "      <td>0x7a48e0</td>\n",
       "      <td>0x79ffe5</td>\n",
       "      <td>0x12a9f67f38b861030e418c79b0ff9682cac2e2876ae9...</td>\n",
       "      <td>0x81a6804042080440898a322020236165a29100082213...</td>\n",
       "      <td>0x5a0b54d5dc17e0aadc383d2db43b0a0d3e029c4c</td>\n",
       "      <td>0x783d3c</td>\n",
       "      <td>0x4fca8594fa2a6590ad942b4ca83b5c24dcb79db827be...</td>\n",
       "      <td>0x7bfc</td>\n",
       "      <td>0x5cf3bbe8</td>\n",
       "      <td>0x236435b4d4f711e2ecf</td>\n",
       "      <td>[]</td>\n",
       "      <td>0</td>\n",
       "    </tr>\n",
       "    <tr>\n",
       "      <th>4</th>\n",
       "      <td>0x7892036cbb1bc</td>\n",
       "      <td>0x7a39ac</td>\n",
       "      <td>0x7a031f</td>\n",
       "      <td>0x4fca8594fa2a6590ad942b4ca83b5c24dcb79db827be...</td>\n",
       "      <td>0xbf70eabb69abcedd7d194f96b5d1f767edf2069b76ba...</td>\n",
       "      <td>0x5a0b54d5dc17e0aadc383d2db43b0a0d3e029c4c</td>\n",
       "      <td>0x783d3b</td>\n",
       "      <td>0x8f51f7733cbea9298fb9ca53e9509c54c35baa85ed1e...</td>\n",
       "      <td>0x9dda</td>\n",
       "      <td>0x5cf3bbc8</td>\n",
       "      <td>0x2364353c6117e602fff</td>\n",
       "      <td>[]</td>\n",
       "      <td>0</td>\n",
       "    </tr>\n",
       "  </tbody>\n",
       "</table>\n",
       "</div>"
      ],
      "text/plain": [
       "        difficulty  gasLimit   gasUsed  \\\n",
       "0  0x7882ec85c1b15  0x7a212d  0x7a1f00   \n",
       "1  0x7873ddca08705  0x7a121d  0x798899   \n",
       "2  0x7882ede7c568f  0x7a2a4f  0x7a01be   \n",
       "3  0x7873df2bdfed0  0x7a48e0  0x79ffe5   \n",
       "4  0x7892036cbb1bc  0x7a39ac  0x7a031f   \n",
       "\n",
       "                                                hash  \\\n",
       "0  0x33d7e4ea2214d70fc7f84e72313f303bfbb92792e05f...   \n",
       "1  0x119c16e6a271071652c416b33d10edb654d287534538...   \n",
       "2  0xb43fc96108beb3a7ae1565642135fb16ce091f2f01f4...   \n",
       "3  0x12a9f67f38b861030e418c79b0ff9682cac2e2876ae9...   \n",
       "4  0x4fca8594fa2a6590ad942b4ca83b5c24dcb79db827be...   \n",
       "\n",
       "                                           logsBloom  \\\n",
       "0  0x0841000e00304472001320016012400d249008002a08...   \n",
       "1  0xc519004295004440116201208482c02624068684000a...   \n",
       "2  0x8a44b88e00481428386240025009d047a080199f3926...   \n",
       "3  0x81a6804042080440898a322020236165a29100082213...   \n",
       "4  0xbf70eabb69abcedd7d194f96b5d1f767edf2069b76ba...   \n",
       "\n",
       "                                        miner    number  \\\n",
       "0  0x5a0b54d5dc17e0aadc383d2db43b0a0d3e029c4c  0x783d3f   \n",
       "1  0xb2930b35844a230f00e51431acae96fe543a0347  0x783d3e   \n",
       "2  0xea674fdde714fd979de3edf0f56aa9716b898ec8  0x783d3d   \n",
       "3  0x5a0b54d5dc17e0aadc383d2db43b0a0d3e029c4c  0x783d3c   \n",
       "4  0x5a0b54d5dc17e0aadc383d2db43b0a0d3e029c4c  0x783d3b   \n",
       "\n",
       "                                          parentHash    size   timestamp  \\\n",
       "0  0x119c16e6a271071652c416b33d10edb654d287534538...  0x5254  0x5cf3bc05   \n",
       "1  0xb43fc96108beb3a7ae1565642135fb16ce091f2f01f4...  0x6a14  0x5cf3bbfd   \n",
       "2  0x12a9f67f38b861030e418c79b0ff9682cac2e2876ae9...  0x8199  0x5cf3bbea   \n",
       "3  0x4fca8594fa2a6590ad942b4ca83b5c24dcb79db827be...  0x7bfc  0x5cf3bbe8   \n",
       "4  0x8f51f7733cbea9298fb9ca53e9509c54c35baa85ed1e...  0x9dda  0x5cf3bbc8   \n",
       "\n",
       "         totalDifficulty uncles  label  \n",
       "0  0x2364371e4eaf4972778     []      0  \n",
       "1  0x236436a5cbc2c3b0c63     []      0  \n",
       "2  0x2364362d57e4f9a855e     []      0  \n",
       "3  0x236435b4d4f711e2ecf     []      0  \n",
       "4  0x2364353c6117e602fff     []      0  "
      ]
     },
     "execution_count": 10,
     "metadata": {},
     "output_type": "execute_result"
    }
   ],
   "source": [
    "canonical_df['label'] = 0\n",
    "canonical_df.head()"
   ]
  },
  {
   "cell_type": "code",
   "execution_count": 11,
   "metadata": {},
   "outputs": [
    {
     "data": {
      "text/html": [
       "<div>\n",
       "<style scoped>\n",
       "    .dataframe tbody tr th:only-of-type {\n",
       "        vertical-align: middle;\n",
       "    }\n",
       "\n",
       "    .dataframe tbody tr th {\n",
       "        vertical-align: top;\n",
       "    }\n",
       "\n",
       "    .dataframe thead th {\n",
       "        text-align: right;\n",
       "    }\n",
       "</style>\n",
       "<table border=\"1\" class=\"dataframe\">\n",
       "  <thead>\n",
       "    <tr style=\"text-align: right;\">\n",
       "      <th></th>\n",
       "      <th>difficulty</th>\n",
       "      <th>gasLimit</th>\n",
       "      <th>gasUsed</th>\n",
       "      <th>hash</th>\n",
       "      <th>logsBloom</th>\n",
       "      <th>miner</th>\n",
       "      <th>number</th>\n",
       "      <th>parentHash</th>\n",
       "      <th>size</th>\n",
       "      <th>timestamp</th>\n",
       "      <th>totalDifficulty</th>\n",
       "      <th>uncles</th>\n",
       "      <th>label</th>\n",
       "    </tr>\n",
       "  </thead>\n",
       "  <tbody>\n",
       "    <tr>\n",
       "      <th>0</th>\n",
       "      <td>0x7855cbbd987dc</td>\n",
       "      <td>0x7a1200</td>\n",
       "      <td>0x7a04d7</td>\n",
       "      <td>0x325b114e997815a6b778e6f8f22316fa40d5641212bf...</td>\n",
       "      <td>0x800440850400a089167a442b1809141c301495891400...</td>\n",
       "      <td>0xea674fdde714fd979de3edf0f56aa9716b898ec8</td>\n",
       "      <td>0x783d35</td>\n",
       "      <td>0x2c58546a79da82e550a50527e8034feebf9e7832d765...</td>\n",
       "      <td>0x21f</td>\n",
       "      <td>0x5cf3bb90</td>\n",
       "      <td>0x236432697c9101a6eeb</td>\n",
       "      <td>[]</td>\n",
       "      <td>1</td>\n",
       "    </tr>\n",
       "    <tr>\n",
       "      <th>1</th>\n",
       "      <td>0x7837bb6dd61a9</td>\n",
       "      <td>0x7a121d</td>\n",
       "      <td>0x793e3c</td>\n",
       "      <td>0xd43965e6cb9d495bee49f4b1bc9721d346ef4fde3857...</td>\n",
       "      <td>0x85c08a8760410c70620a412c232e390ead5800090030...</td>\n",
       "      <td>0x858fdec2da9fa3cd3d97b8bd1af98e9249d33613</td>\n",
       "      <td>0x783d33</td>\n",
       "      <td>0x27a5adab1f9d55d4a8b34b656742123f157d677cf9d5...</td>\n",
       "      <td>0x228</td>\n",
       "      <td>0x5cf3bb87</td>\n",
       "      <td>0x23643178e0029eca9ba</td>\n",
       "      <td>[]</td>\n",
       "      <td>1</td>\n",
       "    </tr>\n",
       "    <tr>\n",
       "      <th>2</th>\n",
       "      <td>0x7837c1312235b</td>\n",
       "      <td>0x7a121d</td>\n",
       "      <td>0x7a0a41</td>\n",
       "      <td>0x352320de85789695a4a24f89f564762442245fb27d33...</td>\n",
       "      <td>0x4500948200000e09120e004001880a1402dc0808a118...</td>\n",
       "      <td>0xb2930b35844a230f00e51431acae96fe543a0347</td>\n",
       "      <td>0x783d2c</td>\n",
       "      <td>0x7e47c74c2d322792fa32e63c3c60f5f8e3a58c9ab9a1...</td>\n",
       "      <td>0x20d</td>\n",
       "      <td>0x5cf3bb1e</td>\n",
       "      <td>0x23642e2fb3ec1eb8339</td>\n",
       "      <td>[]</td>\n",
       "      <td>1</td>\n",
       "    </tr>\n",
       "    <tr>\n",
       "      <th>3</th>\n",
       "      <td>0x7828c15c8330d</td>\n",
       "      <td>0x7a1200</td>\n",
       "      <td>0x7a0a8a</td>\n",
       "      <td>0xa4510244d270c01b91aae3db0d094c86bbdd99ea626f...</td>\n",
       "      <td>0x9e6fdebed71edf4ad7d7c8f9ddcef9ff32b3ff8ff311...</td>\n",
       "      <td>0xea674fdde714fd979de3edf0f56aa9716b898ec8</td>\n",
       "      <td>0x783d23</td>\n",
       "      <td>0x0e3a5e074a7e4a01a64c67d9fbeb4b615930f0868640...</td>\n",
       "      <td>0x21f</td>\n",
       "      <td>0x5cf3baa2</td>\n",
       "      <td>0x236429f681506d75b45</td>\n",
       "      <td>[]</td>\n",
       "      <td>1</td>\n",
       "    </tr>\n",
       "    <tr>\n",
       "      <th>4</th>\n",
       "      <td>0x7837c81585e18</td>\n",
       "      <td>0x7a121d</td>\n",
       "      <td>0x79d270</td>\n",
       "      <td>0x6b705dc6ea86f316849a07ff8dfef96f23d84410c826...</td>\n",
       "      <td>0x008450825c006c80005360680d01180400843cc52a14...</td>\n",
       "      <td>0x5a0b54d5dc17e0aadc383d2db43b0a0d3e029c4c</td>\n",
       "      <td>0x783d22</td>\n",
       "      <td>0xf4c79618f801db4dbaa81e6fd2df8c44d8812e027227...</td>\n",
       "      <td>0x21e</td>\n",
       "      <td>0x5cf3ba8e</td>\n",
       "      <td>0x2364297e588f10f2838</td>\n",
       "      <td>[]</td>\n",
       "      <td>1</td>\n",
       "    </tr>\n",
       "  </tbody>\n",
       "</table>\n",
       "</div>"
      ],
      "text/plain": [
       "        difficulty  gasLimit   gasUsed  \\\n",
       "0  0x7855cbbd987dc  0x7a1200  0x7a04d7   \n",
       "1  0x7837bb6dd61a9  0x7a121d  0x793e3c   \n",
       "2  0x7837c1312235b  0x7a121d  0x7a0a41   \n",
       "3  0x7828c15c8330d  0x7a1200  0x7a0a8a   \n",
       "4  0x7837c81585e18  0x7a121d  0x79d270   \n",
       "\n",
       "                                                hash  \\\n",
       "0  0x325b114e997815a6b778e6f8f22316fa40d5641212bf...   \n",
       "1  0xd43965e6cb9d495bee49f4b1bc9721d346ef4fde3857...   \n",
       "2  0x352320de85789695a4a24f89f564762442245fb27d33...   \n",
       "3  0xa4510244d270c01b91aae3db0d094c86bbdd99ea626f...   \n",
       "4  0x6b705dc6ea86f316849a07ff8dfef96f23d84410c826...   \n",
       "\n",
       "                                           logsBloom  \\\n",
       "0  0x800440850400a089167a442b1809141c301495891400...   \n",
       "1  0x85c08a8760410c70620a412c232e390ead5800090030...   \n",
       "2  0x4500948200000e09120e004001880a1402dc0808a118...   \n",
       "3  0x9e6fdebed71edf4ad7d7c8f9ddcef9ff32b3ff8ff311...   \n",
       "4  0x008450825c006c80005360680d01180400843cc52a14...   \n",
       "\n",
       "                                        miner    number  \\\n",
       "0  0xea674fdde714fd979de3edf0f56aa9716b898ec8  0x783d35   \n",
       "1  0x858fdec2da9fa3cd3d97b8bd1af98e9249d33613  0x783d33   \n",
       "2  0xb2930b35844a230f00e51431acae96fe543a0347  0x783d2c   \n",
       "3  0xea674fdde714fd979de3edf0f56aa9716b898ec8  0x783d23   \n",
       "4  0x5a0b54d5dc17e0aadc383d2db43b0a0d3e029c4c  0x783d22   \n",
       "\n",
       "                                          parentHash   size   timestamp  \\\n",
       "0  0x2c58546a79da82e550a50527e8034feebf9e7832d765...  0x21f  0x5cf3bb90   \n",
       "1  0x27a5adab1f9d55d4a8b34b656742123f157d677cf9d5...  0x228  0x5cf3bb87   \n",
       "2  0x7e47c74c2d322792fa32e63c3c60f5f8e3a58c9ab9a1...  0x20d  0x5cf3bb1e   \n",
       "3  0x0e3a5e074a7e4a01a64c67d9fbeb4b615930f0868640...  0x21f  0x5cf3baa2   \n",
       "4  0xf4c79618f801db4dbaa81e6fd2df8c44d8812e027227...  0x21e  0x5cf3ba8e   \n",
       "\n",
       "         totalDifficulty uncles  label  \n",
       "0  0x236432697c9101a6eeb     []      1  \n",
       "1  0x23643178e0029eca9ba     []      1  \n",
       "2  0x23642e2fb3ec1eb8339     []      1  \n",
       "3  0x236429f681506d75b45     []      1  \n",
       "4  0x2364297e588f10f2838     []      1  "
      ]
     },
     "execution_count": 11,
     "metadata": {},
     "output_type": "execute_result"
    }
   ],
   "source": [
    "uncle_df['label'] = 1\n",
    "uncle_df.head()"
   ]
  },
  {
   "cell_type": "markdown",
   "metadata": {},
   "source": [
    "### Combine them as one dataset"
   ]
  },
  {
   "cell_type": "code",
   "execution_count": 12,
   "metadata": {},
   "outputs": [
    {
     "name": "stdout",
     "output_type": "stream",
     "text": [
      "(17487, 13)\n",
      "(320003, 13)\n",
      "(337490, 13)\n"
     ]
    }
   ],
   "source": [
    "result = pd.concat([uncle_df, canonical_df], ignore_index=True)\n",
    "print(uncle_df.shape)\n",
    "print(canonical_df.shape)\n",
    "print(result.shape)"
   ]
  },
  {
   "cell_type": "code",
   "execution_count": 13,
   "metadata": {},
   "outputs": [
    {
     "name": "stdout",
     "output_type": "stream",
     "text": [
      "327924\n",
      "(337490,)\n"
     ]
    }
   ],
   "source": [
    "temp_set = set()\n",
    "for item in result.logsBloom:\n",
    "    temp_set.add(item)\n",
    "print(len(temp_set))\n",
    "print(result.logsBloom.shape)"
   ]
  },
  {
   "cell_type": "markdown",
   "metadata": {},
   "source": [
    "### Encode LogsBloom"
   ]
  },
  {
   "cell_type": "code",
   "execution_count": 14,
   "metadata": {},
   "outputs": [],
   "source": [
    "from sklearn.preprocessing import LabelEncoder\n",
    "\n",
    "col = result.logsBloom\n",
    "le = LabelEncoder()\n",
    "le.fit(col)\n",
    "encoded_column = le.transform(col)\n",
    "encoded_column\n",
    "result.logsBloom = encoded_column"
   ]
  },
  {
   "cell_type": "markdown",
   "metadata": {},
   "source": [
    "### Encode Miner"
   ]
  },
  {
   "cell_type": "code",
   "execution_count": 15,
   "metadata": {},
   "outputs": [
    {
     "name": "stdout",
     "output_type": "stream",
     "text": [
      "154\n",
      "(337490,)\n"
     ]
    }
   ],
   "source": [
    "temp_set = set()\n",
    "for item in result.miner:\n",
    "    temp_set.add(item)\n",
    "print(len(temp_set))\n",
    "print(result.miner.shape)"
   ]
  },
  {
   "cell_type": "code",
   "execution_count": 16,
   "metadata": {},
   "outputs": [
    {
     "data": {
      "text/html": [
       "<div>\n",
       "<style scoped>\n",
       "    .dataframe tbody tr th:only-of-type {\n",
       "        vertical-align: middle;\n",
       "    }\n",
       "\n",
       "    .dataframe tbody tr th {\n",
       "        vertical-align: top;\n",
       "    }\n",
       "\n",
       "    .dataframe thead th {\n",
       "        text-align: right;\n",
       "    }\n",
       "</style>\n",
       "<table border=\"1\" class=\"dataframe\">\n",
       "  <thead>\n",
       "    <tr style=\"text-align: right;\">\n",
       "      <th></th>\n",
       "      <th>difficulty</th>\n",
       "      <th>gasLimit</th>\n",
       "      <th>gasUsed</th>\n",
       "      <th>hash</th>\n",
       "      <th>logsBloom</th>\n",
       "      <th>miner</th>\n",
       "      <th>number</th>\n",
       "      <th>parentHash</th>\n",
       "      <th>size</th>\n",
       "      <th>timestamp</th>\n",
       "      <th>totalDifficulty</th>\n",
       "      <th>uncles</th>\n",
       "      <th>label</th>\n",
       "    </tr>\n",
       "  </thead>\n",
       "  <tbody>\n",
       "    <tr>\n",
       "      <th>0</th>\n",
       "      <td>0x7855cbbd987dc</td>\n",
       "      <td>0x7a1200</td>\n",
       "      <td>0x7a04d7</td>\n",
       "      <td>0x325b114e997815a6b778e6f8f22316fa40d5641212bf...</td>\n",
       "      <td>217384</td>\n",
       "      <td>141</td>\n",
       "      <td>0x783d35</td>\n",
       "      <td>0x2c58546a79da82e550a50527e8034feebf9e7832d765...</td>\n",
       "      <td>0x21f</td>\n",
       "      <td>0x5cf3bb90</td>\n",
       "      <td>0x236432697c9101a6eeb</td>\n",
       "      <td>[]</td>\n",
       "      <td>1</td>\n",
       "    </tr>\n",
       "    <tr>\n",
       "      <th>1</th>\n",
       "      <td>0x7837bb6dd61a9</td>\n",
       "      <td>0x7a121d</td>\n",
       "      <td>0x793e3c</td>\n",
       "      <td>0xd43965e6cb9d495bee49f4b1bc9721d346ef4fde3857...</td>\n",
       "      <td>242197</td>\n",
       "      <td>84</td>\n",
       "      <td>0x783d33</td>\n",
       "      <td>0x27a5adab1f9d55d4a8b34b656742123f157d677cf9d5...</td>\n",
       "      <td>0x228</td>\n",
       "      <td>0x5cf3bb87</td>\n",
       "      <td>0x23643178e0029eca9ba</td>\n",
       "      <td>[]</td>\n",
       "      <td>1</td>\n",
       "    </tr>\n",
       "    <tr>\n",
       "      <th>2</th>\n",
       "      <td>0x7837c1312235b</td>\n",
       "      <td>0x7a121d</td>\n",
       "      <td>0x7a0a41</td>\n",
       "      <td>0x352320de85789695a4a24f89f564762442245fb27d33...</td>\n",
       "      <td>189347</td>\n",
       "      <td>112</td>\n",
       "      <td>0x783d2c</td>\n",
       "      <td>0x7e47c74c2d322792fa32e63c3c60f5f8e3a58c9ab9a1...</td>\n",
       "      <td>0x20d</td>\n",
       "      <td>0x5cf3bb1e</td>\n",
       "      <td>0x23642e2fb3ec1eb8339</td>\n",
       "      <td>[]</td>\n",
       "      <td>1</td>\n",
       "    </tr>\n",
       "    <tr>\n",
       "      <th>3</th>\n",
       "      <td>0x7828c15c8330d</td>\n",
       "      <td>0x7a1200</td>\n",
       "      <td>0x7a0a8a</td>\n",
       "      <td>0xa4510244d270c01b91aae3db0d094c86bbdd99ea626f...</td>\n",
       "      <td>287311</td>\n",
       "      <td>141</td>\n",
       "      <td>0x783d23</td>\n",
       "      <td>0x0e3a5e074a7e4a01a64c67d9fbeb4b615930f0868640...</td>\n",
       "      <td>0x21f</td>\n",
       "      <td>0x5cf3baa2</td>\n",
       "      <td>0x236429f681506d75b45</td>\n",
       "      <td>[]</td>\n",
       "      <td>1</td>\n",
       "    </tr>\n",
       "    <tr>\n",
       "      <th>4</th>\n",
       "      <td>0x7837c81585e18</td>\n",
       "      <td>0x7a121d</td>\n",
       "      <td>0x79d270</td>\n",
       "      <td>0x6b705dc6ea86f316849a07ff8dfef96f23d84410c826...</td>\n",
       "      <td>36969</td>\n",
       "      <td>63</td>\n",
       "      <td>0x783d22</td>\n",
       "      <td>0xf4c79618f801db4dbaa81e6fd2df8c44d8812e027227...</td>\n",
       "      <td>0x21e</td>\n",
       "      <td>0x5cf3ba8e</td>\n",
       "      <td>0x2364297e588f10f2838</td>\n",
       "      <td>[]</td>\n",
       "      <td>1</td>\n",
       "    </tr>\n",
       "  </tbody>\n",
       "</table>\n",
       "</div>"
      ],
      "text/plain": [
       "        difficulty  gasLimit   gasUsed  \\\n",
       "0  0x7855cbbd987dc  0x7a1200  0x7a04d7   \n",
       "1  0x7837bb6dd61a9  0x7a121d  0x793e3c   \n",
       "2  0x7837c1312235b  0x7a121d  0x7a0a41   \n",
       "3  0x7828c15c8330d  0x7a1200  0x7a0a8a   \n",
       "4  0x7837c81585e18  0x7a121d  0x79d270   \n",
       "\n",
       "                                                hash  logsBloom  miner  \\\n",
       "0  0x325b114e997815a6b778e6f8f22316fa40d5641212bf...     217384    141   \n",
       "1  0xd43965e6cb9d495bee49f4b1bc9721d346ef4fde3857...     242197     84   \n",
       "2  0x352320de85789695a4a24f89f564762442245fb27d33...     189347    112   \n",
       "3  0xa4510244d270c01b91aae3db0d094c86bbdd99ea626f...     287311    141   \n",
       "4  0x6b705dc6ea86f316849a07ff8dfef96f23d84410c826...      36969     63   \n",
       "\n",
       "     number                                         parentHash   size  \\\n",
       "0  0x783d35  0x2c58546a79da82e550a50527e8034feebf9e7832d765...  0x21f   \n",
       "1  0x783d33  0x27a5adab1f9d55d4a8b34b656742123f157d677cf9d5...  0x228   \n",
       "2  0x783d2c  0x7e47c74c2d322792fa32e63c3c60f5f8e3a58c9ab9a1...  0x20d   \n",
       "3  0x783d23  0x0e3a5e074a7e4a01a64c67d9fbeb4b615930f0868640...  0x21f   \n",
       "4  0x783d22  0xf4c79618f801db4dbaa81e6fd2df8c44d8812e027227...  0x21e   \n",
       "\n",
       "    timestamp        totalDifficulty uncles  label  \n",
       "0  0x5cf3bb90  0x236432697c9101a6eeb     []      1  \n",
       "1  0x5cf3bb87  0x23643178e0029eca9ba     []      1  \n",
       "2  0x5cf3bb1e  0x23642e2fb3ec1eb8339     []      1  \n",
       "3  0x5cf3baa2  0x236429f681506d75b45     []      1  \n",
       "4  0x5cf3ba8e  0x2364297e588f10f2838     []      1  "
      ]
     },
     "execution_count": 16,
     "metadata": {},
     "output_type": "execute_result"
    }
   ],
   "source": [
    "col = result.miner\n",
    "le2 = LabelEncoder()\n",
    "le2.fit(col)\n",
    "encoded_column = le2.transform(col)\n",
    "encoded_column\n",
    "result.miner = encoded_column\n",
    "\n",
    "result.head()"
   ]
  },
  {
   "cell_type": "markdown",
   "metadata": {},
   "source": [
    "### Convert None to '0x00' in totalDifficulty column"
   ]
  },
  {
   "cell_type": "code",
   "execution_count": 17,
   "metadata": {},
   "outputs": [],
   "source": [
    "result.totalDifficulty = result.totalDifficulty.fillna(value='0x00')"
   ]
  },
  {
   "cell_type": "markdown",
   "metadata": {},
   "source": [
    "### Convert hex string to int"
   ]
  },
  {
   "cell_type": "code",
   "execution_count": 18,
   "metadata": {},
   "outputs": [
    {
     "data": {
      "text/html": [
       "<div>\n",
       "<style scoped>\n",
       "    .dataframe tbody tr th:only-of-type {\n",
       "        vertical-align: middle;\n",
       "    }\n",
       "\n",
       "    .dataframe tbody tr th {\n",
       "        vertical-align: top;\n",
       "    }\n",
       "\n",
       "    .dataframe thead th {\n",
       "        text-align: right;\n",
       "    }\n",
       "</style>\n",
       "<table border=\"1\" class=\"dataframe\">\n",
       "  <thead>\n",
       "    <tr style=\"text-align: right;\">\n",
       "      <th></th>\n",
       "      <th>difficulty</th>\n",
       "      <th>gasLimit</th>\n",
       "      <th>gasUsed</th>\n",
       "      <th>hash</th>\n",
       "      <th>logsBloom</th>\n",
       "      <th>miner</th>\n",
       "      <th>number</th>\n",
       "      <th>parentHash</th>\n",
       "      <th>size</th>\n",
       "      <th>timestamp</th>\n",
       "      <th>totalDifficulty</th>\n",
       "      <th>uncles</th>\n",
       "      <th>label</th>\n",
       "    </tr>\n",
       "  </thead>\n",
       "  <tbody>\n",
       "    <tr>\n",
       "      <th>0</th>\n",
       "      <td>2116958172055516</td>\n",
       "      <td>8000000</td>\n",
       "      <td>7996631</td>\n",
       "      <td>2277654496078406842419800879324768571310631299...</td>\n",
       "      <td>217384</td>\n",
       "      <td>141</td>\n",
       "      <td>7879989</td>\n",
       "      <td>2005783049664437366640443245627962061072441209...</td>\n",
       "      <td>543</td>\n",
       "      <td>1559477136</td>\n",
       "      <td>10445695867459076779755</td>\n",
       "      <td>0</td>\n",
       "      <td>1</td>\n",
       "    </tr>\n",
       "    <tr>\n",
       "      <th>1</th>\n",
       "      <td>2114892209152425</td>\n",
       "      <td>8000029</td>\n",
       "      <td>7945788</td>\n",
       "      <td>9599173748095670067964893524645081633264088561...</td>\n",
       "      <td>242197</td>\n",
       "      <td>84</td>\n",
       "      <td>7879987</td>\n",
       "      <td>1793292947603410243145149849354696621616042380...</td>\n",
       "      <td>552</td>\n",
       "      <td>1559477127</td>\n",
       "      <td>10445691634575966251450</td>\n",
       "      <td>0</td>\n",
       "      <td>1</td>\n",
       "    </tr>\n",
       "    <tr>\n",
       "      <th>2</th>\n",
       "      <td>2114893756113755</td>\n",
       "      <td>8000029</td>\n",
       "      <td>7998017</td>\n",
       "      <td>2403464747722776134947418223973451490572212990...</td>\n",
       "      <td>189347</td>\n",
       "      <td>112</td>\n",
       "      <td>7879980</td>\n",
       "      <td>5711824056432947377330860751491541998433095512...</td>\n",
       "      <td>525</td>\n",
       "      <td>1559477022</td>\n",
       "      <td>10445676836517806048057</td>\n",
       "      <td>0</td>\n",
       "      <td>1</td>\n",
       "    </tr>\n",
       "    <tr>\n",
       "      <th>3</th>\n",
       "      <td>2113863009448717</td>\n",
       "      <td>8000000</td>\n",
       "      <td>7998090</td>\n",
       "      <td>7432243743883376785445249550379302109315766656...</td>\n",
       "      <td>287311</td>\n",
       "      <td>141</td>\n",
       "      <td>7879971</td>\n",
       "      <td>6435505970644162612191719999884901478123313262...</td>\n",
       "      <td>543</td>\n",
       "      <td>1559476898</td>\n",
       "      <td>10445657815886924831557</td>\n",
       "      <td>0</td>\n",
       "      <td>1</td>\n",
       "    </tr>\n",
       "    <tr>\n",
       "      <th>4</th>\n",
       "      <td>2114895606210072</td>\n",
       "      <td>8000029</td>\n",
       "      <td>7983728</td>\n",
       "      <td>4859600889484296549952294428406045018156100240...</td>\n",
       "      <td>36969</td>\n",
       "      <td>63</td>\n",
       "      <td>7879970</td>\n",
       "      <td>1107169735553168479581484898412392855802376752...</td>\n",
       "      <td>542</td>\n",
       "      <td>1559476878</td>\n",
       "      <td>10445655702023915382840</td>\n",
       "      <td>0</td>\n",
       "      <td>1</td>\n",
       "    </tr>\n",
       "  </tbody>\n",
       "</table>\n",
       "</div>"
      ],
      "text/plain": [
       "         difficulty  gasLimit  gasUsed  \\\n",
       "0  2116958172055516   8000000  7996631   \n",
       "1  2114892209152425   8000029  7945788   \n",
       "2  2114893756113755   8000029  7998017   \n",
       "3  2113863009448717   8000000  7998090   \n",
       "4  2114895606210072   8000029  7983728   \n",
       "\n",
       "                                                hash  logsBloom  miner  \\\n",
       "0  2277654496078406842419800879324768571310631299...     217384    141   \n",
       "1  9599173748095670067964893524645081633264088561...     242197     84   \n",
       "2  2403464747722776134947418223973451490572212990...     189347    112   \n",
       "3  7432243743883376785445249550379302109315766656...     287311    141   \n",
       "4  4859600889484296549952294428406045018156100240...      36969     63   \n",
       "\n",
       "    number                                         parentHash  size  \\\n",
       "0  7879989  2005783049664437366640443245627962061072441209...   543   \n",
       "1  7879987  1793292947603410243145149849354696621616042380...   552   \n",
       "2  7879980  5711824056432947377330860751491541998433095512...   525   \n",
       "3  7879971  6435505970644162612191719999884901478123313262...   543   \n",
       "4  7879970  1107169735553168479581484898412392855802376752...   542   \n",
       "\n",
       "    timestamp          totalDifficulty  uncles  label  \n",
       "0  1559477136  10445695867459076779755       0      1  \n",
       "1  1559477127  10445691634575966251450       0      1  \n",
       "2  1559477022  10445676836517806048057       0      1  \n",
       "3  1559476898  10445657815886924831557       0      1  \n",
       "4  1559476878  10445655702023915382840       0      1  "
      ]
     },
     "execution_count": 18,
     "metadata": {},
     "output_type": "execute_result"
    }
   ],
   "source": [
    "result['difficulty'] = result.difficulty.apply(lambda x: int(x, 16))\n",
    "result['gasLimit'] = result.gasLimit.apply(lambda x: int(x, 16))\n",
    "result['gasUsed'] = result.gasUsed.apply(lambda x: int(x, 16))\n",
    "result['hash'] = result.hash.apply(lambda x: int(x, 16))\n",
    "# result['logsBloom'] = result.logsBloom.apply(lambda x: int(x, 16))\n",
    "# result['miner'] = result.miner.apply(lambda x: int(x, 16))\n",
    "result['number'] = result.number.apply(lambda x: int(x, 16))\n",
    "result['parentHash'] = result.parentHash.apply(lambda x: int(x, 16))\n",
    "result['size'] = result['size'].apply(lambda x: int(x, 16))\n",
    "result['timestamp'] = result.timestamp.apply(lambda x: int(x, 16))\n",
    "# convert timestamp to weekdays \n",
    "# from datetime import datetime, timezone\n",
    "# result['timestamp'] = result.timestamp.apply(lambda x: datetime.fromtimestamp(x, timezone.utc).weekday()+1)\n",
    "# since the feature weekdays will low down the accuracy, I decide to keep original timestamp\n",
    "result['totalDifficulty'] = result.totalDifficulty.apply(lambda x: int(x, 16))\n",
    "# uncle column is converted to number of uncles\n",
    "result.uncles = result.uncles.apply(lambda x: len(x))\n",
    "\n",
    "result.head()"
   ]
  },
  {
   "cell_type": "code",
   "execution_count": 19,
   "metadata": {},
   "outputs": [
    {
     "data": {
      "text/plain": [
       "False"
      ]
     },
     "execution_count": 19,
     "metadata": {},
     "output_type": "execute_result"
    }
   ],
   "source": [
    "result.isnull().values.any()"
   ]
  },
  {
   "cell_type": "markdown",
   "metadata": {},
   "source": [
    "### Drop hash and parent hash"
   ]
  },
  {
   "cell_type": "code",
   "execution_count": 20,
   "metadata": {},
   "outputs": [
    {
     "data": {
      "text/html": [
       "<div>\n",
       "<style scoped>\n",
       "    .dataframe tbody tr th:only-of-type {\n",
       "        vertical-align: middle;\n",
       "    }\n",
       "\n",
       "    .dataframe tbody tr th {\n",
       "        vertical-align: top;\n",
       "    }\n",
       "\n",
       "    .dataframe thead th {\n",
       "        text-align: right;\n",
       "    }\n",
       "</style>\n",
       "<table border=\"1\" class=\"dataframe\">\n",
       "  <thead>\n",
       "    <tr style=\"text-align: right;\">\n",
       "      <th></th>\n",
       "      <th>difficulty</th>\n",
       "      <th>gasLimit</th>\n",
       "      <th>gasUsed</th>\n",
       "      <th>logsBloom</th>\n",
       "      <th>miner</th>\n",
       "      <th>timestamp</th>\n",
       "      <th>totalDifficulty</th>\n",
       "      <th>uncles</th>\n",
       "      <th>label</th>\n",
       "    </tr>\n",
       "  </thead>\n",
       "  <tbody>\n",
       "    <tr>\n",
       "      <th>0</th>\n",
       "      <td>2116958172055516</td>\n",
       "      <td>8000000</td>\n",
       "      <td>7996631</td>\n",
       "      <td>217384</td>\n",
       "      <td>141</td>\n",
       "      <td>1559477136</td>\n",
       "      <td>10445695867459076779755</td>\n",
       "      <td>0</td>\n",
       "      <td>1</td>\n",
       "    </tr>\n",
       "    <tr>\n",
       "      <th>1</th>\n",
       "      <td>2114892209152425</td>\n",
       "      <td>8000029</td>\n",
       "      <td>7945788</td>\n",
       "      <td>242197</td>\n",
       "      <td>84</td>\n",
       "      <td>1559477127</td>\n",
       "      <td>10445691634575966251450</td>\n",
       "      <td>0</td>\n",
       "      <td>1</td>\n",
       "    </tr>\n",
       "    <tr>\n",
       "      <th>2</th>\n",
       "      <td>2114893756113755</td>\n",
       "      <td>8000029</td>\n",
       "      <td>7998017</td>\n",
       "      <td>189347</td>\n",
       "      <td>112</td>\n",
       "      <td>1559477022</td>\n",
       "      <td>10445676836517806048057</td>\n",
       "      <td>0</td>\n",
       "      <td>1</td>\n",
       "    </tr>\n",
       "    <tr>\n",
       "      <th>3</th>\n",
       "      <td>2113863009448717</td>\n",
       "      <td>8000000</td>\n",
       "      <td>7998090</td>\n",
       "      <td>287311</td>\n",
       "      <td>141</td>\n",
       "      <td>1559476898</td>\n",
       "      <td>10445657815886924831557</td>\n",
       "      <td>0</td>\n",
       "      <td>1</td>\n",
       "    </tr>\n",
       "    <tr>\n",
       "      <th>4</th>\n",
       "      <td>2114895606210072</td>\n",
       "      <td>8000029</td>\n",
       "      <td>7983728</td>\n",
       "      <td>36969</td>\n",
       "      <td>63</td>\n",
       "      <td>1559476878</td>\n",
       "      <td>10445655702023915382840</td>\n",
       "      <td>0</td>\n",
       "      <td>1</td>\n",
       "    </tr>\n",
       "  </tbody>\n",
       "</table>\n",
       "</div>"
      ],
      "text/plain": [
       "         difficulty  gasLimit  gasUsed  logsBloom  miner   timestamp  \\\n",
       "0  2116958172055516   8000000  7996631     217384    141  1559477136   \n",
       "1  2114892209152425   8000029  7945788     242197     84  1559477127   \n",
       "2  2114893756113755   8000029  7998017     189347    112  1559477022   \n",
       "3  2113863009448717   8000000  7998090     287311    141  1559476898   \n",
       "4  2114895606210072   8000029  7983728      36969     63  1559476878   \n",
       "\n",
       "           totalDifficulty  uncles  label  \n",
       "0  10445695867459076779755       0      1  \n",
       "1  10445691634575966251450       0      1  \n",
       "2  10445676836517806048057       0      1  \n",
       "3  10445657815886924831557       0      1  \n",
       "4  10445655702023915382840       0      1  "
      ]
     },
     "execution_count": 20,
     "metadata": {},
     "output_type": "execute_result"
    }
   ],
   "source": [
    "new_result = result.drop(columns=['hash', 'parentHash', 'size', 'number'])\n",
    "new_result.head()"
   ]
  },
  {
   "cell_type": "markdown",
   "metadata": {},
   "source": [
    "## Step 3: (Review old code first) Split  training and testing dataset"
   ]
  },
  {
   "cell_type": "code",
   "execution_count": 21,
   "metadata": {},
   "outputs": [],
   "source": [
    "from sklearn.model_selection import train_test_split\n",
    "\n",
    "# result.iloc[:, :-1]\n",
    "# result.iloc[:, -1]\n",
    "X_train, X_test, y_train, y_test = train_test_split(new_result.iloc[:, :-1], new_result.iloc[:, -1], test_size=0.33, random_state=42)\n",
    "\n"
   ]
  },
  {
   "cell_type": "code",
   "execution_count": 22,
   "metadata": {},
   "outputs": [
    {
     "name": "stdout",
     "output_type": "stream",
     "text": [
      "(226118, 8)\n",
      "(226118,)\n",
      "(111372, 8)\n",
      "(111372,)\n"
     ]
    }
   ],
   "source": [
    "print(X_train.shape)\n",
    "print(y_train.shape)\n",
    "print(X_test.shape)\n",
    "print(y_test.shape)"
   ]
  },
  {
   "cell_type": "markdown",
   "metadata": {},
   "source": [
    "## Step 4: Model"
   ]
  },
  {
   "cell_type": "markdown",
   "metadata": {},
   "source": [
    "### Random Forest"
   ]
  },
  {
   "cell_type": "code",
   "execution_count": 23,
   "metadata": {},
   "outputs": [
    {
     "data": {
      "text/plain": [
       "RandomForestClassifier(bootstrap=True, class_weight='balanced',\n",
       "            criterion='gini', max_depth=None, max_features='auto',\n",
       "            max_leaf_nodes=None, min_impurity_decrease=0.0,\n",
       "            min_impurity_split=None, min_samples_leaf=1,\n",
       "            min_samples_split=2, min_weight_fraction_leaf=0.0,\n",
       "            n_estimators=100, n_jobs=None, oob_score=False, random_state=0,\n",
       "            verbose=0, warm_start=False)"
      ]
     },
     "execution_count": 23,
     "metadata": {},
     "output_type": "execute_result"
    }
   ],
   "source": [
    "from sklearn.ensemble import RandomForestClassifier\n",
    "from sklearn.datasets import make_classification\n",
    "\n",
    "clf = RandomForestClassifier(n_estimators=100, random_state=0, class_weight='balanced')\n",
    "clf.fit(X_train, y_train)  "
   ]
  },
  {
   "cell_type": "code",
   "execution_count": 24,
   "metadata": {},
   "outputs": [
    {
     "data": {
      "text/plain": [
       "array([0.17028797, 0.05693799, 0.14540228, 0.14473837, 0.04151848,\n",
       "       0.20315231, 0.201822  , 0.03614061])"
      ]
     },
     "execution_count": 24,
     "metadata": {},
     "output_type": "execute_result"
    }
   ],
   "source": [
    "clf.feature_importances_"
   ]
  },
  {
   "cell_type": "code",
   "execution_count": 25,
   "metadata": {},
   "outputs": [],
   "source": [
    "y_pred = clf.predict(X_test)"
   ]
  },
  {
   "cell_type": "code",
   "execution_count": 26,
   "metadata": {},
   "outputs": [
    {
     "name": "stdout",
     "output_type": "stream",
     "text": [
      "0.9472129440074705\n"
     ]
    },
    {
     "data": {
      "text/plain": [
       "array([[105428,    205],\n",
       "       [  5674,     65]])"
      ]
     },
     "execution_count": 26,
     "metadata": {},
     "output_type": "execute_result"
    }
   ],
   "source": [
    "from sklearn.metrics import accuracy_score\n",
    "from sklearn.metrics import confusion_matrix\n",
    "\n",
    "print(accuracy_score(y_test, y_pred))\n",
    "confusion_matrix(y_test, y_pred)"
   ]
  },
  {
   "cell_type": "markdown",
   "metadata": {},
   "source": [
    "### Logistic Regression"
   ]
  },
  {
   "cell_type": "code",
   "execution_count": 27,
   "metadata": {},
   "outputs": [
    {
     "name": "stdout",
     "output_type": "stream",
     "text": [
      "0.9484699924577092\n"
     ]
    },
    {
     "data": {
      "text/plain": [
       "array([[105633,      0],\n",
       "       [  5739,      0]])"
      ]
     },
     "execution_count": 27,
     "metadata": {},
     "output_type": "execute_result"
    }
   ],
   "source": [
    "from sklearn.linear_model import LogisticRegressionCV\n",
    "\n",
    "clf_lr = LogisticRegressionCV(cv=10, random_state=0, multi_class='auto').fit(X_train, y_train)\n",
    "y_pred = clf_lr.predict(X_test)\n",
    "\n",
    "print(accuracy_score(y_test, y_pred))\n",
    "confusion_matrix(y_test, y_pred)"
   ]
  },
  {
   "cell_type": "code",
   "execution_count": null,
   "metadata": {},
   "outputs": [],
   "source": []
  },
  {
   "cell_type": "markdown",
   "metadata": {},
   "source": [
    "### SVM"
   ]
  },
  {
   "cell_type": "code",
   "execution_count": 28,
   "metadata": {},
   "outputs": [],
   "source": [
    "# from sklearn.svm import SVC\n",
    "\n",
    "# clf = SVC(gamma='auto')\n",
    "# clf.fit(X_train, y_train)\n",
    "# y_pred = clf.predict(X_test)"
   ]
  },
  {
   "cell_type": "code",
   "execution_count": 29,
   "metadata": {},
   "outputs": [],
   "source": [
    "# print(accuracy_score(y_test, y_pred))\n",
    "# confusion_matrix(y_test, y_pred)"
   ]
  },
  {
   "cell_type": "markdown",
   "metadata": {},
   "source": [
    "# Step 5: Analyze features"
   ]
  },
  {
   "cell_type": "code",
   "execution_count": 30,
   "metadata": {},
   "outputs": [],
   "source": [
    "import numpy as np\n",
    "import matplotlib.pyplot as plt"
   ]
  },
  {
   "cell_type": "markdown",
   "metadata": {},
   "source": [
    "### size"
   ]
  },
  {
   "cell_type": "code",
   "execution_count": 31,
   "metadata": {},
   "outputs": [
    {
     "data": {
      "text/plain": [
       "count    17487.000000\n",
       "mean       539.208784\n",
       "std          6.066375\n",
       "min        518.000000\n",
       "25%        537.000000\n",
       "50%        541.000000\n",
       "75%        545.000000\n",
       "max        553.000000\n",
       "Name: size, dtype: float64"
      ]
     },
     "execution_count": 31,
     "metadata": {},
     "output_type": "execute_result"
    }
   ],
   "source": [
    "uncle_size = uncle_df['size'].apply(lambda x: int(x, 16))\n",
    "uncle_size.describe()"
   ]
  },
  {
   "cell_type": "code",
   "execution_count": 32,
   "metadata": {},
   "outputs": [
    {
     "data": {
      "text/plain": [
       "count    320003.000000\n",
       "mean      24397.116396\n",
       "std        9812.148994\n",
       "min         518.000000\n",
       "25%       18087.000000\n",
       "50%       26648.000000\n",
       "75%       31910.000000\n",
       "max      106348.000000\n",
       "Name: size, dtype: float64"
      ]
     },
     "execution_count": 32,
     "metadata": {},
     "output_type": "execute_result"
    }
   ],
   "source": [
    "canonical_size = canonical_df['size'].apply(lambda x: int(x, 16))\n",
    "canonical_size.describe()"
   ]
  },
  {
   "cell_type": "markdown",
   "metadata": {},
   "source": [
    "### miner"
   ]
  },
  {
   "cell_type": "code",
   "execution_count": 33,
   "metadata": {},
   "outputs": [],
   "source": [
    "# dict['miner_addr'] = counter\n",
    "uncle_miner_dict = dict()  \n",
    "canonical_miner_dict = dict()\n",
    "\n",
    "for miner_addr in uncle_df.miner:\n",
    "    if miner_addr in uncle_miner_dict:\n",
    "        uncle_miner_dict[miner_addr] += 1\n",
    "    else:\n",
    "        uncle_miner_dict[miner_addr] = 1\n",
    "\n",
    "for miner_addr in canonical_df.miner:\n",
    "    if miner_addr in canonical_miner_dict:\n",
    "        canonical_miner_dict[miner_addr] += 1\n",
    "    else:\n",
    "        canonical_miner_dict[miner_addr] = 1"
   ]
  },
  {
   "cell_type": "code",
   "execution_count": 34,
   "metadata": {},
   "outputs": [
    {
     "data": {
      "text/plain": [
       "[('0xea674fdde714fd979de3edf0f56aa9716b898ec8', 3376),\n",
       " ('0x5a0b54d5dc17e0aadc383d2db43b0a0d3e029c4c', 3191),\n",
       " ('0x52bc44d5378309ee2abf1539bf71de1b7d7be3b5', 2315),\n",
       " ('0x829bd824b016326a401d083b33d092293333a830', 1979),\n",
       " ('0xb2930b35844a230f00e51431acae96fe543a0347', 1399),\n",
       " ('0x9d6d492bd500da5b33cf95a5d610a73360fcaaa0', 710),\n",
       " ('0xaa5c4244f05c92781c4f259913319d8ba1acf05e', 406),\n",
       " ('0x1b5b5906306c96b842dc03105e3b38636a4eda0b', 400),\n",
       " ('0x2a65aca4d5fc5b5c859090a6c34d164135398226', 340),\n",
       " ('0x04668ec2f57cc15c381b461b9fedab5d451c8f7f', 241),\n",
       " ('0x09ab1303d3ccaf5f018cd511146b07a240c70294', 233),\n",
       " ('0x2a5994b501e6a560e727b6c2de5d856396aadd38', 228),\n",
       " ('0x005e288d713a5fb3d7c9cf1b43810a98688c7223', 215),\n",
       " ('0x84a0d77c693adabe0ebc48f88b3ffff010577051', 211),\n",
       " ('0xd224ca0c819e8e97ba0136b3b95ceff503b79f53', 203),\n",
       " ('0x35f61dfb08ada13eba64bf156b80df3d5b3a738d', 191),\n",
       " ('0x06b8c5883ec71bc3f4b332081519f23834c8706e', 172),\n",
       " ('0x4c549990a7ef3fea8784406c1eecc98bf4211fa5', 151),\n",
       " ('0x9435d50503aee35c8757ae4933f7a0ab56597805', 123),\n",
       " ('0x99c85bb64564d9ef9a99621301f22c9993cb89e3', 117),\n",
       " ('0x6a7a43be33ba930fe58f34e07d0ad6ba7adb9b1f', 96),\n",
       " ('0x464b0b37db1ee1b5fbe27300acfbf172fd5e4f53', 89),\n",
       " ('0x52e44f279f4203dcf680395379e5f9990a69f13c', 83),\n",
       " ('0x00192fb10df37c9fb26829eb2cc623cd1bf599e8', 82),\n",
       " ('0x4bb96091ee9d802ed039c4d1a5f6216f90f81b01', 75),\n",
       " ('0x44fd3ab8381cc3d14afa7c4af7fd13cdc65026e1', 72),\n",
       " ('0xcc22cb1b6625b64e81909456111d76be6158dfbc', 67),\n",
       " ('0xeea5b82b61424df8020f5fedd81767f2d0d25bfb', 64),\n",
       " ('0x858fdec2da9fa3cd3d97b8bd1af98e9249d33613', 61),\n",
       " ('0xa855c20a1351acd2690c716e2709c7dff3978d12', 61),\n",
       " ('0x002e08000acbbae2155fab7ac01929564949070d', 59),\n",
       " ('0x1ca43b645886c98d7eb7d27ec16ea59f509cbe1a', 39),\n",
       " ('0xce742257c4e5ce5422dabdf83a58d994202736ac', 38),\n",
       " ('0xede16675c4aea9b5b92ce1a3750992880d83bb12', 38),\n",
       " ('0xc0fe5c137587fa8ecaa8d0ba2910ee00bab8d7f5', 34),\n",
       " ('0x5be1bfc0b1f01f32178d46abf70bb5ff5c4e425a', 28),\n",
       " ('0xb8c674fa6c1cedaa25ee5679ecf5c3e452a13795', 27),\n",
       " ('0xf35074bbd0a9aee46f4ea137971feec024ab704e', 25),\n",
       " ('0x41c74604182a1531534e6d553b49b1d78e6fa9a2', 25),\n",
       " ('0x2cb463e0803da5f24e96b998c2388567921d1725', 22),\n",
       " ('0x8fce1ef27f3add1411c7a99be402de598ad38389', 21),\n",
       " ('0xd1008015aa0cf2a61493bd19de6c9ca88e934fce', 14),\n",
       " ('0xadf055c6222d75c5f7fe90e021f481e8c55f0afd', 13),\n",
       " ('0x535d56aa2cd8f945f05a6c498ac2e6e0bf7faa61', 13),\n",
       " ('0x06a641f1274fe79624b8484ac59988edc557d834', 12),\n",
       " ('0xd7a15baeb7ea05c9660cbe03fb7999c2c2e57625', 10),\n",
       " ('0x0501b62d81a3f072f1d393d2f74013bab8d36d5c', 10),\n",
       " ('0x11905bd0863ba579023f662d1935e39d0c671933', 9),\n",
       " ('0x6a851246689eb8fc77a9bf68df5860f13f679fa0', 8),\n",
       " ('0x6e8583b7b062b38851e3fc9f09346e920bdfb9d4', 8),\n",
       " ('0x4b38a1f9c1a580fe29f150d738eac85ba52569ad', 7),\n",
       " ('0x497a49648885f7aac3d761817f191ee1afaf399c', 6),\n",
       " ('0x249bdb4499bd7c683664c149276c1d86108e2137', 6),\n",
       " ('0xa3c084ae80a3f03963017669bc696e961d3ae5d5', 6),\n",
       " ('0x433022c4066558e7a32d850f02d2da5ca782174d', 5),\n",
       " ('0x3209e020b641163f5a7418a899c70f09c00bd2ed', 5),\n",
       " ('0xff1b891969773159366ab6310ff63a69ac4acffd', 5),\n",
       " ('0x6c3183792fbb4a4dd276451af6baf5c66d5f5e48', 4),\n",
       " ('0xac4b9729cfb42ec0379db62767e268cb93504d55', 4),\n",
       " ('0x135609342b1233fd80de415827f093f71eb439c2', 3),\n",
       " ('0x1a496ef4a87299c3fa2da155f581242a1d0d40de', 3),\n",
       " ('0xc6b84914dd0e0d64962e2f0d99bcae4e4a2daf8a', 3),\n",
       " ('0x74d5a000983d8c4a37041ad065abc09b5c9fe94d', 2),\n",
       " ('0xe16263ee79b0ee32c242c99f02559e92abaea9eb', 2),\n",
       " ('0xa150d46f386610e7468c8bcdd3a64316e06203e0', 2),\n",
       " ('0x02af4731eb5cc2c218b470e4c22f4661637e4bc0', 2),\n",
       " ('0x7eac6f940a0ea1b2b52932b9ded7b1eb45eda414', 2),\n",
       " ('0xc015dc8b1952dc379b820e0ffd8220ca74566113', 2),\n",
       " ('0xd144e30a0571aaf0d0c050070ac435deba461fab', 2),\n",
       " ('0x0864b3452ee338ab13b59cf9e89bf1cf707972be', 1),\n",
       " ('0xa0871d982f60cc5e8f85f755d5374b16c134d193', 1),\n",
       " ('0xa9a926bed50dc038b20bb20de361e4c35aae51fc', 1),\n",
       " ('0x09224827a1384c3a778a7d48dcfc9d3ef2f4a193', 1),\n",
       " ('0x5af8996e209f1f04daf499da643eb14973d39253', 1),\n",
       " ('0x8bf932fb121c3c278d62ad4d36fad2fc03a14bce', 1),\n",
       " ('0xd5bbb4264b70ca4f58c45d27b9d7e11190754a54', 1),\n",
       " ('0x66faba4315a850f9fe751f8a92e7ad19de0be903', 1),\n",
       " ('0x8aa463112314905620d0b8ce192c2261c282ca1b', 1),\n",
       " ('0x02d480abd11deddcf7477c7194df0f35b0925bd5', 1),\n",
       " ('0xeb29cf9431c59ab5f7ecace5f69cd8a8c2a1efa9', 1),\n",
       " ('0x5b6f235fdd9858cf54d4701dd916fd756872df19', 1)]"
      ]
     },
     "execution_count": 34,
     "metadata": {},
     "output_type": "execute_result"
    }
   ],
   "source": [
    "sorted(uncle_miner_dict.items(), key=lambda kv: kv[1], reverse=True)"
   ]
  },
  {
   "cell_type": "code",
   "execution_count": 35,
   "metadata": {},
   "outputs": [
    {
     "data": {
      "text/plain": [
       "[('0xea674fdde714fd979de3edf0f56aa9716b898ec8', 82725),\n",
       " ('0x5a0b54d5dc17e0aadc383d2db43b0a0d3e029c4c', 77975),\n",
       " ('0x829bd824b016326a401d083b33d092293333a830', 39135),\n",
       " ('0x52bc44d5378309ee2abf1539bf71de1b7d7be3b5', 35953),\n",
       " ('0xb2930b35844a230f00e51431acae96fe543a0347', 17492),\n",
       " ('0xaa5c4244f05c92781c4f259913319d8ba1acf05e', 5215),\n",
       " ('0x2a65aca4d5fc5b5c859090a6c34d164135398226', 5182),\n",
       " ('0x04668ec2f57cc15c381b461b9fedab5d451c8f7f', 4914),\n",
       " ('0x1b5b5906306c96b842dc03105e3b38636a4eda0b', 3968),\n",
       " ('0x005e288d713a5fb3d7c9cf1b43810a98688c7223', 3956),\n",
       " ('0xd224ca0c819e8e97ba0136b3b95ceff503b79f53', 3903),\n",
       " ('0x35f61dfb08ada13eba64bf156b80df3d5b3a738d', 3828),\n",
       " ('0x9d6d492bd500da5b33cf95a5d610a73360fcaaa0', 3654),\n",
       " ('0x2a5994b501e6a560e727b6c2de5d856396aadd38', 3461),\n",
       " ('0x09ab1303d3ccaf5f018cd511146b07a240c70294', 3406),\n",
       " ('0x4c549990a7ef3fea8784406c1eecc98bf4211fa5', 2396),\n",
       " ('0x06b8c5883ec71bc3f4b332081519f23834c8706e', 2387),\n",
       " ('0x52e44f279f4203dcf680395379e5f9990a69f13c', 1792),\n",
       " ('0x6a7a43be33ba930fe58f34e07d0ad6ba7adb9b1f', 1781),\n",
       " ('0x00192fb10df37c9fb26829eb2cc623cd1bf599e8', 1704),\n",
       " ('0x002e08000acbbae2155fab7ac01929564949070d', 1363),\n",
       " ('0x99c85bb64564d9ef9a99621301f22c9993cb89e3', 1274),\n",
       " ('0x464b0b37db1ee1b5fbe27300acfbf172fd5e4f53', 1231),\n",
       " ('0x84a0d77c693adabe0ebc48f88b3ffff010577051', 1197),\n",
       " ('0x4bb96091ee9d802ed039c4d1a5f6216f90f81b01', 1143),\n",
       " ('0x9435d50503aee35c8757ae4933f7a0ab56597805', 1043),\n",
       " ('0x44fd3ab8381cc3d14afa7c4af7fd13cdc65026e1', 989),\n",
       " ('0x858fdec2da9fa3cd3d97b8bd1af98e9249d33613', 583),\n",
       " ('0xede16675c4aea9b5b92ce1a3750992880d83bb12', 575),\n",
       " ('0xa855c20a1351acd2690c716e2709c7dff3978d12', 524),\n",
       " ('0xf35074bbd0a9aee46f4ea137971feec024ab704e', 449),\n",
       " ('0x1ca43b645886c98d7eb7d27ec16ea59f509cbe1a', 439),\n",
       " ('0xeea5b82b61424df8020f5fedd81767f2d0d25bfb', 436),\n",
       " ('0xb8c674fa6c1cedaa25ee5679ecf5c3e452a13795', 410),\n",
       " ('0xcc22cb1b6625b64e81909456111d76be6158dfbc', 381),\n",
       " ('0x41c74604182a1531534e6d553b49b1d78e6fa9a2', 232),\n",
       " ('0x8fce1ef27f3add1411c7a99be402de598ad38389', 226),\n",
       " ('0xadf055c6222d75c5f7fe90e021f481e8c55f0afd', 186),\n",
       " ('0xd1008015aa0cf2a61493bd19de6c9ca88e934fce', 184),\n",
       " ('0x6a851246689eb8fc77a9bf68df5860f13f679fa0', 162),\n",
       " ('0xc0fe5c137587fa8ecaa8d0ba2910ee00bab8d7f5', 148),\n",
       " ('0x6e8583b7b062b38851e3fc9f09346e920bdfb9d4', 147),\n",
       " ('0x497a49648885f7aac3d761817f191ee1afaf399c', 142),\n",
       " ('0xd7a15baeb7ea05c9660cbe03fb7999c2c2e57625', 137),\n",
       " ('0xce742257c4e5ce5422dabdf83a58d994202736ac', 136),\n",
       " ('0x2cb463e0803da5f24e96b998c2388567921d1725', 135),\n",
       " ('0x6c3183792fbb4a4dd276451af6baf5c66d5f5e48', 107),\n",
       " ('0x06a641f1274fe79624b8484ac59988edc557d834', 97),\n",
       " ('0x4b38a1f9c1a580fe29f150d738eac85ba52569ad', 93),\n",
       " ('0x5be1bfc0b1f01f32178d46abf70bb5ff5c4e425a', 83),\n",
       " ('0x433022c4066558e7a32d850f02d2da5ca782174d', 74),\n",
       " ('0xff1b891969773159366ab6310ff63a69ac4acffd', 73),\n",
       " ('0x249bdb4499bd7c683664c149276c1d86108e2137', 68),\n",
       " ('0x535d56aa2cd8f945f05a6c498ac2e6e0bf7faa61', 63),\n",
       " ('0xac4b9729cfb42ec0379db62767e268cb93504d55', 61),\n",
       " ('0x96338149e9f6c262d4cb7aeec1cf4c652079a11c', 58),\n",
       " ('0xd144e30a0571aaf0d0c050070ac435deba461fab', 48),\n",
       " ('0xa3c084ae80a3f03963017669bc696e961d3ae5d5', 45),\n",
       " ('0x11905bd0863ba579023f662d1935e39d0c671933', 44),\n",
       " ('0xa150d46f386610e7468c8bcdd3a64316e06203e0', 31),\n",
       " ('0x0501b62d81a3f072f1d393d2f74013bab8d36d5c', 29),\n",
       " ('0x1a496ef4a87299c3fa2da155f581242a1d0d40de', 29),\n",
       " ('0x3209e020b641163f5a7418a899c70f09c00bd2ed', 28),\n",
       " ('0x6f24d7fc7fb17d051c25be5da1af150077d60fc1', 28),\n",
       " ('0x74d5a000983d8c4a37041ad065abc09b5c9fe94d', 23),\n",
       " ('0x135609342b1233fd80de415827f093f71eb439c2', 20),\n",
       " ('0xc015dc8b1952dc379b820e0ffd8220ca74566113', 20),\n",
       " ('0x5b6f235fdd9858cf54d4701dd916fd756872df19', 18),\n",
       " ('0x1230bda14820afca3a65a55d428ffe00257e9633', 13),\n",
       " ('0xf616d8d43635098d7a145d8bc5418d95d6a3d8c0', 12),\n",
       " ('0xd0db3c9cf4029bac5a9ed216cd174cba5dbf047c', 11),\n",
       " ('0x70aec4b9cffa7b55c0711b82dd719049d615e21d', 9),\n",
       " ('0xf3a71cc1be5ce833c471e3f25aa391f9cd56e1aa', 8),\n",
       " ('0x825a97b927e2cc770b1c0fd3341aab150fbf23a5', 7),\n",
       " ('0xac34420c1a657273bba4927be3f2552a082ca918', 7),\n",
       " ('0x0399560f1e952fd3452a6812b716a0c502bf0bcb', 6),\n",
       " ('0xf84720b18c73150aab13f73f96af0dd9a83f4709', 5),\n",
       " ('0x000b800ab6000bc8e5c02423723bbb168720530a', 5),\n",
       " ('0x2a98776c7e13ed1c240858bd241dcf95fc1928b4', 4),\n",
       " ('0xc6b84914dd0e0d64962e2f0d99bcae4e4a2daf8a', 4),\n",
       " ('0x5af8996e209f1f04daf499da643eb14973d39253', 3),\n",
       " ('0xe16263ee79b0ee32c242c99f02559e92abaea9eb', 2),\n",
       " ('0x4c6f258d5374351b5b09d7ee71d6d1a4bf11b9d1', 2),\n",
       " ('0x8aa463112314905620d0b8ce192c2261c282ca1b', 2),\n",
       " ('0x27a7aad104b418f0d7821339ef30a4fde1d6cf93', 1),\n",
       " ('0xdf78b2e254b45c1ef20074bec0fa6c4efc8e94f0', 1),\n",
       " ('0x50a54c7cb00ef3e41de63d8cbb59f81a2fd785dd', 1),\n",
       " ('0x46d9e203f9eadb2289e2b270ebce693ebaeea928', 1),\n",
       " ('0x8f889a8ad67d1aaffb96cf0d745a8412b2e85c24', 1),\n",
       " ('0x0646eb8b5ec11e3aec2964faa667857f38183ee5', 1),\n",
       " ('0x01f7d914ef73aba2e26e935f08245bc8c4ea609e', 1),\n",
       " ('0x02af4731eb5cc2c218b470e4c22f4661637e4bc0', 1),\n",
       " ('0xa9a926bed50dc038b20bb20de361e4c35aae51fc', 1),\n",
       " ('0x3740659dcec7f049be0b2289b255f4e94ae3446e', 1),\n",
       " ('0xb5c01b102da4a74f716294357193e56c14975dc5', 1),\n",
       " ('0xa3950087c00f18727d6acd55f007a427a16715c1', 1),\n",
       " ('0x0fa5827f43de43ee3763c68ea6ba3d80b81306f4', 1),\n",
       " ('0xcedbf9a60216916e33a317fbe67230ee13693c6d', 1),\n",
       " ('0x2e43e4cae69b63996f301274654f487f85ad4e8a', 1),\n",
       " ('0x0be84857a069192fee67a70aa3529c2ba430a544', 1),\n",
       " ('0xadd60e0c86555d753136f12cfcb5df96d5fd1b5b', 1),\n",
       " ('0xd664f0f9a273b15d1b4b6b2485bab59fce85a457', 1),\n",
       " ('0x40ed50b5037072287f71e9d5afdd9a8c380fd9e4', 1),\n",
       " ('0x97aa1d071aa4e7eb2b4950965c22974e4898004c', 1),\n",
       " ('0xb5cbaf6009ecfd3ff01186cf0523f54e3808bbe5', 1),\n",
       " ('0x542de1dd9d8e073965993923280ef7ec230ae461', 1),\n",
       " ('0x1438635db4f7192eb12dfd85847d2bbcc92b69f3', 1),\n",
       " ('0xd7bfbea3a675b9d5a474c52c07573de107a54a0e', 1),\n",
       " ('0x19c29c8290876799a19b689d0d9e1b096d6af152', 1),\n",
       " ('0xd5bbb4264b70ca4f58c45d27b9d7e11190754a54', 1),\n",
       " ('0xc67c0a651c8e8f05129b1dce66cbd862a4c75a01', 1),\n",
       " ('0xeb70819c9479950b780544f5e5f208f50c95bdfd', 1),\n",
       " ('0x39b27bdcd3ef64317b90c080dba23a655509e013', 1),\n",
       " ('0xa6b24182da177d4be273bc8c073bd398c92890bc', 1),\n",
       " ('0x4881ed8ef5836a5ef688ff71a10ce945d60ce07d', 1),\n",
       " ('0x2d13482705e7ec95cd291c75dfedb2d18ffa833f', 1),\n",
       " ('0xdea83e44886e4aaeee0b79b724189d547f9af2a3', 1),\n",
       " ('0xd3c85877f7931889ae999a57f5ae41f847611c68', 1),\n",
       " ('0x7eac6f940a0ea1b2b52932b9ded7b1eb45eda414', 1),\n",
       " ('0x2d7823510e2a995678fa0f268d4723a01eee1b28', 1),\n",
       " ('0x821219a753a0dfd7719e769d076d4b221c23fe1d', 1),\n",
       " ('0xfbe46b203b8dcf2a598a0f329e7cfa72fae371ab', 1),\n",
       " ('0x0075bef33bb3ead4cb81cec39b804aa2f41bb062', 1),\n",
       " ('0x2cfcc05302e57258cd515fe13c9e62de2d9fe835', 1),\n",
       " ('0x5816a66cc51569a77591fca7b218f55b38e8a1db', 1),\n",
       " ('0x54d5262f7cfab2a42e8fc66500209e84b7d1e917', 1),\n",
       " ('0xd39428d0d41cae1eb30de8c36af4c5708ace3586', 1),\n",
       " ('0x02703eab1e2d99cfa790ee010d6926dbc07d8111', 1),\n",
       " ('0xfa3c9c784f3afaee5521a8cfdbc90f129144b923', 1),\n",
       " ('0xbf114d74f0db625bffeac794463448fe835de87d', 1),\n",
       " ('0xaaab158c5e65c6b7c4a68cb0a41dd5c879d089ba', 1),\n",
       " ('0xdf2a8c2d5f7eb0c9431022b88c4d5e6178a902c2', 1),\n",
       " ('0x74edad0d3f2666a95f592b4b0f82ccd249de4837', 1),\n",
       " ('0x6420b119615f5ccba2b241863172da379f07e43d', 1),\n",
       " ('0xea7beb3751cc31c6056eee110b2d26cbd0666d9f', 1),\n",
       " ('0x442b83491d06e2ec9f785750a59760de4a3c320c', 1),\n",
       " ('0x8e3f692c2bbed0c0c65e13c1f097a04670104dbd', 1),\n",
       " ('0x02d480abd11deddcf7477c7194df0f35b0925bd5', 1),\n",
       " ('0xcee368f2ad9fcbc00f75e0220a86e1520ddd862f', 1),\n",
       " ('0xa3567419a688a892d81828e1143b60633babe842', 1),\n",
       " ('0x5d971a660c7dff0a1d80ff252affe85145c462b1', 1),\n",
       " ('0x9adea40fd3d01ff946bf9cb7ad5b5ee8a281653b', 1),\n",
       " ('0x6aa4165ce235623586dc521977e21bec491e5b80', 1),\n",
       " ('0xa14254ddc00ea87bb2cc7825bc62c640b614617b', 1),\n",
       " ('0xcd64f5e1c95d5eeb2ba86b9e4ee4e5bb993d8309', 1),\n",
       " ('0x24edbf0915ffe0dcea0067ae0202967856212ba9', 1),\n",
       " ('0xa3cf0f7cee23e40ad9ad69a37161f3fca2f110b4', 1),\n",
       " ('0xc86f9ce115e3b3d1480481922c3c9b7a41795e2e', 1)]"
      ]
     },
     "execution_count": 35,
     "metadata": {},
     "output_type": "execute_result"
    }
   ],
   "source": [
    "sorted(canonical_miner_dict.items(), key=lambda kv: kv[1], reverse=True)"
   ]
  },
  {
   "cell_type": "code",
   "execution_count": 36,
   "metadata": {},
   "outputs": [],
   "source": [
    "# performance = canonical / (canonical + uncle)\n",
    "# assuming we have only canonical and uncle, in fact, we don't\n",
    "# miner_performance_dict = dict()  # dict[miner_addr] = performance\n",
    "# for miner_addr, c_block_number in canonical_miner_dict.iter:\n",
    "    "
   ]
  },
  {
   "cell_type": "code",
   "execution_count": null,
   "metadata": {},
   "outputs": [],
   "source": []
  },
  {
   "cell_type": "markdown",
   "metadata": {},
   "source": [
    "### totalDifficulty"
   ]
  },
  {
   "cell_type": "code",
   "execution_count": 37,
   "metadata": {},
   "outputs": [],
   "source": [
    "from sklearn.linear_model import LogisticRegressionCV\n",
    "\n",
    "clf = LogisticRegressionCV(cv=5, random_state=0, class_weight='balanced').fit(X_train, y_train)"
   ]
  },
  {
   "cell_type": "code",
   "execution_count": 38,
   "metadata": {},
   "outputs": [],
   "source": [
    "y_pred = clf.predict(X_test)"
   ]
  },
  {
   "cell_type": "code",
   "execution_count": 39,
   "metadata": {},
   "outputs": [
    {
     "data": {
      "text/plain": [
       "0.5792389469525554"
      ]
     },
     "execution_count": 39,
     "metadata": {},
     "output_type": "execute_result"
    }
   ],
   "source": [
    "accuracy_score(y_test, y_pred)"
   ]
  },
  {
   "cell_type": "code",
   "execution_count": 40,
   "metadata": {},
   "outputs": [
    {
     "data": {
      "text/plain": [
       "array([[ 1.04477542e-15, -1.10787870e-25,  7.48970688e-24,\n",
       "         7.66793050e-26, -1.17598895e-28,  9.64389644e-25,\n",
       "        -2.05202296e-22, -2.73680485e-30]])"
      ]
     },
     "execution_count": 40,
     "metadata": {},
     "output_type": "execute_result"
    }
   ],
   "source": [
    "clf.coef_"
   ]
  },
  {
   "cell_type": "code",
   "execution_count": 41,
   "metadata": {},
   "outputs": [
    {
     "data": {
      "text/plain": [
       "0         10445695867459076779755\n",
       "1         10445691634575966251450\n",
       "2         10445676836517806048057\n",
       "3         10445657815886924831557\n",
       "4         10445655702023915382840\n",
       "5         10445647245537868885851\n",
       "6         10445634573701983916366\n",
       "7         10445630353191047017922\n",
       "8         10445571158572024452497\n",
       "9         10445547861364166188304\n",
       "10        10445526665581088969972\n",
       "11        10445480058554219282769\n",
       "12        10445452576768979525423\n",
       "13        10445361434595751673513\n",
       "14        10445323297222568089449\n",
       "15        10445253471571394933609\n",
       "16        10445228194070845537719\n",
       "17        10445221864630298014788\n",
       "18        10445188068275334189037\n",
       "19        10445154213868609807847\n",
       "20        10445126728135841731963\n",
       "21        10445046391766828398793\n",
       "22        10445018785676307664785\n",
       "23        10445001774285257524846\n",
       "24        10445001775325073236525\n",
       "25        10444972011569748113189\n",
       "26        10444965646807369081060\n",
       "27        10444967768049675959969\n",
       "28        10444920995774057180098\n",
       "29        10444886988259976124710\n",
       "                   ...           \n",
       "337460    10321135844561280895769\n",
       "337461    10321133859329154541756\n",
       "337462    10321131874097095296607\n",
       "337463    10321129889833981633790\n",
       "337464    10321127906539340666246\n",
       "337465    10321125923244766807566\n",
       "337466    10321123938981381451620\n",
       "337467    10321121956653929856486\n",
       "337468    10321119974326545370216\n",
       "337469    10321117988119918174070\n",
       "337470    10321116002882712191271\n",
       "337471    10321114016675745696978\n",
       "337472    10321112030468846311549\n",
       "337473    10321110045231368272307\n",
       "337474    10321108059993957341929\n",
       "337475    10321106074756613520415\n",
       "337476    10321104088549509120070\n",
       "337477    10321102102342471828589\n",
       "337478    10321100117104855950599\n",
       "337479    10321098131867307181473\n",
       "337480    10321096146629825521211\n",
       "337481    10321094161392410969813\n",
       "337482    10321092176155063527279\n",
       "337483    10321090191886664247944\n",
       "337484    10321088208586740243490\n",
       "337485    10321086224318002128118\n",
       "337486    10321084240049331121610\n",
       "337487    10321082254811372752106\n",
       "337488    10321080270542362843960\n",
       "337489    10321078287241828508708\n",
       "Name: totalDifficulty, Length: 337490, dtype: object"
      ]
     },
     "execution_count": 41,
     "metadata": {},
     "output_type": "execute_result"
    }
   ],
   "source": [
    "result.totalDifficulty"
   ]
  },
  {
   "cell_type": "code",
   "execution_count": 42,
   "metadata": {},
   "outputs": [
    {
     "data": {
      "text/plain": [
       "(0.007267064485941385, 2.4240157838801862e-05)"
      ]
     },
     "execution_count": 42,
     "metadata": {},
     "output_type": "execute_result"
    }
   ],
   "source": [
    "from scipy import stats\n",
    "\n",
    "stats.pearsonr(result.totalDifficulty.to_numpy(), result.label.to_numpy())"
   ]
  },
  {
   "cell_type": "code",
   "execution_count": 43,
   "metadata": {},
   "outputs": [
    {
     "data": {
      "text/plain": [
       "(0.107506919434723, 0.0)"
      ]
     },
     "execution_count": 43,
     "metadata": {},
     "output_type": "execute_result"
    }
   ],
   "source": [
    "stats.pearsonr(result.timestamp.to_numpy(), result.label.to_numpy())"
   ]
  },
  {
   "cell_type": "code",
   "execution_count": 44,
   "metadata": {},
   "outputs": [
    {
     "data": {
      "text/plain": [
       "(0.09199386398927425, 0.0)"
      ]
     },
     "execution_count": 44,
     "metadata": {},
     "output_type": "execute_result"
    }
   ],
   "source": [
    "stats.pearsonr(result.difficulty.to_numpy(), result.label.to_numpy())"
   ]
  },
  {
   "cell_type": "code",
   "execution_count": 45,
   "metadata": {},
   "outputs": [
    {
     "data": {
      "text/plain": [
       "(-0.0053483326262579334, 0.001889547455124729)"
      ]
     },
     "execution_count": 45,
     "metadata": {},
     "output_type": "execute_result"
    }
   ],
   "source": [
    "stats.pearsonr(result.gasLimit.to_numpy(), result.label.to_numpy())"
   ]
  },
  {
   "cell_type": "code",
   "execution_count": 46,
   "metadata": {},
   "outputs": [
    {
     "data": {
      "text/plain": [
       "(0.02354203706692282, 1.3679869829191916e-42)"
      ]
     },
     "execution_count": 46,
     "metadata": {},
     "output_type": "execute_result"
    }
   ],
   "source": [
    "stats.pearsonr(result.gasUsed.to_numpy(), result.label.to_numpy())"
   ]
  },
  {
   "cell_type": "code",
   "execution_count": 47,
   "metadata": {},
   "outputs": [
    {
     "data": {
      "text/plain": [
       "(0.002791804468461945, 0.10483226632717986)"
      ]
     },
     "execution_count": 47,
     "metadata": {},
     "output_type": "execute_result"
    }
   ],
   "source": [
    "stats.pearsonr(result.logsBloom.to_numpy(), result.label.to_numpy())"
   ]
  },
  {
   "cell_type": "code",
   "execution_count": 48,
   "metadata": {},
   "outputs": [
    {
     "data": {
      "text/plain": [
       "(-0.014583546384780549, 2.4004051385675564e-17)"
      ]
     },
     "execution_count": 48,
     "metadata": {},
     "output_type": "execute_result"
    }
   ],
   "source": [
    "stats.pearsonr(result.miner.to_numpy(), result.label.to_numpy())"
   ]
  },
  {
   "cell_type": "code",
   "execution_count": 49,
   "metadata": {},
   "outputs": [
    {
     "data": {
      "text/plain": [
       "(-0.06129441618652026, 3.169155760044931e-278)"
      ]
     },
     "execution_count": 49,
     "metadata": {},
     "output_type": "execute_result"
    }
   ],
   "source": [
    "stats.pearsonr(result.uncles.to_numpy(), result.label.to_numpy())"
   ]
  },
  {
   "cell_type": "code",
   "execution_count": null,
   "metadata": {},
   "outputs": [],
   "source": []
  },
  {
   "cell_type": "code",
   "execution_count": null,
   "metadata": {},
   "outputs": [],
   "source": []
  },
  {
   "cell_type": "code",
   "execution_count": null,
   "metadata": {},
   "outputs": [],
   "source": []
  }
 ],
 "metadata": {
  "kernelspec": {
   "display_name": "Python 3",
   "language": "python",
   "name": "python3"
  },
  "language_info": {
   "codemirror_mode": {
    "name": "ipython",
    "version": 3
   },
   "file_extension": ".py",
   "mimetype": "text/x-python",
   "name": "python",
   "nbconvert_exporter": "python",
   "pygments_lexer": "ipython3",
   "version": "3.6.8"
  }
 },
 "nbformat": 4,
 "nbformat_minor": 2
}
