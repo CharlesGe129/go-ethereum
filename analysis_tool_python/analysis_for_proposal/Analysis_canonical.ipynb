{
 "cells": [
  {
   "cell_type": "markdown",
   "metadata": {},
   "source": [
    "# Project Structure  "
   ]
  },
  {
   "cell_type": "markdown",
   "metadata": {},
   "source": [
    "## Step 0: Load Datasets\n",
    "## Non Canonical\n",
    "- ### Load Broadcast Ali\n",
    "- ### Load Broadcast AWS\n",
    "- ### Load Uncles\n",
    "- ### Load Forked\n",
    "\n",
    "## Canonical\n",
    "- ### Load Canonical"
   ]
  },
  {
   "cell_type": "markdown",
   "metadata": {},
   "source": [
    "## Step 1: Basic Analysis\n",
    "- ### Analyse basic status of the broadcast dataset\n",
    "- ### Collect all zero gasUsed blocks from broadcast"
   ]
  },
  {
   "cell_type": "markdown",
   "metadata": {},
   "source": [
    "## Step 2: Clean and Prepare Data\n",
    "- ### Delete broadcast blocks who are out of the canonical time range\n",
    "- ### Get broadcast between canonical starting and ending time period\n",
    "- ### Analyze blocks' uncle numbers and we think we need a further discussion on that if this factor should be saved.\n",
    "- ### Keep four dfs in same columns\n",
    "- ### Label canonical as 0 and others as 1\n",
    "- ### Combine dataframes as one dataset"
   ]
  },
  {
   "cell_type": "markdown",
   "metadata": {},
   "source": [
    "## Step 3: Apply Models\n",
    "- ### Random Forest\n",
    "- ### Logistic Regression\n",
    "- ### K fold Cross Validation\n",
    "- ### Logistic Regression with Cross Validation"
   ]
  },
  {
   "cell_type": "markdown",
   "metadata": {},
   "source": [
    "## Step 4: Analyze Features\n",
    "- ### size\n",
    "- ### miner\n",
    "- ### Analyze relationship between factors and the corresponding value"
   ]
  },
  {
   "cell_type": "code",
   "execution_count": 4,
   "metadata": {},
   "outputs": [],
   "source": [
    "import pandas as pd\n",
    "import json\n",
    "import configparser\n",
    "import numpy as np\n",
    "import os"
   ]
  },
  {
   "cell_type": "code",
   "execution_count": 67,
   "metadata": {},
   "outputs": [],
   "source": [
    "config_path = '/Users/Jinyue/Documents/go-ethereum/analysis_tool_python/env.conf'\n",
    "# config_path = '/Users/charlesge/go/src/github.com/ethereum/go-ethereum/analysis_tool_python/env.conf'\n",
    "config = configparser.ConfigParser()\n",
    "config.read(config_path)\n",
    "\n",
    "# we use json paths in this project\n",
    "UNCLE_PATH = '/Users/Jinyue/Documents/go-ethereum/analysis_tool_python/analysis_for_proposal/feature_json/uncle/'\n",
    "CANONICAL_PATH = '/Users/Jinyue/Documents/go-ethereum/analysis_tool_python/analysis_for_proposal/feature_json/canonical/'\n",
    "FORKED_PATH = '/Users/Jinyue/Documents/go-ethereum/analysis_tool_python/analysis_for_proposal/feature_json/forked/'\n",
    "BROADCAST_ALI_PATH = config.get('broadcast_ali', 'json_path')\n",
    "BROADCAST_AWS_PATH = config.get('broadcast_aws', 'json_path')\n",
    "\n",
    "BROADCAST_PATH = '/Users/Jinyue/Documents/go-ethereum/analysis_tool_python/analysis_for_proposal/feature_json/broadcast/'"
   ]
  },
  {
   "cell_type": "markdown",
   "metadata": {},
   "source": [
    "## Step  0: Load Datasets"
   ]
  },
  {
   "cell_type": "markdown",
   "metadata": {},
   "source": [
    "### Load Broadcast"
   ]
  },
  {
   "cell_type": "code",
   "execution_count": 68,
   "metadata": {},
   "outputs": [
    {
     "name": "stdout",
     "output_type": "stream",
     "text": [
      "loading  0.txt\n",
      "loading  40000.txt\n",
      "loading  6090000.txt\n",
      "loading  6120000.txt\n",
      "loading  6130000.txt\n",
      "loading  6170000.txt\n",
      "loading  6200000.txt\n",
      "loading  6210000.txt\n",
      "loading  6220000.txt\n",
      "loading  6230000.txt\n",
      "loading  6240000.txt\n",
      "loading  6260000.txt\n",
      "loading  6270000.txt\n",
      "loading  6280000.txt\n",
      "loading  6310000.txt\n",
      "loading  8110000.txt\n",
      "loading  8120000.txt\n",
      "loading  8130000.txt\n",
      "loading  8140000.txt\n",
      "loading  8150000.txt\n",
      "loading  8160000.txt\n",
      "loading  8170000.txt\n",
      "loading  8180000.txt\n",
      "loading  8190000.txt\n",
      "loading  8200000.txt\n",
      "loading  8210000.txt\n",
      "loading  8240000.txt\n",
      "loading  8250000.txt\n",
      "loading  8260000.txt\n",
      "loading  8270000.txt\n",
      "loading  8280000.txt\n",
      "loading  8290000.txt\n",
      "loading  8310000.txt\n",
      "loading  8320000.txt\n",
      "loading  8330000.txt\n",
      "loading  8340000.txt\n",
      "loading  8350000.txt\n",
      "loading  8360000.txt\n",
      "loading  8370000.txt\n",
      "loading  8380000.txt\n",
      "loading  8390000.txt\n",
      "loading  8400000.txt\n",
      "loading  8410000.txt\n",
      "loading  8420000.txt\n",
      "loading  8430000.txt\n",
      "loading  8440000.txt\n",
      "loading  8450000.txt\n",
      "loading  8460000.txt\n",
      "loading  8470000.txt\n",
      "loading  8480000.txt\n",
      "loading  8490000.txt\n",
      "loading  8500000.txt\n",
      "loading  8510000.txt\n",
      "loading  8520000.txt\n",
      "loading  8530000.txt\n",
      "loading  8540000.txt\n",
      "loading  8550000.txt\n",
      "loading  8560000.txt\n",
      "loading  8570000.txt\n",
      "loading  8580000.txt\n",
      "loading  8590000.txt\n",
      "loading  8600000.txt\n",
      "loading  8610000.txt\n",
      "loading  8620000.txt\n",
      "loading  8630000.txt\n",
      "loading  8640000.txt\n",
      "loading  8650000.txt\n",
      "loading  8660000.txt\n",
      "loading  8670000.txt\n",
      "loading  8680000.txt\n",
      "loading  8690000.txt\n",
      "loading  8700000.txt\n",
      "loading  8710000.txt\n",
      "loading  8720000.txt\n",
      "loading  8730000.txt\n",
      "loading  8740000.txt\n",
      "loading  8750000.txt\n",
      "loading  8760000.txt\n",
      "loading  8770000.txt\n",
      "loading  8780000.txt\n",
      "loading  8790000.txt\n",
      "loading  8800000.txt\n",
      "loading  8810000.txt\n",
      "loading  8820000.txt\n",
      "loading  8830000.txt\n",
      "loading  8840000.txt\n",
      "loading  8850000.txt\n",
      "loading  8860000.txt\n",
      "loading  8870000.txt\n",
      "loading  8880000.txt\n",
      "loading  8890000.txt\n",
      "loading  8900000.txt\n",
      "loading  8910000.txt\n",
      "loading  8920000.txt\n",
      "loading  8930000.txt\n",
      "loading  8940000.txt\n",
      "loading  8950000.txt\n",
      "loading  8960000.txt\n",
      "loading  8970000.txt\n",
      "loading  8980000.txt\n",
      "loading  8990000.txt\n",
      "(404880, 10)\n"
     ]
    },
    {
     "data": {
      "text/html": [
       "<div>\n",
       "<style scoped>\n",
       "    .dataframe tbody tr th:only-of-type {\n",
       "        vertical-align: middle;\n",
       "    }\n",
       "\n",
       "    .dataframe tbody tr th {\n",
       "        vertical-align: top;\n",
       "    }\n",
       "\n",
       "    .dataframe thead th {\n",
       "        text-align: right;\n",
       "    }\n",
       "</style>\n",
       "<table border=\"1\" class=\"dataframe\">\n",
       "  <thead>\n",
       "    <tr style=\"text-align: right;\">\n",
       "      <th></th>\n",
       "      <th>difficulty</th>\n",
       "      <th>gasLimit</th>\n",
       "      <th>gasUsed</th>\n",
       "      <th>hash</th>\n",
       "      <th>miner</th>\n",
       "      <th>number</th>\n",
       "      <th>size</th>\n",
       "      <th>timestamp</th>\n",
       "      <th>txNum</th>\n",
       "      <th>uncleNum</th>\n",
       "    </tr>\n",
       "  </thead>\n",
       "  <tbody>\n",
       "    <tr>\n",
       "      <th>0</th>\n",
       "      <td>16971378211</td>\n",
       "      <td>5075</td>\n",
       "      <td>0</td>\n",
       "      <td>0x05b9a338eff90e6dba91dabf47e2ac84fad93baaa8a5...</td>\n",
       "      <td>0x093A0Ed738B65ed34f2A37a2D44c5e3Cd0D0DD45</td>\n",
       "      <td>25</td>\n",
       "      <td>0x10c8</td>\n",
       "      <td>0.0</td>\n",
       "      <td>0</td>\n",
       "      <td>0</td>\n",
       "    </tr>\n",
       "    <tr>\n",
       "      <th>1</th>\n",
       "      <td>17171480576</td>\n",
       "      <td>5003</td>\n",
       "      <td>0</td>\n",
       "      <td>0x700aadd703c81b067d39422f793f2d694afbfd72156a...</td>\n",
       "      <td>0x0A0393d4f9988126EEEc6d2B47c816e633a20C22</td>\n",
       "      <td>1</td>\n",
       "      <td>0x10d8</td>\n",
       "      <td>0.0</td>\n",
       "      <td>0</td>\n",
       "      <td>0</td>\n",
       "    </tr>\n",
       "    <tr>\n",
       "      <th>2</th>\n",
       "      <td>17163096064</td>\n",
       "      <td>5000</td>\n",
       "      <td>0</td>\n",
       "      <td>0xb495a1d7e6663152ae92708da4843337b958146015a2...</td>\n",
       "      <td>0xdd2F1e6e498202e86D8f5442Af596580A4f03c2C</td>\n",
       "      <td>2</td>\n",
       "      <td>0x1100</td>\n",
       "      <td>0.0</td>\n",
       "      <td>0</td>\n",
       "      <td>0</td>\n",
       "    </tr>\n",
       "    <tr>\n",
       "      <th>3</th>\n",
       "      <td>17154715646</td>\n",
       "      <td>5009</td>\n",
       "      <td>0</td>\n",
       "      <td>0x43be5526c636c00c391fd0a3ac635e0f2568a10102c5...</td>\n",
       "      <td>0x41F872e72813b24C2986aed888e76638264de0b9</td>\n",
       "      <td>3</td>\n",
       "      <td>0x10c8</td>\n",
       "      <td>0.0</td>\n",
       "      <td>0</td>\n",
       "      <td>0</td>\n",
       "    </tr>\n",
       "    <tr>\n",
       "      <th>4</th>\n",
       "      <td>1378675664031</td>\n",
       "      <td>0x13c1</td>\n",
       "      <td>0x0</td>\n",
       "      <td>0x6657c87909f45c0b7654cf02982b14a355075bc9f25d...</td>\n",
       "      <td>0x5928E011c3B8fc8bEf32d5B86A19F2A54c5BE654</td>\n",
       "      <td>41915</td>\n",
       "      <td>0x10c8</td>\n",
       "      <td>0.0</td>\n",
       "      <td>0</td>\n",
       "      <td>0</td>\n",
       "    </tr>\n",
       "  </tbody>\n",
       "</table>\n",
       "</div>"
      ],
      "text/plain": [
       "      difficulty gasLimit gasUsed  \\\n",
       "0    16971378211     5075       0   \n",
       "1    17171480576     5003       0   \n",
       "2    17163096064     5000       0   \n",
       "3    17154715646     5009       0   \n",
       "4  1378675664031   0x13c1     0x0   \n",
       "\n",
       "                                                hash  \\\n",
       "0  0x05b9a338eff90e6dba91dabf47e2ac84fad93baaa8a5...   \n",
       "1  0x700aadd703c81b067d39422f793f2d694afbfd72156a...   \n",
       "2  0xb495a1d7e6663152ae92708da4843337b958146015a2...   \n",
       "3  0x43be5526c636c00c391fd0a3ac635e0f2568a10102c5...   \n",
       "4  0x6657c87909f45c0b7654cf02982b14a355075bc9f25d...   \n",
       "\n",
       "                                        miner number    size  timestamp txNum  \\\n",
       "0  0x093A0Ed738B65ed34f2A37a2D44c5e3Cd0D0DD45     25  0x10c8        0.0     0   \n",
       "1  0x0A0393d4f9988126EEEc6d2B47c816e633a20C22      1  0x10d8        0.0     0   \n",
       "2  0xdd2F1e6e498202e86D8f5442Af596580A4f03c2C      2  0x1100        0.0     0   \n",
       "3  0x41F872e72813b24C2986aed888e76638264de0b9      3  0x10c8        0.0     0   \n",
       "4  0x5928E011c3B8fc8bEf32d5B86A19F2A54c5BE654  41915  0x10c8        0.0     0   \n",
       "\n",
       "  uncleNum  \n",
       "0        0  \n",
       "1        0  \n",
       "2        0  \n",
       "3        0  \n",
       "4        0  "
      ]
     },
     "execution_count": 68,
     "metadata": {},
     "output_type": "execute_result"
    }
   ],
   "source": [
    "\n",
    "broadcast_df = None\n",
    "\n",
    "for filename in sorted(os.listdir(BROADCAST_PATH)):\n",
    "    if filename.endswith(\".txt\"):\n",
    "        print('loading ', filename)\n",
    "        new_broadcast = pd.read_json(BROADCAST_PATH + filename, lines=True, dtype=False)\n",
    "        broadcast_df = pd.concat([broadcast_df, new_broadcast], ignore_index=True)\n",
    "\n",
    "print(broadcast_df.shape)\n",
    "broadcast_df.head()"
   ]
  },
  {
   "cell_type": "markdown",
   "metadata": {},
   "source": [
    "### Load Uncles"
   ]
  },
  {
   "cell_type": "code",
   "execution_count": 69,
   "metadata": {},
   "outputs": [
    {
     "name": "stdout",
     "output_type": "stream",
     "text": [
      "loading  7200000.txt\n",
      "loading  7210000.txt\n",
      "loading  7220000.txt\n",
      "loading  7230000.txt\n",
      "loading  7240000.txt\n",
      "loading  7250000.txt\n",
      "loading  7260000.txt\n",
      "loading  7270000.txt\n",
      "loading  7280000.txt\n",
      "loading  7290000.txt\n",
      "loading  7300000.txt\n",
      "loading  7310000.txt\n",
      "loading  7320000.txt\n",
      "loading  7330000.txt\n",
      "loading  7340000.txt\n",
      "loading  7350000.txt\n",
      "loading  7360000.txt\n",
      "loading  7370000.txt\n",
      "loading  7380000.txt\n",
      "loading  7390000.txt\n",
      "loading  7400000.txt\n",
      "loading  7410000.txt\n",
      "loading  7420000.txt\n",
      "loading  7430000.txt\n",
      "loading  7440000.txt\n",
      "loading  7450000.txt\n",
      "loading  7460000.txt\n",
      "loading  7470000.txt\n",
      "loading  7480000.txt\n",
      "loading  7490000.txt\n",
      "loading  7500000.txt\n",
      "loading  7510000.txt\n",
      "loading  7520000.txt\n",
      "loading  7530000.txt\n",
      "loading  7540000.txt\n",
      "loading  7550000.txt\n",
      "loading  7560000.txt\n",
      "loading  7570000.txt\n",
      "loading  7580000.txt\n",
      "loading  7590000.txt\n",
      "loading  7600000.txt\n",
      "loading  7610000.txt\n",
      "loading  7620000.txt\n",
      "loading  7630000.txt\n",
      "loading  7640000.txt\n",
      "loading  7650000.txt\n",
      "loading  7660000.txt\n",
      "loading  7670000.txt\n",
      "loading  7680000.txt\n",
      "loading  7690000.txt\n",
      "loading  7700000.txt\n",
      "loading  7710000.txt\n",
      "loading  7720000.txt\n",
      "loading  7730000.txt\n",
      "loading  7740000.txt\n",
      "loading  7750000.txt\n",
      "loading  7760000.txt\n",
      "loading  7770000.txt\n",
      "loading  7780000.txt\n",
      "loading  7790000.txt\n",
      "loading  7800000.txt\n",
      "loading  7810000.txt\n",
      "loading  7820000.txt\n",
      "loading  7830000.txt\n",
      "loading  7840000.txt\n",
      "loading  7850000.txt\n",
      "loading  7860000.txt\n",
      "loading  7870000.txt\n",
      "loading  7880000.txt\n",
      "loading  7890000.txt\n",
      "loading  7900000.txt\n",
      "loading  7910000.txt\n",
      "loading  7920000.txt\n",
      "loading  7930000.txt\n",
      "loading  7940000.txt\n",
      "loading  7950000.txt\n",
      "loading  7960000.txt\n",
      "loading  7970000.txt\n",
      "loading  7980000.txt\n",
      "loading  7990000.txt\n",
      "(58346, 10)\n"
     ]
    },
    {
     "data": {
      "text/html": [
       "<div>\n",
       "<style scoped>\n",
       "    .dataframe tbody tr th:only-of-type {\n",
       "        vertical-align: middle;\n",
       "    }\n",
       "\n",
       "    .dataframe tbody tr th {\n",
       "        vertical-align: top;\n",
       "    }\n",
       "\n",
       "    .dataframe thead th {\n",
       "        text-align: right;\n",
       "    }\n",
       "</style>\n",
       "<table border=\"1\" class=\"dataframe\">\n",
       "  <thead>\n",
       "    <tr style=\"text-align: right;\">\n",
       "      <th></th>\n",
       "      <th>difficulty</th>\n",
       "      <th>gasLimit</th>\n",
       "      <th>gasUsed</th>\n",
       "      <th>hash</th>\n",
       "      <th>miner</th>\n",
       "      <th>number</th>\n",
       "      <th>size</th>\n",
       "      <th>timestamp</th>\n",
       "      <th>txNum</th>\n",
       "      <th>uncleNum</th>\n",
       "    </tr>\n",
       "  </thead>\n",
       "  <tbody>\n",
       "    <tr>\n",
       "      <th>0</th>\n",
       "      <td>0x8886feaa77f19</td>\n",
       "      <td>7992222</td>\n",
       "      <td>5902995</td>\n",
       "      <td>0x26e21747dfd05acbb0db763447dc730dd1d20ddb70a6...</td>\n",
       "      <td>0xcc16e3c00dbbe76603fa833ec20a48f786dfe610</td>\n",
       "      <td>7200009</td>\n",
       "      <td>521</td>\n",
       "      <td>0.0</td>\n",
       "      <td>0</td>\n",
       "      <td>0</td>\n",
       "    </tr>\n",
       "    <tr>\n",
       "      <th>1</th>\n",
       "      <td>0x88cd0ecd9f73e</td>\n",
       "      <td>8000029</td>\n",
       "      <td>7994199</td>\n",
       "      <td>0x4e440909390986585b35a53b31d285c95899710b9ba6...</td>\n",
       "      <td>0x5a0b54d5dc17e0aadc383d2db43b0a0d3e029c4c</td>\n",
       "      <td>7200023</td>\n",
       "      <td>541</td>\n",
       "      <td>0.0</td>\n",
       "      <td>0</td>\n",
       "      <td>0</td>\n",
       "    </tr>\n",
       "    <tr>\n",
       "      <th>2</th>\n",
       "      <td>0x895a97bdabd2c</td>\n",
       "      <td>8000029</td>\n",
       "      <td>5743895</td>\n",
       "      <td>0x1e48f03f15d604bcecade135e218821d8d3c243f7a6a...</td>\n",
       "      <td>0xea674fdde714fd979de3edf0f56aa9716b898ec8</td>\n",
       "      <td>7200034</td>\n",
       "      <td>538</td>\n",
       "      <td>0.0</td>\n",
       "      <td>0</td>\n",
       "      <td>0</td>\n",
       "    </tr>\n",
       "    <tr>\n",
       "      <th>3</th>\n",
       "      <td>0x8a7418c515067</td>\n",
       "      <td>8000025</td>\n",
       "      <td>7980364</td>\n",
       "      <td>0x8d9a618adde95515b851c248d8a94b73e766af5ea184...</td>\n",
       "      <td>0x829bd824b016326a401d083b33d092293333a830</td>\n",
       "      <td>7200072</td>\n",
       "      <td>540</td>\n",
       "      <td>0.0</td>\n",
       "      <td>0</td>\n",
       "      <td>0</td>\n",
       "    </tr>\n",
       "    <tr>\n",
       "      <th>4</th>\n",
       "      <td>0x8ae6afe6cb82d</td>\n",
       "      <td>8007811</td>\n",
       "      <td>8003275</td>\n",
       "      <td>0xea126eb6612905daeb5241d7222ce28b236f4dfb25c6...</td>\n",
       "      <td>0x829bd824b016326a401d083b33d092293333a830</td>\n",
       "      <td>7200090</td>\n",
       "      <td>536</td>\n",
       "      <td>0.0</td>\n",
       "      <td>0</td>\n",
       "      <td>0</td>\n",
       "    </tr>\n",
       "  </tbody>\n",
       "</table>\n",
       "</div>"
      ],
      "text/plain": [
       "        difficulty  gasLimit  gasUsed  \\\n",
       "0  0x8886feaa77f19   7992222  5902995   \n",
       "1  0x88cd0ecd9f73e   8000029  7994199   \n",
       "2  0x895a97bdabd2c   8000029  5743895   \n",
       "3  0x8a7418c515067   8000025  7980364   \n",
       "4  0x8ae6afe6cb82d   8007811  8003275   \n",
       "\n",
       "                                                hash  \\\n",
       "0  0x26e21747dfd05acbb0db763447dc730dd1d20ddb70a6...   \n",
       "1  0x4e440909390986585b35a53b31d285c95899710b9ba6...   \n",
       "2  0x1e48f03f15d604bcecade135e218821d8d3c243f7a6a...   \n",
       "3  0x8d9a618adde95515b851c248d8a94b73e766af5ea184...   \n",
       "4  0xea126eb6612905daeb5241d7222ce28b236f4dfb25c6...   \n",
       "\n",
       "                                        miner   number  size  timestamp  \\\n",
       "0  0xcc16e3c00dbbe76603fa833ec20a48f786dfe610  7200009   521        0.0   \n",
       "1  0x5a0b54d5dc17e0aadc383d2db43b0a0d3e029c4c  7200023   541        0.0   \n",
       "2  0xea674fdde714fd979de3edf0f56aa9716b898ec8  7200034   538        0.0   \n",
       "3  0x829bd824b016326a401d083b33d092293333a830  7200072   540        0.0   \n",
       "4  0x829bd824b016326a401d083b33d092293333a830  7200090   536        0.0   \n",
       "\n",
       "   txNum  uncleNum  \n",
       "0      0         0  \n",
       "1      0         0  \n",
       "2      0         0  \n",
       "3      0         0  \n",
       "4      0         0  "
      ]
     },
     "execution_count": 69,
     "metadata": {},
     "output_type": "execute_result"
    }
   ],
   "source": [
    "\n",
    "uncle_df = None\n",
    "\n",
    "for filename in sorted(os.listdir(UNCLE_PATH)):\n",
    "    if filename.endswith(\".txt\"):\n",
    "        print('loading ', filename)\n",
    "        new_uncles = pd.read_json(UNCLE_PATH + filename, lines=True)\n",
    "        uncle_df = pd.concat([uncle_df, new_uncles], ignore_index=True)\n",
    "\n",
    "print(uncle_df.shape)\n",
    "uncle_df.head()"
   ]
  },
  {
   "cell_type": "markdown",
   "metadata": {},
   "source": [
    "### Load Forked"
   ]
  },
  {
   "cell_type": "code",
   "execution_count": 70,
   "metadata": {},
   "outputs": [
    {
     "name": "stdout",
     "output_type": "stream",
     "text": [
      "loading  /Users/Jinyue/Documents/go-ethereum/analysis_tool_python/analysis_for_proposal/feature_json/forked/2110000.txt\n",
      "loading  /Users/Jinyue/Documents/go-ethereum/analysis_tool_python/analysis_for_proposal/feature_json/forked/2120000.txt\n",
      "loading  /Users/Jinyue/Documents/go-ethereum/analysis_tool_python/analysis_for_proposal/feature_json/forked/2130000.txt\n",
      "loading  /Users/Jinyue/Documents/go-ethereum/analysis_tool_python/analysis_for_proposal/feature_json/forked/2140000.txt\n",
      "loading  /Users/Jinyue/Documents/go-ethereum/analysis_tool_python/analysis_for_proposal/feature_json/forked/2150000.txt\n",
      "loading  /Users/Jinyue/Documents/go-ethereum/analysis_tool_python/analysis_for_proposal/feature_json/forked/2160000.txt\n",
      "loading  /Users/Jinyue/Documents/go-ethereum/analysis_tool_python/analysis_for_proposal/feature_json/forked/2170000.txt\n",
      "loading  /Users/Jinyue/Documents/go-ethereum/analysis_tool_python/analysis_for_proposal/feature_json/forked/2180000.txt\n",
      "loading  /Users/Jinyue/Documents/go-ethereum/analysis_tool_python/analysis_for_proposal/feature_json/forked/2190000.txt\n",
      "loading  /Users/Jinyue/Documents/go-ethereum/analysis_tool_python/analysis_for_proposal/feature_json/forked/2200000.txt\n",
      "loading  /Users/Jinyue/Documents/go-ethereum/analysis_tool_python/analysis_for_proposal/feature_json/forked/2210000.txt\n",
      "loading  /Users/Jinyue/Documents/go-ethereum/analysis_tool_python/analysis_for_proposal/feature_json/forked/2220000.txt\n",
      "loading  /Users/Jinyue/Documents/go-ethereum/analysis_tool_python/analysis_for_proposal/feature_json/forked/2230000.txt\n",
      "loading  /Users/Jinyue/Documents/go-ethereum/analysis_tool_python/analysis_for_proposal/feature_json/forked/2240000.txt\n",
      "loading  /Users/Jinyue/Documents/go-ethereum/analysis_tool_python/analysis_for_proposal/feature_json/forked/2250000.txt\n",
      "loading  /Users/Jinyue/Documents/go-ethereum/analysis_tool_python/analysis_for_proposal/feature_json/forked/2260000.txt\n",
      "loading  /Users/Jinyue/Documents/go-ethereum/analysis_tool_python/analysis_for_proposal/feature_json/forked/2270000.txt\n",
      "loading  /Users/Jinyue/Documents/go-ethereum/analysis_tool_python/analysis_for_proposal/feature_json/forked/2280000.txt\n",
      "loading  /Users/Jinyue/Documents/go-ethereum/analysis_tool_python/analysis_for_proposal/feature_json/forked/2290000.txt\n",
      "loading  /Users/Jinyue/Documents/go-ethereum/analysis_tool_python/analysis_for_proposal/feature_json/forked/2300000.txt\n",
      "loading  /Users/Jinyue/Documents/go-ethereum/analysis_tool_python/analysis_for_proposal/feature_json/forked/2310000.txt\n",
      "loading  /Users/Jinyue/Documents/go-ethereum/analysis_tool_python/analysis_for_proposal/feature_json/forked/2320000.txt\n",
      "loading  /Users/Jinyue/Documents/go-ethereum/analysis_tool_python/analysis_for_proposal/feature_json/forked/2330000.txt\n",
      "loading  /Users/Jinyue/Documents/go-ethereum/analysis_tool_python/analysis_for_proposal/feature_json/forked/2340000.txt\n",
      "loading  /Users/Jinyue/Documents/go-ethereum/analysis_tool_python/analysis_for_proposal/feature_json/forked/2350000.txt\n",
      "loading  /Users/Jinyue/Documents/go-ethereum/analysis_tool_python/analysis_for_proposal/feature_json/forked/2360000.txt\n",
      "loading  /Users/Jinyue/Documents/go-ethereum/analysis_tool_python/analysis_for_proposal/feature_json/forked/2370000.txt\n",
      "loading  /Users/Jinyue/Documents/go-ethereum/analysis_tool_python/analysis_for_proposal/feature_json/forked/2380000.txt\n",
      "loading  /Users/Jinyue/Documents/go-ethereum/analysis_tool_python/analysis_for_proposal/feature_json/forked/2390000.txt\n",
      "loading  /Users/Jinyue/Documents/go-ethereum/analysis_tool_python/analysis_for_proposal/feature_json/forked/2400000.txt\n",
      "loading  /Users/Jinyue/Documents/go-ethereum/analysis_tool_python/analysis_for_proposal/feature_json/forked/2410000.txt\n",
      "loading  /Users/Jinyue/Documents/go-ethereum/analysis_tool_python/analysis_for_proposal/feature_json/forked/2420000.txt\n",
      "loading  /Users/Jinyue/Documents/go-ethereum/analysis_tool_python/analysis_for_proposal/feature_json/forked/2430000.txt\n",
      "loading  /Users/Jinyue/Documents/go-ethereum/analysis_tool_python/analysis_for_proposal/feature_json/forked/2440000.txt\n",
      "loading  /Users/Jinyue/Documents/go-ethereum/analysis_tool_python/analysis_for_proposal/feature_json/forked/2450000.txt\n",
      "loading  /Users/Jinyue/Documents/go-ethereum/analysis_tool_python/analysis_for_proposal/feature_json/forked/2460000.txt\n",
      "loading  /Users/Jinyue/Documents/go-ethereum/analysis_tool_python/analysis_for_proposal/feature_json/forked/2470000.txt\n",
      "loading  /Users/Jinyue/Documents/go-ethereum/analysis_tool_python/analysis_for_proposal/feature_json/forked/2480000.txt\n",
      "loading  /Users/Jinyue/Documents/go-ethereum/analysis_tool_python/analysis_for_proposal/feature_json/forked/2490000.txt\n",
      "loading  /Users/Jinyue/Documents/go-ethereum/analysis_tool_python/analysis_for_proposal/feature_json/forked/2500000.txt\n",
      "loading  /Users/Jinyue/Documents/go-ethereum/analysis_tool_python/analysis_for_proposal/feature_json/forked/2510000.txt\n",
      "loading  /Users/Jinyue/Documents/go-ethereum/analysis_tool_python/analysis_for_proposal/feature_json/forked/2520000.txt\n",
      "loading  /Users/Jinyue/Documents/go-ethereum/analysis_tool_python/analysis_for_proposal/feature_json/forked/2530000.txt\n",
      "loading  /Users/Jinyue/Documents/go-ethereum/analysis_tool_python/analysis_for_proposal/feature_json/forked/2540000.txt\n",
      "loading  /Users/Jinyue/Documents/go-ethereum/analysis_tool_python/analysis_for_proposal/feature_json/forked/2550000.txt\n",
      "loading  /Users/Jinyue/Documents/go-ethereum/analysis_tool_python/analysis_for_proposal/feature_json/forked/2560000.txt\n",
      "loading  /Users/Jinyue/Documents/go-ethereum/analysis_tool_python/analysis_for_proposal/feature_json/forked/2570000.txt\n",
      "loading  /Users/Jinyue/Documents/go-ethereum/analysis_tool_python/analysis_for_proposal/feature_json/forked/2580000.txt\n",
      "loading  /Users/Jinyue/Documents/go-ethereum/analysis_tool_python/analysis_for_proposal/feature_json/forked/2590000.txt\n",
      "loading  /Users/Jinyue/Documents/go-ethereum/analysis_tool_python/analysis_for_proposal/feature_json/forked/2600000.txt\n",
      "loading  /Users/Jinyue/Documents/go-ethereum/analysis_tool_python/analysis_for_proposal/feature_json/forked/2610000.txt\n",
      "loading  /Users/Jinyue/Documents/go-ethereum/analysis_tool_python/analysis_for_proposal/feature_json/forked/2620000.txt\n",
      "loading  /Users/Jinyue/Documents/go-ethereum/analysis_tool_python/analysis_for_proposal/feature_json/forked/2630000.txt\n",
      "loading  /Users/Jinyue/Documents/go-ethereum/analysis_tool_python/analysis_for_proposal/feature_json/forked/2640000.txt\n",
      "loading  /Users/Jinyue/Documents/go-ethereum/analysis_tool_python/analysis_for_proposal/feature_json/forked/2650000.txt\n",
      "loading  /Users/Jinyue/Documents/go-ethereum/analysis_tool_python/analysis_for_proposal/feature_json/forked/2660000.txt\n",
      "loading  /Users/Jinyue/Documents/go-ethereum/analysis_tool_python/analysis_for_proposal/feature_json/forked/2670000.txt\n",
      "loading  /Users/Jinyue/Documents/go-ethereum/analysis_tool_python/analysis_for_proposal/feature_json/forked/2680000.txt\n",
      "loading  /Users/Jinyue/Documents/go-ethereum/analysis_tool_python/analysis_for_proposal/feature_json/forked/2690000.txt\n",
      "loading  /Users/Jinyue/Documents/go-ethereum/analysis_tool_python/analysis_for_proposal/feature_json/forked/2700000.txt\n",
      "loading  /Users/Jinyue/Documents/go-ethereum/analysis_tool_python/analysis_for_proposal/feature_json/forked/2710000.txt\n",
      "loading  /Users/Jinyue/Documents/go-ethereum/analysis_tool_python/analysis_for_proposal/feature_json/forked/2720000.txt\n",
      "loading  /Users/Jinyue/Documents/go-ethereum/analysis_tool_python/analysis_for_proposal/feature_json/forked/2730000.txt\n",
      "loading  /Users/Jinyue/Documents/go-ethereum/analysis_tool_python/analysis_for_proposal/feature_json/forked/2740000.txt\n",
      "loading  /Users/Jinyue/Documents/go-ethereum/analysis_tool_python/analysis_for_proposal/feature_json/forked/2750000.txt\n",
      "loading  /Users/Jinyue/Documents/go-ethereum/analysis_tool_python/analysis_for_proposal/feature_json/forked/2760000.txt\n",
      "loading  /Users/Jinyue/Documents/go-ethereum/analysis_tool_python/analysis_for_proposal/feature_json/forked/2770000.txt\n",
      "loading  /Users/Jinyue/Documents/go-ethereum/analysis_tool_python/analysis_for_proposal/feature_json/forked/2780000.txt\n",
      "loading  /Users/Jinyue/Documents/go-ethereum/analysis_tool_python/analysis_for_proposal/feature_json/forked/2790000.txt\n",
      "loading  /Users/Jinyue/Documents/go-ethereum/analysis_tool_python/analysis_for_proposal/feature_json/forked/2800000.txt\n",
      "loading  /Users/Jinyue/Documents/go-ethereum/analysis_tool_python/analysis_for_proposal/feature_json/forked/2810000.txt\n",
      "loading  /Users/Jinyue/Documents/go-ethereum/analysis_tool_python/analysis_for_proposal/feature_json/forked/2820000.txt\n"
     ]
    },
    {
     "name": "stdout",
     "output_type": "stream",
     "text": [
      "loading  /Users/Jinyue/Documents/go-ethereum/analysis_tool_python/analysis_for_proposal/feature_json/forked/2830000.txt\n",
      "loading  /Users/Jinyue/Documents/go-ethereum/analysis_tool_python/analysis_for_proposal/feature_json/forked/2840000.txt\n",
      "loading  /Users/Jinyue/Documents/go-ethereum/analysis_tool_python/analysis_for_proposal/feature_json/forked/2850000.txt\n",
      "loading  /Users/Jinyue/Documents/go-ethereum/analysis_tool_python/analysis_for_proposal/feature_json/forked/2860000.txt\n",
      "loading  /Users/Jinyue/Documents/go-ethereum/analysis_tool_python/analysis_for_proposal/feature_json/forked/2870000.txt\n",
      "loading  /Users/Jinyue/Documents/go-ethereum/analysis_tool_python/analysis_for_proposal/feature_json/forked/2880000.txt\n",
      "loading  /Users/Jinyue/Documents/go-ethereum/analysis_tool_python/analysis_for_proposal/feature_json/forked/2890000.txt\n",
      "loading  /Users/Jinyue/Documents/go-ethereum/analysis_tool_python/analysis_for_proposal/feature_json/forked/2900000.txt\n",
      "loading  /Users/Jinyue/Documents/go-ethereum/analysis_tool_python/analysis_for_proposal/feature_json/forked/2910000.txt\n",
      "loading  /Users/Jinyue/Documents/go-ethereum/analysis_tool_python/analysis_for_proposal/feature_json/forked/2920000.txt\n",
      "loading  /Users/Jinyue/Documents/go-ethereum/analysis_tool_python/analysis_for_proposal/feature_json/forked/2930000.txt\n",
      "loading  /Users/Jinyue/Documents/go-ethereum/analysis_tool_python/analysis_for_proposal/feature_json/forked/2940000.txt\n",
      "loading  /Users/Jinyue/Documents/go-ethereum/analysis_tool_python/analysis_for_proposal/feature_json/forked/2950000.txt\n",
      "loading  /Users/Jinyue/Documents/go-ethereum/analysis_tool_python/analysis_for_proposal/feature_json/forked/2960000.txt\n",
      "loading  /Users/Jinyue/Documents/go-ethereum/analysis_tool_python/analysis_for_proposal/feature_json/forked/2970000.txt\n",
      "loading  /Users/Jinyue/Documents/go-ethereum/analysis_tool_python/analysis_for_proposal/feature_json/forked/2980000.txt\n",
      "loading  /Users/Jinyue/Documents/go-ethereum/analysis_tool_python/analysis_for_proposal/feature_json/forked/2990000.txt\n",
      "loading  /Users/Jinyue/Documents/go-ethereum/analysis_tool_python/analysis_for_proposal/feature_json/forked/3000000.txt\n",
      "loading  /Users/Jinyue/Documents/go-ethereum/analysis_tool_python/analysis_for_proposal/feature_json/forked/3010000.txt\n",
      "loading  /Users/Jinyue/Documents/go-ethereum/analysis_tool_python/analysis_for_proposal/feature_json/forked/3020000.txt\n",
      "loading  /Users/Jinyue/Documents/go-ethereum/analysis_tool_python/analysis_for_proposal/feature_json/forked/3030000.txt\n",
      "loading  /Users/Jinyue/Documents/go-ethereum/analysis_tool_python/analysis_for_proposal/feature_json/forked/3040000.txt\n",
      "loading  /Users/Jinyue/Documents/go-ethereum/analysis_tool_python/analysis_for_proposal/feature_json/forked/3050000.txt\n",
      "loading  /Users/Jinyue/Documents/go-ethereum/analysis_tool_python/analysis_for_proposal/feature_json/forked/3060000.txt\n",
      "loading  /Users/Jinyue/Documents/go-ethereum/analysis_tool_python/analysis_for_proposal/feature_json/forked/3070000.txt\n",
      "loading  /Users/Jinyue/Documents/go-ethereum/analysis_tool_python/analysis_for_proposal/feature_json/forked/3080000.txt\n",
      "loading  /Users/Jinyue/Documents/go-ethereum/analysis_tool_python/analysis_for_proposal/feature_json/forked/3090000.txt\n",
      "loading  /Users/Jinyue/Documents/go-ethereum/analysis_tool_python/analysis_for_proposal/feature_json/forked/3100000.txt\n",
      "loading  /Users/Jinyue/Documents/go-ethereum/analysis_tool_python/analysis_for_proposal/feature_json/forked/3110000.txt\n",
      "loading  /Users/Jinyue/Documents/go-ethereum/analysis_tool_python/analysis_for_proposal/feature_json/forked/3120000.txt\n",
      "loading  /Users/Jinyue/Documents/go-ethereum/analysis_tool_python/analysis_for_proposal/feature_json/forked/3130000.txt\n",
      "loading  /Users/Jinyue/Documents/go-ethereum/analysis_tool_python/analysis_for_proposal/feature_json/forked/3140000.txt\n",
      "loading  /Users/Jinyue/Documents/go-ethereum/analysis_tool_python/analysis_for_proposal/feature_json/forked/3150000.txt\n",
      "loading  /Users/Jinyue/Documents/go-ethereum/analysis_tool_python/analysis_for_proposal/feature_json/forked/3160000.txt\n",
      "loading  /Users/Jinyue/Documents/go-ethereum/analysis_tool_python/analysis_for_proposal/feature_json/forked/3170000.txt\n",
      "loading  /Users/Jinyue/Documents/go-ethereum/analysis_tool_python/analysis_for_proposal/feature_json/forked/3180000.txt\n",
      "loading  /Users/Jinyue/Documents/go-ethereum/analysis_tool_python/analysis_for_proposal/feature_json/forked/3190000.txt\n",
      "loading  /Users/Jinyue/Documents/go-ethereum/analysis_tool_python/analysis_for_proposal/feature_json/forked/3200000.txt\n",
      "loading  /Users/Jinyue/Documents/go-ethereum/analysis_tool_python/analysis_for_proposal/feature_json/forked/3210000.txt\n",
      "loading  /Users/Jinyue/Documents/go-ethereum/analysis_tool_python/analysis_for_proposal/feature_json/forked/3220000.txt\n",
      "loading  /Users/Jinyue/Documents/go-ethereum/analysis_tool_python/analysis_for_proposal/feature_json/forked/3230000.txt\n",
      "loading  /Users/Jinyue/Documents/go-ethereum/analysis_tool_python/analysis_for_proposal/feature_json/forked/3240000.txt\n",
      "loading  /Users/Jinyue/Documents/go-ethereum/analysis_tool_python/analysis_for_proposal/feature_json/forked/3250000.txt\n",
      "loading  /Users/Jinyue/Documents/go-ethereum/analysis_tool_python/analysis_for_proposal/feature_json/forked/3260000.txt\n",
      "loading  /Users/Jinyue/Documents/go-ethereum/analysis_tool_python/analysis_for_proposal/feature_json/forked/3270000.txt\n",
      "loading  /Users/Jinyue/Documents/go-ethereum/analysis_tool_python/analysis_for_proposal/feature_json/forked/3280000.txt\n",
      "loading  /Users/Jinyue/Documents/go-ethereum/analysis_tool_python/analysis_for_proposal/feature_json/forked/3290000.txt\n",
      "loading  /Users/Jinyue/Documents/go-ethereum/analysis_tool_python/analysis_for_proposal/feature_json/forked/3300000.txt\n",
      "loading  /Users/Jinyue/Documents/go-ethereum/analysis_tool_python/analysis_for_proposal/feature_json/forked/3310000.txt\n",
      "loading  /Users/Jinyue/Documents/go-ethereum/analysis_tool_python/analysis_for_proposal/feature_json/forked/3320000.txt\n",
      "loading  /Users/Jinyue/Documents/go-ethereum/analysis_tool_python/analysis_for_proposal/feature_json/forked/3330000.txt\n",
      "loading  /Users/Jinyue/Documents/go-ethereum/analysis_tool_python/analysis_for_proposal/feature_json/forked/3340000.txt\n",
      "loading  /Users/Jinyue/Documents/go-ethereum/analysis_tool_python/analysis_for_proposal/feature_json/forked/3350000.txt\n",
      "loading  /Users/Jinyue/Documents/go-ethereum/analysis_tool_python/analysis_for_proposal/feature_json/forked/3360000.txt\n",
      "loading  /Users/Jinyue/Documents/go-ethereum/analysis_tool_python/analysis_for_proposal/feature_json/forked/3370000.txt\n",
      "loading  /Users/Jinyue/Documents/go-ethereum/analysis_tool_python/analysis_for_proposal/feature_json/forked/3380000.txt\n",
      "loading  /Users/Jinyue/Documents/go-ethereum/analysis_tool_python/analysis_for_proposal/feature_json/forked/3390000.txt\n",
      "loading  /Users/Jinyue/Documents/go-ethereum/analysis_tool_python/analysis_for_proposal/feature_json/forked/3400000.txt\n",
      "loading  /Users/Jinyue/Documents/go-ethereum/analysis_tool_python/analysis_for_proposal/feature_json/forked/3410000.txt\n",
      "loading  /Users/Jinyue/Documents/go-ethereum/analysis_tool_python/analysis_for_proposal/feature_json/forked/3420000.txt\n",
      "loading  /Users/Jinyue/Documents/go-ethereum/analysis_tool_python/analysis_for_proposal/feature_json/forked/3430000.txt\n",
      "loading  /Users/Jinyue/Documents/go-ethereum/analysis_tool_python/analysis_for_proposal/feature_json/forked/3440000.txt\n",
      "loading  /Users/Jinyue/Documents/go-ethereum/analysis_tool_python/analysis_for_proposal/feature_json/forked/3450000.txt\n",
      "loading  /Users/Jinyue/Documents/go-ethereum/analysis_tool_python/analysis_for_proposal/feature_json/forked/3460000.txt\n",
      "loading  /Users/Jinyue/Documents/go-ethereum/analysis_tool_python/analysis_for_proposal/feature_json/forked/3470000.txt\n",
      "loading  /Users/Jinyue/Documents/go-ethereum/analysis_tool_python/analysis_for_proposal/feature_json/forked/3480000.txt\n",
      "loading  /Users/Jinyue/Documents/go-ethereum/analysis_tool_python/analysis_for_proposal/feature_json/forked/3490000.txt\n",
      "loading  /Users/Jinyue/Documents/go-ethereum/analysis_tool_python/analysis_for_proposal/feature_json/forked/3500000.txt\n",
      "loading  /Users/Jinyue/Documents/go-ethereum/analysis_tool_python/analysis_for_proposal/feature_json/forked/3510000.txt\n",
      "loading  /Users/Jinyue/Documents/go-ethereum/analysis_tool_python/analysis_for_proposal/feature_json/forked/3520000.txt\n"
     ]
    },
    {
     "name": "stdout",
     "output_type": "stream",
     "text": [
      "loading  /Users/Jinyue/Documents/go-ethereum/analysis_tool_python/analysis_for_proposal/feature_json/forked/3530000.txt\n",
      "loading  /Users/Jinyue/Documents/go-ethereum/analysis_tool_python/analysis_for_proposal/feature_json/forked/3540000.txt\n",
      "loading  /Users/Jinyue/Documents/go-ethereum/analysis_tool_python/analysis_for_proposal/feature_json/forked/3550000.txt\n",
      "loading  /Users/Jinyue/Documents/go-ethereum/analysis_tool_python/analysis_for_proposal/feature_json/forked/3560000.txt\n",
      "loading  /Users/Jinyue/Documents/go-ethereum/analysis_tool_python/analysis_for_proposal/feature_json/forked/3570000.txt\n",
      "loading  /Users/Jinyue/Documents/go-ethereum/analysis_tool_python/analysis_for_proposal/feature_json/forked/3580000.txt\n",
      "loading  /Users/Jinyue/Documents/go-ethereum/analysis_tool_python/analysis_for_proposal/feature_json/forked/3590000.txt\n",
      "loading  /Users/Jinyue/Documents/go-ethereum/analysis_tool_python/analysis_for_proposal/feature_json/forked/3600000.txt\n",
      "loading  /Users/Jinyue/Documents/go-ethereum/analysis_tool_python/analysis_for_proposal/feature_json/forked/3610000.txt\n",
      "loading  /Users/Jinyue/Documents/go-ethereum/analysis_tool_python/analysis_for_proposal/feature_json/forked/3620000.txt\n",
      "loading  /Users/Jinyue/Documents/go-ethereum/analysis_tool_python/analysis_for_proposal/feature_json/forked/3630000.txt\n",
      "loading  /Users/Jinyue/Documents/go-ethereum/analysis_tool_python/analysis_for_proposal/feature_json/forked/3640000.txt\n",
      "loading  /Users/Jinyue/Documents/go-ethereum/analysis_tool_python/analysis_for_proposal/feature_json/forked/3650000.txt\n",
      "loading  /Users/Jinyue/Documents/go-ethereum/analysis_tool_python/analysis_for_proposal/feature_json/forked/3660000.txt\n",
      "loading  /Users/Jinyue/Documents/go-ethereum/analysis_tool_python/analysis_for_proposal/feature_json/forked/3670000.txt\n",
      "loading  /Users/Jinyue/Documents/go-ethereum/analysis_tool_python/analysis_for_proposal/feature_json/forked/3680000.txt\n",
      "loading  /Users/Jinyue/Documents/go-ethereum/analysis_tool_python/analysis_for_proposal/feature_json/forked/3690000.txt\n",
      "loading  /Users/Jinyue/Documents/go-ethereum/analysis_tool_python/analysis_for_proposal/feature_json/forked/3700000.txt\n",
      "loading  /Users/Jinyue/Documents/go-ethereum/analysis_tool_python/analysis_for_proposal/feature_json/forked/3710000.txt\n",
      "loading  /Users/Jinyue/Documents/go-ethereum/analysis_tool_python/analysis_for_proposal/feature_json/forked/3720000.txt\n",
      "loading  /Users/Jinyue/Documents/go-ethereum/analysis_tool_python/analysis_for_proposal/feature_json/forked/3730000.txt\n",
      "loading  /Users/Jinyue/Documents/go-ethereum/analysis_tool_python/analysis_for_proposal/feature_json/forked/3740000.txt\n",
      "loading  /Users/Jinyue/Documents/go-ethereum/analysis_tool_python/analysis_for_proposal/feature_json/forked/3750000.txt\n",
      "loading  /Users/Jinyue/Documents/go-ethereum/analysis_tool_python/analysis_for_proposal/feature_json/forked/3760000.txt\n",
      "loading  /Users/Jinyue/Documents/go-ethereum/analysis_tool_python/analysis_for_proposal/feature_json/forked/3770000.txt\n",
      "loading  /Users/Jinyue/Documents/go-ethereum/analysis_tool_python/analysis_for_proposal/feature_json/forked/3780000.txt\n",
      "loading  /Users/Jinyue/Documents/go-ethereum/analysis_tool_python/analysis_for_proposal/feature_json/forked/3790000.txt\n",
      "loading  /Users/Jinyue/Documents/go-ethereum/analysis_tool_python/analysis_for_proposal/feature_json/forked/3800000.txt\n",
      "loading  /Users/Jinyue/Documents/go-ethereum/analysis_tool_python/analysis_for_proposal/feature_json/forked/3810000.txt\n",
      "loading  /Users/Jinyue/Documents/go-ethereum/analysis_tool_python/analysis_for_proposal/feature_json/forked/3820000.txt\n",
      "loading  /Users/Jinyue/Documents/go-ethereum/analysis_tool_python/analysis_for_proposal/feature_json/forked/3830000.txt\n",
      "loading  /Users/Jinyue/Documents/go-ethereum/analysis_tool_python/analysis_for_proposal/feature_json/forked/3840000.txt\n",
      "loading  /Users/Jinyue/Documents/go-ethereum/analysis_tool_python/analysis_for_proposal/feature_json/forked/3850000.txt\n",
      "loading  /Users/Jinyue/Documents/go-ethereum/analysis_tool_python/analysis_for_proposal/feature_json/forked/3860000.txt\n",
      "loading  /Users/Jinyue/Documents/go-ethereum/analysis_tool_python/analysis_for_proposal/feature_json/forked/3870000.txt\n",
      "loading  /Users/Jinyue/Documents/go-ethereum/analysis_tool_python/analysis_for_proposal/feature_json/forked/3880000.txt\n",
      "loading  /Users/Jinyue/Documents/go-ethereum/analysis_tool_python/analysis_for_proposal/feature_json/forked/3890000.txt\n",
      "loading  /Users/Jinyue/Documents/go-ethereum/analysis_tool_python/analysis_for_proposal/feature_json/forked/3900000.txt\n",
      "loading  /Users/Jinyue/Documents/go-ethereum/analysis_tool_python/analysis_for_proposal/feature_json/forked/3910000.txt\n",
      "loading  /Users/Jinyue/Documents/go-ethereum/analysis_tool_python/analysis_for_proposal/feature_json/forked/3920000.txt\n",
      "loading  /Users/Jinyue/Documents/go-ethereum/analysis_tool_python/analysis_for_proposal/feature_json/forked/3930000.txt\n",
      "loading  /Users/Jinyue/Documents/go-ethereum/analysis_tool_python/analysis_for_proposal/feature_json/forked/3940000.txt\n",
      "loading  /Users/Jinyue/Documents/go-ethereum/analysis_tool_python/analysis_for_proposal/feature_json/forked/3950000.txt\n",
      "loading  /Users/Jinyue/Documents/go-ethereum/analysis_tool_python/analysis_for_proposal/feature_json/forked/3960000.txt\n",
      "loading  /Users/Jinyue/Documents/go-ethereum/analysis_tool_python/analysis_for_proposal/feature_json/forked/3970000.txt\n",
      "loading  /Users/Jinyue/Documents/go-ethereum/analysis_tool_python/analysis_for_proposal/feature_json/forked/3980000.txt\n",
      "loading  /Users/Jinyue/Documents/go-ethereum/analysis_tool_python/analysis_for_proposal/feature_json/forked/3990000.txt\n",
      "loading  /Users/Jinyue/Documents/go-ethereum/analysis_tool_python/analysis_for_proposal/feature_json/forked/4000000.txt\n",
      "loading  /Users/Jinyue/Documents/go-ethereum/analysis_tool_python/analysis_for_proposal/feature_json/forked/4010000.txt\n",
      "loading  /Users/Jinyue/Documents/go-ethereum/analysis_tool_python/analysis_for_proposal/feature_json/forked/4020000.txt\n",
      "loading  /Users/Jinyue/Documents/go-ethereum/analysis_tool_python/analysis_for_proposal/feature_json/forked/4030000.txt\n",
      "loading  /Users/Jinyue/Documents/go-ethereum/analysis_tool_python/analysis_for_proposal/feature_json/forked/4040000.txt\n",
      "loading  /Users/Jinyue/Documents/go-ethereum/analysis_tool_python/analysis_for_proposal/feature_json/forked/4050000.txt\n",
      "loading  /Users/Jinyue/Documents/go-ethereum/analysis_tool_python/analysis_for_proposal/feature_json/forked/4060000.txt\n",
      "loading  /Users/Jinyue/Documents/go-ethereum/analysis_tool_python/analysis_for_proposal/feature_json/forked/4070000.txt\n",
      "loading  /Users/Jinyue/Documents/go-ethereum/analysis_tool_python/analysis_for_proposal/feature_json/forked/4080000.txt\n",
      "loading  /Users/Jinyue/Documents/go-ethereum/analysis_tool_python/analysis_for_proposal/feature_json/forked/4090000.txt\n",
      "loading  /Users/Jinyue/Documents/go-ethereum/analysis_tool_python/analysis_for_proposal/feature_json/forked/4100000.txt\n",
      "loading  /Users/Jinyue/Documents/go-ethereum/analysis_tool_python/analysis_for_proposal/feature_json/forked/4110000.txt\n",
      "loading  /Users/Jinyue/Documents/go-ethereum/analysis_tool_python/analysis_for_proposal/feature_json/forked/4120000.txt\n",
      "loading  /Users/Jinyue/Documents/go-ethereum/analysis_tool_python/analysis_for_proposal/feature_json/forked/4130000.txt\n",
      "loading  /Users/Jinyue/Documents/go-ethereum/analysis_tool_python/analysis_for_proposal/feature_json/forked/4140000.txt\n",
      "loading  /Users/Jinyue/Documents/go-ethereum/analysis_tool_python/analysis_for_proposal/feature_json/forked/4150000.txt\n",
      "loading  /Users/Jinyue/Documents/go-ethereum/analysis_tool_python/analysis_for_proposal/feature_json/forked/4160000.txt\n",
      "loading  /Users/Jinyue/Documents/go-ethereum/analysis_tool_python/analysis_for_proposal/feature_json/forked/4170000.txt\n",
      "loading  /Users/Jinyue/Documents/go-ethereum/analysis_tool_python/analysis_for_proposal/feature_json/forked/4180000.txt\n",
      "loading  /Users/Jinyue/Documents/go-ethereum/analysis_tool_python/analysis_for_proposal/feature_json/forked/4190000.txt\n",
      "loading  /Users/Jinyue/Documents/go-ethereum/analysis_tool_python/analysis_for_proposal/feature_json/forked/4200000.txt\n",
      "loading  /Users/Jinyue/Documents/go-ethereum/analysis_tool_python/analysis_for_proposal/feature_json/forked/4210000.txt\n",
      "loading  /Users/Jinyue/Documents/go-ethereum/analysis_tool_python/analysis_for_proposal/feature_json/forked/4220000.txt\n",
      "loading  /Users/Jinyue/Documents/go-ethereum/analysis_tool_python/analysis_for_proposal/feature_json/forked/4230000.txt\n",
      "loading  /Users/Jinyue/Documents/go-ethereum/analysis_tool_python/analysis_for_proposal/feature_json/forked/4240000.txt\n",
      "loading  /Users/Jinyue/Documents/go-ethereum/analysis_tool_python/analysis_for_proposal/feature_json/forked/4250000.txt\n",
      "loading  /Users/Jinyue/Documents/go-ethereum/analysis_tool_python/analysis_for_proposal/feature_json/forked/4260000.txt\n",
      "loading  /Users/Jinyue/Documents/go-ethereum/analysis_tool_python/analysis_for_proposal/feature_json/forked/4270000.txt\n",
      "loading  /Users/Jinyue/Documents/go-ethereum/analysis_tool_python/analysis_for_proposal/feature_json/forked/4280000.txt\n",
      "loading  /Users/Jinyue/Documents/go-ethereum/analysis_tool_python/analysis_for_proposal/feature_json/forked/4290000.txt\n"
     ]
    },
    {
     "name": "stdout",
     "output_type": "stream",
     "text": [
      "loading  /Users/Jinyue/Documents/go-ethereum/analysis_tool_python/analysis_for_proposal/feature_json/forked/4300000.txt\n",
      "loading  /Users/Jinyue/Documents/go-ethereum/analysis_tool_python/analysis_for_proposal/feature_json/forked/4310000.txt\n",
      "loading  /Users/Jinyue/Documents/go-ethereum/analysis_tool_python/analysis_for_proposal/feature_json/forked/4320000.txt\n",
      "loading  /Users/Jinyue/Documents/go-ethereum/analysis_tool_python/analysis_for_proposal/feature_json/forked/4330000.txt\n",
      "loading  /Users/Jinyue/Documents/go-ethereum/analysis_tool_python/analysis_for_proposal/feature_json/forked/4340000.txt\n",
      "loading  /Users/Jinyue/Documents/go-ethereum/analysis_tool_python/analysis_for_proposal/feature_json/forked/4350000.txt\n",
      "loading  /Users/Jinyue/Documents/go-ethereum/analysis_tool_python/analysis_for_proposal/feature_json/forked/4360000.txt\n",
      "loading  /Users/Jinyue/Documents/go-ethereum/analysis_tool_python/analysis_for_proposal/feature_json/forked/4370000.txt\n",
      "loading  /Users/Jinyue/Documents/go-ethereum/analysis_tool_python/analysis_for_proposal/feature_json/forked/4380000.txt\n",
      "loading  /Users/Jinyue/Documents/go-ethereum/analysis_tool_python/analysis_for_proposal/feature_json/forked/4390000.txt\n",
      "loading  /Users/Jinyue/Documents/go-ethereum/analysis_tool_python/analysis_for_proposal/feature_json/forked/4400000.txt\n",
      "loading  /Users/Jinyue/Documents/go-ethereum/analysis_tool_python/analysis_for_proposal/feature_json/forked/4410000.txt\n",
      "loading  /Users/Jinyue/Documents/go-ethereum/analysis_tool_python/analysis_for_proposal/feature_json/forked/4420000.txt\n",
      "loading  /Users/Jinyue/Documents/go-ethereum/analysis_tool_python/analysis_for_proposal/feature_json/forked/4430000.txt\n",
      "loading  /Users/Jinyue/Documents/go-ethereum/analysis_tool_python/analysis_for_proposal/feature_json/forked/4440000.txt\n",
      "loading  /Users/Jinyue/Documents/go-ethereum/analysis_tool_python/analysis_for_proposal/feature_json/forked/4450000.txt\n",
      "loading  /Users/Jinyue/Documents/go-ethereum/analysis_tool_python/analysis_for_proposal/feature_json/forked/4460000.txt\n",
      "loading  /Users/Jinyue/Documents/go-ethereum/analysis_tool_python/analysis_for_proposal/feature_json/forked/4470000.txt\n",
      "loading  /Users/Jinyue/Documents/go-ethereum/analysis_tool_python/analysis_for_proposal/feature_json/forked/4480000.txt\n",
      "loading  /Users/Jinyue/Documents/go-ethereum/analysis_tool_python/analysis_for_proposal/feature_json/forked/4490000.txt\n",
      "loading  /Users/Jinyue/Documents/go-ethereum/analysis_tool_python/analysis_for_proposal/feature_json/forked/4500000.txt\n",
      "loading  /Users/Jinyue/Documents/go-ethereum/analysis_tool_python/analysis_for_proposal/feature_json/forked/4510000.txt\n",
      "loading  /Users/Jinyue/Documents/go-ethereum/analysis_tool_python/analysis_for_proposal/feature_json/forked/4520000.txt\n",
      "loading  /Users/Jinyue/Documents/go-ethereum/analysis_tool_python/analysis_for_proposal/feature_json/forked/4530000.txt\n",
      "loading  /Users/Jinyue/Documents/go-ethereum/analysis_tool_python/analysis_for_proposal/feature_json/forked/4540000.txt\n",
      "loading  /Users/Jinyue/Documents/go-ethereum/analysis_tool_python/analysis_for_proposal/feature_json/forked/4550000.txt\n",
      "loading  /Users/Jinyue/Documents/go-ethereum/analysis_tool_python/analysis_for_proposal/feature_json/forked/4560000.txt\n",
      "loading  /Users/Jinyue/Documents/go-ethereum/analysis_tool_python/analysis_for_proposal/feature_json/forked/4570000.txt\n",
      "loading  /Users/Jinyue/Documents/go-ethereum/analysis_tool_python/analysis_for_proposal/feature_json/forked/4580000.txt\n",
      "loading  /Users/Jinyue/Documents/go-ethereum/analysis_tool_python/analysis_for_proposal/feature_json/forked/4590000.txt\n",
      "loading  /Users/Jinyue/Documents/go-ethereum/analysis_tool_python/analysis_for_proposal/feature_json/forked/4600000.txt\n",
      "loading  /Users/Jinyue/Documents/go-ethereum/analysis_tool_python/analysis_for_proposal/feature_json/forked/4610000.txt\n",
      "loading  /Users/Jinyue/Documents/go-ethereum/analysis_tool_python/analysis_for_proposal/feature_json/forked/4620000.txt\n",
      "loading  /Users/Jinyue/Documents/go-ethereum/analysis_tool_python/analysis_for_proposal/feature_json/forked/4630000.txt\n",
      "loading  /Users/Jinyue/Documents/go-ethereum/analysis_tool_python/analysis_for_proposal/feature_json/forked/4640000.txt\n",
      "loading  /Users/Jinyue/Documents/go-ethereum/analysis_tool_python/analysis_for_proposal/feature_json/forked/4650000.txt\n",
      "loading  /Users/Jinyue/Documents/go-ethereum/analysis_tool_python/analysis_for_proposal/feature_json/forked/4660000.txt\n",
      "loading  /Users/Jinyue/Documents/go-ethereum/analysis_tool_python/analysis_for_proposal/feature_json/forked/4670000.txt\n",
      "loading  /Users/Jinyue/Documents/go-ethereum/analysis_tool_python/analysis_for_proposal/feature_json/forked/4680000.txt\n",
      "loading  /Users/Jinyue/Documents/go-ethereum/analysis_tool_python/analysis_for_proposal/feature_json/forked/4690000.txt\n",
      "loading  /Users/Jinyue/Documents/go-ethereum/analysis_tool_python/analysis_for_proposal/feature_json/forked/4700000.txt\n",
      "loading  /Users/Jinyue/Documents/go-ethereum/analysis_tool_python/analysis_for_proposal/feature_json/forked/4710000.txt\n",
      "loading  /Users/Jinyue/Documents/go-ethereum/analysis_tool_python/analysis_for_proposal/feature_json/forked/4720000.txt\n",
      "loading  /Users/Jinyue/Documents/go-ethereum/analysis_tool_python/analysis_for_proposal/feature_json/forked/4730000.txt\n",
      "loading  /Users/Jinyue/Documents/go-ethereum/analysis_tool_python/analysis_for_proposal/feature_json/forked/4740000.txt\n",
      "loading  /Users/Jinyue/Documents/go-ethereum/analysis_tool_python/analysis_for_proposal/feature_json/forked/4750000.txt\n",
      "loading  /Users/Jinyue/Documents/go-ethereum/analysis_tool_python/analysis_for_proposal/feature_json/forked/4760000.txt\n",
      "loading  /Users/Jinyue/Documents/go-ethereum/analysis_tool_python/analysis_for_proposal/feature_json/forked/4770000.txt\n",
      "loading  /Users/Jinyue/Documents/go-ethereum/analysis_tool_python/analysis_for_proposal/feature_json/forked/4780000.txt\n",
      "loading  /Users/Jinyue/Documents/go-ethereum/analysis_tool_python/analysis_for_proposal/feature_json/forked/4790000.txt\n",
      "loading  /Users/Jinyue/Documents/go-ethereum/analysis_tool_python/analysis_for_proposal/feature_json/forked/4800000.txt\n",
      "loading  /Users/Jinyue/Documents/go-ethereum/analysis_tool_python/analysis_for_proposal/feature_json/forked/4810000.txt\n",
      "loading  /Users/Jinyue/Documents/go-ethereum/analysis_tool_python/analysis_for_proposal/feature_json/forked/4820000.txt\n",
      "loading  /Users/Jinyue/Documents/go-ethereum/analysis_tool_python/analysis_for_proposal/feature_json/forked/4830000.txt\n",
      "loading  /Users/Jinyue/Documents/go-ethereum/analysis_tool_python/analysis_for_proposal/feature_json/forked/4840000.txt\n",
      "loading  /Users/Jinyue/Documents/go-ethereum/analysis_tool_python/analysis_for_proposal/feature_json/forked/4850000.txt\n",
      "loading  /Users/Jinyue/Documents/go-ethereum/analysis_tool_python/analysis_for_proposal/feature_json/forked/4860000.txt\n",
      "loading  /Users/Jinyue/Documents/go-ethereum/analysis_tool_python/analysis_for_proposal/feature_json/forked/4870000.txt\n",
      "loading  /Users/Jinyue/Documents/go-ethereum/analysis_tool_python/analysis_for_proposal/feature_json/forked/4880000.txt\n",
      "loading  /Users/Jinyue/Documents/go-ethereum/analysis_tool_python/analysis_for_proposal/feature_json/forked/4890000.txt\n",
      "loading  /Users/Jinyue/Documents/go-ethereum/analysis_tool_python/analysis_for_proposal/feature_json/forked/4900000.txt\n",
      "loading  /Users/Jinyue/Documents/go-ethereum/analysis_tool_python/analysis_for_proposal/feature_json/forked/4910000.txt\n",
      "loading  /Users/Jinyue/Documents/go-ethereum/analysis_tool_python/analysis_for_proposal/feature_json/forked/4920000.txt\n",
      "loading  /Users/Jinyue/Documents/go-ethereum/analysis_tool_python/analysis_for_proposal/feature_json/forked/4930000.txt\n",
      "loading  /Users/Jinyue/Documents/go-ethereum/analysis_tool_python/analysis_for_proposal/feature_json/forked/4940000.txt\n",
      "loading  /Users/Jinyue/Documents/go-ethereum/analysis_tool_python/analysis_for_proposal/feature_json/forked/4950000.txt\n",
      "loading  /Users/Jinyue/Documents/go-ethereum/analysis_tool_python/analysis_for_proposal/feature_json/forked/4960000.txt\n",
      "loading  /Users/Jinyue/Documents/go-ethereum/analysis_tool_python/analysis_for_proposal/feature_json/forked/4970000.txt\n",
      "loading  /Users/Jinyue/Documents/go-ethereum/analysis_tool_python/analysis_for_proposal/feature_json/forked/4980000.txt\n",
      "loading  /Users/Jinyue/Documents/go-ethereum/analysis_tool_python/analysis_for_proposal/feature_json/forked/4990000.txt\n",
      "loading  /Users/Jinyue/Documents/go-ethereum/analysis_tool_python/analysis_for_proposal/feature_json/forked/5000000.txt\n",
      "loading  /Users/Jinyue/Documents/go-ethereum/analysis_tool_python/analysis_for_proposal/feature_json/forked/5010000.txt\n",
      "loading  /Users/Jinyue/Documents/go-ethereum/analysis_tool_python/analysis_for_proposal/feature_json/forked/5020000.txt\n",
      "loading  /Users/Jinyue/Documents/go-ethereum/analysis_tool_python/analysis_for_proposal/feature_json/forked/5030000.txt\n",
      "loading  /Users/Jinyue/Documents/go-ethereum/analysis_tool_python/analysis_for_proposal/feature_json/forked/5040000.txt\n",
      "loading  /Users/Jinyue/Documents/go-ethereum/analysis_tool_python/analysis_for_proposal/feature_json/forked/5050000.txt\n",
      "loading  /Users/Jinyue/Documents/go-ethereum/analysis_tool_python/analysis_for_proposal/feature_json/forked/5060000.txt\n",
      "loading  /Users/Jinyue/Documents/go-ethereum/analysis_tool_python/analysis_for_proposal/feature_json/forked/5070000.txt\n",
      "loading  /Users/Jinyue/Documents/go-ethereum/analysis_tool_python/analysis_for_proposal/feature_json/forked/5080000.txt\n"
     ]
    },
    {
     "name": "stdout",
     "output_type": "stream",
     "text": [
      "loading  /Users/Jinyue/Documents/go-ethereum/analysis_tool_python/analysis_for_proposal/feature_json/forked/5090000.txt\n",
      "loading  /Users/Jinyue/Documents/go-ethereum/analysis_tool_python/analysis_for_proposal/feature_json/forked/5100000.txt\n",
      "loading  /Users/Jinyue/Documents/go-ethereum/analysis_tool_python/analysis_for_proposal/feature_json/forked/5110000.txt\n",
      "loading  /Users/Jinyue/Documents/go-ethereum/analysis_tool_python/analysis_for_proposal/feature_json/forked/5120000.txt\n",
      "loading  /Users/Jinyue/Documents/go-ethereum/analysis_tool_python/analysis_for_proposal/feature_json/forked/5130000.txt\n",
      "loading  /Users/Jinyue/Documents/go-ethereum/analysis_tool_python/analysis_for_proposal/feature_json/forked/5140000.txt\n",
      "loading  /Users/Jinyue/Documents/go-ethereum/analysis_tool_python/analysis_for_proposal/feature_json/forked/5150000.txt\n",
      "loading  /Users/Jinyue/Documents/go-ethereum/analysis_tool_python/analysis_for_proposal/feature_json/forked/5160000.txt\n",
      "loading  /Users/Jinyue/Documents/go-ethereum/analysis_tool_python/analysis_for_proposal/feature_json/forked/5170000.txt\n",
      "loading  /Users/Jinyue/Documents/go-ethereum/analysis_tool_python/analysis_for_proposal/feature_json/forked/5180000.txt\n",
      "loading  /Users/Jinyue/Documents/go-ethereum/analysis_tool_python/analysis_for_proposal/feature_json/forked/5190000.txt\n",
      "loading  /Users/Jinyue/Documents/go-ethereum/analysis_tool_python/analysis_for_proposal/feature_json/forked/5200000.txt\n",
      "loading  /Users/Jinyue/Documents/go-ethereum/analysis_tool_python/analysis_for_proposal/feature_json/forked/5210000.txt\n",
      "loading  /Users/Jinyue/Documents/go-ethereum/analysis_tool_python/analysis_for_proposal/feature_json/forked/5220000.txt\n",
      "loading  /Users/Jinyue/Documents/go-ethereum/analysis_tool_python/analysis_for_proposal/feature_json/forked/5230000.txt\n",
      "loading  /Users/Jinyue/Documents/go-ethereum/analysis_tool_python/analysis_for_proposal/feature_json/forked/5240000.txt\n",
      "loading  /Users/Jinyue/Documents/go-ethereum/analysis_tool_python/analysis_for_proposal/feature_json/forked/5250000.txt\n",
      "loading  /Users/Jinyue/Documents/go-ethereum/analysis_tool_python/analysis_for_proposal/feature_json/forked/5260000.txt\n",
      "loading  /Users/Jinyue/Documents/go-ethereum/analysis_tool_python/analysis_for_proposal/feature_json/forked/5270000.txt\n",
      "loading  /Users/Jinyue/Documents/go-ethereum/analysis_tool_python/analysis_for_proposal/feature_json/forked/5280000.txt\n",
      "loading  /Users/Jinyue/Documents/go-ethereum/analysis_tool_python/analysis_for_proposal/feature_json/forked/5290000.txt\n",
      "loading  /Users/Jinyue/Documents/go-ethereum/analysis_tool_python/analysis_for_proposal/feature_json/forked/5300000.txt\n",
      "loading  /Users/Jinyue/Documents/go-ethereum/analysis_tool_python/analysis_for_proposal/feature_json/forked/5310000.txt\n",
      "loading  /Users/Jinyue/Documents/go-ethereum/analysis_tool_python/analysis_for_proposal/feature_json/forked/5320000.txt\n",
      "loading  /Users/Jinyue/Documents/go-ethereum/analysis_tool_python/analysis_for_proposal/feature_json/forked/5330000.txt\n",
      "loading  /Users/Jinyue/Documents/go-ethereum/analysis_tool_python/analysis_for_proposal/feature_json/forked/5340000.txt\n",
      "loading  /Users/Jinyue/Documents/go-ethereum/analysis_tool_python/analysis_for_proposal/feature_json/forked/5350000.txt\n",
      "loading  /Users/Jinyue/Documents/go-ethereum/analysis_tool_python/analysis_for_proposal/feature_json/forked/5360000.txt\n",
      "loading  /Users/Jinyue/Documents/go-ethereum/analysis_tool_python/analysis_for_proposal/feature_json/forked/5370000.txt\n",
      "loading  /Users/Jinyue/Documents/go-ethereum/analysis_tool_python/analysis_for_proposal/feature_json/forked/5380000.txt\n",
      "loading  /Users/Jinyue/Documents/go-ethereum/analysis_tool_python/analysis_for_proposal/feature_json/forked/5390000.txt\n",
      "loading  /Users/Jinyue/Documents/go-ethereum/analysis_tool_python/analysis_for_proposal/feature_json/forked/5400000.txt\n",
      "loading  /Users/Jinyue/Documents/go-ethereum/analysis_tool_python/analysis_for_proposal/feature_json/forked/5410000.txt\n",
      "loading  /Users/Jinyue/Documents/go-ethereum/analysis_tool_python/analysis_for_proposal/feature_json/forked/5420000.txt\n",
      "loading  /Users/Jinyue/Documents/go-ethereum/analysis_tool_python/analysis_for_proposal/feature_json/forked/5430000.txt\n",
      "loading  /Users/Jinyue/Documents/go-ethereum/analysis_tool_python/analysis_for_proposal/feature_json/forked/5440000.txt\n",
      "loading  /Users/Jinyue/Documents/go-ethereum/analysis_tool_python/analysis_for_proposal/feature_json/forked/5450000.txt\n",
      "loading  /Users/Jinyue/Documents/go-ethereum/analysis_tool_python/analysis_for_proposal/feature_json/forked/5460000.txt\n",
      "loading  /Users/Jinyue/Documents/go-ethereum/analysis_tool_python/analysis_for_proposal/feature_json/forked/5470000.txt\n",
      "loading  /Users/Jinyue/Documents/go-ethereum/analysis_tool_python/analysis_for_proposal/feature_json/forked/5480000.txt\n",
      "loading  /Users/Jinyue/Documents/go-ethereum/analysis_tool_python/analysis_for_proposal/feature_json/forked/5490000.txt\n",
      "loading  /Users/Jinyue/Documents/go-ethereum/analysis_tool_python/analysis_for_proposal/feature_json/forked/5500000.txt\n",
      "loading  /Users/Jinyue/Documents/go-ethereum/analysis_tool_python/analysis_for_proposal/feature_json/forked/5510000.txt\n",
      "loading  /Users/Jinyue/Documents/go-ethereum/analysis_tool_python/analysis_for_proposal/feature_json/forked/5520000.txt\n",
      "loading  /Users/Jinyue/Documents/go-ethereum/analysis_tool_python/analysis_for_proposal/feature_json/forked/5530000.txt\n",
      "loading  /Users/Jinyue/Documents/go-ethereum/analysis_tool_python/analysis_for_proposal/feature_json/forked/5540000.txt\n",
      "loading  /Users/Jinyue/Documents/go-ethereum/analysis_tool_python/analysis_for_proposal/feature_json/forked/5550000.txt\n",
      "loading  /Users/Jinyue/Documents/go-ethereum/analysis_tool_python/analysis_for_proposal/feature_json/forked/5560000.txt\n",
      "loading  /Users/Jinyue/Documents/go-ethereum/analysis_tool_python/analysis_for_proposal/feature_json/forked/5570000.txt\n",
      "loading  /Users/Jinyue/Documents/go-ethereum/analysis_tool_python/analysis_for_proposal/feature_json/forked/5580000.txt\n",
      "loading  /Users/Jinyue/Documents/go-ethereum/analysis_tool_python/analysis_for_proposal/feature_json/forked/5590000.txt\n",
      "loading  /Users/Jinyue/Documents/go-ethereum/analysis_tool_python/analysis_for_proposal/feature_json/forked/5600000.txt\n",
      "loading  /Users/Jinyue/Documents/go-ethereum/analysis_tool_python/analysis_for_proposal/feature_json/forked/5610000.txt\n",
      "loading  /Users/Jinyue/Documents/go-ethereum/analysis_tool_python/analysis_for_proposal/feature_json/forked/5620000.txt\n",
      "loading  /Users/Jinyue/Documents/go-ethereum/analysis_tool_python/analysis_for_proposal/feature_json/forked/5630000.txt\n",
      "loading  /Users/Jinyue/Documents/go-ethereum/analysis_tool_python/analysis_for_proposal/feature_json/forked/5640000.txt\n",
      "loading  /Users/Jinyue/Documents/go-ethereum/analysis_tool_python/analysis_for_proposal/feature_json/forked/5650000.txt\n",
      "loading  /Users/Jinyue/Documents/go-ethereum/analysis_tool_python/analysis_for_proposal/feature_json/forked/5660000.txt\n",
      "loading  /Users/Jinyue/Documents/go-ethereum/analysis_tool_python/analysis_for_proposal/feature_json/forked/5670000.txt\n",
      "loading  /Users/Jinyue/Documents/go-ethereum/analysis_tool_python/analysis_for_proposal/feature_json/forked/5680000.txt\n",
      "loading  /Users/Jinyue/Documents/go-ethereum/analysis_tool_python/analysis_for_proposal/feature_json/forked/5690000.txt\n",
      "loading  /Users/Jinyue/Documents/go-ethereum/analysis_tool_python/analysis_for_proposal/feature_json/forked/5700000.txt\n",
      "loading  /Users/Jinyue/Documents/go-ethereum/analysis_tool_python/analysis_for_proposal/feature_json/forked/5710000.txt\n",
      "loading  /Users/Jinyue/Documents/go-ethereum/analysis_tool_python/analysis_for_proposal/feature_json/forked/5720000.txt\n",
      "loading  /Users/Jinyue/Documents/go-ethereum/analysis_tool_python/analysis_for_proposal/feature_json/forked/5730000.txt\n",
      "loading  /Users/Jinyue/Documents/go-ethereum/analysis_tool_python/analysis_for_proposal/feature_json/forked/5740000.txt\n",
      "loading  /Users/Jinyue/Documents/go-ethereum/analysis_tool_python/analysis_for_proposal/feature_json/forked/5750000.txt\n",
      "loading  /Users/Jinyue/Documents/go-ethereum/analysis_tool_python/analysis_for_proposal/feature_json/forked/5760000.txt\n",
      "loading  /Users/Jinyue/Documents/go-ethereum/analysis_tool_python/analysis_for_proposal/feature_json/forked/5770000.txt\n",
      "loading  /Users/Jinyue/Documents/go-ethereum/analysis_tool_python/analysis_for_proposal/feature_json/forked/5780000.txt\n"
     ]
    },
    {
     "name": "stdout",
     "output_type": "stream",
     "text": [
      "loading  /Users/Jinyue/Documents/go-ethereum/analysis_tool_python/analysis_for_proposal/feature_json/forked/5790000.txt\n",
      "loading  /Users/Jinyue/Documents/go-ethereum/analysis_tool_python/analysis_for_proposal/feature_json/forked/5800000.txt\n",
      "loading  /Users/Jinyue/Documents/go-ethereum/analysis_tool_python/analysis_for_proposal/feature_json/forked/5810000.txt\n",
      "loading  /Users/Jinyue/Documents/go-ethereum/analysis_tool_python/analysis_for_proposal/feature_json/forked/5820000.txt\n",
      "loading  /Users/Jinyue/Documents/go-ethereum/analysis_tool_python/analysis_for_proposal/feature_json/forked/5830000.txt\n",
      "loading  /Users/Jinyue/Documents/go-ethereum/analysis_tool_python/analysis_for_proposal/feature_json/forked/5840000.txt\n",
      "loading  /Users/Jinyue/Documents/go-ethereum/analysis_tool_python/analysis_for_proposal/feature_json/forked/5850000.txt\n",
      "loading  /Users/Jinyue/Documents/go-ethereum/analysis_tool_python/analysis_for_proposal/feature_json/forked/5860000.txt\n",
      "loading  /Users/Jinyue/Documents/go-ethereum/analysis_tool_python/analysis_for_proposal/feature_json/forked/5870000.txt\n",
      "loading  /Users/Jinyue/Documents/go-ethereum/analysis_tool_python/analysis_for_proposal/feature_json/forked/5880000.txt\n",
      "loading  /Users/Jinyue/Documents/go-ethereum/analysis_tool_python/analysis_for_proposal/feature_json/forked/5890000.txt\n",
      "loading  /Users/Jinyue/Documents/go-ethereum/analysis_tool_python/analysis_for_proposal/feature_json/forked/5900000.txt\n",
      "loading  /Users/Jinyue/Documents/go-ethereum/analysis_tool_python/analysis_for_proposal/feature_json/forked/5910000.txt\n",
      "loading  /Users/Jinyue/Documents/go-ethereum/analysis_tool_python/analysis_for_proposal/feature_json/forked/5920000.txt\n",
      "loading  /Users/Jinyue/Documents/go-ethereum/analysis_tool_python/analysis_for_proposal/feature_json/forked/5930000.txt\n",
      "loading  /Users/Jinyue/Documents/go-ethereum/analysis_tool_python/analysis_for_proposal/feature_json/forked/5940000.txt\n",
      "loading  /Users/Jinyue/Documents/go-ethereum/analysis_tool_python/analysis_for_proposal/feature_json/forked/5950000.txt\n",
      "loading  /Users/Jinyue/Documents/go-ethereum/analysis_tool_python/analysis_for_proposal/feature_json/forked/5960000.txt\n",
      "loading  /Users/Jinyue/Documents/go-ethereum/analysis_tool_python/analysis_for_proposal/feature_json/forked/5970000.txt\n",
      "loading  /Users/Jinyue/Documents/go-ethereum/analysis_tool_python/analysis_for_proposal/feature_json/forked/5980000.txt\n",
      "loading  /Users/Jinyue/Documents/go-ethereum/analysis_tool_python/analysis_for_proposal/feature_json/forked/5990000.txt\n",
      "loading  /Users/Jinyue/Documents/go-ethereum/analysis_tool_python/analysis_for_proposal/feature_json/forked/6000000.txt\n",
      "loading  /Users/Jinyue/Documents/go-ethereum/analysis_tool_python/analysis_for_proposal/feature_json/forked/6010000.txt\n",
      "loading  /Users/Jinyue/Documents/go-ethereum/analysis_tool_python/analysis_for_proposal/feature_json/forked/6020000.txt\n",
      "loading  /Users/Jinyue/Documents/go-ethereum/analysis_tool_python/analysis_for_proposal/feature_json/forked/6030000.txt\n",
      "loading  /Users/Jinyue/Documents/go-ethereum/analysis_tool_python/analysis_for_proposal/feature_json/forked/6040000.txt\n",
      "loading  /Users/Jinyue/Documents/go-ethereum/analysis_tool_python/analysis_for_proposal/feature_json/forked/6050000.txt\n",
      "loading  /Users/Jinyue/Documents/go-ethereum/analysis_tool_python/analysis_for_proposal/feature_json/forked/6060000.txt\n",
      "loading  /Users/Jinyue/Documents/go-ethereum/analysis_tool_python/analysis_for_proposal/feature_json/forked/6070000.txt\n",
      "loading  /Users/Jinyue/Documents/go-ethereum/analysis_tool_python/analysis_for_proposal/feature_json/forked/6080000.txt\n",
      "loading  /Users/Jinyue/Documents/go-ethereum/analysis_tool_python/analysis_for_proposal/feature_json/forked/6090000.txt\n",
      "loading  /Users/Jinyue/Documents/go-ethereum/analysis_tool_python/analysis_for_proposal/feature_json/forked/6100000.txt\n",
      "loading  /Users/Jinyue/Documents/go-ethereum/analysis_tool_python/analysis_for_proposal/feature_json/forked/6110000.txt\n",
      "loading  /Users/Jinyue/Documents/go-ethereum/analysis_tool_python/analysis_for_proposal/feature_json/forked/6120000.txt\n",
      "loading  /Users/Jinyue/Documents/go-ethereum/analysis_tool_python/analysis_for_proposal/feature_json/forked/6130000.txt\n",
      "loading  /Users/Jinyue/Documents/go-ethereum/analysis_tool_python/analysis_for_proposal/feature_json/forked/6140000.txt\n",
      "loading  /Users/Jinyue/Documents/go-ethereum/analysis_tool_python/analysis_for_proposal/feature_json/forked/6150000.txt\n",
      "loading  /Users/Jinyue/Documents/go-ethereum/analysis_tool_python/analysis_for_proposal/feature_json/forked/6160000.txt\n",
      "loading  /Users/Jinyue/Documents/go-ethereum/analysis_tool_python/analysis_for_proposal/feature_json/forked/6170000.txt\n",
      "loading  /Users/Jinyue/Documents/go-ethereum/analysis_tool_python/analysis_for_proposal/feature_json/forked/6180000.txt\n",
      "loading  /Users/Jinyue/Documents/go-ethereum/analysis_tool_python/analysis_for_proposal/feature_json/forked/6190000.txt\n",
      "loading  /Users/Jinyue/Documents/go-ethereum/analysis_tool_python/analysis_for_proposal/feature_json/forked/6200000.txt\n",
      "loading  /Users/Jinyue/Documents/go-ethereum/analysis_tool_python/analysis_for_proposal/feature_json/forked/6210000.txt\n",
      "loading  /Users/Jinyue/Documents/go-ethereum/analysis_tool_python/analysis_for_proposal/feature_json/forked/6220000.txt\n",
      "loading  /Users/Jinyue/Documents/go-ethereum/analysis_tool_python/analysis_for_proposal/feature_json/forked/6230000.txt\n",
      "loading  /Users/Jinyue/Documents/go-ethereum/analysis_tool_python/analysis_for_proposal/feature_json/forked/6240000.txt\n",
      "loading  /Users/Jinyue/Documents/go-ethereum/analysis_tool_python/analysis_for_proposal/feature_json/forked/6250000.txt\n",
      "loading  /Users/Jinyue/Documents/go-ethereum/analysis_tool_python/analysis_for_proposal/feature_json/forked/6260000.txt\n",
      "loading  /Users/Jinyue/Documents/go-ethereum/analysis_tool_python/analysis_for_proposal/feature_json/forked/6270000.txt\n",
      "loading  /Users/Jinyue/Documents/go-ethereum/analysis_tool_python/analysis_for_proposal/feature_json/forked/6280000.txt\n",
      "loading  /Users/Jinyue/Documents/go-ethereum/analysis_tool_python/analysis_for_proposal/feature_json/forked/6290000.txt\n",
      "loading  /Users/Jinyue/Documents/go-ethereum/analysis_tool_python/analysis_for_proposal/feature_json/forked/6300000.txt\n",
      "loading  /Users/Jinyue/Documents/go-ethereum/analysis_tool_python/analysis_for_proposal/feature_json/forked/6310000.txt\n",
      "loading  /Users/Jinyue/Documents/go-ethereum/analysis_tool_python/analysis_for_proposal/feature_json/forked/6320000.txt\n",
      "loading  /Users/Jinyue/Documents/go-ethereum/analysis_tool_python/analysis_for_proposal/feature_json/forked/6330000.txt\n",
      "loading  /Users/Jinyue/Documents/go-ethereum/analysis_tool_python/analysis_for_proposal/feature_json/forked/6340000.txt\n",
      "loading  /Users/Jinyue/Documents/go-ethereum/analysis_tool_python/analysis_for_proposal/feature_json/forked/6350000.txt\n",
      "loading  /Users/Jinyue/Documents/go-ethereum/analysis_tool_python/analysis_for_proposal/feature_json/forked/6360000.txt\n",
      "loading  /Users/Jinyue/Documents/go-ethereum/analysis_tool_python/analysis_for_proposal/feature_json/forked/6370000.txt\n",
      "loading  /Users/Jinyue/Documents/go-ethereum/analysis_tool_python/analysis_for_proposal/feature_json/forked/6380000.txt\n",
      "loading  /Users/Jinyue/Documents/go-ethereum/analysis_tool_python/analysis_for_proposal/feature_json/forked/6390000.txt\n",
      "loading  /Users/Jinyue/Documents/go-ethereum/analysis_tool_python/analysis_for_proposal/feature_json/forked/6400000.txt\n",
      "loading  /Users/Jinyue/Documents/go-ethereum/analysis_tool_python/analysis_for_proposal/feature_json/forked/6410000.txt\n",
      "loading  /Users/Jinyue/Documents/go-ethereum/analysis_tool_python/analysis_for_proposal/feature_json/forked/6420000.txt\n",
      "loading  /Users/Jinyue/Documents/go-ethereum/analysis_tool_python/analysis_for_proposal/feature_json/forked/6430000.txt\n",
      "loading  /Users/Jinyue/Documents/go-ethereum/analysis_tool_python/analysis_for_proposal/feature_json/forked/6440000.txt\n",
      "loading  /Users/Jinyue/Documents/go-ethereum/analysis_tool_python/analysis_for_proposal/feature_json/forked/6450000.txt\n",
      "loading  /Users/Jinyue/Documents/go-ethereum/analysis_tool_python/analysis_for_proposal/feature_json/forked/6460000.txt\n",
      "loading  /Users/Jinyue/Documents/go-ethereum/analysis_tool_python/analysis_for_proposal/feature_json/forked/6470000.txt\n",
      "loading  /Users/Jinyue/Documents/go-ethereum/analysis_tool_python/analysis_for_proposal/feature_json/forked/6480000.txt\n",
      "loading  /Users/Jinyue/Documents/go-ethereum/analysis_tool_python/analysis_for_proposal/feature_json/forked/6490000.txt\n",
      "loading  /Users/Jinyue/Documents/go-ethereum/analysis_tool_python/analysis_for_proposal/feature_json/forked/6500000.txt\n",
      "loading  /Users/Jinyue/Documents/go-ethereum/analysis_tool_python/analysis_for_proposal/feature_json/forked/6510000.txt\n",
      "loading  /Users/Jinyue/Documents/go-ethereum/analysis_tool_python/analysis_for_proposal/feature_json/forked/6520000.txt\n",
      "loading  /Users/Jinyue/Documents/go-ethereum/analysis_tool_python/analysis_for_proposal/feature_json/forked/6530000.txt\n",
      "loading  /Users/Jinyue/Documents/go-ethereum/analysis_tool_python/analysis_for_proposal/feature_json/forked/6540000.txt\n",
      "loading  /Users/Jinyue/Documents/go-ethereum/analysis_tool_python/analysis_for_proposal/feature_json/forked/6550000.txt\n"
     ]
    },
    {
     "name": "stdout",
     "output_type": "stream",
     "text": [
      "loading  /Users/Jinyue/Documents/go-ethereum/analysis_tool_python/analysis_for_proposal/feature_json/forked/6560000.txt\n",
      "loading  /Users/Jinyue/Documents/go-ethereum/analysis_tool_python/analysis_for_proposal/feature_json/forked/6570000.txt\n",
      "loading  /Users/Jinyue/Documents/go-ethereum/analysis_tool_python/analysis_for_proposal/feature_json/forked/6580000.txt\n",
      "loading  /Users/Jinyue/Documents/go-ethereum/analysis_tool_python/analysis_for_proposal/feature_json/forked/6590000.txt\n",
      "loading  /Users/Jinyue/Documents/go-ethereum/analysis_tool_python/analysis_for_proposal/feature_json/forked/6600000.txt\n",
      "loading  /Users/Jinyue/Documents/go-ethereum/analysis_tool_python/analysis_for_proposal/feature_json/forked/6610000.txt\n",
      "loading  /Users/Jinyue/Documents/go-ethereum/analysis_tool_python/analysis_for_proposal/feature_json/forked/6620000.txt\n",
      "loading  /Users/Jinyue/Documents/go-ethereum/analysis_tool_python/analysis_for_proposal/feature_json/forked/6630000.txt\n",
      "loading  /Users/Jinyue/Documents/go-ethereum/analysis_tool_python/analysis_for_proposal/feature_json/forked/6640000.txt\n",
      "loading  /Users/Jinyue/Documents/go-ethereum/analysis_tool_python/analysis_for_proposal/feature_json/forked/6650000.txt\n",
      "loading  /Users/Jinyue/Documents/go-ethereum/analysis_tool_python/analysis_for_proposal/feature_json/forked/6660000.txt\n",
      "loading  /Users/Jinyue/Documents/go-ethereum/analysis_tool_python/analysis_for_proposal/feature_json/forked/6670000.txt\n",
      "loading  /Users/Jinyue/Documents/go-ethereum/analysis_tool_python/analysis_for_proposal/feature_json/forked/6680000.txt\n",
      "loading  /Users/Jinyue/Documents/go-ethereum/analysis_tool_python/analysis_for_proposal/feature_json/forked/6690000.txt\n",
      "loading  /Users/Jinyue/Documents/go-ethereum/analysis_tool_python/analysis_for_proposal/feature_json/forked/6700000.txt\n",
      "loading  /Users/Jinyue/Documents/go-ethereum/analysis_tool_python/analysis_for_proposal/feature_json/forked/6710000.txt\n",
      "loading  /Users/Jinyue/Documents/go-ethereum/analysis_tool_python/analysis_for_proposal/feature_json/forked/6720000.txt\n",
      "loading  /Users/Jinyue/Documents/go-ethereum/analysis_tool_python/analysis_for_proposal/feature_json/forked/6730000.txt\n",
      "loading  /Users/Jinyue/Documents/go-ethereum/analysis_tool_python/analysis_for_proposal/feature_json/forked/6740000.txt\n",
      "loading  /Users/Jinyue/Documents/go-ethereum/analysis_tool_python/analysis_for_proposal/feature_json/forked/6750000.txt\n",
      "loading  /Users/Jinyue/Documents/go-ethereum/analysis_tool_python/analysis_for_proposal/feature_json/forked/6760000.txt\n",
      "loading  /Users/Jinyue/Documents/go-ethereum/analysis_tool_python/analysis_for_proposal/feature_json/forked/6770000.txt\n",
      "loading  /Users/Jinyue/Documents/go-ethereum/analysis_tool_python/analysis_for_proposal/feature_json/forked/6780000.txt\n",
      "loading  /Users/Jinyue/Documents/go-ethereum/analysis_tool_python/analysis_for_proposal/feature_json/forked/6790000.txt\n",
      "loading  /Users/Jinyue/Documents/go-ethereum/analysis_tool_python/analysis_for_proposal/feature_json/forked/6800000.txt\n",
      "loading  /Users/Jinyue/Documents/go-ethereum/analysis_tool_python/analysis_for_proposal/feature_json/forked/6810000.txt\n",
      "loading  /Users/Jinyue/Documents/go-ethereum/analysis_tool_python/analysis_for_proposal/feature_json/forked/6820000.txt\n",
      "loading  /Users/Jinyue/Documents/go-ethereum/analysis_tool_python/analysis_for_proposal/feature_json/forked/6830000.txt\n",
      "loading  /Users/Jinyue/Documents/go-ethereum/analysis_tool_python/analysis_for_proposal/feature_json/forked/6840000.txt\n",
      "loading  /Users/Jinyue/Documents/go-ethereum/analysis_tool_python/analysis_for_proposal/feature_json/forked/6850000.txt\n",
      "loading  /Users/Jinyue/Documents/go-ethereum/analysis_tool_python/analysis_for_proposal/feature_json/forked/6860000.txt\n",
      "loading  /Users/Jinyue/Documents/go-ethereum/analysis_tool_python/analysis_for_proposal/feature_json/forked/6870000.txt\n",
      "loading  /Users/Jinyue/Documents/go-ethereum/analysis_tool_python/analysis_for_proposal/feature_json/forked/6880000.txt\n",
      "loading  /Users/Jinyue/Documents/go-ethereum/analysis_tool_python/analysis_for_proposal/feature_json/forked/6890000.txt\n",
      "loading  /Users/Jinyue/Documents/go-ethereum/analysis_tool_python/analysis_for_proposal/feature_json/forked/6900000.txt\n",
      "loading  /Users/Jinyue/Documents/go-ethereum/analysis_tool_python/analysis_for_proposal/feature_json/forked/6910000.txt\n",
      "loading  /Users/Jinyue/Documents/go-ethereum/analysis_tool_python/analysis_for_proposal/feature_json/forked/6920000.txt\n",
      "loading  /Users/Jinyue/Documents/go-ethereum/analysis_tool_python/analysis_for_proposal/feature_json/forked/6930000.txt\n",
      "loading  /Users/Jinyue/Documents/go-ethereum/analysis_tool_python/analysis_for_proposal/feature_json/forked/6940000.txt\n",
      "loading  /Users/Jinyue/Documents/go-ethereum/analysis_tool_python/analysis_for_proposal/feature_json/forked/6950000.txt\n",
      "loading  /Users/Jinyue/Documents/go-ethereum/analysis_tool_python/analysis_for_proposal/feature_json/forked/6960000.txt\n",
      "loading  /Users/Jinyue/Documents/go-ethereum/analysis_tool_python/analysis_for_proposal/feature_json/forked/6970000.txt\n",
      "loading  /Users/Jinyue/Documents/go-ethereum/analysis_tool_python/analysis_for_proposal/feature_json/forked/6980000.txt\n",
      "loading  /Users/Jinyue/Documents/go-ethereum/analysis_tool_python/analysis_for_proposal/feature_json/forked/6990000.txt\n",
      "loading  /Users/Jinyue/Documents/go-ethereum/analysis_tool_python/analysis_for_proposal/feature_json/forked/7000000.txt\n",
      "loading  /Users/Jinyue/Documents/go-ethereum/analysis_tool_python/analysis_for_proposal/feature_json/forked/7010000.txt\n",
      "loading  /Users/Jinyue/Documents/go-ethereum/analysis_tool_python/analysis_for_proposal/feature_json/forked/7020000.txt\n",
      "loading  /Users/Jinyue/Documents/go-ethereum/analysis_tool_python/analysis_for_proposal/feature_json/forked/7030000.txt\n",
      "loading  /Users/Jinyue/Documents/go-ethereum/analysis_tool_python/analysis_for_proposal/feature_json/forked/7040000.txt\n",
      "loading  /Users/Jinyue/Documents/go-ethereum/analysis_tool_python/analysis_for_proposal/feature_json/forked/7050000.txt\n",
      "loading  /Users/Jinyue/Documents/go-ethereum/analysis_tool_python/analysis_for_proposal/feature_json/forked/7060000.txt\n",
      "loading  /Users/Jinyue/Documents/go-ethereum/analysis_tool_python/analysis_for_proposal/feature_json/forked/7070000.txt\n",
      "loading  /Users/Jinyue/Documents/go-ethereum/analysis_tool_python/analysis_for_proposal/feature_json/forked/7080000.txt\n",
      "loading  /Users/Jinyue/Documents/go-ethereum/analysis_tool_python/analysis_for_proposal/feature_json/forked/7090000.txt\n",
      "loading  /Users/Jinyue/Documents/go-ethereum/analysis_tool_python/analysis_for_proposal/feature_json/forked/7100000.txt\n",
      "loading  /Users/Jinyue/Documents/go-ethereum/analysis_tool_python/analysis_for_proposal/feature_json/forked/7110000.txt\n",
      "loading  /Users/Jinyue/Documents/go-ethereum/analysis_tool_python/analysis_for_proposal/feature_json/forked/7120000.txt\n",
      "loading  /Users/Jinyue/Documents/go-ethereum/analysis_tool_python/analysis_for_proposal/feature_json/forked/7130000.txt\n",
      "loading  /Users/Jinyue/Documents/go-ethereum/analysis_tool_python/analysis_for_proposal/feature_json/forked/7140000.txt\n",
      "loading  /Users/Jinyue/Documents/go-ethereum/analysis_tool_python/analysis_for_proposal/feature_json/forked/7150000.txt\n",
      "loading  /Users/Jinyue/Documents/go-ethereum/analysis_tool_python/analysis_for_proposal/feature_json/forked/7160000.txt\n",
      "loading  /Users/Jinyue/Documents/go-ethereum/analysis_tool_python/analysis_for_proposal/feature_json/forked/7170000.txt\n",
      "loading  /Users/Jinyue/Documents/go-ethereum/analysis_tool_python/analysis_for_proposal/feature_json/forked/7180000.txt\n",
      "loading  /Users/Jinyue/Documents/go-ethereum/analysis_tool_python/analysis_for_proposal/feature_json/forked/7190000.txt\n",
      "loading  /Users/Jinyue/Documents/go-ethereum/analysis_tool_python/analysis_for_proposal/feature_json/forked/7210000.txt\n",
      "loading  /Users/Jinyue/Documents/go-ethereum/analysis_tool_python/analysis_for_proposal/feature_json/forked/7240000.txt\n",
      "loading  /Users/Jinyue/Documents/go-ethereum/analysis_tool_python/analysis_for_proposal/feature_json/forked/7250000.txt\n",
      "loading  /Users/Jinyue/Documents/go-ethereum/analysis_tool_python/analysis_for_proposal/feature_json/forked/7280000.txt\n",
      "loading  /Users/Jinyue/Documents/go-ethereum/analysis_tool_python/analysis_for_proposal/feature_json/forked/7290000.txt\n",
      "loading  /Users/Jinyue/Documents/go-ethereum/analysis_tool_python/analysis_for_proposal/feature_json/forked/7320000.txt\n",
      "loading  /Users/Jinyue/Documents/go-ethereum/analysis_tool_python/analysis_for_proposal/feature_json/forked/7350000.txt\n",
      "loading  /Users/Jinyue/Documents/go-ethereum/analysis_tool_python/analysis_for_proposal/feature_json/forked/7360000.txt\n",
      "loading  /Users/Jinyue/Documents/go-ethereum/analysis_tool_python/analysis_for_proposal/feature_json/forked/7380000.txt\n",
      "loading  /Users/Jinyue/Documents/go-ethereum/analysis_tool_python/analysis_for_proposal/feature_json/forked/7400000.txt\n",
      "loading  /Users/Jinyue/Documents/go-ethereum/analysis_tool_python/analysis_for_proposal/feature_json/forked/7420000.txt\n",
      "loading  /Users/Jinyue/Documents/go-ethereum/analysis_tool_python/analysis_for_proposal/feature_json/forked/7430000.txt\n"
     ]
    },
    {
     "name": "stdout",
     "output_type": "stream",
     "text": [
      "loading  /Users/Jinyue/Documents/go-ethereum/analysis_tool_python/analysis_for_proposal/feature_json/forked/7440000.txt\n",
      "loading  /Users/Jinyue/Documents/go-ethereum/analysis_tool_python/analysis_for_proposal/feature_json/forked/7450000.txt\n",
      "loading  /Users/Jinyue/Documents/go-ethereum/analysis_tool_python/analysis_for_proposal/feature_json/forked/7460000.txt\n",
      "loading  /Users/Jinyue/Documents/go-ethereum/analysis_tool_python/analysis_for_proposal/feature_json/forked/7470000.txt\n",
      "loading  /Users/Jinyue/Documents/go-ethereum/analysis_tool_python/analysis_for_proposal/feature_json/forked/7480000.txt\n",
      "loading  /Users/Jinyue/Documents/go-ethereum/analysis_tool_python/analysis_for_proposal/feature_json/forked/7490000.txt\n",
      "loading  /Users/Jinyue/Documents/go-ethereum/analysis_tool_python/analysis_for_proposal/feature_json/forked/7500000.txt\n",
      "loading  /Users/Jinyue/Documents/go-ethereum/analysis_tool_python/analysis_for_proposal/feature_json/forked/7510000.txt\n",
      "loading  /Users/Jinyue/Documents/go-ethereum/analysis_tool_python/analysis_for_proposal/feature_json/forked/7530000.txt\n",
      "loading  /Users/Jinyue/Documents/go-ethereum/analysis_tool_python/analysis_for_proposal/feature_json/forked/7540000.txt\n",
      "loading  /Users/Jinyue/Documents/go-ethereum/analysis_tool_python/analysis_for_proposal/feature_json/forked/7550000.txt\n",
      "loading  /Users/Jinyue/Documents/go-ethereum/analysis_tool_python/analysis_for_proposal/feature_json/forked/7560000.txt\n",
      "loading  /Users/Jinyue/Documents/go-ethereum/analysis_tool_python/analysis_for_proposal/feature_json/forked/7570000.txt\n",
      "loading  /Users/Jinyue/Documents/go-ethereum/analysis_tool_python/analysis_for_proposal/feature_json/forked/7580000.txt\n",
      "loading  /Users/Jinyue/Documents/go-ethereum/analysis_tool_python/analysis_for_proposal/feature_json/forked/7590000.txt\n",
      "loading  /Users/Jinyue/Documents/go-ethereum/analysis_tool_python/analysis_for_proposal/feature_json/forked/7600000.txt\n",
      "loading  /Users/Jinyue/Documents/go-ethereum/analysis_tool_python/analysis_for_proposal/feature_json/forked/7620000.txt\n",
      "loading  /Users/Jinyue/Documents/go-ethereum/analysis_tool_python/analysis_for_proposal/feature_json/forked/7630000.txt\n",
      "loading  /Users/Jinyue/Documents/go-ethereum/analysis_tool_python/analysis_for_proposal/feature_json/forked/7640000.txt\n",
      "loading  /Users/Jinyue/Documents/go-ethereum/analysis_tool_python/analysis_for_proposal/feature_json/forked/7650000.txt\n",
      "loading  /Users/Jinyue/Documents/go-ethereum/analysis_tool_python/analysis_for_proposal/feature_json/forked/7660000.txt\n",
      "loading  /Users/Jinyue/Documents/go-ethereum/analysis_tool_python/analysis_for_proposal/feature_json/forked/7670000.txt\n",
      "loading  /Users/Jinyue/Documents/go-ethereum/analysis_tool_python/analysis_for_proposal/feature_json/forked/7680000.txt\n",
      "loading  /Users/Jinyue/Documents/go-ethereum/analysis_tool_python/analysis_for_proposal/feature_json/forked/7690000.txt\n",
      "loading  /Users/Jinyue/Documents/go-ethereum/analysis_tool_python/analysis_for_proposal/feature_json/forked/7700000.txt\n",
      "loading  /Users/Jinyue/Documents/go-ethereum/analysis_tool_python/analysis_for_proposal/feature_json/forked/7710000.txt\n",
      "loading  /Users/Jinyue/Documents/go-ethereum/analysis_tool_python/analysis_for_proposal/feature_json/forked/7720000.txt\n",
      "loading  /Users/Jinyue/Documents/go-ethereum/analysis_tool_python/analysis_for_proposal/feature_json/forked/7730000.txt\n",
      "loading  /Users/Jinyue/Documents/go-ethereum/analysis_tool_python/analysis_for_proposal/feature_json/forked/7740000.txt\n",
      "loading  /Users/Jinyue/Documents/go-ethereum/analysis_tool_python/analysis_for_proposal/feature_json/forked/7750000.txt\n",
      "loading  /Users/Jinyue/Documents/go-ethereum/analysis_tool_python/analysis_for_proposal/feature_json/forked/7760000.txt\n",
      "loading  /Users/Jinyue/Documents/go-ethereum/analysis_tool_python/analysis_for_proposal/feature_json/forked/7770000.txt\n",
      "loading  /Users/Jinyue/Documents/go-ethereum/analysis_tool_python/analysis_for_proposal/feature_json/forked/7780000.txt\n",
      "loading  /Users/Jinyue/Documents/go-ethereum/analysis_tool_python/analysis_for_proposal/feature_json/forked/7790000.txt\n",
      "loading  /Users/Jinyue/Documents/go-ethereum/analysis_tool_python/analysis_for_proposal/feature_json/forked/7800000.txt\n",
      "loading  /Users/Jinyue/Documents/go-ethereum/analysis_tool_python/analysis_for_proposal/feature_json/forked/7810000.txt\n",
      "loading  /Users/Jinyue/Documents/go-ethereum/analysis_tool_python/analysis_for_proposal/feature_json/forked/7820000.txt\n",
      "loading  /Users/Jinyue/Documents/go-ethereum/analysis_tool_python/analysis_for_proposal/feature_json/forked/7830000.txt\n",
      "loading  /Users/Jinyue/Documents/go-ethereum/analysis_tool_python/analysis_for_proposal/feature_json/forked/7850000.txt\n",
      "loading  /Users/Jinyue/Documents/go-ethereum/analysis_tool_python/analysis_for_proposal/feature_json/forked/7860000.txt\n",
      "loading  /Users/Jinyue/Documents/go-ethereum/analysis_tool_python/analysis_for_proposal/feature_json/forked/7870000.txt\n",
      "loading  /Users/Jinyue/Documents/go-ethereum/analysis_tool_python/analysis_for_proposal/feature_json/forked/7890000.txt\n",
      "loading  /Users/Jinyue/Documents/go-ethereum/analysis_tool_python/analysis_for_proposal/feature_json/forked/7920000.txt\n",
      "loading  /Users/Jinyue/Documents/go-ethereum/analysis_tool_python/analysis_for_proposal/feature_json/forked/7940000.txt\n",
      "loading  /Users/Jinyue/Documents/go-ethereum/analysis_tool_python/analysis_for_proposal/feature_json/forked/7960000.txt\n",
      "loading  /Users/Jinyue/Documents/go-ethereum/analysis_tool_python/analysis_for_proposal/feature_json/forked/8000000.txt\n",
      "loading  /Users/Jinyue/Documents/go-ethereum/analysis_tool_python/analysis_for_proposal/feature_json/forked/8010000.txt\n",
      "loading  /Users/Jinyue/Documents/go-ethereum/analysis_tool_python/analysis_for_proposal/feature_json/forked/8020000.txt\n",
      "loading  /Users/Jinyue/Documents/go-ethereum/analysis_tool_python/analysis_for_proposal/feature_json/forked/8030000.txt\n",
      "loading  /Users/Jinyue/Documents/go-ethereum/analysis_tool_python/analysis_for_proposal/feature_json/forked/8040000.txt\n",
      "loading  /Users/Jinyue/Documents/go-ethereum/analysis_tool_python/analysis_for_proposal/feature_json/forked/8050000.txt\n",
      "loading  /Users/Jinyue/Documents/go-ethereum/analysis_tool_python/analysis_for_proposal/feature_json/forked/8060000.txt\n",
      "loading  /Users/Jinyue/Documents/go-ethereum/analysis_tool_python/analysis_for_proposal/feature_json/forked/8070000.txt\n",
      "loading  /Users/Jinyue/Documents/go-ethereum/analysis_tool_python/analysis_for_proposal/feature_json/forked/8080000.txt\n",
      "loading  /Users/Jinyue/Documents/go-ethereum/analysis_tool_python/analysis_for_proposal/feature_json/forked/8090000.txt\n",
      "loading  /Users/Jinyue/Documents/go-ethereum/analysis_tool_python/analysis_for_proposal/feature_json/forked/8100000.txt\n",
      "loading  /Users/Jinyue/Documents/go-ethereum/analysis_tool_python/analysis_for_proposal/feature_json/forked/8110000.txt\n",
      "loading  /Users/Jinyue/Documents/go-ethereum/analysis_tool_python/analysis_for_proposal/feature_json/forked/8120000.txt\n",
      "loading  /Users/Jinyue/Documents/go-ethereum/analysis_tool_python/analysis_for_proposal/feature_json/forked/8130000.txt\n",
      "loading  /Users/Jinyue/Documents/go-ethereum/analysis_tool_python/analysis_for_proposal/feature_json/forked/8140000.txt\n",
      "loading  /Users/Jinyue/Documents/go-ethereum/analysis_tool_python/analysis_for_proposal/feature_json/forked/8150000.txt\n",
      "loading  /Users/Jinyue/Documents/go-ethereum/analysis_tool_python/analysis_for_proposal/feature_json/forked/8160000.txt\n",
      "loading  /Users/Jinyue/Documents/go-ethereum/analysis_tool_python/analysis_for_proposal/feature_json/forked/8170000.txt\n",
      "loading  /Users/Jinyue/Documents/go-ethereum/analysis_tool_python/analysis_for_proposal/feature_json/forked/8180000.txt\n",
      "loading  /Users/Jinyue/Documents/go-ethereum/analysis_tool_python/analysis_for_proposal/feature_json/forked/8190000.txt\n",
      "loading  /Users/Jinyue/Documents/go-ethereum/analysis_tool_python/analysis_for_proposal/feature_json/forked/8200000.txt\n",
      "loading  /Users/Jinyue/Documents/go-ethereum/analysis_tool_python/analysis_for_proposal/feature_json/forked/8210000.txt\n",
      "loading  /Users/Jinyue/Documents/go-ethereum/analysis_tool_python/analysis_for_proposal/feature_json/forked/8220000.txt\n",
      "(79242, 10)\n"
     ]
    },
    {
     "data": {
      "text/html": [
       "<div>\n",
       "<style scoped>\n",
       "    .dataframe tbody tr th:only-of-type {\n",
       "        vertical-align: middle;\n",
       "    }\n",
       "\n",
       "    .dataframe tbody tr th {\n",
       "        vertical-align: top;\n",
       "    }\n",
       "\n",
       "    .dataframe thead th {\n",
       "        text-align: right;\n",
       "    }\n",
       "</style>\n",
       "<table border=\"1\" class=\"dataframe\">\n",
       "  <thead>\n",
       "    <tr style=\"text-align: right;\">\n",
       "      <th></th>\n",
       "      <th>difficulty</th>\n",
       "      <th>gasLimit</th>\n",
       "      <th>gasUsed</th>\n",
       "      <th>hash</th>\n",
       "      <th>miner</th>\n",
       "      <th>number</th>\n",
       "      <th>size</th>\n",
       "      <th>timestamp</th>\n",
       "      <th>txNum</th>\n",
       "      <th>uncleNum</th>\n",
       "    </tr>\n",
       "  </thead>\n",
       "  <tbody>\n",
       "    <tr>\n",
       "      <th>0</th>\n",
       "      <td>63331537494188</td>\n",
       "      <td>4712388</td>\n",
       "      <td>0</td>\n",
       "      <td>0xebeabb2e972e6dfe1f3cc7d6eeea5006cea363a24dd4...</td>\n",
       "      <td>0xf3b9d2c81f2b24b0fa0acaaa865b7d9ced5fc2fb</td>\n",
       "      <td>2115684</td>\n",
       "      <td>541</td>\n",
       "      <td>0.0</td>\n",
       "      <td>0</td>\n",
       "      <td>0</td>\n",
       "    </tr>\n",
       "    <tr>\n",
       "      <th>1</th>\n",
       "      <td>63580290188712</td>\n",
       "      <td>4703192</td>\n",
       "      <td>21000</td>\n",
       "      <td>0xc3a168aebfe6a19ca3063527a5eb990a56de91d74b69...</td>\n",
       "      <td>0x2a65aca4d5fc5b5c859090a6c34d164135398226</td>\n",
       "      <td>2115626</td>\n",
       "      <td>1179</td>\n",
       "      <td>0.0</td>\n",
       "      <td>0</td>\n",
       "      <td>0</td>\n",
       "    </tr>\n",
       "    <tr>\n",
       "      <th>2</th>\n",
       "      <td>63240211856690</td>\n",
       "      <td>4712379</td>\n",
       "      <td>0</td>\n",
       "      <td>0x81181666515c77a112739d09736e4db495d7b27b0143...</td>\n",
       "      <td>0x61c808d82a3ac53231750dadc13c777b59310bd9</td>\n",
       "      <td>2115562</td>\n",
       "      <td>532</td>\n",
       "      <td>0.0</td>\n",
       "      <td>0</td>\n",
       "      <td>0</td>\n",
       "    </tr>\n",
       "    <tr>\n",
       "      <th>3</th>\n",
       "      <td>63706474698380</td>\n",
       "      <td>4712388</td>\n",
       "      <td>105000</td>\n",
       "      <td>0xd7aecb487cef45ab492f18e78ae41be0e3f9f8d7e617...</td>\n",
       "      <td>0xea674fdde714fd979de3edf0f56aa9716b898ec8</td>\n",
       "      <td>2115478</td>\n",
       "      <td>2170</td>\n",
       "      <td>0.0</td>\n",
       "      <td>0</td>\n",
       "      <td>0</td>\n",
       "    </tr>\n",
       "    <tr>\n",
       "      <th>4</th>\n",
       "      <td>63737682040116</td>\n",
       "      <td>4712388</td>\n",
       "      <td>321022</td>\n",
       "      <td>0x16edcf526068f01be55c7200fb7dff56145a32a8dd3b...</td>\n",
       "      <td>0x4bb96091ee9d802ed039c4d1a5f6216f90f81b01</td>\n",
       "      <td>2115467</td>\n",
       "      <td>2138</td>\n",
       "      <td>0.0</td>\n",
       "      <td>0</td>\n",
       "      <td>0</td>\n",
       "    </tr>\n",
       "  </tbody>\n",
       "</table>\n",
       "</div>"
      ],
      "text/plain": [
       "       difficulty  gasLimit  gasUsed  \\\n",
       "0  63331537494188   4712388        0   \n",
       "1  63580290188712   4703192    21000   \n",
       "2  63240211856690   4712379        0   \n",
       "3  63706474698380   4712388   105000   \n",
       "4  63737682040116   4712388   321022   \n",
       "\n",
       "                                                hash  \\\n",
       "0  0xebeabb2e972e6dfe1f3cc7d6eeea5006cea363a24dd4...   \n",
       "1  0xc3a168aebfe6a19ca3063527a5eb990a56de91d74b69...   \n",
       "2  0x81181666515c77a112739d09736e4db495d7b27b0143...   \n",
       "3  0xd7aecb487cef45ab492f18e78ae41be0e3f9f8d7e617...   \n",
       "4  0x16edcf526068f01be55c7200fb7dff56145a32a8dd3b...   \n",
       "\n",
       "                                        miner   number  size  timestamp  \\\n",
       "0  0xf3b9d2c81f2b24b0fa0acaaa865b7d9ced5fc2fb  2115684   541        0.0   \n",
       "1  0x2a65aca4d5fc5b5c859090a6c34d164135398226  2115626  1179        0.0   \n",
       "2  0x61c808d82a3ac53231750dadc13c777b59310bd9  2115562   532        0.0   \n",
       "3  0xea674fdde714fd979de3edf0f56aa9716b898ec8  2115478  2170        0.0   \n",
       "4  0x4bb96091ee9d802ed039c4d1a5f6216f90f81b01  2115467  2138        0.0   \n",
       "\n",
       "   txNum  uncleNum  \n",
       "0      0         0  \n",
       "1      0         0  \n",
       "2      0         0  \n",
       "3      0         0  \n",
       "4      0         0  "
      ]
     },
     "execution_count": 70,
     "metadata": {},
     "output_type": "execute_result"
    }
   ],
   "source": [
    "forked_df = None\n",
    "\n",
    "for filename in sorted(os.listdir(FORKED_PATH)):\n",
    "    if filename.endswith(\".txt\"):\n",
    "        print('loading ', FORKED_PATH + filename)\n",
    "        new_forked = pd.read_json(FORKED_PATH + filename, lines=True)\n",
    "        forked_df = pd.concat([forked_df, new_forked], ignore_index=True)\n",
    "\n",
    "print(forked_df.shape)\n",
    "forked_df.head()"
   ]
  },
  {
   "cell_type": "markdown",
   "metadata": {},
   "source": [
    "### Load Canonical"
   ]
  },
  {
   "cell_type": "code",
   "execution_count": 71,
   "metadata": {},
   "outputs": [
    {
     "name": "stdout",
     "output_type": "stream",
     "text": [
      "loading  /Users/Jinyue/Documents/go-ethereum/analysis_tool_python/analysis_for_proposal/feature_json/canonical/6830000.txt\n",
      "loading  /Users/Jinyue/Documents/go-ethereum/analysis_tool_python/analysis_for_proposal/feature_json/canonical/6840000.txt\n",
      "loading  /Users/Jinyue/Documents/go-ethereum/analysis_tool_python/analysis_for_proposal/feature_json/canonical/6850000.txt\n",
      "loading  /Users/Jinyue/Documents/go-ethereum/analysis_tool_python/analysis_for_proposal/feature_json/canonical/6860000.txt\n",
      "loading  /Users/Jinyue/Documents/go-ethereum/analysis_tool_python/analysis_for_proposal/feature_json/canonical/6870000.txt\n",
      "loading  /Users/Jinyue/Documents/go-ethereum/analysis_tool_python/analysis_for_proposal/feature_json/canonical/6880000.txt\n",
      "loading  /Users/Jinyue/Documents/go-ethereum/analysis_tool_python/analysis_for_proposal/feature_json/canonical/6890000.txt\n",
      "loading  /Users/Jinyue/Documents/go-ethereum/analysis_tool_python/analysis_for_proposal/feature_json/canonical/6900000.txt\n",
      "loading  /Users/Jinyue/Documents/go-ethereum/analysis_tool_python/analysis_for_proposal/feature_json/canonical/6910000.txt\n",
      "loading  /Users/Jinyue/Documents/go-ethereum/analysis_tool_python/analysis_for_proposal/feature_json/canonical/6920000.txt\n",
      "loading  /Users/Jinyue/Documents/go-ethereum/analysis_tool_python/analysis_for_proposal/feature_json/canonical/6930000.txt\n",
      "loading  /Users/Jinyue/Documents/go-ethereum/analysis_tool_python/analysis_for_proposal/feature_json/canonical/6940000.txt\n",
      "loading  /Users/Jinyue/Documents/go-ethereum/analysis_tool_python/analysis_for_proposal/feature_json/canonical/6950000.txt\n",
      "loading  /Users/Jinyue/Documents/go-ethereum/analysis_tool_python/analysis_for_proposal/feature_json/canonical/6960000.txt\n",
      "loading  /Users/Jinyue/Documents/go-ethereum/analysis_tool_python/analysis_for_proposal/feature_json/canonical/6970000.txt\n",
      "loading  /Users/Jinyue/Documents/go-ethereum/analysis_tool_python/analysis_for_proposal/feature_json/canonical/6980000.txt\n",
      "loading  /Users/Jinyue/Documents/go-ethereum/analysis_tool_python/analysis_for_proposal/feature_json/canonical/6990000.txt\n",
      "loading  /Users/Jinyue/Documents/go-ethereum/analysis_tool_python/analysis_for_proposal/feature_json/canonical/7000000.txt\n",
      "loading  /Users/Jinyue/Documents/go-ethereum/analysis_tool_python/analysis_for_proposal/feature_json/canonical/7010000.txt\n",
      "loading  /Users/Jinyue/Documents/go-ethereum/analysis_tool_python/analysis_for_proposal/feature_json/canonical/7020000.txt\n",
      "loading  /Users/Jinyue/Documents/go-ethereum/analysis_tool_python/analysis_for_proposal/feature_json/canonical/7030000.txt\n",
      "loading  /Users/Jinyue/Documents/go-ethereum/analysis_tool_python/analysis_for_proposal/feature_json/canonical/7040000.txt\n",
      "loading  /Users/Jinyue/Documents/go-ethereum/analysis_tool_python/analysis_for_proposal/feature_json/canonical/7050000.txt\n",
      "loading  /Users/Jinyue/Documents/go-ethereum/analysis_tool_python/analysis_for_proposal/feature_json/canonical/7060000.txt\n",
      "loading  /Users/Jinyue/Documents/go-ethereum/analysis_tool_python/analysis_for_proposal/feature_json/canonical/7070000.txt\n",
      "loading  /Users/Jinyue/Documents/go-ethereum/analysis_tool_python/analysis_for_proposal/feature_json/canonical/7080000.txt\n",
      "loading  /Users/Jinyue/Documents/go-ethereum/analysis_tool_python/analysis_for_proposal/feature_json/canonical/7090000.txt\n",
      "loading  /Users/Jinyue/Documents/go-ethereum/analysis_tool_python/analysis_for_proposal/feature_json/canonical/7100000.txt\n",
      "loading  /Users/Jinyue/Documents/go-ethereum/analysis_tool_python/analysis_for_proposal/feature_json/canonical/7110000.txt\n",
      "loading  /Users/Jinyue/Documents/go-ethereum/analysis_tool_python/analysis_for_proposal/feature_json/canonical/7120000.txt\n",
      "loading  /Users/Jinyue/Documents/go-ethereum/analysis_tool_python/analysis_for_proposal/feature_json/canonical/7130000.txt\n",
      "loading  /Users/Jinyue/Documents/go-ethereum/analysis_tool_python/analysis_for_proposal/feature_json/canonical/7140000.txt\n",
      "loading  /Users/Jinyue/Documents/go-ethereum/analysis_tool_python/analysis_for_proposal/feature_json/canonical/7150000.txt\n",
      "loading  /Users/Jinyue/Documents/go-ethereum/analysis_tool_python/analysis_for_proposal/feature_json/canonical/7160000.txt\n",
      "loading  /Users/Jinyue/Documents/go-ethereum/analysis_tool_python/analysis_for_proposal/feature_json/canonical/7170000.txt\n",
      "loading  /Users/Jinyue/Documents/go-ethereum/analysis_tool_python/analysis_for_proposal/feature_json/canonical/7180000.txt\n",
      "loading  /Users/Jinyue/Documents/go-ethereum/analysis_tool_python/analysis_for_proposal/feature_json/canonical/7190000.txt\n",
      "loading  /Users/Jinyue/Documents/go-ethereum/analysis_tool_python/analysis_for_proposal/feature_json/canonical/7200000.txt\n",
      "loading  /Users/Jinyue/Documents/go-ethereum/analysis_tool_python/analysis_for_proposal/feature_json/canonical/7210000.txt\n",
      "loading  /Users/Jinyue/Documents/go-ethereum/analysis_tool_python/analysis_for_proposal/feature_json/canonical/7220000.txt\n",
      "loading  /Users/Jinyue/Documents/go-ethereum/analysis_tool_python/analysis_for_proposal/feature_json/canonical/7230000.txt\n",
      "loading  /Users/Jinyue/Documents/go-ethereum/analysis_tool_python/analysis_for_proposal/feature_json/canonical/7240000.txt\n",
      "loading  /Users/Jinyue/Documents/go-ethereum/analysis_tool_python/analysis_for_proposal/feature_json/canonical/7250000.txt\n",
      "loading  /Users/Jinyue/Documents/go-ethereum/analysis_tool_python/analysis_for_proposal/feature_json/canonical/7260000.txt\n",
      "loading  /Users/Jinyue/Documents/go-ethereum/analysis_tool_python/analysis_for_proposal/feature_json/canonical/7270000.txt\n",
      "loading  /Users/Jinyue/Documents/go-ethereum/analysis_tool_python/analysis_for_proposal/feature_json/canonical/7280000.txt\n",
      "loading  /Users/Jinyue/Documents/go-ethereum/analysis_tool_python/analysis_for_proposal/feature_json/canonical/7290000.txt\n",
      "loading  /Users/Jinyue/Documents/go-ethereum/analysis_tool_python/analysis_for_proposal/feature_json/canonical/7300000.txt\n",
      "loading  /Users/Jinyue/Documents/go-ethereum/analysis_tool_python/analysis_for_proposal/feature_json/canonical/7310000.txt\n",
      "loading  /Users/Jinyue/Documents/go-ethereum/analysis_tool_python/analysis_for_proposal/feature_json/canonical/7320000.txt\n",
      "loading  /Users/Jinyue/Documents/go-ethereum/analysis_tool_python/analysis_for_proposal/feature_json/canonical/7330000.txt\n",
      "loading  /Users/Jinyue/Documents/go-ethereum/analysis_tool_python/analysis_for_proposal/feature_json/canonical/7340000.txt\n",
      "loading  /Users/Jinyue/Documents/go-ethereum/analysis_tool_python/analysis_for_proposal/feature_json/canonical/7350000.txt\n",
      "loading  /Users/Jinyue/Documents/go-ethereum/analysis_tool_python/analysis_for_proposal/feature_json/canonical/7360000.txt\n",
      "loading  /Users/Jinyue/Documents/go-ethereum/analysis_tool_python/analysis_for_proposal/feature_json/canonical/7370000.txt\n",
      "loading  /Users/Jinyue/Documents/go-ethereum/analysis_tool_python/analysis_for_proposal/feature_json/canonical/7380000.txt\n",
      "loading  /Users/Jinyue/Documents/go-ethereum/analysis_tool_python/analysis_for_proposal/feature_json/canonical/7390000.txt\n",
      "loading  /Users/Jinyue/Documents/go-ethereum/analysis_tool_python/analysis_for_proposal/feature_json/canonical/7400000.txt\n",
      "loading  /Users/Jinyue/Documents/go-ethereum/analysis_tool_python/analysis_for_proposal/feature_json/canonical/7410000.txt\n",
      "loading  /Users/Jinyue/Documents/go-ethereum/analysis_tool_python/analysis_for_proposal/feature_json/canonical/7420000.txt\n",
      "loading  /Users/Jinyue/Documents/go-ethereum/analysis_tool_python/analysis_for_proposal/feature_json/canonical/7430000.txt\n",
      "loading  /Users/Jinyue/Documents/go-ethereum/analysis_tool_python/analysis_for_proposal/feature_json/canonical/7440000.txt\n",
      "loading  /Users/Jinyue/Documents/go-ethereum/analysis_tool_python/analysis_for_proposal/feature_json/canonical/7450000.txt\n",
      "loading  /Users/Jinyue/Documents/go-ethereum/analysis_tool_python/analysis_for_proposal/feature_json/canonical/7460000.txt\n",
      "loading  /Users/Jinyue/Documents/go-ethereum/analysis_tool_python/analysis_for_proposal/feature_json/canonical/7470000.txt\n",
      "loading  /Users/Jinyue/Documents/go-ethereum/analysis_tool_python/analysis_for_proposal/feature_json/canonical/7480000.txt\n",
      "loading  /Users/Jinyue/Documents/go-ethereum/analysis_tool_python/analysis_for_proposal/feature_json/canonical/7490000.txt\n"
     ]
    },
    {
     "name": "stdout",
     "output_type": "stream",
     "text": [
      "loading  /Users/Jinyue/Documents/go-ethereum/analysis_tool_python/analysis_for_proposal/feature_json/canonical/7500000.txt\n",
      "loading  /Users/Jinyue/Documents/go-ethereum/analysis_tool_python/analysis_for_proposal/feature_json/canonical/7510000.txt\n",
      "loading  /Users/Jinyue/Documents/go-ethereum/analysis_tool_python/analysis_for_proposal/feature_json/canonical/7520000.txt\n",
      "loading  /Users/Jinyue/Documents/go-ethereum/analysis_tool_python/analysis_for_proposal/feature_json/canonical/7530000.txt\n",
      "loading  /Users/Jinyue/Documents/go-ethereum/analysis_tool_python/analysis_for_proposal/feature_json/canonical/7540000.txt\n",
      "loading  /Users/Jinyue/Documents/go-ethereum/analysis_tool_python/analysis_for_proposal/feature_json/canonical/7550000.txt\n",
      "loading  /Users/Jinyue/Documents/go-ethereum/analysis_tool_python/analysis_for_proposal/feature_json/canonical/7560000.txt\n",
      "loading  /Users/Jinyue/Documents/go-ethereum/analysis_tool_python/analysis_for_proposal/feature_json/canonical/7570000.txt\n",
      "loading  /Users/Jinyue/Documents/go-ethereum/analysis_tool_python/analysis_for_proposal/feature_json/canonical/7580000.txt\n",
      "loading  /Users/Jinyue/Documents/go-ethereum/analysis_tool_python/analysis_for_proposal/feature_json/canonical/7590000.txt\n",
      "loading  /Users/Jinyue/Documents/go-ethereum/analysis_tool_python/analysis_for_proposal/feature_json/canonical/7600000.txt\n",
      "loading  /Users/Jinyue/Documents/go-ethereum/analysis_tool_python/analysis_for_proposal/feature_json/canonical/7610000.txt\n",
      "loading  /Users/Jinyue/Documents/go-ethereum/analysis_tool_python/analysis_for_proposal/feature_json/canonical/7620000.txt\n",
      "loading  /Users/Jinyue/Documents/go-ethereum/analysis_tool_python/analysis_for_proposal/feature_json/canonical/7630000.txt\n",
      "loading  /Users/Jinyue/Documents/go-ethereum/analysis_tool_python/analysis_for_proposal/feature_json/canonical/7640000.txt\n",
      "loading  /Users/Jinyue/Documents/go-ethereum/analysis_tool_python/analysis_for_proposal/feature_json/canonical/7650000.txt\n",
      "loading  /Users/Jinyue/Documents/go-ethereum/analysis_tool_python/analysis_for_proposal/feature_json/canonical/7660000.txt\n",
      "loading  /Users/Jinyue/Documents/go-ethereum/analysis_tool_python/analysis_for_proposal/feature_json/canonical/7670000.txt\n",
      "loading  /Users/Jinyue/Documents/go-ethereum/analysis_tool_python/analysis_for_proposal/feature_json/canonical/7680000.txt\n",
      "loading  /Users/Jinyue/Documents/go-ethereum/analysis_tool_python/analysis_for_proposal/feature_json/canonical/7690000.txt\n",
      "loading  /Users/Jinyue/Documents/go-ethereum/analysis_tool_python/analysis_for_proposal/feature_json/canonical/7700000.txt\n",
      "loading  /Users/Jinyue/Documents/go-ethereum/analysis_tool_python/analysis_for_proposal/feature_json/canonical/7710000.txt\n",
      "loading  /Users/Jinyue/Documents/go-ethereum/analysis_tool_python/analysis_for_proposal/feature_json/canonical/7720000.txt\n",
      "loading  /Users/Jinyue/Documents/go-ethereum/analysis_tool_python/analysis_for_proposal/feature_json/canonical/7730000.txt\n",
      "loading  /Users/Jinyue/Documents/go-ethereum/analysis_tool_python/analysis_for_proposal/feature_json/canonical/7740000.txt\n",
      "loading  /Users/Jinyue/Documents/go-ethereum/analysis_tool_python/analysis_for_proposal/feature_json/canonical/7750000.txt\n",
      "loading  /Users/Jinyue/Documents/go-ethereum/analysis_tool_python/analysis_for_proposal/feature_json/canonical/7760000.txt\n",
      "loading  /Users/Jinyue/Documents/go-ethereum/analysis_tool_python/analysis_for_proposal/feature_json/canonical/7770000.txt\n",
      "loading  /Users/Jinyue/Documents/go-ethereum/analysis_tool_python/analysis_for_proposal/feature_json/canonical/7780000.txt\n",
      "loading  /Users/Jinyue/Documents/go-ethereum/analysis_tool_python/analysis_for_proposal/feature_json/canonical/7790000.txt\n",
      "loading  /Users/Jinyue/Documents/go-ethereum/analysis_tool_python/analysis_for_proposal/feature_json/canonical/7800000.txt\n",
      "loading  /Users/Jinyue/Documents/go-ethereum/analysis_tool_python/analysis_for_proposal/feature_json/canonical/7810000.txt\n",
      "loading  /Users/Jinyue/Documents/go-ethereum/analysis_tool_python/analysis_for_proposal/feature_json/canonical/7820000.txt\n",
      "loading  /Users/Jinyue/Documents/go-ethereum/analysis_tool_python/analysis_for_proposal/feature_json/canonical/7830000.txt\n",
      "loading  /Users/Jinyue/Documents/go-ethereum/analysis_tool_python/analysis_for_proposal/feature_json/canonical/7840000.txt\n",
      "loading  /Users/Jinyue/Documents/go-ethereum/analysis_tool_python/analysis_for_proposal/feature_json/canonical/7850000.txt\n",
      "loading  /Users/Jinyue/Documents/go-ethereum/analysis_tool_python/analysis_for_proposal/feature_json/canonical/7860000.txt\n",
      "loading  /Users/Jinyue/Documents/go-ethereum/analysis_tool_python/analysis_for_proposal/feature_json/canonical/7870000.txt\n",
      "loading  /Users/Jinyue/Documents/go-ethereum/analysis_tool_python/analysis_for_proposal/feature_json/canonical/7880000.txt\n",
      "loading  /Users/Jinyue/Documents/go-ethereum/analysis_tool_python/analysis_for_proposal/feature_json/canonical/7890000.txt\n",
      "loading  /Users/Jinyue/Documents/go-ethereum/analysis_tool_python/analysis_for_proposal/feature_json/canonical/7900000.txt\n",
      "loading  /Users/Jinyue/Documents/go-ethereum/analysis_tool_python/analysis_for_proposal/feature_json/canonical/7910000.txt\n",
      "loading  /Users/Jinyue/Documents/go-ethereum/analysis_tool_python/analysis_for_proposal/feature_json/canonical/7920000.txt\n",
      "loading  /Users/Jinyue/Documents/go-ethereum/analysis_tool_python/analysis_for_proposal/feature_json/canonical/7930000.txt\n",
      "loading  /Users/Jinyue/Documents/go-ethereum/analysis_tool_python/analysis_for_proposal/feature_json/canonical/7940000.txt\n",
      "loading  /Users/Jinyue/Documents/go-ethereum/analysis_tool_python/analysis_for_proposal/feature_json/canonical/7950000.txt\n",
      "loading  /Users/Jinyue/Documents/go-ethereum/analysis_tool_python/analysis_for_proposal/feature_json/canonical/7960000.txt\n",
      "loading  /Users/Jinyue/Documents/go-ethereum/analysis_tool_python/analysis_for_proposal/feature_json/canonical/7970000.txt\n",
      "loading  /Users/Jinyue/Documents/go-ethereum/analysis_tool_python/analysis_for_proposal/feature_json/canonical/7980000.txt\n",
      "loading  /Users/Jinyue/Documents/go-ethereum/analysis_tool_python/analysis_for_proposal/feature_json/canonical/7990000.txt\n",
      "loading  /Users/Jinyue/Documents/go-ethereum/analysis_tool_python/analysis_for_proposal/feature_json/canonical/8000000.txt\n",
      "loading  /Users/Jinyue/Documents/go-ethereum/analysis_tool_python/analysis_for_proposal/feature_json/canonical/8010000.txt\n",
      "loading  /Users/Jinyue/Documents/go-ethereum/analysis_tool_python/analysis_for_proposal/feature_json/canonical/8020000.txt\n",
      "loading  /Users/Jinyue/Documents/go-ethereum/analysis_tool_python/analysis_for_proposal/feature_json/canonical/8030000.txt\n",
      "loading  /Users/Jinyue/Documents/go-ethereum/analysis_tool_python/analysis_for_proposal/feature_json/canonical/8040000.txt\n",
      "loading  /Users/Jinyue/Documents/go-ethereum/analysis_tool_python/analysis_for_proposal/feature_json/canonical/8050000.txt\n",
      "loading  /Users/Jinyue/Documents/go-ethereum/analysis_tool_python/analysis_for_proposal/feature_json/canonical/8060000.txt\n",
      "loading  /Users/Jinyue/Documents/go-ethereum/analysis_tool_python/analysis_for_proposal/feature_json/canonical/8070000.txt\n",
      "loading  /Users/Jinyue/Documents/go-ethereum/analysis_tool_python/analysis_for_proposal/feature_json/canonical/8080000.txt\n",
      "loading  /Users/Jinyue/Documents/go-ethereum/analysis_tool_python/analysis_for_proposal/feature_json/canonical/8090000.txt\n",
      "loading  /Users/Jinyue/Documents/go-ethereum/analysis_tool_python/analysis_for_proposal/feature_json/canonical/8100000.txt\n",
      "loading  /Users/Jinyue/Documents/go-ethereum/analysis_tool_python/analysis_for_proposal/feature_json/canonical/8110000.txt\n",
      "loading  /Users/Jinyue/Documents/go-ethereum/analysis_tool_python/analysis_for_proposal/feature_json/canonical/8120000.txt\n",
      "loading  /Users/Jinyue/Documents/go-ethereum/analysis_tool_python/analysis_for_proposal/feature_json/canonical/8130000.txt\n",
      "loading  /Users/Jinyue/Documents/go-ethereum/analysis_tool_python/analysis_for_proposal/feature_json/canonical/8140000.txt\n",
      "loading  /Users/Jinyue/Documents/go-ethereum/analysis_tool_python/analysis_for_proposal/feature_json/canonical/8150000.txt\n",
      "loading  /Users/Jinyue/Documents/go-ethereum/analysis_tool_python/analysis_for_proposal/feature_json/canonical/8160000.txt\n"
     ]
    },
    {
     "name": "stdout",
     "output_type": "stream",
     "text": [
      "loading  /Users/Jinyue/Documents/go-ethereum/analysis_tool_python/analysis_for_proposal/feature_json/canonical/8170000.txt\n",
      "loading  /Users/Jinyue/Documents/go-ethereum/analysis_tool_python/analysis_for_proposal/feature_json/canonical/8180000.txt\n",
      "loading  /Users/Jinyue/Documents/go-ethereum/analysis_tool_python/analysis_for_proposal/feature_json/canonical/8190000.txt\n",
      "loading  /Users/Jinyue/Documents/go-ethereum/analysis_tool_python/analysis_for_proposal/feature_json/canonical/8200000.txt\n",
      "loading  /Users/Jinyue/Documents/go-ethereum/analysis_tool_python/analysis_for_proposal/feature_json/canonical/8210000.txt\n",
      "loading  /Users/Jinyue/Documents/go-ethereum/analysis_tool_python/analysis_for_proposal/feature_json/canonical/8220000.txt\n",
      "loading  /Users/Jinyue/Documents/go-ethereum/analysis_tool_python/analysis_for_proposal/feature_json/canonical/8230000.txt\n",
      "loading  /Users/Jinyue/Documents/go-ethereum/analysis_tool_python/analysis_for_proposal/feature_json/canonical/8240000.txt\n",
      "loading  /Users/Jinyue/Documents/go-ethereum/analysis_tool_python/analysis_for_proposal/feature_json/canonical/8250000.txt\n",
      "loading  /Users/Jinyue/Documents/go-ethereum/analysis_tool_python/analysis_for_proposal/feature_json/canonical/8260000.txt\n",
      "loading  /Users/Jinyue/Documents/go-ethereum/analysis_tool_python/analysis_for_proposal/feature_json/canonical/8270000.txt\n",
      "loading  /Users/Jinyue/Documents/go-ethereum/analysis_tool_python/analysis_for_proposal/feature_json/canonical/8280000.txt\n",
      "loading  /Users/Jinyue/Documents/go-ethereum/analysis_tool_python/analysis_for_proposal/feature_json/canonical/8290000.txt\n",
      "loading  /Users/Jinyue/Documents/go-ethereum/analysis_tool_python/analysis_for_proposal/feature_json/canonical/8300000.txt\n",
      "loading  /Users/Jinyue/Documents/go-ethereum/analysis_tool_python/analysis_for_proposal/feature_json/canonical/8310000.txt\n",
      "loading  /Users/Jinyue/Documents/go-ethereum/analysis_tool_python/analysis_for_proposal/feature_json/canonical/8320000.txt\n",
      "loading  /Users/Jinyue/Documents/go-ethereum/analysis_tool_python/analysis_for_proposal/feature_json/canonical/8330000.txt\n",
      "loading  /Users/Jinyue/Documents/go-ethereum/analysis_tool_python/analysis_for_proposal/feature_json/canonical/8340000.txt\n",
      "loading  /Users/Jinyue/Documents/go-ethereum/analysis_tool_python/analysis_for_proposal/feature_json/canonical/8350000.txt\n",
      "loading  /Users/Jinyue/Documents/go-ethereum/analysis_tool_python/analysis_for_proposal/feature_json/canonical/8360000.txt\n",
      "(1537179, 10)\n"
     ]
    },
    {
     "data": {
      "text/html": [
       "<div>\n",
       "<style scoped>\n",
       "    .dataframe tbody tr th:only-of-type {\n",
       "        vertical-align: middle;\n",
       "    }\n",
       "\n",
       "    .dataframe tbody tr th {\n",
       "        vertical-align: top;\n",
       "    }\n",
       "\n",
       "    .dataframe thead th {\n",
       "        text-align: right;\n",
       "    }\n",
       "</style>\n",
       "<table border=\"1\" class=\"dataframe\">\n",
       "  <thead>\n",
       "    <tr style=\"text-align: right;\">\n",
       "      <th></th>\n",
       "      <th>difficulty</th>\n",
       "      <th>gasLimit</th>\n",
       "      <th>gasUsed</th>\n",
       "      <th>hash</th>\n",
       "      <th>miner</th>\n",
       "      <th>number</th>\n",
       "      <th>size</th>\n",
       "      <th>timestamp</th>\n",
       "      <th>txNum</th>\n",
       "      <th>uncleNum</th>\n",
       "    </tr>\n",
       "  </thead>\n",
       "  <tbody>\n",
       "    <tr>\n",
       "      <th>0</th>\n",
       "      <td>0x88622c2bfedab</td>\n",
       "      <td>8000029</td>\n",
       "      <td>7999694</td>\n",
       "      <td>0xa74abd1fe708da69f311447bde33193e9b23af3a6eec...</td>\n",
       "      <td>0x5a0b54d5dc17e0aadc383d2db43b0a0d3e029c4c</td>\n",
       "      <td>6839999</td>\n",
       "      <td>30787</td>\n",
       "      <td>0.0</td>\n",
       "      <td>183</td>\n",
       "      <td>0</td>\n",
       "    </tr>\n",
       "    <tr>\n",
       "      <th>1</th>\n",
       "      <td>0x88723a734d445</td>\n",
       "      <td>7994877</td>\n",
       "      <td>742283</td>\n",
       "      <td>0xd6a9a861552586be4f4ecbaf14754d142bb1887e67f8...</td>\n",
       "      <td>0x2a5994b501e6a560e727b6c2de5d856396aadd38</td>\n",
       "      <td>6839998</td>\n",
       "      <td>3598</td>\n",
       "      <td>0.0</td>\n",
       "      <td>15</td>\n",
       "      <td>0</td>\n",
       "    </tr>\n",
       "    <tr>\n",
       "      <th>2</th>\n",
       "      <td>0x88713a734d445</td>\n",
       "      <td>8000029</td>\n",
       "      <td>1815372</td>\n",
       "      <td>0xc8958f7838145975ab421e3a0c08a4eeab955233fd63...</td>\n",
       "      <td>0x52bc44d5378309ee2abf1539bf71de1b7d7be3b5</td>\n",
       "      <td>6839997</td>\n",
       "      <td>7253</td>\n",
       "      <td>0.0</td>\n",
       "      <td>46</td>\n",
       "      <td>0</td>\n",
       "    </tr>\n",
       "    <tr>\n",
       "      <th>3</th>\n",
       "      <td>0x88814a9ca0d86</td>\n",
       "      <td>8000000</td>\n",
       "      <td>7985081</td>\n",
       "      <td>0x423d96a9aaf78b780bd0bb93a25a45a57260f16b1106...</td>\n",
       "      <td>0x2a65aca4d5fc5b5c859090a6c34d164135398226</td>\n",
       "      <td>6839996</td>\n",
       "      <td>19764</td>\n",
       "      <td>0.0</td>\n",
       "      <td>127</td>\n",
       "      <td>0</td>\n",
       "    </tr>\n",
       "    <tr>\n",
       "      <th>4</th>\n",
       "      <td>0x886f3cb50a372</td>\n",
       "      <td>8000000</td>\n",
       "      <td>7610034</td>\n",
       "      <td>0xbee381dabfe10ec32d6d28cd34c1c7200d0593f84d0d...</td>\n",
       "      <td>0x829bd824b016326a401d083b33d092293333a830</td>\n",
       "      <td>6839995</td>\n",
       "      <td>28231</td>\n",
       "      <td>0.0</td>\n",
       "      <td>194</td>\n",
       "      <td>0</td>\n",
       "    </tr>\n",
       "  </tbody>\n",
       "</table>\n",
       "</div>"
      ],
      "text/plain": [
       "        difficulty  gasLimit  gasUsed  \\\n",
       "0  0x88622c2bfedab   8000029  7999694   \n",
       "1  0x88723a734d445   7994877   742283   \n",
       "2  0x88713a734d445   8000029  1815372   \n",
       "3  0x88814a9ca0d86   8000000  7985081   \n",
       "4  0x886f3cb50a372   8000000  7610034   \n",
       "\n",
       "                                                hash  \\\n",
       "0  0xa74abd1fe708da69f311447bde33193e9b23af3a6eec...   \n",
       "1  0xd6a9a861552586be4f4ecbaf14754d142bb1887e67f8...   \n",
       "2  0xc8958f7838145975ab421e3a0c08a4eeab955233fd63...   \n",
       "3  0x423d96a9aaf78b780bd0bb93a25a45a57260f16b1106...   \n",
       "4  0xbee381dabfe10ec32d6d28cd34c1c7200d0593f84d0d...   \n",
       "\n",
       "                                        miner   number   size  timestamp  \\\n",
       "0  0x5a0b54d5dc17e0aadc383d2db43b0a0d3e029c4c  6839999  30787        0.0   \n",
       "1  0x2a5994b501e6a560e727b6c2de5d856396aadd38  6839998   3598        0.0   \n",
       "2  0x52bc44d5378309ee2abf1539bf71de1b7d7be3b5  6839997   7253        0.0   \n",
       "3  0x2a65aca4d5fc5b5c859090a6c34d164135398226  6839996  19764        0.0   \n",
       "4  0x829bd824b016326a401d083b33d092293333a830  6839995  28231        0.0   \n",
       "\n",
       "   txNum  uncleNum  \n",
       "0    183         0  \n",
       "1     15         0  \n",
       "2     46         0  \n",
       "3    127         0  \n",
       "4    194         0  "
      ]
     },
     "execution_count": 71,
     "metadata": {},
     "output_type": "execute_result"
    }
   ],
   "source": [
    "canonical_df = None\n",
    "\n",
    "for filename in sorted(os.listdir(CANONICAL_PATH)):\n",
    "    if filename.endswith(\".txt\"):\n",
    "        print('loading ', CANONICAL_PATH + filename)\n",
    "        new_canonical = pd.read_json(CANONICAL_PATH + filename, lines=True)\n",
    "        canonical_df = pd.concat([canonical_df, new_canonical], ignore_index=True)\n",
    "\n",
    "print(canonical_df.shape)\n",
    "canonical_df.head()"
   ]
  },
  {
   "cell_type": "markdown",
   "metadata": {},
   "source": [
    "## Step 1: Basic Analysis\n",
    "\n",
    "Feature list:  \n",
    "1. uncleNum \n",
    "2. txNum \n",
    "3. timestamp diff  \n",
    "4. size \n",
    "5. number \n",
    "6. miner  \n",
    "7. gasUsed \n",
    "8. gasLimit \n",
    "9. difficulty"
   ]
  },
  {
   "cell_type": "markdown",
   "metadata": {},
   "source": [
    "### Analyse basic status of the broadcast dataset   "
   ]
  },
  {
   "cell_type": "markdown",
   "metadata": {},
   "source": [
    "#### Broadcast Dataframe columns"
   ]
  },
  {
   "cell_type": "code",
   "execution_count": 92,
   "metadata": {},
   "outputs": [
    {
     "data": {
      "text/plain": [
       "Index(['difficulty', 'gasLimit', 'gasUsed', 'hash', 'miner', 'number', 'size',\n",
       "       'timestamp', 'txNum', 'uncleNum'],\n",
       "      dtype='object')"
      ]
     },
     "execution_count": 92,
     "metadata": {},
     "output_type": "execute_result"
    }
   ],
   "source": [
    "broadcast_df.columns"
   ]
  },
  {
   "cell_type": "markdown",
   "metadata": {},
   "source": [
    "#### Find broadcast height range"
   ]
  },
  {
   "cell_type": "code",
   "execution_count": 97,
   "metadata": {},
   "outputs": [
    {
     "name": "stdout",
     "output_type": "stream",
     "text": [
      "8997231\n",
      "1\n"
     ]
    }
   ],
   "source": [
    "print(max(broadcast_df.number))\n",
    "print(min(broadcast_df.number))"
   ]
  },
  {
   "cell_type": "markdown",
   "metadata": {},
   "source": [
    "#### Broadcast height distribution"
   ]
  },
  {
   "cell_type": "code",
   "execution_count": 98,
   "metadata": {},
   "outputs": [
    {
     "data": {
      "text/plain": [
       "count    4.048800e+05\n",
       "mean     8.558960e+06\n",
       "std      1.431152e+05\n",
       "min      1.000000e+00\n",
       "25%      8.462265e+06\n",
       "50%      8.563458e+06\n",
       "75%      8.664678e+06\n",
       "max      8.997231e+06\n",
       "Name: number, dtype: float64"
      ]
     },
     "execution_count": 98,
     "metadata": {},
     "output_type": "execute_result"
    }
   ],
   "source": [
    "broadcast_df.number.describe()"
   ]
  },
  {
   "cell_type": "markdown",
   "metadata": {},
   "source": [
    "#### Broadcast Blocks info with max and min heights"
   ]
  },
  {
   "cell_type": "code",
   "execution_count": 99,
   "metadata": {},
   "outputs": [
    {
     "name": "stdout",
     "output_type": "stream",
     "text": [
      "404878\n",
      "1\n"
     ]
    }
   ],
   "source": [
    "print(broadcast_df.number.idxmax())\n",
    "print(broadcast_df.number.idxmin())"
   ]
  },
  {
   "cell_type": "code",
   "execution_count": 100,
   "metadata": {},
   "outputs": [],
   "source": [
    "highest_block = broadcast_df.iloc[404878]\n",
    "lowest_block = broadcast_df.iloc[1]"
   ]
  },
  {
   "cell_type": "code",
   "execution_count": 109,
   "metadata": {},
   "outputs": [
    {
     "data": {
      "text/plain": [
       "difficulty                                      121752483473963\n",
       "gasLimit                                                8000029\n",
       "gasUsed                                                       0\n",
       "hash          0xc0d4b276fcbcde7bf366c0796ee84622432d38e82277...\n",
       "miner                0x9EAb4b0fC468A7f5D46228bf5a76cB52370d068D\n",
       "number                                                  8997231\n",
       "size                                                     0x1088\n",
       "timestamp                                                     0\n",
       "txNum                                                         0\n",
       "uncleNum                                                      0\n",
       "Name: 404878, dtype: object"
      ]
     },
     "execution_count": 109,
     "metadata": {},
     "output_type": "execute_result"
    }
   ],
   "source": [
    "highest_block"
   ]
  },
  {
   "cell_type": "code",
   "execution_count": 101,
   "metadata": {},
   "outputs": [
    {
     "data": {
      "text/plain": [
       "difficulty                                          17171480576\n",
       "gasLimit                                                   5003\n",
       "gasUsed                                                       0\n",
       "hash          0x700aadd703c81b067d39422f793f2d694afbfd72156a...\n",
       "miner                0x0A0393d4f9988126EEEc6d2B47c816e633a20C22\n",
       "number                                                        1\n",
       "size                                                     0x10d8\n",
       "timestamp                                                     0\n",
       "txNum                                                         0\n",
       "uncleNum                                                      0\n",
       "Name: 1, dtype: object"
      ]
     },
     "execution_count": 101,
     "metadata": {},
     "output_type": "execute_result"
    }
   ],
   "source": [
    "lowest_block"
   ]
  },
  {
   "cell_type": "code",
   "execution_count": 102,
   "metadata": {},
   "outputs": [
    {
     "name": "stdout",
     "output_type": "stream",
     "text": [
      "highest blick hash:  0xc0d4b276fcbcde7bf366c0796ee84622432d38e8227763ede20a92951b009c9e\n",
      "lowest block hash:  0x700aadd703c81b067d39422f793f2d694afbfd72156ab6c41689cdc1d07d9578\n"
     ]
    }
   ],
   "source": [
    "print('highest blick hash: ', highest_block.hash)\n",
    "print('lowest block hash: ', lowest_block.hash)"
   ]
  },
  {
   "cell_type": "code",
   "execution_count": 103,
   "metadata": {},
   "outputs": [
    {
     "name": "stdout",
     "output_type": "stream",
     "text": [
      "highest block gasLimit:  8000029\n",
      "lowest block gasLimit:  5003\n"
     ]
    }
   ],
   "source": [
    "print('highest block gasLimit: ', highest_block.gasLimit)\n",
    "print('lowest block gasLimit: ', lowest_block.gasLimit)"
   ]
  },
  {
   "cell_type": "code",
   "execution_count": 104,
   "metadata": {},
   "outputs": [
    {
     "name": "stdout",
     "output_type": "stream",
     "text": [
      "highest block gasUsed:  0\n",
      "lowest block gasUsed:  0\n"
     ]
    }
   ],
   "source": [
    "print('highest block gasUsed: ', highest_block.gasUsed)\n",
    "print('lowest block gasUsed: ', lowest_block.gasUsed)"
   ]
  },
  {
   "cell_type": "code",
   "execution_count": 105,
   "metadata": {},
   "outputs": [
    {
     "name": "stdout",
     "output_type": "stream",
     "text": [
      "highest block timestamp difference:  0.0\n",
      "lowest block timestamp difference:  0.0\n"
     ]
    }
   ],
   "source": [
    "from datetime import datetime\n",
    "\n",
    "print('highest block timestamp difference: ', highest_block.timestamp)\n",
    "print('lowest block timestamp difference: ', lowest_block.timestamp)"
   ]
  },
  {
   "cell_type": "code",
   "execution_count": 106,
   "metadata": {},
   "outputs": [
    {
     "name": "stdout",
     "output_type": "stream",
     "text": [
      "highest block miner:  0x9EAb4b0fC468A7f5D46228bf5a76cB52370d068D\n",
      "lowest block miner:  0x0A0393d4f9988126EEEc6d2B47c816e633a20C22\n"
     ]
    }
   ],
   "source": [
    "print('highest block miner: ', highest_block.miner)\n",
    "print('lowest block miner: ', lowest_block.miner)"
   ]
  },
  {
   "cell_type": "markdown",
   "metadata": {},
   "source": [
    "### Collect all zero gasUsed blocks from broadcast\n",
    "We find it is interesting that many blocks are 0 in gasUsed column. And they don't wrap any txs, which means the blocks are empty. The reason is miners are doing the SPV Mining. Miners just want to get the block reward and ignore the waiting txs.  \n",
    "Blocks with 0 gasUsed appear in both broadcast and canonical datasets."
   ]
  },
  {
   "cell_type": "code",
   "execution_count": 110,
   "metadata": {},
   "outputs": [],
   "source": [
    "zero_gasUsed_blocks = broadcast_df.loc[broadcast_df.gasUsed == 0]"
   ]
  },
  {
   "cell_type": "code",
   "execution_count": 111,
   "metadata": {},
   "outputs": [],
   "source": [
    "zero_gasUsed_blocks.to_csv('zero_gasUsed_blocks.csv')"
   ]
  },
  {
   "cell_type": "code",
   "execution_count": 112,
   "metadata": {},
   "outputs": [
    {
     "data": {
      "text/html": [
       "<div>\n",
       "<style scoped>\n",
       "    .dataframe tbody tr th:only-of-type {\n",
       "        vertical-align: middle;\n",
       "    }\n",
       "\n",
       "    .dataframe tbody tr th {\n",
       "        vertical-align: top;\n",
       "    }\n",
       "\n",
       "    .dataframe thead th {\n",
       "        text-align: right;\n",
       "    }\n",
       "</style>\n",
       "<table border=\"1\" class=\"dataframe\">\n",
       "  <thead>\n",
       "    <tr style=\"text-align: right;\">\n",
       "      <th></th>\n",
       "      <th>difficulty</th>\n",
       "      <th>gasLimit</th>\n",
       "      <th>gasUsed</th>\n",
       "      <th>hash</th>\n",
       "      <th>miner</th>\n",
       "      <th>number</th>\n",
       "      <th>size</th>\n",
       "      <th>timestamp</th>\n",
       "      <th>txNum</th>\n",
       "      <th>uncleNum</th>\n",
       "    </tr>\n",
       "  </thead>\n",
       "  <tbody>\n",
       "    <tr>\n",
       "      <th>0</th>\n",
       "      <td>16971378211</td>\n",
       "      <td>5075</td>\n",
       "      <td>0</td>\n",
       "      <td>0x05b9a338eff90e6dba91dabf47e2ac84fad93baaa8a5...</td>\n",
       "      <td>0x093A0Ed738B65ed34f2A37a2D44c5e3Cd0D0DD45</td>\n",
       "      <td>25</td>\n",
       "      <td>0x10c8</td>\n",
       "      <td>0.0</td>\n",
       "      <td>0</td>\n",
       "      <td>0</td>\n",
       "    </tr>\n",
       "    <tr>\n",
       "      <th>1</th>\n",
       "      <td>17171480576</td>\n",
       "      <td>5003</td>\n",
       "      <td>0</td>\n",
       "      <td>0x700aadd703c81b067d39422f793f2d694afbfd72156a...</td>\n",
       "      <td>0x0A0393d4f9988126EEEc6d2B47c816e633a20C22</td>\n",
       "      <td>1</td>\n",
       "      <td>0x10d8</td>\n",
       "      <td>0.0</td>\n",
       "      <td>0</td>\n",
       "      <td>0</td>\n",
       "    </tr>\n",
       "    <tr>\n",
       "      <th>2</th>\n",
       "      <td>17163096064</td>\n",
       "      <td>5000</td>\n",
       "      <td>0</td>\n",
       "      <td>0xb495a1d7e6663152ae92708da4843337b958146015a2...</td>\n",
       "      <td>0xdd2F1e6e498202e86D8f5442Af596580A4f03c2C</td>\n",
       "      <td>2</td>\n",
       "      <td>0x1100</td>\n",
       "      <td>0.0</td>\n",
       "      <td>0</td>\n",
       "      <td>0</td>\n",
       "    </tr>\n",
       "    <tr>\n",
       "      <th>3</th>\n",
       "      <td>17154715646</td>\n",
       "      <td>5009</td>\n",
       "      <td>0</td>\n",
       "      <td>0x43be5526c636c00c391fd0a3ac635e0f2568a10102c5...</td>\n",
       "      <td>0x41F872e72813b24C2986aed888e76638264de0b9</td>\n",
       "      <td>3</td>\n",
       "      <td>0x10c8</td>\n",
       "      <td>0.0</td>\n",
       "      <td>0</td>\n",
       "      <td>0</td>\n",
       "    </tr>\n",
       "    <tr>\n",
       "      <th>8</th>\n",
       "      <td>131072</td>\n",
       "      <td>6283192</td>\n",
       "      <td>0</td>\n",
       "      <td>0x0ad0c10e9adfa0246156ec4ef612d3f2dc6ccf1f0c8c...</td>\n",
       "      <td>0x9f97783b4Fa9663fCcdaC1411cD3488F0B609068</td>\n",
       "      <td>6170160</td>\n",
       "      <td>0x31eb</td>\n",
       "      <td>0.0</td>\n",
       "      <td>0</td>\n",
       "      <td>0</td>\n",
       "    </tr>\n",
       "  </tbody>\n",
       "</table>\n",
       "</div>"
      ],
      "text/plain": [
       "    difficulty gasLimit gasUsed  \\\n",
       "0  16971378211     5075       0   \n",
       "1  17171480576     5003       0   \n",
       "2  17163096064     5000       0   \n",
       "3  17154715646     5009       0   \n",
       "8       131072  6283192       0   \n",
       "\n",
       "                                                hash  \\\n",
       "0  0x05b9a338eff90e6dba91dabf47e2ac84fad93baaa8a5...   \n",
       "1  0x700aadd703c81b067d39422f793f2d694afbfd72156a...   \n",
       "2  0xb495a1d7e6663152ae92708da4843337b958146015a2...   \n",
       "3  0x43be5526c636c00c391fd0a3ac635e0f2568a10102c5...   \n",
       "8  0x0ad0c10e9adfa0246156ec4ef612d3f2dc6ccf1f0c8c...   \n",
       "\n",
       "                                        miner   number    size  timestamp  \\\n",
       "0  0x093A0Ed738B65ed34f2A37a2D44c5e3Cd0D0DD45       25  0x10c8        0.0   \n",
       "1  0x0A0393d4f9988126EEEc6d2B47c816e633a20C22        1  0x10d8        0.0   \n",
       "2  0xdd2F1e6e498202e86D8f5442Af596580A4f03c2C        2  0x1100        0.0   \n",
       "3  0x41F872e72813b24C2986aed888e76638264de0b9        3  0x10c8        0.0   \n",
       "8  0x9f97783b4Fa9663fCcdaC1411cD3488F0B609068  6170160  0x31eb        0.0   \n",
       "\n",
       "  txNum uncleNum  \n",
       "0     0        0  \n",
       "1     0        0  \n",
       "2     0        0  \n",
       "3     0        0  \n",
       "8     0        0  "
      ]
     },
     "execution_count": 112,
     "metadata": {},
     "output_type": "execute_result"
    }
   ],
   "source": [
    "zero_gasUsed_blocks.head()"
   ]
  },
  {
   "cell_type": "code",
   "execution_count": 113,
   "metadata": {},
   "outputs": [
    {
     "data": {
      "text/plain": [
       "(15356, 10)"
      ]
     },
     "execution_count": 113,
     "metadata": {},
     "output_type": "execute_result"
    }
   ],
   "source": [
    "zero_gasUsed_blocks.shape"
   ]
  },
  {
   "cell_type": "code",
   "execution_count": 114,
   "metadata": {},
   "outputs": [
    {
     "data": {
      "text/plain": [
       "(1537179, 10)"
      ]
     },
     "execution_count": 114,
     "metadata": {},
     "output_type": "execute_result"
    }
   ],
   "source": [
    "canonical_df.shape"
   ]
  },
  {
   "cell_type": "code",
   "execution_count": 115,
   "metadata": {},
   "outputs": [
    {
     "data": {
      "text/plain": [
       "count    1.537179e+06\n",
       "mean     6.578537e+06\n",
       "std      2.462412e+06\n",
       "min      0.000000e+00\n",
       "25%      6.233308e+06\n",
       "50%      7.980697e+06\n",
       "75%      7.991907e+06\n",
       "max      8.073919e+06\n",
       "Name: gasUsed, dtype: float64"
      ]
     },
     "execution_count": 115,
     "metadata": {},
     "output_type": "execute_result"
    }
   ],
   "source": [
    "canonical_df.gasUsed.describe()"
   ]
  },
  {
   "cell_type": "code",
   "execution_count": 116,
   "metadata": {},
   "outputs": [],
   "source": [
    "zero_gasUsed_canonical = canonical_df.loc[canonical_df.gasUsed == 0]"
   ]
  },
  {
   "cell_type": "code",
   "execution_count": 117,
   "metadata": {},
   "outputs": [
    {
     "data": {
      "text/plain": [
       "(27773, 10)"
      ]
     },
     "execution_count": 117,
     "metadata": {},
     "output_type": "execute_result"
    }
   ],
   "source": [
    "zero_gasUsed_canonical.shape"
   ]
  },
  {
   "cell_type": "markdown",
   "metadata": {},
   "source": [
    "## Step 2: Clean and Prepare Data"
   ]
  },
  {
   "cell_type": "code",
   "execution_count": 119,
   "metadata": {},
   "outputs": [
    {
     "data": {
      "text/plain": [
       "8997231"
      ]
     },
     "execution_count": 119,
     "metadata": {},
     "output_type": "execute_result"
    }
   ],
   "source": [
    "max(broadcast_df.number)"
   ]
  },
  {
   "cell_type": "code",
   "execution_count": 118,
   "metadata": {},
   "outputs": [
    {
     "data": {
      "text/plain": [
       "8369850"
      ]
     },
     "execution_count": 118,
     "metadata": {},
     "output_type": "execute_result"
    }
   ],
   "source": [
    "max(canonical_df.number)"
   ]
  },
  {
   "cell_type": "code",
   "execution_count": 120,
   "metadata": {},
   "outputs": [
    {
     "data": {
      "text/plain": [
       "7999992"
      ]
     },
     "execution_count": 120,
     "metadata": {},
     "output_type": "execute_result"
    }
   ],
   "source": [
    "max(uncle_df.number)"
   ]
  },
  {
   "cell_type": "code",
   "execution_count": 121,
   "metadata": {},
   "outputs": [
    {
     "data": {
      "text/plain": [
       "8229264"
      ]
     },
     "execution_count": 121,
     "metadata": {},
     "output_type": "execute_result"
    }
   ],
   "source": [
    "max(forked_df.number)"
   ]
  },
  {
   "cell_type": "markdown",
   "metadata": {},
   "source": [
    "### Delete broadcast blocks who are out of the canonical height range  \n",
    "When broadcast blocks are in pending, we cannot label them as (canonical) 0 or (non canonical) 1. So, just delete them."
   ]
  },
  {
   "cell_type": "markdown",
   "metadata": {},
   "source": [
    "### Get broadcast before canonical max height"
   ]
  },
  {
   "cell_type": "code",
   "execution_count": 383,
   "metadata": {},
   "outputs": [
    {
     "name": "stdout",
     "output_type": "stream",
     "text": [
      "original broadcast size:  (404880, 10)\n",
      "cleaned broadcast size:  (8785, 10)\n",
      "max broadcast height:  8369816\n"
     ]
    }
   ],
   "source": [
    "raw_broadcast_df = broadcast_df.loc[broadcast_df.number <= max(canonical_df.number)]\n",
    "print('original broadcast size: ', broadcast_df.shape)\n",
    "print('cleaned broadcast size: ', raw_broadcast_df.shape)\n",
    "print('max broadcast height: ', max(raw_broadcast_df.number))"
   ]
  },
  {
   "cell_type": "markdown",
   "metadata": {},
   "source": [
    "### Delete canonical blocks from broadcast block dataset\n",
    "Hash values are random numbers and they should not be considered as a factor to affect the result. "
   ]
  },
  {
   "cell_type": "code",
   "execution_count": 384,
   "metadata": {},
   "outputs": [
    {
     "name": "stderr",
     "output_type": "stream",
     "text": [
      "/Users/Jinyue/anaconda3/lib/python3.6/site-packages/pandas/core/frame.py:3940: SettingWithCopyWarning: \n",
      "A value is trying to be set on a copy of a slice from a DataFrame\n",
      "\n",
      "See the caveats in the documentation: http://pandas.pydata.org/pandas-docs/stable/indexing.html#indexing-view-versus-copy\n",
      "  errors=errors)\n"
     ]
    }
   ],
   "source": [
    "cond = raw_broadcast_df['hash'].isin(canonical_df['hash']) == True\n",
    "raw_broadcast_df.drop(raw_broadcast_df[cond].index, inplace=True)"
   ]
  },
  {
   "cell_type": "code",
   "execution_count": 385,
   "metadata": {},
   "outputs": [
    {
     "name": "stdout",
     "output_type": "stream",
     "text": [
      "6417\n",
      "6417\n",
      "(8785, 10)\n",
      "['0x13c1', '0x5fdfb8', '0x5fdfb8', '0x5fdfb8', '0x7a6da1', '0x7a121d', '0x7a1200', '0x7a1200', '0x7a1200', '0x7a121d', '0x7a1200', '0x7a6dbd', '0x7a66eb', '0x7a1200', '0x7a3083', '0x7a1200', '0x7a1200', '0x7a1200', '0x7a2125', '0x7a3083', '0x7a121d', '0x7a1200', '0x7a1200', '0x7a1200', '0x7a8c24', '0x7a4af3', '0x7a7732', '0x7a121d', '0x7a121d', '0x7a121d', '0x7a1200', '0x7a1200', '0x7a121d', '0x7a1200', '0x7a1200', '0x7a1937', '0x7a1200', '0x7a121d', '0x7a2158', '0x7a1200', '0x7a1200', '0x7a1200', '0x7a1200', '0x7a121d', '0x7a121d', '0x7a1200', '0x7a309c', '0x7a121d', '0x7a1200', '0x7a1200', '0x7a121d', '0x7a1200', '0x7a121d', '0x7a2158', '0x7a1200', '0x7a1200', '0x7a30a0', '0x7a121d', '0x7a1200', '0x7a213c', '0x7a1200', '0x7a1200', '0x7a3083', '0x7a1200', '0x7a3861', '0x7a19d4', '0x7a121d', '0x7a1200', '0x7a2143', '0x7a1200', '0x7a121d', '0x7a121d', '0x7a121d', '0x7a1200', '0x7a2a83', '0x7a121d', '0x7a309c', '0x7a1211', '0x7a3083', '0x7a121d', '0x7a1200', '0x7a34cf', '0x7a2137', '0x7a1200', '0x7a1200', '0x7a5310', '0x7a121d', '0x7a1274', '0x7a1200', '0x7a1200', '0x7a3fdd', '0x7a4f11', '0x7a1200', '0x7a3356', '0x7a121d', '0x7a1200', '0x7a212c', '0x7a1200', '0x7a1200', '0x7a121d', '0x7a121d', '0x7a2129', '0x7a121d', '0x7a2453', '0x7a121d', '0x7a30a0', '0x7a1200', '0x7a1200', '0x7a3f6f', '0x7a121d', '0x7a3083', '0x7a3083', '0x7a1200', '0x7a121d', '0x7a121d', '0x7a121d', '0x7a2d74', '0x7a121d', '0x7a212c', '0x7a6724', '0x7a1200', '0x7a1200', '0x7a121d', '0x7a121d', '0x7a121d', '0x7a1215', '0x7a121d', '0x7a1200', '0x7a2135', '0x7a1200', '0x7a2134', '0x7a121d', '0x7a121d', '0x7a1200', '0x7a1200', '0x7a2141', '0x7a3fc5', '0x7a1200', '0x7a1200', '0x7a121d', '0x7a1200', '0x7a3faf', '0x7a30a0', '0x7a3083', '0x7a1200', '0x7a121d', '0x7a121d', '0x7a1200', '0x7a2137', '0x7a1200', '0x7a121d', '0x7a3f83', '0x7a1200', '0x7a451f', '0x7a1200', '0x7a1200', '0x7a24f0', '0x7a1200', '0x7a121d', '0x7a1200', '0x7a206f', '0x7a1200', '0x7a20ee', '0x7a212c', '0x7a121d', '0x7a1200', '0x7a1200', '0x7a121d', '0x7a1200', '0x7a26c9', '0x7a1200', '0x7a1200', '0x7a20b3', '0x7a1200', '0x7a1949', '0x7a20d2', '0x7a1200', '0x7a3f9c', '0x7a309c', '0x7a121d', '0x7a1200', '0x7a4ef2', '0x7a213b', '0x7a1200', '0x7a1200', '0x7a309c', '0x7a1200', '0x7a23e1', '0x7a208d', '0x7a1200', '0x7a1200', '0x7a1200', '0x7a3fb1', '0x7a2917', '0x7a1200', '0x7a121d', '0x7a121d', '0x7a121d', '0x7a121d', '0x7a3fb2', '0x7a1200', '0x7a3973', '0x7a30a0', '0x7a5e31', '0x7a3fb3', '0x7a1200', '0x7a121d', '0x7a1200', '0x7a1200', '0x7a3083', '0x7a1200', '0x7a1200', '0x7a121d', '0x7a3083', '0x7a1539', '0x7a121d', '0x7a1200', '0x7a4eb5', '0x7a648b', '0x7a73d1', '0x7a121d', '0x7a121d', '0x7a1200', '0x7a309c', '0x7a212f', '0x7a1200', '0x7a1200', '0x7a121d', '0x7a1200', '0x7a1200', '0x7a1200', '0x7a121d', '0x7a299b', '0x7a2139', '0x7a30a0', '0x7a13dd', '0x7a1200', '0x7a30a0', '0x7a1200', '0x7a1200', '0x7a1200', '0x7a3099', '0x7a1200', '0x7a1200', '0x7a2db8', '0x7a1200', '0x7a2108', '0x7a1200', '0x7a121d', '0x7a121d', '0x7a30a0', '0x7a3052', '0x7a3083', '0x7a121d', '0x7a1200', '0x7a121d', '0x7a1200', '0x7a121d', '0x7a121d', '0x7a121d', '0x7a121d', '0x7a121d', '0x7a4ee2', '0x7a34f5', '0x7a1200', '0x7a1200', '0x7a1200', '0x7a121d', '0x7a2125', '0x7a121d', '0x7a1200', '0x7aaa93', '0x7a1200', '0x7a3eec', '0x7a1200', '0x7a1200', '0x7a5e2a', '0x7a121d', '0x7a3098', '0x7a214a', '0x7a1200', '0x7a1200', '0x7a121d', '0x7a1200', '0x7a3f5f', '0x7a121d', '0x7a121d', '0x7a1200', '0x7a121d', '0x7a3fc9', '0x7a121d', '0x7a121d', '0x7a121d', '0x7a2142', '0x7a6d87', '0x7a121d', '0x7a3083', '0x7a1200', '0x7a1200', '0x7a3083', '0x7a309c', '0x7a121d', '0x7a1200', '0x7a3083', '0x7a1200', '0x7a1200', '0x7a2126', '0x7a20c9', '0x7a121d', '0x7a121d', '0x7a1200', '0x7a1200', '0x7a1200', '0x7a1200', '0x7a2102', '0x7a1aee', '0x7a121d', '0x7a20dc', '0x7a1200', '0x7a1200', '0x7a121d', '0x7a121d', '0x7a146d', '0x7a1200', '0x7a2133', '0x7a1200', '0x7a121d', '0x7a2d18', '0x7a1200', '0x7a1200', '0x7a3083', '0x7a1215', '0x7a1200', '0x7a1200', '0x7a20b6', '0x7a30a0', '0x7a1d43', '0x7a31cc', '0x7a1200', '0x7a1200', '0x7a121d', '0x79f39e', '0x7a121d', '0x7a30a0', '0x7a1200', '0x7a1200', '0x7a1200', '0x7a1200', '0x7a1200', '0x7a121d', '0x7a307c', '0x7a121d', '0x7a121d', '0x7a30a0', '0x7a121d', '0x7a121d', '0x7a1200', '0x7a4f2b', '0x7a1200', '0x7a121d', '0x7a1200', '0x7a1200', '0x7a1200', '0x7a121d', '0x7a1200', '0x7a1200', '0x7a121d', '0x7a121d', '0x7a121d', '0x7a1200', '0x7a121d', '0x7a121d', '0x7a121d', '0x7a121d', '0x7a1200', '0x7a1200', '0x7a3707', '0x7a1200', '0x7a1200', '0x7a121d', '0x7a121d', '0x7a1200', '0x7a3f9f', '0x7a1200', '0x7a121d', '0x7a121d', '0x7a121d', '0x7a121d', '0x7a121d', '0x7a2132', '0x7a121d', '0x7a3083', '0x7a9de0', '0x7a6fc0', '0x7a5146', '0x7a1200', '0x7a4cb1', '0x7a121d', '0x7a1200', '0x7a1200', '0x7a121d', '0x7a1200', '0x7a1200', '0x7a121d', '0x7a1200', '0x7a1200', '0x7a1200', '0x7a121d', '0x7a215f', '0x7a2148', '0x7a3fc4', '0x7a30a0', '0x7a1200', '0x7a121d', '0x7a1200', '0x7a1200', '0x7a1200', '0x7a1200', '0x7a1200', '0x7a121d', '0x7a1200', '0x7a1200', '0x7a121d', '0x7a1200', '0x7a30a0', '0x7a1200', '0x7a121d', '0x7a120e', '0x7a17e5', '0x7a1200', '0x7a1200', '0x7a1200', '0x7a2048', '0x7a1200', '0x7a1200', '0x7a121d', '0x7a306d', '0x7a3072', '0x7a121d', '0x7a30a0', '0x7a121d', '0x7a3fe3', '0x7a121d', '0x7a1200', '0x7a215c', '0x7a1200', '0x7a1200', '0x7a2d26', '0x7a121d', '0x7a1200', '0x7a121d', '0x7a1200', '0x7a1200', '0x7a3fa3', '0x7a121d', '0x7a121d', '0x7a1200', '0x7a121d', '0x7a121d', '0x7a121d', '0x7a121d', '0x7a3083', '0x7a30a0', '0x7a121d', '0x7a1200', '0x7a23f1', '0x7a4772', '0x7a2133', '0x7a2134', '0x7a2e21', '0x7a1200', '0x7a1215', '0x7a1200', '0x7a1200', '0x7a121d', '0x7a214a', '0x7a1200', '0x7a3083', '0x7a1200', '0x7a1200', '0x7a3fa5', '0x7a1200', '0x7a2150', '0x7a2125', '0x7a3083', '0x7a4f0e', '0x7a1200', '0x7a121d', '0x7a1200', '0x7a2152', '0x7a1a2a', '0x7a28a9', '0x7a2e02', '0x7a121d', '0x7a1200', '0x7a2142', '0x7a3fc1', '0x7a1200', '0x7a121d', '0x7a1200', '0x7a39ba', '0x7a2145', '0x7a121d', '0x7a1200', '0x7a121d', '0x7a121d', '0x7a4f0e', '0x7a26a3', '0x7a3083', '0x7a121d', '0x7a6332', '0x7a2136', '0x7a1200', '0x7a1200', '0x7a214a', '0x7a1200', '0x7a121d', '0x7a30a0', '0x7a1200', '0x7a3077', '0x7a3f9c', '0x7a1200', '0x7a1200', '0x7a121d', '0x7a121d', '0x7a212e', '0x7a4ecd', '0x7a121d', '0x7a121d', '0x7a1200', '0x7a3071', '0x7a121d', '0x7a121d', '0x7a121d', '0x7a1200', '0x7a1200', '0x7a121d', '0x7a3083', '0x7a1200', '0x7a1200', '0x7a121d', '0x7a1200', '0x7a3072', '0x7a1200', '0x7a3077', '0x7a5e54', '0x7a121d', '0x7a215d', '0x7a1200', '0x7a1200', '0x7a1200', '0x7a1200', '0x7a209d', '0x7a1200', '0x7a121d', '0x7a1200', '0x7a4f23', '0x7a1200', '0x7a121d', '0x7a3027', '0x7a1200', '0x7a1200', '0x7a1200', '0x7a121d', '0x7a121d', '0x7a121d', '0x7a121d', '0x7a121d', '0x7a1200', '0x7a3083', '0x7a1200', '0x7a30a0', '0x7a1200', '0x7a1200', '0x7a1200', '0x7a121d', '0x7a2fb5', '0x7a121d', '0x7a309c', '0x7a1200', '0x7a1200', '0x7a1200', '0x7a121d', '0x7a1200', '0x7a1200', '0x7a1200', '0x7a1200', '0x7a121d', '0x7a1200', '0x7a121d', '0x7a30a0', '0x7a121d', '0x7a1200', '0x7a121d', '0x7a1215', '0x7a4e4d', '0x7a121d', '0x7a1200', '0x7a1200', '0x7a121d', '0x7a1200', '0x7a121d', '0x7a33b7', '0x7a121d', '0x7a1d6e', '0x7a3756', '0x7a121d', '0x7a1200', '0x7a121d', '0x7a27c3', '0x7a1215', '0x7a1200', '0x7a1200', '0x7a1200', '0x7a1200', '0x7a121d', '0x7a20f1', '0x7a1200', '0x7a121d', '0x7a3083', '0x7a121d', '0x7a121d', '0x7a211a', '0x7a121d', '0x7a3311', '0x7a1200', '0x7a2124', '0x7a3057', '0x7a1200', '0x7a1200', '0x7a1200', '0x7a1200', '0x7a1200', '0x7a121d', '0x7a1200', '0x7a1200', '0x7a1200', '0x7a1200', '0x7a1fcb', '0x7a1200', '0x7a121d', '0x7a2132', '0x7a121d', '0x7a1bf7', '0x7a121d', '0x7a19a1', '0x7a121d', '0x7a1200', '0x7a210a', '0x7a121d', '0x7a1200', '0x7a30a0', '0x7a121d', '0x7a1200', '0x7a121d', '0x7a121d', '0x7a121d', '0x7a121d', '0x7a30a0', '0x7a1200', '0x7a121d', '0x7a1200', '0x7a121d', '0x7a1200', '0x7a1200', '0x7a4f07', '0x7a121d', '0x7a3083', '0x7a1200', '0x7a121d', '0x7a1200', '0x7a121d', '0x7a212e', '0x7a1200', '0x7a3f93', '0x7a1200', '0x7a4f2d', '0x7a1200', '0x7a1200', '0x7a3083', '0x7a3083', '0x7a1200', '0x7a2124', '0x7a121d', '0x7a2f34', '0x7a121d', '0x7a1200', '0x7a121d', '0x7a1200', '0x7a309c', '0x7a1200', '0x7a1200', '0x7a1215', '0x7a1200', '0x7a121d', '0x7a213c', '0x7a121d', '0x7a1200', '0x7a1200', '0x7a6dbf', '0x7a1200', '0x7a3083', '0x7a213e', '0x7a2125', '0x7a121d', '0x7a1200', '0x7a8c29', '0x7a121d', '0x7a1200', '0x7a121d', '0x7a121d', '0x7a1200', '0x7a121d', '0x7a214b', '0x7a1200', '0x7a1200', '0x7a1200', '0x7a2133', '0x7a3083', '0x7a213c', '0x7a121d', '0x7a1200', '0x7a2139', '0x7a1200', '0x7a1200', '0x7a121d', '0x7a3083', '0x7a212e', '0x7a306a', '0x7a1200', '0x7a2142', '0x7a121d', '0x7a121d', '0x7a3088', '0x7a1200', '0x7a20ca', '0x7a3083', '0x7a1200', '0x7a1200', '0x7a1200', '0x7a1200', '0x7a1200', '0x7a121d', '0x7a2140', '0x7a212a', '0x7a2139', '0x7a1200', '0x7a121d', '0x7a20d3', '0x7a1200', '0x7a121d', '0x7a121d', '0x7a3083', '0x7a30a0', '0x7a2134', '0x7a121d', '0x7a1200', '0x7a1200', '0x7a1200', '0x7a121d', '0x7a1200', '0x7a121d', '0x7a30a0', '0x7a1200', '0x7a2155', '0x7a1200', '0x7a3083', '0x7a121d', '0x7a212b', '0x7a7cd7', '0x7a1200', '0x7a1200', '0x7a121d', '0x7a2127', '0x7a212d', '0x7a121d', '0x7a2142', '0x7a121d', '0x7a214d', '0x7a307d', '0x7a1200', '0x7a30a0', '0x7a4f0e', '0x7a1200', '0x7a121d', '0x7a121d', '0x7a2130', '0x7a3098', '0x7a1200', '0x7a121d', '0x7a1200', '0x7a216f', '0x7a121d', '0x7a1200', '0x7a121d', '0x7a1200', '0x7a3083', '0x7a1200', '0x7a1200', '0x7a121d', '0x7a121d', '0x7a121d', '0x7a3fb8', '0x7a2158', '0x7a30a0', '0x7a1200', '0x7a1200', '0x7a2137', '0x7a1200', '0x7a121d', '0x7a1200', '0x7a3083', '0x7a4ef3', '0x7a1200', '0x7a121d', '0x7a1200', '0x7a121d', '0x7a1200', '0x7a1200', '0x7a2130', '0x7a1200', '0x7a121d', '0x7a214a', '0x7a71f8', '0x7a1200', '0x7a1200', '0x7a1200', '0x7a121d', '0x7a5dd9', '0x7a121d', '0x7a215a', '0x7a1200', '0x7a121d', '0x7a1200', '0x7a9b37', '0x7a6da2', '0x7a1200', '0x7a2155', '0x7a1b76', '0x7a1200', '0x7a1200', '0x7a212e', '0x7a4625', '0x7a6499', '0x7a4601', '0x7a1200', '0x7a2134', '0x7a1200', '0x7a121d', '0x7a121d', '0x7a121d', '0x7a121d', '0x7a1215', '0x7a5e48', '0x7a121d', '0x7a121d', '0x7a2150', '0x7a121d', '0x7a121d', '0x7a121d', '0x7a121d', '0x7a1200', '0x7a215f', '0x7a2f99', '0x7a121d', '0x7a121d', '0x7a1200', '0x7a121d', '0x7a1200', '0x7a121d', '0x7a1200', '0x7a1200', '0x7a3fb6', '0x7a1200', '0x7a2141', '0x7a1200', '0x7a3fe0', '0x7a1200', '0x7a3075', '0x7a306d', '0x7a2142', '0x7a1200', '0x7a121d', '0x7a4f0e', '0x7a121d', '0x7a1200', '0x7a213b', '0x7a3083', '0x7a3083', '0x7a4f2b', '0x7a1200', '0x7a1200', '0x7a1200', '0x7a121d', '0x7a121d', '0x7a121d', '0x7a2119', '0x7a3fac', '0x7a121d', '0x7a3067', '0x7a33d6', '0x7a154b', '0x7a70e9', '0x7a1200', '0x7a121d', '0x7a1200', '0x7a121d', '0x7a1200', '0x7a121d', '0x7a1200', '0x7a1200', '0x7a1200', '0x7a121d', '0x7a2d24', '0x7a30a0', '0x7a2147', '0x7a4f2b', '0x79f39e', '0x7a1200', '0x7a211e', '0x7a121d', '0x7a30a0', '0x7a1200', '0x7a1d85', '0x7a121d', '0x7a309c', '0x7a3083', '0x7a1200', '0x7a121d', '0x7a121d', '0x7a121d', '0x7a1200', '0x7a1200', '0x7a1200', '0x7a3052', '0x7a1215', '0x7a121d', '0x7a1200', '0x7a1200', '0x7a121d', '0x7a121d', '0x7a1200', '0x7a121d', '0x7a1200', '0x7a1200', '0x7a121d', '0x7a121d', '0x7a121d', '0x7a2138', '0x7a1200', '0x7a1200', '0x7a121d', '0x7a1200', '0x7a1202', '0x7a3fc4', '0x7a1200', '0x7a214a', '0x7a1200', '0x7a121d', '0x7a1200', '0x7a1200', '0x7a121d', '0x7a1200', '0x7a1200', '0x7a2125', '0x7a1200', '0x7a30a0', '0x7a68fa', '0x7a5bd4', '0x7a121d', '0x7a1200', '0x7a121d', '0x7a121d', '0x7a214e', '0x7a121d', '0x7a121d', '0x7a1200', '0x7a121d', '0x7a121d', '0x7a1200', '0x7a1200', '0x7a121d', '0x7a1200', '0x7a3083', '0x7a2125', '0x7a121d', '0x7a121d', '0x7a121d', '0x7a1ff9', '0x7a3662', '0x7a121d', '0x7a121d', '0x7a1200', '0x7a121d', '0x7a307c', '0x7a121d', '0x7a1200', '0x7a1200', '0x7a20c7', '0x7a3083', '0x7a1200', '0x7a42e7', '0x7a1200', '0x7a1767', '0x7a1200', '0x7a213c', '0x7a121d', '0x7a121d', '0x7a121d', '0x7a1200', '0x7a6da0', '0x7a121d', '0x7a121d', '0x7a1da7', '0x7a2128', '0x7a121d', '0x7a1200', '0x7a1200', '0x7a1200', '0x7a1200', '0x7a1200', '0x7a121d', '0x7a121d', '0x7a121d', '0x7a121d', '0x7a121d', '0x7a1200', '0x7a301f', '0x7a121d', '0x7a1215', '0x7a121d', '0x7a1200', '0x7a3083', '0x7a121d', '0x7a1200', '0x7a121d', '0x7a30a0', '0x7a30a0', '0x7a1200', '0x7a121d', '0x7a1200', '0x7a3083', '0x7a1200', '0x7a121d', '0x7a1200', '0x7a121d', '0x7a121d', '0x7a121d', '0x7a1200', '0x7a121d', '0x7a1200', '0x7a121d', '0x7a121d', '0x7a1200', '0x7a1809', '0x7a1200', '0x7a1200', '0x7a1200', '0x7a1200', '0x7a1200', '0x7a1e22', '0x7a121d', '0x7a2290', '0x7a3083', '0x7a121d', '0x7a121d', '0x7a121d', '0x7a121d', '0x7a1200', '0x7a1200', '0x7a1200', '0x7a121d', '0x7a215d', '0x7a121d', '0x7a1200', '0x7a2137', '0x7a1200', '0x7a1200', '0x7a1200', '0x7a121d', '0x7a121d', '0x7a1200', '0x7a3fd6', '0x7a213d', '0x7a121d', '0x7a1200', '0x7a3dbc', '0x7a121d', '0x7a121d', '0x7a3083', '0x7a121d', '0x7a212c', '0x7a1200', '0x7a2132', '0x7a1c1b', '0x7a1200', '0x7a1200', '0x7a1200', '0x7a1200', '0x7a309c', '0x7a1200', '0x7a121d', '0x7a1200', '0x7a121d', '0x7a1200', '0x7a3083', '0x7a4f0e', '0x7a3083', '0x7a121d', '0x7a121d', '0x7a1200', '0x7a1200', '0x7a121d', '0x7a121d', '0x7a121d', '0x7a2071', '0x7a3083', '0x7a1200', '0x7a1200', '0x7a2091', '0x7a1200', '0x7a1200', '0x7a6db6', '0x7a1200', '0x7a30a0', '0x7a4f2b', '0x7a121d', '0x7a121d', '0x7a1200', '0x7a213e', '0x7a1200', '0x7a3083', '0x7a121d', '0x7a121d', '0x7a121d', '0x7a1200', '0x7a121d', '0x7a1200', '0x7a1200', '0x7a121d', '0x7a121d', '0x7a2119', '0x7a1200', '0x7a30a0', '0x7a1200', '0x7a1f44', '0x7a121d', '0x7a121d', '0x7a1200', '0x7a1200', '0x7a1200', '0x7a1fce', '0x7a121d', '0x7a1200', '0x7a1200', '0x7a1200', '0x7a121d', '0x7a121d', '0x7a1200', '0x7a1200', '0x7a1200', '0x7a1200', '0x7a2e91', '0x7a1200', '0x7a121d', '0x7a2891', '0x7a212e', '0x7a1200', '0x7a121d', '0x7a2151', '0x7a121d', '0x7a121d', '0x7a1200', '0x7a121d', '0x7a30a0', '0x7a121d', '0x7a121d', '0x7a3e72', '0x7a121d', '0x7a3083', '0x7a1200', '0x7a35a6', '0x7a121d', '0x7a2e86', '0x7a1200', '0x7a1200', '0x7a121d', '0x7a15cf', '0x7a1200', '0x7a1200', '0x7a1200', '0x7a121d', '0x7a121d', '0x7a121d', '0x7a1200', '0x7a121d', '0x7a121d', '0x7a1200', '0x7a1200', '0x7a1200', '0x7a2ccb', '0x7a121d', '0x7a2c48', '0x7a1200', '0x7a1dc9', '0x7a338e', '0x7a121d', '0x7a121d', '0x7a121d', '0x7a121d', '0x7a121d', '0x7a1200', '0x7a1200', '0x7a1200', '0x7a121d', '0x7a1200', '0x7a1200', '0x7a121d', '0x7a1200', '0x7a3a0e', '0x7a121d', '0x7a1200', '0x7a1200', '0x7a1200', '0x7a1200', '0x7a1200', '0x7a1200', '0x7a121d', '0x7a1200', '0x7a121d', '0x7a3083', '0x7a121d', '0x7a1b80', '0x7a2522', '0x7a3fbf', '0x7a121d', '0x7a1200', '0x7a1200', '0x7a1e4e', '0x7a121d', '0x7a212f', '0x7a121d', '0x7a1200', '0x7a121d', '0x7a2065', '0x7a121d', '0x7a1200', '0x7a1200', '0x7a121d', '0x7a47c5', '0x7a1200', '0x7a3083', '0x7a4f0e', '0x7a121d', '0x7a121d', '0x7a1200', '0x7a213a', '0x7a5e48', '0x7a1200', '0x7a1200', '0x7a1200', '0x7a1200', '0x7a121d', '0x7a1200', '0x7a1200', '0x7a121d', '0x7a1200', '0x7a20bd', '0x7a2a74', '0x7a213b', '0x7a3f7f', '0x7a121d', '0x7a121d', '0x7a121d', '0x7a121d', '0x7a1200', '0x7a121d', '0x7a1200', '0x7a3083', '0x7a121d', '0x7a121d', '0x7a1200', '0x7a1200', '0x7a1200', '0x7a121d', '0x7a1200', '0x7a1200', '0x7a121d', '0x7a1200', '0x7a121d', '0x7a121d', '0x7a1200', '0x7a2080', '0x7a1215', '0x7a1200', '0x7a307c', '0x7a8c3a', '0x7a1200', '0x7a3f0b', '0x7a1ae8', '0x7a1200', '0x7a121d', '0x7a22e1', '0x7a121d', '0x7a121d', '0x7a30a0', '0x7a121d', '0x7a1200', '0x7a141b', '0x7a03e2', '0x7a1200', '0x7a1200', '0x7a3083', '0x7a1200', '0x7a121d', '0x7a121d', '0x7a1200', '0x7a121d', '0x7a1200', '0x7a121d', '0x7a1200', '0x7a1200', '0x7a1200', '0x7a284e', '0x7a1200', '0x7a1200', '0x7a3083', '0x7a121d', '0x7a1546', '0x7a121d', '0x7a121d', '0x7a5762', '0x7a121d', '0x7a1200', '0x7a121d', '0x7a30a0', '0x7a2044', '0x7a1200', '0x7a121d', '0x7a1200', '0x7a3083', '0x7a1200', '0x7a1200', '0x7a1200', '0x7a1200', '0x7a121d', '0x7a121d', '0x7a1200', '0x7a30a0', '0x7a121d', '0x7a1200', '0x7a2133', '0x7a1ada', '0x7a1200', '0x7a1200', '0x7a2fbe', '0x7a3083', '0x7a2125', '0x7a3083', '0x7a1200', '0x7a4f00', '0x7a1200', '0x7a121d', '0x7a1200', '0x7a121d', '0x7a2b77', '0x7a1200', '0x7a213d', '0x7a13d9', '0x7a1200', '0x7a121d', '0x7a1200', '0x7a121d', '0x7a121d', '0x7a121d', '0x7a1200', '0x7a1ef2', '0x7a121d', '0x7a1200', '0x7a1200', '0x7a1200', '0x7a1200', '0x7a2128', '0x7a3513', '0x7a1200', '0x7a1200', '0x7a121d', '0x7a3083', '0x7a1200', '0x7a121d', '0x7a4f2b', '0x7a1200', '0x7a1200', '0x7a1200', '0x7a121d', '0x7a121d', '0x7a121d', '0x7a121d', '0x7a121d', '0x7a1200', '0x7a1200', '0x7a1200', '0x7a121d', '0x7a121d', '0x7a3083', '0x7a1200', '0x7a215d', '0x7a1200', '0x7a3083', '0x7a121d', '0x7a121d', '0x7a1200', '0x7a1200', '0x7a121d', '0x7a121d', '0x7a30a0', '0x7a3083', '0x7a3083', '0x7a121d', '0x7a1206', '0x7a1200', '0x7a1200', '0x7a1e7f', '0x7a121d', '0x7a121d', '0x7a1253', '0x7a3091', '0x7a3089', '0x7a121d', '0x7a2150', '0x7a121d', '0x7a1200', '0x7a1200', '0x7a1200', '0x7a121d', '0x7a1200', '0x7a121d', '0x7a11f8', '0x7a3083', '0x7a3077', '0x7a4f0e', '0x7a5e34', '0x7a121d', '0x7a2153', '0x7a3083', '0x7a1200', '0x7a1200', '0x7a121d', '0x7a121d', '0x7a1200', '0x7a121d', '0x7a2145', '0x7a1200', '0x7a121d', '0x7a2150', '0x7a121d', '0x7a9818', '0x7a1200', '0x7a1200', '0x7a1200', '0x7a3089', '0x7a4f23', '0x7a121d', '0x7a121d', '0x7a1200', '0x7a4b7c', '0x7a1200', '0x7a2155', '0x7a3cb8', '0x7a121d', '0x7a3901', '0x7a1200', '0x7a1200', '0x7a121d', '0x7a1200', '0x7a1200', '0x7a1ff9', '0x7a1200', '0x7a121d', '0x7a3fa4', '0x7a30a0', '0x7a121d', '0x7a1200', '0x7a121d', '0x7a1200', '0x7a1200', '0x7a1200', '0x7a121d', '0x7a1200', '0x7a213c', '0x7a2135', '0x7a1200', '0x7a121d', '0x7a1200', '0x7a1215', '0x7a30a0', '0x7a121d', '0x7a30a0', '0x7a121d', '0x7a1215', '0x7a121d', '0x7a411a', '0x7a121d', '0x7a121d', '0x7a1200', '0x7a121d', '0x7a1200', '0x7a3083', '0x7a192c', '0x7a121d', '0x7a121d', '0x7a1200', '0x7a121d', '0x7a20aa', '0x7a1200', '0x7a1200', '0x7a121d', '0x7a1200', '0x7a1d88', '0x7a3c07', '0x7a121d', '0x7a1200', '0x7a121d', '0x7a1200', '0x7a121d', '0x7a20d7', '0x7a3083', '0x7a121d', '0x7a1200', '0x7a1200', '0x7a1200', '0x7a121d', '0x7a1200', '0x7a1200', '0x7a1200', '0x7a1200', '0x7a1e35', '0x7a2064', '0x7a1200', '0x7a121d', '0x7a1200', '0x7a1200', '0x7a1200', '0x7a121d', '0x7a20d3', '0x7a1200', '0x7a1200', '0x7a20b2', '0x7a3083', '0x7a1200', '0x7a121d', '0x7a3095', '0x7a121d', '0x7a1200', '0x7a1200', '0x7a4efc', '0x7a121d', '0x7a5e4a', '0x7a1200', '0x7a121d', '0x7a1200', '0x7a1200', '0x7a207f', '0x7a121d', '0x7a3c0d', '0x7a121d', '0x7a3076', '0x7a3fbc', '0x7a121d', '0x7a1200', '0x7a1200', '0x7a121d', '0x7a121d', '0x7a1200', '0x7a1200', '0x7a121d', '0x7a1200', '0x7a3060', '0x7a3f99', '0x7a1200', '0x7a121d', '0x7a1200', '0x7a121d', '0x7a3083', '0x7a3fc2', '0x7a1200', '0x7a121d', '0x7a1200', '0x7a1200', '0x7a2128', '0x7a1200', '0x7a121d', '0x7a3083', '0x7a211b', '0x7a3083', '0x7a1200', '0x7a1200', '0x7a3083', '0x7a1200', '0x7a194d', '0x7a121d', '0x7a121d', '0x7a121d', '0x7a39e4', '0x7a3083', '0x7a5ce5', '0x7a2144', '0x7a121d', '0x7a121d', '0x7a121d', '0x7a121d', '0x7a121d', '0x7a3083', '0x7a1f3b', '0x7a1200', '0x7a121d', '0x7a3095', '0x7a307e', '0x7a1200', '0x7a1200', '0x7a3083', '0x7a1200', '0x7a2131', '0x7a1200', '0x7a121d', '0x7a121d', '0x7a213e', '0x7a2143', '0x7a1200', '0x7a5e19', '0x7a1200', '0x7a1200', '0x7a121d', '0x7a121d', '0x7a30a0', '0x7a3098', '0x7a3083', '0x7a1200', '0x7a30a0', '0x7a1200', '0x7a1200', '0x7a3fcd', '0x7a214d', '0x7a1200', '0x7a1200', '0x7a2138', '0x7a1200', '0x7a121d', '0x7a1200', '0x7a214a', '0x7a1200', '0x7a6d80', '0x7a1200', '0x7a1200', '0x7a121d', '0x7a121d', '0x7a1200', '0x7a121d', '0x7a121d', '0x7a1200', '0x7a1200', '0x7a121d', '0x7a3065', '0x7a1200', '0x7a1200', '0x7a2125', '0x7a1200', '0x7a121d', '0x7a1200', '0x7a121d', '0x7a121d', '0x7a1200', '0x7a309c', '0x7a9b47', '0x7a121d', '0x7a3fd3', '0x7a121d', '0x7a121d', '0x7a121d', '0x7a3075', '0x7a1200', '0x7a1200', '0x7a3f2b', '0x7a3d27', '0x7a121d', '0x7a3075', '0x7a121d', '0x7a214f', '0x7a121d', '0x7a121d', '0x7a1200', '0x7a121d', '0x7a216f', '0x7a1200', '0x7a2145', '0x7a2155', '0x7a1200', '0x7a3fad', '0x7a121d', '0x7a3f98', '0x7a1200', '0x7a1200', '0x7a2158', '0x7a1200', '0x7a121d', '0x7a2146', '0x7a3fbe', '0x7a1200', '0x7a1200', '0x7a1200', '0x7a3083', '0x7a1be4', '0x7a1200', '0x7a1200', '0x7a1200', '0x7a1200', '0x7a30a0', '0x7a1200', '0x7a1200', '0x7a2135', '0x7a309c', '0x7a121d', '0x7a121d', '0x7a1200', '0x7a121d', '0x7a121d', '0x7a1200', '0x7a4ef7', '0x7a1200', '0x7a306c', '0x7a1200', '0x7a121d', '0x7a1200', '0x7a3fbe', '0x7a1200', '0x79f39e', '0x7a1200', '0x7a1200', '0x7a121d', '0x7a1200', '0x7a121d', '0x7a2132', '0x7a3f9c', '0x7a1200', '0x7a1200', '0x7a1200', '0x7a2129', '0x7a121d', '0x7a3083', '0x7a1200', '0x7a121d', '0x7a2d2c', '0x7a121d', '0x7a215e', '0x7a121d', '0x7a2121', '0x7a3faf', '0x7a30a0', '0x7a121d', '0x7a1200', '0x7a2155', '0x7a1200', '0x7a1200', '0x7a1200', '0x7a3890', '0x7a213c', '0x7a1200', '0x7a3767', '0x7a20f0', '0x7a121d', '0x7a2126', '0x7a1200', '0x7a1200', '0x7a1200', '0x7a1200', '0x7a121d', '0x7a1200', '0x7a4dbc', '0x7a121d', '0x7a1200', '0x7a121d', '0x7a121d', '0x7a121d', '0x7a2061', '0x7a1200', '0x7a2136', '0x7a121d', '0x7a3083', '0x7a1200', '0x7a1200', '0x7a1200', '0x7a121d', '0x7a121d', '0x7a1200', '0x7a1200', '0x7a121d', '0x7a2ff7', '0x7a3fba', '0x7a121d', '0x7a121d', '0x7a1a29', '0x7a121d', '0x7a1200', '0x7a1765', '0x7a1200', '0x7a1200', '0x7a121d', '0x7a1428', '0x7a1200', '0x7a1200', '0x7a2a7c', '0x7a121d', '0x7a3083', '0x7a2102', '0x7a121d', '0x7a1200', '0x7a4f2b', '0x7a2010', '0x7a3083', '0x7a121d', '0x7a3fd0', '0x7a1200', '0x7a1200', '0x7a121d', '0x7a121d', '0x7a121d', '0x7a2129', '0x7a1200', '0x7a1200', '0x7a2137', '0x7a5e3c', '0x7a1200', '0x7a1200', '0x7a3060', '0x7a214d', '0x7a1200', '0x7a2146', '0x7a1200', '0x7a1200', '0x7a3099', '0x7a121d', '0x7a3060', '0x7a121d', '0x7a20b6', '0x7a3083', '0x7a1200', '0x7a1200', '0x7a1200', '0x7a2138', '0x7a121d', '0x7a2118', '0x7a2128', '0x7a121d', '0x7a121d', '0x7a1200', '0x7a2142', '0x7a121d', '0x7a121d', '0x7a3fc0', '0x7a1200', '0x7a1200', '0x7a1200', '0x7a1200', '0x7a15cb', '0x7a1200', '0x7a1b80', '0x7a1200', '0x7a121d', '0x7a121d', '0x7a1200', '0x7a3fc2', '0x7a121d', '0x7a216f', '0x7a121d', '0x7a3fb3', '0x7a212f', '0x7a2126', '0x7a1200', '0x7a1200', '0x7a1200', '0x7a1200', '0x7a1200', '0x7a121d', '0x7a121d', '0x7a121d', '0x7a3083', '0x7a121d', '0x7a1200', '0x7a121d', '0x7a212c', '0x7a1200', '0x7a3083', '0x7a121d', '0x7a3052', '0x7a214c', '0x7a1200', '0x7a1200', '0x7a1200', '0x7a1200', '0x7a121d', '0x7a121d', '0x7a121d', '0x7a121d', '0x7a1200', '0x7a121d', '0x7a121d', '0x7a4f0e', '0x7a1200', '0x7a121d', '0x7a121d', '0x7a121d', '0x7a2138', '0x7a121d', '0x7a6944', '0x7a30a0', '0x7a121d', '0x7a121d', '0x7a1200', '0x7a1215', '0x7a30a0', '0x7a1200', '0x7a121d', '0x7a1200', '0x7a121d', '0x7a3070', '0x7a1200', '0x7a1200', '0x7a8b9e', '0x7a1200', '0x7a489a', '0x7a3fb2', '0x7a121d', '0x7a3083', '0x7a121d', '0x7a1200', '0x7a121d', '0x7a1200', '0x7a1200', '0x7a2125', '0x7a1200', '0x7a121d', '0x7a1200', '0x7a3081', '0x7a210e', '0x7a1200', '0x7a121d', '0x7a1200', '0x7a1200', '0x7a30a0', '0x7a1200', '0x7a121d', '0x7a215b', '0x7a1200', '0x7a48a2', '0x7a2125', '0x7a1200', '0x7a1200', '0x7a3083', '0x7a121d', '0x7a1200', '0x7a1200', '0x7a1200', '0x7a1215', '0x7a1200', '0x7a2128', '0x7a121d', '0x7a121d', '0x7a121d', '0x7a121d', '0x7a1dcd', '0x7a4f0e', '0x7a1200', '0x7a30a0', '0x7a1200', '0x7a30a0', '0x7a121d', '0x7a20d7', '0x7a2100', '0x7a1215', '0x7a1200', '0x7a1200', '0x7a1200', '0x7a1200', '0x7a1200', '0x7a121d', '0x7a2125', '0x7a1200', '0x7a2134', '0x7a121d', '0x7a1211', '0x7a121d', '0x7a1200', '0x7a121d', '0x7a121d', '0x7a121d', '0x7a3083', '0x7a1200', '0x7a309c', '0x7a2155', '0x7a1200', '0x7a214a', '0x7a214a', '0x7a3083', '0x7a121d', '0x7a1200', '0x7a121d', '0x7a1200', '0x7a5e47', '0x7a1200', '0x7a30a0', '0x7a30a0', '0x7a2141', '0x7a1200', '0x7a121d', '0x7a1200', '0x7a121d', '0x7a1200', '0x7a214a', '0x7a213e', '0x7a3083', '0x7a121d', '0x7a3053', '0x7a1200', '0x7a121d', '0x7a2145', '0x7a121d', '0x7a121d', '0x7a121d', '0x7a121d', '0x7a30a0', '0x7a214a', '0x7a1200', '0x7a121d', '0x7a20d6', '0x7a1200', '0x7a121d', '0x7a121d', '0x7a121d', '0x7a8c47', '0x7a1200', '0x7a1200', '0x7a121d', '0x7a1200', '0x7a2128', '0x7a1200', '0x7a1200', '0x7a206c', '0x7a3038', '0x7a3082', '0x7a1200', '0x7a3083', '0x7a307c', '0x7a3fb4', '0x7a1200', '0x7a4efc', '0x7a121d', '0x7a212e', '0x7a121d', '0x7a121d', '0x7a1200', '0x7a1211', '0x7a1200', '0x7a1200', '0x7a1200', '0x7a2157', '0x7a121d', '0x7a1200', '0x7a5e4c', '0x7a3fbd', '0x7a2151', '0x7a1200', '0x7a1200', '0x7a1200', '0x7a1200', '0x7a1200', '0x7a121d', '0x7a5e67', '0x7a4ee9', '0x7a3083', '0x7a2125', '0x7a30a0', '0x7a3f7b', '0x7a121d', '0x7a2143', '0x7a3062', '0x7a1200', '0x7a1200', '0x7a121d', '0x7a3083', '0x7a1200', '0x7a4f1a', '0x7a1200', '0x7a1200', '0x7a1200', '0x7a121d', '0x7a1200', '0x7a121d', '0x7a1200', '0x7a121d', '0x7a121d', '0x7a121d', '0x7a121d', '0x7a121d', '0x7a121d', '0x7a121d', '0x7a1200', '0x7a121d', '0x7a121d', '0x7a1215', '0x7a1200', '0x7a121d', '0x7a2f0e', '0x7a3fc9', '0x7a3067', '0x7a6d72', '0x7a1200', '0x7a121d', '0x7a1200', '0x7a121d', '0x7a3e85', '0x7a121d', '0x7a1200', '0x7a1200', '0x7a214a', '0x7a1200', '0x7a121d', '0x7a1200', '0x7a1200', '0x7a1200', '0x7a2f07', '0x7a6d8d', '0x7a121d', '0x7a121d', '0x7a1200', '0x7a1200', '0x7a121d', '0x7a2134', '0x7a121d', '0x7a1200', '0x7a1200', '0x7a121d', '0x7a121d', '0x7a3081', '0x7a1200', '0x7a1200', '0x7a30a2', '0x7a1200', '0x7a1200', '0x7a121d', '0x7a214f', '0x7a121d', '0x7a121d', '0x7a1200', '0x7a121d', '0x7a121d', '0x7a1215', '0x7a1200', '0x7a121d', '0x7a7cd9', '0x7a3fc9', '0x7a3f8e', '0x7a1200', '0x7a2138', '0x7a1202', '0x7a121d', '0x7a121d', '0x7a3042', '0x7a1200', '0x7a121d', '0x7a4ee0', '0x7a215f', '0x7a1200', '0x7a1200', '0x7a121d', '0x7a1200', '0x7a1200', '0x7a121d', '0x7a1200', '0x7a1200', '0x7a121d', '0x7a4ed1', '0x7a214a', '0x7a121d', '0x7a121d', '0x7a30a0', '0x7a30a0', '0x7a3016', '0x7a1200', '0x7a1200', '0x7a212f', '0x7a1200', '0x7a1200', '0x7a1200', '0x7a121d', '0x7a1200', '0x7a1200', '0x7a1200', '0x7a1200', '0x7a2140', '0x7a3fda', '0x7a1200', '0x7a121d', '0x7a1200', '0x7a1200', '0x7a1200', '0x7a1200', '0x7a1200', '0x7a1200', '0x7a1200', '0x7a120d', '0x7a1200', '0x7a2136', '0x7a1200', '0x7a121d', '0x7a4ef3', '0x7a1200', '0x7a3e5f', '0x7a3089', '0x7a212c', '0x7a7b1b', '0x7a1200', '0x7a3f58', '0x7a4f0e', '0x7a121d', '0x7a2145', '0x7a121d', '0x7a1200', '0x7a121d', '0x7a121d', '0x7a20ba', '0x7a5e0c', '0x7a120e', '0x7a2127', '0x7a121d', '0x7a1200', '0x7a121d', '0x7a4f18', '0x7a5e61', '0x7a3f9e', '0x7a1200', '0x7a121d', '0x7a2135', '0x7a1200', '0x7a1200', '0x7a1200', '0x7a121d', '0x7a1200', '0x7a30a0', '0x7a3fc9', '0x7a1200', '0x7a4ef7', '0x7a1200', '0x7a2141', '0x7a2126', '0x7a2157', '0x7a121d', '0x7a1200', '0x7a121d', '0x7a1200', '0x7a1200', '0x7a1200', '0x7a121d', '0x7a1200', '0x7a1200', '0x7a121d', '0x7a1200', '0x7a3072', '0x7a121d', '0x7a121d', '0x7a121d', '0x7a5e18', '0x7aaa96', '0x7a2132', '0x7a121d', '0x7a1200', '0x7a215d', '0x7a121d', '0x7a121d', '0x7a1200', '0x7a2142', '0x7a121d', '0x7a121d', '0x7a1200', '0x7a4ede', '0x7a1200', '0x7a3065', '0x7a121d', '0x7a307c', '0x7a1200', '0x7a121d', '0x7a1215', '0x7a1200', '0x7a121d', '0x7a2125', '0x7a1200', '0x7a1200', '0x7a1200', '0x7a1200', '0x7a121d', '0x7a1200', '0x7a121d', '0x7a1200', '0x7a121d', '0x7a121d', '0x7a1200', '0x7a2140', '0x7a1200', '0x7a205f', '0x7a8b2d', '0x7a1200', '0x7a1200', '0x7a1200', '0x7a1200', '0x7a121d', '0x7a2141', '0x7a2125', '0x7a1200', '0x7a1200', '0x7a4ca8', '0x7a5e46', '0x7a121d', '0x7a4f2b', '0x7a121d', '0x7a214c', '0x7a1200', '0x7a3083', '0x7a3e8c', '0x7a1200', '0x7a121d', '0x7a1200', '0x7a4ef6', '0x7a121d', '0x7a3083', '0x7a4f0e', '0x7a1200', '0x7a1200', '0x7a1200', '0x7a121d', '0x7a121d', '0x7a1200', '0x7a1200', '0x7a1200', '0x7a1200', '0x7a1215', '0x7a121d', '0x7a1200', '0x7a1200', '0x7a121d', '0x7a1200', '0x7a212b', '0x7a1200', '0x7a1200', '0x7a3d6e', '0x7a4ccb', '0x7a121d', '0x7a213b', '0x7a1a8a', '0x7a1200', '0x7a121d', '0x7a1200', '0x7a121d', '0x7a121d', '0x7a3083', '0x7a121d', '0x7a1215', '0x7a121d', '0x7a2132', '0x7a1200', '0x7a215c', '0x7a306d', '0x7a1200', '0x7a2103', '0x7a3083', '0x7a121d', '0x7a121d', '0x7a2278', '0x7a1200', '0x7a5cec', '0x7a1200', '0x7a121d', '0x7a1200', '0x7a1200', '0x7a2142', '0x7a1cd5', '0x7a307d', '0x7a1200', '0x7a1200', '0x7a1200', '0x7a1200', '0x7a121d', '0x7a121d', '0x7a4ef6', '0x7aaa2d', '0x7ac8f2', '0x7a5d6d', '0x7a44d8', '0x7a121d', '0x7a3fe1', '0x7a2137', '0x7a2f70', '0x7a121d', '0x7a1fb0', '0x7a2fe5', '0x7a121d', '0x7a121d', '0x7a2129', '0x7a1200', '0x7a121d', '0x7a121d', '0x7a3065', '0x7a4f2b', '0x7a1200', '0x7a3075', '0x7a1200', '0x7a3159', '0x7a121d', '0x7a1200', '0x7a1200', '0x7a1200', '0x7a121d', '0x7a121d', '0x7a121d', '0x7a1215', '0x7a2134', '0x7a1200', '0x7a121d', '0x7a309c', '0x7a5831', '0x7a211e', '0x7a1200', '0x7a121d', '0x7a121d', '0x7a1200', '0x7a1200', '0x7a121d', '0x7a2376', '0x7a1200', '0x7a3e8f', '0x7a121d', '0x7a1200', '0x7a1200', '0x7a15a6', '0x7a30a0', '0x7a121d', '0x7a1200', '0x7a1c9a', '0x7a121d', '0x7a1200', '0x7a1200', '0x7a1200', '0x7a1200', '0x7a121d', '0x7a1200', '0x7a121d', '0x7a1200', '0x7a3083', '0x7a1200', '0x7a1200', '0x7a2728', '0x7a3083', '0x7a1200', '0x7a1200', '0x7a3b4f', '0x7a215c', '0x7a1200', '0x7a121d', '0x7a121d', '0x7a1200', '0x7a1200', '0x7a1200', '0x7a3086', '0x7a30a0', '0x7a1200', '0x7a1200', '0x7a121d', '0x7a3083', '0x7a4e37', '0x7a3083', '0x7a2142', '0x7a121d', '0x7a2142', '0x7a2134', '0x7a1200', '0x7a1200', '0x7a1200', '0x7a33ef', '0x7a121d', '0x7a121d', '0x7a121d', '0x7a2127', '0x7a121d', '0x7a1215', '0x7a1200', '0x7a3083', '0x7a3083', '0x7a1200', '0x7a120d', '0x7a3f74', '0x7a2d6e', '0x7a121d', '0x7a1200', '0x7a1200', '0x7a3083', '0x7a1200', '0x7a1200', '0x7a1200', '0x7a1200', '0x7a121d', '0x7a1200', '0x7a121d', '0x7a5b1a', '0x7a7951', '0x7a1200', '0x7a1200', '0x7a3083', '0x7a1200', '0x7a3083', '0x7a1200', '0x7a121d', '0x7a121d', '0x7a1200', '0x7a121d', '0x7a213f', '0x7a121d', '0x7a121d', '0x7a121d', '0x7a121d', '0x7a309c', '0x7a1211', '0x7a1200', '0x7a1200', '0x7a1200', '0x7a2143', '0x7a1200', '0x7a4ee4', '0x7a17fe', '0x7a2141', '0x7a121d', '0x7a1200', '0x7a121d', '0x7a2052', '0x7a121d', '0x7a121d', '0x7a1200', '0x7a1200', '0x7a1200', '0x7a3f8d', '0x7a6524', '0x7a1200', '0x7a3fa8', '0x7a121d', '0x7a1200', '0x7a121d', '0x7a1200', '0x7a1200', '0x7a121d', '0x7a1200', '0x7a30a0', '0x7a1200', '0x7a3083', '0x7a121d', '0x7a121d', '0x7a3f6a', '0x7a309c', '0x7a2e71', '0x7a1200', '0x7a121d', '0x7a214d', '0x7a4ef8', '0x7a3f97', '0x7a121d', '0x7a1200', '0x7a121d', '0x7a3083', '0x7a6da0', '0x7a308f', '0x7a1c1a', '0x7a1200', '0x7a1200', '0x7a121d', '0x7a121d', '0x7a121d', '0x7a1200', '0x7a214e', '0x7a211f', '0x7a1200', '0x7a4f0e', '0x7a1200', '0x7a121d', '0x7a121d', '0x7a1200', '0x7a4b97', '0x7a1200', '0x7a1200', '0x7a1200', '0x7a1200', '0x7a121d', '0x7a20db', '0x7a2fd0', '0x7a121d', '0x7a1200', '0x7a1200', '0x7a1200', '0x7a3f9c', '0x7a1200', '0x7a1200', '0x7a4a7b', '0x7a3083', '0x7a121d', '0x7a1200', '0x7a1200', '0x7a2160', '0x7a308e', '0x7a1215', '0x7a180a', '0x7a57a1', '0x7a121d', '0x7a1200', '0x7a121d', '0x7a121d', '0x7a3052', '0x7a4f24', '0x7a1200', '0x7a4f1b', '0x7a2140', '0x7a121d', '0x7a1200', '0x7a2131', '0x7a3072', '0x7a214a', '0x7a1200', '0x7a1200', '0x7a1215', '0x7a121d', '0x7a215f', '0x7a1200', '0x7a30a0', '0x7a1200', '0x7a1200', '0x7a1200', '0x7a121d', '0x7a121d', '0x7a121d', '0x7a121d', '0x7a1200', '0x7a4f0e', '0x7a1215', '0x7a1200', '0x7a121d', '0x7a1200', '0x7a121d', '0x7a1200', '0x7a121d', '0x7a121d', '0x7a1200', '0x7a1200', '0x7a2800', '0x7a1200', '0x7a121d', '0x7a20d6', '0x7a1200', '0x7a121d', '0x7a1200', '0x7a121d', '0x7a1200', '0x7a121d', '0x7a2135', '0x7a121d', '0x7a1200', '0x7a1200', '0x7a121d', '0x7a1200', '0x7a1200', '0x7a3083', '0x7a121d', '0x7a121d', '0x7a121d', '0x7a2150', '0x7a121d', '0x7a1200', '0x7a2116', '0x7a1200', '0x7a3fee', '0x7a121d', '0x7a3083', '0x7a1200', '0x7a30a0', '0x7a30a0', '0x7a3083', '0x7a16f1', '0x7a3fdf', '0x7a215b', '0x7a1200', '0x7a1200', '0x7a121d', '0x7a1200', '0x7a1a24', '0x7a3197', '0x79f39e', '0x7a1200', '0x7a1200', '0x7a1421', '0x7a121d', '0x7a121d', '0x7a2138', '0x7a121d', '0x7a2150', '0x7a1200', '0x7a30a0', '0x7a121d', '0x7a121d', '0x7a121d', '0x7a2139', '0x7a121d', '0x7a3083', '0x7a1200', '0x7a1200', '0x7a121d', '0x7a121d', '0x7a1200', '0x7a213b', '0x7a4ef4', '0x7a3083', '0x7a2125', '0x7a1200', '0x7a1200', '0x7a121d', '0x7a1200', '0x7a1200', '0x7a121d', '0x7a1200', '0x7a1200', '0x7a1200', '0x7a121d', '0x7a121d', '0x7a346e', '0x7a30a0', '0x7a121d', '0x7a1200', '0x7a121d', '0x7a4ac8', '0x7a121d', '0x7a238d', '0x7a1200', '0x7a1200', '0x7a202d', '0x7a1200', '0x7a2147', '0x7a121d', '0x7a1200', '0x7a1200', '0x7a212f', '0x7a1200', '0x7a1445', '0x7a121d', '0x7a121d', '0x7a1200', '0x7a121d', '0x7a1200', '0x7a121d', '0x7a1200', '0x7a121d', '0x7a121d', '0x7a121d', '0x7a1200', '0x7a2139', '0x7a1200', '0x7a3083', '0x7a214e', '0x7a121d', '0x7a1200', '0x7a2c6e', '0x7a1200', '0x7a309c', '0x7a1200', '0x7a1200', '0x7a1200', '0x7a1200', '0x7a1200', '0x7a121d', '0x7a213b', '0x7a121d', '0x7a1200', '0x7a1200', '0x7a121d', '0x7a1200', '0x7a121d', '0x7a121d', '0x7a2145', '0x7a306f', '0x7a1200', '0x7a121d', '0x7a121d', '0x7a1200', '0x7a1200', '0x7a30a0', '0x7a1200', '0x7a121d', '0x7a121d', '0x7a121d', '0x7a1200', '0x7a3083', '0x7a5e23', '0x7a1200', '0x7a121d', '0x7a309c', '0x7a2ef6', '0x7a307c', '0x7a121d', '0x7a1200', '0x7a121d', '0x7a121d', '0x7a2134', '0x7a3fc7', '0x7a121d', '0x7a1200', '0x7a1200', '0x7a1200', '0x7a121d', '0x7a1200', '0x7a1200', '0x7a1200', '0x7a121d', '0x7a214a', '0x7a3fc0', '0x7a5e54', '0x7a121d', '0x7a1200', '0x7a121d', '0x7a212f', '0x7a1200', '0x7a1200', '0x7a1200', '0x7a121d', '0x7a1200', '0x7a1215', '0x7a121d', '0x7a8c12', '0x7a1200', '0x7a2fde', '0x7a4e0c', '0x7a3fad', '0x7a1200', '0x7a121d', '0x7a2100', '0x7a212d', '0x7a121d', '0x7a121d', '0x7a121d', '0x7a1200', '0x7a3054', '0x7a2142', '0x7a1200', '0x7a121d', '0x7a1200', '0x7a121d', '0x7a1200', '0x7a5e69', '0x7a213b', '0x7a1200', '0x7a121d', '0x7a1200', '0x7a121d', '0x7a1200', '0x7a121d', '0x7a1200', '0x7a1200', '0x7a4efa', '0x7a1216', '0x7a1200', '0x7a1200', '0x7a1200', '0x7a1200', '0x7a213a', '0x7a214f', '0x7a2117', '0x7a121d', '0x7a213f', '0x7a8ad5', '0x7a1200', '0x7a121d', '0x7a2fe9', '0x7a1200', '0x7a121d', '0x7a1dad', '0x7a3d43', '0x7a1200', '0x7a1200', '0x7a1200', '0x7a121d', '0x7a121d', '0x7a1200', '0x7a121d', '0x7a4e8b', '0x7a1200', '0x7a1200', '0x7a1200', '0x7a121d', '0x7a1200', '0x7a2147', '0x7a1200', '0x7a1200', '0x7a121d', '0x7a1200', '0x7a121d', '0x7a2a4e', '0x7a1200', '0x7a121d', '0x7a121d', '0x7a121d', '0x7a121d', '0x7a1200', '0x7a210e', '0x7a1200', '0x7a121d', '0x7a1200', '0x7a1200', '0x7a1423', '0x7a1200', '0x7a30a0', '0x7a1595', '0x7a1200', '0x7a210a', '0x7a121d', '0x7a121d', '0x7a1501', '0x7a1200', '0x7a3083', '0x7a1200', '0x7a212a', '0x7a121d', '0x7a121d', '0x7a1200', '0x7a1200', '0x7a1200', '0x7a1200', '0x7a2a26', '0x7a121d', '0x7a30a0', '0x7a3083', '0x7a1200', '0x7a2016', '0x7a1277', '0x7a121d', '0x7a1200', '0x7a121d', '0x7a121d', '0x7a121d', '0x7a1200', '0x7a30a0', '0x7a1200', '0x7a121d', '0x79f5ca', '0x7a1200', '0x7a1200', '0x7a1200', '0x7a1200', '0x7a1200', '0x7a1200', '0x7a121d', '0x7a3f83', '0x7a4791', '0x7a22b4', '0x7a2126', '0x7a1200', '0x7a1200', '0x7a1200', '0x7a1304', '0x7a121d', '0x7a3083', '0x7a121d', '0x7a1200', '0x7a1200', '0x7a1200', '0x7a1200', '0x79f74d', '0x7a1200', '0x7a1200', '0x7a1200', '0x7a3083', '0x7a1200', '0x7a1200', '0x7a1aa5', '0x7a121d', '0x7a1200', '0x7a213b', '0x7a3083', '0x7a121d', '0x7a1200', '0x79f39e', '0x7a121d', '0x7a212e', '0x7a121d', '0x7a20b2', '0x7a1200', '0x7a1200', '0x7a1200', '0x7a20cb', '0x7a1200', '0x7a1200', '0x7a214a', '0x7a1200', '0x7a2125', '0x7a1200', '0x7a121d', '0x7a1200', '0x7a2126', '0x7a1200', '0x7a3083', '0x7a213b', '0x7a121d', '0x7a2137', '0x7a121d', '0x7a121d', '0x7a1200', '0x7a30a0', '0x7a1200', '0x7a1200', '0x7a121d', '0x7a121d', '0x7a14f8', '0x7a121d', '0x7a1200', '0x7a1200', '0x7a1345', '0x7a1200', '0x7a30a0', '0x7a121d', '0x7a3083', '0x7a1200', '0x7a1861', '0x7a1200', '0x7a1200', '0x7a121d', '0x7a1200', '0x7a1200', '0x7a41f4', '0x7a212f', '0x7a121d', '0x7a4f2b', '0x7a6da0', '0x7a121d', '0x7a1200', '0x7a1200', '0x7a1200', '0x7a213b', '0x7a212a', '0x7a121d', '0x7a17e0', '0x7a121d', '0x7a121d', '0x7a1e0c', '0x7a1200', '0x7a1200', '0x7a121d', '0x7a1200', '0x7a121d', '0x7a1200', '0x7a121d', '0x7a213b', '0x7a2109', '0x7a3083', '0x7a1200', '0x7a1200', '0x7a1200', '0x7a17bd', '0x7a121d', '0x7a121d', '0x7a1200', '0x7a1200', '0x7a1215', '0x7a120d', '0x7a1200', '0x7a3fd5', '0x7a121d', '0x7a121d', '0x7a1200', '0x7a3fd9', '0x7a1200', '0x7a1200', '0x7a121d', '0x7a121d', '0x7a1200', '0x7a121d', '0x7a30a0', '0x7a1200', '0x7a318b', '0x7a121d', '0x7a1200', '0x7a1200', '0x7a1200', '0x7a1200', '0x7a1200', '0x7a2126', '0x7a1200', '0x7a1200', '0x7a121d', '0x7a305d', '0x7a121d', '0x7a121d', '0x7a2160', '0x7a121d', '0x7a179b', '0x7a121d', '0x7a1200', '0x7a121d', '0x7a1ff6', '0x7a1200', '0x7a1200', '0x7a44ca', '0x7a121d', '0x7a1200', '0x7a121d', '0x7a121d', '0x7a1200', '0x7a1200', '0x7a1200', '0x7a2137', '0x7a1200', '0x7a212f', '0x7a2137', '0x7a121d', '0x7a121d', '0x7a121d', '0x7a1200', '0x7a121d', '0x7a121d', '0x7a1200', '0x7a1200', '0x7a1200', '0x7a2139', '0x7a1dd3', '0x7a1200', '0x7a121d', '0x7a1200', '0x7a1200', '0x7a121d', '0x7a121d', '0x7a1200', '0x7a2156', '0x7a3fc9', '0x7a2104', '0x7a1200', '0x7a1200', '0x7a1200', '0x7a1200', '0x7a1200', '0x7a1200', '0x7a213b', '0x7a3074', '0x7a1200', '0x7a1200', '0x7a2134', '0x7a121d', '0x7a1215', '0x7a1200', '0x7a121d', '0x7a121d', '0x7a2634', '0x7a1200', '0x7a121d', '0x7a1200', '0x7a30a0', '0x7a1200', '0x79f39e', '0x7a1200', '0x7a1200', '0x7a1200', '0x7a1200', '0x7a1200', '0x7a30c5', '0x7a121d', '0x7a121d', '0x7a121d', '0x7a121d', '0x7a1200', '0x7a121d', '0x7a2500', '0x7a1200', '0x7a1200', '0x7a1200', '0x7a1200', '0x7a121d', '0x7a121d', '0x7a1200', '0x7a2150', '0x7a308a', '0x7a213a', '0x7a2f81', '0x7a1200', '0x7a20ea', '0x7a121d', '0x7a2143', '0x7a3083', '0x7a1200', '0x7aa3a1', '0x7a4da9', '0x7a1200', '0x7a30a0', '0x7a121d', '0x7a1200', '0x7a121d', '0x79f39e', '0x7a121d', '0x7a1211', '0x7a3083', '0x7a1200', '0x7a121d', '0x7a26a0', '0x7a1200', '0x7a1200', '0x7a1200', '0x7a2bb7', '0x7a1200', '0x7a1200', '0x7a215f', '0x7a1200', '0x7a121d', '0x7a2487', '0x7a121d', '0x7a1200', '0x7a3f9a', '0x7a30a0', '0x7a1f52', '0x7a1200', '0x7a3083', '0x7a1200', '0x7a121d', '0x7a121d', '0x7a1200', '0x7a1200', '0x7a1200', '0x7a1200', '0x7a1200', '0x7a1200', '0x7a4354', '0x7a1200', '0x7a1200', '0x7a121d', '0x7a1200', '0x7a121d', '0x7a121d', '0x7a1200', '0x7a1200', '0x7a121d', '0x7a4e62', '0x7a1200', '0x7a121d', '0x7a121d', '0x7a1200', '0x7a121d', '0x7a121d', '0x7a121d', '0x7a215d', '0x7a121d', '0x7a1200', '0x7a307f', '0x7a3706', '0x7a1200', '0x7a1200', '0x7a1215', '0x7a1200', '0x7a121d', '0x7a5e4b', '0x7a121d', '0x7a1200', '0x7a2152', '0x7a1200', '0x7a121d', '0x7a1700', '0x7a1200', '0x7a121d', '0x7a2137', '0x7a3083', '0x7a3083', '0x7a1200', '0x7a1200', '0x7a121d', '0x7a1200', '0x7a121d', '0x7a1200', '0x7a1200', '0x7a121d', '0x7a1200', '0x7a121d', '0x7a3091', '0x7a1200', '0x7a30a0', '0x7a121d', '0x7a1200', '0x7a1200', '0x7a1200', '0x7a30a0', '0x7a121d', '0x7a30a0', '0x7a1200', '0x7a2026', '0x7a3064', '0x7a3fe4', '0x7a1200', '0x7a1714', '0x7a1200', '0x7a1200', '0x7a121d', '0x7a1595', '0x7a1211', '0x7a121d', '0x7a121d', '0x7a3083', '0x7a4ef0', '0x7a121d', '0x7a1cad', '0x7a121d', '0x7a1200', '0x7a121d', '0x7a1200', '0x7a2150', '0x7a2051', '0x7a3d54', '0x7a1200', '0x7a121d', '0x7a1dca', '0x7a1209', '0x7a1200', '0x7a1200', '0x7a1730', '0x7a1200', '0x7a121d', '0x7a121d', '0x7a1200', '0x7a1200', '0x7a1200', '0x7a214a', '0x7a7d03', '0x7a1d0e', '0x7a1200', '0x7a6db9', '0x7a2f99', '0x7a1200', '0x7a121d', '0x7a398c', '0x7a1200', '0x7a1200', '0x7a121d', '0x7a121d', '0x7a1200', '0x7a1200', '0x7a1438', '0x7a121d', '0x7a1200', '0x7a1200', '0x7a1200', '0x7a1200', '0x7a1200', '0x7a3083', '0x7a1200', '0x7a1200', '0x7a2cff', '0x7a2092', '0x7a3083', '0x7a121d', '0x7a1200', '0x7a1aba', '0x7a1200', '0x7a1200', '0x7a1200', '0x7a1200', '0x7a1200', '0x7a1a35', '0x7a1200', '0x7a1200', '0x7a1f61', '0x7a121d', '0x7a121d', '0x7a121d', '0x7a3083', '0x7a1200', '0x7a1200', '0x7a1200', '0x7a1200', '0x7a1200', '0x7a1200', '0x7a6dbd', '0x7a1200', '0x7a1200', '0x7a121d', '0x7a1200', '0x7a121d', '0x7a40d3', '0x7a1200', '0x7a121d', '0x7a121d', '0x7a1200', '0x7a1200', '0x7a1e4a', '0x7a167b', '0x7a1200', '0x7a1efa', '0x7a121d', '0x7a1200', '0x7a309c', '0x7a121d', '0x7a1200', '0x7a121d', '0x7a1a5b', '0x7a1200', '0x7a1200', '0x7a121d', '0x7a1200', '0x7a15d3', '0x7a1200', '0x7a121d', '0x7a3083', '0x7a1200', '0x7a121d', '0x7a1200', '0x7a1200', '0x7a1200', '0x7a3083', '0x7a1200', '0x7a3083', '0x7a1200', '0x7a307c', '0x7a3f11', '0x7a1200', '0x7a3fb4', '0x7a1200', '0x7a121d', '0x7a1eda', '0x7a1200', '0x7a121d', '0x7a20d0', '0x7a2873', '0x7a1200', '0x7a1200', '0x7a1200', '0x7a1200', '0x7a121d', '0x7a3083', '0x7a2129', '0x7a121d', '0x7a2fcc', '0x7a2157', '0x7a3083', '0x7a1200', '0x7a1200', '0x7a1200', '0x7a1200', '0x7a554f', '0x7a21a1', '0x7a121d', '0x7a121d', '0x7a121d', '0x7a3083', '0x7a1200', '0x7a1200', '0x7a3083', '0x7a1200', '0x7a1a6f', '0x7a1200', '0x7a1200', '0x7a1200', '0x7a1200', '0x7a19bb', '0x7a1200', '0x7a1200', '0x7a1200', '0x7a121d', '0x7a121d', '0x7a121d', '0x7a121d', '0x7a1200', '0x7a1200', '0x7a121d', '0x7a212b', '0x7a1200', '0x7a1200', '0x7a306e', '0x7a30a0', '0x7a1200', '0x7a121d', '0x7a121d', '0x7a1215', '0x7a1200', '0x7a121d', '0x7a121d', '0x7a1200', '0x7a1200', '0x7a121d', '0x7a1200', '0x7a30a0', '0x7a1200', '0x7a20e7', '0x7a1200', '0x7a1200', '0x7a1200', '0x7a1200', '0x7a57b1', '0x7a121d', '0x7a30a0', '0x7a1215', '0x7a121d', '0x7a1200', '0x7a1200', '0x7a1200', '0x7a1207', '0x7a1200', '0x7a3077', '0x7a1200', '0x7a121d', '0x7a11f8', '0x7a1200', '0x7a1200', '0x7a1200', '0x7a1200', '0x7a121d', '0x7a121d', '0x7a2ac1', '0x7a212a', '0x7a20bd', '0x7a121d', '0x7a210d', '0x7a5e4f', '0x7a121d', '0x7a121d', '0x7a4ef6', '0x7a121d', '0x7a121d', '0x7a121d', '0x79f39e', '0x7a1200', '0x7a121d', '0x7a1200', '0x7a4f0e', '0x7a1200', '0x7a121d', '0x7a1200', '0x7a19cc', '0x7a121d', '0x7a121d', '0x7a1200', '0x7a1200', '0x7a121d', '0x7a1200', '0x7a1200', '0x7a1200', '0x7a1200', '0x7a121d', '0x7a121d', '0x7a121d', '0x7a1200', '0x7a1200', '0x7a1200', '0x7a3083', '0x7a30a0', '0x7a3f8f', '0x7a1200', '0x7a121d', '0x7a1200', '0x7a121d', '0x7a6240', '0x7a121d', '0x7a1e72', '0x7a2133', '0x7a121d', '0x7a2126', '0x7a212a', '0x7a121d', '0x7a121d', '0x7a215e', '0x7a1200', '0x7a121d', '0x7a19a5', '0x7a3dd5', '0x7a6da0', '0x7a121d', '0x7a1200', '0x7a121d', '0x7a425e', '0x7a46b7', '0x7a146d', '0x7a121d', '0x7a1200', '0x7a1200', '0x7a1200', '0x7a309c', '0x7a3083', '0x7a1200', '0x7a1200', '0x7a13b4', '0x7a121d', '0x7a1200', '0x7a2138', '0x7a121d', '0x7a1200', '0x7a1200', '0x7a121d', '0x7a1200', '0x7a1200', '0x7a1200', '0x7a1200', '0x7a3098', '0x7a1200', '0x7a1ec8', '0x7a1200', '0x7a1d99', '0x7a1200', '0x7a1200', '0x7a1200', '0x7a1200', '0x7a3a24', '0x7a1200', '0x7a2155', '0x7a1200', '0x7a1200', '0x7a2045', '0x7a12d1', '0x7a1200', '0x7a1200', '0x7a1200', '0x7a1200', '0x7a1200', '0x7a2126', '0x7a1200', '0x7a1200', '0x7a1200', '0x7a1200', '0x7a1200', '0x7a121d', '0x7a30a0', '0x7a121d', '0x7a1200', '0x7a121d', '0x7a2055', '0x7a1200', '0x7a4ea6', '0x7a1200', '0x7a1200', '0x7a1200', '0x7a1200', '0x7a121d', '0x7a20dd', '0x7a30a0', '0x7a1200', '0x7a1200', '0x7a121d', '0x7a121d', '0x7a121d', '0x7a1d7c', '0x7a1c43', '0x7a1200', '0x7a1200', '0x7a121d', '0x7a1200', '0x7a1200', '0x7a1200', '0x7a1200', '0x7a1200', '0x7a1200', '0x7a1200', '0x7a1200', '0x7a121d', '0x7a213a', '0x7a1200', '0x7a1200', '0x7a1200', '0x7a3083', '0x7a1200', '0x7a212d', '0x7a1200', '0x7a30a0', '0x7a1200', '0x7a121d', '0x7a121d', '0x7a1200', '0x7a1200', '0x7a213c', '0x7a2137', '0x7a3083', '0x7a1200', '0x7a1200', '0x7a1200', '0x7a2b99', '0x7a1200', '0x7a1200', '0x7a1200', '0x7a121d', '0x7a14f0', '0x7a213b', '0x7a1200', '0x7a3083', '0x7a1200', '0x7a121d', '0x7a1200', '0x7a1200', '0x7a121d', '0x7a1200', '0x7a1200', '0x7a1200', '0x7a1200', '0x7a1200', '0x7a121d', '0x7a121d', '0x7a1200', '0x7a121d', '0x7a121d', '0x7a2f8f', '0x7a1200', '0x7a4f0e', '0x7a121d', '0x7a1200', '0x7a1200', '0x7a1200', '0x7a1776', '0x7a3f91', '0x7a3083', '0x7a214f', '0x7a121d', '0x7a1200', '0x7a1200', '0x7a1200', '0x7a1200', '0x7a30a0', '0x7a1200', '0x7a5e44', '0x7a30a0', '0x7a3083', '0x7a121d', '0x7a121d', '0x7a5749', '0x7a214a', '0x7a3d9e', '0x7a121d', '0x7a1200', '0x7a3098', '0x7a1200', '0x7a121d', '0x7a121d', '0x7a1200', '0x7a1200', '0x7a58ac', '0x7a1200', '0x7a1200', '0x7a1200', '0x7a1200', '0x7a1200', '0x7a121d', '0x7a1200', '0x7a1200', '0x7a2133', '0x7a121d', '0x7a1200', '0x7a1200', '0x7a121d', '0x7a1200', '0x7a3035', '0x7a1200', '0x7a1200', '0x7a1d3d', '0x7a1200', '0x7a6da0', '0x7a121d', '0x7a2df6', '0x7a121d', '0x7a121d', '0x7a1200', '0x7a1200', '0x7a121d', '0x7a1200', '0x7a3db4', '0x7a1200', '0x7a1200', '0x7a1200', '0x7a1754', '0x7a1200', '0x7a121d', '0x7a121d', '0x7a121d', '0x7a1200', '0x7a121d', '0x7a1200', '0x7a121d', '0x7a1200', '0x7a1200', '0x7a285f', '0x7a1200', '0x7a309c', '0x7a3075', '0x7a2160', '0x7a121d', '0x7a1200', '0x7a1200', '0x7a1200', '0x7a121d', '0x7a121d', '0x7a1200', '0x7a3b40', '0x7a121d', '0x7a294d', '0x7a1200', '0x7a5c50', '0x7a3083', '0x7a1200', '0x7a1200', '0x7a1200', '0x7a1200', '0x7a121d', '0x7a1bef', '0x7a1dcb', '0x7a1200', '0x7a1200', '0x7a3083', '0x7a3083', '0x7a1957', '0x7a1200', '0x7a121d', '0x7a121d', '0x7a302d', '0x7a121d', '0x7a20a5', '0x7a121d', '0x7a3073', '0x7a1200', '0x7a121d', '0x7a121d', '0x7a1200', '0x7a2148', '0x7a4f2b', '0x7a1215', '0x7a3083', '0x7a1200', '0x7a4f0e', '0x7a1200', '0x7a121d', '0x7a1200', '0x7a121d', '0x7a3604', '0x7a309c', '0x7a121d', '0x7a1200', '0x7a121d', '0x7a1200', '0x7a1200', '0x7a57eb', '0x7a121d', '0x7a1200', '0x7a1200', '0x7a1200', '0x7a1200', '0x7a121d', '0x7a1200', '0x7a1200', '0x7a1200', '0x7a1200', '0x7a2138', '0x7a1200', '0x7a309c', '0x7a1200', '0x79f39e', '0x7a1200', '0x7a121d', '0x7a4f0e', '0x7a1200', '0x7a1e81', '0x7a3083', '0x7a2b43', '0x7a121d', '0x7a121d', '0x7a121d', '0x7a121d', '0x7a17df', '0x7a1200', '0x7a4f0e', '0x7a1200', '0x7a1200', '0x7a1200', '0x7a121d', '0x7a179f', '0x7a121d', '0x7a1200', '0x7a1200', '0x7a1ae3', '0x7a121d', '0x7a1200', '0x7a347b', '0x7a1200', '0x7a1208', '0x7a1200', '0x7a121d', '0x7a121d', '0x7a1200', '0x7a3083', '0x7a1200', '0x7a1215', '0x7a1200', '0x7a1200', '0x7a2100', '0x7a121d', '0x7a1200', '0x7a1200', '0x7a121d', '0x7a212d', '0x7a121d', '0x7a121d', '0x7a121d', '0x7a1880', '0x7a121d', '0x7a1200', '0x7a121d', '0x7a4e4b', '0x7a121d', '0x7a1200', '0x7a1200', '0x7a2137', '0x7a3083', '0x7a1200', '0x7a2100', '0x7a1200', '0x7a121d', '0x7a121d', '0x7a1200', '0x7a2cff', '0x7a19b0', '0x7a1359', '0x7a121d', '0x7a1200', '0x7a121d', '0x7a1200', '0x7a16bd', '0x7a8ed6', '0x7a5d45', '0x7a3faf', '0x7a121d', '0x7a1200', '0x7a3083', '0x7a121d', '0x7a121d', '0x7a1200', '0x7a121d', '0x7a30a0', '0x7a121d', '0x7a30a0', '0x7a209a', '0x7a2fd0', '0x7a1200', '0x7a121d', '0x7a121d', '0x7a1215', '0x7a1200', '0x7a121d', '0x7a1200', '0x7a121d', '0x7a121d', '0x7a1200', '0x7a121d', '0x7a121d', '0x7a2137', '0x7a20eb', '0x7a121d', '0x7a121d', '0x7a1200', '0x7a30a0', '0x7a212c', '0x7a1200', '0x7a121d', '0x7a3083', '0x7a307c', '0x7a3fae', '0x7a121d', '0x7a3fd0', '0x7a121d', '0x7a121d', '0x7a306c', '0x7a307e', '0x7a2143', '0x7a4eea', '0x7a121d', '0x7a5e4d', '0x7a121d', '0x7a1200', '0x7a121d', '0x7a121d', '0x7a121d', '0x7a3f9a', '0x7a2129', '0x7a3083', '0x7a121d', '0x7a120b', '0x7a2121', '0x7a121d', '0x7a1215', '0x7a1200', '0x7a1200', '0x7a1200', '0x7a121d', '0x7a1200', '0x7a121d', '0x7a9b6b', '0x7a3083', '0x7a5e36', '0x7a1200', '0x7a1200', '0x7a214a', '0x7a1200', '0x7a30a0', '0x7a1200', '0x7a1200', '0x7a121d', '0x7a1200', '0x7a1200', '0x7a1200', '0x7a1200', '0x7a121d', '0x7a1200', '0x7a4ee1', '0x7a1200', '0x7a121d', '0x7a1200', '0x7a5e3d', '0x7a121d', '0x7a2141', '0x7a1200', '0x7a1200', '0x7a2114', '0x7a301e', '0x7a309a', '0x7a4ef6', '0x7a1200', '0x7a2140', '0x7a1200', '0x7a3f9c', '0x7a1200', '0x7a213a', '0x7a2134', '0x7a121d', '0x7a2fe3', '0x7a214e', '0x7a5e41', '0x7a3f12', '0x7a5e4e', '0x7a5e38', '0x7a121d', '0x7a1200', '0x7a121d', '0x7a1200', '0x7a1200', '0x7a3fa6', '0x7a121d', '0x7a1200', '0x7a121d', '0x7a1200', '0x7a1200', '0x7a121d', '0x7a121d', '0x7a121d', '0x7a1200', '0x7a1200', '0x7a2135', '0x7a1200', '0x7a9b7c', '0x7a6d6d', '0x7a121d', '0x7a2154', '0x7a121d', '0x7a3083', '0x7a1200', '0x7a1200', '0x7a1200', '0x7a1200', '0x7a121d', '0x7a1200', '0x7a2130', '0x7a1200', '0x7a7c3a', '0x7a30a0', '0x7a3084', '0x7a1200', '0x7a2141', '0x7a3025', '0x7a5e2f', '0x7a1200', '0x7a121d', '0x7a1200', '0x7a1200', '0x7a4f2b', '0x7a3083', '0x7a3018', '0x7a1200', '0x7a4ecd', '0x7a1200', '0x7a1200', '0x7a1200', '0x7a1200', '0x7a1200', '0x7a213b', '0x7a1200', '0x7a121d', '0x7a3fa4', '0x7a121d', '0x7a3083', '0x7a3084', '0x7a212a', '0x7a1200', '0x7a3083', '0x7a1200', '0x7a6b28', '0x7a41c6', '0x7a3052', '0x7a121d', '0x7a121d', '0x7a121d', '0x7a121d', '0x7a6542', '0x7a30a0', '0x7a121d', '0x7a1200', '0x7a3fae', '0x7a3055', '0x7a3fa4', '0x7a1200', '0x7a19c6', '0x7a1200', '0x7a1200', '0x7a1c93', '0x7a29d9', '0x7a121d', '0x7a1200', '0x7a2142', '0x7a1200', '0x7a1200', '0x7a307d', '0x7a121d', '0x7a259f', '0x7a121d', '0x7a1200', '0x7a121d', '0x7a1200', '0x7a1200', '0x7a1200', '0x7a1200', '0x7a4d13', '0x7a32ba', '0x7a2125', '0x7a1200', '0x7a121d', '0x7a37b7', '0x7a30a0', '0x7a121d', '0x7a121d', '0x7a1200', '0x7a1200', '0x7a1200', '0x7a1200', '0x7a121d', '0x7a1200', '0x7a121d', '0x7a1200', '0x7a1200', '0x7a121d', '0x7a430c', '0x7a121d', '0x7a1200', '0x7a1200', '0x7a3fd6', '0x7a121d', '0x7a121d', '0x7a30a0', '0x7a1200', '0x7a1200', '0x7a3f34', '0x7a1200', '0x7a121d', '0x7a121d', '0x7a213f', '0x7a1200', '0x7a1200', '0x7a1200', '0x7a121d', '0x7a1200', '0x7a1f52', '0x7a2e5e', '0x7a1f1f', '0x7a208f', '0x7a1200', '0x7a121d', '0x7a30a0', '0x7a1200', '0x7a214b', '0x7a121d', '0x7a1649', '0x7a1200', '0x7a121d', '0x7a121d', '0x7a303d', '0x7a1200', '0x7a1200', '0x7a214a', '0x7a1215', '0x7a121d', '0x7a1200', '0x7a327c', '0x7a1200', '0x7a1200', '0x7a1200', '0x7a1200', '0x7a211f', '0x7a1200', '0x7a121d', '0x7a121d', '0x7a1200', '0x7a121d', '0x7a121d', '0x7a20de', '0x7a1200', '0x7a1200', '0x7a1200', '0x7a55f1', '0x7a121d', '0x7a121d', '0x7a121d', '0x7a1200', '0x7a121d', '0x7a30a0', '0x7a1200', '0x7a1200', '0x7a1200', '0x7a3e7c', '0x7a1200', '0x7a5e43', '0x7a2149', '0x7a1200', '0x7a121d', '0x7a1200', '0x7a2130', '0x7a1200', '0x7a121d', '0x7a121d', '0x7a3fc9', '0x79f39e', '0x7a121d', '0x7a1200', '0x7a121d', '0x7a121d', '0x7a30a0', '0x7a1200', '0x7a1200', '0x7a3083', '0x7a1215', '0x7a1200', '0x7a1200', '0x7a121d', '0x7a4e23', '0x7a121d', '0x7a1a42', '0x7a2135', '0x7a214a', '0x7a121d', '0x7a3052', '0x7a1200', '0x7a1200', '0x7a121d', '0x7a1200', '0x7a3083', '0x79f39e', '0x7a121d', '0x7a1200', '0x7a1200', '0x7a1200', '0x7a121d', '0x7a214a', '0x7a20b6', '0x7a1200', '0x7a121d', '0x7a3083', '0x7a1200', '0x7a121d', '0x7a30a0', '0x7a307e', '0x7a1200', '0x7a121d', '0x7a3083', '0x7a1200', '0x7a1200', '0x7a1200', '0x7a3083', '0x7a3094', '0x7a1200', '0x7a2141', '0x7a3a2f', '0x7a773e', '0x7a4c6b', '0x7a23ee', '0x7a2154', '0x7a1215', '0x7a121d', '0x7a121d', '0x7a1200', '0x7a1200', '0x7a121d', '0x7a121d', '0x7a121d', '0x7a30a0', '0x7a1200', '0x7a1200', '0x7a3099', '0x7a2b87', '0x7a3083', '0x7a121d', '0x7a1200', '0x7a30a0', '0x7a1200', '0x7a121d', '0x7a121d', '0x7a121d', '0x7a20a2', '0x7a121d', '0x7a1200', '0x7a1200', '0x7a1200', '0x7a1200', '0x7a1200', '0x7a1200', '0x7a121d', '0x7a30a0', '0x7a1200', '0x7a121d', '0x7a121d', '0x7a1200', '0x7a1200', '0x7a1200', '0x7a1200', '0x7a1200', '0x7a121d', '0x7a2485', '0x7a121d', '0x7a1200', '0x7a4ece', '0x7a1200', '0x7a1200', '0x7a1200', '0x7a1200', '0x7a1200', '0x7a2106', '0x7a121d', '0x7a1543', '0x7a121d', '0x7a1200', '0x7a1200', '0x7a20f7', '0x7a121d', '0x7a121d', '0x7a211d', '0x7a2134', '0x7a1200', '0x7a1200', '0x7a1215', '0x7a307c', '0x7a1200', '0x7a1200', '0x7a1200', '0x7a1200', '0x7a1200', '0x7a121d', '0x7a121d', '0x7a4f0e', '0x7a121d', '0x7a1750', '0x7a121d', '0x7a1200', '0x7a121d', '0x7a1200', '0x7a1200', '0x7a20a7', '0x7a121d', '0x7a121d', '0x7a121d', '0x7a1200', '0x7a211a', '0x7a4f2b', '0x7a121d', '0x7a1200', '0x7a1200', '0x7a1200', '0x7a3fbd', '0x7a121d', '0x7a3fa4', '0x79f39e', '0x7a121d', '0x7a20d8', '0x7a4b7a', '0x7a3e89', '0x7a121d', '0x7a1200', '0x7a121d', '0x7a121d', '0x7a121d', '0x7a121d', '0x7a3083', '0x7a1200', '0x7a1200', '0x7a1200', '0x7a1200', '0x7a2124', '0x7a1200', '0x7a1200', '0x7a214f', '0x7a1200', '0x7a1200', '0x7a1200', '0x7a121d', '0x7a1200', '0x7a121d', '0x7a1200', '0x7a121d', '0x7a1200', '0x7a1200', '0x7a1200', '0x7a4ef6', '0x7a1200', '0x7a3083', '0x7a1200', '0x7a2111', '0x7a2033', '0x7a4bb7', '0x7a1200', '0x7a3742', '0x7a1b33', '0x7a121d', '0x7a212f', '0x7a1200', '0x7a3083', '0x7a1200', '0x7a1200', '0x7a1200', '0x7a1200', '0x7a121d', '0x7a3faf', '0x7a121d', '0x7a121d', '0x7a1200', '0x7a1200', '0x7a1200', '0x7a3fee', '0x7a1200', '0x7a121d', '0x7a121d', '0x7a121d', '0x7a121d', '0x7a121d', '0x7a1200', '0x7a121d', '0x7a121d', '0x7a121d', '0x7a3079', '0x7a1200', '0x7a1829', '0x7a3036', '0x7a1200', '0x7a121d', '0x7a121d', '0x7a1200', '0x7a1200', '0x7a121d', '0x7a1200', '0x7a1200', '0x7a30a0', '0x7a121d', '0x7a1215', '0x7a121d', '0x7a1200', '0x7a121d', '0x7a1200', '0x7a2131', '0x7a3054', '0x7a1200', '0x7a1200', '0x7a1215', '0x7a1200', '0x7a1200', '0x7a3077', '0x7a3f94', '0x7a1200', '0x7a1200', '0x7a3083', '0x7a121d', '0x7a1200', '0x7a121d', '0x7a1200', '0x7a35ba', '0x7a121d', '0x7a1200', '0x7a1200', '0x7a30a0', '0x7a121d', '0x7a30a0', '0x7a121d', '0x7a3fa4', '0x7a2125', '0x7a4f0e', '0x7a19ef', '0x7a3fa3', '0x7a121d', '0x7a1200', '0x7a1200', '0x7a121d', '0x7a121d', '0x7a1200', '0x7a1200', '0x7a121d', '0x7a214d', '0x7a1200', '0x7a121d', '0x7a1200', '0x7a4ebf', '0x7a7b18', '0x7a4ec0', '0x7a3f68', '0x7a121d', '0x7a1200', '0x7a1211', '0x7a121d', '0x7a121d', '0x7a1200', '0x7a213e', '0x7a1200', '0x7a2151', '0x7a1200', '0x7a2156', '0x7a3083', '0x7a3fb0', '0x7a121d', '0x7a46a1', '0x7a3064', '0x7a1200', '0x7a1200', '0x7a3083', '0x7a3fdd', '0x7a1caa', '0x7a121d', '0x7a1200', '0x7a1200', '0x7a121d', '0x7a121d', '0x7a1200', '0x7a121d', '0x7a121d', '0x7a121d', '0x7a1200', '0x7a3f9c', '0x7a3fbb', '0x7a2135', '0x7a1200', '0x7a121d', '0x7a121d', '0x7a4f0e', '0x7a1200', '0x7a3fcc', '0x7a121d', '0x7a213b', '0x7a1200', '0x7a334e', '0x7a4f2b', '0x7a1200', '0x7a121d', '0x7a1200', '0x7a1200', '0x7a1200', '0x7a121d', '0x7a1200', '0x7a1200', '0x7a1200', '0x7a1a32', '0x7a3fbe', '0x7a214a', '0x7a1200', '0x7a1200', '0x7a121d', '0x7a1200', '0x7a1200', '0x7a121d', '0x7a1200', '0x7a1200', '0x7a1200', '0x7a121d', '0x7a3089', '0x7a20d7', '0x7a121d', '0x7a1215', '0x7a3098', '0x7a1200', '0x7a1200', '0x7a3083', '0x7a1200', '0x7a121d', '0x7a2133', '0x7a121d', '0x7a2100', '0x7a1200', '0x7a1200', '0x7a121d', '0x7a121d', '0x7a121d', '0x7a214d', '0x7a1200', '0x7a2151', '0x7a121d', '0x7a2c0f', '0x7a20ed', '0x7a121d', '0x7a1200', '0x7a121d', '0x7a1200', '0x7a1200', '0x7a121d', '0x7a121d', '0x7a1200', '0x7a30a0', '0x7a121d', '0x7a1200', '0x7a1200', '0x7a121d', '0x7a121d', '0x7a1200', '0x7a121d', '0x7a305e', '0x7a3f9e', '0x7a1200', '0x7a1200', '0x7a1eb1', '0x7a121d', '0x7a2152', '0x7a18ba', '0x7a1200', '0x7a1200', '0x7a1200', '0x7a3083', '0x7a121d', '0x7a121d', '0x7a121d', '0x7a121d', '0x7a1200', '0x7a121d', '0x7a3951', '0x7a3083', '0x7a1200', '0x7a121d', '0x7a121d', '0x7a30a0', '0x7a2fc8', '0x7a1200', '0x7a121d', '0x7a121d', '0x7a3c9a', '0x7a2114', '0x7a1d30', '0x7a1200', '0x7a1200', '0x7a1215', '0x7a1200', '0x7a1200', '0x7a1200', '0x7a121d', '0x7a30a0', '0x7a1200', '0x7a3083', '0x7a121d', '0x7a121d', '0x7a1d3e', '0x7a1200', '0x7a1200', '0x7a1200', '0x7a1200', '0x7a3089', '0x7a1200', '0x7a1200', '0x7a212b', '0x7a2148', '0x7a1200', '0x7a2120', '0x7a3eb5', '0x7a1200', '0x7a2108', '0x7a1200', '0x7aa3b7', '0x7a8607', '0x7a120e', '0x7a5b70', '0x7a3cdb', '0x7a1e4d', '0x7a3f41', '0x7a1200', '0x7a1200', '0x7a121d', '0x7a121d', '0x7a121d', '0x7a2128', '0x7a5e49', '0x7a1200', '0x7a121d', '0x7a213d', '0x7a121d', '0x7a3083', '0x7a1200', '0x7a3083', '0x7a1200', '0x7a121d', '0x7a3fe6', '0x7a1976', '0x7a121d', '0x7a2503', '0x7a214a', '0x7a1200', '0x7a121d', '0x7a1200', '0x7a7ca4', '0x7a121d', '0x7a121d', '0x7a121d', '0x7a1200', '0x7a1200', '0x7a1200', '0x7a1215', '0x7a1200', '0x7a121d', '0x7a2142', '0x7a121d', '0x7a121d', '0x7a1b76', '0x7a30a0', '0x7a121d', '0x7a121d', '0x7a121d', '0x7a121d', '0x7a1200', '0x7a1200', '0x7a121d', '0x7a121d', '0x7a1200', '0x7a1200', '0x7a1200', '0x7a1200', '0x7a121d', '0x7a1200', '0x7a121d', '0x7a1200', '0x7a1200', '0x7a1200', '0x7a389e', '0x7a213e', '0x7a1200', '0x7a1200', '0x7a214c', '0x7a4eb8', '0x7a121d', '0x7a121d', '0x7a30a0', '0x7a1200', '0x7a3fd6', '0x7a1215', '0x7a3083', '0x7a3fdf', '0x7a1200', '0x7a1200', '0x7a3fb3', '0x7a121d', '0x7a1200', '0x7a38f7', '0x7a4dba', '0x7a121d', '0x7a20d0', '0x7a3fbd', '0x7a1200', '0x7a121d', '0x7a2136', '0x7a121d', '0x7a2132', '0x7a121d', '0x7a2139', '0x7a121d', '0x7a4f2b', '0x7a1200', '0x7a1200', '0x7a1200', '0x7a2130', '0x7a121d', '0x7a212e', '0x7a35fe', '0x7a1200', '0x7a2135', '0x7a1200', '0x7a3083', '0x7a2142', '0x7a1200', '0x7a1200', '0x7a1200', '0x7a121d', '0x7a121d', '0x7a213f', '0x7a1215', '0x7a5dcc', '0x7a1200', '0x7a3008', '0x7a121d', '0x7a7cd0', '0x7a1200', '0x7a121d', '0x7a1200', '0x7a1200', '0x7a3099', '0x7a1200', '0x7a214f', '0x7a4f2b', '0x7a121d', '0x7a3083', '0x7a121d', '0x7a3083', '0x7a121d', '0x7a3fa3', '0x7a3fb0', '0x7a214a', '0x7a1200', '0x7a121d', '0x7a121d', '0x7a1200', '0x7a1200', '0x7a1200', '0x7a216f', '0x7a3072', '0x7a3083', '0x7a1200', '0x7a1200', '0x7a3c85', '0x7a1200', '0x7a1242', '0x7a213c', '0x7a1200', '0x7a1200', '0x7a121d', '0x7a1200', '0x7a121d', '0x7a3f09', '0x7a3f14', '0x7a1200', '0x7a1e48', '0x7a211e', '0x7a121d', '0x7a121d', '0x7a1200', '0x7a3ea1', '0x7a121d', '0x7a1200', '0x7a121d', '0x7a1200', '0x7a121d', '0x7a1200', '0x7a1200', '0x7a30a0', '0x7a121d', '0x7a1200', '0x7a121d', '0x7a3022', '0x7a3083', '0x7a1200', '0x7a121d', '0x7a1200', '0x7a121d', '0x7a1200', '0x7a121d', '0x7a1215', '0x7a3fbb', '0x7a5e49', '0x7a4f0e', '0x7a121d', '0x7a1c87', '0x7a121d', '0x7a1200', '0x7a1200', '0x7a1215', '0x7a3083', '0x7a1200', '0x7a1200', '0x7a121d', '0x7a3083', '0x7a14cd', '0x7a121d', '0x7a121d', '0x7a121d', '0x7a1200', '0x7a2128', '0x7a1200', '0x7a121d', '0x7a121d', '0x7a1200', '0x7a4f1f', '0x7a121d', '0x7a121d', '0x7a121d', '0x7a1200', '0x7a3fb2', '0x7a1fd8', '0x7a3083', '0x7a2124', '0x7a1200', '0x7a121d', '0x7a121d', '0x7a121d', '0x7a121d', '0x7a3625', '0x7a1200', '0x7a4c67', '0x7a214a', '0x7a2131', '0x7a3081', '0x7a121d', '0x7a1200', '0x7a212f', '0x7a1200', '0x7a121d', '0x7a121d', '0x7a4f2b', '0x7a1200', '0x7a1211', '0x7a1200', '0x7a121d', '0x7a4538', '0x7a4d90', '0x7a1200', '0x7a1200', '0x7a121d', '0x7a121d', '0x7a2126', '0x7a1200', '0x7a1215', '0x7a30a0', '0x7a121d', '0x7a2125', '0x7a1200', '0x7a1200', '0x7a23db', '0x7a2147', '0x7a1200', '0x7a212a', '0x7a1200', '0x7a121d', '0x7a1200', '0x7a121d', '0x7a121d', '0x7a121d', '0x7a1200', '0x7a121d', '0x7a2143', '0x7a121d', '0x7a214a', '0x7a4eee', '0x7a121d', '0x7a1200', '0x7a3fc5', '0x7a121d', '0x7a215e', '0x7a1200', '0x7a1200', '0x7a121d', '0x7a121d', '0x7a121d', '0x7a1200', '0x7a1200', '0x7a121d', '0x7a121d', '0x7a7cc4', '0x7a5e23', '0x7a1200', '0x7a1200', '0x7a3021', '0x7a2142', '0x7a30a0', '0x7a1200', '0x7a1200', '0x7a1200', '0x7a121d', '0x7a121d', '0x7a1200', '0x7a3083', '0x7a1200', '0x7a1200', '0x7a2126', '0x7a3077', '0x7a121d', '0x7a1200', '0x7a215f', '0x7a1200', '0x7a1200', '0x7a3083', '0x7a3099', '0x7a121d', '0x7a121d', '0x7a1215', '0x7a1200', '0x7a121d', '0x7a1200', '0x7a1200', '0x7a1200', '0x7a1200', '0x7a3066', '0x7a1200', '0x7a3fc9', '0x7a1200', '0x7a1200', '0x7a2137', '0x7a3098', '0x7a30a0', '0x7a306d', '0x7a2141', '0x7a214a', '0x7a121d', '0x7a1200', '0x7a308b', '0x7a2137', '0x7a2138', '0x7a121d', '0x7a1200', '0x7a1200', '0x7a3087', '0x7a121d', '0x7a3fac', '0x7a2138', '0x7a1200', '0x7a121d', '0x7a1200', '0x7a212a', '0x7a121d', '0x79f39e', '0x7a1200', '0x7a1200', '0x7a1200', '0x7a1200', '0x7a1200', '0x7a121d', '0x7a3fc6', '0x7a121d', '0x7a1200', '0x7a3098', '0x7a121d', '0x7a2129', '0x7a1200', '0x7a121d', '0x7a3083', '0x7a3083', '0x7a1200', '0x7a1215', '0x7a121d', '0x7a1200', '0x7a1200', '0x7a121d', '0x7a121d', '0x7a3083', '0x7a121d', '0x7a1200', '0x7a212d', '0x7a121d', '0x7a2137', '0x7a1200', '0x7a121d', '0x7a1200', '0x7a2159', '0x7a5dfe', '0x7a6d3a', '0x7a121d', '0x7a121d', '0x7a4f03', '0x7a121d', '0x7a1200', '0x7a1200', '0x7a3083', '0x7a1d19', '0x7a121d', '0x7a1200', '0x7a1200', '0x7a13a8', '0x7a30a0', '0x7a1200', '0x7a121d', '0x7a121d', '0x7a121d', '0x7a3046', '0x7a4ed1', '0x7a3fc4', '0x7a121d', '0x7a1200', '0x7a1200', '0x7a5e73', '0x7a1200', '0x7a1200', '0x7a1200', '0x7a213b', '0x7a121d', '0x7a3083', '0x7a1200', '0x7a1213', '0x7a1200', '0x7a3083', '0x7a1200', '0x7a5e2f', '0x7a6d6c', '0x7a4ef0', '0x7a1200', '0x7a2306', '0x7a3083', '0x7a30a0', '0x7a1200', '0x7a1200', '0x7a121d', '0x7a2128', '0x7a2125', '0x7a121d', '0x7a121d', '0x7a1200', '0x7a1200', '0x7a1200', '0x7a121d', '0x7a121d', '0x7a3f96', '0x7a121d', '0x7a1200', '0x7a4f06', '0x7a3fc2', '0x7a1200', '0x7a121d', '0x7a1200', '0x7a1200', '0x7a4f1b', '0x7a121d', '0x7a121d', '0x7a1200', '0x7a1200', '0x7a1200', '0x7a121d', '0x7a121d', '0x7a4ef7', '0x7a1200', '0x7a1200', '0x7a212b', '0x7a121d', '0x7a1200', '0x7a30a0', '0x7a1200', '0x7a1200', '0x7a1200', '0x7a4f0e', '0x7a121d', '0x7a1200', '0x7a1200', '0x7a3083', '0x7a1200', '0x7a3067', '0x7a1200', '0x7a2136', '0x7a1200', '0x7a20db', '0x7a1200', '0x7a2130', '0x7a206c', '0x7a1200', '0x7a1200', '0x7a121d', '0x7a2146', '0x7a2126', '0x7a121d', '0x7a1200', '0x7a1200', '0x7a307c', '0x7a1200', '0x7a3083', '0x7a2126', '0x7a1200', '0x7a1200', '0x7a121d', '0x7a1200', '0x7a121d', '0x7a3fa3', '0x7a1200', '0x7a121d', '0x7a2127', '0x7a3083', '0x7a121d', '0x7a3083', '0x7a3083', '0x7a309d', '0x7a1200', '0x7a1200', '0x7a121d', '0x7a3083', '0x7a208a', '0x7a5640', '0x7a121d', '0x7a121d', '0x7a1200', '0x7a213a', '0x7a3083', '0x7a2112', '0x7a1200', '0x7a214e', '0x7a3083', '0x7a1200', '0x7a1200', '0x7a1200', '0x7a2125', '0x7a3ed1', '0x7a121d', '0x7a121d', '0x7a1200', '0x7a1200', '0x7a121d', '0x7a1200', '0x7a121d', '0x7a1200', '0x7a41fa', '0x7a1200', '0x7a121d', '0x7a1200', '0x7a121d', '0x7a1200', '0x7a3059', '0x7a121d', '0x7a1200', '0x7a1200', '0x7a3083', '0x7a121d', '0x7a1200', '0x7a121d', '0x7a2f8b', '0x7a121d', '0x7a1200', '0x7a1200', '0x7a1200', '0x7a1200', '0x7a1200', '0x7a1200', '0x7a1200', '0x7a215b', '0x7a1200', '0x7a1200', '0x7a20e8', '0x7a121d', '0x7a121d', '0x7a121d', '0x7a1595', '0x7a3083', '0x7a121d', '0x7a1200', '0x7a121d', '0x7a1200', '0x7a2155', '0x7a1200', '0x7a121d', '0x7a1200', '0x7a214a', '0x7a121d', '0x7a1200', '0x7a1200', '0x7a121d', '0x7a1200', '0x7a1200', '0x7a1200', '0x7a1200', '0x7a121d', '0x7a121d', '0x7a1200', '0x7a3083', '0x7a6be8', '0x7a121d', '0x7a1200', '0x7a121d', '0x7a121d', '0x7a121d', '0x7a121d', '0x7a1200', '0x7a1200', '0x7a121d', '0x7a1200', '0x7a215a', '0x7a121d', '0x7a121d', '0x7a121d', '0x7a121d', '0x7a30a0', '0x7a1215', '0x7a2e09', '0x7a2125', '0x7a4f00', '0x7a1200', '0x7a121d', '0x7a1200', '0x7a121d', '0x7a121d', '0x7a1200', '0x7a1200', '0x7a1200', '0x7a1200', '0x7a121d', '0x7a1200', '0x7a1200', '0x7a1200', '0x7a121d', '0x7a309c', '0x7a4f27', '0x7a121d', '0x7a4ef8', '0x7a1200', '0x7a1200', '0x7a121d', '0x7a121d', '0x7a121d', '0x7a1200', '0x7a1200', '0x7a121d', '0x7a121d', '0x7a3fbe', '0x7a121d', '0x7a121d', '0x7a1f71', '0x7a121d', '0x7a121d', '0x7a1d9c', '0x7a121d', '0x7a43d5', '0x7a1200', '0x7a1a7f', '0x7a1200', '0x7a121d', '0x7a1200', '0x7a214f', '0x7a164d', '0x7a2154', '0x7a121d', '0x7a121d', '0x7a121d', '0x7a121d', '0x7a1200', '0x7a1200', '0x7a121d', '0x7a121d', '0x7a2136', '0x7a121d', '0x7a2741', '0x7a2754', '0x7a1215', '0x7a5e5d', '0x7a3b04', '0x7a121d', '0x7a1200', '0x7a1200', '0x7a121d', '0x7a121d', '0x7a1200', '0x7a1200', '0x7a3b29', '0x7a121d', '0x7a121d', '0x7a121d', '0x7a2159', '0x7a121d', '0x7a121d', '0x7a1200', '0x7a1ec4', '0x7a18a3', '0x7a1ffb', '0x7a1200', '0x7a1200', '0x7a1200', '0x7a1dfa', '0x7a121d', '0x7a121d', '0x7a1200', '0x7a2117', '0x7a1200', '0x7a3069', '0x7a1200', '0x7a121d', '0x7a1200', '0x7a1200', '0x7a1200', '0x7a121d', '0x7a1200', '0x7a121d', '0x7a121d', '0x7a308b', '0x7a1200', '0x7a121d', '0x7a1200', '0x7a1200', '0x7a3069', '0x7a1200', '0x7a20de', '0x7a1200', '0x7a2134', '0x7a121d', '0x7a1215', '0x7a1200', '0x7a1200', '0x7a121d', '0x7a121d', '0x7a1200', '0x7a2134', '0x7a1200', '0x7a121d', '0x7a1200', '0x7a121d', '0x7a4ef4', '0x7a121d', '0x7a30a0', '0x7a121d', '0x7a5e0f', '0x7a2142', '0x7a3fc0', '0x7a1200', '0x7a121d', '0x7a30a0', '0x7a121d', '0x7a2136', '0x7a3095', '0x7a4f23', '0x7a121d', '0x7a1200', '0x7a120e', '0x7a1200', '0x7a2db9', '0x7a121d', '0x7a121d', '0x7a121d', '0x7a1200', '0x7a1200', '0x7a3083', '0x7a121d', '0x7a1200', '0x7a1200', '0x7a2149', '0x7a1200', '0x7a3083', '0x7a121d', '0x7a2141', '0x7a121d', '0x7a3994', '0x7a121d', '0x7a1200', '0x7a1200', '0x7a30a0', '0x7a1200', '0x7a3083', '0x7a3046', '0x7a121d', '0x7a1200', '0x7a1200', '0x7a3083', '0x7a1200', '0x7a1200', '0x7a121d', '0x7a1200', '0x7a1200', '0x7a121d', '0x7a3fd9', '0x7a1200', '0x7a1200', '0x7a121d', '0x7a121d', '0x7a121d', '0x7a1200', '0x7a1200', '0x7a1200', '0x7a9b99', '0x7a3fac', '0x7a1215', '0x7a1200', '0x7a1200', '0x7a212d', '0x7a3085', '0x7a3060', '0x7a121d', '0x7a1200', '0x7a1200', '0x7a121d', '0x7a3083', '0x7a7cda', '0x7a4ef6', '0x7a2137', '0x7a1200', '0x7a1200', '0x7a1200', '0x7a1215', '0x7a1200', '0x7a121d', '0x7a1200', '0x7a121d', '0x7a1200', '0x7a121d', '0x7a1200', '0x7a1200', '0x7a1200', '0x7a121d', '0x7a1200', '0x7a121d', '0x7a1e9a', '0x7a121d', '0x7a3083', '0x7a1200', '0x7a1200', '0x7a1200', '0x7a1200', '0x7a121d', '0x7a1200', '0x7a3fd5', '0x7a1200', '0x7aaaa3', '0x7a20d5', '0x7a1200', '0x7a1215', '0x7a3fdd', '0x7a2134', '0x7a1215', '0x7a1200', '0x7a121d', '0x7a121d', '0x7a2133', '0x7a2f4f', '0x7a1200', '0x7a121d', '0x7a1200', '0x7a2f5f', '0x7a121d', '0x7a2128', '0x7a121d', '0x7a5e73', '0x7a3072', '0x7a1200', '0x7a1200', '0x7a1200', '0x7a121d', '0x7a1200', '0x7a1200', '0x7a1200', '0x7a3083', '0x7a213b', '0x7a1200', '0x7a121d', '0x7a1200', '0x7a3051', '0x7a3098', '0x7a4ee0', '0x7a214d', '0x7a121d', '0x7a121d', '0x7a1200', '0x7a214b', '0x7a121d', '0x7a1200', '0x7a3fe5', '0x7a121d', '0x7a1215', '0x7a30a0', '0x7a1200', '0x7a121d', '0x7a1200', '0x7a2156', '0x7a1200', '0x7a1200', '0x7a121d', '0x7a2126', '0x7a121d', '0x7a1200', '0x7a30a0', '0x7a121d', '0x7a1200', '0x7a121d', '0x7a307c', '0x7a1200', '0x7a18c9', '0x7a1200', '0x7a121d', '0x7a121d', '0x7a121d', '0x7a121d', '0x7a1200', '0x7a1200', '0x7a1200', '0x7a1200', '0x7a1200', '0x7a121d', '0x7a1200', '0x7a1200', '0x7a121d', '0x7a121d', '0x7a121d', '0x7a121d', '0x7a1200', '0x7a121d', '0x7a206e', '0x7a121d', '0x7a1205', '0x7a121d', '0x7a1200', '0x7a121d', '0x7a1200', '0x7a213c', '0x7a212d', '0x7a1200', '0x7a1200', '0x7a1200', '0x7a1200', '0x7a1200', '0x7a1d3e', '0x7a1200', '0x7a121d', '0x7a121d', '0x7a1200', '0x7a3fa1', '0x7a2f8f', '0x7a1200', '0x7a2137', '0x7a121d', '0x7a1200', '0x79f39e', '0x7a1200', '0x7a121d', '0x7a2f81', '0x7a1200', '0x7a121d', '0x7a1200', '0x7a3fb1', '0x7a1200', '0x7a211f', '0x7a3fac', '0x7a1200', '0x7a1200', '0x7a214d', '0x7a1215', '0x7a1200', '0x7a5e6e', '0x7a1200', '0x7a1200', '0x7a1200', '0x7a213d', '0x7a1200', '0x7a121d', '0x7a121d', '0x7a121d', '0x7a1200', '0x7a1200', '0x7a121d', '0x7a1200', '0x7a121d', '0x7a1200', '0x7a121d', '0x7a3083', '0x7a30a0', '0x7a121d', '0x7a35f5', '0x7a14b4', '0x7a1200', '0x7a247d', '0x7a1200', '0x7a3083', '0x7a1200', '0x7a20f6', '0x7a1200', '0x7a121d', '0x7a121d', '0x7a1200', '0x7a1200', '0x7a1520', '0x7a1200', '0x7a3fb6', '0x7a1200', '0x7a3223', '0x7a121d', '0x7a2134', '0x7a1200', '0x7a2783', '0x7a2156', '0x7a121d', '0x7a2128', '0x7a121d', '0x7a2139', '0x7a1200', '0x7a1200', '0x7a1200', '0x7a121d', '0x7a5dc7', '0x79f78c', '0x7a1608', '0x7a70b9', '0x7a6776', '0x7a1200', '0x7a2531', '0x7a2136', '0x7a121d', '0x7a1200', '0x7a30a0', '0x7a3083', '0x7a1200', '0x7a121d', '0x7a4f0e', '0x7a121d', '0x7a3fc1', '0x7a1215', '0x7a1200', '0x7a121d', '0x7a1200', '0x7a1200', '0x7a3fc4', '0x7a1200', '0x7a6db9', '0x7a306e', '0x7a121d', '0x7a1200', '0x7a1200', '0x7a121d', '0x7a1200', '0x7a121d', '0x7a121d', '0x7a121d', '0x7a1200', '0x7a121d', '0x7a121d', '0x7a121d', '0x7a1200', '0x7a30a0', '0x7a1200', '0x7a3f95', '0x7a3083', '0x7a1200', '0x7a1200', '0x7a2133', '0x7a1364', '0x7a1200', '0x7a1200', '0x7a1200', '0x7a3083', '0x7a214e', '0x7a30a0', '0x7a1200', '0x7a219d', '0x7a121d', '0x7a1200', '0x7a2148', '0x7a1200', '0x7a121d', '0x7a30a0', '0x7a121d', '0x7a121d', '0x7a121d', '0x7a1200', '0x7a182f', '0x7a2159', '0x7a1200', '0x7a1200', '0x7a1200', '0x7a121d', '0x7a121d', '0x7a1200', '0x7a121d', '0x7a1200', '0x7a1200', '0x7a1200', '0x7a121d', '0x7a2c11', '0x7a1200', '0x7a2e2a', '0x7a1200', '0x7a1200', '0x7a3083', '0x7a1200', '0x7a23d0', '0x7a1200', '0x7a1200', '0x7a121d', '0x7a2047', '0x7a121d', '0x7a1200', '0x7a1200', '0x7a1200', '0x7a3083', '0x7a1200', '0x7a2154', '0x7a121d', '0x7a121d', '0x7a4198', '0x7a3083', '0x7a121d', '0x7a2011', '0x7a4f14', '0x7a121d', '0x7a5600', '0x7a197c', '0x7a1200', '0x7a2125', '0x7a1200', '0x7a121d', '0x7a121d', '0x7a121d', '0x7a121d', '0x7a1200', '0x7a1200', '0x7a121d', '0x7a1200', '0x7a30a0', '0x7a1200', '0x7a121d', '0x7a3fc8', '0x7a3073', '0x7a3fa6', '0x7a121d', '0x7a20f3', '0x7a1200', '0x7a121d', '0x7a30a0', '0x7a1200', '0x7a1200', '0x7a1200', '0x7a1200', '0x7a3083', '0x7a3f92', '0x7a3083', '0x7a1200', '0x7a121d', '0x7a121d', '0x7a213c', '0x7a2693', '0x7a3a3b', '0x7a121d', '0x7a3083', '0x7a121d', '0x7a6d95', '0x7a121d', '0x7a3083', '0x7a4f2b', '0x7a1200', '0x7a121d', '0x7a121d', '0x7a3a1f', '0x7a1200', '0x7a1200', '0x7a7b9e', '0x7a121d', '0x7a1200', '0x7a1200', '0x7a7d03', '0x7a121d', '0x7a1200', '0x7a30a0', '0x7a121d', '0x7a121d', '0x7a121d', '0x7a3fb6', '0x7a4f0e', '0x7a121d', '0x7a1200', '0x7a213f', '0x7a1200', '0x7a121d', '0x7a1200', '0x7a1200', '0x7a1200', '0x7a3130', '0x7a2125', '0x7a215c', '0x7a121d', '0x7a121d', '0x7a1200', '0x7a121d', '0x7a1200', '0x7a121d', '0x7a30a0', '0x7a30a0', '0x7a2125', '0x7a121d', '0x7a121d', '0x7a3f28', '0x7a121d', '0x7a121d', '0x7a1200', '0x7a1cc1', '0x7a121d', '0x7a121d', '0x7a1200', '0x7a1200', '0x7a1200', '0x7a121d', '0x7a1200', '0x7a1200', '0x7a3083', '0x7a1200', '0x7a1200', '0x7a1200', '0x7a215d', '0x7a1200', '0x7a121d', '0x7a3083', '0x7a5cf3', '0x7a1200', '0x7a1200', '0x7a1200', '0x7a1200', '0x7a2137', '0x7a1f7f', '0x7a1215', '0x7a1200', '0x7a121d', '0x7a1200', '0x7a121d', '0x7a1200', '0x7a121d', '0x7a3211', '0x7a121d', '0x7a1200', '0x7a3e58', '0x7a121d', '0x7a1200', '0x7a1200', '0x7a1200', '0x7a1db3', '0x7a1200', '0x7a1512', '0x7a1200', '0x7a05bb', '0x7a1200', '0x7a18be', '0x7a121d', '0x7a2154', '0x7a1200', '0x7a121d', '0x7a3fb3', '0x7a121d', '0x7a1200', '0x7a2130', '0x7a1200', '0x7a3077', '0x7a215e', '0x7a1215', '0x7a121d', '0x7a5e5f', '0x7a121d', '0x7a121d', '0x7a121d', '0x7a1215', '0x7a121d', '0x7a1ed5', '0x7a121d', '0x7a1200', '0x7a213e', '0x7a1200', '0x7a20da', '0x7a173d', '0x7a413d', '0x7a30a0', '0x7a1200', '0x7a4f06', '0x7a1200', '0x7a1200', '0x7a121d', '0x7a172f', '0x7a121d', '0x7a1200', '0x7a4d60', '0x7a54b9', '0x7a1200', '0x7a121d', '0x79f39e', '0x7a3fc9', '0x7a121d', '0x7a3f9f', '0x7a121d', '0x7a121d', '0x7a1200', '0x7a121d', '0x7a3083', '0x7a3083', '0x7a121d', '0x7a121c', '0x7a3fdd', '0x7a1200', '0x7a1200', '0x7a2bb8', '0x7a30a0', '0x7a5844', '0x7a1200', '0x7a121d', '0x7a121d', '0x7a1200', '0x7a1200', '0x7a121d', '0x7a121d', '0x7a121d', '0x7a3083', '0x7a121d', '0x7a1200', '0x7a211c', '0x7a1200', '0x7a1200', '0x7a3083', '0x7a121d', '0x7a6414', '0x7a162d', '0x7a1200', '0x7a1200', '0x7a121d', '0x7a121d', '0x7a3083', '0x7a121d', '0x7a121d', '0x7a3083', '0x7a121d', '0x7a1200', '0x7a121d', '0x7a1200', '0x7a2fe0', '0x7a1200', '0x7a1200', '0x7a3083', '0x7a121d', '0x7a1200', '0x7a3083', '0x7a121d', '0x7a121d', '0x7a121d', '0x7a121d', '0x7a2132', '0x7a1200', '0x7a1200', '0x7a121d', '0x7a1200', '0x7a121d', '0x7a121d', '0x7a1200', '0x7a212f', '0x7a3355', '0x7a4b9c', '0x7a214a', '0x7a2157', '0x7a1200', '0x7a30a0', '0x7a1200', '0x7a1200', '0x7a2139', '0x7a1200', '0x7a121d', '0x7a2136', '0x7a3083', '0x7a2126', '0x7a1200', '0x7a1200', '0x7a121d', '0x7a1200', '0x7a1200', '0x7a1200', '0x7a4f40', '0x7a121d', '0x7a30a0', '0x7a136a', '0x7a1200', '0x7a1200', '0x7a1200', '0x7a4f0e', '0x7a1200', '0x7a1200', '0x7a1200', '0x7a3083', '0x7a1200', '0x7a121d', '0x7a4ef6', '0x7a3083', '0x7a121d', '0x7a3fd1', '0x7a3083', '0x7a3fb8', '0x7a20ef', '0x7a4f0e', '0x7a1200', '0x7a1200', '0x7a1200', '0x7a1200', '0x7a121d', '0x7a1200', '0x7a121d', '0x7a1200', '0x7a121d', '0x7a1200', '0x7a3083', '0x7a1200', '0x7a1200', '0x7a3058', '0x7a3083', '0x7a2f40', '0x7a2107', '0x7a2133', '0x7a1200', '0x7a1200', '0x7a121d', '0x7a1d5e', '0x7a3083', '0x7a1200', '0x7a1215', '0x7a216f', '0x7a1200', '0x7a214a', '0x7a3fcd', '0x7a2149', '0x7a1200', '0x7a1200', '0x7a1200', '0x7a1200', '0x7a2147', '0x7a213e', '0x7a3079', '0x7a3de8', '0x7a121d', '0x7a1200', '0x7a121d', '0x7a1200', '0x7a032f', '0x7a2143', '0x7a2139', '0x7a121d', '0x7a306d', '0x7a260f', '0x7a1200', '0x7a2133', '0x7a6d91', '0x7a7c4a', '0x7a524b', '0x7a1200', '0x7a1200', '0x7a1200', '0x7a121d', '0x7a3083', '0x7a121d', '0x7a121d', '0x7a1200', '0x7a2f3c', '0x7a1200', '0x7a22ab', '0x7a121d', '0x7a3ec0', '0x7a1200', '0x7a121d', '0x7a5d69', '0x7a3083', '0x7a1200', '0x7a1200', '0x7a121d', '0x7a121d', '0x7a121d', '0x7a1200', '0x7a121d', '0x7a2143', '0x7a3063', '0x7a121d', '0x7a1200', '0x7a121d', '0x7a212c', '0x7a212c', '0x7a3fc6', '0x7a121d', '0x7a121d', '0x7a3059', '0x7a3083', '0x7a121d', '0x7a121d', '0x7a1215', '0x7a337a', '0x7a3083', '0x7a1200', '0x7a4c93', '0x7a121d', '0x7a121d', '0x7a30a0', '0x7a1cc4', '0x7a121d', '0x7a121d', '0x7a309c', '0x7a3083', '0x7a121d', '0x7a2665', '0x7a3686', '0x7a17fa', '0x7a186b', '0x7a121d', '0x7a1200', '0x7a1200', '0x7a1200', '0x7a1200', '0x7a121d', '0x7a2138', '0x7a1b99', '0x7a1200', '0x7a1200', '0x7a2122', '0x7a1a30', '0x7a1200', '0x7a1200', '0x7a213f', '0x7a1200', '0x7a1200', '0x7a748b', '0x7a1200', '0x7a213a', '0x7a121d', '0x7a121d', '0x7a499d', '0x7a1215', '0x7a3083', '0x7a1200', '0x7a1200', '0x7a1ded', '0x7a121d', '0x7a1200', '0x7a1200', '0x7a121d', '0x7a1200', '0x7a121d', '0x7a30a0', '0x7a121d', '0x7a121d', '0x7a121d', '0x7a3083', '0x7a1200', '0x7a212b', '0x7a1526', '0x7a30a0', '0x7a30a0', '0x7a1200', '0x7a1200', '0x7a121d', '0x7a3f8b', '0x7a1200', '0x7a1200', '0x7a1200', '0x7a121d', '0x7a2134', '0x7a1200', '0x7a121d', '0x7a3052', '0x7a4ecb', '0x7a1200', '0x7a121d', '0x7a1200', '0x7a121d', '0x7a121d', '0x7a2125', '0x7a1200', '0x7a1200', '0x7a3061', '0x7a121d', '0x7a121d', '0x7a1200', '0x7a1200', '0x7a1200', '0x7a121d', '0x7a3083', '0x7a121d', '0x7a3084', '0x7a1200', '0x7a1200', '0x7a121d', '0x7a1200', '0x7a1200', '0x7a2143', '0x7a3742', '0x7a5326', '0x7a1215', '0x7a1200', '0x7a1200', '0x7a121d', '0x7a121d', '0x7a1200', '0x7a30a0', '0x7a306b', '0x7a1200', '0x7a121d', '0x7a1200', '0x7a121d', '0x7a121d', '0x7a30a0', '0x7a2f91', '0x7a5cdd', '0x7a121d', '0x7a3083', '0x7a1200', '0x7a121d', '0x7a121d', '0x7a121d', '0x7a1200', '0x7a3fcd', '0x7a216f', '0x7a1200', '0x7a121d', '0x7a1200', '0x7a1200', '0x7a3fd2', '0x7a1200', '0x7a30a0', '0x7a1e1c', '0x7a121d', '0x7a120c', '0x7a1200', '0x7a4f2b', '0x7a2132', '0x7a121d', '0x7a121d', '0x7a32df', '0x7a121d', '0x7a121d', '0x7a1200', '0x7a4ef0', '0x7a2152', '0x7a2131', '0x7a1200', '0x7a306b', '0x7a3073', '0x7a3fbf', '0x7a121d', '0x7a1200', '0x7a1200', '0x7a121d', '0x7a1200', '0x7a2151', '0x7a121d', '0x7a1200', '0x7a2126', '0x7a2128', '0x7a1dcf', '0x7a1215', '0x7a121d', '0x7a3091', '0x7a1200', '0x7a121d', '0x7a1a92', '0x7a41fc', '0x7a1200', '0x7a1fe9', '0x7a121d', '0x7a2cf2', '0x7a3fb8', '0x7a1200', '0x7a210d', '0x7a1200', '0x7a121d', '0x7a1200', '0x7a121d', '0x7a1200', '0x7a212a', '0x7a1200', '0x7a3089', '0x7a1200', '0x7a121d', '0x7a121d', '0x7a121d', '0x7a3083', '0x7a1200', '0x7a1200', '0x7a2131', '0x7a2141', '0x7a2142', '0x7a1200', '0x7a2125', '0x7a1200', '0x7a1200', '0x7a1200', '0x7a5e32', '0x7a1200', '0x7a213e', '0x7a20ef', '0x7a1200', '0x7a4c88', '0x7a1200', '0x7a121d', '0x7a121d', '0x7a121d', '0x7a1200', '0x7a1f8e', '0x7a121d', '0x7a3083', '0x7a121d', '0x7a3083', '0x7a121d', '0x7a3083', '0x7a1200', '0x7a2139', '0x7a213f', '0x7a1200', '0x7a1200', '0x7a2158', '0x7a3fda', '0x7a3083', '0x7a1200', '0x7a121d', '0x7a213a', '0x7a121d', '0x7a3d1c', '0x7a1200', '0x7a1200', '0x7a1200', '0x7a3039', '0x7a3083', '0x7a1200', '0x7a1200', '0x7a1200', '0x7a214b', '0x7a1200', '0x7a121d', '0x7a1200', '0x7a1200', '0x7a1200', '0x7a121d', '0x7a1200', '0x7a121d', '0x7a121d', '0x7a2145', '0x7a121d']\n",
      "[]\n"
     ]
    }
   ],
   "source": [
    "str_counter = 0\n",
    "hex_str_counter = 0\n",
    "str_list = []\n",
    "hex_str_list = []\n",
    "\n",
    "for gaslimit in raw_broadcast_df.gasLimit:\n",
    "    if type(gaslimit) == type('str'):\n",
    "        str_counter += 1\n",
    "        if gaslimit.startswith('0x'):\n",
    "            hex_str_counter += 1\n",
    "            hex_str_list.append(gaslimit)\n",
    "        else:\n",
    "            str_list.append(gaslimit)\n",
    "        \n",
    "print(str_counter)\n",
    "print(hex_str_counter)\n",
    "print(raw_broadcast_df.shape)\n",
    "print(hex_str_list)\n",
    "print(str_list)"
   ]
  },
  {
   "cell_type": "markdown",
   "metadata": {},
   "source": [
    "**As shown in the cell above, we can find that there are 6417 hex string in gasLimit column. We need to convert them to decimal.**"
   ]
  },
  {
   "cell_type": "code",
   "execution_count": 386,
   "metadata": {},
   "outputs": [
    {
     "name": "stdout",
     "output_type": "stream",
     "text": [
      "8785\n",
      "8785\n",
      "[5075, 5003, 5000, 5009, 5057, 6283192, 6283192, 6283192, 6283192, 6283192, 6283192, 6283192, 6283192, 6283192, 6283192, 6283192, 6283192, 6283192, 6283192, 6283192, 6283192, 6283192, 6283192, 6283192, 6283192, 6283192, 6283192, 6283192, 6283192, 6283192, 6283192, 6283192, 6283192, 6283192, 6283192, 6283192, 6283192, 6283192, 6283192, 6283192, 6283192, 6283192, 6283192, 6283192, 6283192, 6283192, 6283192, 6283192, 6283192, 6283192, 6283192, 6283192, 6283192, 6283192, 6283192, 6283192, 6283192, 6283192, 6283192, 6283192, 6283192, 6283192, 6283192, 6283192, 6283192, 6283192, 6283192, 6283192, 6283192, 6283192, 6283192, 6283192, 6283192, 6283192, 6283192, 6283192, 6283192, 6283192, 6283192, 6283192, 6283192, 6283192, 6283192, 6283192, 6283192, 6283192, 6283192, 6283192, 6283192, 6283192, 6283192, 6283192, 6283192, 6283192, 6283192, 6283192, 6283192, 6283192, 6283192, 6283192, 6283192, 6283192, 6283192, 6283192, 6283192, 6283192, 6283192, 6283192, 6283192, 6283192, 6283192, 6283192, 6283192, 6283192, 6283192, 6283192, 6283192, 6283192, 6283192, 6283192, 6283192, 6283192, 6283192, 6283192, 6283192, 6283192, 6283192, 6283192, 6283192, 6283192, 6283192, 6283192, 6283192, 6283192, 6283192, 6283192, 6283192, 6283192, 6283192, 6283192, 6283192, 6283192, 6283192, 6283192, 6283192, 6283192, 6283192, 6283192, 6283192, 6283192, 6283192, 6283192, 6283192, 6283192, 6283192, 6283192, 6283192, 6283192, 6283192, 6283192, 6283192, 6283192, 6283192, 6283192, 6283192, 6283192, 6283192, 6283192, 6283192, 6283192, 6283192, 6283192, 6283192, 6283192, 6283192, 6283192, 6283192, 6283192, 6283192, 6283192, 6283192, 6283192, 6283192, 6283192, 6283192, 6283192, 6283192, 6283192, 6283192, 6283192, 6283192, 6283192, 6283192, 6283192, 6283192, 6283192, 6283192, 6283192, 6283192, 6283192, 6283192, 6283192, 6283192, 6283192, 6283192, 6283192, 6283192, 6283192, 6283192, 6283192, 6283192, 6283192, 6283192, 6283192, 6283192, 6283192, 6283192, 6283192, 6283192, 6283192, 6283192, 6283192, 6283192, 6283192, 6283192, 6283192, 6283192, 6283192, 6283192, 6283192, 6283192, 6283192, 6283192, 6283192, 6283192, 6283192, 6283192, 6283192, 6283192, 6283192, 6283192, 6283192, 6283192, 6283192, 6283192, 6283192, 6283192, 6283192, 6283192, 6283192, 6283192, 6283192, 6283192, 6283192, 6283192, 6283192, 6283192, 6283192, 6283192, 6283192, 6283192, 6283192, 6283192, 6283192, 6283192, 6283192, 6283192, 6283192, 6283192, 6283192, 6283192, 6283192, 6283192, 6283192, 6283192, 6283192, 6283192, 6283192, 6283192, 6283192, 6283192, 6283192, 6283192, 6283192, 6283192, 6283192, 6283192, 6283192, 6283192, 6283192, 6283192, 6283192, 6283192, 6283192, 6283192, 6283192, 6283192, 6283192, 6283192, 6283192, 6283192, 6283192, 6283192, 6283192, 6283192, 6283192, 6283192, 6283192, 6283192, 6283192, 6283192, 6283192, 6283192, 6283192, 6283192, 6283192, 6283192, 6283192, 6283192, 6283192, 6283192, 6283192, 6283192, 6283192, 6283192, 6283192, 6283192, 6283192, 8023457, 8000029, 8000000, 8000000, 8000000, 8000029, 8000000, 8023485, 8021739, 8000000, 8007811, 8000000, 8000000, 8000000, 8003877, 8007811, 8000029, 8000000, 8000000, 8000000, 8031268, 8014579, 8025906, 8000029, 8000029, 8000029, 8000000, 8000000, 8000029, 8000000, 8000000, 8001847, 8000000, 8000029, 8003928, 8000000, 8000000, 8000000, 8000000, 8000029, 8000029, 8000000, 8007836, 8000029, 8000000, 8000000, 8000029, 8000000, 8000029, 8003928, 8000000, 8000000, 8007840, 8000029, 8000000, 8003900, 8000000, 8000000, 8007811, 8000000, 8009825, 8002004, 8000029, 8000000, 8003907, 8000000, 8000029, 8000029, 8000029, 8000000, 8006275, 8000029, 8007836, 8000017, 8007811, 8000029, 8000000, 8008911, 8003895, 8000000, 8000000, 8016656, 8000029, 8000116, 8000000, 8000000, 8011741, 8015633, 8000000, 8008534, 8000029, 8000000, 8003884, 8000000, 8000000, 8000029, 8000029, 8003881, 8000029, 8004691, 8000029, 8007840, 8000000, 8000000, 8011631, 8000029, 8007811, 8007811, 8000000, 8000029, 8000029, 8000029, 8007028, 8000029, 8003884, 8021796, 8000000, 8000000, 8000029, 8000029, 8000029, 8000021, 8000029, 8000000, 8003893, 8000000, 8003892, 8000029, 8000029, 8000000, 8000000, 8003905, 8011717, 8000000, 8000000, 8000029, 8000000, 8011695, 8007840, 8007811, 8000000, 8000029, 8000029, 8000000, 8003895, 8000000, 8000029, 8011651, 8000000, 8013087, 8000000, 8000000, 8004848, 8000000, 8000029, 8000000, 8003695, 8000000, 8003822, 8003884, 8000029, 8000000, 8000000, 8000029, 8000000, 8005321, 8000000, 8000000, 8003763, 8000000, 8001865, 8003794, 8000000, 8011676, 8007836, 8000029, 8000000, 8015602, 8003899, 8000000, 8000000, 8007836, 8000000, 8004577, 8003725, 8000000, 8000000, 8000000, 8011697, 8005911, 8000000, 8000029, 8000029, 8000029, 8000029, 8011698, 8000000, 8010099, 8007840, 8019505, 8011699, 8000000, 8000029, 8000000, 8000000, 8007811, 8000000, 8000000, 8000029, 8007811, 8000825, 8000029, 8000000, 8015541, 8021131, 8025041, 8000029, 8000029, 8000000, 8007836, 8003887, 8000000, 8000000, 8000029, 8000000, 8000000, 8000000, 8000029, 8006043, 8003897, 8007840, 8000477, 8000000, 8007840, 8000000, 8000000, 8000000, 8007833, 8000000, 8000000, 8007096, 8000000, 8003848, 8000000, 8000029, 8000029, 8007840, 8007762, 8007811, 8000029, 8000000, 8000029, 8000000, 8000029, 8000029, 8000029, 8000029, 8000029, 8015586, 8008949, 8000000, 8000000, 8000000, 8000029, 8003877, 8000029, 8000000, 8039059, 8000000, 8011500, 8000000, 8000000, 8019498, 8000029, 8007832, 8003914, 8000000, 8000000, 8000029, 8000000, 8011615, 8000029, 8000029, 8000000, 8000029, 8011721, 8000029, 8000029, 8000029, 8003906, 8023431, 8000029, 8007811, 8000000, 8000000, 8007811, 8007836, 8000029, 8000000, 8007811, 8000000, 8000000, 8003878, 8003785, 8000029, 8000029, 8000000, 8000000, 8000000, 8000000, 8003842, 8002286, 8000029, 8003804, 8000000, 8000000, 8000029, 8000029, 8000621, 8000000, 8003891, 8000000, 8000029, 8006936, 8000000, 8000000, 8007811, 8000021, 8000000, 8000000, 8003766, 8007840, 8002883, 8008140, 8000000, 8000000, 8000029, 7992222, 8000029, 8007840, 8000000, 8000000, 8000000, 8000000, 8000000, 8000029, 8007804, 8000029, 8000029, 8007840, 8000029, 8000029, 8000000, 8015659, 8000000, 8000029, 8000000, 8000000, 8000000, 8000029, 8000000, 8000000, 8000029, 8000029, 8000029, 8000000, 8000029, 8000029, 8000029, 8000029, 8000000, 8000000, 8009479, 8000000, 8000000, 8000029, 8000029, 8000000, 8011679, 8000000, 8000029, 8000029, 8000029, 8000029, 8000029, 8003890, 8000029, 8007811, 8035808, 8024000, 8016198, 8000000, 8015025, 8000029, 8000000, 8000000, 8000029, 8000000, 8000000, 8000029, 8000000, 8000000, 8000000, 8000029, 8003935, 8003912, 8011716, 8007840, 8000000, 8000029, 8000000, 8000000, 8000000, 8000000, 8000000, 8000029, 8000000, 8000000, 8000029, 8000000, 8007840, 8000000, 8000029, 8000014, 8001509, 8000000, 8000000, 8000000, 8003656, 8000000, 8000000, 8000029, 8007789, 8007794, 8000029, 8007840, 8000029, 8011747, 8000029, 8000000, 8003932, 8000000, 8000000, 8006950, 8000029, 8000000, 8000029, 8000000, 8000000, 8011683, 8000029, 8000029, 8000000, 8000029, 8000029, 8000029, 8000029, 8007811, 8007840, 8000029, 8000000, 8004593, 8013682, 8003891, 8003892, 8007201, 8000000, 8000021, 8000000, 8000000, 8000029, 8003914, 8000000, 8007811, 8000000, 8000000, 8011685, 8000000, 8003920, 8003877, 8007811, 8015630, 8000000, 8000029, 8000000, 8003922, 8002090, 8005801, 8007170, 8000029, 8000000, 8003906, 8011713, 8000000, 8000029, 8000000, 8010170, 8003909, 8000029, 8000000, 8000029, 8000029, 8015630, 8005283, 8007811, 8000029, 8020786, 8003894, 8000000, 8000000, 8003914, 8000000, 8000029, 8007840, 8000000, 8007799, 8011676, 8000000, 8000000, 8000029, 8000029, 8003886, 8015565, 8000029, 8000029, 8000000, 8007793, 8000029, 8000029, 8000029, 8000000, 8000000, 8000029, 8007811, 8000000, 8000000, 8000029, 8000000, 8007794, 8000000, 8007799, 8019540, 8000029, 8003933, 8000000, 8000000, 8000000, 8000000, 8003741, 8000000, 8000029, 8000000, 8015651, 8000000, 8000029, 8007719, 8000000, 8000000, 8000000, 8000029, 8000029, 8000029, 8000029, 8000029, 8000000, 8007811, 8000000, 8007840, 8000000, 8000000, 8000000, 8000029, 8007605, 8000029, 8007836, 8000000, 8000000, 8000000, 8000029, 8000000, 8000000, 8000000, 8000000, 8000029, 8000000, 8000029, 8007840, 8000029, 8000000, 8000029, 8000021, 8015437, 8000029, 8000000, 8000000, 8000029, 8000000, 8000029, 8008631, 8000029, 8002926, 8009558, 8000029, 8000000, 8000029, 8005571, 8000021, 8000000, 8000000, 8000000, 8000000, 8000029, 8003825, 8000000, 8000029, 8007811, 8000029, 8000029, 8003866, 8000029, 8008465, 8000000, 8003876, 8007767, 8000000, 8000000, 8000000, 8000000, 8000000, 8000029, 8000000, 8000000, 8000000, 8000000, 8003531, 8000000, 8000029, 8003890, 8000029, 8002551, 8000029, 8001953, 8000029, 8000000, 8003850, 8000029, 8000000, 8007840, 8000029, 8000000, 8000029, 8000029, 8000029, 8000029, 8007840, 8000000, 8000029, 8000000, 8000029, 8000000, 8000000, 8015623, 8000029, 8007811, 8000000, 8000029, 8000000, 8000029, 8003886, 8000000, 8011667, 8000000, 8015661, 8000000, 8000000, 8007811, 8007811, 8000000, 8003876, 8000029, 8007476, 8000029, 8000000, 8000029, 8000000, 8007836, 8000000, 8000000, 8000021, 8000000, 8000029, 8003900, 8000029, 8000000, 8000000, 8023487, 8000000, 8007811, 8003902, 8003877, 8000029, 8000000, 8031273, 8000029, 8000000, 8000029, 8000029, 8000000, 8000029, 8003915, 8000000, 8000000, 8000000, 8003891, 8007811, 8003900, 8000029, 8000000, 8003897, 8000000, 8000000, 8000029, 8007811, 8003886, 8007786, 8000000, 8003906, 8000029, 8000029, 8007816, 8000000, 8003786, 8007811, 8000000, 8000000, 8000000, 8000000, 8000000, 8000029, 8003904, 8003882, 8003897, 8000000, 8000029, 8003795, 8000000, 8000029, 8000029, 8007811, 8007840, 8003892, 8000029, 8000000, 8000000, 8000000, 8000029, 8000000, 8000029, 8007840, 8000000, 8003925, 8000000, 8007811, 8000029, 8003883, 8027351, 8000000, 8000000, 8000029, 8003879, 8003885, 8000029, 8003906, 8000029, 8003917, 8007805, 8000000, 8007840, 8015630, 8000000, 8000029, 8000029, 8003888, 8007832, 8000000, 8000029, 8000000, 8003951, 8000029, 8000000, 8000029, 8000000, 8007811, 8000000, 8000000, 8000029, 8000029, 8000029, 8011704, 8003928, 8007840, 8000000, 8000000, 8003895, 8000000, 8000029, 8000000, 8007811, 8015603, 8000000, 8000029, 8000000, 8000029, 8000000, 8000000, 8003888, 8000000, 8000029, 8003914, 8024568, 8000000, 8000000, 8000000, 8000029, 8019417, 8000029, 8003930, 8000000, 8000029, 8000000, 8035127, 8023458, 8000000, 8003925, 8002422, 8000000, 8000000, 8003886, 8013349, 8021145, 8013313, 8000000, 8003892, 8000000, 8000029, 8000029, 8000029, 8000029, 8000021, 8019528, 8000029, 8000029, 8003920, 8000029, 8000029, 8000029, 8000029, 8000000, 8003935, 8007577, 8000029, 8000029, 8000000, 8000029, 8000000, 8000029, 8000000, 8000000, 8011702, 8000000, 8003905, 8000000, 8011744, 8000000, 8007797, 8007789, 8003906, 8000000, 8000029, 8015630, 8000029, 8000000, 8003899, 8007811, 8007811, 8015659, 8000000, 8000000, 8000000, 8000029, 8000029, 8000029, 8003865, 8011692, 8000029, 8007783, 8008662, 8000843, 8024297, 8000000, 8000029, 8000000, 8000029, 8000000, 8000029, 8000000, 8000000, 8000000, 8000029, 8006948, 8007840, 8003911, 8015659, 7992222, 8000000, 8003870, 8000029, 8007840, 8000000, 8002949, 8000029, 8007836, 8007811, 8000000, 8000029, 8000029, 8000029, 8000000, 8000000, 8000000, 8007762, 8000021, 8000029, 8000000, 8000000, 8000029, 8000029, 8000000, 8000029, 8000000, 8000000, 8000029, 8000029, 8000029, 8003896, 8000000, 8000000, 8000029, 8000000, 8000002, 8011716, 8000000, 8003914, 8000000, 8000029, 8000000, 8000000, 8000029, 8000000, 8000000, 8003877, 8000000, 8007840, 8022266, 8018900, 8000029, 8000000, 8000029, 8000029, 8003918, 8000029, 8000029, 8000000, 8000029, 8000029, 8000000, 8000000, 8000029, 8000000, 8007811, 8003877, 8000029, 8000029, 8000029, 8003577, 8009314, 8000029, 8000029, 8000000, 8000029, 8007804, 8000029, 8000000, 8000000, 8003783, 8007811, 8000000, 8012519, 8000000, 8001383, 8000000, 8003900, 8000029, 8000029, 8000029, 8000000, 8023456, 8000029, 8000029, 8002983, 8003880, 8000029, 8000000, 8000000, 8000000, 8000000, 8000000, 8000029, 8000029, 8000029, 8000029, 8000029, 8000000, 8007711, 8000029, 8000021, 8000029, 8000000, 8007811, 8000029, 8000000, 8000029, 8007840, 8007840, 8000000, 8000029, 8000000, 8007811, 8000000, 8000029, 8000000, 8000029, 8000029, 8000029, 8000000, 8000029, 8000000, 8000029, 8000029, 8000000, 8001545, 8000000, 8000000, 8000000, 8000000, 8000000, 8003106, 8000029, 8004240, 8007811, 8000029, 8000029, 8000029, 8000029, 8000000, 8000000, 8000000, 8000029, 8003933, 8000029, 8000000, 8003895, 8000000, 8000000, 8000000, 8000029, 8000029, 8000000, 8011734, 8003901, 8000029, 8000000, 8011196, 8000029, 8000029, 8007811, 8000029, 8003884, 8000000, 8003890, 8002587, 8000000, 8000000, 8000000, 8000000, 8007836, 8000000, 8000029, 8000000, 8000029, 8000000, 8007811, 8015630, 8007811, 8000029, 8000029, 8000000, 8000000, 8000029, 8000029, 8000029, 8003697, 8007811, 8000000, 8000000, 8003729, 8000000, 8000000, 8023478, 8000000, 8007840, 8015659, 8000029, 8000029, 8000000, 8003902, 8000000, 8007811, 8000029, 8000029, 8000029, 8000000, 8000029, 8000000, 8000000, 8000029, 8000029, 8003865, 8000000, 8007840, 8000000, 8003396, 8000029, 8000029, 8000000, 8000000, 8000000, 8003534, 8000029, 8000000, 8000000, 8000000, 8000029, 8000029, 8000000, 8000000, 8000000, 8000000, 8007313, 8000000, 8000029, 8005777, 8003886, 8000000, 8000029, 8003921, 8000029, 8000029, 8000000, 8000029, 8007840, 8000029, 8000029, 8011378, 8000029, 8007811, 8000000, 8009126, 8000029, 8007302, 8000000, 8000000, 8000029, 8000975, 8000000, 8000000, 8000000, 8000029, 8000029, 8000029, 8000000, 8000029, 8000029, 8000000, 8000000, 8000000, 8006859, 8000029, 8006728, 8000000, 8003017, 8008590, 8000029, 8000029, 8000029, 8000029, 8000029, 8000000, 8000000, 8000000, 8000029, 8000000, 8000000, 8000029, 8000000, 8010254, 8000029, 8000000, 8000000, 8000000, 8000000, 8000000, 8000000, 8000029, 8000000, 8000029, 8007811, 8000029, 8002432, 8004898, 8011711, 8000029, 8000000, 8000000, 8003150, 8000029, 8003887, 8000029, 8000000, 8000029, 8003685, 8000029, 8000000, 8000000, 8000029, 8013765, 8000000, 8007811, 8015630, 8000029, 8000029, 8000000, 8003898, 8019528, 8000000, 8000000, 8000000, 8000000, 8000029, 8000000, 8000000, 8000029, 8000000, 8003773, 8006260, 8003899, 8011647, 8000029, 8000029, 8000029, 8000029, 8000000, 8000029, 8000000, 8007811, 8000029, 8000029, 8000000, 8000000, 8000000, 8000029, 8000000, 8000000, 8000029, 8000000, 8000029, 8000029, 8000000, 8003712, 8000021, 8000000, 8007804, 8031290, 8000000, 8011531, 8002280, 8000000, 8000029, 8004321, 8000029, 8000029, 8007840, 8000029, 8000000, 8000539, 7996386, 8000000, 8000000, 8007811, 8000000, 8000029, 8000029, 8000000, 8000029, 8000000, 8000029, 8000000, 8000000, 8000000, 8005710, 8000000, 8000000, 8007811, 8000029, 8000838, 8000029, 8000029, 8017762, 8000029, 8000000, 8000029, 8007840, 8003652, 8000000, 8000029, 8000000, 8007811, 8000000, 8000000, 8000000, 8000000, 8000029, 8000029, 8000000, 8007840, 8000029, 8000000, 8003891, 8002266, 8000000, 8000000, 8007614, 8007811, 8003877, 8007811, 8000000, 8015616, 8000000, 8000029, 8000000, 8000029, 8006519, 8000000, 8003901, 8000473, 8000000, 8000029, 8000000, 8000029, 8000029, 8000029, 8000000, 8003314, 8000029, 8000000, 8000000, 8000000, 8000000, 8003880, 8008979, 8000000, 8000000, 8000029, 8007811, 8000000, 8000029, 8015659, 8000000, 8000000, 8000000, 8000029, 8000029, 8000029, 8000029, 8000029, 8000000, 8000000, 8000000, 8000029, 8000029, 8007811, 8000000, 8003933, 8000000, 8007811, 8000029, 8000029, 8000000, 8000000, 8000029, 8000029, 8007840, 8007811, 8007811, 8000029, 8000006, 8000000, 8000000, 8003199, 8000029, 8000029, 8000083, 8007825, 8007817, 8000029, 8003920, 8000029, 8000000, 8000000, 8000000, 8000029, 8000000, 8000029, 7999992, 8007811, 8007799, 8015630, 8019508, 8000029, 8003923, 8007811, 8000000, 8000000, 8000029, 8000029, 8000000, 8000029, 8003909, 8000000, 8000029, 8003920, 8000029, 8034328, 8000000, 8000000, 8000000, 8007817, 8015651, 8000029, 8000029, 8000000, 8014716, 8000000, 8003925, 8010936, 8000029, 8009985, 8000000, 8000000, 8000029, 8000000, 8000000, 8003577, 8000000, 8000029, 8011684, 8007840, 8000029, 8000000, 8000029, 8000000, 8000000, 8000000, 8000029, 8000000, 8003900, 8003893, 8000000, 8000029, 8000000, 8000021, 8007840, 8000029, 8007840, 8000029, 8000021, 8000029, 8012058, 8000029, 8000029, 8000000, 8000029, 8000000, 8007811, 8001836, 8000029, 8000029, 8000000, 8000029, 8003754, 8000000, 8000000, 8000029, 8000000, 8002952, 8010759, 8000029, 8000000, 8000029, 8000000, 8000029, 8003799, 8007811, 8000029, 8000000, 8000000, 8000000, 8000029, 8000000, 8000000, 8000000, 8000000, 8003125, 8003684, 8000000, 8000029, 8000000, 8000000, 8000000, 8000029, 8003795, 8000000, 8000000, 8003762, 8007811, 8000000, 8000029, 8007829, 8000029, 8000000, 8000000, 8015612, 8000029, 8019530, 8000000, 8000029, 8000000, 8000000, 8003711, 8000029, 8010765, 8000029, 8007798, 8011708, 8000029, 8000000, 8000000, 8000029, 8000029, 8000000, 8000000, 8000029, 8000000, 8007776, 8011673, 8000000, 8000029, 8000000, 8000029, 8007811, 8011714, 8000000, 8000029, 8000000, 8000000, 8003880, 8000000, 8000029, 8007811, 8003867, 8007811, 8000000, 8000000, 8007811, 8000000, 8001869, 8000029, 8000029, 8000029, 8010212, 8007811, 8019173, 8003908, 8000029, 8000029, 8000029, 8000029, 8000029, 8007811, 8003387, 8000000, 8000029, 8007829, 8007806, 8000000, 8000000, 8007811, 8000000, 8003889, 8000000, 8000029, 8000029, 8003902, 8003907, 8000000, 8019481, 8000000, 8000000, 8000029, 8000029, 8007840, 8007832, 8007811, 8000000, 8007840, 8000000, 8000000, 8011725, 8003917, 8000000, 8000000, 8003896, 8000000, 8000029, 8000000, 8003914, 8000000, 8023424, 8000000, 8000000, 8000029, 8000029, 8000000, 8000029, 8000029, 8000000, 8000000, 8000029, 8007781, 8000000, 8000000, 8003877, 8000000, 8000029, 8000000, 8000029, 8000029, 8000000, 8007836, 8035143, 8000029, 8011731, 8000029, 8000029, 8000029, 8007797, 8000000, 8000000, 8011563, 8011047, 8000029, 8007797, 8000029, 8003919, 8000029, 8000029, 8000000, 8000029, 8003951, 8000000, 8003909, 8003925, 8000000, 8011693, 8000029, 8011672, 8000000, 8000000, 8003928, 8000000, 8000029, 8003910, 8011710, 8000000, 8000000, 8000000, 8007811, 8002532, 8000000, 8000000, 8000000, 8000000, 8007840, 8000000, 8000000, 8003893, 8007836, 8000029, 8000029, 8000000, 8000029, 8000029, 8000000, 8015607, 8000000, 8007788, 8000000, 8000029, 8000000, 8011710, 8000000, 7992222, 8000000, 8000000, 8000029, 8000000, 8000029, 8003890, 8011676, 8000000, 8000000, 8000000, 8003881, 8000029, 8007811, 8000000, 8000029, 8006956, 8000029, 8003934, 8000029, 8003873, 8011695, 8007840, 8000029, 8000000, 8003925, 8000000, 8000000, 8000000, 8009872, 8003900, 8000000, 8009575, 8003824, 8000029, 8003878, 8000000, 8000000, 8000000, 8000000, 8000029, 8000000, 8015292, 8000029, 8000000, 8000029, 8000029, 8000029, 8003681, 8000000, 8003894, 8000029, 8007811, 8000000, 8000000, 8000000, 8000029, 8000029, 8000000, 8000000, 8000029, 8007671, 8011706, 8000029, 8000029, 8002089, 8000029, 8000000, 8001381, 8000000, 8000000, 8000029, 8000552, 8000000, 8000000, 8006268, 8000029, 8007811, 8003842, 8000029, 8000000, 8015659, 8003600, 8007811, 8000029, 8011728, 8000000, 8000000, 8000029, 8000029, 8000029, 8003881, 8000000, 8000000, 8003895, 8019516, 8000000, 8000000, 8007776, 8003917, 8000000, 8003910, 8000000, 8000000, 8007833, 8000029, 8007776, 8000029, 8003766, 8007811, 8000000, 8000000, 8000000, 8003896, 8000029, 8003864, 8003880, 8000029, 8000029, 8000000, 8003906, 8000029, 8000029, 8011712, 8000000, 8000000, 8000000, 8000000, 8000971, 8000000, 8002432, 8000000, 8000029, 8000029, 8000000, 8011714, 8000029, 8003951, 8000029, 8011699, 8003887, 8003878, 8000000, 8000000, 8000000, 8000000, 8000000, 8000029, 8000029, 8000029, 8007811, 8000029, 8000000, 8000029, 8003884, 8000000, 8007811, 8000029, 8007762, 8003916, 8000000, 8000000, 8000000, 8000000, 8000029, 8000029, 8000029, 8000029, 8000000, 8000029, 8000029, 8015630, 8000000, 8000029, 8000029, 8000029, 8003896, 8000029, 8022340, 8007840, 8000029, 8000029, 8000000, 8000021, 8007840, 8000000, 8000029, 8000000, 8000029, 8007792, 8000000, 8000000, 8031134, 8000000, 8013978, 8011698, 8000029, 8007811, 8000029, 8000000, 8000029, 8000000, 8000000, 8003877, 8000000, 8000029, 8000000, 8007809, 8003854, 8000000, 8000029, 8000000, 8000000, 8007840, 8000000, 8000029, 8003931, 8000000, 8013986, 8003877, 8000000, 8000000, 8007811, 8000029, 8000000, 8000000, 8000000, 8000021, 8000000, 8003880, 8000029, 8000029, 8000029, 8000029, 8003021, 8015630, 8000000, 8007840, 8000000, 8007840, 8000029, 8003799, 8003840, 8000021, 8000000, 8000000, 8000000, 8000000, 8000000, 8000029, 8003877, 8000000, 8003892, 8000029, 8000017, 8000029, 8000000, 8000029, 8000029, 8000029, 8007811, 8000000, 8007836, 8003925, 8000000, 8003914, 8003914, 8007811, 8000029, 8000000, 8000029, 8000000, 8019527, 8000000, 8007840, 8007840, 8003905, 8000000, 8000029, 8000000, 8000029, 8000000, 8003914, 8003902, 8007811, 8000029, 8007763, 8000000, 8000029, 8003909, 8000029, 8000029, 8000029, 8000029, 8007840, 8003914, 8000000, 8000029, 8003798, 8000000, 8000029, 8000029, 8000029, 8031303, 8000000, 8000000, 8000029, 8000000, 8003880, 8000000, 8000000, 8003692, 8007736, 8007810, 8000000, 8007811, 8007804, 8011700, 8000000, 8015612, 8000029, 8003886, 8000029, 8000029, 8000000, 8000017, 8000000, 8000000, 8000000, 8003927, 8000029, 8000000, 8019532, 8011709, 8003921, 8000000, 8000000, 8000000, 8000000, 8000000, 8000029, 8019559, 8015593, 8007811, 8003877, 8007840, 8011643, 8000029, 8003907, 8007778, 8000000, 8000000, 8000029, 8007811, 8000000, 8015642, 8000000, 8000000, 8000000, 8000029, 8000000, 8000029, 8000000, 8000029, 8000029, 8000029, 8000029, 8000029, 8000029, 8000029, 8000000, 8000029, 8000029, 8000021, 8000000, 8000029, 8007438, 8011721, 8007783, 8023410, 8000000, 8000029, 8000000, 8000029, 8011397, 8000029, 8000000, 8000000, 8003914, 8000000, 8000029, 8000000, 8000000, 8000000, 8007431, 8023437, 8000029, 8000029, 8000000, 8000000, 8000029, 8003892, 8000029, 8000000, 8000000, 8000029, 8000029, 8007809, 8000000, 8000000, 8007842, 8000000, 8000000, 8000029, 8003919, 8000029, 8000029, 8000000, 8000029, 8000029, 8000021, 8000000, 8000029, 8027353, 8011721, 8011662, 8000000, 8003896, 8000002, 8000029, 8000029, 8007746, 8000000, 8000029, 8015584, 8003935, 8000000, 8000000, 8000029, 8000000, 8000000, 8000029, 8000000, 8000000, 8000029, 8015569, 8003914, 8000029, 8000029, 8007840, 8007840, 8007702, 8000000, 8000000, 8003887, 8000000, 8000000, 8000000, 8000029, 8000000, 8000000, 8000000, 8000000, 8003904, 8011738, 8000000, 8000029, 8000000, 8000000, 8000000, 8000000, 8000000, 8000000, 8000000, 8000013, 8000000, 8003894, 8000000, 8000029, 8015603, 8000000, 8011359, 8007817, 8003884, 8026907, 8000000, 8011608, 8015630, 8000029, 8003909, 8000029, 8000000, 8000029, 8000029, 8003770, 8019468, 8000014, 8003879, 8000029, 8000000, 8000029, 8015640, 8019553, 8011678, 8000000, 8000029, 8003893, 8000000, 8000000, 8000000, 8000029, 8000000, 8007840, 8011721, 8000000, 8015607, 8000000, 8003905, 8003878, 8003927, 8000029, 8000000, 8000029, 8000000, 8000000, 8000000, 8000029, 8000000, 8000000, 8000029, 8000000, 8007794, 8000029, 8000029, 8000029, 8019480, 8039062, 8003890, 8000029, 8000000, 8003933, 8000029, 8000029, 8000000, 8003906, 8000029, 8000029, 8000000, 8015582, 8000000, 8007781, 8000029, 8007804, 8000000, 8000029, 8000021, 8000000, 8000029, 8003877, 8000000, 8000000, 8000000, 8000000, 8000029, 8000000, 8000029, 8000000, 8000029, 8000029, 8000000, 8003904, 8000000, 8003679, 8031021, 8000000, 8000000, 8000000, 8000000, 8000029, 8003905, 8003877, 8000000, 8000000, 8015016, 8019526, 8000029, 8015659, 8000029, 8003916, 8000000, 8007811, 8011404, 8000000, 8000029, 8000000, 8015606, 8000029, 8007811, 8015630, 8000000, 8000000, 8000000, 8000029, 8000029, 8000000, 8000000, 8000000, 8000000, 8000021, 8000029, 8000000, 8000000, 8000029, 8000000, 8003883, 8000000, 8000000, 8011118, 8015051, 8000029, 8003899, 8002186, 8000000, 8000029, 8000000, 8000029, 8000029, 8007811, 8000029, 8000021, 8000029, 8003890, 8000000, 8003932, 8007789, 8000000, 8003843, 8007811, 8000029, 8000029, 8004216, 8000000, 8019180, 8000000, 8000029, 8000000, 8000000, 8003906, 8002773, 8007805, 8000000, 8000000, 8000000, 8000000, 8000029, 8000029, 8015606, 8038957, 8046834, 8019309, 8013016, 8000029, 8011745, 8003895, 8007536, 8000029, 8003504, 8007653, 8000029, 8000029, 8003881, 8000000, 8000029, 8000029, 8007781, 8015659, 8000000, 8007797, 8000000, 8008025, 8000029, 8000000, 8000000, 8000000, 8000029, 8000029, 8000029, 8000021, 8003892, 8000000, 8000029, 8007836, 8017969, 8003870, 8000000, 8000029, 8000029, 8000000, 8000000, 8000029, 8004470, 8000000, 8011407, 8000029, 8000000, 8000000, 8000934, 8007840, 8000029, 8000000, 8002714, 8000029, 8000000, 8000000, 8000000, 8000000, 8000029, 8000000, 8000029, 8000000, 8007811, 8000000, 8000000, 8005416, 8007811, 8000000, 8000000, 8010575, 8003932, 8000000, 8000029, 8000029, 8000000, 8000000, 8000000, 8007814, 8007840, 8000000, 8000000, 8000029, 8007811, 8015415, 8007811, 8003906, 8000029, 8003906, 8003892, 8000000, 8000000, 8000000, 8008687, 8000029, 8000029, 8000029, 8003879, 8000029, 8000021, 8000000, 8007811, 8007811, 8000000, 8000013, 8011636, 8007022, 8000029, 8000000, 8000000, 8007811, 8000000, 8000000, 8000000, 8000000, 8000029, 8000000, 8000029, 8018714, 8026449, 8000000, 8000000, 8007811, 8000000, 8007811, 8000000, 8000029, 8000029, 8000000, 8000029, 8003903, 8000029, 8000029, 8000029, 8000029, 8007836, 8000017, 8000000, 8000000, 8000000, 8003907, 8000000, 8015588, 8001534, 8003905, 8000029, 8000000, 8000029, 8003666, 8000029, 8000029, 8000000, 8000000, 8000000, 8011661, 8021284, 8000000, 8011688, 8000029, 8000000, 8000029, 8000000, 8000000, 8000029, 8000000, 8007840, 8000000, 8007811, 8000029, 8000029, 8011626, 8007836, 8007281, 8000000, 8000029, 8003917, 8015608, 8011671, 8000029, 8000000, 8000029, 8007811, 8023456, 8007823, 8002586, 8000000, 8000000, 8000029, 8000029, 8000029, 8000000, 8003918, 8003871, 8000000, 8015630, 8000000, 8000029, 8000029, 8000000, 8014743, 8000000, 8000000, 8000000, 8000000, 8000029, 8003803, 8007632, 8000029, 8000000, 8000000, 8000000, 8011676, 8000000, 8000000, 8014459, 8007811, 8000029, 8000000, 8000000, 8003936, 8007822, 8000021, 8001546, 8017825, 8000029, 8000000, 8000029, 8000029, 8007762, 8015652, 8000000, 8015643, 8003904, 8000029, 8000000, 8003889, 8007794, 8003914, 8000000, 8000000, 8000021, 8000029, 8003935, 8000000, 8007840, 8000000, 8000000, 8000000, 8000029, 8000029, 8000029, 8000029, 8000000, 8015630, 8000021, 8000000, 8000029, 8000000, 8000029, 8000000, 8000029, 8000029, 8000000, 8000000, 8005632, 8000000, 8000029, 8003798, 8000000, 8000029, 8000000, 8000029, 8000000, 8000029, 8003893, 8000029, 8000000, 8000000, 8000029, 8000000, 8000000, 8007811, 8000029, 8000029, 8000029, 8003920, 8000029, 8000000, 8003862, 8000000, 8011758, 8000029, 8007811, 8000000, 8007840, 8007840, 8007811, 8001265, 8011743, 8003931, 8000000, 8000000, 8000029, 8000000, 8002084, 8008087, 7992222, 8000000, 8000000, 8000545, 8000029, 8000029, 8003896, 8000029, 8003920, 8000000, 8007840, 8000029, 8000029, 8000029, 8003897, 8000029, 8007811, 8000000, 8000000, 8000029, 8000029, 8000000, 8003899, 8015604, 8007811, 8003877, 8000000, 8000000, 8000029, 8000000, 8000000, 8000029, 8000000, 8000000, 8000000, 8000029, 8000029, 8008814, 8007840, 8000029, 8000000, 8000029, 8014536, 8000029, 8004493, 8000000, 8000000, 8003629, 8000000, 8003911, 8000029, 8000000, 8000000, 8003887, 8000000, 8000581, 8000029, 8000029, 8000000, 8000029, 8000000, 8000029, 8000000, 8000029, 8000029, 8000029, 8000000, 8003897, 8000000, 8007811, 8003918, 8000029, 8000000, 8006766, 8000000, 8007836, 8000000, 8000000, 8000000, 8000000, 8000000, 8000029, 8003899, 8000029, 8000000, 8000000, 8000029, 8000000, 8000029, 8000029, 8003909, 8007791, 8000000, 8000029, 8000029, 8000000, 8000000, 8007840, 8000000, 8000029, 8000029, 8000029, 8000000, 8007811, 8019491, 8000000, 8000029, 8007836, 8007414, 8007804, 8000029, 8000000, 8000029, 8000029, 8003892, 8011719, 8000029, 8000000, 8000000, 8000000, 8000029, 8000000, 8000000, 8000000, 8000029, 8003914, 8011712, 8019540, 8000029, 8000000, 8000029, 8003887, 8000000, 8000000, 8000000, 8000029, 8000000, 8000021, 8000029, 8031250, 8000000, 8007646, 8015372, 8011693, 8000000, 8000029, 8003840, 8003885, 8000029, 8000029, 8000029, 8000000, 8007764, 8003906, 8000000, 8000029, 8000000, 8000029, 8000000, 8019561, 8003899, 8000000, 8000029, 8000000, 8000029, 8000000, 8000029, 8000000, 8000000, 8015610, 8000022, 8000000, 8000000, 8000000, 8000000, 8003898, 8003919, 8003863, 8000029, 8003903, 8030933, 8000000, 8000029, 8007657, 8000000, 8000029, 8002989, 8011075, 8000000, 8000000, 8000000, 8000029, 8000029, 8000000, 8000029, 8015499, 8000000, 8000000, 8000000, 8000029, 8000000, 8003911, 8000000, 8000000, 8000029, 8000000, 8000029, 8006222, 8000000, 8000029, 8000029, 8000029, 8000029, 8000000, 8003854, 8000000, 8000029, 8000000, 8000000, 8000547, 8000000, 8007840, 8000917, 8000000, 8003850, 8000029, 8000029, 8000769, 8000000, 8007811, 8000000, 8003882, 8000029, 8000029, 8000000, 8000000, 8000000, 8000000, 8006182, 8000029, 8007840, 8007811, 8000000, 8003606, 8000119, 8000029, 8000000, 8000029, 8000029, 8000029, 8000000, 8007840, 8000000, 8000029, 7992778, 8000000, 8000000, 8000000, 8000000, 8000000, 8000000, 8000029, 8011651, 8013713, 8004276, 8003878, 8000000, 8000000, 8000000, 8000260, 8000029, 8007811, 8000029, 8000000, 8000000, 8000000, 8000000, 7993165, 8000000, 8000000, 8000000, 8007811, 8000000, 8000000, 8002213, 8000029, 8000000, 8003899, 8007811, 8000029, 8000000, 7992222, 8000029, 8003886, 8000029, 8003762, 8000000, 8000000, 8000000, 8003787, 8000000, 8000000, 8003914, 8000000, 8003877, 8000000, 8000029, 8000000, 8003878, 8000000, 8007811, 8003899, 8000029, 8003895, 8000029, 8000029, 8000000, 8007840, 8000000, 8000000, 8000029, 8000029, 8000760, 8000029, 8000000, 8000000, 8000325, 8000000, 8007840, 8000029, 8007811, 8000000, 8001633, 8000000, 8000000, 8000029, 8000000, 8000000, 8012276, 8003887, 8000029, 8015659, 8023456, 8000029, 8000000, 8000000, 8000000, 8003899, 8003882, 8000029, 8001504, 8000029, 8000029, 8003084, 8000000, 8000000, 8000029, 8000000, 8000029, 8000000, 8000029, 8003899, 8003849, 8007811, 8000000, 8000000, 8000000, 8001469, 8000029, 8000029, 8000000, 8000000, 8000021, 8000013, 8000000, 8011733, 8000029, 8000029, 8000000, 8011737, 8000000, 8000000, 8000029, 8000029, 8000000, 8000029, 8007840, 8000000, 8008075, 8000029, 8000000, 8000000, 8000000, 8000000, 8000000, 8003878, 8000000, 8000000, 8000029, 8007773, 8000029, 8000029, 8003936, 8000029, 8001435, 8000029, 8000000, 8000029, 8003574, 8000000, 8000000, 8013002, 8000029, 8000000, 8000029, 8000029, 8000000, 8000000, 8000000, 8003895, 8000000, 8003887, 8003895, 8000029, 8000029, 8000029, 8000000, 8000029, 8000029, 8000000, 8000000, 8000000, 8003897, 8003027, 8000000, 8000029, 8000000, 8000000, 8000029, 8000029, 8000000, 8003926, 8011721, 8003844, 8000000, 8000000, 8000000, 8000000, 8000000, 8000000, 8003899, 8007796, 8000000, 8000000, 8003892, 8000029, 8000021, 8000000, 8000029, 8000029, 8005172, 8000000, 8000029, 8000000, 8007840, 8000000, 7992222, 8000000, 8000000, 8000000, 8000000, 8000000, 8007877, 8000029, 8000029, 8000029, 8000029, 8000000, 8000029, 8004864, 8000000, 8000000, 8000000, 8000000, 8000029, 8000029, 8000000, 8003920, 8007818, 8003898, 8007553, 8000000, 8003818, 8000029, 8003907, 8007811, 8000000, 8037281, 8015273, 8000000, 8007840, 8000029, 8000000, 8000029, 7992222, 8000029, 8000017, 8007811, 8000000, 8000029, 8005280, 8000000, 8000000, 8000000, 8006583, 8000000, 8000000, 8003935, 8000000, 8000029, 8004743, 8000029, 8000000, 8011674, 8007840, 8003410, 8000000, 8007811, 8000000, 8000029, 8000029, 8000000, 8000000, 8000000, 8000000, 8000000, 8000000, 8012628, 8000000, 8000000, 8000029, 8000000, 8000029, 8000029, 8000000, 8000000, 8000029, 8015458, 8000000, 8000029, 8000029, 8000000, 8000029, 8000029, 8000029, 8003933, 8000029, 8000000, 8007807, 8009478, 8000000, 8000000, 8000021, 8000000, 8000029, 8019531, 8000029, 8000000, 8003922, 8000000, 8000029, 8001280, 8000000, 8000029, 8003895, 8007811, 8007811, 8000000, 8000000, 8000029, 8000000, 8000029, 8000000, 8000000, 8000029, 8000000, 8000029, 8007825, 8000000, 8007840, 8000029, 8000000, 8000000, 8000000, 8007840, 8000029, 8007840, 8000000, 8003622, 8007780, 8011748, 8000000, 8001300, 8000000, 8000000, 8000029, 8000917, 8000017, 8000029, 8000029, 8007811, 8015600, 8000029, 8002733, 8000029, 8000000, 8000029, 8000000, 8003920, 8003665, 8011092, 8000000, 8000029, 8003018, 8000009, 8000000, 8000000, 8001328, 8000000, 8000029, 8000029, 8000000, 8000000, 8000000, 8003914, 8027395, 8002830, 8000000, 8023481, 8007577, 8000000, 8000029, 8010124, 8000000, 8000000, 8000029, 8000029, 8000000, 8000000, 8000568, 8000029, 8000000, 8000000, 8000000, 8000000, 8000000, 8007811, 8000000, 8000000, 8006911, 8003730, 8007811, 8000029, 8000000, 8002234, 8000000, 8000000, 8000000, 8000000, 8000000, 8002101, 8000000, 8000000, 8003425, 8000029, 8000029, 8000029, 8007811, 8000000, 8000000, 8000000, 8000000, 8000000, 8000000, 8023485, 8000000, 8000000, 8000029, 8000000, 8000029, 8011987, 8000000, 8000029, 8000029, 8000000, 8000000, 8003146, 8001147, 8000000, 8003322, 8000029, 8000000, 8007836, 8000029, 8000000, 8000029, 8002139, 8000000, 8000000, 8000029, 8000000, 8000979, 8000000, 8000029, 8007811, 8000000, 8000029, 8000000, 8000000, 8000000, 8007811, 8000000, 8007811, 8000000, 8007804, 8011537, 8000000, 8011700, 8000000, 8000029, 8003290, 8000000, 8000029, 8003792, 8005747, 8000000, 8000000, 8000000, 8000000, 8000029, 8007811, 8003881, 8000029, 8007628, 8003927, 8007811, 8000000, 8000000, 8000000, 8000000, 8017231, 8004001, 8000029, 8000029, 8000029, 8007811, 8000000, 8000000, 8007811, 8000000, 8002159, 8000000, 8000000, 8000000, 8000000, 8001979, 8000000, 8000000, 8000000, 8000029, 8000029, 8000029, 8000029, 8000000, 8000000, 8000029, 8003883, 8000000, 8000000, 8007790, 8007840, 8000000, 8000029, 8000029, 8000021, 8000000, 8000029, 8000029, 8000000, 8000000, 8000029, 8000000, 8007840, 8000000, 8003815, 8000000, 8000000, 8000000, 8000000, 8017841, 8000029, 8007840, 8000021, 8000029, 8000000, 8000000, 8000000, 8000007, 8000000, 8007799, 8000000, 8000029, 7999992, 8000000, 8000000, 8000000, 8000000, 8000029, 8000029, 8006337, 8003882, 8003773, 8000029, 8003853, 8019535, 8000029, 8000029, 8015606, 8000029, 8000029, 8000029, 7992222, 8000000, 8000029, 8000000, 8015630, 8000000, 8000029, 8000000, 8001996, 8000029, 8000029, 8000000, 8000000, 8000029, 8000000, 8000000, 8000000, 8000000, 8000029, 8000029, 8000029, 8000000, 8000000, 8000000, 8007811, 8007840, 8011663, 8000000, 8000029, 8000000, 8000029, 8020544, 8000029, 8003186, 8003891, 8000029, 8003878, 8003882, 8000029, 8000029, 8003934, 8000000, 8000029, 8001957, 8011221, 8023456, 8000029, 8000000, 8000029, 8012382, 8013495, 8000621, 8000029, 8000000, 8000000, 8000000, 8007836, 8007811, 8000000, 8000000, 8000436, 8000029, 8000000, 8003896, 8000029, 8000000, 8000000, 8000029, 8000000, 8000000, 8000000, 8000000, 8007832, 8000000, 8003272, 8000000, 8002969, 8000000, 8000000, 8000000, 8000000, 8010276, 8000000, 8003925, 8000000, 8000000, 8003653, 8000209, 8000000, 8000000, 8000000, 8000000, 8000000, 8003878, 8000000, 8000000, 8000000, 8000000, 8000000, 8000029, 8007840, 8000029, 8000000, 8000029, 8003669, 8000000, 8015526, 8000000, 8000000, 8000000, 8000000, 8000029, 8003805, 8007840, 8000000, 8000000, 8000029, 8000029, 8000029, 8002940, 8002627, 8000000, 8000000, 8000029, 8000000, 8000000, 8000000, 8000000, 8000000, 8000000, 8000000, 8000000, 8000029, 8003898, 8000000, 8000000, 8000000, 8007811, 8000000, 8003885, 8000000, 8007840, 8000000, 8000029, 8000029, 8000000, 8000000, 8003900, 8003895, 8007811, 8000000, 8000000, 8000000, 8006553, 8000000, 8000000, 8000000, 8000029, 8000752, 8003899, 8000000, 8007811, 8000000, 8000029, 8000000, 8000000, 8000029, 8000000, 8000000, 8000000, 8000000, 8000000, 8000029, 8000029, 8000000, 8000029, 8000029, 8007567, 8000000, 8015630, 8000029, 8000000, 8000000, 8000000, 8001398, 8011665, 8007811, 8003919, 8000029, 8000000, 8000000, 8000000, 8000000, 8007840, 8000000, 8019524, 8007840, 8007811, 8000029, 8000029, 8017737, 8003914, 8011166, 8000029, 8000000, 8007832, 8000000, 8000029, 8000029, 8000000, 8000000, 8018092, 8000000, 8000000, 8000000, 8000000, 8000000, 8000029, 8000000, 8000000, 8003891, 8000029, 8000000, 8000000, 8000029, 8000000, 8007733, 8000000, 8000000, 8002877, 8000000, 8023456, 8000029, 8007158, 8000029, 8000029, 8000000, 8000000, 8000029, 8000000, 8011188, 8000000, 8000000, 8000000, 8001364, 8000000, 8000029, 8000029, 8000029, 8000000, 8000029, 8000000, 8000029, 8000000, 8000000, 8005727, 8000000, 8007836, 8007797, 8003936, 8000029, 8000000, 8000000, 8000000, 8000029, 8000029, 8000000, 8010560, 8000029, 8005965, 8000000, 8019024, 8007811, 8000000, 8000000, 8000000, 8000000, 8000029, 8002543, 8003019, 8000000, 8000000, 8007811, 8007811, 8001879, 8000000, 8000029, 8000029, 8007725, 8000029, 8003749, 8000029, 8007795, 8000000, 8000029, 8000029, 8000000, 8003912, 8015659, 8000021, 8007811, 8000000, 8015630, 8000000, 8000029, 8000000, 8000029, 8009220, 8007836, 8000029, 8000000, 8000029, 8000000, 8000000, 8017899, 8000029, 8000000, 8000000, 8000000, 8000000, 8000029, 8000000, 8000000, 8000000, 8000000, 8003896, 8000000, 8007836, 8000000, 7992222, 8000000, 8000029, 8015630, 8000000, 8003201, 8007811, 8006467, 8000029, 8000029, 8000029, 8000029, 8001503, 8000000, 8015630, 8000000, 8000000, 8000000, 8000029, 8001439, 8000029, 8000000, 8000000, 8002275, 8000029, 8000000, 8008827, 8000000, 8000008, 8000000, 8000029, 8000029, 8000000, 8007811, 8000000, 8000021, 8000000, 8000000, 8003840, 8000029, 8000000, 8000000, 8000029, 8003885, 8000029, 8000029, 8000029, 8001664, 8000029, 8000000, 8000029, 8015435, 8000029, 8000000, 8000000, 8003895, 8007811, 8000000, 8003840, 8000000, 8000029, 8000029, 8000000, 8006911, 8001968, 8000345, 8000029, 8000000, 8000029, 8000000, 8001213, 8031958, 8019269, 8011695, 8000029, 8000000, 8007811, 8000029, 8000029, 8000000, 8000029, 8007840, 8000029, 8007840, 8003738, 8007632, 8000000, 8000029, 8000029, 8000021, 8000000, 8000029, 8000000, 8000029, 8000029, 8000000, 8000029, 8000029, 8003895, 8003819, 8000029, 8000029, 8000000, 8007840, 8003884, 8000000, 8000029, 8007811, 8007804, 8011694, 8000029, 8011728, 8000029, 8000029, 8007788, 8007806, 8003907, 8015594, 8000029, 8019533, 8000029, 8000000, 8000029, 8000029, 8000029, 8011674, 8003881, 8007811, 8000029, 8000011, 8003873, 8000029, 8000021, 8000000, 8000000, 8000000, 8000029, 8000000, 8000029, 8035179, 8007811, 8019510, 8000000, 8000000, 8003914, 8000000, 8007840, 8000000, 8000000, 8000029, 8000000, 8000000, 8000000, 8000000, 8000029, 8000000, 8015585, 8000000, 8000029, 8000000, 8019517, 8000029, 8003905, 8000000, 8000000, 8003860, 8007710, 8007834, 8015606, 8000000, 8003904, 8000000, 8011676, 8000000, 8003898, 8003892, 8000029, 8007651, 8003918, 8019521, 8011538, 8019534, 8019512, 8000029, 8000000, 8000029, 8000000, 8000000, 8011686, 8000029, 8000000, 8000029, 8000000, 8000000, 8000029, 8000029, 8000029, 8000000, 8000000, 8003893, 8000000, 8035196, 8023405, 8000029, 8003924, 8000029, 8007811, 8000000, 8000000, 8000000, 8000000, 8000029, 8000000, 8003888, 8000000, 8027194, 8007840, 8007812, 8000000, 8003905, 8007717, 8019503, 8000000, 8000029, 8000000, 8000000, 8015659, 8007811, 8007704, 8000000, 8015565, 8000000, 8000000, 8000000, 8000000, 8000000, 8003899, 8000000, 8000029, 8011684, 8000029, 8007811, 8007812, 8003882, 8000000, 8007811, 8000000, 8022824, 8012230, 8007762, 8000029, 8000029, 8000029, 8000029, 8021314, 8007840, 8000029, 8000000, 8011694, 8007765, 8011684, 8000000, 8001990, 8000000, 8000000, 8002707, 8006105, 8000029, 8000000, 8003906, 8000000, 8000000, 8007805, 8000029, 8005023, 8000029, 8000000, 8000029, 8000000, 8000000, 8000000, 8000000, 8015123, 8008378, 8003877, 8000000, 8000029, 8009655, 8007840, 8000029, 8000029, 8000000, 8000000, 8000000, 8000000, 8000029, 8000000, 8000029, 8000000, 8000000, 8000029, 8012556, 8000029, 8000000, 8000000, 8011734, 8000029, 8000029, 8007840, 8000000, 8000000, 8011572, 8000000, 8000029, 8000029, 8003903, 8000000, 8000000, 8000000, 8000029, 8000000, 8003410, 8007262, 8003359, 8003727, 8000000, 8000029, 8007840, 8000000, 8003915, 8000029, 8001097, 8000000, 8000029, 8000029, 8007741, 8000000, 8000000, 8003914, 8000021, 8000029, 8000000, 8008316, 8000000, 8000000, 8000000, 8000000, 8003871, 8000000, 8000029, 8000029, 8000000, 8000029, 8000029, 8003806, 8000000, 8000000, 8000000, 8017393, 8000029, 8000029, 8000029, 8000000, 8000029, 8007840, 8000000, 8000000, 8000000, 8011388, 8000000, 8019523, 8003913, 8000000, 8000029, 8000000, 8003888, 8000000, 8000029, 8000029, 8011721, 7992222, 8000029, 8000000, 8000029, 8000029, 8007840, 8000000, 8000000, 8007811, 8000021, 8000000, 8000000, 8000029, 8015395, 8000029, 8002114, 8003893, 8003914, 8000029, 8007762, 8000000, 8000000, 8000029, 8000000, 8007811, 7992222, 8000029, 8000000, 8000000, 8000000, 8000029, 8003914, 8003766, 8000000, 8000029, 8007811, 8000000, 8000029, 8007840, 8007806, 8000000, 8000029, 8007811, 8000000, 8000000, 8000000, 8007811, 8007828, 8000000, 8003905, 8010287, 8025918, 8014955, 8004590, 8003924, 8000021, 8000029, 8000029, 8000000, 8000000, 8000029, 8000029, 8000029, 8007840, 8000000, 8000000, 8007833, 8006535, 8007811, 8000029, 8000000, 8007840, 8000000, 8000029, 8000029, 8000029, 8003746, 8000029, 8000000, 8000000, 8000000, 8000000, 8000000, 8000000, 8000029, 8007840, 8000000, 8000029, 8000029, 8000000, 8000000, 8000000, 8000000, 8000000, 8000029, 8004741, 8000029, 8000000, 8015566, 8000000, 8000000, 8000000, 8000000, 8000000, 8003846, 8000029, 8000835, 8000029, 8000000, 8000000, 8003831, 8000029, 8000029, 8003869, 8003892, 8000000, 8000000, 8000021, 8007804, 8000000, 8000000, 8000000, 8000000, 8000000, 8000029, 8000029, 8015630, 8000029, 8001360, 8000029, 8000000, 8000029, 8000000, 8000000, 8003751, 8000029, 8000029, 8000029, 8000000, 8003866, 8015659, 8000029, 8000000, 8000000, 8000000, 8011709, 8000029, 8011684, 7992222, 8000029, 8003800, 8014714, 8011401, 8000029, 8000000, 8000029, 8000029, 8000029, 8000029, 8007811, 8000000, 8000000, 8000000, 8000000, 8003876, 8000000, 8000000, 8003919, 8000000, 8000000, 8000000, 8000029, 8000000, 8000029, 8000000, 8000029, 8000000, 8000000, 8000000, 8015606, 8000000, 8007811, 8000000, 8003857, 8003635, 8014775, 8000000, 8009538, 8002355, 8000029, 8003887, 8000000, 8007811, 8000000, 8000000, 8000000, 8000000, 8000029, 8011695, 8000029, 8000029, 8000000, 8000000, 8000000, 8011758, 8000000, 8000029, 8000029, 8000029, 8000029, 8000029, 8000000, 8000029, 8000029, 8000029, 8007801, 8000000, 8001577, 8007734, 8000000, 8000029, 8000029, 8000000, 8000000, 8000029, 8000000, 8000000, 8007840, 8000029, 8000021, 8000029, 8000000, 8000029, 8000000, 8003889, 8007764, 8000000, 8000000, 8000021, 8000000, 8000000, 8007799, 8011668, 8000000, 8000000, 8007811, 8000029, 8000000, 8000029, 8000000, 8009146, 8000029, 8000000, 8000000, 8007840, 8000029, 8007840, 8000029, 8011684, 8003877, 8015630, 8002031, 8011683, 8000029, 8000000, 8000000, 8000029, 8000029, 8000000, 8000000, 8000029, 8003917, 8000000, 8000029, 8000000, 8015551, 8026904, 8015552, 8011624, 8000029, 8000000, 8000017, 8000029, 8000029, 8000000, 8003902, 8000000, 8003921, 8000000, 8003926, 8007811, 8011696, 8000029, 8013473, 8007780, 8000000, 8000000, 8007811, 8011741, 8002730, 8000029, 8000000, 8000000, 8000029, 8000029, 8000000, 8000029, 8000029, 8000029, 8000000, 8011676, 8011707, 8003893, 8000000, 8000029, 8000029, 8015630, 8000000, 8011724, 8000029, 8003899, 8000000, 8008526, 8015659, 8000000, 8000029, 8000000, 8000000, 8000000, 8000029, 8000000, 8000000, 8000000, 8002098, 8011710, 8003914, 8000000, 8000000, 8000029, 8000000, 8000000, 8000029, 8000000, 8000000, 8000000, 8000029, 8007817, 8003799, 8000029, 8000021, 8007832, 8000000, 8000000, 8007811, 8000000, 8000029, 8003891, 8000029, 8003840, 8000000, 8000000, 8000029, 8000029, 8000029, 8003917, 8000000, 8003921, 8000029, 8006671, 8003821, 8000029, 8000000, 8000029, 8000000, 8000000, 8000029, 8000029, 8000000, 8007840, 8000029, 8000000, 8000000, 8000029, 8000029, 8000000, 8000029, 8007774, 8011678, 8000000, 8000000, 8003249, 8000029, 8003922, 8001722, 8000000, 8000000, 8000000, 8007811, 8000029, 8000029, 8000029, 8000029, 8000000, 8000029, 8010065, 8007811, 8000000, 8000029, 8000029, 8007840, 8007624, 8000000, 8000029, 8000029, 8010906, 8003860, 8002864, 8000000, 8000000, 8000021, 8000000, 8000000, 8000000, 8000029, 8007840, 8000000, 8007811, 8000029, 8000029, 8002878, 8000000, 8000000, 8000000, 8000000, 8007817, 8000000, 8000000, 8003883, 8003912, 8000000, 8003872, 8011445, 8000000, 8003848, 8000000, 8037303, 8029703, 8000014, 8018800, 8010971, 8003149, 8011585, 8000000, 8000000, 8000029, 8000029, 8000029, 8003880, 8019529, 8000000, 8000029, 8003901, 8000029, 8007811, 8000000, 8007811, 8000000, 8000029, 8011750, 8001910, 8000029, 8004867, 8003914, 8000000, 8000029, 8000000, 8027300, 8000029, 8000029, 8000029, 8000000, 8000000, 8000000, 8000021, 8000000, 8000029, 8003906, 8000029, 8000029, 8002422, 8007840, 8000029, 8000029, 8000029, 8000029, 8000000, 8000000, 8000029, 8000029, 8000000, 8000000, 8000000, 8000000, 8000029, 8000000, 8000029, 8000000, 8000000, 8000000, 8009886, 8003902, 8000000, 8000000, 8003916, 8015544, 8000029, 8000029, 8007840, 8000000, 8011734, 8000021, 8007811, 8011743, 8000000, 8000000, 8011699, 8000029, 8000000, 8009975, 8015290, 8000029, 8003792, 8011709, 8000000, 8000029, 8003894, 8000029, 8003890, 8000029, 8003897, 8000029, 8015659, 8000000, 8000000, 8000000, 8003888, 8000029, 8003886, 8009214, 8000000, 8003893, 8000000, 8007811, 8003906, 8000000, 8000000, 8000000, 8000029, 8000029, 8003903, 8000021, 8019404, 8000000, 8007688, 8000029, 8027344, 8000000, 8000029, 8000000, 8000000, 8007833, 8000000, 8003919, 8015659, 8000029, 8007811, 8000029, 8007811, 8000029, 8011683, 8011696, 8003914, 8000000, 8000029, 8000029, 8000000, 8000000, 8000000, 8003951, 8007794, 8007811, 8000000, 8000000, 8010885, 8000000, 8000066, 8003900, 8000000, 8000000, 8000029, 8000000, 8000029, 8011529, 8011540, 8000000, 8003144, 8003870, 8000029, 8000029, 8000000, 8011425, 8000029, 8000000, 8000029, 8000000, 8000029, 8000000, 8000000, 8007840, 8000029, 8000000, 8000029, 8007714, 8007811, 8000000, 8000029, 8000000, 8000029, 8000000, 8000029, 8000021, 8011707, 8019529, 8015630, 8000029, 8002695, 8000029, 8000000, 8000000, 8000021, 8007811, 8000000, 8000000, 8000029, 8007811, 8000717, 8000029, 8000029, 8000029, 8000000, 8003880, 8000000, 8000029, 8000029, 8000000, 8015647, 8000029, 8000029, 8000029, 8000000, 8011698, 8003544, 8007811, 8003876, 8000000, 8000029, 8000029, 8000029, 8000029, 8009253, 8000000, 8014951, 8003914, 8003889, 8007809, 8000029, 8000000, 8003887, 8000000, 8000029, 8000029, 8015659, 8000000, 8000017, 8000000, 8000029, 8013112, 8015248, 8000000, 8000000, 8000029, 8000029, 8003878, 8000000, 8000021, 8007840, 8000029, 8003877, 8000000, 8000000, 8004571, 8003911, 8000000, 8003882, 8000000, 8000029, 8000000, 8000029, 8000029, 8000029, 8000000, 8000029, 8003907, 8000029, 8003914, 8015598, 8000029, 8000000, 8011717, 8000029, 8003934, 8000000, 8000000, 8000029, 8000029, 8000029, 8000000, 8000000, 8000029, 8000029, 8027332, 8019491, 8000000, 8000000, 8007713, 8003906, 8007840, 8000000, 8000000, 8000000, 8000029, 8000029, 8000000, 8007811, 8000000, 8000000, 8003878, 8007799, 8000029, 8000000, 8003935, 8000000, 8000000, 8007811, 8007833, 8000029, 8000029, 8000021, 8000000, 8000029, 8000000, 8000000, 8000000, 8000000, 8007782, 8000000, 8011721, 8000000, 8000000, 8003895, 8007832, 8007840, 8007789, 8003905, 8003914, 8000029, 8000000, 8007819, 8003895, 8003896, 8000029, 8000000, 8000000, 8007815, 8000029, 8011692, 8003896, 8000000, 8000029, 8000000, 8003882, 8000029, 7992222, 8000000, 8000000, 8000000, 8000000, 8000000, 8000029, 8011718, 8000029, 8000000, 8007832, 8000029, 8003881, 8000000, 8000029, 8007811, 8007811, 8000000, 8000021, 8000029, 8000000, 8000000, 8000029, 8000029, 8007811, 8000029, 8000000, 8003885, 8000029, 8003895, 8000000, 8000029, 8000000, 8003929, 8019454, 8023354, 8000029, 8000029, 8015619, 8000029, 8000000, 8000000, 8007811, 8002841, 8000029, 8000000, 8000000, 8000424, 8007840, 8000000, 8000029, 8000029, 8000029, 8007750, 8015569, 8011716, 8000029, 8000000, 8000000, 8019571, 8000000, 8000000, 8000000, 8003899, 8000029, 8007811, 8000000, 8000019, 8000000, 8007811, 8000000, 8019503, 8023404, 8015600, 8000000, 8004358, 8007811, 8007840, 8000000, 8000000, 8000029, 8003880, 8003877, 8000029, 8000029, 8000000, 8000000, 8000000, 8000029, 8000029, 8011670, 8000029, 8000000, 8015622, 8011714, 8000000, 8000029, 8000000, 8000000, 8015643, 8000029, 8000029, 8000000, 8000000, 8000000, 8000029, 8000029, 8015607, 8000000, 8000000, 8003883, 8000029, 8000000, 8007840, 8000000, 8000000, 8000000, 8015630, 8000029, 8000000, 8000000, 8007811, 8000000, 8007783, 8000000, 8003894, 8000000, 8003803, 8000000, 8003888, 8003692, 8000000, 8000000, 8000029, 8003910, 8003878, 8000029, 8000000, 8000000, 8007804, 8000000, 8007811, 8003878, 8000000, 8000000, 8000029, 8000000, 8000029, 8011683, 8000000, 8000029, 8003879, 8007811, 8000029, 8007811, 8007811, 8007837, 8000000, 8000000, 8000029, 8007811, 8003722, 8017472, 8000029, 8000029, 8000000, 8003898, 8007811, 8003858, 8000000, 8003918, 8007811, 8000000, 8000000, 8000000, 8003877, 8011473, 8000029, 8000029, 8000000, 8000000, 8000029, 8000000, 8000029, 8000000, 8012282, 8000000, 8000029, 8000000, 8000029, 8000000, 8007769, 8000029, 8000000, 8000000, 8007811, 8000029, 8000000, 8000029, 8007563, 8000029, 8000000, 8000000, 8000000, 8000000, 8000000, 8000000, 8000000, 8003931, 8000000, 8000000, 8003816, 8000029, 8000029, 8000029, 8000917, 8007811, 8000029, 8000000, 8000029, 8000000, 8003925, 8000000, 8000029, 8000000, 8003914, 8000029, 8000000, 8000000, 8000029, 8000000, 8000000, 8000000, 8000000, 8000029, 8000029, 8000000, 8007811, 8023016, 8000029, 8000000, 8000029, 8000029, 8000029, 8000029, 8000000, 8000000, 8000029, 8000000, 8003930, 8000029, 8000029, 8000029, 8000029, 8007840, 8000021, 8007177, 8003877, 8015616, 8000000, 8000029, 8000000, 8000029, 8000029, 8000000, 8000000, 8000000, 8000000, 8000029, 8000000, 8000000, 8000000, 8000029, 8007836, 8015655, 8000029, 8015608, 8000000, 8000000, 8000029, 8000029, 8000029, 8000000, 8000000, 8000029, 8000029, 8011710, 8000029, 8000029, 8003441, 8000029, 8000029, 8002972, 8000029, 8012757, 8000000, 8002175, 8000000, 8000029, 8000000, 8003919, 8001101, 8003924, 8000029, 8000029, 8000029, 8000029, 8000000, 8000000, 8000029, 8000029, 8003894, 8000029, 8005441, 8005460, 8000021, 8019549, 8010500, 8000029, 8000000, 8000000, 8000029, 8000029, 8000000, 8000000, 8010537, 8000029, 8000029, 8000029, 8003929, 8000029, 8000029, 8000000, 8003268, 8001699, 8003579, 8000000, 8000000, 8000000, 8003066, 8000029, 8000029, 8000000, 8003863, 8000000, 8007785, 8000000, 8000029, 8000000, 8000000, 8000000, 8000029, 8000000, 8000029, 8000029, 8007819, 8000000, 8000029, 8000000, 8000000, 8007785, 8000000, 8003806, 8000000, 8003892, 8000029, 8000021, 8000000, 8000000, 8000029, 8000029, 8000000, 8003892, 8000000, 8000029, 8000000, 8000029, 8015604, 8000029, 8007840, 8000029, 8019471, 8003906, 8011712, 8000000, 8000029, 8007840, 8000029, 8003894, 8007829, 8015651, 8000029, 8000000, 8000014, 8000000, 8007097, 8000029, 8000029, 8000029, 8000000, 8000000, 8007811, 8000029, 8000000, 8000000, 8003913, 8000000, 8007811, 8000029, 8003905, 8000029, 8010132, 8000029, 8000000, 8000000, 8007840, 8000000, 8007811, 8007750, 8000029, 8000000, 8000000, 8007811, 8000000, 8000000, 8000029, 8000000, 8000000, 8000029, 8011737, 8000000, 8000000, 8000029, 8000029, 8000029, 8000000, 8000000, 8000000, 8035225, 8011692, 8000021, 8000000, 8000000, 8003885, 8007813, 8007776, 8000029, 8000000, 8000000, 8000029, 8007811, 8027354, 8015606, 8003895, 8000000, 8000000, 8000000, 8000021, 8000000, 8000029, 8000000, 8000029, 8000000, 8000029, 8000000, 8000000, 8000000, 8000029, 8000000, 8000029, 8003226, 8000029, 8007811, 8000000, 8000000, 8000000, 8000000, 8000029, 8000000, 8011733, 8000000, 8039075, 8003797, 8000000, 8000021, 8011741, 8003892, 8000021, 8000000, 8000029, 8000029, 8003891, 8007503, 8000000, 8000029, 8000000, 8007519, 8000029, 8003880, 8000029, 8019571, 8007794, 8000000, 8000000, 8000000, 8000029, 8000000, 8000000, 8000000, 8007811, 8003899, 8000000, 8000029, 8000000, 8007761, 8007832, 8015584, 8003917, 8000029, 8000029, 8000000, 8003915, 8000029, 8000000, 8011749, 8000029, 8000021, 8007840, 8000000, 8000029, 8000000, 8003926, 8000000, 8000000, 8000029, 8003878, 8000029, 8000000, 8007840, 8000029, 8000000, 8000029, 8007804, 8000000, 8001737, 8000000, 8000029, 8000029, 8000029, 8000029, 8000000, 8000000, 8000000, 8000000, 8000000, 8000029, 8000000, 8000000, 8000029, 8000029, 8000029, 8000029, 8000000, 8000029, 8003694, 8000029, 8000005, 8000029, 8000000, 8000029, 8000000, 8003900, 8003885, 8000000, 8000000, 8000000, 8000000, 8000000, 8002878, 8000000, 8000029, 8000029, 8000000, 8011681, 8007567, 8000000, 8003895, 8000029, 8000000, 7992222, 8000000, 8000029, 8007553, 8000000, 8000029, 8000000, 8011697, 8000000, 8003871, 8011692, 8000000, 8000000, 8003917, 8000021, 8000000, 8019566, 8000000, 8000000, 8000000, 8003901, 8000000, 8000029, 8000029, 8000029, 8000000, 8000000, 8000029, 8000000, 8000029, 8000000, 8000029, 8007811, 8007840, 8000029, 8009205, 8000692, 8000000, 8004733, 8000000, 8007811, 8000000, 8003830, 8000000, 8000029, 8000029, 8000000, 8000000, 8000800, 8000000, 8011702, 8000000, 8008227, 8000029, 8003892, 8000000, 8005507, 8003926, 8000029, 8003880, 8000029, 8003897, 8000000, 8000000, 8000000, 8000029, 8019399, 7993228, 8001032, 8024249, 8021878, 8000000, 8004913, 8003894, 8000029, 8000000, 8007840, 8007811, 8000000, 8000029, 8015630, 8000029, 8011713, 8000021, 8000000, 8000029, 8000000, 8000000, 8011716, 8000000, 8023481, 8007790, 8000029, 8000000, 8000000, 8000029, 8000000, 8000029, 8000029, 8000029, 8000000, 8000029, 8000029, 8000029, 8000000, 8007840, 8000000, 8011669, 8007811, 8000000, 8000000, 8003891, 8000356, 8000000, 8000000, 8000000, 8007811, 8003918, 8007840, 8000000, 8003997, 8000029, 8000000, 8003912, 8000000, 8000029, 8007840, 8000029, 8000029, 8000029, 8000000, 8001583, 8003929, 8000000, 8000000, 8000000, 8000029, 8000029, 8000000, 8000029, 8000000, 8000000, 8000000, 8000029, 8006673, 8000000, 8007210, 8000000, 8000000, 8007811, 8000000, 8004560, 8000000, 8000000, 8000029, 8003655, 8000029, 8000000, 8000000, 8000000, 8007811, 8000000, 8003924, 8000029, 8000029, 8012184, 8007811, 8000029, 8003601, 8015636, 8000029, 8017408, 8001916, 8000000, 8003877, 8000000, 8000029, 8000029, 8000029, 8000029, 8000000, 8000000, 8000029, 8000000, 8007840, 8000000, 8000029, 8011720, 8007795, 8011686, 8000029, 8003827, 8000000, 8000029, 8007840, 8000000, 8000000, 8000000, 8000000, 8007811, 8011666, 8007811, 8000000, 8000029, 8000029, 8003900, 8005267, 8010299, 8000029, 8007811, 8000029, 8023445, 8000029, 8007811, 8015659, 8000000, 8000029, 8000029, 8010271, 8000000, 8000000, 8027038, 8000029, 8000000, 8000000, 8027395, 8000029, 8000000, 8007840, 8000029, 8000029, 8000029, 8011702, 8015630, 8000029, 8000000, 8003903, 8000000, 8000029, 8000000, 8000000, 8000000, 8007984, 8003877, 8003932, 8000029, 8000029, 8000000, 8000029, 8000000, 8000029, 8007840, 8007840, 8003877, 8000029, 8000029, 8011560, 8000029, 8000029, 8000000, 8002753, 8000029, 8000029, 8000000, 8000000, 8000000, 8000029, 8000000, 8000000, 8007811, 8000000, 8000000, 8000000, 8003933, 8000000, 8000029, 8007811, 8019187, 8000000, 8000000, 8000000, 8000000, 8003895, 8003455, 8000021, 8000000, 8000029, 8000000, 8000029, 8000000, 8000029, 8008209, 8000029, 8000000, 8011352, 8000029, 8000000, 8000000, 8000000, 8002995, 8000000, 8000786, 8000000, 7996859, 8000000, 8001726, 8000029, 8003924, 8000000, 8000029, 8011699, 8000029, 8000000, 8003888, 8000000, 8007799, 8003934, 8000021, 8000029, 8019551, 8000029, 8000029, 8000029, 8000021, 8000029, 8003285, 8000029, 8000000, 8003902, 8000000, 8003802, 8001341, 8012093, 8007840, 8000000, 8015622, 8000000, 8000000, 8000029, 8001327, 8000029, 8000000, 8015200, 8017081, 8000000, 8000029, 7992222, 8011721, 8000029, 8011679, 8000029, 8000029, 8000000, 8000029, 8007811, 8007811, 8000029, 8000028, 8011741, 8000000, 8000000, 8006584, 8007840, 8017988, 8000000, 8000029, 8000029, 8000000, 8000000, 8000029, 8000029, 8000029, 8007811, 8000029, 8000000, 8003868, 8000000, 8000000, 8007811, 8000029, 8021012, 8001069, 8000000, 8000000, 8000029, 8000029, 8007811, 8000029, 8000029, 8007811, 8000029, 8000000, 8000029, 8000000, 8007648, 8000000, 8000000, 8007811, 8000029, 8000000, 8007811, 8000029, 8000029, 8000029, 8000029, 8003890, 8000000, 8000000, 8000029, 8000000, 8000029, 8000029, 8000000, 8003887, 8008533, 8014748, 8003914, 8003927, 8000000, 8007840, 8000000, 8000000, 8003897, 8000000, 8000029, 8003894, 8007811, 8003878, 8000000, 8000000, 8000029, 8000000, 8000000, 8000000, 8015680, 8000029, 8007840, 8000362, 8000000, 8000000, 8000000, 8015630, 8000000, 8000000, 8000000, 8007811, 8000000, 8000029, 8015606, 8007811, 8000029, 8011729, 8007811, 8011704, 8003823, 8015630, 8000000, 8000000, 8000000, 8000000, 8000029, 8000000, 8000029, 8000000, 8000029, 8000000, 8007811, 8000000, 8000000, 8007768, 8007811, 8007488, 8003847, 8003891, 8000000, 8000000, 8000029, 8002910, 8007811, 8000000, 8000021, 8003951, 8000000, 8003914, 8011725, 8003913, 8000000, 8000000, 8000000, 8000000, 8003911, 8003902, 8007801, 8011240, 8000029, 8000000, 8000029, 8000000, 7996207, 8003907, 8003897, 8000029, 8007789, 8005135, 8000000, 8003891, 8023441, 8027210, 8016459, 8000000, 8000000, 8000000, 8000029, 8007811, 8000029, 8000029, 8000000, 8007484, 8000000, 8004267, 8000029, 8011456, 8000000, 8000029, 8019305, 8007811, 8000000, 8000000, 8000029, 8000029, 8000029, 8000000, 8000029, 8003907, 8007779, 8000029, 8000000, 8000029, 8003884, 8003884, 8011718, 8000029, 8000029, 8007769, 8007811, 8000029, 8000029, 8000021, 8008570, 8007811, 8000000, 8014995, 8000029, 8000029, 8007840, 8002756, 8000029, 8000029, 8007836, 8007811, 8000029, 8005221, 8009350, 8001530, 8001643, 8000029, 8000000, 8000000, 8000000, 8000000, 8000029, 8003896, 8002457, 8000000, 8000000, 8003874, 8002096, 8000000, 8000000, 8003903, 8000000, 8000000, 8025227, 8000000, 8003898, 8000029, 8000029, 8014237, 8000021, 8007811, 8000000, 8000000, 8003053, 8000029, 8000000, 8000000, 8000029, 8000000, 8000029, 8007840, 8000029, 8000029, 8000029, 8007811, 8000000, 8003883, 8000806, 8007840, 8007840, 8000000, 8000000, 8000029, 8011659, 8000000, 8000000, 8000000, 8000029, 8003892, 8000000, 8000029, 8007762, 8015563, 8000000, 8000029, 8000000, 8000029, 8000029, 8003877, 8000000, 8000000, 8007777, 8000029, 8000029, 8000000, 8000000, 8000000, 8000029, 8007811, 8000029, 8007812, 8000000, 8000000, 8000029, 8000000, 8000000, 8003907, 8009538, 8016678, 8000021, 8000000, 8000000, 8000029, 8000029, 8000000, 8007840, 8007787, 8000000, 8000029, 8000000, 8000029, 8000029, 8007840, 8007569, 8019165, 8000029, 8007811, 8000000, 8000029, 8000029, 8000029, 8000000, 8011725, 8003951, 8000000, 8000029, 8000000, 8000000, 8011730, 8000000, 8007840, 8003100, 8000029, 8000012, 8000000, 8015659, 8003890, 8000029, 8000029, 8008415, 8000029, 8000029, 8000000, 8015600, 8003922, 8003889, 8000000, 8007787, 8007795, 8011711, 8000029, 8000000, 8000000, 8000029, 8000000, 8003921, 8000029, 8000000, 8003878, 8003880, 8003023, 8000021, 8000029, 8007825, 8000000, 8000029, 8002194, 8012284, 8000000, 8003561, 8000029, 8006898, 8011704, 8000000, 8003853, 8000000, 8000029, 8000000, 8000029, 8000000, 8003882, 8000000, 8007817, 8000000, 8000029, 8000029, 8000029, 8007811, 8000000, 8000000, 8003889, 8003905, 8003906, 8000000, 8003877, 8000000, 8000000, 8000000, 8019506, 8000000, 8003902, 8003823, 8000000, 8014984, 8000000, 8000029, 8000029, 8000029, 8000000, 8003470, 8000029, 8007811, 8000029, 8007811, 8000029, 8007811, 8000000, 8003897, 8003903, 8000000, 8000000, 8003928, 8011738, 8007811, 8000000, 8000029, 8003898, 8000029, 8011036, 8000000, 8000000, 8000000, 8007737, 8007811, 8000000, 8000000, 8000000, 8003915, 8000000, 8000029, 8000000, 8000000, 8000000, 8000029, 8000000, 8000029, 8000029, 8003909, 8000029, 8000000, 8000029, 8000000, 8000029, 8003892, 8000029, 8000000, 8000029, 8000000, 8000029, 8000000, 8000000, 8007836, 8000000, 8000000, 8000000, 8003899, 8007811, 8000000, 8000000, 8007540, 8007811, 8007811, 8000029, 8007352, 8000029, 8000021, 8000029, 7995996, 8007811, 8000029, 8003888, 8015659, 8000029, 8000000, 8000000, 8000029, 8007832, 8000000, 8000029, 8000029, 8000000, 8000000, 8015659, 8007762, 8024387, 8000000, 8000029, 8003894, 8000000, 8000000, 8007833, 8015630, 8000029, 8000000, 8000000, 8003890, 8000000, 8007840, 8000000, 8000000, 8000000, 8007827, 8002189, 8007753, 8000000, 8000000, 8012194, 8004395, 8008237, 8000000, 8000029, 8000029, 8000000, 8000000, 8003887, 8000029, 8000000, 8007840, 8000000, 8000000, 8000029, 8000000, 8000000, 8000000, 8003901, 8015659, 8019512, 8000029, 8000000, 8007811, 8000029, 8000000, 8000000, 8000029, 8000000, 8000000, 8000000, 8000000, 8000000, 8000029, 8000000, 8000029, 8000568, 8007811, 8000029, 8007811, 8000029, 8000029, 8000000, 8003919, 8000029, 8007782, 8000000, 8015659, 8007811, 8000000, 8000000, 8000000, 8000000, 8000029, 8000000, 8007811, 8003929, 8007811, 8000000, 8000000, 8000000, 8002445, 8006506, 8007811, 8000029, 8000000, 8000029, 8003900, 8000000, 8000029, 8000000, 8000029, 8000000, 8000029, 8005209, 8000000, 8000000, 8000000, 8000000, 8007811, 8000000, 8000000, 8015552, 8000029, 8000029, 8007840, 8007811, 8000000, 8000000, 8007797, 8007811, 8007730, 8000029, 8000000, 8000000, 8007811, 8000000, 8000000, 8003862, 8018086, 8003359, 8001283, 8000029, 8000029, 8000000, 8000029, 8003936, 8000000, 8000000, 8007811, 8000029, 8000029, 8000000, 8000000, 8000029, 8003857, 8000029, 8007840, 8000029, 8005883, 8000029, 8001171, 8000000, 8015630, 8000029, 8000029, 8000000, 8000029, 8000029, 8000029, 8000000, 8000000, 8000000, 8007811, 8000000, 8000000, 8000029, 8003882, 8000000, 8000000, 8000000, 8000029, 8000000, 8000000, 8003836, 8000000, 8011369, 8007799, 8000029, 8000029, 8003917, 8000000, 8000029, 8003879, 8000000, 8000000, 8000000, 8000029, 8002815, 8000029, 8003885, 8000000, 8000000, 8000000, 8000029, 8000029, 8023478, 8000000, 8003898, 8007836, 8000000, 8000029, 8000000, 8007806, 8003608, 8000000, 8000029, 8000000, 8000029, 8007811, 8003887, 8000029, 8000029, 8000000, 8003897, 8000000, 8000029, 8000029, 8000000, 8023441, 8000029, 8000000, 8000029, 8003764, 8011178, 8000000, 8003877, 8003886, 8007276, 8000000, 8000000, 8007811, 8003893, 8006821, 8000000, 8000000, 8003858, 8007811, 8003877, 8000029, 8011645, 8000000, 8007811, 8000000, 8000029, 8000000, 8000029, 8000000, 8000029, 8000029, 8007811, 8001837, 8007811, 8000000, 8000000, 8000021, 8000029, 8000029, 8000000, 8000000, 8000000, 8007811, 8008531, 8000000, 8000029, 8015598, 8007657, 8007767, 8003903, 8000000, 8000029, 8000000, 8015659, 8000029, 8000029, 8000000, 8007803, 8003772, 8007836, 8000000, 8000029, 8000000, 8011717, 8000000, 8000029, 8000029, 8000021, 8003859, 8005868, 8000029, 8000000, 8003307, 8000000, 8000029, 8000000, 8000029, 8000029, 8003897, 8000000, 8000000, 8000029, 8007811, 8000029, 8007804, 8003905, 8003883, 8000029, 8003884, 8011718, 8000806, 8000000, 8000029, 8003878, 8000000, 8000029, 8000029, 8003895, 8000000, 8000029, 8000029, 8000000, 8007811, 8011685, 8000029, 8000029, 8007796, 8000029, 8020208, 8000029, 8007840, 8007796, 8007811, 8000000, 8010295, 8000029, 8000000, 8000000, 8000029, 8000000, 8000029, 8004332, 8000029, 8000029, 8007811, 8000029, 8000029, 8007796, 8000000, 8000029, 8007811, 8000000, 8000029, 8007840, 8007840, 8000000, 8000000, 8000000, 8003908, 8000000, 8000029, 7995959, 8000029, 8000000, 8000000, 8000000, 8006309, 8000000, 8003839, 8000029, 8003882, 8000029, 8000029, 8000000, 8000000, 8007840, 8011681, 8000029, 8000029, 8006508, 8000000, 8000029, 8000000, 8000000, 8000029, 8003914, 8000029, 8000029, 8007840, 8007066, 8015178, 8000029, 8015630, 8007811, 8000029, 8000000, 8000000, 8015531, 8003936, 8000029, 8003906, 8003830, 8000000, 8000000, 8003889, 8000000, 8000000, 8000000, 8000000, 8000000, 8023477, 8000000, 8000000, 8000000, 8000000, 8000000, 8000000, 8000000, 8000029, 8003927, 8000000, 8000000, 8000029, 8000000, 8000000, 8000000, 8000029, 8003909, 8000000, 8015374, 8014935, 8000000, 8000029, 8000000, 8000000, 8003905, 8007811, 8002995, 8000000, 8000000, 8000000, 8003852, 8003901, 8000000, 8003883, 8000000, 8000000, 8000021, 8026343, 8007824, 8000000, 8000014, 8000000, 8000000, 8000029, 8000000, 7996107, 8000000, 8000000, 8007840, 8000029, 8000029, 8000000, 8000000, 8000000, 8000000, 8006419, 8000029, 8000029, 8000000, 8000000, 8000000, 8000000, 8000000, 8000000, 8000029, 8000029, 8007811, 8003737, 8000000, 8000000, 8018311, 8000000, 8003897, 8000000, 8000029, 8000000, 8000029, 8000029, 8000000, 8011697, 8003906, 8000029, 8003629, 8000000, 8000000, 8000000, 8000000, 8000029, 8000000, 8000000, 7992222, 8003886, 8007840, 8000029, 8000000, 8000000, 8007549, 8000000, 8000000, 8007811, 8007795, 8000029, 8000000, 8003921, 8000000, 8000000, 8000000, 8007782, 8007832, 8000000, 8003884, 8000000, 8000435, 8000029, 8000261, 8003634, 8000000, 8003914, 8007557, 8000000, 8000029, 8000029, 8007811, 8000029, 8000000, 8003893, 8007811, 8000000, 8000029, 8003863, 8000000, 8000029, 8000029, 8000000, 8000029, 8000000, 8000029, 8003886, 8003914, 8000000, 8000000, 8007811, 8003892, 8000029, 8000000, 8000000, 8000000, 8000000, 8000029, 8007811, 8000029, 8000000, 8000000, 8003837, 8007811, 8000029, 8000000, 8000029, 8000000, 8003887, 8000000, 8000029, 8000000, 8000000, 8000029, 8002474, 8000000, 8000000, 8011644, 8007811, 8003737, 8000000, 8000000, 8006378, 8003922, 8000000, 8010405, 8007840, 8000029, 8000000, 8000029, 8000000, 8000000, 8000000, 8000000, 8000000, 8000029, 8004615, 8000029, 8000029, 8000000, 8000000, 8000000, 8000000, 8000029, 8015653, 8000000, 8007777, 8007811, 8000000, 8009741, 8003913, 8000000, 8000029, 8000000, 8000029, 8000000, 8000000, 8000000, 8000000, 7992222, 8006517, 8007820, 8000000, 8003928, 8003905, 8003907, 8000000, 8000000, 8000179, 8000029, 8003935, 8000029, 8001388, 8000000, 8000000, 8000029, 8003914, 8000029, 8000029, 8019452, 8000029, 8000029, 8000029, 8023369, 8003895, 8000029, 8000000, 8007811, 8000000, 8003902, 8003914, 8000000, 8011733, 8000029, 8003678, 8000029, 8007787, 8000029, 8013811, 8000029, 8000000, 8000029, 8000000, 8014200, 8006375, 8000000, 8000000, 8002583, 8000000, 8000029, 8000029, 8000029, 8000029, 8000000, 8000000, 8000000, 8000000, 8000029, 8000000, 8000000, 8003729, 8000000, 8000000, 8000029, 8003840, 8007811, 8003897, 8000000, 8015159, 8007784, 8003900, 8000029, 8000000, 8000029, 8000000, 8000000, 8000029, 8003898, 8017262, 8002618, 8000000, 8007825, 8000000, 8000029, 8000029, 8000029, 8003879, 8009574, 8000000, 8000000, 8011691, 8000501, 8000029, 8003951, 8001472, 8003925, 8007840, 8000029, 8000029, 8000000, 8000000, 8000000, 8007318, 8007836, 8003905, 8000000, 8000000, 8000000, 8000000, 8000000, 8000029, 8000000, 8007811, 8000000, 8005934, 8000029, 8000000, 8000029, 8000000, 8000029, 8000000, 8000000, 8000029, 8000000, 8003734, 8003902, 8000029, 8015614, 8000000, 8003905, 8003907, 8015659, 8000029, 8000000, 8000000, 8003885, 8019555, 8000017, 8000029, 8003886, 8000000, 8000000, 8000029, 8001064, 8015628, 8015612, 8010304, 8017908, 8000000, 8000029, 8000000, 8000000, 8000000, 8000000, 8000029, 8000000, 8000000, 8000029, 8000029, 8000029, 8000000, 8000000, 8003898, 8000000, 8003888, 8000021, 8000000, 8000000, 8000000, 8000000, 8003675, 8000029, 8000000, 8000029, 8007811, 8000000, 8000029, 8000000, 8000000, 8000000, 8000029, 8000000, 8000000, 8000000, 8000029, 8002027, 8000029, 8000000, 8000029, 8000029, 8000029, 8007716, 8000029, 8002706, 8003932, 8000000, 8000029, 8007840, 8000029, 8000029, 8000000, 8015560, 8003899, 8003906, 8000288, 8000029, 8015595, 8000000, 8000000, 8000000, 8000029, 8000000, 8007398, 8000029, 8000000, 8000000, 8007811, 8015630, 8000000, 8000000, 8000000, 8000029, 8000029, 8008778, 8000000, 8000029, 8007811, 8003857, 8000000, 8003895, 8003884, 8011600, 8000000, 8000000, 8007840, 8000000, 8000029, 8000000, 8001217, 8000029, 8015630, 8000029, 8011694, 8000000, 8003913, 8000000, 8000029, 8000000, 8000000, 8023459, 8000029, 8003507, 8000000, 8007942, 8007840, 8003933, 8004670, 8000000, 8000000, 8000000, 8000000, 8023752, 8000029, 8007811, 8000029, 8003741, 8000000, 8000029, 8000029, 8000029, 8000000, 8000000, 8002999, 8000000, 8001866, 8007811, 8000000, 8000000, 8000000, 8000000, 8011719, 8011702, 8000000, 8003889, 8000029, 8000000, 8000000, 8009490, 8023456, 8000029, 8003875, 8001869, 8008720, 8000000, 8003907, 8000000, 8011721, 8000029, 8003881, 8007753, 8003886, 8000029, 8000029, 8000000, 8000029, 8007811, 8000000, 8011709, 8000000, 8000029, 8000000, 8008919, 8007943, 8000000, 8000029, 8000029, 8020091, 8003893, 8000000, 8000000, 8003844, 8000029, 8007840, 8000000, 8000000, 8007840, 8000000, 8000029, 8000000, 8003857, 8000029, 8000029, 8000029, 8000000, 8000029, 8000029, 8018036, 8007811, 8000000, 8000029, 8003891, 8000020, 8000065, 8003897, 8000029, 8005930, 8000000, 8000029, 8000000, 8007811, 8000029, 8000000, 8000000, 8000029, 8000000, 8000029, 8007783, 8010644, 8000029, 8000029, 8000000, 8000029, 8000000, 8000029, 8000029, 8003914, 8000029, 8020971, 8010743, 8002952, 8002989, 8000029, 8003920, 8000000, 8000029, 8000029, 8000000, 8000000, 8000000, 8008325, 8000000, 8012017, 8000029, 8000000, 8015452, 8007811, 8000000, 8003222, 8000000, 8015622, 8007811, 8000029, 8000029, 8000000, 8007725, 8006755, 8000017, 8000029, 8000000, 8000029, 8003924, 8025929, 8019524, 8000000, 8003879, 8014639, 8000000, 8000000, 8007794, 8000000, 8002000, 8003898, 8000000, 8023485, 8000000, 8000029, 8000000, 8000000, 8000000, 8000000, 8007738, 8000000, 8000000, 8000029, 8000029, 8000029, 8000000, 8003838, 8000000, 8000021, 8000029, 8000000, 8006996, 8015659, 8023485, 8000000, 8000000, 8003893, 8000029, 8007811, 8000029, 8000000, 8007811, 8011380, 8000000, 8000000, 8003785, 8007811, 8003880, 8003837, 8015659, 8000029, 8000000, 8000000, 8000000, 8000000, 8003907, 8000000, 8000029, 8000000, 8000029, 8000029, 8003883, 8007811, 8007813, 8000029, 8003932, 8000000, 8000000, 8000000, 8000000, 8005172, 8003902, 8000029, 8000000, 8000029, 8000000, 8005295, 8000000, 8000000, 8000000, 8000000, 8000000, 8007811, 8000029, 8007811, 8000029, 8003853, 8007811, 8011691, 8000000, 8000029, 8007804, 8000000, 8000000, 8006127, 8000000, 8000000, 8000029, 8000029, 8000000, 8003934, 8000029, 8000000, 8007811, 8000000, 8015608, 8000000, 8000000, 8000029, 8000000, 8000000, 8000029, 8000029, 8000029, 8000029, 8000029, 8003897, 8000029, 8000000, 8000000, 8000029, 8007797, 8000029, 8000029, 8015630, 8011691, 8000000, 8000029, 8000029, 8000029, 8000029, 8015273, 8000029, 8000029, 8011694, 8003866, 8001704, 8019863, 8012033, 8008104, 8000029, 8000029, 8000000, 8003371, 8007811, 8000000, 8000029, 8003898, 8007792, 8000000, 8000000, 8000029, 8011647, 8000029, 8007811, 8007840, 8000000, 8011635, 8000029, 8000029, 8000029, 8007796, 8003097, 8000029, 8003753, 8000000, 8000029, 8000000, 8000000, 8005061, 8000000, 8007811, 8000029, 8000021, 8007811, 8000029, 8000000, 8000029, 8003868, 8000000, 8000029, 8000000, 8003925, 8011701, 8000029, 8000029, 8000000, 8000000, 8008317, 8007808, 8000000, 8007840, 8000000, 8007840, 8000000, 8003905, 8003877, 8000029, 8000000, 8003914, 8000000, 8003881, 8000021, 8002441, 8000029, 8000000, 8015597, 8000000, 8003899, 8000029, 8003917, 8007762, 8000000, 8000002, 8011721, 8000000, 8000000, 8000000, 8019537, 8000000, 8015640, 8000000, 8000000, 8000000, 8000029, 8000029, 8000000, 8007840, 8019543, 8000000, 8000000, 8007840, 8000000, 8007811, 8000000, 8007488, 8000000, 8000029, 8000001, 8003887, 8007804, 8000000, 8000000, 8007811, 8000029, 8003897, 8019527, 8003929, 8007833, 8003904, 8000029, 8000000, 8000000, 8010708, 8000029, 8000000, 8014632, 8000029, 8000000, 8000029, 8000000, 8000000, 8003889, 8007811, 8000021, 8003907, 8000029, 8000000, 8000000, 8003917, 8000029, 8003920, 8023627, 8007840, 8000029, 8000000, 8003907, 8007840, 8038347, 8000000, 8000000, 8022229, 8007811, 8000000, 8000000, 8000000, 8000000, 8000029, 8000000, 8000000, 8010337, 8007799, 8007784, 8010907, 8000000, 8000000, 8000029, 8000029, 8000000, 8011723, 8000000, 8000029, 8000000, 8007840, 8003893, 8015622, 8000000, 8000000, 8000000, 8011721, 8000029, 8010986, 8000029, 8011699, 8007811, 8003877, 8000000, 8000000, 8000029, 8003891, 8000029, 8000029, 8000029, 8000029, 8007840, 8015526, 8015608, 8000000, 8003895, 8003881, 8000029, 8010054, 8003930, 8000000, 8007831, 8007811, 8000000, 7992222, 8003916, 8000029, 8000029, 8000029, 8000000, 8000000, 8015580, 8000000, 8000029, 8003882, 8000029, 8000000, 8023436, 8000029, 8000000, 8000000, 8007804, 8003912, 8000029, 8015610, 8000000, 8000029, 8000000, 8007811, 8011710, 8007840, 8000029, 8000000, 8003891, 8000000, 8003887, 8000029, 8000029, 8003759, 8003925, 8003904, 8011707, 8003897, 8000029, 8000029, 8000029, 8000000, 8000029, 8000000, 8000000, 8006881, 8003912, 8015659, 8000029, 8003909, 8000000, 8007780, 8000000, 8004950, 8000000, 8000000, 8000029, 8000000, 8011725, 8009982, 8003914, 8000000, 8015648, 8000029, 8000000, 8000029, 8003882, 8000000, 8000029, 8000000, 8000029, 8000029, 8000000, 8007840, 8000000, 8000029, 8007811, 8000029, 8000000, 8011721, 8000000, 8000000, 8000000, 8000029, 8007811, 8011694, 8000000, 8007491, 8000029, 8019478, 8027304, 8015606, 8000029, 8000000, 8000000, 8003879, 8000029, 8000000, 8009053, 8000000, 8015630, 8000000, 8000029, 8000000, 8015630, 8011510, 8000029, 8000124, 8000029, 8000000, 8038065, 8002904, 8000029, 8000000, 8003892, 8003884, 8000029, 8000000, 8000000, 8015606, 8000029, 8007811, 8000000, 8007559, 8000000, 8000029, 8000029, 8000029, 8000000, 8006585, 8003906, 8000000, 8000000, 8000000, 8007811, 8003899, 8007748, 8011665, 8000029, 8000000, 8000000, 8000029, 8000000, 8000029, 8000029, 8000000, 8007811, 8003902, 8000029, 8011716, 8000000, 8000000, 8003888, 8000000, 8000000, 8000000, 8000000, 8000000, 8011709, 8004255, 8000000, 8000029, 8007804, 8000029, 8000000, 8000270, 8000029, 8000000, 8003710, 8015621, 8000000, 8000000, 8003877, 8000029, 8000029, 8000000, 8000029, 8000029, 8009319, 8000000, 8000029, 8000000, 8000000, 8000029, 8011688, 8019357, 8000000, 8003787, 8000000, 8000000, 8023417, 8000000, 8000000, 8000029, 8003881, 8006176, 8000029, 8000029, 8000029, 8011706, 8007811, 8000029, 8000029, 8007811, 8000000, 8024599, 8000029, 8011610, 8000021, 8000000, 8000000, 8000029, 8016481, 8000000, 8000029, 8000000, 8000000, 8000029, 8000000, 8000029, 8000029, 8000029, 8000000, 8000029, 8007811, 8000000, 8000000, 8003918, 8000000, 8000000, 8000029, 8011705, 8000000, 8003845, 8000000, 8007840, 8007811, 8000000, 8000029, 8007801, 8000000, 8000000, 8000000, 8000000, 8000000, 8000000, 8000000, 8000000, 8003912, 8003894, 8007774, 8000000, 8000029, 8000000, 8000000, 8000000, 8000000, 8000000, 8003917, 8003919, 8000029, 8000000, 8000029, 8000029, 8003898, 8000000, 8008138, 8007811, 8000029, 8000029, 8007840, 8000029, 8007840, 8000000, 8003868, 8000000, 8000000, 8000000, 8000000, 8003233, 8007832, 8003860, 8000029, 8011508, 8003904, 8000000, 8000000, 8000029, 8000000, 8007840, 8007811, 8003921, 8000000, 8011675, 8012609, 8024218, 8002820, 8000029, 8000000, 8000029, 8000000, 8000000, 8000029, 8003913, 8003857, 8000029, 8000000, 8000000, 8000029, 8000029, 8000000, 8000029, 8011240, 8013405, 8003659, 8000000, 8000029, 8000029, 8000029, 8000029, 8000000, 8000029, 8003692, 8007811, 8000000, 8000000, 8000000, 8000029, 8007665, 8003731, 8000000, 8000029, 8000029, 8000000, 8007307, 8000029, 8015680, 8011712, 8000000, 8000029, 8000000, 8000029, 8007811, 8003923, 8007784, 8000000, 8015659, 8002397, 8007811, 8000029, 8011516, 8003888, 8000000, 8003618, 8007770, 8000029, 8008021, 8000000, 8000029, 8000000, 8000000, 8003841, 8000000, 8000000, 8000029, 8000000, 8002326, 8013785, 8005986, 8000000, 8007811, 8000029, 8000011, 8000000, 8000000, 8003928, 8013647, 8000000, 8000029, 8000021, 8000000, 8000000, 8000029, 8000000, 8007811, 8000000, 8000000, 8000547, 8003886, 8000000, 8000029, 8000021, 8003404, 8007840, 8008361, 8003880, 8007770, 8000000, 8000029, 8000000, 8003918, 8000029, 8000000, 8000000, 8000029, 8000000, 8000000, 8023439, 8000000, 8007811, 8011059, 8000000, 8000029, 8000000, 8013746, 8006677, 8000029, 8000000, 8000000, 8000000, 8000029, 8000029, 8000029, 8000029, 8004125, 8000021, 8013248, 8000000, 8000000, 8000029, 8000029, 8000000, 8000000, 8000000, 8003897, 8006953, 8011745, 8003923, 8007664, 8000000, 8000000, 8000000, 8000029, 8000029, 8003901, 8000000, 8000000, 8000000, 8000000, 8000029, 8019447, 8015581, 8010625, 7994405, 8000000, 8000000, 8003935, 8001513, 8000000, 8000000, 8000000, 8000029, 8000000, 8000000, 8000000, 8000000, 8000000, 8000000, 8000000, 8011721, 8000000, 7992222, 8000000, 8000029, 8011563, 8000029, 8000000, 8000000, 8000029, 8000000, 8003715, 8000029, 8000000, 8000000, 8000000, 8014023, 8000000, 8015517, 8000029, 8015630, 8000000, 8023456, 8000000, 8000029, 8000000, 8000029, 8000000, 8003913, 8000000, 8007836, 8007785, 8000029, 8000000, 8000000, 8000029, 8000029, 8007811, 8000000, 8000000, 8003878, 8000029, 8007811, 8011723, 8000000, 8003882, 8007840, 8000000, 8000000, 8000000, 8000029, 8007811, 8000029, 8007811, 8000000, 8000029, 8001285, 8000000, 8000000, 8000029, 8000000, 7999437, 8000029, 8007840, 8007805, 8000029, 8000000, 8019290, 8000029, 8000021, 8000029, 8000029, 8003877, 8003892, 8000000, 8003903, 8000000, 8000000, 8007811, 8000000, 8000000, 8000000, 8000000, 8000029, 8000029, 8007778, 8015616, 8002312, 8003897, 8003790, 8011722, 8007811, 8000000, 8000029, 8022470, 8000029, 8007811, 8019376, 8001867, 8000000, 8000000, 8003878, 8000000, 8000711, 8000000, 8003718, 8000000, 8000000, 8000021, 8004931, 8000021, 8000000, 8000000, 8009554, 8000000, 8005318, 8007811, 8000000, 8000021, 8021684, 8013867, 8000000, 8000000, 8000029, 8007785, 8000000, 8000029, 8000000, 8000449, 8000000, 8007811, 8003894, 8000000, 8000029, 8003766, 8000000, 8000000, 8000029, 8007840, 8000000, 8004987, 8000029, 8000029, 8000029, 8000000, 8000000, 8003878, 8000000, 8003907, 8000000, 8000029, 8000000, 8011721, 8000000, 8000029, 8011630, 8003932, 8000000, 8000029, 8000029, 8000029, 7999992, 8007762, 8000029, 8007811, 8000000, 8000029, 8000000, 8000000, 8000000, 8000029, 8000029, 8000000, 8000029, 8006085, 8000029, 8000000, 8000000]\n"
     ]
    }
   ],
   "source": [
    "tmp_gasLimit_list = []\n",
    "\n",
    "for gaslimit in raw_broadcast_df.gasLimit:\n",
    "    if type(gaslimit) == type('str'):\n",
    "        tmp_gasLimit_list.append(int(gaslimit, 16))\n",
    "    else:\n",
    "        tmp_gasLimit_list.append(gaslimit)\n",
    "\n",
    "print(len(tmp_gasLimit_list))\n",
    "print(len(raw_broadcast_df.gasLimit))\n",
    "print(tmp_gasLimit_list)"
   ]
  },
  {
   "cell_type": "code",
   "execution_count": 387,
   "metadata": {},
   "outputs": [
    {
     "name": "stderr",
     "output_type": "stream",
     "text": [
      "/Users/Jinyue/anaconda3/lib/python3.6/site-packages/pandas/core/generic.py:5096: SettingWithCopyWarning: \n",
      "A value is trying to be set on a copy of a slice from a DataFrame.\n",
      "Try using .loc[row_indexer,col_indexer] = value instead\n",
      "\n",
      "See the caveats in the documentation: http://pandas.pydata.org/pandas-docs/stable/indexing.html#indexing-view-versus-copy\n",
      "  self[name] = value\n"
     ]
    }
   ],
   "source": [
    "raw_broadcast_df.gasLimit = tmp_gasLimit_list"
   ]
  },
  {
   "cell_type": "markdown",
   "metadata": {},
   "source": [
    "**Similarly, let's check gasUsed column in raw_broadcast_df**"
   ]
  },
  {
   "cell_type": "code",
   "execution_count": 388,
   "metadata": {},
   "outputs": [
    {
     "name": "stdout",
     "output_type": "stream",
     "text": [
      "6417\n",
      "6417\n",
      "(8785, 10)\n",
      "['0x0', '0x0', '0x0', '0x0', '0x7a1078', '0x79d852', '0x79c5da', '0x5f8ff9', '0x59e418', '0x799f49', '0x79f4ba', '0x3b5450', '0x7a373f', '0x79e0f3', '0x272c2d', '0x7a11d6', '0x7a00ef', '0x79dbe6', '0x79e369', '0x74dd8d', '0x7a0c3c', '0x7a067b', '0x79c593', '0x31d4ce', '0x4f7e0e', '0x77f912', '0x703c6e', '0x79c82a', '0x796903', '0x7952cb', '0x79d863', '0x79eab3', '0x79f7a0', '0x79c599', '0x79cdeb', '0x79e8f7', '0x79cf03', '0x79c180', '0x68901a', '0x79c27e', '0x79d70d', '0x7840ff', '0x789aa4', '0x79e79d', '0x79e3f5', '0x79ffda', '0x75a101', '0x79d0f1', '0x0', '0x178ca9', '0x79f5b8', '0x460993', '0x79f27b', '0x787d75', '0x7a0f0d', '0x79bd7c', '0x758f91', '0x7a00a4', '0x79fe56', '0x35c8eb', '0x442211', '0xdbdd3', '0x79e15f', '0x52fa6c', '0x78cb66', '0x699677', '0x793a45', '0x7a0188', '0x79a268', '0x6e6bb9', '0x79b3ca', '0x79500b', '0x78a738', '0x497bc3', '0x190845', '0x6e41ba', '0x79ac7c', '0x2e31c0', '0x1ead2', '0x79bd5e', '0x5d172b', '0x7a2abb', '0x7a07bf', '0x5cf959', '0x14a691', '0x65252', '0x794e69', '0x357309', '0x6d6f29', '0x53336f', '0x51280a', '0x747962', '0x14808a', '0x1e7405', '0x792e08', '0x79cb37', '0x79dc54', '0x78c75a', '0x727bc3', '0x779c38', '0x797314', '0x545942', '0x797702', '0x7a0acd', '0x79fab7', '0x71a3ec', '0x7852a9', '0x79d9d2', '0x4e1037', '0x7a07fa', '0x431102', '0x0', '0x79cdd1', '0x7a00a3', '0x79d381', '0x79edce', '0x79dd1a', '0x79d4f9', '0x7a1653', '0x43a79c', '0x79e754', '0x7a0a1f', '0x79f5c3', '0x79f648', '0x7a0d0a', '0x79f9c9', '0x79c3c9', '0x79d1a3', '0x78c643', '0x7a05b2', '0x79fcb7', '0x79f344', '0x79e12c', '0x7a0ee2', '0x750997', '0x7a07db', '0x78eccb', '0x79ea55', '0x7a0ba8', '0x7a085b', '0x79f8f5', '0x3d2907', '0x7353d3', '0x7529c1', '0x17aedb', '0x79d4fd', '0x79138e', '0x6b4ccd', '0x7a1f1e', '0x79dad4', '0x79df22', '0x78edc0', '0x79d39e', '0x6d7de5', '0x367878', '0x79eaea', '0x27f9ca', '0x2b33ff', '0x79e091', '0x7499c4', '0x7a0aab', '0x79dfbe', '0x79be68', '0x7a15fb', '0x7a01d6', '0x4da331', '0x788bfd', '0x773178', '0x79eb24', '0x218e6f', '0x282ee1', '0x79eae4', '0x0', '0x1886e7', '0x79d1d6', '0x794b6d', '0x79e92d', '0x0', '0x7a2698', '0x79c6d9', '0x7993fd', '0x79f18c', '0x78ea4b', '0x79cd7a', '0x39814b', '0x79fa6e', '0x7a0a3a', '0x72cfa6', '0x3e6f8d', '0x786b8e', '0x79d4bf', '0x72e8e5', '0x0', '0x758543', '0x79d9eb', '0x79fff3', '0x79ea4e', '0x78bf25', '0x79d88b', '0x7a1f9a', '0x79ab8f', '0x79f7d5', '0x7a1e74', '0x7a3119', '0x333b01', '0x79f364', '0x79c1d5', '0x79cd3f', '0x79d378', '0x747069', '0x788f42', '0x0', '0x79245c', '0x76d2e9', '0x73ee3e', '0x784ccd', '0x7a085d', '0x7a34a5', '0x5f8e5a', '0x6c0f19', '0x79e8a2', '0x798f95', '0x79e8a4', '0x7a0fa7', '0x7a016b', '0x79e8b2', '0x59c2d6', '0x788325', '0x597b01', '0x62647c', '0x79fffc', '0x78e3c7', '0x490583', '0x516103', '0x67674e', '0x79cb8e', '0x79e17c', '0x61f6e6', '0x79d736', '0x79d41d', '0x3c59e2', '0x0', '0x79f562', '0x2f4eca', '0x79d5f7', '0x785149', '0x436172', '0x79fdd2', '0x79c5d4', '0x7856f8', '0x7a2453', '0x7a1f7f', '0x54f652', '0x799683', '0x79dd1a', '0x796e58', '0x79d939', '0x79d20f', '0x79cd58', '0x79cd5f', '0x79d7dc', '0x79e64c', '0x730837', '0x79fc07', '0x7a102c', '0x79934a', '0x79e9a2', '0x79270a', '0x7a089b', '0x79d325', '0x7a1096', '0x7a5fcd', '0x7a0a07', '0x7a1637', '0x79ef5d', '0x79dbbd', '0x74ab34', '0x79f3ca', '0x79f078', '0x79ec5a', '0x79e03e', '0x0', '0x78edc6', '0x79e3e1', '0x7a181a', '0x79dd6e', '0x7882e2', '0x79f8b0', '0x76a9cb', '0x7a20ed', '0x79f968', '0x7a0039', '0x5926f9', '0x75f7f5', '0x5fa697', '0x718888', '0x7904f4', '0x79e2dd', '0x79d3ae', '0x78e66b', '0x7a2817', '0x79e879', '0x79caf6', '0x78bd08', '0x74e7a3', '0x71db00', '0x6f8bb2', '0x795ee6', '0x53172', '0x79dc2b', '0x79d0b8', '0x4c4db5', '0x79d9ce', '0x55e83b', '0x6c9945', '0x798a32', '0x79e40b', '0x76d146', '0x6e93db', '0x7a0788', '0x79c0b5', '0x79a8ed', '0x78f298', '0x79dbee', '0x79dbdd', '0x2433b9', '0x21f3ec', '0x59475a', '0x79fe4f', '0x3e9225', '0x7962d4', '0x77daec', '0x15584a', '0x7622a0', '0x788994', '0x65cb1b', '0x79ff61', '0x19c487', '0x3a3e40', '0x79f35a', '0x786eda', '0x122bd2', '0x797d05', '0x20ed1b', '0x79dd9e', '0x7979cb', '0x28e529', '0x785219', '0x620c10', '0x2a388a', '0x7a11d0', '0x792fa2', '0x7979e9', '0xc4129', '0x79c287', '0x7956de', '0x4fafd9', '0x36b4a9', '0x0', '0x79d0bc', '0x432789', '0x78c2fb', '0x6f392c', '0x79d393', '0x7a0a84', '0x795d17', '0x78f145', '0x76b440', '0x79db71', '0x5f0d35', '0x77f41b', '0x54ba73', '0x7a029b', '0x785f67', '0x23261d', '0x3d62dc', '0x2a8ec', '0x18c3f6', '0x79afe9', '0x5bedbf', '0x7a07b0', '0x5e7197', '0x74a875', '0x79d3ac', '0x79c914', '0x79f3fe', '0x79dec7', '0x79c448', '0x4133d6', '0x79e16a', '0x79ca4d', '0x79e26d', '0x7a6e0f', '0x7a12b0', '0x7a2845', '0x1d9ca2', '0x7a44cc', '0x79d80f', '0x79cda2', '0x4a860', '0x79f1ad', '0x0', '0x7a0d40', '0x79a112', '0x7a0146', '0x6f0a52', '0x7110c6', '0x79c8ca', '0x79ff72', '0x7a008a', '0x53f50e', '0x3eacd0', '0x79ce35', '0x777514', '0x40fab8', '0x0', '0x585057', '0x79ea7a', '0x77dc50', '0x78ba5f', '0x5914dd', '0x79fa1d', '0x7929ef', '0x7a0963', '0x7632e9', '0x4ed516', '0x7889e7', '0x4d77e0', '0x7a0c59', '0x7a0636', '0x7a0db5', '0x79dedd', '0x7995f4', '0x79d6c0', '0x79bc98', '0x79d4e2', '0x0', '0x79f70b', '0x799914', '0x79d540', '0x6ef48e', '0x7292f0', '0x79f753', '0x0', '0x79f8ef', '0x79e52a', '0x79f055', '0x6e7923', '0x7a0ffb', '0x79ed01', '0x79ffdc', '0x3d4d08', '0x49a7ae', '0x73b24e', '0x77d34d', '0x7960cf', '0x3bf5e8', '0x79dd18', '0x79ffa9', '0x798fdd', '0x79dbd4', '0x4d7749', '0x768f09', '0x79dcb4', '0x79df44', '0x49a140', '0x7a0197', '0x64c6f5', '0x7a0675', '0x79e153', '0x676aa8', '0x798e1a', '0x35e92d', '0x4a4075', '0x79fb13', '0x16a260', '0x1730c', '0x4c26ea', '0x5da313', '0x79e293', '0x771cdc', '0x246fe6', '0x0', '0x7a20a9', '0x7707b1', '0x734a82', '0x79ef73', '0x78dbad', '0x6d16b6', '0x66188b', '0x79ce12', '0x7a144e', '0x7a103c', '0x79c38f', '0x7a0811', '0x78c1ad', '0x773f10', '0x78a4ef', '0x79e5fc', '0x79e4db', '0x7a0edd', '0x74059c', '0x79ca7d', '0x2d0dcb', '0x39c396', '0x79dc59', '0x2c0230', '0x7a0583', '0x70b6d8', '0x79d2ed', '0x7a41b9', '0x7a11e3', '0x7a0151', '0x79d1e2', '0x7a1ce2', '0x75af7d', '0x797bb7', '0x770ab7', '0x79c317', '0x7a2585', '0x7a1251', '0x79cd8f', '0x773d95', '0x79c62c', '0x7a0d19', '0x75d013', '0x7a4b09', '0x79cca1', '0x79f4c3', '0x79eafe', '0x7a13d1', '0x79c173', '0x79e717', '0x79d810', '0x4e8102', '0x79f54e', '0x7a0b93', '0x253604', '0x7a01fc', '0x789d00', '0x79c208', '0x79e7d3', '0x7a180e', '0x79e238', '0x79e79f', '0x7970e2', '0x79d544', '0x79fbc8', '0x78f54e', '0x6117c8', '0x71a823', '0x793a01', '0x61e418', '0x71eafd', '0x783aef', '0x787aca', '0x0', '0x5620b0', '0x79ec47', '0x7a13f2', '0x765ca3', '0x779a6b', '0x7961d7', '0x79e007', '0x77c83f', '0x79c1cc', '0x7a0433', '0x79d878', '0x6fbfdb', '0x5d28ce', '0x79c990', '0x12372f', '0x7a0509', '0x2b5e7a', '0x78acff', '0x79ec54', '0x794380', '0x7a0057', '0x222cca', '0x2865f9', '0x789703', '0x0', '0x78a092', '0x792cdc', '0x4fd6d5', '0x6a78b8', '0x45c789', '0x796f3f', '0x6834c5', '0x7a113b', '0x76a3fb', '0x78f742', '0x79c19d', '0x796e0d', '0x79cc8f', '0x7a0202', '0x7a0635', '0x0', '0x79e2cf', '0x79da68', '0x79cea9', '0x79c53e', '0x4b9bde', '0x79c56d', '0x4c8591', '0x2dbd92', '0x797e31', '0x7a1079', '0x79c7bf', '0x79fda0', '0x6c7175', '0x69d074', '0x0', '0x79dabb', '0x33b7a3', '0x79de11', '0x79fb3e', '0x5b1844', '0x793e4f', '0x6c6158', '0x796359', '0x77903a', '0x365d3d', '0x79ee78', '0x79fcc4', '0x3e1795', '0x79e2e8', '0x7a025a', '0x79b8ad', '0x7490bc', '0x765bdb', '0x79f1a9', '0x483913', '0x78dacb', '0x329a46', '0x7a054f', '0x798600', '0x753e3f', '0x282852', '0x5c3248', '0x79d9f0', '0x7a02ff', '0x7a08f2', '0x0', '0x796351', '0x527788', '0x79c5ba', '0x46305b', '0x78d6bc', '0x78755c', '0x79dc7f', '0x3ac0c6', '0x6b9ce7', '0x6825ae', '0x6530cd', '0x7567e1', '0x794258', '0x78cdda', '0x79f03a', '0x74ece1', '0x79a7b3', '0x27552c', '0x7861b8', '0x4adf9e', '0x5d6095', '0x2c9d21', '0x79d762', '0x7a054d', '0x7a0f1d', '0x79cf3e', '0x7a107e', '0x793c10', '0x79d82b', '0x7a09a3', '0x7a3454', '0x79ca82', '0x7a12f4', '0x79d36e', '0x79e3da', '0x79ab8c', '0x7a1af8', '0x79faa2', '0x79edc1', '0x79cc04', '0x7a0fc4', '0x79f41d', '0x79f8e6', '0x79f80b', '0x79e242', '0x7a0aa9', '0x0', '0x79e4da', '0x79127e', '0x79cdad', '0x7a05af', '0x79f2d7', '0x79e842', '0x79cf66', '0x79c595', '0x7a3b2a', '0x79d5e3', '0x7a0c41', '0x79dda6', '0x7a1a8a', '0x79f1a9', '0x79f7a4', '0x7a4885', '0x79d3ff', '0x79cc5d', '0x79d1d1', '0x79dc24', '0x79f9de', '0x79c652', '0x79e1fe', '0x791f78', '0x79e39f', '0x79e4a7', '0x79d8b0', '0x7a17cb', '0x7a1ad4', '0x79fc98', '0x7a0323', '0x7a0f68', '0x79c7f9', '0x7a03d5', '0x79e4fe', '0x79f2ad', '0x7a1f77', '0x79ec05', '0x79fd9e', '0x79d4ce', '0x7a09fd', '0x78a4cf', '0x79e5e5', '0x7a0362', '0x730225', '0x79e055', '0x79ce27', '0x616149', '0x774992', '0x79e782', '0xd3e24', '0x7a06d9', '0x0', '0x7a13c5', '0x79e834', '0x7a00ad', '0x7a0429', '0x78bea2', '0x79ee71', '0x7a02cb', '0x78d8ea', '0x7a06b9', '0x7a211d', '0x0', '0x79db58', '0x79f836', '0x731625', '0x7a0bb6', '0x7963f4', '0x79cba7', '0x7a06ae', '0x7a282d', '0x79c7f2', '0x7a1c79', '0x79abed', '0x7a0246', '0x79fc2e', '0x798d06', '0x7a69dd', '0x79d5de', '0x79d0a3', '0x79c3e6', '0x7a091d', '0x7a1511', '0x78bb0e', '0x79ea2a', '0x79fcff', '0x7a1655', '0x7a1649', '0x79cfa2', '0x79a728', '0x3e5985', '0x79db0a', '0x79e74b', '0x79dfe8', '0x79fc90', '0x6c2196', '0x79fb55', '0x7a0020', '0x7a002f', '0x7a1296', '0x77f357', '0x79d5be', '0x79fd5b', '0x79d2ad', '0x1a6155', '0x79e2d2', '0x79fe8b', '0x79cf40', '0x773a90', '0x79cb24', '0x26bb95', '0x7a00e4', '0x0', '0x7a0420', '0x79eb5c', '0x7a1563', '0x7a0d18', '0x38227b', '0x79ed66', '0xa990e', '0x7a1f3b', '0x5a3952', '0x78ac4a', '0x1ec489', '0x79e144', '0x791b46', '0x70d07d', '0x6d1497', '0x79f92c', '0x7a06a8', '0x7a0c17', '0x6f171e', '0x630cf1', '0x5fcaa8', '0x79f3cc', '0x79e56c', '0x7a4cd7', '0x79d096', '0x7a1fd7', '0x7a0cc8', '0x79f77c', '0x1038c7', '0x7a844c', '0x78f7ae', '0x5f1505', '0x76b304', '0x729a9d', '0x58d82e', '0x79f7b4', '0x7a1514', '0x7a3169', '0x78d245', '0x7a0e94', '0x7a08cf', '0x79e022', '0x79e680', '0x795757', '0x79c1d4', '0x79e729', '0x79d6d4', '0x7a0812', '0x350e9f', '0x79d97e', '0x79c860', '0x79ddc7', '0x79ead0', '0x79c683', '0x79fe11', '0x79d2cf', '0x60c662', '0x7a01bd', '0x78592e', '0x79f88e', '0x78dfb9', '0x7a0bba', '0x79eb9c', '0x79f24e', '0x7a025b', '0x79e239', '0x79d543', '0x79fea1', '0x79e281', '0x79f88a', '0x79e896', '0x7a1319', '0x3b953c', '0x7a0f27', '0x79f1ad', '0x79fb19', '0x79ece5', '0x78bace', '0x683ed3', '0x79fe60', '0x79fc4b', '0x7a1fe6', '0x77908a', '0x22bed3', '0x3edfb2', '0x79fbc3', '0x79edb2', '0x7a038d', '0x7647f0', '0x79ea04', '0x79e4f6', '0x7a0c1a', '0x146f96', '0x79d707', '0x7a05ea', '0x79edbf', '0x79f1d2', '0x7a6d99', '0x7a012b', '0x79f0e0', '0x79e039', '0x7a1061', '0x79fd57', '0x79e242', '0x7a0c4d', '0x79bfdd', '0x79ccb6', '0x79d7c0', '0x7a1696', '0x78fadb', '0x79d4e5', '0x6f7a11', '0x77ccb7', '0x79fb2e', '0x7a1cb5', '0x79e24c', '0x2f51db', '0x79f100', '0x6977a7', '0x79ef6a', '0x7a047a', '0x420e04', '0x7a075b', '0x79fa90', '0x79ddc9', '0x79d0e3', '0x7a05ca', '0x79c200', '0xe2477', '0xaf526', '0x79ea44', '0x7899a5', '0x79b229', '0x79c8b1', '0x79cdaa', '0x79d962', '0x7a042d', '0x79c38f', '0x79ca3a', '0x79ec65', '0x79fc21', '0x79d093', '0x7a0cd0', '0x79de49', '0x79c034', '0x79f910', '0x79cbb7', '0x797fa2', '0x79c9de', '0x7a33fe', '0x79ce54', '0x7a160f', '0x79daeb', '0x79e529', '0x7a1083', '0x7a0eb4', '0x79c90b', '0x7a01d0', '0x79e7dd', '0x770b4a', '0x79b1bc', '0x78ec73', '0x7a5087', '0x7a3037', '0x79e21d', '0x79ed15', '0x79eab2', '0x79d7ee', '0x797c62', '0x79e1fc', '0x789d70', '0x79fba0', '0x22d2dc', '0x79ee82', '0x79ec6d', '0x79eade', '0x7a02ee', '0x79bc3c', '0x279bc9', '0x7a2051', '0x79d100', '0x78cf5b', '0x78bbb0', '0x0', '0x79ce38', '0x7a02dc', '0x79d90e', '0x79c28c', '0x78b051', '0x79dec7', '0x78d68d', '0x79ee84', '0x79f46d', '0x79d418', '0x46214f', '0x1fd5f0', '0x770678', '0x5c0e8c', '0x0', '0x2da687', '0x7525ca', '0x78434e', '0x79f5cd', '0x788405', '0x79ca5e', '0x5ada63', '0x78b310', '0x78995d', '0x7a0b9b', '0x7a1d44', '0x79f5cc', '0x442804', '0x75fc75', '0x731329', '0x79b1d9', '0x6fd109', '0x79c4c1', '0x79857b', '0x79cbba', '0x7968b8', '0x79a297', '0x2058a', '0x79ef62', '0x79eff7', '0x2e34b8', '0x79cc60', '0x6e9f24', '0x36c032', '0x795fe2', '0x79d4af', '0x79f74e', '0x368bb4', '0x6dfa22', '0x57fedb', '0x798f83', '0x1503f8', '0x5bb877', '0x62a58e', '0x79f55d', '0x1b4459', '0x79ae65', '0x79ab9e', '0x797080', '0x7a11bb', '0x79ca74', '0x69e30b', '0x79cc33', '0x79aa34', '0x79c0cf', '0x76b9fb', '0x424740', '0x6d90cd', '0x5005e1', '0x5bdd3c', '0x33bb84', '0x86f2f', '0x79369b', '0x616f9d', '0x367665', '0x6effd4', '0x36a1dd', '0x8f03', '0x78ad70', '0x4021ef', '0x19cdc1', '0x5c7752', '0x7970c6', '0x7a0d52', '0x7a10dd', '0x7a055e', '0x57b6ea', '0xed7e1', '0x4a435', '0x4915e1', '0x79693b', '0x6334ba', '0x79e5e5', '0x6eec0f', '0x7a1366', '0x793ed5', '0x7999f8', '0x32d627', '0x7a024f', '0x7959a4', '0x79fa1c', '0x79fd3a', '0x6adc7e', '0x6aa49a', '0x7a0506', '0x64e2d2', '0x406816', '0x64e8ae', '0x69405f', '0x4f7e73', '0x79c532', '0x779e0b', '0x7a0870', '0x5b798a', '0x79a983', '0x7a034c', '0xd0bf2', '0x580007', '0x5aa978', '0x79e4b7', '0x7a0d5b', '0x5b8a4a', '0x0', '0x79732f', '0x79e555', '0x7a0731', '0x1cf0dd', '0x599cae', '0x79e3c1', '0x4c2c34', '0x2c12e0', '0x5b526c', '0x4d7f61', '0x56a953', '0x20096c', '0x1b1f67', '0xfc285', '0x792e1c', '0x7962cf', '0x79fafb', '0x79e4ef', '0x2c4d36', '0x10b26d', '0x79e1e4', '0x79c7f8', '0x79b301', '0x5adfa6', '0x793dec', '0x16802e', '0x79ea0b', '0x7a022d', '0x7980d7', '0x3968a7', '0x5b4795', '0x3088fa', '0x6aa64a', '0x7a1354', '0x79d964', '0x79fd42', '0x79c30c', '0x1794e5', '0x79c024', '0x79d1a4', '0x770271', '0x4c4359', '0x6a7f1d', '0x6ab033', '0x79dc02', '0x79e118', '0x5b84ba', '0x3ce0df', '0x3cce5c', '0x685c13', '0x2db5ce', '0x480f1c', '0x78bd38', '0x6a5001', '0x7a0696', '0x41c056', '0x79ade2', '0x6a93c7', '0x79f4a4', '0x761082', '0x5b7dd2', '0x7a09be', '0x72811a', '0x46f578', '0x79df28', '0x5d98a6', '0x79f63f', '0x298728', '0x79edda', '0x4c5019', '0x79cc90', '0x6ad3e6', '0x34ad30', '0x5b78dc', '0x79f160', '0x79c651', '0x6a979a', '0x6acaa0', '0x6ab10c', '0x79d2de', '0x57fd3', '0x798669', '0x79eb31', '0x792a41', '0x789903', '0x5b5941', '0x6a88e7', '0x5b7f3a', '0x4c47fd', '0x783460', '0x5b0e74', '0x6a8a6b', '0x7de1d', '0x2665b8', '0x781175', '0x786748', '0x774d94', '0x79a9bd', '0x79b13f', '0x3b8d8b', '0x76dd4d', '0x7a0443', '0x78cb6c', '0x79d657', '0x0', '0x7a0e9a', '0x12c0c9', '0x0', '0x79bc8b', '0x362238', '0x79f767', '0x4c0025', '0x79d6d1', '0x3cf663', '0x5b8890', '0x798b59', '0x3cec08', '0x7a0f34', '0x3a1a4e', '0x7838cd', '0x0', '0x6ac86e', '0x2feb62', '0x79428b', '0x6da935', '0x79f386', '0x78e88d', '0x79e440', '0x60805e', '0x6f6c8c', '0x79d5a9', '0x78ed48', '0x774a9f', '0x79dffd', '0x2165f4', '0x79e209', '0x79d5c2', '0x589f4d', '0x658667', '0x18ed0b', '0x5208', '0x7828a0', '0x2288f6', '0x8777f', '0x3cbc1d', '0x7a1ef3', '0x79cbf8', '0x79ea60', '0x1a4a4f', '0x7549c7', '0x789350', '0x79f6c4', '0x318c67', '0x79d48d', '0x4e8da', '0x66b4f9', '0x78d2cb', '0x79f7fd', '0x785168', '0x783b18', '0x79d5a7', '0x79c9fa', '0x77640a', '0x79d011', '0x799cac', '0x1823ec', '0x2de21e', '0x79090e', '0x79b7a9', '0x2fea3d', '0x3427f1', '0x146c91', '0x77a52a', '0x1faf06', '0x387b04', '0x76dd82', '0xf73f1', '0x7696e6', '0x77b12f', '0x22962b', '0x6188f8', '0x76b49f', '0x52039b', '0x3b83ce', '0x7a58b6', '0x79e9ff', '0x5798c4', '0x21d28a', '0x6ac14e', '0x79c40f', '0x8d09f', '0x7757f8', '0x780b1d', '0x10a6e0', '0x78c0e1', '0x78daea', '0x5b7c74', '0x79d999', '0x6993c2', '0x4066e9', '0x4221ac', '0x0', '0x461314', '0x790c0d', '0x656c0a', '0x79abd4', '0x3aac10', '0x79ed93', '0x5208', '0x19b6bc', '0x9916c', '0x65d781', '0x6f347', '0x4b9d13', '0x4c1347', '0x79f585', '0x2d98e3', '0x77de64', '0x7a0665', '0x20b5c3', '0x796a60', '0x2ab239', '0x113bb6', '0x4383b', '0x603c06', '0x74d60b', '0x79f6c1', '0x79fc2f', '0x581cfe', '0x40a056', '0x58683f', '0x7904a6', '0x1e299d', '0x488b3c', '0x78f236', '0x53146e', '0x46aff6', '0x77d821', '0x1d4aab', '0x410373', '0x76d2b3', '0x633f37', '0x400ac0', '0x79ee53', '0x79b9de', '0x7a0dd6', '0x554748', '0x499bb1', '0x3adba0', '0x7929e5', '0x797a46', '0x498708', '0x79cb1c', '0x74edff', '0x4e6cd5', '0x0', '0x799294', '0x6c6fc5', '0x78f65b', '0x4696ca', '0x770d7f', '0x782cb4', '0x77aca1', '0x78ad9a', '0x79f0e3', '0x79c94b', '0x152a16', '0x517151', '0x1aa50c', '0x7a0292', '0x2f7f79', '0x63440e', '0x10e11d', '0x2985c1', '0x6cf437', '0x752532', '0x2f0302', '0x7a08a5', '0x3efb9e', '0x6b940d', '0x5c4f5e', '0x79cb0c', '0x793d84', '0x7957bf', '0x7882d2', '0x79d156', '0x79fbd3', '0x79711e', '0x79e888', '0x79cffe', '0x76af46', '0x7970a2', '0x276035', '0x74a5e1', '0xcae81', '0x0', '0x14b42c', '0x79da97', '0x771e35', '0x788396', '0x0', '0x78f8d3', '0x778716', '0x7a1673', '0x6f9601', '0x76b498', '0x79d025', '0x79ef83', '0x7a0d00', '0x704522', '0x7a1aab', '0x79c30f', '0x79ff54', '0x404a49', '0x358322', '0x5aaaca', '0x79fcc7', '0x79d5a8', '0x77bf6a', '0x79f717', '0x1b0cc1', '0x3a3bcf', '0x7a0353', '0x6c814b', '0x768ed0', '0x77b4a4', '0x4633d8', '0x7a1c32', '0x79259c', '0x7a523b', '0x79cd2b', '0x79ff8a', '0x7466ac', '0x4e7f9a', '0x694b69', '0x79f482', '0x77d930', '0x79fdf7', '0x79c382', '0x79c3d6', '0x2dd214', '0x79e726', '0x79f156', '0x79f6e9', '0x7a4ecd', '0x7a0484', '0x5b86c3', '0x465b3e', '0x6ab7d8', '0x6ee4b0', '0x7a0a4f', '0x79ef65', '0x6a83a8', '0xa61d4', '0x4c1c3b', '0x6a8e7a', '0x4b5fa8', '0x79c87f', '0x1b497a', '0x339ac7', '0x79d8ff', '0x79ea9b', '0x5b4162', '0x798d31', '0x79dbb6', '0x79dd22', '0x79c9ca', '0x7a22d7', '0x7a0c04', '0x79b725', '0x7a0403', '0x79e16b', '0x7a023b', '0x79e620', '0x79e444', '0x79cec6', '0x79c330', '0x79dd01', '0x7a1b0a', '0x79ccf5', '0x1d237d', '0x79cbd6', '0x79f62e', '0x48b30d', '0x79cc43', '0x3205d1', '0x7a11bc', '0x78cfc4', '0x7a0aa8', '0x68a878', '0x79dddf', '0x79c325', '0x79df44', '0x79b3e5', '0x7a0fbe', '0x613c04', '0x474910', '0x795b2f', '0x7915c8', '0x78f842', '0x7896e0', '0x791a18', '0x791ed5', '0x7a013c', '0x78bb46', '0x537335', '0x77aff0', '0x7a3650', '0x79d0d4', '0x50b57d', '0x7794f0', '0x77918a', '0x76b95d', '0x1459bb', '0x24a7b4', '0x562645', '0x79d668', '0x437c32', '0x6de982', '0x79fc22', '0x789083', '0x76c659', '0x7198e4', '0x34c788', '0x462cd', '0x16b669', '0x79eeaf', '0x78365d', '0x6b0ad6', '0x42ba89', '0x11e9ec', '0x784541', '0x6689ec', '0x79d7a8', '0x7a0418', '0x0', '0x79f1eb', '0x57e4d9', '0x79f4d7', '0x79ff7f', '0x7a09a3', '0x79f966', '0x79c230', '0x7a3002', '0x7a02bb', '0x7a55c0', '0x79fea9', '0x1764ff', '0x3a4822', '0x79f818', '0x387ea1', '0x3e5a2', '0x77f996', '0x79e6c6', '0x7a1b2c', '0x79fd50', '0x7a02c2', '0x7a05f5', '0x79e1f5', '0x79ec9e', '0x79f30b', '0x7a0535', '0x7a0d4f', '0x79e1e8', '0x0', '0x79eb04', '0x7a2a29', '0x79f597', '0x78b756', '0x796e69', '0x79d5b0', '0x6fa556', '0x39a196', '0x79cf23', '0x79f79a', '0x79ddc4', '0x7a0e93', '0x79dea8', '0x79e997', '0x79c0e0', '0x6ac69a', '0x0', '0x692b59', '0x6986c3', '0x7a0be4', '0x3e2cc8', '0x5a668a', '0x7a0cca', '0x79c5e0', '0x790dd9', '0x79f828', '0x64d732', '0x7a2442', '0x649fe7', '0x0', '0x7a0f5b', '0x79e526', '0x79cc6a', '0x7a0acf', '0x779df1', '0x661a3f', '0x7a0107', '0x6a871b', '0x79ebbd', '0x4c5dee', '0x6a929c', '0x6a9e4d', '0x79d2d5', '0x7a0c19', '0x79839f', '0x79d557', '0x79dbf5', '0x784ee8', '0x6d59e4', '0x7a1977', '0x7a121d', '0x79f252', '0x7a32a1', '0x79e87e', '0x79f90d', '0x79e326', '0x79f4d4', '0x7a228d', '0x79e41a', '0x3480c1', '0x7a10c3', '0x73014c', '0x7a110c', '0x79d125', '0x79fc1d', '0x79f0d9', '0x79f47a', '0x7a0a89', '0x7a1fb3', '0x79d295', '0x79ea26', '0x79ea0b', '0x79ec44', '0x79f639', '0x7a2755', '0x799d7c', '0x79c620', '0x79d216', '0x79f1a5', '0x79e069', '0x7a00bc', '0x79c676', '0x79f03d', '0x79ef20', '0x7a0fdd', '0x7a07a2', '0x79c24e', '0x79f04e', '0x79e2c0', '0x7a0be8', '0x79d62e', '0x79cf0f', '0x79fd01', '0x79b2b9', '0x79d93a', '0x795855', '0x7a5116', '0x797cbe', '0x7a0b44', '0x79c083', '0x79e728', '0x79f3ef', '0x7a19af', '0x79a472', '0x7a073e', '0x7a14a5', '0x599e67', '0x7a0d39', '0x7a25fc', '0x79e3f1', '0x7a0c20', '0x79e8da', '0x789621', '0x0', '0x79e158', '0x7a0ad9', '0x79c321', '0x79e85e', '0x7a0763', '0x7a0897', '0x777f52', '0x79c0fd', '0x7a1f87', '0x7a01d2', '0x7a1190', '0x7a027f', '0x79fcf3', '0x7a07fd', '0x79fd09', '0x78e730', '0x79cafc', '0x79daa3', '0x7a0f11', '0x79870b', '0x79d92f', '0x79c37e', '0x79c4c9', '0x79d879', '0x788e93', '0x79c946', '0x79d59b', '0x79c00e', '0x7a056a', '0x79ec0b', '0x79ff14', '0x79c732', '0x7a051a', '0x79db4e', '0x79f674', '0x7a0b46', '0x42afc6', '0x7a015b', '0x0', '0x79da2c', '0x79d61c', '0x79c10c', '0x28d3a3', '0x79c2cb', '0x456226', '0x79d54b', '0x79d883', '0x79d615', '0x79eebf', '0x79e283', '0x7a11a4', '0x79fc56', '0x79c3db', '0x79d15b', '0x7a0e6f', '0x79f8e9', '0x79decc', '0x79eef3', '0x79f8eb', '0x7a1034', '0x79fe7d', '0x79e96b', '0x7a0a6d', '0x79d495', '0x79fc60', '0x76334c', '0x75ee8f', '0x7a0b14', '0x79d84e', '0x7a0525', '0x79fdea', '0x0', '0x3e034b', '0x718cef', '0x79f80d', '0x7963b1', '0x794e0f', '0x7a1622', '0x78e42e', '0x793407', '0x0', '0x79dd88', '0x7a00be', '0x6e8852', '0x79ccf5', '0x6e0f2a', '0x62eec1', '0x79cacd', '0x79d646', '0x54cb13', '0x78a0c0', '0x77e69d', '0x77b941', '0x688648', '0x79f81b', '0x640835', '0x6507d0', '0x6ee69a', '0x77e14f', '0x6864c7', '0x17f2fc', '0x767468', '0x16b66f', '0x796e2b', '0x776d14', '0x505a7b', '0x27f506', '0x48db14', '0x79fc22', '0x0', '0x75f20c', '0x737c15', '0x47dcf8', '0x0', '0x79d935', '0x78f85b', '0x2b1cd2', '0x79df4a', '0x7a0a73', '0x9e5aa', '0x4cac1f', '0x1f48f2', '0x7a0cbd', '0x79e53b', '0x0', '0x132d72', '0x5c98e2', '0x70bce6', '0x76be6f', '0x357857', '0x0', '0x75e036', '0x778c9f', '0x79c528', '0x7a0edb', '0x7a0012', '0x7a04eb', '0x79c8e5', '0x79dd2d', '0x79d2bd', '0x7a02bb', '0x79c899', '0x79f551', '0x79d33c', '0x79eb60', '0x7a151f', '0x0', '0x77964e', '0x79fac4', '0x79d38c', '0x7a1f11', '0x7a06c1', '0x7a0e79', '0x78dc74', '0x7a04db', '0x7a0617', '0x79d57c', '0x0', '0x79c200', '0x79dec4', '0x79d1e5', '0x7a0ab4', '0x7a0f33', '0x79c4d0', '0x7a09b4', '0x79c464', '0x79d95f', '0x7a150e', '0x79f1f5', '0x79d3c2', '0x0', '0x79c246', '0x6ab40d', '0x7a06e4', '0x6aa387', '0x4c458a', '0x78d135', '0x79cca1', '0x79cbdb', '0x6ab59d', '0x7a0dc4', '0x7a1887', '0x7a10dd', '0x7a3b93', '0x7a1f14', '0x79fa69', '0x79cfd7', '0x7a0487', '0x79d62e', '0x79d0a2', '0x7a03c6', '0x79dccd', '0x7a0f4e', '0x7a025b', '0x7a23d9', '0x79d540', '0x79c927', '0x79c9a7', '0x79de1d', '0x0', '0x7a1e12', '0x79cf7d', '0x7a0855', '0x7a0d90', '0x79fd82', '0x79c17f', '0x79d104', '0x7a07f4', '0x7a10d7', '0x79dcff', '0x79f009', '0x79f5ee', '0x79c45c', '0x79a2dd', '0x7a04bb', '0x7a25f0', '0x0', '0x7a0c59', '0x79fec8', '0x79f271', '0x79f2d8', '0x7a042a', '0x7a5198', '0x7a16ee', '0x79f323', '0x79f447', '0x7a075b', '0x0', '0x79e70e', '0x78ec17', '0x78cb7c', '0x5d2e80', '0x79dd51', '0x7a1f18', '0x79fbe2', '0x79edb4', '0x7a6509', '0x79ec5d', '0x7a0342', '0x7a2322', '0x79fa58', '0x7a18df', '0x788fb0', '0x79ec84', '0x79dd77', '0x79c2b2', '0x7a0477', '0x7a20fb', '0x79c765', '0x79e044', '0x79d55e', '0x7a0596', '0x79f151', '0x79c34c', '0x79f075', '0x7a0366', '0x79fc72', '0x79f3e7', '0x79e7ae', '0x79d19d', '0x760d4b', '0x788e64', '0x7a1e80', '0x0', '0x79f43e', '0x13af47', '0x7a24f7', '0x79d4e7', '0x79d2a2', '0x79e94c', '0x79d353', '0x7a0a55', '0x7a050f', '0x79d337', '0x79e45b', '0x7a1215', '0x79de58', '0x79de1b', '0x7a08ec', '0x7a4843', '0x7a10f3', '0x7a1d16', '0x79f7ad', '0x79e706', '0x7a0352', '0x79f107', '0x7a0722', '0x79ff5f', '0x79ca45', '0x79eeec', '0x798a17', '0x79ce38', '0x2592be', '0x79d981', '0x79df4b', '0x79d108', '0x7a0f19', '0x79fb2a', '0x79d57d', '0x79ce7d', '0x79f958', '0x79c119', '0x79e9e6', '0x79ff22', '0x7a04e6', '0x7a03a3', '0x79e63c', '0x79ebfe', '0x7a0d9f', '0x79ed25', '0x79f0b8', '0x7a093d', '0x7a0577', '0x79f388', '0x7a120c', '0x789ed9', '0x7a130b', '0x79d790', '0x7a14f9', '0x7a1fb2', '0x79d915', '0x79f47d', '0x79f67a', '0x79c89c', '0x7a0503', '0x79f9fc', '0x7a1b88', '0x79d0d1', '0x7902ec', '0x79f07c', '0x7a142e', '0x7a0c4b', '0x79d327', '0x79ef81', '0x7a050e', '0x79f6d2', '0x79cd24', '0x79f8aa', '0x79ef57', '0x7a20ab', '0x79cf8e', '0x79ec50', '0x79f2aa', '0x79e0ec', '0x79f84d', '0x72a522', '0x79c332', '0x7a85d0', '0x7a0333', '0x7a0b11', '0x4610ab', '0x7a0446', '0x7a118c', '0x79f576', '0x7a0b4a', '0x7a0807', '0x7a1622', '0x7a08d9', '0x591e61', '0x7a1cd6', '0x74290f', '0x7a0b00', '0x79c54d', '0x7a1896', '0x7a0e1f', '0x79fd08', '0x7a10a5', '0x79bce9', '0x79e5ee', '0x79ffc5', '0x79df63', '0x75aa32', '0x79de27', '0x79f075', '0x79fdb2', '0x7a0412', '0x7a2c5b', '0x7a1b97', '0x79df59', '0x79cbe2', '0x79ce7e', '0x79e4c2', '0x79c4c6', '0x79e04d', '0x79f0a2', '0x7a47ef', '0x7a261f', '0x79e405', '0x7a0229', '0x7a03d8', '0x7a385a', '0x7a0c8b', '0x7a10df', '0x7a2aef', '0x79f601', '0x79df33', '0x79c905', '0x7a0e8f', '0x79eebf', '0x79b454', '0x79ce91', '0x7a0c83', '0x79ca87', '0x79e694', '0x79eed5', '0x79cbe8', '0x79f861', '0x788f28', '0x7a1183', '0x79fa30', '0x79f00d', '0x79f4df', '0x796fee', '0x79d3a7', '0x7a014f', '0x79d0a5', '0x79ed85', '0x79f33b', '0x79f2c9', '0x79e126', '0x7a097e', '0x79f2be', '0x7a1f59', '0x7a3988', '0x79d277', '0x7a0449', '0x7a0142', '0x7a0ca1', '0x7a3d03', '0x79fc58', '0x7a0926', '0x7a0da0', '0x78ce66', '0x79e0b2', '0x4631f2', '0x79ea89', '0x79ebc4', '0x762ce9', '0x785c8c', '0x7a2876', '0x79cda0', '0x79ce71', '0x79e451', '0x79e92c', '0x79e69f', '0x79e5ce', '0x796624', '0x79dcaf', '0x79e4a0', '0x79d3bd', '0x79fb32', '0x7a1281', '0x79e516', '0x7a0918', '0x79f232', '0x7a049b', '0x79f68d', '0x79e0cb', '0x79f711', '0x79d48a', '0x79ec7b', '0x79d096', '0x79cfe7', '0x79e378', '0x7a0f89', '0x79d9b9', '0x79e2b5', '0x7a78a1', '0x38663e', '0x7a314f', '0x79dcb9', '0x7a14fd', '0x79d14a', '0x7a02a5', '0x79f908', '0x7a0679', '0x79c95d', '0x79ee48', '0x7a1141', '0x79e25c', '0x78fd5d', '0x79d8e6', '0x79e23b', '0x7a0474', '0x7a0d76', '0x79e57a', '0x79e8b7', '0x79ecf0', '0x79d4cf', '0x7a2297', '0x7a0132', '0x79da96', '0x7a0fb3', '0x786c18', '0x7a06dd', '0x7a24f7', '0x79c74e', '0x79db75', '0x7a0a69', '0x79e772', '0x7862be', '0x79df2c', '0x79e455', '0x79f127', '0x79d9f1', '0x79d183', '0x79f1f4', '0x7a184f', '0x779ab6', '0x79fcac', '0x79d597', '0x7a01d7', '0x79f5a4', '0x79fc14', '0x7a0ec2', '0x79eb7f', '0x79cf8e', '0x7a0e65', '0x7a07fd', '0x7a03fa', '0x7a0347', '0x79eb65', '0x7a02c5', '0x7a2487', '0x79f03f', '0x76e92d', '0x7a09e5', '0x79fcee', '0x7a4f0d', '0x79d63d', '0x0', '0x7a48c4', '0x7a0508', '0x7a1939', '0x79d77d', '0x79f384', '0x79e4a4', '0x79d048', '0x7a012d', '0x0', '0x79f09e', '0x7a1b9f', '0x79e210', '0x7848c1', '0x79d354', '0x7a4a57', '0x7a50c3', '0x79fbbe', '0x79db44', '0x79fe29', '0x7a1503', '0x79cc5c', '0x79fdf8', '0x79f403', '0x7a026f', '0x79f544', '0x79ecbf', '0x7a1e3c', '0x79c4bd', '0x7a1573', '0x79c416', '0x79e0b9', '0x731785', '0x79f5b4', '0x79c4f6', '0x5b558b', '0x79cf6a', '0x7a09fa', '0x79ef0f', '0x6a99c1', '0x79f7d4', '0x79c9a5', '0x79ca6f', '0x79f771', '0x7984bd', '0x79ae02', '0x39c506', '0x79ce2d', '0x79d669', '0x7a1497', '0x0', '0x7a1b0b', '0x79f033', '0x762305', '0x79d9c6', '0x3a8c8', '0x7a04cd', '0x79d844', '0x79faa9', '0x79f20e', '0x48ca2e', '0x79d895', '0x7a4bd5', '0x79ff1d', '0x7a0c83', '0x79f80c', '0x79ed74', '0x78ec61', '0x7a0eec', '0x7a0289', '0x79e5bf', '0x79c6b2', '0x79e176', '0x79de56', '0x79df4c', '0x7a02cc', '0x7a0de2', '0x79dab6', '0x79c988', '0x7a0eae', '0x79dbce', '0x79d8e5', '0x79b485', '0x79d619', '0x7a18f0', '0x79eda3', '0x7a0b1b', '0x7a5f32', '0x7a110e', '0x79d743', '0x79edbc', '0x79eb60', '0x79c177', '0x7a076c', '0x12b038', '0x79c1bd', '0x7a0a30', '0x7a3277', '0x7a532c', '0x79e319', '0x7a3fe3', '0x7a092a', '0x79e887', '0x79fa44', '0x7a19f4', '0x7a0fa0', '0x7a00e9', '0x79db98', '0x79e746', '0x7a425c', '0x79db2d', '0x7a25c7', '0x7a3bf1', '0x75a55e', '0x0', '0x79e5f8', '0x79f20e', '0x79c93d', '0x789f40', '0x79f630', '0x7a0492', '0x79c8f9', '0x0', '0x79f20b', '0x79f17c', '0x79ec28', '0x7a0979', '0x79ea63', '0x7a0884', '0x79d5df', '0x79eef3', '0x79f079', '0x796a91', '0x79dbc5', '0x7a0dd0', '0x79cbcc', '0x79a1b5', '0x79f945', '0x79d2f6', '0x79e3fa', '0x7a0a35', '0x6225a8', '0x79d2de', '0x7a0f39', '0x79d106', '0x7a1977', '0x7a0ca9', '0x79e07e', '0x79fc87', '0x33a8d2', '0x7a0d6c', '0x7668bd', '0x79d637', '0x7a0257', '0x79d6b5', '0x79dc7e', '0x7a3f3a', '0x33ecfd', '0x79cc3d', '0x79d765', '0x4299cd', '0x79ed08', '0x79d60f', '0x79e758', '0x7a0718', '0x7a0bf1', '0x0', '0x79eb99', '0x79f29c', '0x7a0de9', '0x7a3de8', '0x7a6c81', '0x7ab892', '0x2d3978', '0xda78d', '0x599fe2', '0x7a1db4', '0x79e47d', '0x7a1336', '0x79f2b4', '0x79eb3f', '0x79e634', '0x1e234c', '0x79ec40', '0x7a1f2f', '0x2dd519', '0x79eccb', '0x79d512', '0x7a0284', '0x6b4846', '0x79d563', '0x7a2578', '0x79e438', '0x36e919', '0x4a64f', '0x79f920', '0x6b44db', '0x79fedc', '0x6b5f35', '0x79f694', '0x43f127', '0x7a11d0', '0x796039', '0x79d43f', '0x79d3c5', '0x79f007', '0x6587fd', '0x79d37a', '0x79cd6e', '0x79da7b', '0x79d5be', '0x30e31', '0x762434', '0x78f3c7', '0x79a1cc', '0x6afe49', '0x730c88', '0x7911ed', '0x79dae4', '0x6f6776', '0x3f93ef', '0x74250f', '0x79186b', '0x79c1bf', '0x79fc52', '0x798f26', '0x4a40d9', '0x7a108b', '0x74cee5', '0x79da65', '0x7a0f1b', '0x785986', '0x7a0ca7', '0x79e13a', '0x6b798', '0x79ffb0', '0x70cef8', '0x79f6bb', '0x7600c5', '0x795ac0', '0x7a0b5b', '0x79f8ee', '0x7a0833', '0x7a0e98', '0x79d255', '0x79deac', '0x0', '0x79e340', '0x79e6e5', '0x7a1387', '0x79e795', '0x79c81f', '0x79df14', '0x79e7f3', '0x74f920', '0x6a0c93', '0x787673', '0x79f4da', '0x796f5d', '0x0', '0x7a0469', '0x79e324', '0x79fe6a', '0x6eb5d9', '0x7a202b', '0x3b9052', '0x797018', '0x790ccc', '0x79c9ac', '0x7a0c5b', '0x79f7a3', '0x79c906', '0x79aab3', '0x7a1d7e', '0x7a0cdd', '0x7a0641', '0x7439fd', '0x78b0fb', '0x79c43b', '0x7a110f', '0x79ed09', '0x33d2e0', '0x79dc32', '0x79ae92', '0x715d51', '0x6f82da', '0x78f88b', '0xa410', '0x78ea1d', '0x7a4ca0', '0x663e0a', '0x7a0ed6', '0x7a0590', '0x59f03f', '0x79d7d0', '0x78d5ff', '0x79e6e7', '0x7a0530', '0x7a014e', '0x759a54', '0x79eb3e', '0x79e7e5', '0x78893b', '0x79cbbe', '0x7999ca', '0x79d171', '0x79e506', '0x7895f2', '0x0', '0x71bcc8', '0x79e9f0', '0x7962e2', '0x6e0f45', '0x79a091', '0x79d22f', '0x79fcd1', '0x79b400', '0x79dc50', '0x79c56b', '0x644abb', '0x79e046', '0x7a0794', '0x79fd73', '0x79f858', '0x7a10e3', '0x745b8d', '0x7a385e', '0x79f748', '0x7a2226', '0x787e86', '0x79e486', '0x786698', '0x791328', '0x3ed3e2', '0x79e632', '0x775ea5', '0x2d69f5', '0x7a117f', '0x797668', '0x79537e', '0x7981a7', '0x7a2b81', '0x792c0d', '0x79fe94', '0x79dd39', '0x7a0b31', '0x7a0027', '0x2c6838', '0x5018d', '0x7a0c64', '0x797f36', '0x7912e7', '0x79d8f0', '0x17f470', '0x79e42c', '0x7251da', '0x79f387', '0x79ff58', '0x5912e8', '0x79d7a1', '0x79cc9f', '0x546846', '0x79d38e', '0x79d5bb', '0x7984ad', '0x520bbf', '0x798d27', '0x79ed19', '0x78e764', '0x5ec2ae', '0x7a099d', '0x79febc', '0x79d4ca', '0x723688', '0x0', '0x79c499', '0x79b64b', '0x79e771', '0x7a026e', '0x683b34', '0x79fd74', '0x79f360', '0x7a3890', '0x7997b4', '0x3fe511', '0x6fcc52', '0x79df46', '0x3dfc18', '0x79e559', '0x79717c', '0x79ffff', '0x0', '0x7548bb', '0x798ace', '0x7a5238', '0x79ee30', '0x79e37e', '0x7a119f', '0x79f99c', '0x31e8b1', '0x7a0fdd', '0x0', '0x7a4296', '0x7a11aa', '0x79f18f', '0x79e322', '0x7a078e', '0x79e0e0', '0x79dddf', '0x79f5f7', '0x79eacc', '0x798afb', '0x15ea0a', '0x78464f', '0x34d38', '0x7a19b3', '0x794c91', '0x7a0b86', '0x79deba', '0x79d8e9', '0x79c33a', '0x79e5a6', '0x79ef23', '0x79d266', '0x510713', '0x475ac9', '0x1ad2a7', '0x7a1056', '0x6508ae', '0x7a0455', '0x79cb12', '0x7a00c6', '0x796534', '0x31090d', '0x2754b9', '0x7a23f6', '0x3d1ce8', '0x79803c', '0x1a03a5', '0x79ca7e', '0x37f18e', '0x79e2c6', '0x79d2d0', '0x801e8', '0x79f6d3', '0x7a07e6', '0x7a0892', '0x522c06', '0xf7c3b', '0xca80b', '0x4dcd9b', '0x4feca1', '0xcde0a', '0x79f69f', '0x79e733', '0x79c7ed', '0x36cb5b', '0x79c825', '0x3dbf9f', '0x79faff', '0x79d52d', '0x7a3716', '0x33a832', '0x160f57', '0x1b6913', '0x4f1d75', '0x12ecd2', '0x421587', '0xd1f9f', '0x2e62b5', '0x7a210a', '0x79e2e7', '0x79f14d', '0x7a0056', '0x566919', '0x79e2b9', '0x5289c4', '0x76d602', '0x40d8ef', '0x7a11e6', '0x478c81', '0x78e507', '0x79dca1', '0x4b4242', '0x7a0c9f', '0x79fc7e', '0x79fcac', '0x4c862f', '0x78e525', '0x7a04bd', '0x79fdba', '0x79d9dd', '0x7d8ce', '0x7a26d6', '0x7a09db', '0x77f448', '0x7a0f30', '0x73f23', '0x79f6af', '0x7a0922', '0x7a3819', '0x79f16f', '0x79e120', '0x79fa19', '0x7600da', '0x79de96', '0x54ca71', '0x7904ac', '0x79fa51', '0x79f3ac', '0x79c3cb', '0x189cf0', '0x79e179', '0x79f9f4', '0x271a1b', '0x5fb0ac', '0x78f1ac', '0x79efc4', '0x79a620', '0x2c0e99', '0x79868f', '0x79f42f', '0x3aeb1f', '0x79e425', '0x79c8dd', '0x798882', '0x79f13f', '0x79a007', '0x15ab27', '0x79e98e', '0x79fde0', '0x79c414', '0x280ecf', '0x79c3b0', '0x7996e3', '0x79e132', '0x7a0898', '0x58b49a', '0x7a10ac', '0x0', '0x793add', '0x79fb9b', '0x48305a', '0x5b7449', '0x3cd34c', '0x4c2e80', '0x2db15e', '0x79f24d', '0x79fabd', '0x5b4808', '0x713249', '0x3cbbd5', '0x7a25e7', '0x79fb35', '0x5b5ab5', '0x5b6af2', '0x5b8657', '0x6aa12a', '0x79fe6d', '0x7a019e', '0x7a0108', '0x79a0af', '0x7a0e3c', '0x2e744b', '0x79df66', '0x78b3d0', '0x7a0761', '0x79d9a3', '0x796a7f', '0x79f4bf', '0x7a0dec', '0x79102c', '0x79cd8f', '0x79d232', '0x7a0c1e', '0x789fd8', '0x79f59e', '0x79f8e6', '0x7a002a', '0x79d6ec', '0x7a2774', '0x78afca', '0x7a0d1e', '0x79f9d3', '0x79ec79', '0x79ed80', '0x7a27ad', '0x79e832', '0x7a0260', '0x79e2ab', '0x789c02', '0x7a19a6', '0x7a3151', '0x79d05c', '0x7a0aa6', '0x79fdc5', '0x79f9ed', '0x10d7a9', '0x79d484', '0x79fb89', '0x7a0f47', '0x799453', '0x7a0748', '0x7a3331', '0x7a2194', '0x79c0d0', '0x79eea1', '0x79d1d9', '0x7a08cd', '0x79e425', '0x785a59', '0x79d44d', '0x79f24b', '0x78a43b', '0x3f6407', '0x79dad3', '0x7941ce', '0x79ee11', '0x7a0c6b', '0x7a3196', '0x71be6d', '0x79fc70', '0x797494', '0x79fad4', '0x7a1493', '0x7a0b7b', '0x79d382', '0x79fb69', '0x79e379', '0x7a0a4d', '0x788525', '0x79cee3', '0x7a0ddf', '0x79e730', '0x79d159', '0x79ff79', '0x7a57e7', '0x79d428', '0x7a0b1b', '0x79fdff', '0x0', '0x79e8f7', '0x79d9d0', '0x79c5c1', '0x79c3d3', '0x79ea9b', '0x7a0612', '0x79e88b', '0x78a29c', '0x79f2ba', '0xcf04b', '0x79d700', '0x79d536', '0x7a021d', '0x79df16', '0x79896a', '0x7a1a0f', '0x78d90a', '0x79c83d', '0x79eff1', '0x7a16da', '0x79f44f', '0x79e382', '0x79d04e', '0x7a319c', '0x79faf0', '0x79f247', '0x7a0ddd', '0x79f179', '0x7a1097', '0x79e394', '0x79db65', '0x1465c0', '0x79c945', '0x79d3f7', '0x79df89', '0x7a0c31', '0x79d1bf', '0x7a190e', '0x79d278', '0x79c1b4', '0x79c341', '0x79ed1e', '0x79efb5', '0x7a1e9d', '0x7a11b4', '0x79d96e', '0x79fadd', '0x799641', '0x79d9f7', '0x79ffa2', '0x7a0ec3', '0x79e0d4', '0x7958ca', '0x0', '0x655c6b', '0x409e87', '0x79de4d', '0x181ec2', '0x79adc6', '0x550cfc', '0x4e0481', '0x58c04', '0x792901', '0x4367e5', '0x1099f9', '0x3fb30', '0x56de40', '0x58c556', '0x79173c', '0x78df67', '0x21998d', '0x7a02d1', '0x37e8cc', '0x762228', '0xbb327', '0x793437', '0x18d79d', '0x12d485', '0x6f5e25', '0x1ee531', '0x16cdc4', '0x79e9cd', '0x79ee78', '0x3a08e8', '0x795e72', '0x79d1d6', '0x714d73', '0xee8d1', '0x4d517b', '0x79ac40', '0x79d5ce', '0x6bb9d', '0x72b96f', '0x2d0cfb', '0x2a5349', '0x3287e', '0x79d164', '0x78b2af', '0xc9abb', '0x454b8', '0x7a0b4e', '0x79e2f5', '0x7a085f', '0x5975af', '0x79c8a5', '0x586bf9', '0x79cbc7', '0x3d1dfd', '0x78f6a8', '0x79f1ce', '0x143e29', '0x6dcd13', '0x48a2c5', '0x79c6ff', '0x74439e', '0x61fce6', '0x61947a', '0x575ae2', '0x7a0617', '0x7a0c31', '0x0', '0x31f8e5', '0x76734b', '0x797d71', '0x39b093', '0x795245', '0x572c0f', '0x3b973', '0x7939ca', '0x79f824', '0x78becb', '0x79e745', '0x79236b', '0x34f5af', '0x0', '0x78ad58', '0x0', '0x582eed', '0x798158', '0x79d378', '0x79fdc2', '0x79dbec', '0x79de3d', '0x2e8461', '0x246b42', '0x4fd6f7', '0x6bef28', '0x641f70', '0x2f20f0', '0x0', '0x797a77', '0x7968e1', '0x4bd11d', '0x7419f2', '0x75edee', '0x707abb', '0x79f5d8', '0x78fb64', '0x522cfb', '0x794abc', '0x2e5733', '0x139e6c', '0x78b7db', '0x68ece1', '0x767807', '0x79c7d4', '0x3bf371', '0x7a0f87', '0x3590bd', '0x6e6be3', '0x5f2d8', '0x79c191', '0x79d73b', '0x2acb8b', '0x798d97', '0x79fa1e', '0x78faf2', '0x551622', '0x764f84', '0x78b67d', '0x79e19c', '0x79fdc8', '0x79f27d', '0x7a0f3d', '0x7a1377', '0x7958a4', '0x79d8ca', '0x79da38', '0x79fa64', '0x79e566', '0x2395dd', '0x63c8f1', '0x4e44fb', '0x67f1f2', '0x491f0d', '0x79d592', '0x79adb4', '0x79eea8', '0x5b210c', '0x38bfa9', '0x5bb77f', '0x7706ef', '0x2f1ad4', '0x2de722', '0x79fa4a', '0x78f68c', '0x5ecd86', '0x4c9309', '0x79c29b', '0x796993', '0x79f27c', '0x75aeb9', '0x3abcad', '0x7900a6', '0x792ac9', '0x332428', '0x78f2fc', '0x48322b', '0x79e075', '0x78d4d8', '0x796ca6', '0x77fea7', '0xcdd2b', '0x79de28', '0x7a2385', '0x6c04cd', '0x6c7e9b', '0x7a0d97', '0x331ba2', '0x5563a8', '0x79d044', '0x79d123', '0x79c508', '0x79f56b', '0x1ac94b', '0x7a05cc', '0x79d66f', '0x789fdd', '0x7a2067', '0x79c85f', '0x79ebe4', '0x795d94', '0x790e69', '0x79218e', '0x7a1f05', '0x7a0450', '0x7a080e', '0x76d0d9', '0x794505', '0x617127', '0x78dd11', '0x7a0c4f', '0x5e14ee', '0x28e2b9', '0x0', '0x7a197e', '0x7a00b3', '0x79f68b', '0x79cb72', '0x79398c', '0x7a0520', '0x4e99b6', '0x3c660e', '0x7a00ba', '0x78c108', '0x4e1d13', '0x5fcfe8', '0x7885d1', '0x0', '0x66c9ba', '0x4ee4aa', '0x292419', '0x778149', '0x287094', '0x796c54', '0x797a3e', '0x22a0f8', '0x7a111a', '0x7a074c', '0x6dc60e', '0x1c5e18', '0x1e0940', '0x6155e0', '0x7a1051', '0x27d4cb', '0x31b110', '0x7a018d', '0x4849e6', '0x454f6f', '0x1288b8', '0x696c9a', '0x79c8e4', '0x794ffe', '0xfc2a9', '0x3e3847', '0x799d26', '0x78f4d8', '0x79e165', '0x4fc71', '0x1085e4', '0x427e01', '0x29721b', '0x28045a', '0x260d08', '0x4c9466', '0x79c0c3', '0x10e1c7', '0x27117e', '0xc94eb', '0x7941a7', '0x7957ea', '0x7a0ffb', '0x7a08fe', '0x372ae1', '0x78cc7c', '0x427e42', '0x3e00d2', '0x5668ed', '0x32a624', '0x548c55', '0x78df5d', '0x79386c', '0x6346dd', '0x7a04db', '0x7a081b', '0x777b28', '0x727151', '0x766804', '0x1c0544', '0x787bd5', '0x34a27a', '0x5bc092', '0x4abd45', '0x40919b', '0x796dfe', '0x204bbd', '0x528ca4', '0x90575', '0x55cdd5', '0x79869d', '0x76e70b', '0x78b49d', '0x4863d3', '0x2535af', '0x28d453', '0x78c534', '0x79df82', '0x79d27e', '0x79ce28', '0x79f60a', '0x76e767', '0x79d3a0', '0x7a0a17', '0x7a1271', '0x79fe61', '0x79e8fa', '0x79dcfd', '0x79a254', '0x79c9a0', '0x7a2c3f', '0x770191', '0x3c0e06', '0x28f346', '0x526855', '0x607579', '0x79297d', '0x7a048c', '0x26cf4', '0xe62c9', '0x25592d', '0x35ffe5', '0x6e9617', '0x7a0a37', '0x78915d', '0x79cea3', '0x3863c8', '0x7a0505', '0x4f8c48', '0x78d457', '0x2562b1', '0x708e1c', '0x79591c', '0x79d00b', '0x793d7a', '0x2095d3', '0x78c6e3', '0x78bf40', '0x4bcb69', '0x79d4d1', '0x79f0f4', '0x585701', '0x0', '0x79a8fe', '0x41af1c', '0x660a88', '0x76568b', '0x7a0339', '0x69ea26', '0x79ce80', '0x0', '0x79c0ce', '0xcb133', '0x771f12', '0x79fdb7', '0x79c2bb', '0x79c127', '0x79c128', '0x11a9dc', '0x79f323', '0x784776', '0x59fa1a', '0x2e1886', '0x4d7535', '0x72519', '0x582883', '0x78ce82', '0x79c8a7', '0x793641', '0x79fe64', '0x2df8ee', '0x2a60d4', '0x49d996', '0x78ebcb', '0x2acc19', '0x79f218', '0x6358ff', '0x75c859', '0x2f2c88', '0x605e9d', '0x7a0624', '0x79ec6b', '0x68e866', '0x0', '0x771992', '0x757c39', '0x79ebb8', '0x4b051c', '0x2457bb', '0x5510a0', '0x1ba44', '0x79c5cf', '0x79c0c6', '0x79fc01', '0x79fcc2', '0x79e026', '0x79c925', '0x5f7d5f', '0x7a46d3', '0x307755', '0x4f3bd8', '0x6b3e79', '0x7a0a2a', '0x729f9a', '0x764295', '0x7a0945', '0x505baf', '0x7a13ab', '0x0', '0x64a0ca', '0x1b0150', '0x0', '0x79fad3', '0x515762', '0x3ece71', '0x523ebb', '0x603d3d', '0x68d93e', '0x44f2ee', '0x1123ca', '0x5304aa', '0x79de2d', '0x4d802', '0x79d7f2', '0x74c64e', '0xe3c41', '0x7a1813', '0x799c96', '0x4cd411', '0x512fcb', '0x79ea95', '0x6af87d', '0x7a014e', '0x79cbdf', '0x78f64b', '0x79ab4a', '0x6a85ef', '0x6cf8ff', '0x6d27f5', '0x5a5e9e', '0x0', '0xe15cf', '0x83ff3', '0x24e92f', '0x54549a', '0x27e453', '0x6af8b5', '0x79e969', '0xf8d95', '0x4e2200', '0x0', '0x79f64d', '0x551289', '0x2d5cbd', '0x31fc06', '0x79dcef', '0x31e2bb', '0x78259f', '0x75e00e', '0x79f4ba', '0xe78eb', '0x6366d9', '0x6eb55f', '0x703493', '0x4014a1', '0x5ea229', '0x741dad', '0x63f66a', '0x79e9e5', '0x753eaf', '0x2bb4c7', '0x1e61a2', '0x830a6', '0x1e20d9', '0x6930e6', '0x2b14c0', '0x78bb95', '0x2f7b51', '0x79d470', '0x5cd894', '0x75543b', '0x79c534', '0x78ace0', '0x1b9725', '0x543def', '0x79c14c', '0x2eb46b', '0x668135', '0x79ef6b', '0x1ceab', '0x4cc22f', '0x798844', '0x3f5df3', '0xb6ff2', '0xc4100', '0x4c7b21', '0x37db67', '0x79a5b7', '0x5e636', '0x0', '0x7546b9', '0x242e98', '0x3ce030', '0x6b58e9', '0x96a25', '0x4beec2', '0x4f50d4', '0x74a0ab', '0x79e934', '0x147e2f', '0x442bf', '0x69ba34', '0x79ee80', '0x19e8b3', '0x5dfe8e', '0x574789', '0x7631cb', '0x14cb65', '0x79e1c1', '0x78bfca', '0x14ee50', '0x79725b', '0x79fa7b', '0x79faa5', '0x6e1222', '0x621781', '0x3efa09', '0x6f03ce', '0x0', '0x7950b6', '0x7a14b4', '0x79d9a4', '0x378387', '0x7890ff', '0x215d69', '0x103d24', '0x4a138e', '0x14a1ab', '0x79e502', '0x79f942', '0x635cb9', '0x136aa', '0x32720e', '0x7a0bbc', '0x25b4ea', '0x85a5e', '0x79f3e3', '0x5c6457', '0x11e7f4', '0x3e1f95', '0x1baa04', '0x6aeb2c', '0x63486d', '0x1a0ef8', '0x79d7c5', '0x79d29d', '0x79de68', '0x78d1cf', '0x620f6a', '0x6cf45f', '0x32b3db', '0x7a08f7', '0x2a985', '0x7a1205', '0x4fb3a3', '0x7a025f', '0x622e65', '0x2d6aaf', '0x79e81b', '0x79cfa8', '0x616540', '0x462d3e', '0x7a084b', '0x7a07a7', '0x4e0c65', '0x7a0744', '0x79f758', '0x7a0cfb', '0x21743e', '0x50d75b', '0x588e67', '0x79ef51', '0x79dc27', '0x799b18', '0x79e7c2', '0x79c6e8', '0x7a1227', '0x79dc1a', '0x493755', '0x7a0d62', '0x78b790', '0x79ecec', '0x1ff5e5', '0x79fe98', '0x79f4f8', '0x79d7ba', '0xe2d0', '0x29af10', '0x11ba76', '0x4c39bb', '0x404e2e', '0x0', '0x79cc51', '0x7a0ae1', '0x79c8c5', '0x79c037', '0x6ac326', '0x79fbd4', '0x6dcd04', '0x79165f', '0x7a0d97', '0x36daa2', '0x79f5eb', '0x79c3e0', '0x7a2bf9', '0x79d200', '0x79a018', '0x78f8cc', '0x5a3e1a', '0x775b5b', '0x79eadb', '0x7a0591', '0x217156', '0x46f88e', '0x79ea38', '0x7a0abe', '0x7a0f13', '0x79a650', '0x79ee53', '0x75e344', '0x79ebc2', '0x78dd14', '0x79dd83', '0x46e96f', '0x664924', '0x1b8b9', '0x79f673', '0x788b98', '0x79c924', '0x79fe02', '0x2c750c', '0x7a100e', '0x1a3049', '0x78a483', '0x7a3033', '0x7a0b81', '0x7a082e', '0x79d79e', '0x79d72a', '0x20f823', '0x79ce0c', '0x79fe0d', '0x7a08a5', '0x7a035d', '0x7a0c82', '0x7a0a08', '0x79f195', '0x79f206', '0x79e4ab', '0x785ff', '0x786577', '0x62dda5', '0x79a3d6', '0x785a98', '0x79caa0', '0x6b0dd0', '0x798b37', '0x7656e1', '0x7a0b99', '0x79da5b', '0x797522', '0x7a0758', '0x79d7f2', '0x79dfa8', '0x79cb54', '0x240c64', '0x7a0a3d', '0x79f330', '0x7a007c', '0x7923b1', '0x79c3ae', '0x67a4dc', '0x79c888', '0x5ca1f2', '0x718e44', '0x52e7c2', '0x736cdf', '0x79e444', '0x52a0d8', '0x79f91d', '0x234a3e', '0x4203da', '0x632d3f', '0x799c60', '0x7998d8', '0x4362b8', '0x7328f9', '0x789145', '0x6f686b', '0x50cf38', '0x52013b', '0x671502', '0x2f54e3', '0x776d27', '0x79a373', '0x75e6d5', '0x4dc4b2', '0x600825', '0x79dc7b', '0x5566f7', '0x480607', '0x68a5df', '0x1893cb', '0xd7a5d', '0x4529a1', '0x698cf9', '0x1521b8', '0x630a7d', '0x7a0c03', '0x6c57e1', '0x3b323c', '0x78f93c', '0xd8504', '0xde2a3', '0x7a04b9', '0x7c056', '0x1de8a6', '0x737dd6', '0x771270', '0x791909', '0x7a1ac7', '0x7a004c', '0x4efebb', '0x366db5', '0x6c4160', '0x1e8765', '0x2c87d6', '0x0', '0x3f5016', '0x132f1c', '0x7a0bbf', '0x787fbe', '0x567eb0', '0x79fdee', '0x7806b7', '0x7a0aa2', '0x196056', '0x7a03d1', '0x79ee52', '0x79e973', '0x79290a', '0x79cf55', '0x7868ac', '0x305055', '0x201cdc', '0x718132', '0x79e013', '0x79d020', '0x79de6c', '0x7a0fb2', '0x79fb03', '0x6b189a', '0x7a0af1', '0x79c57d', '0x79c579', '0x7a0e50', '0x79b551', '0x79ffae', '0x79efc8', '0x79e0d3', '0x6d77f6', '0x401418', '0x4f1a6d', '0x7a0cdd', '0x3e085f', '0x79cd05', '0x79cde5', '0x76a380', '0x79dd77', '0x30b68d', '0x4e0611', '0x6ef9c5', '0x4e2095', '0x79d510', '0x79007b', '0x191d18', '0x5a2d76', '0x79d040', '0x79d3bd', '0x51086a', '0x6201f2', '0x783307', '0x79c5ca', '0x79c02e', '0x79b679', '0x6e1a09', '0x3301d9', '0x198651', '0x1c7aa7', '0x79c16a', '0x79ece3', '0x2ff77c', '0x79e28d', '0x39faf3', '0x7a301c', '0x52ee83', '0x79fb49', '0x79f627', '0x786d92', '0x4cf6a5', '0x79d1af', '0x71256a', '0x79ddf8', '0x7a2efc', '0x3e63b5', '0x7a0a9e', '0x745f1f', '0x7990cb', '0x3b3010', '0x6fcdc4', '0x75fcc0', '0x718d69', '0x79e743', '0x641caa', '0x6002af', '0x7a1206', '0x6d44c0', '0x38166', '0x37642f', '0x7a5896', '0x7a0d89', '0x79cfb3', '0x79fb5d', '0x792d47', '0x79ed44', '0x79ffcb', '0x710638', '0x79c9cf', '0x79e8f7', '0x7a0b5d', '0x7a0c3c', '0x7a0430', '0x79c89a', '0x7824f0', '0x79ec8e', '0x79d523', '0x79fa72', '0x79faed', '0x359602', '0x3cc904', '0x79b1ed', '0x310083', '0x79f1a7', '0x776f43', '0x480150', '0x796c50', '0x6a303f', '0x79f01f', '0x79ec3e', '0x79da35', '0x3375b0', '0x798c55', '0x5ad66e', '0x19af5f', '0x79c88a', '0x62c2d0', '0x79e88c', '0x79fccd', '0x6d7185', '0x74defe', '0x7a017b', '0x79daaa', '0x5d9ef3', '0x78cdf4', '0x39fc9d', '0x79103c', '0x79e888', '0x7a16f9', '0x7848d1', '0x0', '0x68734e', '0x79dfdb', '0x7a039b', '0x58ce12', '0x56a218', '0x6f494a', '0x725c5c', '0x609ff5', '0x79f4d6', '0x5c0740', '0x19c071', '0x4c2acc', '0x1534cb', '0x2b53bf', '0x7a0a6c', '0x77a958', '0x79c4e5', '0x79f7ff', '0x79c8cf', '0x75ffdb', '0xe474b', '0x7a130a', '0x79e272', '0x79b490', '0x7909c9', '0x7947fc', '0x7a169b', '0x79d7d3', '0x79da9a', '0x77320a', '0x79f689', '0x79ba81', '0x79ce80', '0x7851e6', '0xc923b', '0x1335b7', '0x1538fb', '0x79073d', '0x5560e3', '0x610517', '0x43dc74', '0x19bacb', '0x5d71bf', '0x2429f9', '0x4cb3dc', '0x7a3385', '0x73368f', '0x79f225', '0x119181', '0x7a086b', '0x6b37e7', '0x416a4c', '0x4813f2', '0x678e3e', '0x2ede61', '0x6c7068', '0x392afa', '0x26a3b', '0x70a63b', '0x7893dc', '0x1f4a68', '0x0', '0xa6bbe', '0x79fbec', '0x221a51', '0x6bda30', '0xa641d', '0x743dcf', '0x1148ed', '0x676dfb', '0x2b4dd', '0xab017', '0x63ee7a', '0x2b224d', '0x674d3e', '0x6a3b52', '0x6cd305', '0x6fee22', '0x701ccf', '0x1d0d13', '0x2b458e', '0x54cb4', '0x1c6ab', '0x6ba510', '0x7816c5', '0x68e364', '0x79c7a7', '0x79a86d', '0x19affa', '0xd9150', '0x1505d7', '0x5c868a', '0x79c4b1', '0x43fe8b', '0x79c502', '0x79eea7', '0x79ff89', '0x69d173', '0x5cb83e', '0x793410', '0x5b0484', '0x79e511', '0x19a28', '0x46c2f4', '0x7762ed', '0x7a0d99', '0x785951', '0x79ddd7', '0x79c815', '0x79c732', '0x79cf93', '0x79c1f6', '0x59ee8c', '0x78b853', '0x70ad88', '0xef57e', '0x79fd2a', '0x752d5f', '0x4f4c29', '0x695508', '0x7a0a54', '0x79dcf4', '0x7a102d', '0x18f16c', '0x79c07b', '0x79eb2a', '0x79b175', '0x7540bd', '0x7a0f6c', '0x6e4977', '0x7a2a3e', '0x71845b', '0x600f0e', '0x79c91e', '0x798b9c', '0x79d2cf', '0x7925cc', '0x7853f5', '0x347bd6', '0x793ca0', '0x433adb', '0x734a72', '0x79e239', '0x673543', '0x60953b', '0x79da4b', '0x79d8f9', '0x5d9079', '0x79a351', '0x1f3237', '0x5b8d7c', '0x79e95b', '0x7a1d14', '0x79cdad', '0x768593', '0x79c5c3', '0x7a0aac', '0x79d196', '0x79e597', '0x7a046f', '0x79f143', '0x22ea4f', '0x79f32f', '0x79ec82', '0x79c486', '0x79f59a', '0x79e95c', '0x79fc7d', '0x79fc8c', '0x79e4c3', '0x7a1744', '0x79e45a', '0x79fa8d', '0x79c972', '0x7990cd', '0x7a20f5', '0x79f858', '0x79da69', '0x79fafd', '0x7a0e12', '0x79c263', '0x7a1cc3', '0x79ef6d', '0x79fb10', '0x7a17e5', '0x79fbe2', '0x7a21dd', '0x6beb0c', '0x7a0796', '0x78b7ed', '0x202b30', '0x79f14a', '0x79ceba', '0x7a1003', '0x7a0d26', '0x79c2c7', '0x79ecf3', '0x7a1e89', '0x7925fe', '0x79e7ca', '0x7a0870', '0x79d801', '0x79d711', '0x79fb0b', '0x79e2d8', '0x7a1103', '0x7a6cc1', '0x79e275', '0x7a1adb', '0x79f75b', '0x7a0d76', '0x1c2c73', '0x79e177', '0x7a005e', '0x79ce62', '0x79e7db', '0x79dd7a', '0x7a11ec', '0x79cbf8', '0x79cf61', '0x79cd0d', '0x79ffe2', '0x79ee67', '0x7a1075', '0x79e0be', '0x79af04', '0x79cabe', '0x79cc07', '0x79fee9', '0x7a07af', '0x79d73a', '0x79f9a1', '0x7a1cc2', '0x7a2499', '0x79f4bd', '0x7a0293', '0x7a05eb', '0x79ed09', '0x7a0324', '0x7a3170', '0x79d4a9', '0x7a1b7c', '0x79e847', '0x79dddf', '0x7a1b33', '0x79ec89', '0x798772', '0x7a37b5', '0x7a49e8', '0x7a4e45', '0x79e4c6', '0x79c07e', '0x7a0332', '0x79d8c5', '0x7a0722', '0x7a1f99', '0x79e9a8', '0x79f5e9', '0x79e849', '0x7a1022', '0x79e552', '0x79e6b1', '0x79d653', '0x79ca0a', '0x79e68c', '0x79e82b', '0x7a0a4c', '0x79d2a2', '0x7a4c97', '0x7a3a66', '0x79eba7', '0x79f965', '0x79c798', '0x79f377', '0x79fcdd', '0x79d4d3', '0x7a0f5d', '0x79ea6a', '0x79e250', '0x79e567', '0x7a06c9', '0x79e46e', '0x7a3cb7', '0x79e794', '0x79e487', '0x7a0050', '0x79ea63', '0x7725e7', '0x0', '0x7a03b0', '0x79ddcb', '0x79f1e4', '0x79c158', '0x7a47bd', '0x7a0d1b', '0x79e165', '0x7a1116', '0x7a0947', '0x79f761', '0x79d5fd', '0x79c29f', '0x79f8d5', '0x79f14c', '0x7a1bca', '0x79c0bd', '0x79de8f', '0x7a3ca3', '0x79ffe5', '0x7a102b', '0x7a1e23', '0x79db80', '0x79e373', '0x7a17cf', '0x79c35f', '0x7a4223', '0x7a36ff', '0x283120', '0x79f2b0', '0x79d267', '0x79f7df', '0x79e3fd', '0x7a554c', '0x79f6ad', '0x79dc63', '0x7988a6', '0x7a3727', '0x7a233c', '0x79ee8a', '0x79ad8f', '0x79dbc2', '0x75ea11', '0xcb523', '0x628f54', '0x79ebf5', '0x78b392', '0x64fbb5', '0x798c24', '0x787eb9', '0x4544dd', '0x557eee', '0x78e3e2', '0x467a05', '0x7a101e', '0x7990ec', '0x2a216b', '0x785e2a', '0x79ee6a', '0x9ed60', '0x0', '0x1a0ea2', '0x44c827', '0x249fa5', '0x429380', '0x676969', '0x7a32c4', '0x49fc43', '0x626aab', '0x69041e', '0x79dfe6', '0x798503', '0x376d40', '0x45ffed', '0x794b1d', '0x7972c1', '0x7943f3', '0x409acf', '0x539795', '0x78c13b', '0x587b5b', '0x79460d', '0x7851c8', '0x79d3b1', '0x7a06b7', '0x78bbb5', '0x78dfa8', '0x74db3c', '0x79d790', '0x3a18b5', '0x7a3e55', '0x798aee', '0x79ce45', '0x79a6f8', '0x7a1e71', '0x79fb9d', '0x79c2b8', '0x788784', '0x79c432', '0x6eb74a', '0x7a01dc', '0x7a278a', '0x79cdbb', '0x7a09e1', '0x79d820', '0x78ee70', '0x777248', '0x79e596', '0x79d968', '0x79e612', '0x44d6db', '0x79daa5', '0x7a061b', '0x78c7d9', '0x7a0245', '0x4ad720', '0x79d8b0', '0x7a101d', '0x79dd7a', '0x788b81', '0x571a36', '0x78dac0', '0x79e9d9', '0x79e3e7', '0x7a07e3', '0x79cf01', '0x79d23f', '0x7a0088', '0x79e2b4', '0x7911a4', '0x77c6e3', '0x796640', '0x7a03c6', '0x7a0f23', '0x79fefb', '0x76f9ce', '0x633427', '0x7a439f', '0x79fe24', '0x79d7c1', '0x79f2d4', '0x7a0965', '0x7a0849', '0x79742c', '0x0', '0x79d338', '0x7a09bc', '0x79f94f', '0x79e356', '0x49664a', '0x79e658', '0x79f348', '0x7a0e97', '0x79f0e2', '0x7a0507', '0x79d75a', '0x7897b5', '0x77bf2d', '0x7a09be', '0x76cc5f', '0x79ecd1', '0x1a1467', '0x4b1b44', '0x79c5a2', '0x79e23b', '0x7a0fd8', '0x7a08d5', '0x4b6efa', '0x79e7eb', '0x79d4fe', '0x7a019b', '0x79fe7f', '0x3981e4', '0x79d7fa', '0x4b0165', '0x44936e', '0x79d377', '0x799979', '0x79ca75', '0x6e87f4', '0x678d2c', '0x79e90f', '0x79fbf8', '0x459747', '0x79e5a0', '0x79d23b', '0x709e6b', '0x79fc54', '0x492354', '0x79f260', '0x7a16af', '0x7a167d', '0x79fd72', '0x79cc40', '0x73632e', '0x79e0d3', '0x79e994', '0x7648c6', '0x79ffc5', '0x7a06af', '0x79de4f', '0x79f494', '0x7a0940', '0x79ceb8', '0x7a0f1d', '0x1f8188', '0x7a12b4', '0x79e36c', '0x79fcc8', '0x79fc82', '0x380dab', '0x79fd5f', '0x7a06cb', '0x79db44', '0x79e4e5', '0x79de08', '0x7a034a', '0x79c1c8', '0x79e17f', '0x79ceb9', '0x79f85a', '0x79e57e', '0x792c9c', '0x79e9a0', '0x7a032f', '0x7a2b5a', '0x79e04d', '0x79257f', '0x18a651', '0x79c644', '0x7a0e7b', '0x79c577', '0x79dfc4', '0x7a0212', '0x78b21c', '0x79fce5', '0x79fc23', '0x79c541', '0x7a0876', '0x79994c', '0x290d45', '0x77930b', '0x79e2b7', '0x772e16', '0x2a0bb2', '0x2f0eac', '0x31944', '0x797ed5', '0x791038', '0x79bfa0', '0x79b686', '0x4b49f7', '0x40a9bd', '0x78b81d', '0x790e90', '0x7a07c4', '0x79d931', '0x77040', '0x733ca1', '0x12424d', '0x79e163', '0x79e90c', '0x6a40be', '0x46b93', '0x11af76', '0x33a9a8', '0x79a43f', '0x468a6a', '0x79f478', '0x4b5587', '0x7946e4', '0x791097', '0x358f6b', '0x0', '0x7a0674', '0x7978b1', '0x70a580', '0x7a14a0', '0x79ef34', '0x0', '0x79820', '0x796a69', '0x2e0519', '0x32006a', '0x79cc61', '0x2abe91', '0x7977c7', '0x79e0c0', '0x794780', '0x66a8ff', '0x7967ff', '0x50ec82', '0x79f90e', '0x73b8eb', '0x71c73', '0x79feae', '0x1d3628', '0x43ca36', '0x75c3ca', '0x4e23d8', '0x11f230', '0x79ee0f', '0x466d39', '0x78c77f', '0x4438ae', '0x7939d2', '0x3f9053', '0x75a53c', '0x78a76c', '0x79c308', '0x787dc0', '0x7a3bdc', '0x79eb7b', '0x79caad', '0x794c09', '0x7992b7', '0x789e3b', '0x79e469', '0x79c863', '0x79c4c1', '0x7a044c', '0x79e99a', '0x5eb87b', '0x79ac62', '0x79f6ea', '0x79e84e', '0x7a173e', '0x79fb0d', '0x79c030', '0x7a072b', '0x7a119d', '0x795600', '0x53dd39', '0x79f37e', '0x79a62e', '0x7a0592', '0x79cae4', '0x79fe89', '0x7a256f', '0x79fa2f', '0x6e4b48', '0x7546fd', '0x79d97c', '0x274536', '0x7a0890', '0x79c7bd', '0x7a135c', '0x55a336', '0xabf0c', '0x7a19de', '0x79e35d', '0x326d94', '0x0', '0x79f3bc', '0x79ce27', '0x78bede', '0x799b33', '0x7a3bb9', '0x79d610', '0x14b3ad', '0x7a000e', '0x79e3ae', '0x799dd1', '0x79ff7e', '0x79ede2', '0x79d33e', '0x79e1b0', '0x7a10b0', '0x79e74a', '0x7a0040', '0x7a0512', '0x79c89d', '0x7a0b5b', '0x79f843', '0x7a1aa4', '0x79c5c0', '0x79f68a', '0x7a2dd3', '0x79e7ef', '0x798e1a', '0x78638c', '0x79e653', '0x7a0aae', '0x79d5a4', '0x789452', '0x79d3f7', '0x2d1ab0', '0x37d46b', '0x79fb13', '0x79e4fe', '0x7a0bd8', '0x79adff', '0x79c1e3', '0x0', '0x79e907', '0x79f94a', '0x79e9bc', '0x5b660a', '0x79e6c1', '0x79ecad', '0x7a1940', '0x7a11f2', '0x79fe32', '0x79feaa', '0x7a23b5', '0x7a08bc', '0x79c43d', '0x48eef0', '0x79c1f5', '0x7a2026', '0x79aac3', '0x7974c9', '0x79db76', '0x79f2c0', '0x79c7cd', '0x784240', '0x78f0c5', '0x7a3807', '0x79fd09', '0x2b1b12', '0x79e461', '0x7a10c8', '0x79dda1', '0x794357', '0x79edda', '0x78d9dd', '0x569790', '0x79dc5b', '0x67937e', '0x79cc28', '0x0', '0x79d6c7', '0x79c1f1', '0x79df3b', '0x7a4582', '0x7a61b3', '0x74f58f', '0x79f3fd', '0x7a0371', '0x79e69b', '0x79e964', '0x79e76b', '0x7a0dcf', '0x79f5a4', '0x7a107d', '0x79de07', '0x79f33c', '0x7a00b9', '0x79eb5e', '0x1163e1', '0x28cb57', '0x79efab', '0x79f610', '0x7a0326', '0x79e7b6', '0x7a11e6', '0x3a4d0f', '0x3a55ce', '0x79ea89', '0x7982ef', '0x79dc47', '0x7a0a67', '0x79ed27', '0x8d4e2', '0x7a0f14', '0x79fb18', '0x79ffd0', '0x79eef3', '0x79c82c', '0x16c6d6', '0x708432', '0x7a1e02', '0x7a0fa1', '0x79fd51', '0x79e28a', '0x692e7', '0x79fcce', '0x7a336b', '0x79d884', '0x7a1f2b', '0x79d779', '0x7a21a0', '0x478540', '0x79e37d', '0x79db29', '0x7a0c17', '0x79fa33', '0x79ff99', '0x79d0f3', '0x7a0bbf', '0x79c721', '0x79db9d', '0x7a1855', '0x3171ce', '0x2eb4f8', '0x79dbeb', '0x79c2d0', '0x7a027a', '0x79c9a1', '0x79e7bd', '0x79c08e', '0x0', '0x79d3e3', '0x37e9fe', '0x79c9a0', '0x79eeb8', '0x73edb7', '0x6993b3', '0x5c9ed4', '0x412ab2', '0x58a00d', '0x73e218', '0x5078e6', '0x75af90', '0x79a19c', '0x426cb4', '0x793660', '0x7a06e6', '0x4e95d8', '0x78e295', '0x784737', '0x77ab09', '0x792edf', '0x79e41b', '0x79e8b4', '0x74b4d6', '0x2e30a3', '0x257f1a', '0x6ef1ba', '0x140a89', '0x79d2ed', '0x7995b9', '0x5a1d37', '0x7988b0', '0x79781e', '0x78b50e', '0x2cdb1a', '0x6a2978', '0x12224a', '0x79feb9', '0x79849a', '0x794059', '0x797c4f', '0x1ef496', '0x78f20b', '0x5335cf', '0x34b889', '0x7a0e7d', '0x6a981e', '0x7a0428', '0x795f81', '0x4a37cf', '0x14b63e', '0xede6a', '0x6b52ab', '0x6bce20', '0x54ece0', '0x79d190', '0x7984cf', '0x794761', '0x78d59c', '0x2f0070', '0x7921a9', '0x15d6a3', '0x14a93c', '0x2a9793', '0x79f9cd', '0x418216', '0x163e42', '0x7a287a', '0x73a38f', '0x79351c', '0x799d8e', '0x7a3805', '0x79ea04', '0x7a0039', '0x6e05d6', '0x4ab71c', '0x7a06a1', '0x79f91a', '0x79d569', '0x7a0d17', '0x7a0209', '0x773f61', '0x79f055', '0x2c8316', '0x790097', '0x79b308', '0x798ea2', '0x67af57', '0x49a1cd', '0x79fc6b', '0x79d6c3', '0x79e32d', '0x79e4d0', '0x78d015', '0x7a16a9', '0x79ff83', '0x1483e1', '0x78cf7f', '0x7a35e2', '0x79748e', '0x7a159c', '0x79dab3', '0x2ba1dc', '0x7a589a', '0x7a0103', '0x572d42', '0x7a1cff', '0x7a034d', '0x7a1696', '0x79cd9f', '0x79e061', '0x7a0c62', '0x79d6ef', '0x79ccd9', '0x79f7f0', '0x494b1a', '0x798044', '0x16c91e', '0x79f124', '0x7a1206', '0x3c922a', '0x7a0a06', '0x61086e', '0x79a839', '0x79022d', '0x5051e5', '0x79d50c', '0x78b757', '0x79ec80', '0x79f05b', '0x79b40e', '0x79f5ee', '0x7a0993', '0x7a34af', '0x79f7c9', '0x79ea2e', '0x79c8a1', '0x6ac5f1', '0x5b4dc9', '0x79e197', '0x5b5629', '0x6ac636', '0x79dff1', '0x7a109a', '0x7a1093', '0x7a047f', '0x797f52', '0x79c668', '0x79d7ed', '0x7a005d', '0x79e0ff', '0x79ff12', '0x79f792', '0x79f03e', '0x79d726', '0x798d5e', '0x79c5d8', '0x79d923', '0x79ff5a', '0x72cf4f', '0x79f206', '0x79e7b7', '0x2d54cd', '0x79e895', '0x78b2e8', '0x79fd59', '0x0', '0x79fa1d', '0x7a0fde', '0x79f458', '0x7a1ffa', '0x7a27f7', '0x7a1142', '0x7a0fcb', '0x1cf968', '0xdf7b6', '0x7989f1', '0x7a120d', '0xcbfc1', '0x4e8b8d', '0x79af21', '0x79f06d', '0x79f520', '0x7a057e', '0x79d38f', '0x7a0972', '0x326647', '0x20448f', '0xc964f', '0x18ba0c', '0x7a1124', '0x79f3a6', '0x79e81b', '0x7a067e', '0x79e6bc', '0x7a0493', '0x7a06f5', '0x79c7c5', '0x6366c5', '0x79c775', '0x79d92c', '0x79e20e', '0x7a0031', '0x46aaaf', '0x7a1b7f', '0x7a2226', '0x79ff1d', '0x79dbad', '0x7a0d0e', '0x715348', '0x794a39', '0x79cb38', '0x79cf3a', '0x79e91c', '0x7595cd', '0x79b707', '0x7a16d9', '0x7a0554', '0x36e1d0', '0x79d339', '0x7a2f5e', '0x46fc37', '0x3274f8', '0x79da45', '0x7a102a', '0x79e985', '0x79f442', '0x7a19d8', '0x7985eb', '0x79df29', '0x50597d', '0x7a10e6', '0x79f4b7', '0x79eb4b', '0x7828db', '0x7868d4', '0x798f3e', '0x4cf4c3', '0x797d37', '0x7a0785', '0x79edea', '0x79c2d8', '0x79d9ce', '0x7a06c4', '0x7a02a3', '0x5ca525', '0x7a0926', '0x1fea4d', '0x79f685', '0x79e7fb', '0x6e3606', '0x6bfa0a', '0x7a0248', '0x7a0ffc', '0x79f573', '0x79e72f', '0x701b3a', '0x79d23c', '0x79ecc0', '0x7a154e', '0x79edb6', '0x7a0b79', '0x7a00c2', '0x79b994', '0x79f495', '0x7a063b', '0x79ed30', '0x728eed', '0x702076', '0x79d01c', '0x79b738', '0x79ff2e', '0x70c57d', '0x1e07ed', '0x36956b', '0x334602', '0x798710', '0x733c2', '0x79d340', '0x79e654', '0x75a154', '0x159f41', '0x7a0696', '0x7a0170', '0x78e8d7', '0x797e10', '0x7935f3', '0x79ff95', '0x47dc51', '0x3b4be', '0x1b2150', '0x79c731', '0x1b9c2b', '0x798db0', '0x69492b', '0x0', '0x79d2f3', '0x10af83', '0x0', '0x79f2ca', '0x797bf6', '0x85b9e', '0x79d48b', '0x41a8b2', '0x79d2d0', '0x798729', '0x73dc1a', '0x7879a9', '0x78a75c', '0x7949af', '0x78fb49', '0x797362', '0x7a4bd4', '0x78dbd2', '0x799425', '0x79e8b7', '0x73c564', '0x5ee7f8', '0x79506b', '0x2d958f', '0x79e732', '0x79f91c', '0x7a1073', '0x79e717', '0x798401', '0x79d6f7', '0x7a09b4', '0x79e229', '0x7a01fc', '0x7a07f2', '0x79e091', '0x7a0380', '0x79ea5c', '0x79e917', '0x0', '0x5d76d6', '0x78fda1', '0x79dd46', '0x299185', '0x79d75e', '0x7a07a6', '0x79e086', '0x79dc34', '0x72e4fc', '0x7a0652', '0x789f77', '0x79d098', '0x233469', '0x79c395', '0x56b7ce', '0x6eb0ec', '0x501304', '0x56dc5c', '0x7a05a4', '0x7a1e61', '0x3c6b77', '0x446dbf', '0x79e9b3', '0x79d349', '0x79e378', '0x7a0ac6', '0x7a1040', '0x79f98f', '0x789038', '0x79ec0b', '0x79db04', '0x79e2c4', '0x79f146', '0x79efee', '0x79e21d', '0x79e082', '0x79de4b', '0x7a0a7f', '0x79274b', '0x79ff41', '0x79f3f2', '0x7a0c48', '0x79e6ee', '0x79e3a7', '0x0', '0x79e22b', '0x79c1c9', '0x79eb54', '0x79e947', '0x27f5d', '0x7a0e72', '0x79f5ab', '0x7a2220', '0x7a5cdf', '0x79f5ea', '0x79dbc6', '0x79eddd', '0x7a1b12', '0x0', '0x79c34e', '0x7a0d83', '0x79c5bc', '0x79f41f', '0x79d924', '0x79d45c', '0x7a2236', '0x79d30b', '0x7a0077', '0x79da79', '0x7a2291', '0x7a0ef8', '0x79d1c4', '0x79d688', '0x788465', '0x79cd46', '0x7a1e40', '0x7a05d6', '0x79f132', '0x79f610', '0x7a09f1', '0x79f646', '0x79c5bc', '0x0', '0x79d58a', '0x7a0235', '0x79d813', '0x7a2f8a', '0x79cf5b', '0x7a3061', '0x79cffe', '0x0', '0x79dd65', '0x79ecde', '0x7a2a99', '0x7a0abe', '0x0', '0x79e3cb', '0x79c7e0', '0x7a072e', '0x79dd42', '0x7a0bf0', '0x7a0eef', '0x7a06b9', '0x79caf4', '0x79d992', '0x79f22b', '0x79f238', '0x79f261', '0x79d5ab', '0x79c05a', '0x79dfff', '0x79df4b', '0x79e067', '0x79f937', '0x79d3e4', '0x79c849', '0x79d44d', '0x7a08ce', '0x79fa36', '0x79e739', '0x7a0da8', '0x79a219', '0x79db92', '0x798976', '0x7a20cc', '0x79c7f1', '0x7a0a7c', '0x79d796', '0x7a0dca', '0x79c1e3', '0x79680c', '0x7a043f', '0x7876ad', '0x79d56c', '0x7a0773', '0x79e6d2', '0x7a0c67', '0x79f781', '0x51fd73', '0x79cfb8', '0x787d67', '0x79e524', '0x79f12a', '0x79e2d9', '0x78693f', '0x79f8b5', '0x79c8a4', '0x7a0fbb', '0x7a21e9', '0x7a6150', '0x7a038f', '0x79e78e', '0x7a1e9c', '0x50f4d3', '0x79f0c9', '0x79dbe0', '0x79dee1', '0x7a09fb', '0x79b59e', '0x79df8a', '0x79dd29', '0x79d033', '0x7505fc', '0x7a03fa', '0x79a5e0', '0x79fd73', '0x7a083b', '0x79f472', '0x7a4caf', '0x755f72', '0x7a105b', '0x7a0221', '0x79d5a2', '0x745b8f', '0x79e84e', '0x79c440', '0x79f0c5', '0x79cc71', '0x799d93', '0x65de54', '0x79d567', '0x79fb05', '0x79dd00', '0x7425e5', '0x79f333', '0x0', '0x2467b3', '0x76cfa1', '0x79f31c', '0x79e0ed', '0x79f4bb', '0x7a272c', '0x79cc8b', '0x79f0a3', '0x79e14c', '0x79f899', '0x79e430', '0x795a58', '0x7a0a7f', '0x79d119', '0x79d144', '0x79f1c7', '0x79c6f8', '0x79e62e', '0x79ee36', '0x79ed39', '0x79eb01', '0x7a0fcd', '0x7a1b8d', '0x7a116d', '0x78ba12', '0x79f96d', '0x79f2c6', '0x7a1805', '0x79ddfe', '0x78f912', '0x79f87c', '0x7a0045', '0x79c04f', '0x79ac82', '0x79cbb8', '0x7a088d', '0x79dd25', '0x79fb21', '0x79ead6', '0x79e74c', '0x79e18c', '0x7a163d', '0x79ed06', '0x79ec2a', '0x79de25', '0x7a1e2f', '0x79fa98', '0x33f989', '0x428f54', '0x79ff2b', '0x79ec67', '0x7a1503', '0x79d2d7', '0x0', '0x79e875', '0x7a1fab', '0x79ec9d', '0x7a1bbe', '0x7a030b', '0x791cfe', '0x0', '0x79adce', '0x78dffb', '0x6a18bd', '0x747aa', '0x1da888', '0x76b3d8', '0x79ffaa', '0x54d849', '0xa5919', '0x658d38', '0x507ef4', '0x2e6f2f', '0x377b5', '0x9b088', '0x79bc7c', '0x4c3cac', '0x59be1c', '0x79d53a', '0x7a1a18', '0x4c8328', '0x798ca5', '0x428dbe', '0x68955a', '0x7a2a3a', '0x79c518', '0x79ab04', '0x7a0c3a', '0x28307d', '0x58416e', '0x0', '0x79f8a0', '0x795dc6', '0x51658b', '0x7a0201', '0x7a214a', '0x79e8f7', '0x79e555', '0x7811ce', '0x2c0a7e', '0xcc83d', '0x7a0a51', '0x7a028b', '0x79f0f4', '0x7a3228', '0x793cf6', '0x587338', '0x46fb1d', '0x5273fc', '0x797d97', '0x74bd83', '0x79515b', '0x15088c', '0x244ab2', '0x6f59f7', '0x7951c1', '0x74ae5a', '0x79cfaf', '0x6e8f5b', '0x79b0c3', '0x79bc11', '0x74e1d6', '0x5a20d0', '0x3121cc', '0x796da7', '0x7a0c66', '0x79e400', '0x797960', '0x7973ba', '0x54c33', '0x79e67e', '0x7a0851', '0x77633d', '0x62c82f', '0x7a01fa', '0x6b5da0', '0x79e266', '0x79ce15', '0x7a0e2b', '0x189c2f', '0x1b71a8', '0x799095', '0x79e799', '0x358072', '0x7921b5', '0x795a3f', '0x7a0792', '0x79c73b', '0x7a048a', '0x79dce5', '0x79e70e', '0x797d15', '0x79d95a', '0x79df72', '0x5bfa77', '0x79ff85', '0x79faa2', '0x79ddc1', '0x5107f3', '0x79eb74', '0x79df86', '0x79db5d', '0x79d8b1', '0x79ebef', '0x79e012', '0x7a0b40', '0x7994df', '0x49b804', '0x79f7fc', '0x798268', '0x7a1101', '0x794745', '0x799216', '0x79cd84', '0x74639e', '0x79e26b', '0x79e01c', '0x79d994', '0x5fb12f', '0x7a0d7e', '0x798db8', '0x796056', '0x41728f', '0x79e0f0', '0x354d9b', '0x79eb55', '0x192fa6', '0x79dfa0', '0x793ef2', '0x1bb4c4', '0x7a0c38', '0x79ebe6', '0x79d8c8', '0x7881dc', '0x7845a9', '0x792db7', '0x794c76', '0x7a0733', '0x646529', '0x6b4f72', '0x7978fc', '0x6fdc2a', '0x71727f', '0x79decb', '0x7a2e1e', '0x79c5cc', '0x799e11', '0x79d216', '0x79c6f8', '0x79c95b', '0x5c5bfe', '0x7406bd', '0x5cd33a', '0x79cc7d', '0x79eed8', '0x7a021f', '0x6efd88', '0x7a11f4', '0x79e563', '0x7a06cd', '0x79d958', '0x796a75', '0x44ed0b', '0x7a010d', '0x1dbe7d', '0x79d336', '0x7a0737', '0x79cd8b', '0x7a06c8', '0x79e47e', '0x79ff72', '0x37fa5d', '0x61b3d0', '0x79f6f5', '0x5e9137', '0x79e2b9', '0x79ffb0', '0x79a66d', '0x79dd63', '0x79d60b', '0x79ea80', '0x1e7911', '0x5b9040', '0x6ac6bc', '0x6af4ad', '0x4a8f69', '0x79ed90', '0x7a06b6', '0x7a0e69', '0x79e06b', '0x79dbdf', '0x79d031', '0x79e52c', '0x79ffac', '0x79d087', '0x79d3c5', '0x79cfc2', '0x79d2be', '0x79f283', '0x6371c8', '0x79f2ae', '0x45cb1e', '0x64f96f', '0x532722', '0x4826cb', '0x798088', '0x7a0056', '0x487ab5', '0x197adf', '0x7957d9', '0x1fb1e2', '0x3cca38', '0x79ee14', '0x79e6b5', '0x79c2e1', '0x79a971', '0x7a0372', '0x79f914', '0x79d040', '0x79d66f', '0x79ce6d', '0x787af1', '0x787150', '0x7a059b', '0x79f5ed', '0x78b25e', '0x7a0ff5', '0x79f494', '0x79e73b', '0x79fa51', '0x7a0051', '0x79cb2c', '0x79e93a', '0x7a0dea', '0xb1236', '0x79e127', '0x7a0cf7', '0x7a0796', '0x79cddd', '0x7a04a0', '0x79e445', '0x79d203', '0x789755', '0x762500', '0x79de8a', '0x7a408c', '0x786adc', '0x79ebba', '0x14eeac', '0x7a1b13', '0x7a1231', '0x70bc21', '0xe7319', '0x79da9d', '0x69260c', '0x79fe1b', '0x7a19d8', '0x79ff49', '0x7a0a51', '0x79f26e', '0x79a7b6', '0x749241', '0x75cac1', '0x704af2', '0x79e213', '0x79497c', '0x79458f', '0x74673d', '0x2535ce', '0x4210e1', '0x797faf', '0x7a08c7', '0x79c4ef', '0x72a3a6', '0x48dd2', '0x2f439', '0x79e347', '0x79dfb0', '0x79e870', '0x713b05', '0x78eb7b', '0x1c2b84', '0x7a0985', '0x4a15f2', '0x21198b', '0x79eae7', '0x1aeac3', '0x784151', '0x1b869e', '0x681424', '0x6b16c4', '0x796aa8', '0x79e76d', '0x78933c', '0x7a0ceb', '0x79c15d', '0x79dd6b', '0x7a0979', '0x79e269', '0x79fd69', '0x79e495', '0x79fb84', '0x79e15e', '0x79fc49', '0x59a445', '0x79fd05', '0x7a4b8e', '0x7a3748', '0x7a0783', '0x79eda9', '0x79d7a7', '0x79d7c5', '0x7a24b8', '0x7a1891', '0x79de65', '0x7a03c5', '0x79e9b8', '0x79cef9', '0x79e086', '0x7a4dd4', '0x7a0f2b', '0x79efdb', '0x79f605', '0x79fa12', '0x79fcf0', '0x7861cd', '0x79ef1e', '0x79f81e', '0x79fffd', '0x7a05fc', '0x7a0390', '0x79eddb', '0x0', '0x79e3b1', '0x79c1ab', '0x79d8ec', '0x79d8e4', '0x79c302', '0x79ddbf', '0x79fcb8', '0x7a1fea', '0x7a04e8', '0x79e1b1', '0x79da23', '0x79ffb7', '0x7a05b2', '0x79ee07', '0x7a38e8', '0x79da3c', '0x796689', '0x79f0a3', '0x79d82f', '0x79ef59', '0x7a315b', '0x7a1b46', '0x79fd6a', '0x0', '0x79dd80', '0x79d85e', '0x7a1579', '0x7a0718', '0x79ddf5', '0x79d198', '0x5d8dd6', '0x79f1f9', '0x795d17', '0x78ab77', '0x788895', '0x7a2767', '0x7a2702', '0x7a0f4f', '0x79ebb4', '0x7a06cf', '0x79ef76', '0x7a06bb', '0x773597', '0x79e0f0', '0x79f2d6', '0x7a181a', '0x79b95a', '0x79ed26', '0x79c1ac', '0x79c90a', '0x79b06c', '0x7a3fd2', '0x7990f7', '0x79e0bf', '0x7a0ef3', '0x79f18d', '0x7a0155', '0x79e27d', '0x79dc74', '0x7a1589', '0x79ec84', '0x0', '0x7a0aed', '0x79dcbb', '0x79fc61', '0x79cc94', '0x79ddd5', '0x79e2c9', '0x79f283', '0x79f8bb', '0x0', '0x7a03ec', '0x0', '0x73338b', '0x79f85a', '0x6a92b6', '0x7a0584', '0x79e2cd', '0x3cc677', '0x6a9d76', '0x79e124', '0x25d127', '0x333a59', '0x78dc20', '0x79ed77', '0x69dda6', '0xabd01', '0x788694', '0x5e2203', '0x5b86a1', '0x5d7ef1', '0x4860b7', '0x668564', '0x7a0852', '0x79f12c', '0x7a09cd', '0x6ac311', '0x6a8ecc', '0x79fbd9', '0x66124c', '0x4dd540', '0x79c87c', '0x7a086e', '0x78c292', '0x79dd29', '0x79de5c', '0x7a1f90', '0x79d177', '0x79d743', '0x79f152', '0x79f2c8', '0x79f908', '0x79c501', '0x79f0e3', '0x79e2fa', '0x79ff12', '0x79e5c8', '0x7a0638', '0x7a11eb', '0x772e37', '0x795fce', '0x787234', '0x79dbd9', '0x79cf26', '0x79cc1e', '0x79cf52', '0x79d399', '0x7a2f4a', '0x3cd3d1', '0x7a07f1', '0x7a0b71', '0x707b9a', '0x7a0c36', '0x79f2a5', '0x635f23', '0x73683a', '0x7a0152', '0x7a023c', '0x79ddbe', '0xa410', '0x90cec', '0x79cc00', '0x330ffb', '0x7a1020', '0x7a1eb5', '0x79a07a', '0x7910f9', '0x7936b8', '0x78dc07', '0x658bcf', '0x79e613', '0x7935ad', '0x5c42cc', '0x79a6cd', '0x792176', '0x71129', '0xecad4', '0x59a80e', '0x79d84e', '0x790db8', '0x113c82', '0x7ad2d', '0x34b8c', '0x4e475b', '0x20557f', '0x609196', '0x498ce7', '0x7a0849', '0x799188', '0x794b8b', '0x6d6cd9', '0x448369', '0x2bf2aa', '0x5ab184', '0x2552b0', '0x3d0019', '0x2f0f48', '0x79d760', '0x8af7b', '0x52beee', '0xa930d', '0x7087e0', '0x79f541', '0x786465', '0x79aa4e', '0x2eade5', '0x78de4b', '0x1bed96', '0x4de8bb', '0x797dbf', '0x229f52', '0x77a3f2', '0x63a38f', '0x38ec88', '0x79fd64', '0x37469f', '0x1af504', '0x64353b', '0x7a0d05', '0x2018f0', '0x24b578', '0x17729a', '0x546e23', '0x78ec06', '0x32a976', '0x7948ab', '0x79db73', '0x6c9575', '0x76c079', '0x7977cd', '0x79d0f4', '0x798089', '0x7061be', '0x2e7d96', '0x21c4b0', '0x78980a', '0x7943f5', '0x167b88', '0x532616', '0x792d60', '0x15595e', '0x79c325', '0x797004', '0x792730', '0x79dd32', '0x7a11c9', '0x78c066', '0x79cdab', '0x79ea0d', '0x74c1b1', '0xb38a2', '0x9aebc', '0xed73c', '0x712366', '0x62e665', '0x7a1833', '0x79f585', '0x79f11a', '0x7a0385', '0x79d838', '0x666d04', '0x79e602', '0x73f24c', '0x79f9b0', '0x213ee9', '0x79f027', '0x79b803', '0x7a12aa', '0x4ce0e9', '0x7a0671', '0x1029b7', '0x79885b', '0x79c1d4', '0x7a0298', '0x79fa05', '0x28c4c9', '0x79f5a2', '0x79d047', '0x6e7b0d', '0x78e180', '0x798689', '0x79699f', '0x79cf90', '0x799781', '0x88511', '0x6be14c', '0x64f1a0', '0x79c957', '0x681057', '0x79c4a1', '0x664ff0', '0x7987c1', '0x79498d', '0x2544cb', '0x26a102', '0x7a0820', '0x6952bb', '0x75dba7', '0x79c736', '0x7a04c3', '0x799ee1', '0x79c27a', '0x7a015a', '0x79d496', '0x195f5f', '0x4c406c', '0x7454df', '0x79bbce', '0x7a0e60', '0x7a2868', '0x7486ab', '0x79f816', '0x532109', '0x79ed0f', '0x79ee98', '0x7a1b13', '0x7a11f1', '0x79e465', '0x79de0c', '0x4feb79', '0x795525', '0x79eb55', '0x79fa5b', '0x7a0edd', '0x78a12e', '0x78317b', '0x79f66d', '0x21eb99', '0x5cad5d', '0x7a106e', '0x7a00bc', '0x1517be', '0x0', '0x47e55f', '0x79397a', '0x71f2b8', '0x35e540', '0x79bd1e', '0x6e0634', '0x79ec9b', '0x5c6310', '0x57adb7', '0x79fc62', '0x6dd9e1', '0x7a2ab5', '0x169a4', '0x20e628', '0x7a0643', '0x79352d', '0x7a1a94', '0x765120', '0xbc27e', '0x7952d3', '0x3253ad', '0x79d654', '0x42db2b', '0x79b29c', '0x15830d', '0xa8955', '0x77764a', '0x78e0dc', '0x78e671', '0x7a0b1e', '0x779c48', '0x79c6da', '0x79b8c6', '0x79dbe7', '0x7a1151', '0x799e5a', '0x21b0f1', '0x79871d', '0x79ddb1', '0x455882', '0x799fd3', '0x79df5f', '0x7a0d0f', '0x7a339b', '0x3bfeab', '0x79fc54', '0x76e506', '0x79ddf2', '0x79fbd6', '0x79f01a', '0x44808d', '0x79ebbd', '0x7a006d', '0x7a228d', '0x79e236', '0x79d54d', '0x79e46b', '0x624580', '0x79fbb0', '0x79d786', '0x7a050d', '0x7a11e2', '0x222afe', '0x1cccb7', '0x79ea09', '0x79d26d', '0x79ec95', '0x7a0df1', '0x798030', '0x79cbcd', '0x79f05b', '0x791713', '0x79e1dc', '0x1c2fe', '0x792894', '0x14dfd8', '0x79cdf1', '0x79c846', '0x7a059c', '0x0', '0x7bc9f', '0x7a00b5', '0x7964fc', '0x11cf44', '0x3be0f9', '0x79cf58', '0x7a1200', '0x43aea4', '0x56293c', '0x1f5de6', '0x32074a', '0x7a047a', '0x4ee78e', '0x79eec2', '0x77eaf0', '0x79d217', '0x7977bb', '0x1b6d51', '0x74895f', '0x79c98a', '0x358df6', '0x799be5', '0x511d05', '0x73438a', '0x15da9f', '0x7a1624', '0x79be6e', '0x79f4d7', '0x6f25ac', '0x796008', '0xe45f8', '0x104acd', '0x19129a', '0x56e7d2', '0x0', '0x2612a0', '0x261499', '0x7903be', '0x236899', '0x3c2479', '0x92a4', '0xc39c3', '0x796e26', '0x33d908', '0x13d289', '0x79cc5c', '0x79d423', '0x7a0fe5', '0x7a111d', '0x3ff004', '0x25e97c', '0x798ada', '0x79a0d4', '0x797b02', '0x6f8807', '0x79dfd0', '0x79704f', '0x956cf', '0x5ed6ee', '0x79f40e', '0xcc277', '0x3a96d2', '0x192b3', '0x24aad8', '0x1fee8a', '0x79f611', '0x4723bc', '0x6b4a9d', '0x75d98d', '0x79e0c5', '0x778bf1', '0x78fc68', '0x7945cc', '0x30bf02', '0x1c92d3', '0x20464b', '0x79f969', '0xc1c34', '0x79f6ba', '0x79ac87', '0x69ce3a', '0x7a0702', '0x795bd2', '0x5af716', '0x793012', '0x3271e0', '0x7869f1', '0x79ac9f', '0x248a7b', '0x4b6517', '0x79db6d', '0x79c7e7', '0x64b093', '0x767537', '0x7a4997', '0x79b208', '0x79cd0b', '0x79d421', '0x79d34a', '0x79f58a', '0x79d0b4', '0x79dad3', '0x7a01af', '0x75e00d', '0x79dc02', '0x79e24a', '0x2b32eb', '0x609fc3', '0x79d4a8', '0x7a1291', '0x79e4ce', '0x7286c3', '0x4b183d', '0x139d23', '0x268b7e', '0x7902ab', '0x79990a', '0x4f7668', '0x793589', '0x7a07f1', '0x522f12', '0x79f6f1', '0x7a0f22', '0x796771', '0x798a37', '0x0', '0x43dd8e', '0x7a059b', '0x702cb3', '0x791873', '0x14a740', '0x7a0160', '0x198dcf', '0x7978a8', '0x7967c1', '0x79267d', '0x2a5fac', '0x79f715', '0x79f4c9', '0x79c440', '0x79fd92', '0x79d4b4', '0x7a0af4', '0x0', '0x79ef40', '0x0', '0x79ff17', '0x7a14b2', '0x7a0e28', '0x794bf2', '0x2108bb', '0x79ffe2', '0x79ccc3', '0x79db1c', '0x79f96d', '0x7a02d8', '0x767069', '0x23b2f9', '0x79e242', '0x79fe95', '0x424d92', '0x7a0ff5', '0x7a0f34', '0x79c903', '0x79ba82', '0x7a3f16', '0x79c491', '0x736dde', '0x79c54d', '0x79e0b1', '0x7a0bce', '0x7a036c', '0x57dcae', '0x793aee', '0x7a0ac7', '0x78f823', '0x756f05', '0x6bc2a5', '0x79e324', '0x7a0d8b', '0x3dd1e4', '0x79f022', '0x7a2aca', '0x79fec6', '0x72d03e', '0x7a01d7', '0x396852', '0x332e6f', '0x68329a', '0x79c103', '0x7a01f5', '0x79ef2a', '0x79d65d', '0x46a576', '0x2133f2', '0x79c400', '0x79c460', '0x17c2ac', '0x4fdea1', '0x79cf22', '0x795504', '0x7a24fa', '0x56365a', '0x761fcb', '0x79f127', '0x79e623', '0x79fce6', '0x79d2ea', '0x796331', '0x785653', '0x79d519', '0x77d418', '0x79d633', '0x79f89b', '0x438d31', '0x77f95e', '0x79d82d', '0x12011f', '0x79dbe9', '0x79f7b8', '0x79d4f7', '0x79ec86', '0x7a1e43', '0x7a240e', '0x7a2802', '0x79f6f0', '0x79d65e', '0x79e13e', '0x7a05f4', '0x3c3b79', '0x7a2003', '0x7a1a76', '0x79d9ad', '0x79e2f9', '0x4d8433', '0x7a0f48', '0x7a147d', '0x78defd', '0x7a6a3f', '0x2d0b68', '0x79f011', '0x79d876', '0x79e684', '0x79cf4c', '0x79efc2', '0x79f465', '0x79d21b', '0x79cd7f', '0x7a0202', '0x7a09fe', '0x7a1757', '0x79e288', '0x4e3204', '0x79d58f', '0x79f0d8', '0x7a4af2', '0x5f881d', '0x79fd5c', '0x79e1df', '0x70702a', '0x79c9b4', '0x7a1115', '0x7a0783', '0x79eb21', '0x7a0509', '0x7a0243', '0x7a0a50', '0x7a0466', '0x1d8f13', '0x79da6f', '0x7a0f2f', '0x3a9703', '0x7a0d2c', '0x79e4f6', '0x7a21ac', '0x30b06d', '0x79f741', '0x79d863', '0x79c7bb', '0x7a0fa7', '0x79a4c2', '0x71e29a', '0x7a21bd', '0x79f7df', '0x799876', '0x4f40e7', '0x4a4752', '0x79dcc0', '0x79ce16', '0x7a010d', '0x3820e8', '0x7992a2', '0x79eafe', '0x78a799', '0x7a1590', '0x79f07e', '0x799791', '0x430b85', '0x79d29a', '0x79e6e0', '0x7a01ec', '0x79dcd6', '0x79e597', '0x79cc63', '0x7920b4', '0x7a11f0', '0x730e2f', '0x784949', '0x7a0ac8', '0x6a581f', '0x79ff6a', '0x711fcd', '0x79d882', '0x71c256', '0x290c9b', '0x79ff60', '0x79d9be', '0x79f00e', '0x7a21c3', '0x780a2e', '0x223985', '0x797565', '0x79e0ac', '0x7a1080', '0x79d410', '0x396375', '0x7a0ea3', '0x79e5f6', '0x79f726', '0x7581c2', '0x3f10e2', '0x796777', '0x79ff0c', '0x78e2cd', '0xaf3f5', '0x307528', '0x79ded2', '0x793787', '0x32fe5d', '0x4695a4', '0x79c7a7', '0x670362', '0x604c35', '0x7a3cad', '0x79fbe8', '0x793f3d', '0x79d0ed', '0x709411', '0x79e38d', '0x79c771', '0x7a01b3', '0x7a19b9', '0x71cb31', '0x7a0e82', '0x794156', '0x79f316', '0x6abe3c', '0x79ffc8', '0x7a0bb4', '0x79c352', '0x7a1171', '0x7a238f', '0x79f5e5', '0x79fddd', '0x786b73', '0x0', '0x79fed2', '0x6a981f', '0x798e8f', '0x78dd61', '0x7a29ac', '0x7a0d4a', '0x79e503', '0x79d57c', '0x79eb0e', '0x79d6ba', '0x79fbc3', '0x7a2b63', '0x7a3b68', '0x79ff00', '0x79af18', '0x460295', '0x79f6b5', '0x71ef08', '0x79c7dc', '0x4dc5d2', '0x79c097', '0x79e80e', '0x79d2b5', '0x7a0b18', '0x6e7dba', '0x6af450', '0x72b118', '0x7a2e37', '0x105174', '0x72951b', '0x79eebf', '0x79e5c4', '0x79d571', '0x7a07df', '0x79c196', '0x79eaa6', '0x7a00ff', '0x79d260', '0x79ec6f', '0x79c146', '0x79eb0c', '0x79deb5', '0x719c4c', '0x79d937', '0x758a75', '0x79ecd6', '0x7a10ac', '0x7a0104', '0x79e0e7', '0x75e68b', '0x7a12fe', '0x341809', '0x79c2b5', '0x79e39f', '0x7a0b51', '0x79e8cb', '0x7860b7', '0x79fd7a', '0x7994e8', '0x79ef2b', '0x79d6cb', '0x7a0429', '0x7a073d', '0x7a3783', '0x75a45d', '0x2212ee', '0x7a0e2b', '0x7a016a', '0x79ddf6', '0x7a010a', '0x7a0903', '0x79f4b7', '0x799a6e', '0x7a0b97', '0x79f0a1', '0x79e233', '0x7a06d5', '0x7a0d59', '0x79c392', '0x79e015', '0x79ceee', '0x452081', '0x79d004', '0x630976', '0x79d8f1', '0x7a156e', '0x2de62b', '0x79c840', '0x78615e', '0x7a0aff', '0x79f921', '0x79ebfe', '0x7a01cd', '0x79dfac', '0x79e8ae', '0x79fb4d', '0x7a2c9b', '0x7a0349', '0x79eb4d', '0x7a0c3b', '0x79c114', '0x79ea91', '0x79c7e7', '0x79e7d3', '0x79f7cd', '0x79e556', '0x79c653', '0x79df60', '0x7a0f81', '0x79f545', '0x79d3e7', '0x7a0bfa', '0x6c08c4', '0x7a074d', '0x79e60d', '0x79de4a', '0x594203', '0x7a47cf', '0x79ce6c', '0x79e631', '0x79deca', '0x79f553', '0x79c99d', '0x79dcab', '0x79741e', '0x423ccf', '0x79ee9b', '0x713746', '0x79d8da', '0x7a2454', '0x79d7ba', '0x79dad2', '0x7a156d', '0x7a0362', '0x79e613', '0x79e358', '0x738325', '0x2c73ec', '0x79e394', '0x79c8f8', '0x79a084', '0x79de99', '0x7a0ac7', '0x79e8a4', '0x79c1a0', '0x799ea3', '0x79f052', '0x72d13b', '0x79e4fe', '0x79e5a0', '0x79fa80', '0x7a005e', '0x7a079d', '0x79efd6', '0x79dee2', '0x79f779', '0x7a041d', '0x79e57c', '0x79fc4f', '0x79ee8e', '0x716244', '0x79f702', '0x79cfcd']\n",
      "[]\n"
     ]
    }
   ],
   "source": [
    "str_counter = 0\n",
    "hex_str_counter = 0\n",
    "str_list = []\n",
    "hex_str_list = []\n",
    "\n",
    "for gasusd in raw_broadcast_df.gasUsed:\n",
    "    if type(gasusd) == type('str'):\n",
    "        str_counter += 1\n",
    "        if gasusd.startswith('0x'):\n",
    "            hex_str_counter += 1\n",
    "            hex_str_list.append(gasusd)\n",
    "        else:\n",
    "            str_list.append(gasusd)\n",
    "        \n",
    "print(str_counter)\n",
    "print(hex_str_counter)\n",
    "print(raw_broadcast_df.shape)\n",
    "print(hex_str_list)\n",
    "print(str_list)"
   ]
  },
  {
   "cell_type": "code",
   "execution_count": 392,
   "metadata": {},
   "outputs": [
    {
     "name": "stdout",
     "output_type": "stream",
     "text": [
      "8785\n",
      "8785\n",
      "[0, 0, 0, 0, 0, 0, 0, 0, 0, 0, 0, 0, 0, 0, 0, 0, 0, 0, 0, 0, 0, 0, 0, 0, 0, 0, 0, 0, 0, 0, 0, 0, 0, 0, 0, 0, 0, 0, 0, 0, 0, 0, 0, 0, 23192, 0, 0, 0, 0, 0, 0, 0, 0, 0, 0, 0, 0, 0, 0, 0, 0, 0, 0, 0, 0, 0, 0, 0, 0, 0, 0, 0, 0, 0, 0, 0, 0, 0, 0, 0, 0, 0, 0, 0, 0, 0, 0, 0, 0, 0, 0, 0, 0, 0, 0, 0, 0, 0, 0, 0, 0, 0, 0, 0, 0, 0, 0, 0, 0, 0, 0, 0, 0, 0, 0, 0, 0, 0, 0, 0, 0, 0, 0, 0, 0, 0, 0, 0, 0, 0, 0, 21000, 0, 0, 0, 0, 0, 0, 0, 0, 0, 0, 0, 0, 0, 0, 0, 0, 0, 0, 0, 0, 0, 0, 0, 0, 0, 0, 0, 0, 0, 0, 0, 0, 0, 0, 0, 0, 0, 0, 0, 0, 0, 0, 0, 0, 0, 0, 0, 0, 0, 0, 0, 0, 0, 0, 0, 0, 0, 0, 0, 0, 0, 0, 0, 0, 0, 0, 0, 0, 0, 0, 0, 0, 0, 0, 0, 0, 0, 0, 0, 0, 0, 0, 0, 0, 0, 0, 0, 0, 0, 0, 0, 0, 0, 0, 0, 0, 0, 0, 0, 0, 0, 0, 0, 21000, 21000, 0, 0, 0, 0, 0, 0, 0, 0, 0, 0, 0, 0, 0, 0, 0, 0, 0, 0, 0, 0, 0, 0, 0, 0, 0, 0, 0, 0, 0, 0, 0, 0, 0, 0, 0, 0, 0, 0, 0, 0, 0, 0, 0, 0, 0, 0, 0, 0, 0, 0, 0, 0, 0, 0, 0, 0, 0, 0, 21000, 0, 0, 0, 0, 0, 0, 0, 0, 0, 0, 0, 0, 0, 0, 0, 0, 0, 0, 0, 0, 0, 0, 0, 0, 0, 0, 0, 0, 0, 0, 0, 0, 7999608, 7985234, 7980506, 6262777, 5891096, 7970633, 7992506, 3888208, 8009535, 7987443, 2567213, 7999958, 7995631, 7986150, 7988073, 7658893, 7998524, 7997051, 7980435, 3265742, 5209614, 7862546, 7355502, 7981098, 7956739, 7951051, 7985251, 7989939, 7993248, 7980441, 7982571, 7989495, 7982851, 7979392, 6852634, 7979646, 7984909, 7880959, 7903908, 7989149, 7988213, 7995354, 7708929, 7983345, 0, 1543337, 7992760, 4589971, 7991931, 7896437, 7999245, 7978364, 7704465, 7995556, 7994966, 3524843, 4465169, 900563, 7987551, 5438060, 7916390, 6919799, 7944773, 7995784, 7971432, 7236537, 7975882, 7950347, 7907128, 4815811, 1640517, 7225786, 7974012, 3027392, 125650, 7978334, 6100779, 8006331, 7997375, 6093145, 1353361, 414290, 7949929, 3502857, 7171881, 5452655, 5318666, 7633250, 1343626, 1995781, 7941640, 7981879, 7986260, 7915354, 7502787, 7838776, 7959316, 5527874, 7960322, 7998157, 7994039, 7447532, 7885481, 7985618, 5115959, 7997434, 4395266, 0, 7982545, 7995555, 7984001, 7990734, 7986458, 7984377, 8001107, 4433820, 7989076, 7997983, 7992771, 7992904, 7998730, 7993801, 7979977, 7983523, 7915075, 7996850, 7994551, 7992132, 7987500, 7999202, 7670167, 7997403, 7924939, 7989845, 7998376, 7997531, 7993589, 4008199, 7558099, 7678401, 1552091, 7984381, 7934862, 7032013, 8003358, 7985876, 7986978, 7925184, 7984030, 7175653, 3569784, 7989994, 2619850, 2831359, 7987345, 7641540, 7998123, 7987134, 7978600, 8001019, 7995862, 5088049, 7900157, 7811448, 7990052, 2199151, 2633441, 7989988, 0, 1607399, 7983574, 7949165, 7989549, 0, 8005272, 7980761, 7967741, 7991692, 7924299, 7982458, 3768651, 7993966, 7998010, 7524262, 4091789, 7891854, 7984319, 7530725, 0, 7701827, 7985643, 7995379, 7989838, 7913253, 7985291, 8003482, 7973775, 7993301, 8003188, 8007961, 3357441, 7992164, 7979477, 7982399, 7983992, 7630953, 7900994, 0, 7939164, 7787241, 7597630, 7883981, 7997533, 8008869, 6262362, 7081753, 7989410, 7966613, 7989412, 7999399, 7995755, 7989426, 5882582, 7897893, 5864193, 6448252, 7995388, 7922631, 4785539, 5333251, 6776654, 7981966, 7987580, 6420198, 7984950, 7984157, 3955170, 0, 7992674, 3100362, 7984631, 7885129, 4415858, 7994834, 7980500, 7886584, 8004691, 8003455, 5568082, 7968387, 7986458, 7958104, 7985465, 7983631, 7982424, 7982431, 7985116, 7988812, 7538743, 7994375, 7999532, 7967562, 7989666, 7939850, 7997595, 7983909, 7999638, 8019917, 7997959, 8001079, 7991133, 7986109, 7646004, 7992266, 7991416, 7990362, 7987262, 0, 7925190, 7988193, 8001562, 7986542, 7897826, 7993520, 7776715, 8003821, 7993704, 7995449, 5842681, 7731189, 6268567, 7440520, 7931124, 7987933, 7984046, 7923307, 8005655, 7989369, 7981814, 7912712, 7661475, 7461632, 7310258, 7954150, 340338, 7986219, 7983288, 5000629, 7985614, 5630011, 7117125, 7965234, 7988235, 7786822, 7246811, 7997320, 7979189, 7973101, 7926424, 7986158, 7986141, 2372537, 2225132, 5850970, 7994959, 4100645, 7955156, 7854828, 1398858, 7742112, 7899540, 6671131, 7995233, 1688711, 3817024, 7992154, 7892698, 1190866, 7961861, 2157851, 7986590, 7961035, 2680105, 7885337, 6425616, 2766986, 7999952, 7942050, 7961065, 803113, 7979655, 7952094, 5222361, 3585193, 0, 7983292, 4401033, 7914235, 7289132, 7984019, 7998084, 7953687, 7926085, 7779392, 7986033, 6229301, 7861275, 5552755, 7996059, 7888743, 2303517, 4023004, 174316, 1623030, 7974889, 6024639, 7997360, 6189463, 7645301, 7984044, 7981332, 7992318, 7986887, 7980104, 4273110, 7987562, 7981645, 7987821, 8023567, 8000176, 8005701, 1940642, 8013004, 7985167, 7982498, 305248, 7991725, 0, 7998784, 7971090, 7995718, 7277138, 7409862, 7981258, 7995250, 7995530, 5502222, 4107472, 7982645, 7828756, 4258488, 0, 5787735, 7989882, 7855184, 7912031, 5838045, 7993885, 7940591, 7997795, 7746281, 5166358, 7899623, 5076960, 7998553, 7996982, 7998901, 7986909, 7968244, 7984832, 7978136, 7984354, 0, 7993099, 7969044, 7984448, 7271566, 7508720, 7993171, 0, 7993583, 7988522, 7991381, 7239971, 7999483, 7990529, 7995356, 4017416, 4827054, 7582286, 7852877, 7954639, 3929576, 7986456, 7995305, 7966685, 7986132, 5076809, 7769865, 7986356, 7987012, 4825408, 7995799, 6604533, 7997045, 7987539, 6777512, 7966234, 3533101, 4866165, 7994131, 1483360, 94988, 4990698, 6136595, 7987859, 7806172, 2387942, 0, 8003753, 7800753, 7555714, 7991155, 7920557, 7149238, 6690955, 7982610, 8000590, 7999548, 7979919, 7997457, 7913901, 7814928, 7906543, 7988732, 7988443, 7999197, 7603612, 7981693, 2952651, 3785622, 7986265, 2884144, 7996803, 7386840, 7983853, 8012217, 7999971, 7995729, 7983586, 8002786, 7712637, 7961527, 7801527, 7979799, 8004997, 8000081, 7982479, 7814549, 7980588, 7998745, 7720979, 8014601, 7982241, 7992515, 7990014, 8000465, 7979379, 7989015, 7985168, 5144834, 7992654, 7998355, 2438660, 7995900, 7904512, 7979528, 7989203, 8001550, 7987768, 7989151, 7958754, 7984452, 7994312, 7927118, 6363080, 7448611, 7944705, 6415384, 7465725, 7879407, 7895754, 0, 5644464, 7990343, 8000498, 7756963, 7838315, 7954903, 7987207, 7850047, 7979468, 7996467, 7985272, 7323611, 6105294, 7981456, 1193775, 7996681, 2842234, 7908607, 7990356, 7947136, 7995479, 2239690, 2647545, 7902979, 0, 7905426, 7941340, 5232341, 6977720, 4573065, 7958335, 6829253, 7999803, 7775227, 7927618, 7979421, 7958029, 7982223, 7995906, 7996981, 0, 7987919, 7985768, 7982761, 7980350, 4955102, 7980397, 5014929, 2997650, 7962161, 7999609, 7980991, 7994784, 7106933, 6934644, 0, 7985851, 3389347, 7986705, 7994174, 5969988, 7945807, 7102808, 7955289, 7835706, 3562813, 7990904, 7994564, 4069269, 7987944, 7995994, 7977133, 7639228, 7756763, 7991721, 4733203, 7920331, 3316294, 7996751, 7964160, 7683647, 2631762, 6042184, 7985648, 7996159, 7997682, 0, 7955281, 5404552, 7980474, 4599899, 7919292, 7894364, 7986303, 3850438, 7052519, 6825390, 6631629, 7694305, 7946840, 7917018, 7991354, 7662817, 7972787, 2577708, 7889336, 4906910, 6119573, 2923809, 7984994, 7996749, 7999261, 7982910, 7999614, 7945232, 7985195, 7997859, 8008788, 7981698, 8000244, 7983982, 7988186, 7973772, 8002296, 7994018, 7990721, 7982084, 7999428, 7992349, 7993574, 7993355, 7987778, 7998121, 0, 7988442, 7934590, 7982509, 7996847, 7992023, 7989314, 7982950, 7980437, 8010538, 7984611, 7998529, 7986598, 8002186, 7991721, 7993252, 8013957, 7984127, 7982173, 7983569, 7986212, 7993822, 7980626, 7987710, 7937912, 7988127, 7988391, 7985328, 8001483, 8002260, 7994520, 7996195, 7999336, 7981049, 7996373, 7988478, 7991981, 8003447, 7990277, 7994782, 7984334, 7997949, 7906511, 7988709, 7996258, 7537189, 7987285, 7982631, 6381897, 7817618, 7989122, 867876, 7997145, 0, 8000453, 7989300, 7995565, 7996457, 7913122, 7990897, 7996107, 7919850, 7997113, 8003869, 0, 7986008, 7993398, 7542309, 7998390, 7955444, 7981991, 7997102, 8005677, 7981042, 8002681, 7973869, 7995974, 7994414, 7965958, 8022493, 7984606, 7983267, 7980006, 7997725, 8000785, 7912206, 7989802, 7994623, 8001109, 8001097, 7983010, 7972648, 4086149, 7985930, 7989067, 7987176, 7994512, 7086486, 7994197, 7995424, 7995439, 8000150, 7861079, 7984574, 7994715, 7983789, 1728853, 7987922, 7995019, 7982912, 7813776, 7981860, 2538389, 7995620, 0, 7996448, 7990108, 8000867, 7998744, 3678843, 7990630, 694542, 8003387, 5912914, 7908426, 2016393, 7987524, 7936838, 7393405, 7148695, 7993644, 7997096, 7998487, 7280414, 6491377, 6277800, 7992268, 7988588, 8015063, 7983254, 8003543, 7998664, 7993212, 1063111, 8029260, 7927726, 6231301, 7779076, 7510685, 5822510, 7993268, 8000788, 8008041, 7918149, 7999124, 7997647, 7987234, 7988864, 7952215, 7979476, 7989033, 7984852, 7997458, 3477151, 7985534, 7981152, 7986631, 7989968, 7980675, 7994897, 7983823, 6342242, 7995837, 7887150, 7993486, 7921593, 7998394, 7990172, 7991886, 7995995, 7987769, 7984451, 7995041, 7987841, 7993482, 7989398, 8000281, 3904828, 7999271, 7991725, 7994137, 7990501, 7912142, 6831827, 7994976, 7994443, 8003558, 7835786, 2277075, 4120498, 7994307, 7990706, 7996301, 7751664, 7989764, 7988470, 7998490, 1339286, 7984903, 7996906, 7990719, 7991762, 8023449, 7995691, 7991520, 7987257, 7999585, 7994711, 7987778, 7998541, 7978973, 7982262, 7985088, 8001174, 7928539, 7984357, 7305745, 7851191, 7994158, 8002741, 7987788, 3101147, 7991552, 6911911, 7991146, 7996538, 4328964, 7997275, 7994000, 7986633, 7983331, 7996874, 7979520, 926839, 718118, 7989828, 7903653, 7975465, 7981233, 7982506, 7985506, 7996461, 7979919, 7981626, 7990373, 7994401, 7983251, 7998672, 7986761, 7979060, 7993616, 7982007, 7962530, 7981534, 8008702, 7982676, 8001039, 7985899, 7988521, 7999619, 7999156, 7981323, 7995856, 7989213, 7801674, 7975356, 7924851, 8016007, 8007735, 7987741, 7990549, 7989938, 7985134, 7961698, 7987708, 7904624, 7994272, 2282204, 7990914, 7990381, 7989982, 7996142, 7978044, 2595785, 8003665, 7983360, 7917403, 7912368, 0, 7982648, 7996124, 7985422, 7979660, 7909457, 7986887, 7919245, 7990916, 7992429, 7984152, 4596047, 2086384, 7800440, 6033036, 0, 2991751, 7677386, 7881550, 7992781, 7898117, 7981662, 5954147, 7910160, 7903581, 7998363, 8002884, 7992780, 4466692, 7732341, 7541545, 7975385, 7328009, 7980225, 7964027, 7982010, 7956664, 7971479, 132490, 7991138, 7991287, 3028152, 7982176, 7249700, 3588146, 7954402, 7984303, 7993166, 3574708, 7207458, 5766875, 7966595, 1377272, 6010999, 6464910, 7992669, 1786969, 7974501, 7973790, 7958656, 7999931, 7981684, 6939403, 7982131, 7973428, 7979215, 7780859, 4343616, 7180493, 5244385, 6020412, 3390340, 552751, 7943835, 6385565, 3569253, 7274452, 3580381, 36611, 7908720, 4202991, 1691073, 6059858, 7958726, 7998802, 7999709, 7996766, 5748458, 972769, 304181, 4789729, 7956795, 6501562, 7988709, 7269391, 8000358, 7945941, 7969272, 3331623, 7995983, 7952804, 7993884, 7994682, 7003262, 6988954, 7996678, 6611666, 4220950, 6613166, 6897759, 5209715, 7980338, 7839243, 7997552, 5994890, 7973251, 7996236, 855026, 5767175, 5941624, 7988407, 7998811, 5999178, 0, 7959343, 7988565, 7997233, 1896669, 5872814, 7988161, 4992052, 2888416, 5984876, 5078881, 5679443, 2099564, 1777511, 1032837, 7941660, 7955151, 7994107, 7988463, 2903350, 1094253, 7987684, 7981048, 7975681, 5955494, 7945708, 1474606, 7989771, 7995949, 7962839, 3762343, 5982101, 3180794, 6989386, 8000340, 7985508, 7994690, 7979788, 1545445, 7979044, 7983524, 7799409, 4997977, 6979357, 6991923, 7986178, 7987480, 5997754, 3989727, 3984988, 6839315, 2995662, 4722460, 7912760, 6967297, 7997078, 4309078, 7974370, 6984647, 7992484, 7737474, 5995986, 7997886, 7504154, 4650360, 7986984, 6133926, 7992895, 2721576, 7990746, 5001241, 7982224, 7001062, 3452208, 5994716, 7991648, 7980625, 6985626, 6998688, 6992140, 7983838, 360403, 7964265, 7990065, 7940673, 7903491, 5986625, 6981863, 5996346, 4999165, 7877728, 5967476, 6982251, 515613, 2516408, 7868789, 7890760, 7818644, 7973309, 7975231, 3902859, 7789901, 7996483, 7916396, 7984727, 0, 7999130, 1229001, 0, 7978123, 3547704, 7993191, 4980773, 7984849, 3995235, 5998736, 7965529, 3992584, 7999284, 3807822, 7878861, 0, 6998126, 3140450, 7946891, 7186741, 7992198, 7923853, 7988288, 6324318, 7302284, 7984553, 7925064, 7817887, 7987197, 2188788, 7987721, 7984578, 5807949, 6653543, 1633547, 21000, 7874720, 2263286, 554879, 3980317, 8003315, 7982072, 7989856, 1722959, 7686599, 7902032, 7993028, 3247207, 7984269, 321754, 6731001, 7918283, 7993341, 7885160, 7879448, 7984551, 7981562, 7824394, 7983121, 7969964, 1582060, 3007006, 7932174, 7976873, 3140157, 3418097, 1338513, 7841066, 2076422, 3701508, 7789954, 1012721, 7771878, 7844143, 2266667, 6392056, 7779487, 5374875, 3900366, 8018102, 7989759, 5740740, 2216586, 6996302, 7980047, 577695, 7821304, 7867165, 1091296, 7913697, 7920362, 5995636, 7985561, 6919106, 4220649, 4333996, 0, 4592404, 7932941, 6646794, 7973844, 3845136, 7990675, 21000, 1685180, 627052, 6674305, 455495, 4955411, 4985671, 7992709, 2988259, 7855716, 7997029, 2143683, 7957088, 2798137, 1129398, 276539, 6306822, 7656971, 7993025, 7994415, 5774590, 4235350, 5793855, 7931046, 1976733, 4754236, 7926326, 5444718, 4632566, 7854113, 1919659, 4260723, 7787187, 6504247, 4197056, 7990867, 7977438, 7998934, 5588808, 4823985, 3857312, 7940581, 7961158, 4818696, 7981852, 7663103, 5139669, 0, 7967380, 7106501, 7927387, 4626122, 7802239, 7875764, 7842977, 7908762, 7991523, 7981387, 1387030, 5337425, 1746188, 7996050, 3112825, 6505486, 1106205, 2721217, 7140407, 7677234, 3080962, 7997605, 4127646, 7050253, 6049630, 7981836, 7945604, 7952319, 7897810, 7983446, 7994323, 7958814, 7989384, 7983102, 7778118, 7958690, 2580533, 7644641, 831105, 0, 1356844, 7985815, 7806517, 7898006, 0, 7928019, 7833366, 8001139, 7312897, 7779480, 7983141, 7991171, 7998720, 7357730, 8002219, 7979791, 7995220, 4213321, 3506978, 5941962, 7994567, 7984552, 7847786, 7993111, 1772737, 3816399, 7996243, 7110987, 7769808, 7845028, 4600792, 8002610, 7939484, 8016443, 7982379, 7995274, 7628460, 5144474, 6900585, 7992450, 7854384, 7994871, 7979906, 7979990, 3002900, 7989030, 7991638, 7993065, 8015565, 7996548, 5998275, 4610878, 6993880, 7267504, 7998031, 7991141, 6980520, 680404, 4987963, 6983290, 4939688, 7981183, 1788282, 3381959, 7985407, 7989915, 5980514, 7966001, 7986102, 7986466, 7981514, 8004311, 7998468, 7976741, 7996419, 7987563, 7995963, 7988768, 7988292, 7982790, 7979824, 7986433, 8002314, 7982325, 1909629, 7982038, 7992878, 4764429, 7982147, 3278289, 7999932, 7917508, 7998120, 6858872, 7986655, 7979813, 7987012, 7975909, 7999422, 6372356, 4671760, 7953199, 7935432, 7927874, 7902944, 7936536, 7937749, 7995708, 7912262, 5468981, 7843824, 8009296, 7983316, 5289341, 7836912, 7836042, 7780701, 1333691, 2402228, 5645893, 7984744, 4422706, 7203202, 7994402, 7901315, 7784025, 7444708, 3458952, 287437, 1488489, 7990959, 7878237, 7015126, 4373129, 1173996, 7882049, 6719980, 7985064, 7996440, 0, 7991787, 5760217, 7992535, 7995263, 7997859, 7993702, 7979568, 8007682, 7996091, 8017344, 7995049, 1533183, 3819554, 7993368, 3702433, 255394, 7862678, 7988934, 8002348, 7994704, 7996098, 7996917, 7987701, 7990430, 7992075, 7996725, 7998799, 7987688, 0, 7990020, 8006185, 7992727, 7911254, 7958121, 7984560, 7316822, 3776918, 7982883, 7993242, 7986628, 7999123, 7986856, 7989655, 7979232, 6997658, 0, 6892377, 6915779, 7998436, 4074696, 5924490, 7998666, 7980512, 7933401, 7993384, 6608690, 8004674, 6594535, 0, 7999323, 7988518, 7982186, 7998159, 7839217, 6691391, 7995655, 6981403, 7990205, 5004782, 6984348, 6987341, 7983829, 7998489, 7963551, 7984471, 7986165, 7884520, 7166436, 8001911, 8000029, 7991890, 8008353, 7989374, 7993613, 7988006, 7992532, 8004237, 7988250, 3440833, 7999683, 7536972, 7999756, 7983397, 7994397, 7991513, 7992442, 7998089, 8003507, 7983765, 7989798, 7989771, 7990340, 7992889, 8005461, 7970172, 7980576, 7983638, 7991717, 7987305, 7995580, 7980662, 7991357, 7991072, 7999453, 7997346, 7979598, 7991374, 7987904, 7998440, 7984686, 7982863, 7994625, 7975609, 7985466, 7952469, 8016150, 7961790, 7998276, 7979139, 7989032, 7992303, 8001967, 7971954, 7997246, 8000677, 5873255, 7998777, 8005116, 7988209, 7998496, 7989466, 7902753, 0, 7987544, 7998169, 7979809, 7989342, 7997283, 7997591, 7831378, 7979261, 8003463, 7995858, 7999888, 7996031, 7994611, 7997437, 7994633, 7923504, 7981820, 7985827, 7999249, 7964427, 7985455, 7979902, 7980233, 7985273, 7900819, 7981382, 7984539, 7979022, 7996778, 7990283, 7995156, 7980850, 7996698, 7985998, 7992948, 7998278, 4370374, 7995739, 0, 7985708, 7984668, 7979276, 2675619, 7979723, 4547110, 7984459, 7985283, 7984661, 7990975, 7987843, 7999908, 7994454, 7979995, 7983451, 7999087, 7993577, 7986892, 7991027, 7993579, 7999540, 7995005, 7989611, 7998061, 7984277, 7994464, 7746380, 7728783, 7998228, 7985230, 7996709, 7994858, 0, 4064075, 7441647, 7993357, 7955377, 7949839, 8001058, 7922734, 7943175, 0, 7986568, 7995582, 7243858, 7982325, 7212842, 6483649, 7981773, 7984710, 5557011, 7905472, 7857821, 7846209, 6850120, 7993371, 6555701, 6621136, 7267994, 7856463, 6841543, 1569532, 7763048, 1488495, 7958059, 7826708, 5266043, 2618630, 4774676, 7994402, 0, 7729676, 7568405, 4709624, 0, 7985461, 7927899, 2825426, 7987018, 7998067, 648618, 5024799, 2050290, 7998653, 7988539, 0, 1256818, 6068450, 7388390, 7781999, 3504215, 0, 7725110, 7834783, 7980328, 7999195, 7995410, 7996651, 7981285, 7986477, 7983805, 7996091, 7981209, 7992657, 7983932, 7990112, 8000799, 0, 7837262, 7994052, 7984012, 8003345, 7997121, 7999097, 7920756, 7996635, 7996951, 7984508, 0, 7979520, 7986884, 7983589, 7998132, 7999283, 7980240, 7997876, 7980132, 7985503, 8000782, 7991797, 7984066, 0, 7979590, 6992909, 7997156, 6988679, 4998538, 7917877, 7982241, 7982043, 6993309, 7998916, 8001671, 7999709, 8010643, 8003348, 7993961, 7983063, 7996551, 7984686, 7983266, 7996358, 7986381, 7999310, 7995995, 8004569, 7984448, 7981351, 7981479, 7986717, 0, 8003090, 7982973, 7997525, 7998864, 7994754, 7979391, 7983364, 7997428, 7999703, 7986431, 7991305, 7992814, 7980124, 7971549, 7996603, 8005104, 0, 7998553, 7995080, 7991921, 7992024, 7996458, 8016280, 8001262, 7992099, 7992391, 7997275, 0, 7989006, 7924759, 7916412, 6106752, 7986513, 8003352, 7994338, 7990708, 8021257, 7990365, 7996226, 8004386, 7993944, 8001759, 7901104, 7990404, 7986551, 7979698, 7996535, 8003835, 7980901, 7987268, 7984478, 7996822, 7991633, 7979852, 7991413, 7996262, 7994482, 7992295, 7989166, 7983517, 7736651, 7900772, 8003200, 0, 7992382, 1290055, 8004855, 7984359, 7983778, 7989580, 7983955, 7998037, 7996687, 7983927, 7988315, 8000021, 7986776, 7986715, 7997676, 8013891, 7999731, 8002838, 7993261, 7988998, 7996242, 7991559, 7997218, 7995231, 7981637, 7991020, 7965207, 7982648, 2462398, 7985537, 7987019, 7983368, 7999257, 7994154, 7984509, 7982717, 7993688, 7979289, 7989734, 7995170, 7996646, 7996323, 7988796, 7990270, 7998879, 7990565, 7991480, 7997757, 7996791, 7992200, 8000012, 7904985, 8000267, 7985040, 8000761, 8003506, 7985429, 7992445, 7992954, 7981212, 7996675, 7993852, 8002440, 7983313, 7930604, 7991420, 8000558, 7998539, 7983911, 7991169, 7996686, 7993042, 7982372, 7993514, 7991127, 8003755, 7982990, 7990352, 7991978, 7987436, 7993421, 7513378, 7979826, 8029648, 7996211, 7998225, 4591787, 7996486, 7999884, 7992694, 7998282, 7997447, 8001058, 7997657, 5840481, 8002774, 7612687, 7998208, 7980365, 8001686, 7999007, 7994632, 7999653, 7978217, 7988718, 7995333, 7987043, 7711282, 7986727, 7991413, 7994802, 7996434, 8006747, 8002455, 7987033, 7982050, 7982718, 7988418, 7980230, 7987277, 7991458, 8013807, 8005151, 7988229, 7995945, 7996376, 8009818, 7998603, 7999711, 8006383, 7992833, 7986995, 7981317, 7999119, 7990975, 7976020, 7982737, 7998595, 7981703, 7988884, 7990997, 7982056, 7993441, 7900968, 7999875, 7993904, 7991309, 7992543, 7958510, 7984039, 7995727, 7983269, 7990661, 7992123, 7992009, 7987494, 7997822, 7991998, 8003417, 8010120, 7983735, 7996489, 7995714, 7998625, 8011011, 7994456, 7997734, 7998880, 7917158, 7987378, 4600306, 7989897, 7990212, 7744745, 7888012, 8005750, 7982496, 7982705, 7988305, 7989548, 7988895, 7988686, 7956004, 7986351, 7988384, 7984061, 7994162, 8000129, 7988502, 7997720, 7991858, 7996571, 7992973, 7987403, 7993105, 7984266, 7990395, 7983254, 7983079, 7988088, 7999369, 7985593, 7987893, 8026273, 3696190, 8008015, 7986361, 8000765, 7983434, 7996069, 7993608, 7997049, 7981405, 7990856, 7999809, 7987804, 7929181, 7985382, 7987771, 7996532, 7998838, 7988602, 7989431, 7990512, 7984335, 8004247, 7995698, 7985814, 7999411, 7891992, 7997149, 8004855, 7980878, 7986037, 7998057, 7989106, 7889598, 7986988, 7988309, 7991591, 7985649, 7983491, 7991796, 8001615, 7838390, 7994540, 7984535, 7995863, 7992740, 7994388, 7999170, 7990143, 7982990, 7999077, 7997437, 7996410, 7996231, 7990117, 7996101, 8004743, 7991359, 7792941, 7997925, 7994606, 8015629, 7984701, 0, 8014020, 7996680, 8001849, 7985021, 7992196, 7988388, 7983176, 7995693, 0, 7991454, 8002463, 7987728, 7882945, 7983956, 8014423, 8016067, 7994302, 7985988, 7994921, 8000771, 7982172, 7994872, 7992323, 7996015, 7992644, 7990463, 8003132, 7980221, 8000883, 7980054, 7987385, 7542661, 7992756, 7980278, 5985675, 7982954, 7997946, 7991055, 6986177, 7993300, 7981477, 7981679, 7993201, 7963837, 7974402, 3785990, 7982637, 7984745, 8000663, 0, 8002315, 7991347, 7742213, 7985606, 239816, 7996621, 7985220, 7994025, 7991822, 4770350, 7985301, 8014805, 7995165, 7998595, 7993356, 7990644, 7924833, 7999212, 7996041, 7988671, 7980722, 7987574, 7986774, 7987020, 7996108, 7998946, 7985846, 7981448, 7999150, 7986126, 7985381, 7976069, 7984665, 8001776, 7990691, 7998235, 8019762, 7999758, 7984963, 7990716, 7990112, 7979383, 7997292, 1224760, 7979453, 7998000, 8008311, 8016684, 7987993, 8011747, 7997738, 7989383, 7993924, 8002036, 7999392, 7995625, 7986072, 7989062, 8012380, 7985965, 8005063, 8010737, 7710046, 0, 7988728, 7991822, 7981373, 7905088, 7992880, 7996562, 7981305, 0, 7991819, 7991676, 7990312, 7997817, 7989859, 7997572, 7984607, 7991027, 7991417, 7957137, 7986117, 7998928, 7982028, 7971253, 7993669, 7983862, 7988218, 7998005, 6432168, 7983838, 7999289, 7983366, 8001911, 7998633, 7987326, 7994503, 3385554, 7998828, 7760061, 7984695, 7995991, 7984821, 7986302, 8011578, 3403005, 7982141, 7984997, 4364749, 7990536, 7984655, 7989080, 7997208, 7998449, 0, 7990169, 7991964, 7998953, 8011240, 8023169, 8042642, 2963832, 894861, 5873634, 8002996, 7988349, 8000310, 7991988, 7990079, 7988788, 1975116, 7990336, 8003375, 3003673, 7990475, 7984402, 7996036, 7030854, 7984483, 8004984, 7988280, 3598617, 304719, 7993632, 7029979, 7995100, 7036725, 7992980, 4452647, 7999952, 7954489, 7984191, 7984069, 7991303, 6653949, 7983994, 7982446, 7985787, 7984574, 200241, 7742516, 7926727, 7971276, 7011913, 7539848, 7934445, 7985892, 7300982, 4166639, 7611663, 7936107, 7979455, 7994450, 7966502, 4866265, 7999627, 7655141, 7985765, 7999259, 7887238, 7998631, 7987514, 440216, 7995312, 7393016, 7993019, 7733445, 7953088, 7998299, 7993582, 7997491, 7999128, 7983701, 7986860, 0, 7988032, 7988965, 8000391, 7989141, 7981087, 7986964, 7989235, 7665952, 6950035, 7894643, 7992538, 7958365, 0, 7996521, 7988004, 7994986, 7255513, 8003627, 3903570, 7958552, 7933132, 7981484, 7998555, 7993251, 7981318, 7973555, 8002942, 7998685, 7996993, 7617021, 7909627, 7980091, 7999759, 7990537, 3396320, 7986226, 7974546, 7429457, 7307994, 7927947, 42000, 7924253, 8015008, 6700554, 7999190, 7996816, 5894207, 7985104, 7919103, 7988967, 7996720, 7995726, 7707220, 7990078, 7989221, 7899451, 7982014, 7969226, 7983473, 7988486, 7902706, 0, 7453896, 7989744, 7955170, 7212869, 7970961, 7983663, 7994577, 7975936, 7986256, 7980395, 6572731, 7987270, 7997332, 7994739, 7993432, 7999715, 7625613, 8009822, 7993160, 8004134, 7896710, 7988358, 7890584, 7934760, 4117474, 7988786, 7823013, 2976245, 7999871, 7960168, 7951230, 7963047, 8006529, 7941133, 7995028, 7986489, 7998257, 7995431, 2910264, 328077, 7998564, 7962422, 7934695, 7985392, 1569904, 7988268, 7492058, 7992199, 7995224, 5837544, 7985057, 7982239, 5531718, 7984014, 7984571, 7963821, 5376959, 7965991, 7990553, 7923556, 6210222, 7997853, 7995068, 7984330, 7485064, 0, 7980185, 7976523, 7989105, 7996014, 6830900, 7994740, 7992160, 8009872, 7968692, 4187409, 7326802, 7987014, 4062232, 7988569, 7958908, 7995391, 0, 7686331, 7965390, 8016440, 7990832, 7988094, 7999903, 7993756, 3270833, 7999453, 0, 8012438, 7999914, 7991695, 7988002, 7997326, 7987424, 7986655, 7992823, 7989964, 7965435, 1436170, 7882319, 216376, 8001971, 7949457, 7998342, 7986874, 7985385, 7979834, 7988646, 7991075, 7983718, 5310227, 4676297, 1757863, 7999574, 6621358, 7996501, 7981842, 7995590, 7955764, 3213581, 2577593, 8004598, 4005096, 7962684, 1704869, 7981694, 3666318, 7987910, 7983824, 524776, 7993043, 7997414, 7997586, 5385222, 1014843, 829451, 5098907, 5237921, 843274, 7992991, 7989043, 7981037, 3591003, 7981093, 4046751, 7994111, 7984429, 8009494, 3385394, 1445719, 1796371, 5184885, 1240274, 4330887, 860063, 3039925, 8003850, 7987943, 7991629, 7995478, 5663001, 7987897, 5409220, 7788034, 4249839, 7999974, 4689025, 7922951, 7986337, 4932162, 7998623, 7994494, 7994540, 5015087, 7922981, 7996605, 7994810, 7985629, 514254, 8005334, 7997915, 7861320, 7999280, 474915, 7993007, 7997730, 8009753, 7991663, 7987488, 7993881, 7733466, 7986838, 5556849, 7931052, 7993937, 7992236, 7979979, 1613040, 7987577, 7993844, 2562587, 6271148, 7926188, 7991236, 7972384, 2887321, 7964303, 7992367, 3861279, 7988261, 7981277, 7964802, 7991615, 7970823, 1420071, 7989646, 7994848, 7980052, 2625231, 7979952, 7968483, 7987506, 7997592, 5813402, 7999660, 0, 7944925, 7994267, 4730970, 5993545, 3986252, 4992640, 2994526, 7991885, 7994045, 5982216, 7418441, 3980245, 8005095, 7994165, 5986997, 5991154, 5998167, 6988074, 7994989, 7995806, 7995656, 7970991, 7999036, 3044427, 7987046, 7910352, 7997281, 7985571, 7957119, 7992511, 7998956, 7933996, 7982479, 7983666, 7998494, 7905240, 7992734, 7993574, 7995434, 7984876, 8005492, 7909322, 7998750, 7993811, 7990393, 7990656, 8005549, 7989298, 7996000, 7987883, 7904258, 8001958, 8008017, 7983196, 7998118, 7994821, 7993837, 1103785, 7984260, 7994249, 7999303, 7967827, 7997256, 8008497, 8003988, 7979216, 7990945, 7983577, 7997645, 7988261, 7887449, 7984205, 7991883, 7906363, 4154375, 7985875, 7946702, 7990801, 7998571, 8008086, 7454317, 7994480, 7959700, 7994068, 8000659, 7998331, 7984002, 7994217, 7988089, 7998029, 7898405, 7982819, 7998943, 7989040, 7983449, 7995257, 8017895, 7984168, 7998235, 7994879, 0, 7989495, 7985616, 7980481, 7979987, 7989915, 7996946, 7989387, 7905948, 7991994, 847947, 7984896, 7984438, 7995933, 7986966, 7965034, 8002063, 7919882, 7981117, 7991281, 8001242, 7992399, 7988098, 7983182, 8008092, 7994096, 7991879, 7998941, 7991673, 7999639, 7988116, 7986021, 1336768, 7981381, 7984119, 7987081, 7998513, 7983551, 8001806, 7983736, 7979444, 7979841, 7990558, 7991221, 8003229, 7999924, 7985518, 7994077, 7968321, 7985655, 7995298, 7999171, 7987412, 7952586, 0, 6642795, 4234887, 7986765, 1580738, 7974342, 5573884, 5112961, 363524, 7940353, 4417509, 1087993, 260912, 5692992, 5817686, 7935804, 7921511, 2201997, 7996113, 3664076, 7741992, 766759, 7943223, 1628061, 1234053, 7298597, 2024753, 1494468, 7989709, 7990904, 3803368, 7954034, 7983574, 7425395, 977105, 5067131, 7973952, 7984590, 441245, 7518575, 2952443, 2773833, 206974, 7983460, 7910063, 826043, 283832, 7998286, 7987957, 7997535, 5862831, 7981221, 5794809, 7982023, 4005373, 7927464, 7991758, 1326633, 7195923, 4760261, 7980799, 7619486, 6421734, 6395002, 5724898, 7996951, 7998513, 0, 3274981, 7762763, 7961969, 3780755, 7950917, 5712911, 244083, 7944650, 7993380, 7913163, 7989061, 7938923, 3470767, 0, 7908696, 0, 5779181, 7962968, 7983992, 7994818, 7986156, 7986749, 3048545, 2386754, 5232375, 7073576, 6561648, 3088624, 0, 7961207, 7956705, 4968733, 7608818, 7728622, 7371451, 7992792, 7928676, 5385467, 7948988, 3036979, 1285740, 7911387, 6876385, 7763975, 7981012, 3928945, 7999367, 3510461, 7236579, 389848, 7979409, 7984955, 2804619, 7966103, 7993886, 7928562, 5576226, 7753604, 7911037, 7987612, 7994824, 7991933, 7999293, 8000375, 7952548, 7985354, 7985720, 7993956, 7988582, 2332125, 6539505, 5129467, 6812146, 4792077, 7984530, 7974324, 7990952, 5972236, 3719081, 6010751, 7800559, 3087060, 3008290, 7993930, 7927436, 6212998, 5018377, 7979675, 7956883, 7991932, 7712441, 3849389, 7930022, 7940809, 3351592, 7926524, 4731435, 7987317, 7918808, 7957670, 7863975, 843051, 7986728, 8004485, 7079117, 7110299, 7998871, 3349410, 5596072, 7983172, 7983395, 7980296, 7992683, 1755467, 7996876, 7984751, 7905245, 8003687, 7981151, 7990244, 7953812, 7933545, 7938446, 8003333, 7996496, 7997454, 7786713, 7947525, 6385959, 7920913, 7998543, 6165742, 2679481, 0, 8001918, 7995571, 7992971, 7981938, 7944588, 7996704, 5151158, 3958286, 7995578, 7913736, 5119251, 6279144, 7898577, 0, 6736314, 5170346, 2696217, 7831881, 2650260, 7957588, 7961150, 2269432, 7999770, 7997260, 7194126, 1859096, 1968448, 6378976, 7999569, 2610379, 3256592, 7995789, 4737510, 4542319, 1214648, 6909082, 7981284, 7950334, 1032873, 4077639, 7970086, 7927000, 7987557, 326769, 1082852, 4357633, 2716187, 2622554, 2493704, 5018726, 7979203, 1106375, 2560382, 824555, 7946663, 7952362, 7999483, 7997694, 3615457, 7916668, 4357698, 4063442, 5662957, 3319332, 5540949, 7921501, 7944300, 6506205, 7996635, 7997467, 7830312, 7500113, 7759876, 1836356, 7896021, 3449466, 6013074, 4898117, 4231579, 7958014, 2116541, 5409956, 591221, 5623253, 7964317, 7792395, 7910557, 4744147, 2438575, 2675795, 7914804, 7987074, 7983742, 7982632, 7992842, 7792487, 7984032, 7997975, 8000113, 7994977, 7989498, 7986429, 7971412, 7981472, 8006719, 7799185, 3935750, 2683718, 5400661, 6321529, 7940477, 7996556, 158964, 942793, 2447661, 3538917, 7247383, 7998007, 7901533, 7982755, 3695560, 7996677, 5213256, 7918679, 2450097, 7376412, 7952668, 7983115, 7945594, 2135507, 7915235, 7913280, 4967273, 7984337, 7991540, 5789441, 0, 7973118, 4304668, 6687368, 7755403, 7996217, 6941222, 7982720, 0, 7979214, 831795, 7806738, 7994807, 7979707, 7979303, 7979304, 1157596, 7992099, 7882614, 5896730, 3020934, 5076277, 468249, 5777539, 7917186, 7981223, 7943745, 7994980, 3012846, 2777300, 4839830, 7924683, 2804761, 7991832, 6510847, 7719001, 3091592, 6315677, 7996964, 7990379, 6875238, 0, 7805330, 7699513, 7990200, 4916508, 2381755, 5574816, 113220, 7980495, 7979206, 7994369, 7994562, 7987238, 7981349, 6258015, 8013523, 3176277, 5192664, 7028345, 7997994, 7511962, 7750293, 7997765, 5266351, 8000427, 0, 6594762, 1769808, 0, 7994067, 5330786, 4116081, 5390011, 6307133, 6871358, 4518638, 1123274, 5440682, 7986733, 317442, 7985138, 7652942, 932929, 8001555, 7969942, 5035025, 5320651, 7989909, 7010429, 7995726, 7982047, 7927371, 7973706, 6981103, 7141631, 7153653, 5922462, 0, 923087, 540659, 2418991, 5526682, 2614355, 7010485, 7989609, 1019285, 5120512, 0, 7992909, 5575305, 2972861, 3275782, 7986415, 3269307, 7873951, 7725070, 7992506, 948459, 6514393, 7255391, 7353491, 4199585, 6201897, 7609773, 6551146, 7989733, 7683759, 2864327, 1991074, 536742, 1974489, 6893798, 2823360, 7912341, 3111761, 7984240, 6084756, 7689275, 7980340, 7908576, 1808165, 5520879, 7979340, 3060843, 6717749, 7991147, 118443, 5030447, 7964740, 4152819, 749554, 803072, 5012257, 3660647, 7972279, 386614, 0, 7685817, 2371224, 3989552, 7035113, 616997, 4976322, 5198036, 7643307, 7989556, 1343023, 279231, 6928948, 7990912, 1697971, 6160014, 5719945, 7745995, 1362789, 7987649, 7913418, 1371728, 7959131, 7993979, 7994021, 7213602, 6428545, 4127241, 7275470, 0, 7950518, 8000692, 7985572, 3638151, 7901439, 2186601, 1064228, 4854670, 1352107, 7988482, 7993666, 6511801, 79530, 3305998, 7998396, 2471146, 547422, 7992291, 6054999, 1173492, 4071317, 1812996, 7007020, 6506605, 1707768, 7985093, 7983773, 7986792, 7918031, 6426474, 7140447, 3322843, 7997687, 174469, 8000005, 5223331, 7995999, 6434405, 2976431, 7989275, 7983016, 6382912, 4599102, 7997515, 7997351, 5114981, 7997252, 7993176, 7998715, 2192446, 5298011, 5803623, 7991121, 7986215, 7969560, 7989186, 7980776, 8000039, 7986202, 4798293, 7998818, 7911312, 7990508, 2094565, 7995032, 7992568, 7985082, 58064, 2731792, 1161846, 4995515, 4214318, 0, 7982161, 7998177, 7981253, 7979063, 6996774, 7994324, 7195908, 7935583, 7998871, 3594914, 7992811, 7980000, 8006649, 7983616, 7970840, 7928012, 5914138, 7822171, 7989979, 7996817, 2191702, 4651150, 7989816, 7998142, 7999251, 7972432, 7990867, 7725892, 7990210, 7920916, 7986563, 4647279, 6703396, 112825, 7992947, 7900056, 7981348, 7994882, 2913548, 7999502, 1716297, 7906435, 8007731, 7998337, 7997486, 7985054, 7984938, 2160675, 7982604, 7994893, 7997605, 7996253, 7998594, 7997960, 7991701, 7991814, 7988395, 493055, 7890295, 6479269, 7971798, 7887512, 7981728, 7015888, 7965495, 7755489, 7998361, 7985755, 7959842, 7997272, 7985138, 7987112, 7981908, 2362468, 7998013, 7992112, 7995516, 7938993, 7979950, 6792412, 7981192, 6070770, 7441988, 5433282, 7564511, 7988292, 5415128, 7993629, 2312766, 4326362, 6499647, 7969888, 7968984, 4416184, 7547129, 7901509, 7301227, 5295928, 5374267, 6755586, 3101923, 7826727, 7971699, 7726805, 5096626, 6293541, 7986299, 5596919, 4720135, 6858207, 1610699, 883293, 4532641, 6917369, 1384888, 6490749, 7998467, 7100385, 3879484, 7928124, 886020, 909987, 7996601, 507990, 1960102, 7568854, 7803504, 7936265, 8002247, 7995468, 5177019, 3567029, 7094624, 2000741, 2918358, 0, 4149270, 1257244, 7998399, 7897022, 5668528, 7994862, 7866039, 7998114, 1663062, 7996369, 7990866, 7989619, 7940362, 7982933, 7891116, 3166293, 2104540, 7438642, 7987219, 7983136, 7986796, 7999410, 7994115, 7018650, 7998193, 7980413, 7980409, 7999056, 7976273, 7995310, 7991240, 7987411, 7174134, 4199448, 5184109, 7998685, 4065375, 7982341, 7982565, 7775104, 7986551, 3192461, 5113361, 7272901, 5120149, 7984400, 7929979, 1645848, 5909878, 7983168, 7984061, 5310570, 6423026, 7877383, 7980490, 7979054, 7976569, 7215625, 3342809, 1672785, 1866407, 7979370, 7990499, 3143548, 7987853, 3799795, 8007708, 5435011, 7994185, 7992871, 7892370, 5043877, 7983535, 7415146, 7986680, 8007420, 4088757, 7998110, 7626527, 7966923, 3878928, 7327172, 7732416, 7441769, 7989059, 6560938, 6292143, 8000006, 7161024, 229734, 3630127, 8018070, 7998857, 7983027, 7994205, 7941447, 7990596, 7995339, 7407160, 7981519, 7989495, 7998301, 7998524, 7996464, 7981210, 7873776, 7990414, 7984419, 7993970, 7994093, 3511810, 3983620, 7975405, 3211395, 7991719, 7827267, 4718928, 7957584, 6959167, 7991327, 7990334, 7985717, 3372464, 7965781, 5953134, 1683295, 7981194, 6472400, 7989388, 7994573, 7172485, 7659262, 7995771, 7985834, 6135539, 7917044, 3800221, 7934012, 7989384, 8001273, 7882961, 0, 6845262, 7987163, 7996315, 5819922, 5677592, 7293258, 7494748, 6332405, 7992534, 6031168, 1687665, 4991692, 1389771, 2839487, 7998060, 7842136, 7980261, 7993343, 7981263, 7733211, 935755, 8000266, 7987826, 7976080, 7932361, 7948284, 8001179, 7985107, 7985818, 7811594, 7992969, 7977601, 7982720, 7885286, 823867, 1258935, 1390843, 7931709, 5595363, 6358295, 4447348, 1686219, 6123967, 2370041, 5026780, 8008581, 7550607, 7991845, 1151361, 7997547, 7026663, 4287052, 4723698, 6786622, 3071585, 7106664, 3746554, 158267, 7382587, 7902172, 2050664, 0, 682942, 7994348, 2234961, 7068208, 680989, 7617999, 1132781, 6778363, 177373, 700439, 6549114, 2826829, 6769982, 6962002, 7131909, 7335458, 7347407, 1903891, 2835854, 347316, 116395, 7054608, 7870149, 6873956, 7980967, 7972973, 1683450, 889168, 1377751, 6063754, 7980209, 4456075, 7980290, 7990951, 7995273, 6934899, 6076478, 7943184, 5964932, 7988497, 105000, 4637428, 7824109, 7998873, 7887185, 7986647, 7981077, 7980850, 7982995, 7979510, 5893772, 7911507, 7384456, 980350, 7994666, 7679327, 5196841, 6903048, 7998036, 7986420, 7999533, 1634668, 7979131, 7990058, 7975285, 7684285, 7999340, 7227767, 8006206, 7439451, 6295310, 7981342, 7965596, 7983823, 7939532, 7885813, 3439574, 7945376, 4405979, 7555698, 7987769, 6763843, 6329659, 7985739, 7985401, 6131833, 7971665, 2044471, 5999996, 7989595, 8002836, 7982509, 7767443, 7980483, 7998124, 7983510, 7988631, 7996527, 7991619, 2288207, 7992111, 7990402, 7980166, 7992730, 7989596, 7994493, 7994508, 7988419, 8001348, 7988314, 7993997, 7981426, 7966925, 8003829, 7993432, 7985769, 7994109, 7998994, 7979619, 8002755, 7991149, 7994128, 8001509, 7994338, 8004061, 7072524, 7997334, 7911405, 2108208, 7991626, 7982778, 7999491, 7998758, 7979719, 7990515, 8003209, 7939582, 7989194, 7997552, 7985153, 7984913, 7994123, 7987928, 7999747, 8023233, 7987829, 8002267, 7993179, 7998838, 1846387, 7987575, 7995486, 7982690, 7989211, 7986554, 7999980, 7982072, 7982945, 7982349, 7995362, 7990887, 7999605, 7987390, 7974660, 7981758, 7982087, 7995113, 7997359, 7984954, 7993761, 8002754, 8004761, 7992509, 7996051, 7996907, 7990537, 7996196, 8008048, 7984297, 8002428, 7989319, 7986655, 8002355, 7990409, 7964530, 8009653, 8014312, 8015429, 7988422, 7979134, 7996210, 7985349, 7997218, 8003481, 7989672, 7992809, 7989321, 7999522, 7988562, 7988913, 7984723, 7981578, 7988876, 7989291, 7998028, 7983778, 8014999, 8010342, 7990183, 7993701, 7980952, 7992183, 7994589, 7984339, 7999325, 7989866, 7987792, 7988583, 7997129, 7988334, 8010935, 7989140, 7988359, 7995472, 7989859, 7808487, 0, 7996336, 7986635, 7991780, 7979352, 8013757, 7998747, 7987557, 7999766, 7997767, 7993185, 7984637, 7979679, 7993557, 7991628, 8002506, 7979197, 7986831, 8010915, 7995365, 7999531, 8003107, 7986048, 7988083, 8001487, 7979871, 8012323, 8009471, 2634016, 7991984, 7983719, 7993311, 7988221, 8017228, 7993005, 7986275, 7964838, 8009511, 8004412, 7990922, 7974287, 7986114, 7727633, 832803, 6459220, 7990261, 7910290, 6618037, 7965732, 7896761, 4539613, 5603054, 7922658, 4618757, 7999518, 7966956, 2761067, 7888426, 7990890, 650592, 0, 1707682, 4507687, 2400165, 4363136, 6777193, 8008388, 4848707, 6449835, 6882334, 7987174, 7963907, 3632448, 4587501, 7949085, 7959233, 7947251, 4233935, 5478293, 7913787, 5798747, 7947789, 7885256, 7984049, 7997111, 7912373, 7921576, 7658300, 7985040, 3807413, 8011349, 7965422, 7982661, 7972600, 8003185, 7994269, 7979704, 7899012, 7980082, 7255882, 7995868, 8005514, 7982523, 7997921, 7985184, 7925360, 7828040, 7988630, 7985512, 7988754, 4511451, 7985829, 7996955, 7915481, 7995973, 4904736, 7985328, 7999517, 7986554, 7900033, 5708342, 7920320, 7989721, 7988199, 7997411, 7982849, 7983679, 7995528, 7987892, 7934372, 7849699, 7956032, 7996358, 7999267, 7995131, 7797198, 6501415, 8012703, 7994916, 7985089, 7992020, 7997797, 7997513, 7959596, 0, 7983928, 7997884, 7993679, 7988054, 4810314, 7988824, 7992136, 7999127, 7991522, 7996679, 7984986, 7903157, 7847725, 7997886, 7785567, 7990481, 1709159, 4922180, 7980450, 7987771, 7999448, 7997653, 4943610, 7989227, 7984382, 7995803, 7995007, 3768804, 7985146, 4915557, 4494190, 7983991, 7969145, 7981685, 7243764, 6786348, 7989519, 7994360, 4560711, 7988640, 7983675, 7380587, 7994452, 4793172, 7991904, 8001199, 8001149, 7994738, 7982144, 7562030, 7987411, 7989652, 7751878, 7995333, 7997103, 7986767, 7992468, 7997760, 7982776, 7999261, 2064776, 8000180, 7988076, 7994568, 7994498, 3673515, 7994719, 7997131, 7985988, 7988453, 7986696, 7996234, 7979464, 7987583, 7982777, 7993434, 7988606, 7941276, 7989664, 7996207, 8006490, 7987277, 7939455, 1615441, 7980612, 7999099, 7980407, 7987140, 7995922, 7909916, 7994597, 7994403, 7980353, 7997558, 7969100, 2690373, 7836427, 7987895, 7810582, 2755506, 3083948, 203076, 7962325, 7934008, 7978912, 7976582, 4934135, 4237757, 7911453, 7933584, 7997380, 7985457, 487488, 7552161, 1196621, 7987555, 7989516, 6963390, 289683, 1159030, 3385768, 7971903, 4622954, 7992440, 4937095, 7948004, 7934103, 3510123, 0, 7997044, 7960753, 7382400, 8000672, 7991092, 0, 497696, 7957097, 3015961, 3276906, 7982177, 2801297, 7960519, 7987392, 7948160, 6727935, 7956479, 5303426, 7993614, 7583979, 466035, 7995054, 1914408, 4442678, 7717834, 5120984, 1176112, 7990799, 4615481, 7915391, 4470958, 7944658, 4165715, 7710012, 7907180, 7979784, 7896512, 8010716, 7990139, 7981741, 7949321, 7967415, 7904827, 7988329, 7981155, 7980225, 7996492, 7989658, 6207611, 7973986, 7993066, 7989326, 8001342, 7994125, 7979056, 7997227, 7999901, 7951872, 5496121, 7992190, 7972398, 7996818, 7981796, 7995017, 8004975, 7993903, 7228232, 7685885, 7985532, 2573622, 7997584, 7980989, 8000348, 5612342, 704268, 8002014, 7988061, 3304852, 0, 7992252, 7982631, 7913182, 7969587, 8010681, 7984656, 1356717, 7995406, 7988142, 7970257, 7995262, 7990754, 7983934, 7987632, 7999664, 7989066, 7995456, 7996690, 7981213, 7998299, 7993411, 8002212, 7980480, 7992970, 8007123, 7989231, 7966234, 7889804, 7988819, 7998126, 7984548, 7902290, 7984119, 2955952, 3658859, 7994131, 7988478, 7998424, 7974399, 7979491, 0, 7989511, 7993674, 7989692, 5989898, 7988929, 7990445, 8001856, 7999986, 7994930, 7995050, 8004533, 7997628, 7980093, 4779760, 7979509, 8003622, 7973571, 7959753, 7986038, 7992000, 7981005, 7881280, 7925957, 8009735, 7994633, 2824978, 7988321, 7999688, 7986593, 7947095, 7990746, 7920093, 5674896, 7986267, 6787966, 7982120, 0, 7984839, 7979505, 7987003, 8013186, 8020403, 7665039, 7992317, 7996273, 7988891, 7989604, 7989099, 7998927, 7992740, 7999613, 7986695, 7992124, 7995577, 7990110, 1139681, 2673495, 7991211, 7992848, 7996198, 7989174, 7999974, 3820815, 3823054, 7989897, 7963375, 7986247, 7998055, 7990567, 578786, 7999252, 7994136, 7995344, 7991027, 7981100, 1492694, 7373874, 8003074, 7999393, 7994705, 7987850, 430823, 7994574, 8008555, 7985284, 8003371, 7985017, 8004000, 4687168, 7988093, 7985961, 7998487, 7993907, 7995289, 7983347, 7998399, 7980833, 7986077, 8001621, 3240398, 3060984, 7986155, 7979728, 7996026, 7981473, 7989181, 7979150, 0, 7984099, 3664382, 7981472, 7990968, 7597495, 6919091, 6069972, 4270770, 5808141, 7594520, 5273830, 7712656, 7971228, 4353204, 7943776, 7997158, 5150168, 7922325, 7882551, 7842569, 7941855, 7988251, 7989428, 7648470, 3027107, 2457370, 7270842, 1313417, 7983853, 7968185, 5905719, 7964848, 7960606, 7910670, 2939674, 6957432, 1188426, 7995065, 7963802, 7946329, 7961679, 2028694, 7926283, 5453263, 3455113, 7999101, 6985758, 7996456, 7954305, 4863951, 1357374, 974442, 7033515, 7065120, 5565664, 7983504, 7963855, 7948129, 7919004, 3080304, 7938473, 1431203, 1354044, 2791315, 7993805, 4293142, 1457730, 8005754, 7578511, 7943452, 7970190, 8009733, 7989764, 7995449, 7210454, 4896540, 7997089, 7993626, 7984489, 7998743, 7995913, 7815009, 7991381, 2917142, 7930007, 7975688, 7966370, 6795095, 4825549, 7994475, 7984835, 7988013, 7988432, 7917589, 8001193, 7995267, 1344481, 7917439, 8009186, 7959694, 8000924, 7985843, 2859484, 8018074, 7995651, 5713218, 8002815, 7996237, 8001174, 7982495, 7987297, 7998562, 7984879, 7982297, 7993328, 4803354, 7962692, 1493278, 7991588, 8000006, 3969578, 7997958, 6359150, 7972921, 7930413, 5263845, 7984396, 7911255, 7990400, 7991387, 7975950, 7992814, 7997843, 8008879, 7993289, 7989806, 7981217, 6997489, 5983689, 7987607, 5985833, 6997558, 7987185, 7999642, 7999635, 7996543, 7962450, 7980648, 7985133, 7995485, 7987455, 7995154, 7993234, 7991358, 7984934, 7966046, 7980504, 7985443, 7995226, 7524175, 7991814, 7989175, 2970829, 7989397, 7910120, 7994713, 0, 7993885, 7999454, 7992408, 8003578, 8005623, 7999810, 7999435, 1898856, 915382, 7965169, 8000013, 835521, 5147533, 7974689, 7991405, 7992608, 7996798, 7984015, 7997810, 3302983, 2114703, 824911, 1620492, 7999780, 7992230, 7989275, 7997054, 7988924, 7996563, 7997173, 7980997, 6514373, 7980917, 7985452, 7987726, 7995441, 4631215, 8002431, 8004134, 7995165, 7986093, 7998734, 7426888, 7948857, 7981880, 7982906, 7989532, 7706061, 7976711, 8001241, 7996756, 3596752, 7983929, 8007518, 4652087, 3306744, 7985733, 7999530, 7989637, 7992386, 8002008, 7964139, 7986985, 5265789, 7999718, 7992503, 7990091, 7874779, 7891156, 7966526, 5043395, 7961911, 7997317, 7990762, 7979736, 7985614, 7997124, 7996067, 6071589, 7997734, 2091597, 7992965, 7989243, 7222790, 7076362, 7995976, 7999484, 7992691, 7989039, 7347002, 7983676, 7990464, 8000846, 7990710, 7998329, 7995586, 7977364, 7992469, 7996987, 7990576, 7507693, 7348342, 7983132, 7976760, 7995182, 7390589, 1968109, 3577195, 3360258, 7964432, 472002, 7983936, 7988820, 7709012, 1417025, 7997078, 7995760, 7923927, 7962128, 7943667, 7995285, 4709457, 242878, 1778000, 7980849, 1809451, 7966128, 6900011, 0, 7983859, 1093507, 0, 7992010, 7961590, 547742, 7984267, 4303026, 7983824, 7964457, 7592986, 7895465, 7907164, 7948719, 7928649, 7959394, 8014804, 7920594, 7967781, 7989431, 7587172, 6219768, 7950443, 2987407, 7989042, 7993628, 7999603, 7989015, 7963649, 7984887, 7997876, 7987753, 7995900, 7997426, 7987345, 7996288, 7989852, 7989527, 0, 6125270, 7929249, 7986502, 2724229, 7984990, 7997350, 7987334, 7986228, 7529724, 7997010, 7905143, 7983256, 2307177, 7979925, 5683150, 7254252, 5247748, 5692508, 7996836, 8003169, 3959671, 4484543, 7989683, 7983945, 7988088, 7998150, 7999552, 7993743, 7901240, 7990283, 7985924, 7987908, 7991622, 7991278, 7987741, 7987330, 7986763, 7998079, 7939915, 7995201, 7992306, 7998536, 7988974, 7988135, 0, 7987755, 7979465, 7990100, 7989575, 163677, 7999090, 7992747, 8004128, 8019167, 7992810, 7986118, 7990749, 8002322, 0, 7979854, 7998851, 7980476, 7992351, 7985444, 7984220, 8004150, 7983883, 7995511, 7985785, 8004241, 7999224, 7983556, 7984776, 7898213, 7982406, 8003136, 7996886, 7991602, 7992848, 7997937, 7992902, 7980476, 0, 7984522, 7995957, 7985171, 8007562, 7982939, 8007777, 7983102, 0, 7986533, 7990494, 8006297, 7998142, 0, 7988171, 7981024, 7997230, 7986498, 7998448, 7999215, 7997113, 7981812, 7985554, 7991851, 7991864, 7991905, 7984555, 7979098, 7987199, 7987019, 7987303, 7993655, 7984100, 7981129, 7984205, 7997646, 7993910, 7989049, 7998888, 7971353, 7986066, 7965046, 8003788, 7981041, 7998076, 7985046, 7998922, 7979491, 7956492, 7996479, 7894701, 7984492, 7997299, 7988946, 7998567, 7993217, 5373299, 7983032, 7896423, 7988516, 7991594, 7987929, 7891263, 7993525, 7981220, 7999419, 8004073, 8020304, 7996303, 7989134, 8003228, 5305555, 7991497, 7986144, 7986913, 7997947, 7976350, 7987082, 7986473, 7983155, 7669244, 7996410, 7972320, 7994739, 7997499, 7992434, 8015023, 7692146, 7999579, 7995937, 7984546, 7625615, 7989326, 7980096, 7991493, 7982193, 7970195, 6676052, 7984487, 7994117, 7986432, 7611877, 7992115, 0, 2385843, 7786401, 7992092, 7987437, 7992507, 8005420, 7982219, 7991459, 7987532, 7993497, 7988272, 7952984, 7998079, 7983385, 7983428, 7991751, 7980792, 7988782, 7990838, 7990585, 7990017, 7999437, 8002445, 7999853, 7911954, 7993709, 7992006, 8001541, 7986686, 7928082, 7993468, 7995461, 7979087, 7974018, 7982008, 7997581, 7986469, 7994145, 7989974, 7989068, 7987596, 8001085, 7990534, 7990314, 7986725, 8003119, 7994008, 3406217, 4362068, 7995179, 7990375, 8000771, 7983831, 0, 7989365, 8003499, 7990429, 8002494, 7996171, 7937278, 0, 7974350, 7921659, 6953149, 477098, 1943688, 7779288, 7995306, 5560393, 678169, 6655288, 5275380, 3043119, 227253, 635016, 7978108, 4996268, 5881372, 7984442, 8002072, 5014312, 7965861, 4361662, 6853978, 8006202, 7980312, 7973636, 7998522, 2633853, 5783918, 0, 7993504, 7953862, 5334411, 7995905, 8003914, 7989495, 7988565, 7868878, 2886270, 837693, 7998033, 7996043, 7991540, 8008232, 7945462, 5796664, 4651805, 5403644, 7962007, 7650691, 7950683, 1378444, 2378418, 7297527, 7950785, 7646810, 7983023, 7245659, 7975107, 7978001, 7659990, 5906640, 3219916, 7957927, 7998566, 7988224, 7960928, 7959482, 347187, 7988862, 7997521, 7824189, 6473775, 7995898, 7036320, 7987814, 7982613, 7999019, 1612847, 1798568, 7966869, 7989145, 3506290, 7938485, 7952959, 7997330, 7980859, 7996554, 7986405, 7989006, 7961877, 7985498, 7987058, 6027895, 7995269, 7994018, 7986625, 5310451, 7990132, 7987078, 7986013, 7985329, 7990255, 7987218, 7998272, 7967967, 4831236, 7993340, 7963240, 7999745, 7948101, 7967254, 7982468, 7627678, 7987819, 7987228, 7985556, 6271279, 7998846, 7966136, 7954518, 4289167, 7987440, 3493275, 7990101, 1650598, 7987104, 7945970, 1815748, 7998520, 7990246, 7985352, 7897564, 7882153, 7941559, 7949430, 7997235, 6579497, 7032690, 7960828, 7330858, 7434879, 7986891, 8007198, 7980492, 7970321, 7983638, 7980792, 7981403, 6052862, 7603901, 6083386, 7982205, 7991000, 7995935, 7273864, 7999988, 7988579, 7997133, 7985496, 7957109, 4517131, 7995661, 1949309, 7983926, 7997239, 7982475, 7997128, 7988350, 7995250, 3668573, 6403024, 7993077, 6197559, 7987897, 7995312, 7972461, 7986531, 7984651, 7989888, 1997073, 6000704, 6997692, 7009453, 4886377, 7990672, 7997110, 7999081, 7987307, 7986143, 7983153, 7988524, 7995308, 7983239, 7984069, 7983042, 7983806, 7991939, 6517192, 7991982, 4573982, 6617455, 5449506, 4728523, 7962760, 7995478, 4750005, 1669855, 7952345, 2077154, 3983928, 7990804, 7988917, 7979745, 7973233, 7996274, 7993620, 7983168, 7984751, 7982701, 7895793, 7893328, 7996827, 7992813, 7909982, 7999477, 7992468, 7989051, 7993937, 7995473, 7981868, 7989562, 7998954, 725558, 7987495, 7998711, 7997334, 7982557, 7996576, 7988293, 7983619, 7903061, 7742720, 7986826, 8011916, 7891676, 7990202, 1371820, 8002323, 8000049, 7388193, 946969, 7985821, 6891020, 7994907, 8002008, 7995209, 7998033, 7991918, 7972790, 7639617, 7719617, 7359218, 7987731, 7948668, 7947663, 7628605, 2438606, 4329697, 7962543, 7997639, 7980271, 7512998, 298450, 193593, 7988039, 7987120, 7989360, 7420677, 7924603, 1846148, 7997829, 4855282, 2169227, 7989991, 1764035, 7881041, 1803934, 6820900, 7018180, 7957160, 7989101, 7902012, 7998699, 7979357, 7986539, 7997817, 7987817, 7994729, 7988373, 7994244, 7987550, 7994441, 5874757, 7994629, 8014734, 8009544, 7997315, 7990697, 7985063, 7985093, 8004792, 8001681, 7986789, 7996357, 7989688, 7982841, 7987334, 8015316, 7999275, 7991259, 7992837, 7993874, 7994608, 7889357, 7991070, 7993374, 7995389, 7996924, 7996304, 7990747, 0, 7988145, 7979435, 7985388, 7985380, 7979778, 7986623, 7994552, 8003562, 7996648, 7987633, 7985699, 7995319, 7996850, 7990791, 8009960, 7985724, 7956105, 7991459, 7985199, 7991129, 8008027, 8002374, 7994730, 0, 7986560, 7985246, 8000889, 7997208, 7986677, 7983512, 6131158, 7991801, 7953687, 7908215, 7899285, 8005479, 8005378, 7999311, 7990196, 7997135, 7991158, 7997115, 7812503, 7987440, 7992022, 8001562, 7977306, 7990566, 7979436, 7981322, 7975020, 8011730, 7966967, 7987391, 7999219, 7991693, 7995733, 7987837, 7986292, 8000905, 7990404, 0, 7998189, 7986363, 7994465, 7982228, 7986645, 7987913, 7991939, 7993531, 0, 7996396, 0, 7549835, 7993434, 6984374, 7996804, 7987917, 3982967, 6987126, 7987492, 2478375, 3357273, 7920672, 7990647, 6938022, 703745, 7898772, 6169091, 5998241, 6127345, 4743351, 6718820, 7997522, 7991596, 7997901, 6996753, 6983372, 7994329, 6689356, 5100864, 7981180, 7997550, 7914130, 7986473, 7986780, 8003472, 7983479, 7984963, 7991634, 7992008, 7993608, 7980289, 7991523, 7987962, 7995154, 7988680, 7996984, 7999979, 7810615, 7954382, 7893556, 7986137, 7982886, 7982110, 7982930, 7984025, 8007498, 3986385, 7997425, 7998321, 7371674, 7998518, 7991973, 6512419, 7563322, 7995730, 7995964, 7986622, 42000, 593132, 7982080, 3346427, 7999520, 8003253, 7970938, 7934201, 7943864, 7920647, 6654927, 7988755, 7943597, 6046412, 7972557, 7938422, 463145, 969428, 5875726, 7985230, 7933368, 1129602, 503085, 215948, 5130075, 2119039, 6328726, 4820199, 7997513, 7967112, 7949195, 7171289, 4490089, 2880170, 5943684, 2446000, 3997721, 3084104, 7984992, 569211, 5422830, 693005, 7374816, 7992641, 7890021, 7973454, 3059173, 7921227, 1830294, 5105851, 7962047, 2269010, 7840754, 6529935, 3730568, 7994724, 3622559, 1766660, 6567227, 7998725, 2103536, 2405752, 1536666, 5533219, 7924742, 3320182, 7948459, 7986035, 7116149, 7782521, 7960525, 7983348, 7962761, 7365054, 3046806, 2213040, 7903242, 7947253, 1473416, 5449238, 7941472, 1399134, 7979813, 7958532, 7939888, 7986482, 7999945, 7913574, 7982507, 7989773, 7651761, 735394, 634556, 972604, 7414630, 6481509, 8001587, 7992709, 7991578, 7996293, 7985208, 6712580, 7988738, 7598668, 7993776, 2178793, 7991335, 7976963, 8000170, 5038313, 7997041, 1059255, 7964763, 7979476, 7996056, 7993861, 2671817, 7992738, 7983175, 7240461, 7922048, 7964297, 7956895, 7982992, 7968641, 558353, 7070028, 6615456, 7981399, 6819927, 7980193, 6705136, 7964609, 7948685, 2442443, 2531586, 7997472, 6902459, 7723943, 7980854, 7996611, 7970529, 7979642, 7995738, 7984278, 1662815, 4997228, 7623903, 7977934, 7999072, 8005736, 7636651, 7993366, 5447945, 7990543, 7990936, 8002323, 7999985, 7988325, 7986700, 5237625, 7951653, 7990101, 7993947, 7999197, 7905582, 7876987, 7992941, 2223001, 6073693, 7999598, 7995580, 1382334, 0, 4711775, 7944570, 7467704, 3532096, 7978270, 7210548, 7990427, 6054672, 5746103, 7994466, 7199201, 8006325, 92580, 2156072, 7996995, 7943469, 8002196, 7754016, 770686, 7951059, 3298221, 7984724, 4381483, 7975580, 1409805, 690517, 7829066, 7921884, 7923313, 7998238, 7838792, 7980762, 7977158, 7986151, 7999825, 7970394, 2207985, 7964445, 7986609, 4544642, 7970771, 7987039, 7998735, 8008603, 3931819, 7994452, 7791878, 7986674, 7994326, 7991322, 4489357, 7990205, 7995501, 8004237, 7987766, 7984461, 7988331, 6440320, 7994288, 7985030, 7996685, 7999970, 2239230, 1887415, 7989769, 7983725, 7990421, 7998961, 7962672, 7982029, 7991387, 7935763, 7987676, 115454, 7940244, 1368024, 7982577, 7981126, 7996828, 0, 507039, 7995573, 7955708, 1167172, 3924217, 7982936, 8000000, 4435620, 5646652, 2055654, 3278666, 7996538, 5171086, 7990978, 7858928, 7983639, 7960507, 1797457, 7637343, 7981450, 3509750, 7969765, 5315845, 7553930, 1432223, 8001060, 7978606, 7992535, 7284140, 7954440, 935416, 1067725, 1643162, 5695442, 0, 2495136, 2495641, 7930814, 2320537, 3941497, 37540, 801219, 7958054, 3397896, 1299081, 7982172, 7984163, 7999461, 7999773, 4190212, 2484604, 7965402, 7971028, 7961346, 7309319, 7987152, 7958607, 612047, 6215406, 7992334, 836215, 3839698, 103091, 2403032, 2092682, 7992849, 4662204, 7031453, 7723405, 7987397, 7834609, 7928936, 7947724, 3194626, 1872595, 2115147, 7993705, 793652, 7993018, 7974023, 6934074, 7997186, 7953362, 5961494, 7942162, 3305952, 7891441, 7974047, 2394747, 4941079, 7986029, 7981031, 6598803, 7763255, 8014231, 7975432, 7982347, 7984161, 7983946, 7992714, 7983284, 7985875, 7995823, 7725069, 7986178, 7987786, 2831083, 6332355, 7984296, 8000145, 7988430, 7505603, 4921405, 1285411, 2526078, 7930539, 7969034, 5207656, 7943561, 7997425, 5386002, 7993073, 7999266, 7956337, 7965239, 0, 4447630, 7996827, 7351475, 7936115, 1353536, 7995744, 1674703, 7960744, 7956417, 7939709, 2777004, 7993109, 7992521, 7980096, 7994770, 7984308, 7998196, 0, 7991104, 0, 7995159, 8000690, 7999016, 7949298, 2164923, 7995362, 7982275, 7985948, 7993709, 7996120, 7762025, 2339577, 7987778, 7995029, 4345234, 7999477, 7999284, 7981315, 7977602, 8011542, 7980177, 7564766, 7980365, 7987377, 7998414, 7996268, 5758126, 7944942, 7998151, 7927843, 7696133, 7062181, 7988004, 7998859, 4051428, 7991330, 8006346, 7995078, 7524414, 7995863, 3762258, 3354223, 6828698, 7979267, 7995893, 7991082, 7984733, 4629878, 2175986, 7980032, 7980128, 1557164, 5234337, 7982882, 7951620, 8004858, 5650010, 7741387, 7991591, 7988771, 7994598, 7983850, 7955249, 7886419, 7984409, 7853080, 7984691, 7993499, 4427057, 7862622, 7985197, 1179935, 7986153, 7993272, 7984375, 7990406, 8003139, 8004622, 8005634, 7993072, 7984734, 7987518, 7996916, 3947385, 8003587, 8002166, 7985581, 7987961, 5080115, 7999304, 8000637, 7921405, 8022591, 2952040, 7991313, 7985270, 7988868, 7982924, 7991234, 7992421, 7983643, 7982463, 7995906, 7997950, 8001367, 7987848, 5124612, 7984527, 7991512, 8014578, 6260765, 7994716, 7987679, 7368746, 7981492, 7999765, 7997315, 7990049, 7996681, 7995971, 7998032, 7996518, 1937171, 7985775, 7999279, 3839747, 7998764, 7988470, 8004012, 3190893, 7993153, 7985251, 7980987, 7999399, 7972034, 7463578, 8004029, 7993311, 7968886, 5193959, 4867922, 7986368, 7982614, 7995661, 3678440, 7967394, 7990014, 7907225, 8000912, 7991422, 7968657, 4393861, 7983770, 7988960, 7995884, 7986390, 7988631, 7982179, 7938228, 7999984, 7540271, 7883081, 7998152, 6969375, 7995242, 7413709, 7985282, 7455318, 2690203, 7995232, 7985598, 7991310, 8004035, 7866926, 2242949, 7959909, 7987372, 7999616, 7984144, 3761013, 7999139, 7988726, 7993126, 7700930, 4133090, 7956343, 7995148, 7922381, 717813, 3175720, 7986898, 7944071, 3341917, 4625828, 7980967, 6751074, 6310965, 8010925, 7994344, 7946045, 7983341, 7377937, 7988109, 7980913, 7995827, 8001977, 7457585, 7999106, 7946582, 7992086, 6995516, 7995336, 7998388, 7979858, 7999857, 8004495, 7992805, 7994845, 7891827, 0, 7995090, 6985759, 7966351, 7920993, 8006060, 7998794, 7988483, 7984508, 7990030, 7984826, 7994307, 8006499, 8010600, 7995136, 7974680, 4588181, 7993013, 7466760, 7981020, 5096914, 7979159, 7989262, 7983797, 7998232, 7241146, 7009360, 7516440, 8007223, 1069428, 7509275, 7990975, 7988676, 7984497, 7997407, 7979414, 7989926, 7995647, 7983712, 7990383, 7979334, 7990028, 7986869, 7445580, 7985463, 7703157, 7990486, 7999660, 7995652, 7987431, 7726731, 8000254, 3414025, 7979701, 7988127, 7998289, 7989451, 7889079, 7994746, 7967976, 7991083, 7984843, 7996457, 7997245, 8009603, 7709789, 2233070, 7999019, 7995754, 7986678, 7995658, 7997699, 7992503, 7969390, 7998359, 7991457, 7987763, 7997141, 7998809, 7979922, 7987221, 7982830, 4530305, 7983108, 6490486, 7985393, 8000878, 3008043, 7981120, 7889246, 7998207, 7993633, 7990270, 7995853, 7987116, 7989422, 7994189, 8006811, 7996233, 7990093, 7998523, 7979284, 7989905, 7981031, 7989203, 7993293, 7988566, 7980627, 7987040, 7999361, 7992645, 7984103, 7998458, 7080132, 7997261, 7988749, 7986762, 5849603, 8013775, 7982700, 7988785, 7986890, 7992659, 7981469, 7986347, 7959582, 4340943, 7990939, 7419718, 7985370, 8004692, 7985082, 7985874, 8000877, 7996258, 7988755, 7988056, 7570213, 2913260, 7988116, 7981304, 7970948, 7986841, 7998151, 7989412, 7979424, 7970467, 7991378, 7524667, 7988478, 7988640, 7993984, 7995486, 7997341, 7991254, 7986914, 7993209, 7996445, 7988604, 7994447, 7990926, 7430724, 7993090, 7983053, 7269547, 7988886, 7980790, 7983979, 7988250, 7995262, 7988644, 7985267, 7979904, 7983012, 7993143, 7985744, 7974423, 7980635, 7992658, 0, 8002873, 8003169, 7994656, 7979633, 7995980, 6137513, 5082670, 7982285, 4639205, 7953028, 3309741, 7997693, 7805203, 4929874, 7966728, 0, 184958, 7918184, 7991142, 7994253, 7990430, 6007546, 7985412, 7994514, 7986624, 7988901, 7996627, 1401194, 7996494, 8009948, 7994993, 7997026, 8002919, 7995788, 7973173, 7998984, 4534148, 7993380, 7994310, 7994497, 7968913, 7997234, 4562526, 7994783, 7407112, 7993613, 7952547, 2685410, 7958270, 4148365, 7986603, 7992421, 7925179, 7787210, 4724839, 7827554, 7991059, 3757024, 7989602, 7993563, 7931271, 7984924, 7996479, 5118583, 7988441, 7792781, 7995494, 7996444, 7992459, 7984319, 7996014, 8002205, 7996102, 7994811, 4006049, 7987604, 7880148, 7981325, 7991894, 7998709, 7993212, 7990925, 7992230, 7986755, 7980672, 7981357, 7988764, 7964695, 1793159, 7972602, 5232338, 7915961, 7990837, 7975966, 0, 7933627, 8005674, 963877, 2522504, 1047441, 7227524, 3188081, 3471795, 7922986, 7922844, 7867764, 5150444, 7988518, 7923750, 7881841, 7234947, 3559576, 7995683, 7966476, 217994, 7959317, 5277585, 7648245, 7276898, 3139432, 7735948, 0, 7694106, 376993, 7477053, 7473879, 1395794, 7984598, 1321054, 7999706, 7997355, 133763, 7991539, 1995919, 7975005, 7957980, 3477698, 3410603, 7985439, 7979107, 7993623, 7940780, 7999372, 7959009, 7966436, 2228521, 2601429, 7390458, 3657686, 7988510, 928787, 7944067, 7204529, 581907, 7926108, 6815936, 7945648, 8001963, 7992890, 4299520, 7994329, 7925106, 7997062, 7593537, 2423330, 7953969, 7990802, 7986075, 7999633, 7958568, 6908978, 7950606, 959807, 7991594, 4943239, 7945435, 7982047, 7986722, 7945780, 7990021, 7981483, 6213701, 3468346, 7991567, 2055927, 1657551, 494622, 7975667, 7990966, 6258055, 1958051, 7981149, 7967725, 7998459, 7987238, 6890528, 7986271, 7998594, 8003006, 7963834, 7986733, 7995179, 3378932, 7937610, 7999190, 5620379, 451328, 7015897, 7964391, 2321593, 7968781, 7985465, 7961538, 4629224, 1748258, 1205731, 7990262, 1661199, 7993905, 7996153, 7906805, 7999569, 6898731, 7984676, 8005257, 2192128, 7989530, 7979822, 7986216, 7970751, 1783466, 3038657, 7902961, 7947923, 7986196, 3843646, 7987431, 7931065, 6054769, 3219993, 6155343, 7890489, 7990210, 7989916, 2316874, 2697138, 7985223, 7960730, 4893861, 8004902, 7985485, 7996528, 7936860, 7990490, 7232414, 7185831, 7988535, 2995706, 413263, 7888011, 7970396, 7930956, 7631972, 1694342, 7470779, 7986538, 5434494, 7943212, 6882714, 7998182, 7980925, 5193090, 7931175, 3257861, 7992362, 7997804, 7983157, 7916540, 7999793, 7613313, 7987188, 7943097, 3262425, 7991006, 5433944, 7987488, 8005531, 8003865, 7998648, 7991448, 7983037, 7996811, 7983088, 1476690, 7990470, 7919798, 4591413, 7989897, 7997426, 7994225, 7994914, 7985766, 7988364, 1364347, 7996028, 7996917, 7895437, 7997673, 8001784, 8000900, 7830184, 7980371, 8000516, 7988889, 7996633, 7999048, 7997503, 7998431, 7988969, 7999299, 7984639, 7942176, 6297067, 7991057, 7991428, 0, 7998774, 7965918, 7993856, 4087003, 7983566, 7890035, 7944334, 7999646, 7990936, 7958995, 7996307, 7985288, 7980347, 7999346, 7986317, 7997818, 6045623, 7999650, 7987225, 7995145, 8004941, 58099, 2061100, 7997435, 63000, 7954279, 0, 7999927, 8008891, 7994672, 667939, 7984646, 7887723, 7987290, 7953973, 7996319, 7986412, 7938506, 21000, 7988044, 3160832, 7989474, 541497, 7830519, 1640833, 5264713, 7902926, 3838109, 280317, 4979398, 450930, 272127, 7944521, 6927029, 7936878, 7786253, 7887664, 7981123, 837447, 4950877, 7999470, 7473019, 1899459, 7857866, 566739, 7916984, 7945206, 2262734, 7985026, 5205644, 7994471, 3033303, 7964969, 8000151, 7986874, 7861565, 5385239, 7980535, 6937092, 7990939, 7797247, 7996938, 6538228, 2803273, 8002827, 7992000, 1877081, 7474371, 7956775, 3024849, 7971108, 7692168, 7995681, 7956557, 7995319, 7991812, 7982881, 7988344, 7991238, 7916091, 7979141, 5744169, 7256529, 7986897, 3939669, 66156, 1732453, 1448871, 5260343, 7983829, 7988510, 7917999, 7971451, 7994536, 7993987, 1851002, 1670486, 6628023, 820347, 7983423, 7995526, 7997461, 7995198, 2327543, 4130584, 4254427, 7990017, 7982820, 7980308, 7992094, 1583043, 4552832, 7992667, 7962616, 7988793, 7986969, 7946976, 2387340, 4187472, 4284545, 7113297, 7985499, 8012757, 7946621, 5960930, 0, 0, 7981478, 7985850, 7988689, 3566174, 7994503, 1758038, 7976438, 7942359, 7991980, 7980055, 7989185, 7999625, 7991738, 7381091, 7804311, 7819555, 5980317, 7881037, 3659432, 6607482, 7982143, 7092070, 7987130, 7795916, 6319947, 2163095, 6127930, 7986179, 7109518, 5417397, 7996833, 7988112, 7951973, 7932215, 7860288, 7993897, 1666339, 3223258, 7996313, 7962254, 7998344, 0, 2512467, 1139098, 7995117, 7929242, 6548484, 7738576, 519496, 0, 4131459, 7774657, 7128516, 7733294, 8004004, 7764028, 7986444, 2419361, 8007442, 7992023, 7442460, 7983668, 7992118, 1393866, 7984241, 7996118, 6369421, 3553741, 8002353, 7990493, 6395632, 7836807, 478544, 7986628, 7992411, 7998306, 852711, 7961818, 7543595, 7734732, 3459724, 7970517, 1986976, 7998754, 3021220, 914942, 7988507, 7998354, 7961678, 7985493, 7921623, 5133508, 7913702, 136317, 7364260, 8002821, 7010384, 7981464, 7996081, 4378269, 7997855, 4458293, 132472, 7999104, 7985336, 7983845, 7997068, 3591229, 6596429, 3076861, 7886204, 6973504, 2418835, 7764811, 7989720, 7769752, 7973611, 7997576, 7984481, 7980833, 7369152, 1972096, 7957233, 7973763, 7980531, 7992170, 7992102, 7118374, 7991245, 7996569, 7565564, 8003795, 7434224, 7582016, 2968103, 1419556, 7165092, 5691925, 7995713, 5261277, 52838, 7036746, 7003487, 7264637, 7838169, 5387705, 7989501, 7995592, 315884, 7991427, 7628548, 7879950, 7983058, 8000516, 7997935, 8006855, 233130, 7182092, 7064916, 7986277, 7991292, 7994746, 7724698, 7869549, 321479, 7992211, 1523376, 7981331, 3025186, 8005419, 7993903, 7953050, 7994944, 0, 7996035, 7984928, 7984866, 7990962, 7987951, 7673187, 7939809, 7752537, 2268630, 7987944, 7996889, 3796906, 7953588, 7956554, 8002957, 7980542, 7987211, 7956580, 7787278, 7997929, 7958396, 7990929, 7542819, 7574755, 0, 7890833, 7995670, 7835946, 7991609, 7997820, 7882641, 7830040, 7922309, 8000047, 7999319, 7992070, 7988857, 7996180, 8003424, 7986182, 7980803, 7971506, 7024510, 7991727, 7983374, 7996543, 7990630, 7807130, 7982297, 7985428, 7983257, 7995807, 7999142, 7820984, 7993247, 7826866, 7999702, 7937404, 7995389, 5142939, 7991582, 7989686, 7991005, 8003440, 7978680, 8000106, 7980827, 7997934, 7996081, 4392025, 2111960, 2069194, 7981816, 7414653, 5715864, 7986941, 8002035, 7740892, 7793969, 7901682, 7927039, 8002301, 7998244, 7961476, 7320185, 8009044, 7981747, 7997993, 7914984, 7981899, 3978217, 7988362, 681306, 7798137, 7487025, 2957639, 7992640, 7990066, 8005416, 0, 731094, 7989061, 3320690, 7998973, 7986758, 7624391, 7994041, 7940526, 7827654, 0, 7996053, 7982836, 7990093, 7981024, 7995296, 7990761, 7980823, 7996774, 7998734, 7774249, 7987407, 7822319, 8004207, 5549032, 7984243, 7983627, 2710909, 7991567, 7988700, 7998091, 7987916, 7777523, 7997618, 7993053, 7999002, 7996381, 651292, 7919430, 7988883, 1660635, 7913548, 7998454, 8007844, 7990729, 7997237, 7986352, 7985284, 7985891, 7999915, 7984416, 549823, 7983663, 7979966, 7991021, 514224, 1504302, 7980687, 5409430, 7999275, 8002981, 7995429, 7985368, 7979277, 38360, 7981850, 7071896, 7171766, 7983119, 7994202, 7956523, 7979388, 7989296, 7906446, 7987478, 7992076, 3218198, 7990171, 7991558, 5057061, 7825812, 2387643, 7985335, 1011926, 7952535, 7968766, 7742175, 3209884, 7403790, 7988958, 7996319, 7992619, 7985158, 5440235, 7996061, 7085684, 4639957, 8000709, 7983509, 7983290, 7981443, 7096740, 1990243, 7983161, 7989239, 2426857, 7997153, 1466328, 0, 7988984, 7740168, 557474, 1296479, 8011018, 5112372, 7976306, 7368404, 7989951, 7945588, 8002869, 7993192, 7979810, 1691258, 5927047, 1502925, 7998242, 3893866, 7781632, 5673041, 7998930, 6709055, 38291, 7999496, 1235420, 7996337, 7999567, 7709750, 7997589, 7970889, 7983998, 8003426, 7986834, 7982146, 7987459, 7991234, 7609513, 7992290, 8001652, 7981644, 7966701, 6176849, 7990777, 6215439, 7993356, 7988033, 7997807, 0, 5147895, 7995974, 7992910, 7986688, 0, 7991505, 7965834, 7983209, 7992532, 7992095, 1440942, 7629868, 1711700, 7996061, 7366740, 1338401, 4508254, 4526762, 7253829, 7724123, 8000441, 6109608, 7990589, 2951415, 7982098, 7997651, 7460705, 1593225, 7957368, 4521591, 0, 7998212, 1019552, 8003259, 7992806, 5578205, 7979215, 8001309, 7421083, 8003836, 7968622, 7997094, 7998259, 7980965, 7991648, 7987353, 8008060, 7991140, 7991812, 7982488, 6503470, 7991295, 84000, 7986619, 7856935, 7994593, 8001885, 7983664, 7981232, 5364663, 7982908, 3857141, 1935062, 3235463, 7994443, 7970912, 7980997, 7979318, 5991823, 7997084, 7998492, 7982338, 6989940, 7982596, 7990736, 7016234, 6915815, 7985296, 7998816, 0, 7997951, 7983091, 0, 7984396, 7992568, 7985567, 7995570, 7982383, 6605048, 7999258, 7981102, 7980672, 7988209, 7990511, 7997496, 8003288, 7998396, 7996428, 2622249, 7994378, 3126641, 7999833, 7989554, 3411564, 7990454, 7985572, 8016071, 8000769, 7990778, 7992442, 4906205, 7985768, 7993731, 1349533, 7988619, 7983719, 7999659, 7992010, 8006488, 7984203, 8007422, 7991545, 7982551, 2108787, 4987115, 7999872, 7998476, 7998499, 8012167, 3057916, 4546828, 7995265, 7992543, 7998911, 8003544, 432911, 7989624, 7998689, 7991435, 8000662, 4018340, 7999270, 7959970, 7985652, 7023018, 7998731, 7995272, 8002697, 7980285, 7968333, 7983967, 7980419, 42000, 7777905, 7876283, 422125, 6952755, 7996784, 7976398, 7990829, 7975227, 5248746, 7985690, 7990192, 7778951, 4119045, 7998478, 7436979, 7985018, 7986853, 5210181, 4576555, 1980017, 266237, 7984539, 7989281, 7098493, 7860378, 5339608, 423903, 7985608, 2653101, 4069682, 182314, 2975282, 7984590, 460005, 7974283, 7984817, 213876, 7795227, 792343, 7975742, 6300214, 7998277, 6854198, 7990968, 7862077, 0, 7918975, 7946794, 8001940, 6310883, 8006103, 7992042, 7999435, 7980549, 7914347, 6458820, 3631817, 1530882, 0, 7979582, 7980532, 7995123, 7982340, 6868289, 7991913, 7998567, 5814633, 7986268, 7887893, 8003781, 7989948, 7993459, 7991370, 7969470, 7999379, 8004341, 7989415, 7846509, 8002544, 1365381, 7992992, 8001468, 1105051, 7987456, 7808387, 469278, 7994583, 4552572, 7983331, 5793626, 8004593, 7981152, 5657823, 2942357, 4404591, 7994975, 5705570, 7995872, 7994215, 7899226, 7992156, 7989354, 7986676, 7995763, 7992014, 7995837, 7991777, 7997051, 7987071, 7993569, 7994709, 4706495, 7997832, 7988823, 7992778, 7992995, 7993626, 7984772, 5431164, 7998900, 504585, 7992977, 8003836, 7985994, 0, 6019254, 7983584, 7999187, 7992805, 7994315, 7968669, 7987199, 7944081, 7980141, 8003281, 8001468, 7986401, 7994842, 7992070, 8005951, 7996647, 7645450, 7987536, 7902036, 2193415, 7996427, 7998811, 7971873, 8006712, 7999688, 7902148, 7997608, 7807458, 7792681, 7906863, 7983547, 8005031, 7941623, 549244, 6986597, 7994531, 8000719, 7826297, 7991253, 7997519, 0, 7972535, 7982500, 7981516, 7988256, 7996763, 7998282, 7983008, 7990687, 7994681, 7993593, 8002768, 7998601, 6512469, 7980471, 4973413, 7990470, 0, 7984003, 7981613, 7989245, 7993734, 7983465, 7990712, 1721202, 7997815, 7982893, 7997720, 8012149, 7987326, 7998111, 7986857, 7991435, 7992123, 7998174, 7979871, 8004686, 7987677, 7993850, 7984293, 8006219, 7990970, 8004029, 7998719, 7829366, 7994819, 7986123, 7994224, 7996158, 8005543, 8012387, 7999002, 7989663, 8005081, 7982921, 7795625, 7991174, 7990402, 7986325, 7998145, 7986887, 8000883, 8007254, 467856, 7992364, 6034471, 7999439, 7996788, 7294519, 7990036, 7999476, 7988355, 7988003, 7996430, 7984064, 4319637, 7973580, 170037, 8008911, 7993144, 7980094, 7950099, 7999497, 7994322, 7966599, 7568216, 0, 7994110, 63000, 7994621, 7989684, 7988670, 7988805, 0, 5226552, 2934588, 7985765, 7992713, 7980277, 4828210, 7920659, 7995880, 7995592, 8009649, 3067667, 7989324, 7869099, 7985093, 7253565, 7917822, 7999734, 7998705, 7166067, 7997178, 7986897, 8008862, 7990666, 7984136, 7999141, 7988794, 7980410, 7931808, 7994138, 7985337, 7985895, 0, 7978692, 8014431, 7994941, 7996146, 7988449, 7996823, 7989566, 7997396, 7986981, 8006035, 7989592, 7970637, 7993337, 7982307, 7987757, 7986993, 7988118, 7979227, 7995117, 7979924, 7991632, 7997414, 7997849, 7980549, 7996274, 7997528, 7989728, 8006797, 7997841, 7991077, 7990648, 7999051, 7979852, 7988115, 7961968, 7995819, 7997071, 7991468, 7984294, 7998047, 8008535, 7905478, 7996591, 7977972, 7987978, 4957118, 0, 7983820, 7993517, 7986342, 8001059, 7973294, 7979560, 8007347, 7994716, 7982282, 0, 7995197, 0, 8000738, 7996410, 6995034, 8002363, 7989792, 7991021, 7992897, 7998202, 7998491, 7994781, 7996770, 0, 7994767, 7988581, 7984912, 7988951, 7999675, 7991265, 7891414, 7984729, 7921510, 7987996, 8004173, 7980565, 7990642, 97824, 0, 7996816, 8004746, 7029351, 7999439, 7984294, 7992838, 7584635, 8008687, 7998219, 7995778, 4620446, 7998625, 7988248, 7979969, 7993072, 7996445, 7997354, 0, 7994841, 7999650, 7989847, 982220, 7996961, 7999295, 4151999, 7999766, 7981324, 7990807, 7999799, 7994392, 7993422, 7959007, 7932520, 7294688, 7995580, 8000004, 7979894, 8008096, 8017153, 8014659, 7979393, 7992691, 7992066, 7998895, 7968717, 7998135, 7988946, 7986645, 5138455, 996079, 7777656, 7999678, 7967122, 675076, 7991150, 5477510, 7987751, 7994968, 3016050, 7606746, 927089, 7278553, 8003049, 8003385, 7987891, 7984152, 7994491, 8009420, 7981681, 7014516, 7999283, 8004320, 7999598, 6383384, 7982107, 7996723, 7985118, 7995069, 7989266, 7988667, 7972660, 7993558, 4954487, 7994353, 8006972, 1094051, 7972718, 7982789, 7983741, 184684, 7893674, 7960813, 7985343, 7995964, 3388058, 7986742, 7990283, 4808836, 6398311, 7882800, 8000622, 7949359, 7657265, 7983142, 7993938, 3928764, 850392, 1259377, 1887242, 7939952, 3263203, 7989008, 1071264, 5635808, 7966368, 7995633, 7275757, 5955583, 7862021, 0, 7873688, 7980349, 7832987, 6530013, 7400295, 6451989, 7993225, 251864, 7987345, 7996607, 7988735, 7647324, 2383044, 1094940, 4899079, 5573111, 4452428, 7993686, 0, 4042347, 7989932, 7857556, 7992191, 7990931, 7957525, 7975868, 7997875, 2076575, 4292846, 7968135, 7919551, 1885631, 7994278, 1526595, 7860387, 395333, 7221552, 7994577, 7998629, 7984595, 7996923, 7977415, 7982669, 7996126, 7991984, 7981218, 7979688, 7989112, 7987561, 7990318, 7996840, 7997763, 1915819, 7899555, 7990398, 7986295, 7990811, 7998023, 7985078, 8007938, 816200, 0, 7996806, 7397298, 1142180, 7981938, 7991872, 7943033, 7991953, 7994236, 7994486, 5020624, 7982821, 7991105, 7999271, 7910556, 7960804, 7998228, 8005759, 7991254, 7985023, 7983465, 7999252, 7987668, 7994112, 1248121, 7983760, 7991373, 7988332, 7989046, 7992537, 7988733, 7983875, 7914036, 5826412, 7986882, 7985179, 7999872, 8002355, 7979547, 7994111, 7991490, 7911047, 7989815, 7997507, 7983009, 7995045, 7989849, 8007155, 7991356, 7996477, 8008694, 7984701, 7996609, 7994635, 7988886, 7994565, 7599247, 8007078, 8002481, 7984223, 5266989, 8003584, 8024126, 7374126, 7979894, 7999573, 7986869, 7979628, 4640553, 7984423, 7984484, 7994579, 7985492, 7993531, 7900266, 3974672, 5364662, 5616731, 7992858, 7824803, 8003161, 7984170, 7980846, 7963673, 7992298, 7933381, 7981207, 7994334, 7996188, 7992520, 4421846, 199518, 4167235, 7964687, 7984778, 8001003, 6763861, 7984375, 7990340, 8000008, 7894122, 7988242, 7984298, 8003754, 7999303, 7983906, 7985669, 7889715, 7979360, 3907597, 7995148, 7990526, 7481136, 7890077, 7930193, 4236265, 7994729, 8010722, 0, 7984289, 7995396, 7995162, 7964025, 8005048, 7980329, 7981643, 7890956, 7999089, 7997284, 7988629, 7995950, 7992859, 7971941, 7771916, 8005890, 7990974, 7986030, 7686719, 7994316, 7986958, 7982602, 7991451, 7932892, 7986161, 7999058, 7991274, 6827895, 7993323, 7959176, 7981416, 7986865, 1251807, 7988193, 7989804, 7988713, 8001574, 7993922, 7995002, 7996478, 7409728, 2378523, 1827338, 7985017, 7975031, 7982487, 7992906, 7983424, 8003565, 7988183, 7983362, 7995961, 7997046, 7998621, 7989712, 1356364, 7996017, 4521544, 3022124, 7996686, 7995321, 7987279, 7965677, 97265, 7978283, 7277466, 7979246, 2660592, 7965746, 7922201, 7978824, 7999578, 5569581, 6301228, 8007781, 7980286, 7985877, 7589888, 7995998, 7993735, 7993466, 367290, 7984029, 8002879, 1567807, 7993109, 0, 5475510, 7823365, 6567329, 7965902, 7948651, 6628218, 0, 7993747, 7578928, 7986577, 7924459, 5317389, 5843740, 1870652, 208066, 3302224, 7997898, 7991875, 7725713, 7586550, 7976244, 2374060, 7983774, 7981307, 7980831, 7998176, 7430263, 2464527, 7990716, 7969384, 7997495, 7995763, 390872, 7997170, 7830413, 5431498, 7964108, 7985157, 7986742, 7982899, 7092359, 7996710, 7982593, 7982386, 5592798, 6990505, 7966366, 6623735, 0, 7992472, 2567658, 6966261, 5517221, 7287495, 7967161, 6010135, 7988899, 7993445, 7988881, 7993459, 7878911, 7991628, 7985887, 5138777, 6615012, 7954883, 7984614, 7129119, 5287250, 7997381, 7996242, 6711334, 4762755, 6622844, 5080076, 7996773, 0, 6254882, 7986242, 4562923, 7956015, 3122539, 7992856, 3825379, 4448382, 7958838, 5788385, 7983921, 4823116, 7983983, 7997552, 495876, 7827259, 7996854, 7992322, 7983511, 7994343, 6833850, 7983841, 7996060, 7994910, 7087082, 8000424, 7987703, 7994891, 0, 7690665, 7980474, 7614143, 7171233, 7981996, 7665019, 6153308, 7983213, 7840801, 7994445, 8002982, 7972870, 7990952, 3782774, 2166990, 7975303, 7980374, 7902421, 2404600, 7878114, 2482313, 4894983, 4601972, 7664025, 7980843, 7988763, 6308906, 7991432, 7996596, 7995238, 4746678, 7565407, 7999057, 6423969, 7691694, 7792393, 5082702, 7838023, 1494459, 7996379, 2793742, 7995423, 7984444, 142836, 8003530, 7980189, 6391391, 7999195, 8005786, 7216451, 7989856, 7994827, 4724567, 7986213, 6225679, 7983492, 792937, 7992366, 7988410, 7711232, 7907571, 7969914, 3877367, 7984596, 8002365, 7985781, 7983942, 7989854, 7988901, 7993350, 7987705, 7999963, 7995853, 7987257, 42000, 7998562, 7992618, 7994617, 7985844, 8002550, 7988545, 7999379, 7995188, 7990111, 7994197, 7981920, 7998165, 7961170, 680146, 7996302, 7979369, 7223672, 7986742, 7198260, 7966468, 7983276, 7941288, 6266727, 7990307, 7985105, 7999012, 3878584]\n"
     ]
    },
    {
     "name": "stderr",
     "output_type": "stream",
     "text": [
      "/Users/Jinyue/anaconda3/lib/python3.6/site-packages/pandas/core/generic.py:5096: SettingWithCopyWarning: \n",
      "A value is trying to be set on a copy of a slice from a DataFrame.\n",
      "Try using .loc[row_indexer,col_indexer] = value instead\n",
      "\n",
      "See the caveats in the documentation: http://pandas.pydata.org/pandas-docs/stable/indexing.html#indexing-view-versus-copy\n",
      "  self[name] = value\n"
     ]
    }
   ],
   "source": [
    "tmp_gasUsed_list = []\n",
    "\n",
    "for gasused in raw_broadcast_df.gasUsed:\n",
    "    if type(gasused) == type('str'):\n",
    "        tmp_gasUsed_list.append(int(gasused, 16))\n",
    "    else:\n",
    "        tmp_gasUsed_list.append(gasused)\n",
    "\n",
    "print(len(tmp_gasUsed_list))\n",
    "print(len(raw_broadcast_df.gasUsed))\n",
    "print(tmp_gasUsed_list)\n",
    "raw_broadcast_df.gasUsed = tmp_gasUsed_list"
   ]
  },
  {
   "cell_type": "markdown",
   "metadata": {},
   "source": [
    "**Similarly, let's convert size in raw broadcast df**"
   ]
  },
  {
   "cell_type": "code",
   "execution_count": 406,
   "metadata": {},
   "outputs": [
    {
     "name": "stdout",
     "output_type": "stream",
     "text": [
      "8785\n",
      "8785\n",
      "(8785, 11)\n",
      "['0x10c8', '0x10d8', '0x1100', '0x10c8', '0x10c8', '0x31eb', '0x31eb', '0x31eb', '0x31eb', '0x31eb', '0x31eb', '0x31eb', '0x31eb', '0x31eb', '0x31eb', '0x31eb', '0x31eb', '0x31eb', '0x31eb', '0x31eb', '0x31eb', '0x31eb', '0x31eb', '0x31eb', '0x31eb', '0x31eb', '0x31eb', '0x31eb', '0x31eb', '0x31eb', '0x31eb', '0x31eb', '0x31eb', '0x31eb', '0x31eb', '0x31eb', '0x31eb', '0x31eb', '0x31eb', '0x31eb', '0x31eb', '0x31eb', '0x31eb', '0x31eb', '0x375c', '0x31eb', '0x323d', '0x31eb', '0x31eb', '0x31eb', '0x31eb', '0x31eb', '0x31eb', '0x31eb', '0x31eb', '0x31eb', '0x31eb', '0x31eb', '0x31eb', '0x31eb', '0x31eb', '0x31eb', '0x31eb', '0x31eb', '0x31eb', '0x31eb', '0x31eb', '0x31eb', '0x31eb', '0x31eb', '0x31eb', '0x31eb', '0x31eb', '0x31eb', '0x31eb', '0x31eb', '0x31eb', '0x31eb', '0x31eb', '0x31eb', '0x31eb', '0x31eb', '0x31eb', '0x31eb', '0x31eb', '0x31eb', '0x31eb', '0x31eb', '0x323d', '0x31eb', '0x31eb', '0x31eb', '0x31eb', '0x31eb', '0x31eb', '0x31eb', '0x31eb', '0x31eb', '0x31eb', '0x31eb', '0x31eb', '0x31eb', '0x31eb', '0x31eb', '0x31eb', '0x31eb', '0x31eb', '0x2147', '0x2147', '0x2147', '0x31eb', '0x31eb', '0x31eb', '0x31eb', '0x31eb', '0x31eb', '0x31eb', '0x31eb', '0x31eb', '0x31eb', '0x31eb', '0x31eb', '0x31eb', '0x31eb', '0x31eb', '0x31eb', '0x31eb', '0x31eb', '0x31eb', '0x31eb', '0x31eb', '0x3570', '0x31eb', '0x31eb', '0x31eb', '0x31eb', '0x31eb', '0x31eb', '0x31eb', '0x31eb', '0x31eb', '0x31eb', '0x31eb', '0x31eb', '0x31eb', '0x31eb', '0x31eb', '0x31eb', '0x31eb', '0x31eb', '0x31eb', '0x31eb', '0x31eb', '0x31eb', '0x31eb', '0x31eb', '0x31eb', '0x31eb', '0x31eb', '0x31eb', '0x31eb', '0x31eb', '0x31eb', '0x31eb', '0x31eb', '0x31eb', '0x31eb', '0x31eb', '0x31eb', '0x31eb', '0x31eb', '0x31eb', '0x31eb', '0x31eb', '0x31eb', '0x31eb', '0x31eb', '0x31eb', '0x31eb', '0x31eb', '0x31eb', '0x31eb', '0x31eb', '0x31eb', '0x31eb', '0x31eb', '0x31eb', '0x31eb', '0x31eb', '0x31eb', '0x31eb', '0x31eb', '0x31eb', '0x31eb', '0x31eb', '0x31eb', '0x31eb', '0x31eb', '0x31eb', '0x31eb', '0x2147', '0x2147', '0x2147', '0x31eb', '0x31eb', '0x31eb', '0x31eb', '0x31eb', '0x31eb', '0x31eb', '0x31eb', '0x31eb', '0x31eb', '0x31eb', '0x31eb', '0x31eb', '0x31eb', '0x31eb', '0x31eb', '0x31eb', '0x31eb', '0x31eb', '0x31eb', '0x31eb', '0x31eb', '0x31eb', '0x31eb', '0x31eb', '0x31eb', '0x31eb', '0x31eb', '0x31eb', '0x31eb', '0x31eb', '0x31eb', '0x3570', '0x3570', '0x31eb', '0x31eb', '0x31eb', '0x31eb', '0x31eb', '0x31eb', '0x31eb', '0x31eb', '0x31eb', '0x31eb', '0x31eb', '0x31eb', '0x31eb', '0x31eb', '0x31eb', '0x31eb', '0x31eb', '0x31eb', '0x31eb', '0x31eb', '0x31eb', '0x31eb', '0x31eb', '0x31eb', '0x31eb', '0x31eb', '0x31eb', '0x31eb', '0x31eb', '0x31eb', '0x31eb', '0x31eb', '0x31eb', '0x31eb', '0x31eb', '0x31eb', '0x31eb', '0x31eb', '0x31eb', '0x31eb', '0x31eb', '0x31eb', '0x31eb', '0x31eb', '0x31eb', '0x31eb', '0x31eb', '0x31eb', '0x31eb', '0x31eb', '0x31eb', '0x31eb', '0x31eb', '0x31eb', '0x31eb', '0x31eb', '0x31eb', '0x31eb', '0x3570', '0x31eb', '0x31eb', '0x31eb', '0x31eb', '0x31eb', '0x31eb', '0x31eb', '0x31eb', '0x31eb', '0x31eb', '0x31eb', '0x31eb', '0x31eb', '0x31eb', '0x31eb', '0x31eb', '0x31eb', '0x31eb', '0x31eb', '0x31eb', '0x31eb', '0x31eb', '0x31eb', '0x31eb', '0x31eb', '0x31eb', '0x31eb', '0x31eb', '0x31eb', '0x31eb', '0x31eb', '0x31eb', '0x47f5c', '0x1cc28', '0x38051', '0x1c9eb', '0x13385', '0x1d0a3', '0x3dbd7', '0x2cb33', '0x34e66', '0x4370a', '0x14d70', '0x2bae1', '0x26fae', '0x288a3', '0x130a3', '0x3ea8f', '0x14ff0a', '0x3647a', '0x245c2', '0x16d70', '0x1d70a', '0x32e66', '0x3c614', '0x32947', '0x35570', '0x2d70a', '0x3875c', '0x35051', '0x338a3', '0x3fccc', '0x421eb', '0x3afae', '0x36051', '0x3bdc2', '0x31614', '0x3c2e1', '0x1fae1', '0x30800', '0x3f570', '0x3a75c', '0x3c199', '0x37d1e', '0x136b85', '0x2ba3d', '0x10f0', '0x9c7a', '0x27051', '0x11147', '0x1580a3', '0x32851', '0x314cc', '0x2d75c', '0x4275c', '0x1368f5', '0x41eb8', '0x1e570', '0xb051', '0x9428', '0x2f3d7', '0x2b385', '0x208a3', '0x24147', '0x12cdc2', '0x3f3d7', '0x2f3d7', '0x2f947', '0x13e14', '0xab33', '0x1d75c', '0x1b70a', '0x89eb', '0x3c3d7', '0xc75c', '0x15666', '0x2147', '0x13b5c2', '0x33b33', '0x47a3d', '0x33000', '0x2dccc', '0xb28f', '0x5666', '0x130fae', '0x1a75c', '0x2651e', '0x1f23d', '0x2a570', '0x43000', '0x870a', '0xfd1e', '0x1bf5c', '0x3f800', '0x13614', '0x39f0a', '0x2cd70', '0x3e570', '0x43666', '0x17800', '0x12851', '0x2b333', '0x4175c', '0x38f0a', '0x389eb', '0x3b051', '0x28c7a', '0x3f70a', '0x23a8f', '0x10f0', '0x28199', '0x1f8a3', '0x36e14', '0x40ae1', '0x33147', '0x1223d', '0x3d851', '0x29614', '0x3c9eb', '0x4351e', '0x4528f', '0x401eb', '0x42b33', '0x28eb8', '0x38999', '0x40570', '0x48e14', '0x378a3', '0x44f0a', '0x27614', '0x3d947', '0x36333', '0x41851', '0x3ca3d', '0x3175c', '0x35fae', '0x3528f', '0x42000', '0x42b85', '0x208a3', '0x450f5', '0x3c4cc', '0xfb85', '0x42333', '0xcd70', '0x22fae', '0x47666', '0x29e14', '0x1e5c2', '0x3d8a3', '0x3ad1e', '0x3c6b8', '0x1d4cc', '0x43800', '0x14f0a', '0x15a3d', '0x3b28f', '0x42147', '0x3f614', '0x46333', '0x3ff5c', '0x4cc28', '0x41d1e', '0x2570a', '0x417ae', '0x228a3', '0x3ddc2', '0x11a3d', '0x18dc2', '0x46c7a', '0x10f0', '0x10000', '0x39f5c', '0x3f000', '0x46f0a', '0x10f0', '0x45a8f', '0x32000', '0x2447a', '0x44570', '0x220a3', '0x44ae1', '0x200a3', '0x2f28f', '0x42428', '0x4047a', '0x1b428', '0x34d1e', '0x47385', '0x1e614', '0x10f8', '0x1e3d7', '0x2f800', '0x2e614', '0x4375c', '0x1ef5c', '0x27800', '0x45eb8', '0x44a8f', '0x428f5', '0x40147', '0x43ccc', '0x19a3d', '0x27dc2', '0x3a614', '0x3bccc', '0x3e23d', '0x2ee66', '0x474cc', '0x10d0', '0x30570', '0x37e14', '0x30428', '0x34c7a', '0x449eb', '0x4a28f', '0x31199', '0x40d70', '0x3e1eb', '0x31051', '0x3fb33', '0x3e1eb', '0x3a147', '0x458f5', '0x4e66', '0x289eb', '0x2f999', '0x2a8a3', '0x3b999', '0x7428', '0x22ae1', '0x258a3', '0x3770a', '0x46ccc', '0x32ccc', '0x35851', '0x31ae1', '0x3fe66', '0xf7ae', '0x10a8', '0x2d570', '0x17eb8', '0x34bd7', '0x3a0a3', '0x28d70', '0x33000', '0x2cc28', '0x29051', '0x41385', '0xf8a3', '0x1f1eb', '0x17eb8', '0x29ccc', '0x19199', '0x40dc2', '0x344cc', '0x3c6b8', '0x2070a', '0x22051', '0x3847a', '0x26385', '0x35d70', '0x3fb85', '0x29428', '0x3ac7a', '0x158f5', '0x3e8f5', '0x380f5', '0x3f800', '0xf333', '0x3f000', '0x41666', '0x3feb8', '0x3f8a3', '0x3b51e', '0x2f147', '0x448a3', '0x33a3d', '0x3f51e', '0x10f0', '0x2b385', '0x3dc28', '0x4747a', '0x38fae', '0x14d70', '0x2f051', '0x19000', '0x36ccc', '0x2f7ae', '0x2ef5c', '0x268a3', '0x43d70', '0x2f3d7', '0x33199', '0x3823d', '0x405c2', '0x39c7a', '0x34000', '0x42947', '0x35570', '0x2a614', '0x405c2', '0x1b47a', '0x23c7a', '0x31947', '0x113d7', '0x4851', '0x38666', '0x35199', '0x194cc', '0x3a51e', '0xbb85', '0x26c7a', '0x1928f', '0x2efae', '0x19dc2', '0x29ccc', '0x48b33', '0x442e1', '0x163d7', '0x137ae', '0x1e385', '0x3f851', '0x13b85', '0x11570', '0xfe66', '0x3a570', '0x1bd70', '0x3f0a3', '0x2eccc', '0xbae1', '0x2b28f', '0x1b6b8', '0x2fe66', '0x2cae1', '0xe800', '0x1bccc', '0x41bd7', '0x2f51e', '0xad1e', '0xca3d', '0xfc28', '0x3047a', '0x2f4cc', '0x126b8', '0x2c0a3', '0x24f5c', '0x14666', '0x34947', '0x7bd7', '0x1c8f5', '0x8c7a', '0x32199', '0x1b614', '0x29f0a', '0x1e8f5', '0x2199', '0x102e1', '0x1eb85', '0x3adc2', '0x19000', '0x21147', '0x32851', '0x4aeb8', '0x2d947', '0x3c051', '0x37000', '0x25428', '0x2d28f', '0x31947', '0xafae', '0xc333', '0x1475c', '0x20147', '0x29eb', '0xf999', '0x3fdc2', '0x32f0a', '0x4cd70', '0x2bf5c', '0x3f23d', '0x50fae', '0x3d5c2', '0x24851', '0x4bc28', '0x421eb', '0x1d851', '0x2edc2', '0x11851', '0x45147', '0xd428', '0x39051', '0x33d70', '0x11bd7', '0x40147', '0x3b51e', '0x49d70', '0x3f0a', '0x3c000', '0x10b8', '0x3e8f5', '0x2ba3d', '0x3e23d', '0x2d5c2', '0x2b385', '0xdf5c', '0x3f147', '0x45947', '0x2c0f5', '0x1bd1e', '0x48851', '0x399eb', '0x1e0f5', '0x10b8', '0x19fae', '0x49000', '0x41199', '0x1d947', '0x38a3d', '0x398f5', '0x9385', '0x41a8f', '0x3875c', '0x2bf0a', '0xf70a', '0x2a147', '0xcdc2', '0x3feb8', '0x4375c', '0x44666', '0xe70a', '0x42b85', '0x3e199', '0x30ccc', '0x10f0', '0x4247a', '0x270f5', '0x40666', '0x3fdc2', '0x3ed70', '0x13e14', '0x10f0', '0x3dc7a', '0x4323d', '0x424cc', '0x3d000', '0x405c2', '0x45385', '0x37947', '0x265c2', '0x2c75c', '0x44428', '0x2e000', '0xfd1e', '0x24bd7', '0x17e66', '0x38bd7', '0x148a3', '0x3e1eb', '0xcc28', '0x46428', '0x33147', '0x36a3d', '0x20f5c', '0x42666', '0x37ccc', '0x36333', '0x455c2', '0x37a8f', '0x38051', '0x1c385', '0x2b051', '0x409eb', '0xe4cc', '0x1f68', '0x27eb8', '0x3aeb8', '0x45dc2', '0x42e66', '0x15614', '0x10f0', '0x3b4cc', '0x18dc2', '0x3a47a', '0x3ef5c', '0x316b8', '0x31428', '0x3247a', '0x408f5', '0x4170a', '0x44666', '0x393d7', '0x42f5c', '0x4f947', '0x3a0f5', '0x37a8f', '0x3d47a', '0x43199', '0x37999', '0x37c7a', '0x3deb8', '0x1a6b8', '0x23c28', '0x356b8', '0x1175c', '0x2a0a3', '0x371eb', '0x32c7a', '0x31800', '0x41b85', '0x45800', '0x3a0f5', '0x40f0a', '0x395c2', '0x2dd1e', '0x391eb', '0x45e66', '0x3eb85', '0x4251e', '0x3cb33', '0x3a28f', '0x36b33', '0x5d8a3', '0x47e14', '0x3af5c', '0x3251e', '0x445c2', '0x42333', '0x41147', '0x329eb', '0x48a8f', '0x330f5', '0x27d70', '0x3c7ae', '0x3a28f', '0x15666', '0x3bd70', '0x289eb', '0x30bd7', '0x3a8a3', '0x3eb33', '0x30147', '0x2f7ae', '0x40c28', '0x2df0a', '0x3547a', '0x43eb8', '0x2a7ae', '0xac28', '0x35c28', '0x222e1', '0x36ccc', '0xd3d7', '0x3e70a', '0x10f0', '0x2c9eb', '0x10a8f', '0x2fe66', '0x3b28f', '0x3d2e1', '0x27e14', '0x35851', '0x257ae', '0x11eb8', '0x39199', '0x1d385', '0x2e9eb', '0x28c28', '0x3d8f5', '0x575c', '0x317ae', '0xf385', '0x2151e', '0x32d70', '0xdc7a', '0x1c5c2', '0x14b85', '0xbbd7', '0xb2e1', '0x10c8', '0xa70a', '0x520f5', '0x22e66', '0x25c7a', '0x1670a', '0xe7ae', '0x392e1', '0x38199', '0x37000', '0x2f051', '0x3f7ae', '0x1c2e1', '0x3e8a3', '0x32c7a', '0x19c7a', '0x10a8', '0x32199', '0x3b23d', '0x3a614', '0x3ee66', '0x1b333', '0x12f5c', '0x216b8', '0x14385', '0x2b614', '0x29dc2', '0x28385', '0x32d70', '0x2a75c', '0x2a947', '0x10f0', '0x45b33', '0x14947', '0xd9eb', '0x31dc2', '0x1b5c2', '0x1e199', '0x2328f', '0x200f5', '0x202e1', '0x1a666', '0x26f0a', '0x15d1e', '0x238a3', '0x30a3d', '0x45d70', '0x1e666', '0x2b199', '0x28b33', '0x32947', '0x2270a', '0x28851', '0x16e14', '0x43385', '0x3d428', '0x28a8f', '0x122e1', '0x36b33', '0xfeb8', '0x42a8f', '0x39d70', '0x10f0', '0x1247a', '0x290a3', '0x15d1e', '0x27428', '0x46051', '0xb6b8', '0x43d1e', '0x20f5c', '0x2ca3d', '0x4970a', '0x334cc', '0x3b70a', '0x200f5', '0x210f5', '0x3a199', '0x37f0a', '0x1128f', '0x169eb', '0x178a3', '0x214cc', '0x33ccc', '0x17c28', '0x35a3d', '0x46800', '0x477ae', '0x46000', '0x3b51e', '0x3a947', '0x446b8', '0x4747a', '0x4328f', '0x419eb', '0x3e47a', '0x46ae1', '0x43333', '0x47bd7', '0x3fe66', '0x4c75c', '0x46d70', '0x36947', '0x38800', '0x48385', '0x3e428', '0x3b75c', '0x3b23d', '0x3a0a3', '0x10e0', '0x4b428', '0x3f666', '0x3eb85', '0x3f6b8', '0x4aa3d', '0x4647a', '0x382e1', '0x44eb8', '0x48666', '0x46b85', '0x45570', '0x480a3', '0x34f0a', '0x2923d', '0x42800', '0x3da8f', '0x44d1e', '0x42d70', '0x430a3', '0x42ae1', '0x49428', '0x40c28', '0x48428', '0x33385', '0x464cc', '0x48199', '0x492e1', '0x480a3', '0x47199', '0x3ea3d', '0x48a8f', '0x46eb8', '0x50385', '0x3eeb8', '0x45d70', '0x45b85', '0x482e1', '0x48666', '0x46c7a', '0x49570', '0x48eb8', '0x473d7', '0x47051', '0x3c0f5', '0x424cc', '0x489eb', '0x45947', '0x2db33', '0x40666', '0x316b8', '0x80f5', '0x4370a', '0x10f8', '0x404cc', '0x48051', '0x44d1e', '0x4970a', '0x46ae1', '0x3c570', '0x3b000', '0x45e66', '0x39fae', '0x45947', '0x21eb', '0x46d1e', '0x47051', '0x431eb', '0x4afae', '0x45b33', '0x4451e', '0x47c7a', '0x4975c', '0x45c7a', '0x47800', '0x469eb', '0x3b147', '0x397ae', '0x45800', '0x47c7a', '0x43999', '0x408f5', '0x48333', '0x34c28', '0x42d1e', '0x44570', '0x37eb8', '0x3951e', '0x33b33', '0x47999', '0x4a51e', '0x4f5c2', '0x17c7a', '0x43199', '0x32ccc', '0x3a9eb', '0x2d47a', '0x181eb', '0x3db33', '0x201eb', '0x2f614', '0x34f0a', '0x1e999', '0x409eb', '0x2c570', '0x1b4cc', '0xf333', '0x1e428', '0x3efae', '0x32666', '0xa7ae', '0x2d70a', '0x116b8', '0x35147', '0x10d0', '0x21147', '0x1d199', '0x3efae', '0x3a0a3', '0x27999', '0x49c28', '0x6800', '0x33199', '0x2351e', '0x19d70', '0x118a3', '0x1d199', '0x19851', '0x3b0a3', '0x3bf0a', '0x47147', '0x256b8', '0x27800', '0x25385', '0x34dc2', '0x4bbd7', '0x2cc28', '0x3370a', '0x26d1e', '0x2cd70', '0x3a199', '0x47b33', '0x37e66', '0xb8a3', '0x51666', '0x3b570', '0x3028f', '0x288a3', '0x3ab85', '0x28d1e', '0x41d70', '0x458f5', '0x23947', '0x3e199', '0x4828f', '0x4447a', '0x419eb', '0x2fb85', '0x5e9eb', '0x2cc7a', '0x3c47a', '0x33614', '0x3347a', '0x148a3', '0x461eb', '0x14947', '0x3deb8', '0x47bd7', '0x30fae', '0x3c75c', '0x1951e', '0x24c7a', '0x46333', '0x2b7ae', '0x11e14', '0x1fd70', '0x2ce66', '0x1c8f5', '0x2870a', '0x3cdc2', '0x3d0f5', '0x32d1e', '0x3dae1', '0x3e614', '0x318f5', '0x2ba3d', '0x3a2e1', '0x16bd7', '0x43570', '0x3c147', '0x3fc7a', '0x44147', '0x2d000', '0x34614', '0x40b33', '0x3ed70', '0x43b85', '0x3f4cc', '0x13666', '0x1dd70', '0x19f0a', '0x3de14', '0x450f5', '0x1f385', '0x3728f', '0xf385', '0x3ab85', '0xc000', '0x2747a', '0x3f6b8', '0x2cdc2', '0x2cdc2', '0x3cdc2', '0x37ccc', '0x3fe14', '0x4f800', '0x330a3', '0x406b8', '0x418a3', '0x2d8f5', '0x3accc', '0x3e385', '0x3e385', '0x7e2e1', '0x3f70a', '0x3fc28', '0x2fae1', '0x40a8f', '0x47b33', '0x2fc7a', '0x33a3d', '0x1d23d', '0x1a75c', '0x21999', '0x2dfae', '0x3f570', '0x19000', '0x2ad1e', '0x2f333', '0x31e14', '0x48f0a', '0x42a8f', '0x41c7a', '0xa1eb', '0x7bd7', '0x43147', '0x1a5c2', '0x2ed1e', '0x3e199', '0x2d000', '0x13051', '0x25d70', '0x2ff0a', '0x411eb', '0x399eb', '0x376b8', '0x259eb', '0x43570', '0x25a8f', '0x2ffae', '0x15ccc', '0x13b85', '0x34999', '0x3b75c', '0x34dc2', '0x3123d', '0x16f5c', '0x42800', '0x2aa8f', '0x3a7ae', '0x37dc2', '0x315c2', '0x380a3', '0x3923d', '0x2d999', '0x3223d', '0x273d7', '0x1d70a', '0x3a800', '0x3f570', '0x372e1', '0x34199', '0x21ae1', '0x37614', '0x324cc', '0x12d70', '0x430f5', '0xd999', '0x470a3', '0x4628f', '0x3ec7a', '0x30000', '0x285c2', '0x14333', '0x4b70a', '0x37570', '0x25947', '0x3f1eb', '0x10f0', '0x3b147', '0x315c2', '0x390a3', '0x407ae', '0x11a3d', '0x4728f', '0x1770a', '0x3b28f', '0x3e851', '0x47fae', '0x1fe66', '0x9c28', '0x39a8f', '0x25666', '0x10f0', '0x13570', '0x3deb8', '0x25b33', '0x2ca8f', '0x1d6b8', '0x1fc28', '0x25c7a', '0x19e14', '0x28570', '0x3fe14', '0x2d7ae', '0xb9eb', '0x1f9eb', '0x3a199', '0x3ae66', '0x360f5', '0x1d28f', '0x30666', '0x120a3', '0x1723d', '0x2b75c', '0x10e14', '0x1dd8', '0x2451e', '0x14000', '0x10f0a', '0x20147', '0x31999', '0x1c147', '0x2c28f', '0x322e1', '0x4ceb8', '0x1ed70', '0x40999', '0x2fe14', '0x1cbd7', '0x9d70', '0x2cccc', '0x2ad70', '0x171eb', '0x1028f', '0xd47a', '0x1c75c', '0x1fb33', '0x3e570', '0xc385', '0x2670a', '0x4fe66', '0x1170a', '0x419eb', '0x30a8f', '0x1ee66', '0x2c0a3', '0x2d0f5', '0x2a428', '0x1f428', '0x4051', '0x1be66', '0x1fbd7', '0x1e28f', '0x28051', '0x2170a', '0x270a', '0x159eb', '0x23dc2', '0xc051', '0x26e66', '0x276b8', '0x43e14', '0x41666', '0x40f5c', '0x2efae', '0xaf0a', '0x3ae1', '0x2247a', '0x2d199', '0x46a8f', '0x3970a', '0x3de14', '0x33bd7', '0x22000', '0x43d1e', '0x1c000', '0x43dc2', '0x1b666', '0x51bd7', '0x46428', '0x32ae1', '0x365c2', '0x3270a', '0x32ae1', '0x21eb8', '0x34eb8', '0x39c7a', '0xa999', '0x1e4cc', '0x2828f', '0x55ae1', '0x2b6b8', '0xf8a3', '0x1e2e1', '0x723d', '0x2ab85', '0x2f851', '0x40000', '0x348a3', '0x2d428', '0x10d0', '0xb666', '0x39051', '0x4128f', '0x10fae', '0x27614', '0x3c666', '0x2e199', '0x1e8a3', '0x3847a', '0x278a3', '0x2a51e', '0x120a3', '0x108f5', '0xa4cc', '0xf851', '0x1ea8f', '0x3651e', '0x2fb85', '0x18614', '0x7d1e', '0x3e47a', '0xeae1', '0x10c28', '0x22666', '0xcc7a', '0xfeb8', '0x32614', '0x40a3d', '0x231eb', '0x1d0f5', '0x2e333', '0x19000', '0xd5c2', '0x40666', '0xd051', '0x4223d', '0x2ba8f', '0xc9eb', '0x48eb8', '0x3475c', '0x36b8', '0x2afae', '0x49e14', '0x328f5', '0x42b85', '0x3f570', '0x36c28', '0x270a3', '0x21eb8', '0x37b85', '0x14fae', '0x1b6b8', '0x2c1eb', '0x25fae', '0x38ae1', '0x28800', '0x2a199', '0x57199', '0x12bd7', '0x3d051', '0x27c28', '0x485c2', '0x42666', '0x38a8f', '0xdae1', '0x2bc28', '0x2a23d', '0x12ccc', '0x2e3d7', '0x26000', '0x238a3', '0x39eb8', '0x1b51e', '0x33851', '0x2328f', '0x32e14', '0x36147', '0x31f5c', '0x3a000', '0xde14', '0x3d70', '0x8333', '0x420f5', '0x1fae1', '0x3c428', '0x30947', '0x316b8', '0x2dc28', '0x2edc2', '0x182e1', '0x33000', '0x247ae', '0x5b85', '0xe333', '0x2e051', '0x2eae1', '0x1051e', '0x18dc2', '0xb75c', '0x1f28f', '0x40000', '0x1947a', '0x16e66', '0x2f800', '0x10c0', '0x28199', '0x7b33', '0x10f0', '0x4800', '0x1b47a', '0x3ee66', '0x1370a', '0x40f0a', '0x22851', '0x296b8', '0x2b3d7', '0x1e2e1', '0x3647a', '0x1dd1e', '0x28428', '0x10f8', '0x2e147', '0x19385', '0x2f2e1', '0x34d1e', '0x3df0a', '0x23570', '0x14b33', '0x1de66', '0x25f0a', '0x42000', '0x10999', '0x27947', '0x2f666', '0x13a8f', '0x3fe14', '0x430a3', '0x3370a', '0x3a5c2', '0xc051', '0x2570', '0x27b85', '0x16e14', '0x570a', '0x1c947', '0x32800', '0xcb33', '0x335c2', '0xe570', '0x1d947', '0x14f0a', '0x35147', '0x19e66', '0x168a3', '0x4147', '0x3428f', '0x38999', '0x319eb', '0x235c2', '0x1351e', '0x32fae', '0x35851', '0x19800', '0x314cc', '0x2947a', '0x11b33', '0x17385', '0x351e', '0x16c7a', '0x4d1e', '0x1823d', '0xdd70', '0x1ee14', '0xe3d7', '0x11800', '0x14a8f', '0x9199', '0x12d1e', '0xc999', '0xbccc', '0x32ae1', '0x37ccc', '0x19999', '0x25eb8', '0x3e800', '0x3123d', '0x309eb', '0xd0f5', '0x2edc2', '0x24147', '0x323d', '0x23199', '0x2b6b8', '0xa8f5', '0xeccc', '0x1f999', '0x37b33', '0x4d5c2', '0x1d199', '0x17385', '0x1cdc2', '0x10b8', '0x23fae', '0x11c7a', '0x37d70', '0x1123d', '0x1e0f5', '0x1d851', '0x13f0', '0xd3d7', '0x78a3', '0x2b75c', '0x31eb', '0x2e666', '0x269eb', '0x18c7a', '0x11fae', '0xb3d7', '0x4aa3d', '0x121eb', '0x1d0f5', '0x176b8', '0xc1eb', '0x3f0a', '0x269eb', '0x3ad1e', '0x11b33', '0x31c28', '0x3428f', '0x1ea8f', '0x23a3d', '0x43ae1', '0x120a3', '0xa4cc', '0x2da3d', '0x266b8', '0x1b428', '0x15c7a', '0x12f0a', '0x1ce14', '0x3c385', '0x2a23d', '0x23570', '0x2fd1e', '0x5628f', '0x50e66', '0x2e8a3', '0x2b51e', '0x27e14', '0x40614', '0x13000', '0x1dd70', '0x27d70', '0x25851', '0x22d1e', '0x10f8', '0x13d70', '0x2e75c', '0x19851', '0x229eb', '0x20666', '0x31c28', '0x1f570', '0x389eb', '0x3dd70', '0x362e1', '0xd3d7', '0x2d333', '0xcfae', '0x335c2', '0x15666', '0x41800', '0x85c2', '0x1ba8f', '0x3275c', '0x3b570', '0x156b8', '0x19800', '0x1cdc2', '0x3551e', '0x260a3', '0x3ad1e', '0x2570a', '0x29a3d', '0x1c28f', '0x3fa8f', '0x374cc', '0x1bc7a', '0x3d199', '0x3d851', '0xbbd7', '0x1a385', '0x16999', '0x281eb', '0x9a8f', '0x10f0', '0xcdc2', '0x1b000', '0x1875c', '0x160a3', '0x10d0', '0x271eb', '0xf23d', '0x498a3', '0x2b2e1', '0x34a3d', '0x17999', '0x2a28f', '0x33b33', '0x463d7', '0x2a2e1', '0x1b4cc', '0x29333', '0x18147', '0x10d1e', '0x30f0a', '0x33947', '0x3aae1', '0x2b75c', '0x2a199', '0x5999', '0x22bd7', '0x1c23d', '0x320f5', '0xe147', '0x12d1e', '0x21c7a', '0x306b8', '0x2f147', '0x31c7a', '0x3b51e', '0x3d8f5', '0x47e66', '0x21c28', '0x2d9eb', '0x2f5c2', '0x1ea3d', '0x475c2', '0x51eb8', '0x4251e', '0x13b33', '0x1bf0a', '0x33428', '0x4775c', '0x3c8f5', '0x3e333', '0x30147', '0x1eeb8', '0x2cc28', '0x360f5', '0x293d7', '0x2847a', '0x2bccc', '0x3bd7', '0x2ca3d', '0x39b33', '0x1e9eb', '0x26199', '0xd1eb', '0x1947a', '0x34666', '0x3b851', '0x21333', '0x2051e', '0x3b800', '0x3f2e1', '0x1fb85', '0x1ab33', '0x3f9eb', '0xb47a', '0x3e8f5', '0x318a3', '0x30800', '0x3dae1', '0x3175c', '0x1d385', '0x44199', '0x38051', '0x21e66', '0x24bd7', '0xa75c', '0x3828f', '0x3ed1e', '0x24b85', '0x1fb85', '0x1af5c', '0x2cc28', '0x236b8', '0x1ba3d', '0x37385', '0x37ccc', '0x3151e', '0x483d7', '0x80a3', '0x32d70', '0x272e1', '0xcf5c', '0x10d70', '0x14ccc', '0x28dc2', '0x2a947', '0x24e14', '0x1efae', '0x23d1e', '0x2a6b8', '0x1a7ae', '0x1d51e', '0x2fa8f', '0x11147', '0x26851', '0x24051', '0x28851', '0x271eb', '0xc385', '0x160f5', '0x9385', '0x3d5c2', '0x217ae', '0x41f5c', '0x25e14', '0x2a000', '0x2a428', '0x2b000', '0x180a3', '0x2570', '0xa800', '0x3f0a3', '0x9666', '0x2ac28', '0x1d051', '0xae66', '0xd428', '0x2fa8f', '0x3ad1e', '0x2f0a3', '0x10f0', '0x186b8', '0x1ff5c', '0x27eb8', '0x28f0a', '0x190a3', '0x37147', '0x412e1', '0x2e385', '0x3b385', '0x29570', '0x37eb8', '0xcc28', '0x1f8f5', '0x2c0a3', '0x21614', '0x4851', '0x2d947', '0x1c666', '0x3df0a', '0x33333', '0x31570', '0x3b570', '0x47ccc', '0x2e851', '0x1c614', '0x42bd7', '0x43eb8', '0x1c28f', '0x10f0', '0x4128f', '0x3e7ae', '0x39e14', '0x20428', '0x452e1', '0x3bb33', '0x314cc', '0x1e051', '0x389eb', '0x350a3', '0x23199', '0x44ae1', '0x1e199', '0x3975c', '0x364cc', '0x343d7', '0x10f8', '0x3be66', '0x40614', '0x38b33', '0x1fa8f', '0x30428', '0x38bd7', '0x2f428', '0x1b385', '0x40800', '0x2e0f5', '0x3c51e', '0x30c7a', '0x10f0', '0x4528f', '0x3a7ae', '0x391eb', '0x1723d', '0x1e800', '0x2d051', '0x2fdc2', '0x31eb8', '0x3e6b8', '0x26b33', '0x26333', '0x3dfae', '0x416b8', '0x2efae', '0x368f5', '0x403d7', '0x3e51e', '0x5eb8', '0x16f0a', '0x269eb', '0x48a3d', '0x3a6b8', '0x3b70a', '0x48bd7', '0x4df0a', '0x52199', '0x2f000', '0x1f4cc', '0x4070a', '0x1c0f5', '0x43fae', '0x34fae', '0x3fbd7', '0x3dccc', '0x2cfae', '0x3feb8', '0x2323d', '0x38051', '0x38614', '0x410a3', '0x208a3', '0x3d2e1', '0x49570', '0x3ddc2', '0x342e1', '0x438a3', '0x4975c', '0x1d6b8', '0x1c51e', '0x2070a', '0xb333', '0x18666', '0x3cfae', '0x27bd7', '0x11333', '0x32eb8', '0x2eae1', '0x43851', '0x3a3d7', '0x425c2', '0x21051', '0x1bdc2', '0x3d1eb', '0xdd70', '0x2cbd7', '0x4d70', '0x1dbd7', '0x119eb', '0x3a570', '0x1cbd7', '0x1d147', '0x38d70', '0x176b8', '0x1a5c2', '0x160f5', '0x2dfae', '0x4d385', '0x20eccc', '0x37800', '0x41199', '0x2947a', '0x44800', '0x12f0a', '0x10d0', '0x30b33', '0x99999', '0x3fbd7', '0x19975c', '0x448a3', '0x78570', '0x12975c', '0x3a666', '0xabb85', '0x33000', '0x3c4cc', '0x3f570', '0x31800', '0x43ccc', '0x3c000', '0x39851', '0xa7f0a', '0x289147', '0x2cfae', '0x36eb8', '0x683d7', '0x450a3', '0x1e051', '0x1e12e1', '0xadd70', '0x1a2a3d', '0x12c8f5', '0x40d70', '0x120947', '0x35dc2', '0x3d199', '0xe9385', '0x3dc28', '0x24d147', '0x30c7a', '0x32947', '0x16f0a', '0x462e1', '0x10b0', '0x3b199', '0x3d428', '0x3b800', '0x16b85', '0x30385', '0x2a2e1', '0x5028f', '0x3fdc2', '0x1a385', '0x356b8', '0x375c2', '0x3dadc2', '0x2cb85', '0x19628f', '0x1cb333', '0xe375c', '0x1988a3', '0xa0a3', '0x88e14', '0x2470a', '0x492e1', '0x51614', '0x35a8f', '0x24d1e', '0x22a8f', '0x6cae1', '0x6e851', '0x6c428', '0x354cc', '0x4051e', '0x6923d', '0x4ce14', '0x10b8', '0xe9eb', '0x3f428', '0x47dc2', '0x6ab85', '0x3d385', '0x42c28', '0x60a3d', '0x4c666', '0x10b8', '0x1f75c', '0xc3b33', '0x2fd70', '0x31147', '0x3bf0a', '0x39e66', '0x425c2', '0x8ba3d', '0x42b33', '0x6123d', '0xac28', '0x6bf0a', '0x6e000', '0x12051', '0x30eb8', '0x278a3', '0x47eb8', '0x50dc2', '0x6bb85', '0xedc2', '0x5b8a3', '0x28d1e', '0x9423d', '0x3047a', '0x41eb8', '0x12999', '0x27666', '0x2c47a', '0x10e0', '0x142e1', '0x2ed1e', '0x17851', '0x10b8', '0x46c28', '0x1647a', '0xe8a3', '0x377ae', '0x268a3', '0x7d70', '0x1f7ae', '0xd1eb', '0x33385', '0xee14', '0x10b8', '0xb4cc', '0x2f051', '0x3b428', '0x25bd7', '0x1da8f', '0x10b8', '0x3e333', '0xf199', '0x4a000', '0x43385', '0x3bccc', '0x505c2', '0x42a3d', '0x3b614', '0x3b851', '0x4eccc', '0x380a3', '0x446b8', '0x44ccc', '0x44570', '0x3ca8f', '0x10b8', '0x37a3d', '0x42a3d', '0x24851', '0x4abd7', '0x3c5c2', '0x2d570', '0x43b33', '0x49199', '0x32dc2', '0x41f0a', '0x10f8', '0x418a3', '0x494cc', '0x46333', '0x47385', '0x45bd7', '0x441eb', '0x45570', '0x46e66', '0x45e14', '0x458f5', '0x47d1e', '0x46333', '0x10b8', '0x42428', '0x32f5c', '0x40614', '0x387ae', '0x297ae', '0x14999', '0x44b33', '0x3eeb8', '0x3628f', '0x42e66', '0x3efae', '0x46bd7', '0x45570', '0x41385', '0x43800', '0x4828f', '0x42800', '0x3d851', '0x445c2', '0x46199', '0x45b33', '0x43385', '0x4428f', '0x44b85', '0x3eb85', '0x3b6b8', '0x4c051', '0x45051', '0x10b8', '0x46e66', '0x46a3d', '0x427ae', '0x44f5c', '0x4a851', '0x47428', '0x3e8a3', '0x34614', '0x414cc', '0x4270a', '0x3a75c', '0x45614', '0x424cc', '0x3ff5c', '0x44fae', '0x41385', '0x10b8', '0x3a385', '0x43e14', '0x462e1', '0x4bd70', '0x3b6b8', '0x3fb33', '0x46bd7', '0x40e14', '0x41666', '0x416b8', '0x10b8', '0x42947', '0x44d1e', '0x193d7', '0x36947', '0x4b7ae', '0x480a3', '0x458f5', '0x411eb', '0x3eb85', '0x40199', '0x47000', '0x4af5c', '0x4723d', '0x40800', '0x1fccc', '0x490f5', '0x3a570', '0x46428', '0x4675c', '0x4d614', '0x451eb', '0x3728f', '0x4828f', '0x45570', '0x48a8f', '0x46ae1', '0x3f666', '0x44a3d', '0x46333', '0x44b33', '0x45147', '0x42199', '0x40800', '0x49fae', '0x45b85', '0x10b8', '0x42570', '0xc428', '0x47b33', '0x436b8', '0x3f8f5', '0x47666', '0x44147', '0x47b33', '0x405c2', '0x41c28', '0x3b051', '0x423d7', '0x4a0a3', '0x41c28', '0x40666', '0x442e1', '0x43a8f', '0x4223d', '0x4528f', '0x40a3d', '0x45d70', '0x48e14', '0x47999', '0x48d1e', '0x39bd7', '0x2875c', '0x3f051', '0x4bbd7', '0x13947', '0x378f5', '0x355c2', '0x4170a', '0x3823d', '0x3af5c', '0x41e14', '0x3ef5c', '0x45ae1', '0x41e66', '0x47999', '0x3a23d', '0x44b33', '0x428a3', '0x370f5', '0x44a3d', '0x486b8', '0x4747a', '0x43b33', '0x35c7a', '0x3b428', '0x4151e', '0x32ae1', '0x470a3', '0x424cc', '0x44ccc', '0x4523d', '0x468f5', '0x3fe66', '0x42570', '0x48b85', '0x40851', '0x42ae1', '0x42a8f', '0x44a8f', '0x43bd7', '0x3f47a', '0x3b147', '0x46ae1', '0x46800', '0x420a3', '0x4651e', '0x40d1e', '0x4a2e1', '0x491eb', '0x3df5c', '0x3a8f5', '0x4851e', '0x43199', '0x2bc7a', '0x31e66', '0x44666', '0x3775c', '0x240f5', '0x2fbd7', '0x34947', '0x3c8f5', '0x472e1', '0x27000', '0x36000', '0x3970a', '0x4a199', '0x35fae', '0x2f8a3', '0x2223d', '0x3651e', '0x2a5c2', '0x38428', '0x28eb8', '0x28fae', '0x3a8a3', '0x24d1e', '0x3947a', '0x36b33', '0x2de66', '0x411eb', '0x3728f', '0x32999', '0x3e199', '0x1c851', '0x39851', '0x2deb8', '0x314cc', '0x3b800', '0x338a3', '0x41fae', '0x4375c', '0x3cbd7', '0x2128f', '0x46614', '0x3e3d7', '0x32800', '0x38333', '0x450f5', '0x45999', '0x46147', '0x49051', '0x3dc28', '0x4ab85', '0x41ae1', '0x410a3', '0x460a3', '0x3dae1', '0x449eb', '0x298f5', '0x477ae', '0x34a8f', '0x4d9eb', '0x53999', '0x3bb85', '0x407ae', '0x4ddc2', '0x458f5', '0x3cf0a', '0x43051', '0x2efae', '0x22f5c', '0x408f5', '0x22199', '0x4b4cc', '0x41e66', '0x3eeb8', '0x48800', '0x39dc2', '0x41333', '0x41385', '0x479eb', '0x4e947', '0x495c2', '0x40d1e', '0x467ae', '0x3f5c2', '0x3c0f5', '0x4447a', '0x44b85', '0x49051', '0x47000', '0x44800', '0x41b33', '0x3d666', '0x405c2', '0x4cc28', '0x198a3', '0x3d3d7', '0x453d7', '0x46800', '0x44000', '0x46428', '0x3ce14', '0x3f333', '0x3bc28', '0x3e1eb', '0x40385', '0x237ae', '0x4570a', '0x47851', '0x461eb', '0x46a3d', '0x3b28f', '0x45e14', '0x457ae', '0x427ae', '0x41051', '0x44bd7', '0x379eb', '0x470f5', '0x4151e', '0x2bc28', '0x478f5', '0x428a3', '0x48851', '0x44147', '0x3e051', '0x47800', '0x47e14', '0x47eb8', '0x17e14', '0x45eb8', '0x41851', '0x3b2e1', '0x46666', '0x46570', '0x35614', '0x43147', '0x3c000', '0x35614', '0x3fc7a', '0x460a3', '0x33b33', '0x3c51e', '0x4923d', '0x3f385', '0x40051', '0x36851', '0x33947', '0x38199', '0x23eb8', '0x43000', '0x49199', '0x42bd7', '0x3f2e1', '0x44147', '0x446b8', '0x48947', '0x460a3', '0x48147', '0x46851', '0x3c947', '0x4d999', '0x4328f', '0x42d70', '0x421eb', '0x3bf0a', '0x4b2e1', '0x3cae1', '0x45570', '0x42a3d', '0x42a8f', '0x3c8a3', '0x489eb', '0x42199', '0x44a3d', '0x486b8', '0x4b800', '0x46851', '0x3d051', '0x45c28', '0x428f5', '0x397ae', '0x4270a', '0x41199', '0x452e1', '0x3fe14', '0x48999', '0x3f333', '0x3f6b8', '0x4675c', '0x3e947', '0x10f0', '0x44a3d', '0x44428', '0x2e75c', '0x16ae1', '0x47d70', '0x40947', '0x214cc', '0x370f5', '0x10f0', '0x24ccc', '0x35199', '0x40000', '0x38851', '0x25f0a', '0x40bd7', '0x46428', '0x206b8', '0x4051e', '0x481eb', '0x40b85', '0x42333', '0x44e66', '0x48e66', '0x3a75c', '0x45a3d', '0x3cb85', '0x49e14', '0x42385', '0x48570', '0x3c2e1', '0x50c7a', '0x40c28', '0x54eb8', '0x40666', '0x33199', '0x2ea3d', '0x44851', '0x44666', '0x2c851', '0x411eb', '0x120f5', '0x43ccc', '0xef5c', '0x23428', '0x3f8a3', '0x21666', '0x358f5', '0x217ae', '0x3d75c', '0x10f8', '0x3b199', '0x45fae', '0x3728f', '0x37614', '0x37ae', '0x24333', '0x357ae', '0x2d51e', '0x309eb', '0x178f5', '0x2dbd7', '0x35147', '0x2cc28', '0x43c28', '0x26666', '0x42eb8', '0x43851', '0x38614', '0x37dc2', '0x23ccc', '0x24333', '0x2475c', '0x39ccc', '0x49dc2', '0x4dd70', '0x41a8f', '0x2e0f5', '0x409eb', '0x23e66', '0x447ae', '0x380f5', '0x3b9eb', '0x3f47a', '0x3ae66', '0x37b33', '0x3a51e', '0x35333', '0x1f47a', '0x3723d', '0x32000', '0x35e66', '0x39851', '0x41570', '0xb800', '0x43666', '0x3adc2', '0x3f47a', '0x379eb', '0x43147', '0x3875c', '0x2f1eb', '0x25f5c', '0x39666', '0x26199', '0x39f0a', '0x38428', '0x35666', '0x25385', '0x2bd70', '0x42428', '0x3c000', '0x3fa8f', '0x4cbd7', '0x10f8', '0x41e14', '0x2a428', '0x21c7a', '0x3ad70', '0x212e1', '0x2d800', '0x3f70a', '0x10e0', '0x2bdc2', '0x3b5c2', '0x47bd7', '0x391eb', '0x48f5c', '0x3e28f', '0x30d1e', '0x486b8', '0x39ccc', '0x2a800', '0x285c2', '0x3aae1', '0x38851', '0x3a2e1', '0x25999', '0x38570', '0x39d1e', '0x2c3d7', '0x2bfae', '0x34385', '0x45614', '0x32428', '0x23f0a', '0x3f1eb', '0x3cb33', '0x35851', '0x1828f', '0x3147a', '0x40f5c', '0x371eb', '0x23d70', '0x30570', '0x2fb33', '0x27b85', '0x1a999', '0x2a614', '0x3a614', '0x246b8', '0x3aae1', '0x357ae', '0x2a47a', '0x1b51e', '0x3228f', '0x10f0', '0x3a47a', '0x37d1e', '0x4628f', '0x2bdc2', '0x28851', '0x1d51e', '0x14f5c', '0x6e66', '0x1bfae', '0x3d428', '0x2970a', '0x276b8', '0x27e66', '0x36f5c', '0x2351e', '0x12e66', '0x28ae1', '0x2c333', '0x190f5', '0x244cc', '0x19147', '0x14b85', '0x2d0a3', '0x2b7ae', '0xdc28', '0x1e3d7', '0x17385', '0x4a8f', '0x3bb33', '0x2feb8', '0x379eb', '0x2f147', '0x25fae', '0x206b8', '0x348f5', '0x206b8', '0x29999', '0x352e1', '0x1fb33', '0x3451e', '0x485c2', '0x3da3d', '0x2247a', '0x24666', '0x1fc8', '0x219eb', '0x261eb', '0x16d1e', '0x1751e', '0x20bd7', '0x209eb', '0x423d7', '0x2d851', '0x1bf0a', '0x3bc7a', '0x1b75c', '0x37800', '0x44b33', '0x1747a', '0x48a8f', '0x31c28', '0x3551e', '0x36b85', '0x3e47a', '0x45851', '0x20c28', '0x23c28', '0x328f', '0x373d7', '0x37a8f', '0x3c570', '0x3cbd7', '0x1f2e1', '0x2e3d7', '0x17e66', '0x1a3d7', '0x18a8f', '0x1db33', '0x1f666', '0x10b8', '0x23666', '0x3075c', '0x3a28f', '0x3abd7', '0x1a70a', '0x44800', '0x381eb', '0x31000', '0x34947', '0x46614', '0x2e5c2', '0x39147', '0x10f8', '0x4775c', '0x434cc', '0x470a3', '0x2ce14', '0x4423d', '0x1e947', '0x3af5c', '0x30dc2', '0x37d70', '0x39ccc', '0x32c7a', '0x2ec7a', '0x33c7a', '0x4adc2', '0x4728f', '0x3e0f5', '0x3147a', '0x25333', '0x415c2', '0x4351e', '0x2a6b8', '0x15999', '0x3d23d', '0x360a3', '0x2cf0a', '0x2f570', '0x20c28', '0x28a3', '0x1728f', '0x24d70', '0x19570', '0x2470a', '0x399eb', '0x2170a', '0x43333', '0x3b7ae', '0x426b8', '0x286b8', '0x45ccc', '0x24800', '0x321eb', '0x20199', '0x1b47a', '0x3c28f', '0x22ae1', '0x12eb8', '0x33570', '0x2e8a3', '0x21eb', '0x410a3', '0x3efae', '0x2a147', '0x31a3d', '0x4ae66', '0x4ffae', '0x3a6b8', '0x43051', '0x27b33', '0x1c23d', '0x88a3', '0x2e70a', '0x1f7d70', '0x1e6000', '0x389eb', '0xa4b33', '0x345c2', '0x283d7', '0x43851', '0x434cc', '0x14051', '0x3b947', '0xf28f', '0x35570', '0x22147', '0x3d23d', '0x4b0f5', '0x17fae', '0x3bae1', '0x2c8f5', '0x1d6b8', '0x18570', '0x2be14', '0x38a3d', '0x200f5', '0x49666', '0x3547a', '0x3e2e1', '0x192e1', '0x3a8f', '0x40614', '0x26fae', '0x275c2', '0xb64cc', '0x8f000', '0x15ed70', '0xb0051', '0x68385', '0x1bcc7a', '0x24147', '0x1be8f5', '0x1ca3d', '0x142e1', '0xc21eb', '0x23199', '0x399eb', '0x2a51e', '0x31614', '0x268a3', '0x180f5', '0x1feb8', '0x2c6b8', '0x3a000', '0x31051', '0x2d051', '0x10d0', '0x2e800', '0x3151e', '0x43385', '0x25eb8', '0x232e1', '0x27614', '0x45051', '0x36ccc', '0x3f23d', '0x1c999', '0x3551e', '0x3128f', '0x17c7a', '0x31c28', '0x414cc', '0x211eb', '0x10f8', '0x2eb85', '0x226b8', '0x28851', '0x32147', '0x3b75c', '0x388a3', '0x3cf0a', '0x1c4cc', '0x43614', '0x10f0', '0x21800', '0x33a3d', '0x1d3d7', '0x42b85', '0x3bd1e', '0x286b8', '0x10800', '0x3cdc2', '0xb428', '0x45428', '0xe47a', '0x3b333', '0x3147', '0x3fd1e', '0x3c614', '0x34000', '0x4b3d7', '0x4451e', '0x2de14', '0x35851', '0x3a147', '0x25800', '0x29800', '0x16b85', '0x6f5c', '0x723d', '0x297ae', '0x1a28f', '0x36199', '0x23999', '0x1e47a', '0x268f5', '0x167ae', '0x3fa8f', '0x11ae1', '0x2b51e', '0xf0f5', '0x3d800', '0x19c28', '0x40428', '0xc147', '0x6199', '0x2170a', '0x15d70', '0x2b051', '0x1ee14', '0xb0a3', '0xa428', '0x20614', '0x20a3d', '0xa5c2', '0x17d1e', '0x1e5c2', '0x18947', '0x1c9eb', '0xeb85', '0x1d8a3', '0x3da8f', '0x2f70a', '0x15b85', '0xc0f5', '0xc70a', '0xef0a', '0x289eb', '0xbf5c', '0x23dc2', '0x7fae', '0x19e66', '0x44851', '0x46570', '0x2a4cc', '0x8a3d', '0x2cd1e', '0x32385', '0x294cc', '0x538f5', '0x102e1', '0x3d8a3', '0x184cc', '0x116b8', '0x23c28', '0x2123d', '0x31800', '0x405c2', '0x2c0a3', '0x279eb', '0x2b199', '0x3bbd7', '0x1ad1e', '0x45fae', '0x61eb', '0x1cb33', '0x14851', '0x3c70a', '0x1b6b8', '0x5c28', '0x475c2', '0x54ae1', '0x4deb8', '0x44f0a', '0x2cccc', '0x3b75c', '0x393d7', '0x1d7ae', '0x3f7ae', '0x333d7', '0x42614', '0x29570', '0x3bdc2', '0xf666', '0x3b4cc', '0x30385', '0xfae1', '0x33947', '0x3947', '0x3accc', '0x2d8f5', '0x13fae', '0x24851', '0x40666', '0x16fae', '0x42f0a', '0x456b8', '0x2423d', '0x3e147', '0x27dc2', '0xdae1', '0x34851', '0x3f000', '0x28f5c', '0xb947', '0x340a3', '0xe947', '0x48ccc', '0x3028f', '0x2d9eb', '0x1df5c', '0x10e0', '0x2f9eb', '0x2c385', '0x24a8f', '0x32000', '0x27c28', '0x26947', '0x122e1', '0x40c28', '0x389eb', '0x2fc7a', '0x2cf5c', '0x1f947', '0x40000', '0x21a8f', '0x2ed1e', '0x31e14', '0x2d199', '0x3aae1', '0x4bae1', '0x20428', '0x20a8f', '0x37c7a', '0x30e14', '0x1d428', '0x3f947', '0x523d', '0x2d428', '0x3328f', '0x29d1e', '0x3fd70', '0x4cfae', '0x466b8', '0x3a7ae', '0x3d75c', '0x3b0a3', '0x3e666', '0x4d3d7', '0x394cc', '0x4747a', '0x42428', '0x3f614', '0x427ae', '0x46d1e', '0x405c2', '0x46a8f', '0x40ae1', '0x3d51e', '0x48947', '0x42b85', '0x48428', '0x1d570', '0x4be66', '0x45ccc', '0x41c28', '0x446b8', '0x44947', '0x46147', '0x7a3d', '0x42851', '0x4a147', '0x45f5c', '0x3feb8', '0x3b333', '0x441eb', '0x3d947', '0x420a3', '0x462e1', '0x43a3d', '0x4a570', '0x45f0a', '0x3dc28', '0x3ea3d', '0x38dc2', '0x39ccc', '0x26851', '0x37614', '0x49a8f', '0x3cb85', '0x348a3', '0x45d70', '0x31147', '0x17d70', '0x474cc', '0x2a199', '0x45051', '0x423d7', '0x3b947', '0x46999', '0x4528f', '0x40ccc', '0x44e14', '0x4b1eb', '0x483d7', '0x460a3', '0x48b33', '0x27c7a', '0x49199', '0x49b33', '0x43d70', '0x3d70a', '0x10d0', '0x45ae1', '0x499eb', '0x46f5c', '0x3ae14', '0x33e66', '0x333d7', '0x308a3', '0x2fd1e', '0x35eb8', '0x4851', '0x33c28', '0x33d1e', '0x31851', '0x31999', '0x46f5c', '0x25947', '0x37051', '0x450a3', '0x462e1', '0x37147', '0x2e947', '0x1f1eb', '0x1728f', '0x3dbd7', '0x429eb', '0x460a3', '0x43385', '0x4775c', '0x2a2e1', '0x43eb8', '0x4d28f', '0xe333', '0x47851', '0x44c28', '0x40051', '0x358f5', '0x29e66', '0x31999', '0x3b666', '0x3fe66', '0x2b051', '0x3451e', '0x4647a', '0x18333', '0x1d0f5', '0x27f5c', '0x14e66', '0x15b85', '0x39c28', '0x1823d', '0x356b8', '0x24d1e', '0x19c7a', '0x10d0', '0x1d0f5', '0x12c28', '0x2728f', '0xf1eb', '0xf23d', '0x150f5', '0xfa8f', '0x5428', '0x25947', '0x1ebd7', '0x8800', '0x423d', '0x2928f', '0x28c7a', '0x1f947', '0x15051', '0x1070a', '0x361eb', '0x22000', '0x3c947', '0x80f5', '0x1f333', '0x1270a', '0xbb33', '0x12333', '0xa1eb', '0x93d7', '0x42e14', '0x34ccc', '0x16614', '0x1c6b8', '0x14d1e', '0x2b147', '0xa385', '0x280f5', '0x1c333', '0x1751e', '0x45c2', '0x3c614', '0x1b1eb', '0x13e14', '0x2a3d', '0x20947', '0x2523d', '0x69eb', '0x3800', '0x35800', '0x24385', '0x39d1e', '0x167ae', '0x41e66', '0x1af0a', '0x3570a', '0x17800', '0x18bd7', '0x41051', '0xc5c2', '0x2275c', '0x21a8f', '0x2d28f', '0x2cb85', '0x1623d', '0x28a3d', '0x2fbd7', '0x31a3d', '0x35bd7', '0x10f8', '0x17e14', '0x1d851', '0x43999', '0x2275c', '0x16b33', '0x1ba3d', '0x30f5', '0x223d7', '0x2c199', '0x2bd70', '0x54ae1', '0x42385', '0x5bd7', '0x10f8', '0x420f5', '0x10f8', '0x257ae', '0x2d947', '0x15b85', '0x3d2e1', '0x40a3d', '0x21c7a', '0x15947', '0x12d70', '0x28a3d', '0x28b33', '0x28dc2', '0x108a3', '0x10f8', '0xdf5c', '0x18dc2', '0x26d70', '0x35d70', '0x15199', '0x2bf0a', '0x2c1eb', '0x1cc7a', '0x28800', '0x13c7a', '0x1bd1e', '0xd147', '0x19000', '0x2ad70', '0x44c28', '0x36b33', '0x20947', '0x37c28', '0x1b51e', '0x34d1e', '0x5947', '0x42d70', '0x43dc2', '0x10a8f', '0x18051', '0x30333', '0x14e14', '0x30ccc', '0x47428', '0x40c28', '0x49000', '0x3f570', '0x34999', '0x3ed70', '0x48947', '0x14a3d', '0x350f5', '0x219eb', '0x42bd7', '0x3e199', '0x10f5c', '0x2ee14', '0x27a3d', '0x2fbd7', '0x2ab85', '0x45c7a', '0x218f5', '0x3b385', '0x34d1e', '0x187ae', '0x28000', '0x48b85', '0x1c28f', '0x13c7a', '0x3cdc2', '0x1c385', '0x31147', '0x15666', '0x3dd1e', '0x2b23d', '0x475c2', '0x39333', '0x2351e', '0x19570', '0x3575c', '0x1cb85', '0x4b23d', '0x23570', '0x3d6b8', '0xfbd7', '0x29666', '0x2775c', '0x90a3', '0x3dfae', '0x42851', '0x3a333', '0x3851e', '0x482e1', '0x55c2', '0x2ac7a', '0x4828f', '0x1e0a3', '0x1a851', '0x2b2e1', '0xfbd7', '0x40fae', '0x2b570', '0x2975c', '0x490f5', '0x3b9eb', '0x2c666', '0xf28f', '0x2ca8f', '0xf385', '0x3cb85', '0x3c8a3', '0x4451e', '0x2e8f5', '0x18666', '0x34bd7', '0x13e66', '0x3f28f', '0x2fd70', '0x17614', '0x10f0', '0x3747a', '0x319eb', '0x32333', '0x2e23d', '0x11a8f', '0x143d7', '0x31b85', '0x1475c', '0x39947', '0x17000', '0x24e66', '0x15000', '0x3ca3d', '0x10f0', '0x37570', '0x2528f', '0x12b85', '0x3af0a', '0x20e66', '0x15b85', '0x32199', '0x13f5c', '0x3a8a3', '0x38199', '0xfa3d', '0xb1eb', '0xd2e1', '0x13947', '0x2f385', '0x1075c', '0x16851', '0x3523d', '0x1e51e', '0x23199', '0xa75c', '0x20800', '0x5dc2', '0x29a8f', '0x9199', '0x1f6b8', '0x122e1', '0x58a3', '0x3e6b8', '0x4800', '0x975c', '0x1dccc', '0xe4cc', '0xebd7', '0xc147', '0x1f051', '0x13333', '0x9570', '0x17dc2', '0x64cc', '0x1ce66', '0x1f23d', '0x1e800', '0x12a8f', '0x19b33', '0x15147', '0x1351e', '0x1bb33', '0x2d0f5', '0x1a800', '0x29570', '0x1c5c2', '0x21b33', '0x313d7', '0x42999', '0x4a851', '0x3675c', '0x26000', '0x3d333', '0xdb33', '0x3e7ae', '0x208a3', '0x307ae', '0x2128f', '0x7eb8', '0x14b33', '0x152e1', '0x2cf0a', '0x66b8', '0xec7a', '0x38385', '0x50051', '0x1723d', '0x27428', '0x1651e', '0x123d7', '0x1e28f', '0x3e947', '0x3c70a', '0x51f5c', '0x4075c', '0x2fa8f', '0x3d8a3', '0x44947', '0x294cc', '0x3a199', '0x38fae', '0x467ae', '0x30614', '0x43b85', '0x1fbd7', '0x40ae1', '0x86b8', '0xfb85', '0x29ae1', '0x33999', '0x27614', '0x199eb', '0x2999', '0xdeb8', '0x14000', '0x28428', '0x27800', '0x38614', '0x378a3', '0x35000', '0x2147', '0x432e1', '0x1f666', '0x16fae', '0x99eb', '0x1e999', '0x31e14', '0x1f3d7', '0x1d570', '0x110f5', '0x4a8f5', '0x1cc7a', '0x270f5', '0x4a9eb', '0x30999', '0x12ae1', '0x10f0', '0x1cc28', '0x24e66', '0x228f5', '0x3d570', '0x33614', '0x2d5c2', '0x32570', '0x10d0', '0x40614', '0x9b85', '0x2a5c2', '0x43800', '0x3675c', '0x3ba8f', '0x31e14', '0xa8a3', '0x4b000', '0x7800', '0x23428', '0x1aa3d', '0x219eb', '0x4d1e', '0x210a3', '0x15dc2', '0x40051', '0x17f0a', '0x3aae1', '0x16dc2', '0x15199', '0xfd1e', '0x350f5', '0x150f5', '0x3e999', '0x2cb85', '0x19999', '0x165c2', '0x25051', '0x39614', '0x3f800', '0x2c333', '0x10f0', '0x1b47a', '0x3f147', '0x40851', '0x2c51e', '0x16eb8', '0x2623d', '0x25c2', '0x3c2e1', '0xad70', '0x238f5', '0x3c333', '0x3c570', '0x20666', '0x1ee66', '0x3da8f', '0x1b28f', '0x179eb', '0x290a3', '0x43385', '0x28000', '0x3d947', '0x397ae', '0x12c7a', '0x2c2e1', '0x10f8', '0x38a3', '0xebd7', '0x10d0', '0x3cf5c', '0x28b33', '0x1c199', '0x2bb33', '0xbeb8', '0x94cc', '0x21f0a', '0x4a8f', '0x29fae', '0x355c2', '0x3e66', '0x37c7a', '0x371eb', '0xc6b8', '0x1f800', '0x37ccc', '0x2ad1e', '0x22f0a', '0x3e333', '0x2c666', '0x34b33', '0x20570', '0x1651e', '0x38d1e', '0x382e1', '0x4333', '0x428f5', '0x2447a', '0x10d0', '0x8f5c', '0x5385', '0x12333', '0x1dae1', '0x12d1e', '0x189eb', '0x22b33', '0x99eb', '0x7c7a', '0x10f8', '0x3d7ae', '0x283d7', '0x124cc', '0x14666', '0x2da3d', '0xb800', '0x528f', '0x279eb', '0x29000', '0x7a8f', '0x102e1', '0xe570', '0x1f614', '0x1eae1', '0x1d70a', '0x40f0a', '0x33a3d', '0x41f0a', '0x35c28', '0xfd70', '0x13570', '0x6199', '0xabd7', '0xc051', '0x131eb', '0x10b85', '0x1847a', '0x26a8f', '0xfb33', '0xc051', '0x25d1e', '0x36428', '0xad70', '0x22ccc', '0x301eb', '0xea8f', '0xdb33', '0x3c3d7', '0x228f', '0xba8f', '0x395c2', '0x7947', '0x7a3d', '0x7d1e', '0x18b33', '0x50f5', '0x1abd7', '0x4947', '0x10d0', '0x31800', '0x13666', '0x1c051', '0xfeb8', '0x6614', '0x222e1', '0x24f5c', '0x346b8', '0x3ec28', '0xbd70', '0x3614', '0x2ab33', '0x36800', '0xb3d7', '0x36f5c', '0x230f5', '0x16ae1', '0xc570', '0x45614', '0x35d1e', '0xcdc2', '0x46bd7', '0x43666', '0x3ea8f', '0x32a8f', '0x2fa8f', '0x1dae1', '0x35ccc', '0x10f8', '0x3d800', '0x36999', '0x3adc2', '0x1d999', '0x43b85', '0x1347a', '0x7333', '0x211eb', '0xf614', '0x37e66', '0x23eb8', '0x1b7ae', '0x1f08', '0x1dbd7', '0x3e385', '0x10dc2', '0x4666', '0x52800', '0x1b800', '0x9ccc', '0x1d47a', '0xd4cc', '0x2ae66', '0x2c8a3', '0xef5c', '0x45f0a', '0x3adc2', '0x8333', '0xd1eb', '0x323d', '0x1d23d', '0x104cc', '0x3efae', '0x2999', '0x318a3', '0x26199', '0x37051', '0x1fd1e', '0x18000', '0x269eb', '0x25199', '0x338f5', '0x24d70', '0x490f5', '0x3dd1e', '0xb2e1', '0x370a3', '0x3d7ae', '0x3f333', '0x11dc2', '0x2a3d7', '0x26147', '0x50147', '0x39f0a', '0x3cbd7', '0x3c6b8', '0x3c851', '0x460f5', '0x44a3d', '0x2ceb8', '0x3bb85', '0x261eb', '0x45385', '0x131eb', '0x4aae1', '0x3f947', '0x3928f', '0x19e0', '0x1251e', '0xbd1e', '0x270f5', '0x217ae', '0x10a8', '0x473d7', '0x478a3', '0x49dc2', '0x40eb8', '0x26a3d', '0x36fae', '0x350f5', '0x37147', '0x3b199', '0x12666', '0x3f70a', '0x5075c', '0x3bf5c', '0x2223d', '0x2db85', '0x28ccc', '0x3d51e', '0x117ae', '0x42bd7', '0x38800', '0xe8f5', '0xa3d7', '0x420a3', '0x46851', '0x43999', '0x2a2e1', '0x3cc28', '0x34fae', '0x28d70', '0x2ad70', '0x1ef5c', '0x22f0a', '0x302e1', '0x1f90', '0x33614', '0x1cfae', '0x3ac7a', '0x2f614', '0x1651e', '0x3d2e1', '0xde14', '0x43ccc', '0x49999', '0x2cccc', '0x39147', '0x413d7', '0x2abd7', '0x1375c', '0x4170a', '0x47333', '0x3e570', '0x33e14', '0x3c570', '0x3d3d7', '0x419eb', '0x436b8', '0x3cd70', '0x5000', '0x122e1', '0x2d2e1', '0x37bd7', '0x3f51e', '0x3ae66', '0x1075c', '0x137ae', '0x16570', '0x3a666', '0x1cf0a', '0x6147', '0x40199', '0x41947', '0x319eb', '0x45bd7', '0xf666', '0x3c385', '0x479eb', '0x1fdc2', '0x18eb8', '0x3f2e1', '0x21ccc', '0x10614', '0x1a6b8', '0x20c7a', '0x20570', '0x37199', '0x41851', '0x1447a', '0x3e5c2', '0x22800', '0x20bd7', '0x10333', '0x1f8a3', '0x37eb8', '0x16c28', '0x27000', '0x189eb', '0x37e14', '0x23c7a', '0x12eb8', '0x2d000', '0x16d1e', '0x3bc28', '0xe000', '0x36333', '0x16614', '0x2a4cc', '0x37851', '0x1ce14', '0x16c28', '0x28666', '0xbd70', '0xabd7', '0x1cc7a', '0x2e5c2', '0xb28f', '0xbae1', '0x3d999', '0x8b33', '0x17947', '0x13147', '0x8c28', '0x7570', '0x364cc', '0x5e66', '0x10d70', '0x3975c', '0x39c28', '0x11bd7', '0x39199', '0x37000', '0x22666', '0x15b33', '0x7dc2', '0x10e66', '0x190f5', '0x10f8', '0x29000', '0x9dc2', '0x3b5c2', '0x5a8f', '0x22851', '0x328f5', '0x3647a', '0x43fae', '0xd5c2', '0x3d851', '0x40d1e', '0x3723d', '0xfc28', '0x426b8', '0x46428', '0x180a3', '0xe5c2', '0x1fe14', '0x41333', '0x3f70a', '0x43947', '0x4370a', '0x3ac7a', '0x22dc2', '0x20d1e', '0x37000', '0x2cf5c', '0x449eb', '0x3b428', '0x31851', '0x4c666', '0x462e1', '0x36385', '0xea3d', '0x2123d', '0x413d7', '0x15e14', '0x2e385', '0x2b28f', '0x400a3', '0x42666', '0x1a7ae', '0x10570', '0x1d8f5', '0x223d7', '0x384cc', '0x24147', '0xb2e1', '0x1deb8', '0x3aa3d', '0x49a3d', '0x185c2', '0x29dc2', '0x1e7ae', '0x43d1e', '0x42a8f', '0x2bb33', '0x23a3d', '0x17dc2', '0x10333', '0x747a', '0x3ba8f', '0x440f5', '0x13570', '0x3e800', '0x24570', '0x3fe14', '0x2ab85', '0x2a5c2', '0x41dc2', '0x41385', '0x104cc', '0x46f5c', '0x3ab85', '0x38c28', '0x4c8a3', '0x1df5c', '0x41000', '0xadc2', '0x3b0a3', '0x1f428', '0x23c28', '0x27051', '0x3370a', '0x402e1', '0x3223d', '0x36051', '0x30ccc', '0xed1e', '0x3051', '0x185c2', '0x3251e', '0x39947', '0x3a5c2', '0x3bd1e', '0x3a7ae', '0x2f051', '0x3c570', '0x2e851', '0x2d23d', '0x498f5', '0x2a4cc', '0x3f800', '0x140f5', '0x34dc2', '0x3abd7', '0x308a3', '0x37851', '0x38dc2', '0x428a3', '0x21fae', '0x1dbd7', '0x32d1e', '0x1c8f5', '0x36051', '0x245c2', '0x24b33', '0x40570', '0x2151e', '0x4a051', '0x36f0a', '0x4823d', '0x1c851', '0x36fae', '0x2c3d7', '0xa8f5', '0x2c851', '0xeae1', '0x18a3d', '0x3123d', '0x8d1e', '0x38800', '0x3d23d', '0x37ccc', '0x27a3d', '0x15d70', '0x21ae1', '0x2b2e1', '0x2feb8', '0x38570', '0x17dc2', '0x10f8', '0x6147', '0x4228f', '0x2d28f', '0x24666', '0x26a8f', '0x1f147', '0x20a8f', '0x25147', '0x430a3', '0x31051', '0xe051', '0x2475c', '0xa000', '0x1c051', '0x2c570', '0x20147', '0x3c999', '0x3c8a3', '0x2e947', '0x8c7a', '0x3800', '0x40800', '0xd333', '0x33b33', '0x1670a', '0xaf0a', '0x3fe66', '0x37428', '0x3abd7', '0x33c28', '0x3528f', '0x40051', '0x25eb8', '0x18000', '0x8147', '0xc8a3', '0xdfae', '0x29ae1', '0x252e1', '0x1b23d', '0x1a614', '0xdc7a', '0x7e66', '0x110a3', '0xd999', '0x46147', '0x522e1', '0x36800', '0xc570', '0x15eb8', '0x25051', '0x1eb85', '0x1e000', '0x201eb', '0x183d7', '0x28dc2', '0x1accc', '0x3199', '0x6851', '0x2c9eb', '0x121eb', '0x1090', '0x8333', '0x532e1', '0x109eb', '0x20999', '0x7147', '0x52a3d', '0xb8a3', '0x58a3', '0x2f5c', '0x5800', '0x3270a', '0x17b33', '0x30666', '0x31eb', '0x1a666', '0x21a3d', '0x36570', '0xca8f', '0x1a4cc', '0x5428', '0x20a3', '0x21570', '0x31d1e', '0x24cc', '0x392e1', '0x20051', '0xbe14', '0x9f0a', '0x6428', '0x3947', '0x2223d', '0x21614', '0x2fbd7', '0x30bd7', '0x304cc', '0x86b8', '0x109eb', '0x2deb8', '0x33051', '0x3ec7a', '0x228f', '0x29d1e', '0x34333', '0x3d147', '0x26a3d', '0x21851', '0x3eccc', '0x19051', '0x2d1eb', '0x42ccc', '0x160f5', '0x193d7', '0x32c7a', '0x98f5', '0x508f5', '0x24e66', '0x22570', '0x28385', '0x4d000', '0x52c7a', '0x35d1e', '0x10e14', '0x4d570', '0x41f0a', '0x3fdc2', '0x1e666', '0x4a0f5', '0x182e1', '0x1823d', '0x2670a', '0x13d70', '0x3a3d7', '0x2d5c2', '0x45d70', '0x38a8f', '0x1451e', '0x19999', '0x35147', '0x23eb8', '0x1c2e1', '0x466b8', '0x3dccc', '0x38eb8', '0x18c28', '0x482e1', '0x33b33', '0x441eb', '0xa8f5', '0x32ccc', '0x4128f', '0x3a000', '0x46eb8', '0x3f800', '0x1ab85', '0x40147', '0x32570', '0x2e570', '0x5228f', '0x21199', '0x148f5', '0x43c7a', '0x39385', '0x4accc', '0x375c2', '0x4475c', '0x3a0f5', '0x3e51e', '0x48d70', '0x3c199', '0x47e14', '0x4423d', '0x488f5', '0x3de14', '0x3e7ae', '0x4328f', '0x4d8f5', '0x3f7ae', '0x3f2e1', '0x42e14', '0x49eb8', '0x47ae1', '0x42947', '0x3951e', '0x47614', '0x4b947', '0x2b4cc', '0x436b8', '0x4a28f', '0x140a3', '0x48800', '0x42199', '0x53d1e', '0x409eb', '0x3ca3d', '0x47000', '0x43ccc', '0x3ddc2', '0x482e1', '0x3c6b8', '0x4028f', '0x44eb8', '0x457ae', '0x472e1', '0x3f7ae', '0x3528f', '0x48c7a', '0x41a3d', '0x397ae', '0x4647a', '0xf333', '0x460f5', '0x3ee66', '0x4b28f', '0x43570', '0x53d70', '0x45a8f', '0x46428', '0x3bdc2', '0x46851', '0x49999', '0x4451e', '0x49385', '0x4923d', '0x436b8', '0x46e14', '0x43a3d', '0x45c7a', '0x3ad70', '0x450f5', '0x3a6b8', '0x4951e', '0x4923d', '0x4751e', '0x3e851', '0x49000', '0x4751e', '0x41999', '0x44fae', '0x42385', '0x40c28', '0x45199', '0x478f5', '0x409eb', '0x4175c', '0x3770a', '0x2d947', '0x48eb8', '0x4a47a', '0x47a3d', '0x450a3', '0x42147', '0x4a8a3', '0x39999', '0x451eb', '0x41e66', '0x21dc2', '0x48ae1', '0x3fccc', '0x428f5', '0x411eb', '0x51f0a', '0x44bd7', '0x450f5', '0x3f9eb', '0x43147', '0x3d8f5', '0x45666', '0x1af5c', '0x475c2', '0x415c2', '0x46fae', '0x46d1e', '0x4ea3d', '0x3d3d7', '0x42f0a', '0x43000', '0x49666', '0x48666', '0x3fc7a', '0x49ae1', '0x440f5', '0x4123d', '0x208f5', '0x4628f', '0x3c2e1', '0x43999', '0x1088', '0x4670a', '0x44c28', '0x469eb', '0x45000', '0x3e75c', '0x474cc', '0x3e5c2', '0x40851', '0x43a3d', '0x41428', '0x4047a', '0x44385', '0x48fae', '0x420a3', '0x3c614', '0x4b23d', '0x400f5', '0x49051', '0x41f0a', '0x48428', '0x49b33', '0x473d7', '0x43999', '0x63eb8', '0x307ae', '0x1deb8', '0x2f800', '0x18051', '0x269eb', '0x280a3', '0x25199', '0x5666', '0x3c9eb', '0x52a8f', '0x396b8', '0x31e66', '0x1f9eb', '0x2c7ae', '0x2c9eb', '0xb570', '0x1c199', '0x3a7ae', '0x70f5', '0x3333', '0x37b85', '0x9428', '0xbeb8', '0x35800', '0x27666', '0x20f5c', '0x1e2e1', '0x19f0a', '0xb7ae', '0x37947', '0x21d70', '0x17614', '0x3828f', '0x4d147', '0x74cc', '0x10d0', '0x2a3d', '0x1f5c2', '0x13428', '0x1e947', '0x28333', '0x28e66', '0x21428', '0x1cb33', '0x7a3d', '0x3da8f', '0x3370a', '0x65c2', '0xdccc', '0x1f999', '0x257ae', '0xaeb8', '0xceb8', '0x13fae', '0x13385', '0x2b0f5', '0x27d70', '0x33147', '0x33999', '0x29800', '0x235c2', '0x163d7', '0x3c7ae', '0x3328f', '0x22e66', '0x3a851', '0x431eb', '0x3c51e', '0x33333', '0x539eb', '0x4e947', '0x53ae1', '0x45570', '0x44e14', '0x360a3', '0x3c5c2', '0x3670a', '0x10147', '0x3c428', '0x2f2e1', '0x11f0a', '0x3ec7a', '0x37614', '0x42199', '0x37147', '0x2470a', '0x47851', '0x3ca8f', '0x10000', '0x4bbd7', '0x12385', '0x45b33', '0x3f23d', '0x38eb8', '0x3e947', '0x2e1eb', '0x39385', '0x2a666', '0x4628f', '0x3c6b8', '0x52947', '0x3fa8f', '0x4dc28', '0x277ae', '0x478a3', '0x28e66', '0x21b33', '0x2c23d', '0x427ae', '0x23e14', '0x18428', '0x1a5c2', '0x31999', '0x1fd70', '0x15c28', '0x3675c', '0x26eb8', '0x1a428', '0x383d7', '0x10f8', '0x3c385', '0x38d70', '0x371eb', '0x42eb8', '0x68a3', '0x43947', '0x40eb8', '0x104cc', '0x42385', '0x459eb', '0x35f5c', '0x171eb', '0x3e147', '0x45a3d', '0x4a614', '0x39bd7', '0xdb33', '0x299eb', '0x45999', '0x42ccc', '0x45eb8', '0x4dc2', '0x2575c', '0x48051', '0x54b33', '0x3aa3d', '0x113d7', '0x1ab85', '0x21800', '0x8385', '0x7570', '0x23eb8', '0x26f5c', '0x1d70a', '0xf1eb', '0x3a147', '0x3f199', '0x386b8', '0x20d70', '0x34800', '0x21385', '0x37d1e', '0x11999', '0x12199', '0x1247a', '0x180f5', '0x2dc7a', '0x47333', '0x3e1eb', '0x30ccc', '0x430a3', '0x442e1', '0x3e51e', '0x42ae1', '0x3ef0a', '0xf000', '0x3e000', '0x3cfae', '0x456b8', '0x2c8a3', '0x135c2', '0x1c8f5', '0x9947', '0x17c7a', '0x493d7', '0x23f0a', '0x38947', '0x418a3', '0x4670a', '0x3f2e1', '0x3f28f', '0x2de14', '0x2de14', '0x3c2e1', '0x19851', '0x1a0a3', '0x2e947', '0x3ee14', '0x29d70', '0x14dc2', '0x2c000', '0x32c7a', '0x3670a', '0x54cc', '0x482e1', '0x3e000', '0x2128f', '0x27d1e', '0x11800', '0x188a3', '0x3cfae', '0x1770a', '0x25385', '0x1f4cc', '0x43c7a', '0x13b85', '0x3d23d', '0x2d999', '0x3eb8', '0x1ce66', '0x551e', '0x323d', '0x1828f', '0x33d70', '0x3a70a', '0x3f614', '0x1d199', '0x14ccc', '0x25000', '0x297ae', '0x160a3', '0x30a3d', '0x5428', '0x15570', '0x57ae', '0x2bbd7', '0x39428', '0x20bd7', '0x40a3', '0xb666', '0x62e1', '0x16d1e', '0xf0a3', '0x34199', '0x1be14', '0xa47a', '0x1d5c2', '0xe47a', '0x10f0', '0x3775c', '0x2a75c', '0x29c7a', '0x41ae1', '0x3d333', '0x20f5', '0x6c28', '0x2e199', '0xabd7', '0x13051', '0xd8a3', '0x204cc', '0x143d7', '0x3975c', '0x10333', '0x20999', '0x19a3d', '0x1a47a', '0x3c70a', '0x35000', '0x55c2', '0x43428', '0x11147', '0x25bd7', '0x3ddc2', '0x34000', '0x7e66', '0x4223d', '0x1bae1', '0x1f3d7', '0x25b33', '0x20800', '0x1ec28', '0x53851', '0x2c8f5', '0x3b51e', '0x4a47a', '0x44bd7', '0x2870a', '0x23800', '0x1dd1e', '0x277ae', '0x29c28', '0x2c6b8', '0x389eb', '0x44947', '0x41f0a', '0x3551e', '0x1a4cc', '0x255c2', '0x33c28', '0x34dc2', '0x430f5', '0x238a3', '0x3a4cc', '0x34385', '0x14a3d', '0x25385', '0x2e0a3', '0x3c051', '0x1a51e', '0x431eb', '0x25ccc', '0x3bbd7', '0x3f70a', '0x29199', '0x3c70a', '0x258a3', '0x412e1', '0x1551e', '0x24c7a', '0x37000', '0x29a3d', '0x20b85', '0x6000', '0x3ba8f', '0x41c7a', '0x1947a', '0x10f8', '0x456b8', '0x31947', '0x40f0a', '0x38147', '0x175c2', '0x308a3', '0x61eb', '0x4c947', '0x2c614', '0x2047a', '0x510a3', '0x270a3', '0x367ae', '0x2c28f', '0x2e851', '0x2c9eb', '0x321eb', '0x2ebd7', '0x3a23d', '0x301eb', '0x12051', '0x453d7', '0x2a1eb', '0x2e428', '0x29147', '0x16d70', '0x1da8f', '0x1df0a', '0x40851', '0x4147a', '0x1b6b8', '0x34f5c', '0x40614', '0x1970a', '0x2251e', '0x2b2e1', '0x39570', '0x23428', '0x1d7ae', '0x43570', '0x10f8', '0x43fae', '0x34147', '0x3e9eb', '0x2e8a3', '0x32428', '0x40e66', '0x3fb85', '0x31bd7', '0x22c7a', '0x24614', '0x1770a', '0x22614', '0x2fe66', '0x1b7ae', '0x43e14', '0x2451e', '0x3f385', '0x27000', '0x44bd7', '0x4870a', '0x28fae', '0x35c28', '0x2fdc2', '0x258f5', '0x31d70', '0x1747a', '0x40f5c', '0x23b33', '0x45a3d', '0x3170a', '0x24851', '0x2d4cc', '0x2f851', '0x39666', '0x33999', '0x27a8f', '0x10f8', '0x4a51e', '0x45dc2', '0x2c7ae', '0x33a8f', '0x35199', '0x4070a', '0x48428', '0x22eb8', '0x36b33', '0x3aa8f', '0x1fb33', '0x128f5', '0x1da3d', '0x30051', '0x4f614', '0x3e70a', '0x1d999', '0x47c28', '0x8f5c', '0xe999', '0x3e9eb', '0x3fe66', '0x23333', '0x212e1', '0x36fae', '0x161eb', '0x1c800', '0x196b8', '0xbc28', '0x30d70', '0x1b3d7', '0x151eb', '0x651e', '0x2ceb8', '0x14fae', '0x1a428', '0x3a0f5', '0x3ee66', '0xd70a', '0x34dc2', '0x3dae1', '0x3e3d7', '0x3d333', '0x150f5', '0x375c', '0x2e5c2', '0x48800', '0x379eb', '0x43000', '0x23a8f', '0x4551e', '0x28d70', '0x3accc', '0xc0a3', '0x30ccc', '0x19fae', '0x2be14', '0x342e1', '0x4e333', '0x28d70', '0x77ae', '0x36bd7', '0x1ab33', '0x1eeb8', '0x37c7a', '0x3b75c', '0x22fae', '0x38c7a', '0x39147', '0x33bd7', '0x10f8', '0x36428', '0x1c8a3', '0x374cc', '0x27ae1', '0x34000', '0x31614', '0x21333', '0x1deb8', '0x32f5c', '0x14666', '0x3228f', '0x2e000', '0x2d7ae', '0xf851', '0x60a3', '0x3ef0a', '0x16051', '0x208a3', '0x11fae', '0x8bd7', '0x11e14', '0xae66', '0x456b8', '0x20bd7', '0x17dc2', '0xcfae', '0x33051', '0x86b8', '0x3d7ae', '0x156b8', '0x2e5c2', '0x392e1', '0xe3d7', '0x16851', '0x187ae', '0x304cc', '0x9eb8', '0x345c2', '0x2351e', '0xb28f', '0x141eb', '0xb51e', '0xdd1e', '0x16f5c', '0x1d7ae', '0x43f0a', '0x3575c', '0x36eb8', '0x25dc2', '0x24800', '0x56b8', '0x775c', '0x24bd7', '0x2d1eb', '0x2a7ae', '0x42c28', '0x33000', '0x29dc2', '0x1e333', '0x1b947', '0xa614', '0xa666', '0x9385', '0x1047a', '0x32a8f', '0x200f5', '0xce14', '0x362e1', '0x36eb8', '0x2923d', '0x2e800', '0x2f800', '0x423d7', '0x47dc2', '0x218f5', '0x1e28f', '0x4028f', '0x4328f', '0x3b614', '0x494cc', '0x34b33', '0x2b051', '0x32999', '0x1d147', '0x16ae1', '0x19947', '0xd0f5', '0x3a6b8', '0x23ae1', '0x3fb33', '0x54147', '0x3e428', '0x373d7', '0x372e1', '0x2d5c2', '0x39570', '0xb051', '0x37ccc', '0x3b800', '0x318a3', '0x31b33', '0x3d051', '0xf1eb', '0x2e199', '0x47c28', '0x27947', '0x380f5', '0x48eb8', '0x3df5c', '0x3bc28', '0x341eb', '0x360a3', '0x3023d', '0x16570', '0x41a8f', '0x1d75c', '0x355c2', '0xd051', '0x2d2e1', '0x3b8f5', '0x1e70a', '0x28614', '0x34947', '0x47f5c', '0x2328f', '0x2eb33', '0x3575c', '0x18f0a', '0x3d0a3', '0x2a666', '0x477ae', '0x17199', '0x35a3d', '0x3bb85', '0x384cc', '0x2bdc2', '0x47d1e', '0x3851e', '0x2deb8', '0x3a4cc', '0x2c0f5', '0x35e14', '0x320f5', '0x38fae', '0x39dc2', '0x280f5', '0x39800', '0x3047a', '0x30dc2', '0x40051', '0x4adc2', '0x2d23d', '0x3023d', '0x2e5c2', '0x191eb', '0x16d1e', '0x151eb', '0x38a8f', '0x1d570', '0xdfae', '0x1d8a3', '0x326b8', '0x1bd70', '0x2d7ae', '0x25e66', '0x31947', '0x10f8', '0x3b47a', '0x2c70a', '0x303d7', '0x2ce14', '0x3ce14', '0x14147', '0x25eb8', '0xff5c', '0xa428', '0x24dc2', '0x1e3d7', '0x923d', '0x2a800', '0x3da8f', '0x3cdc2', '0x46fae', '0x20b85', '0x20ccc', '0x2eb33', '0x183d7', '0x7b33', '0x72e1', '0xd1eb', '0x387ae', '0xf000', '0x1047a', '0x3c28f', '0x2d2e1', '0x2be66', '0x4bc28', '0x11051', '0x3cd70', '0x35999', '0x3e428', '0x30b33', '0x360a3', '0x23428', '0x2df5c', '0x35199', '0x2c199', '0x4023d', '0x3cd1e', '0x2f75c', '0x370f5', '0x1ddc2', '0x2fb33', '0x47000', '0x1b2e1', '0x1c614', '0x3d0a3', '0x24333', '0xbd1e', '0x2e2e1', '0x24999', '0x2647a', '0x17a8f', '0x2f51e', '0x1e1eb', '0x41c28', '0x2ab33', '0x3be14', '0x3f570', '0xd75c', '0x18f0a', '0x1d385', '0x40f0a', '0x52e1', '0x3cf5c', '0x2dd1e', '0x387ae', '0x1875c', '0x1f2e1', '0x16dc2', '0xd8a3', '0x3d9eb', '0x3a47a', '0x2dbd7', '0x114cc', '0x32199', '0x22385', '0x15ae1', '0x282e1', '0x1bdc2', '0x2c5c2', '0x29ae1', '0x37b33', '0x22851', '0x2328f', '0x2e4cc', '0x40c7a', '0x3b4cc', '0x2047a', '0x23000', '0x23c28', '0x2c333', '0x32c7a', '0x283d7', '0x27428', '0x17800', '0x2f7ae', '0x12c7a', '0xea8f', '0x28fae', '0x7000', '0x246b8', '0x23851', '0x104cc', '0x88f5', '0x1b0a3', '0xb28f', '0x6333', '0x1fbd7', '0x18d1e', '0x295c2', '0xde14', '0x17000', '0x40d1e', '0x100f5', '0x32a8f', '0x140a3', '0x25147', '0x2a75c', '0x4570', '0x12ccc', '0x24b33', '0x13051', '0x1dc28', '0x30a3d', '0x10e0', '0x251eb', '0x747a', '0x10d0', '0x1a851', '0x12c7a', '0x5e66', '0x29bd7', '0x1f5c2', '0x360a3', '0x26947', '0x1b75c', '0x41428', '0x35c7a', '0x1e3d7', '0x1e75c', '0x3828f', '0x281eb', '0x17570', '0x1d7ae', '0x3628f', '0x392e1', '0x379eb', '0x20000', '0x9d1e', '0x4570a', '0x44999', '0x2cf0a', '0x106b8', '0x23947', '0x3ac28', '0x26c7a', '0x48b85', '0x413d7', '0x350a3', '0x37051', '0x3ed1e', '0x41d70', '0x425c2', '0x10f0', '0x2747a', '0x16b33', '0x4047a', '0x1747a', '0x23147', '0x39385', '0x3c000', '0x2a0a3', '0x23570', '0x240f5', '0x1851e', '0x24800', '0x1747a', '0x232e1', '0x27b33', '0x2c8a3', '0x28a3d', '0x2e199', '0x3128f', '0x3fa8f', '0x18851', '0x17999', '0x47333', '0x44f5c', '0x474cc', '0x43bd7', '0x45d70', '0x4275c', '0x44199', '0x44b85', '0x45b85', '0x44385', '0x424cc', '0x44f0a', '0x426b8', '0x44b85', '0x44385', '0x42d1e', '0x461eb', '0x35eb8', '0x399eb', '0x46666', '0x44a8f', '0x45d70', '0x10d0', '0x39800', '0x37bd7', '0x44a8f', '0x39f0a', '0x2428', '0x3b28f', '0x43a8f', '0x3f8a3', '0x49428', '0x333d7', '0x42ccc', '0x485c2', '0x49428', '0x10f0', '0x4c570', '0x4675c', '0x41b33', '0x44428', '0x3fccc', '0x48000', '0x42947', '0x3cfae', '0x33e14', '0x41e14', '0x3cf5c', '0x4747a', '0x3c5c2', '0x3d999', '0x430a3', '0x396b8', '0x3c70a', '0x46f5c', '0x40051', '0x42800', '0x32051', '0x462e1', '0x3f147', '0x10e0', '0x4d385', '0x42800', '0x481eb', '0x490f5', '0x44d70', '0x3bd70', '0x440a3', '0x2147', '0x38199', '0x47947', '0x3c8f5', '0x4a28f', '0x10d0', '0x3feb8', '0x3a23d', '0x363d7', '0x33e14', '0x44999', '0x411eb', '0x3db85', '0x43800', '0x452e1', '0x43a3d', '0x3dc7a', '0x46666', '0x43051', '0x44b85', '0x48947', '0x454cc', '0x48199', '0x4870a', '0x47385', '0x4751e', '0x27851', '0x457ae', '0x478a3', '0x44147', '0x418f5', '0x38999', '0x32eb8', '0x3b7ae', '0x3ee14', '0x43570', '0x419eb', '0x41fae', '0x37800', '0x49ccc', '0x33c7a', '0x488f5', '0x3347a', '0x23bd7', '0x2647a', '0x32199', '0x4ce14', '0x1ec7a', '0x224cc', '0x2a147', '0x38851', '0x412e1', '0x2a385', '0x1d1eb', '0x35385', '0x1a147', '0x5547a', '0x25614', '0x1aa8f', '0x2523d', '0x206b8', '0x1ffae', '0x1ba8f', '0x223d7', '0x3c0f5', '0x3d428', '0x42800', '0x196b8', '0x1c70a', '0x2a70a', '0x2fa3d', '0x2e6b8', '0x228a3', '0x308f5', '0x1dc7a', '0x1a333', '0x3feb8', '0x17eb8', '0x428a3', '0x33ae1', '0x3bc28', '0x419eb', '0x16614', '0x22f5c', '0x1e9eb', '0x221eb', '0x421eb', '0x1bdc2', '0x103d7', '0x2cfae', '0x169eb', '0x446b8', '0x3423d', '0x260a3', '0x417ae', '0x10d0', '0x12999', '0x35c7a', '0x3e75c', '0x309eb', '0x47f0a', '0x33b33', '0x45d1e', '0x52c7a', '0x49a8f', '0x4a000', '0x471eb', '0x487ae', '0x46666', '0x49947', '0x3570a', '0x3e51e', '0x41570', '0x45800', '0x44199', '0x47800', '0x4bf0a', '0x43b85', '0x4b9eb', '0x457ae', '0x3a4cc', '0x4ef0a', '0x3cb33', '0x477ae', '0x4847a', '0x44999', '0x37947', '0x2e0f5', '0x43614', '0x3be66', '0x34147', '0x475c2', '0x3c147', '0x3adc2', '0x3edc2', '0x43ccc', '0x47eb8', '0x42999', '0x41e14', '0x3cb33', '0x49e14', '0x3ef0a', '0x4b0a3', '0x1d614', '0x1a6b8', '0x32ae1', '0x43147', '0x26666', '0x170f5', '0x10f8', '0x23bd7', '0x2d0f5', '0x37428', '0x3a0a3', '0x3cc28', '0x2da8f', '0x10b8', '0x1e333', '0x4547a', '0x102e1', '0x3d1e', '0x75c2', '0x14c7a', '0x22bd7', '0xe999', '0x6c28', '0x2e947', '0x249eb', '0x12e14', '0x328f', '0x6c7a', '0x27d1e', '0x2147a', '0x1a9eb', '0x2651e', '0x26b85', '0x2cd70', '0x17000', '0x21333', '0x37c7a', '0x4a3d7', '0x33614', '0x448f5', '0x2f5c2', '0x1675c', '0x1c75c', '0x10f8', '0x25a3d', '0x3675c', '0x2cfae', '0x44f5c', '0x53c28', '0x38bd7', '0x4528f', '0x24ccc', '0xe666', '0x8d70', '0x3e947', '0x369eb', '0x4623d', '0x32bd7', '0x1a947', '0x27b33', '0x14e14', '0x21851', '0x2dae1', '0x3728f', '0x15147', '0xd570', '0xf2e1', '0x3d9eb', '0x28614', '0x306b8', '0x170a3', '0x22199', '0x49999', '0x2ae14', '0x3123d', '0x26947', '0x1dc28', '0x21333', '0x3eeb8', '0x3c333', '0x19a3d', '0x204cc', '0x3e14', '0x481eb', '0x351eb', '0x3e2e1', '0x28ccc', '0x2fd1e', '0x31147', '0x43428', '0x3e051', '0x31947', '0xda8f', '0xde14', '0x2beb8', '0x318f5', '0x1e999', '0x35dc2', '0x15ccc', '0x3f851', '0x3be66', '0x2e75c', '0x438a3', '0x37fae', '0x3bccc', '0x39947', '0x2c28f', '0x31851', '0x3d947', '0x3f51e', '0x25bd7', '0x1c570', '0x41199', '0x3d6b8', '0x33147', '0x35999', '0x30c28', '0x341eb', '0x44e66', '0x30c7a', '0x214cc', '0x3e614', '0x1a199', '0x40199', '0x1d851', '0x2e999', '0x3f333', '0x3d9eb', '0x290f5', '0x3e051', '0x44428', '0x35051', '0x22999', '0x26dc2', '0x292e1', '0x19428', '0x3bccc', '0x22385', '0x164cc', '0xbae1', '0x3a570', '0x1bb33', '0xec7a', '0x29a8f', '0x2d8a3', '0x3d800', '0x38800', '0x358a3', '0x3bd1e', '0x337ae', '0x43bd7', '0x2728f', '0x26d70', '0x2bdc2', '0x2bb85', '0x2da3d', '0x300f5', '0x46ae1', '0x3fa3d', '0x3a51e', '0x29051', '0x2e147', '0x4c47a', '0x19e14', '0x2e70a', '0x2abd7', '0x4ab33', '0x2c147', '0x1375c', '0x39147', '0x3c570', '0x4b8f5', '0x18570', '0x13b85', '0x2b0a3', '0x16051', '0x20851', '0x14e66', '0x2a47a', '0x10e66', '0x21dc2', '0x44fae', '0x41ae1', '0x3e47a', '0x250a3', '0x3275c', '0xc75c', '0x2cdc2', '0x40199', '0x42199', '0x111eb', '0x37e14', '0x44d1e', '0x3b851', '0x129eb', '0x1c51e', '0x398f5', '0x2fd70', '0x21bd7', '0x15147', '0x4528f', '0x2ce66', '0x24851', '0x2575c', '0x45666', '0x3d4cc', '0x28a8f', '0x1b6b8', '0x36eb8', '0x2e0a3', '0x41666', '0x2b47a', '0x32666', '0x36947', '0x18d70', '0x137ae', '0x21b33', '0x20bd7', '0x408f5', '0x423d7', '0xc0f5', '0xe23d', '0x380f5', '0xf570', '0x18d1e', '0x492e1', '0x47ae1', '0x3a4cc', '0x4a385', '0x45a8f', '0x449eb', '0x485c2', '0x4970a', '0x45147', '0x44b33', '0x48bd7', '0x424cc', '0x46d70', '0x48333', '0x42ae1', '0x43614', '0x4bae1', '0x41051', '0x32b33', '0x43051', '0x3b1eb', '0x41e66', '0x60f5', '0x42e14', '0x3d8a3', '0x47bd7', '0x491eb', '0x48614', '0x45147', '0x4328f', '0x3b000', '0x33bd7', '0x39ae1', '0x40c7a', '0x3a570', '0x3cae1', '0x4051', '0x35f0a', '0x2efae', '0x3cf5c', '0x7199', '0x16a8f', '0x2e6b8', '0x123d7', '0x1a47a', '0x482e1', '0x41333', '0x11051', '0x13999', '0x1efae', '0x31bd7', '0x15947', '0xfdc2', '0x105c2', '0x1d75c', '0x21eb8', '0x1170a', '0x1b000', '0x28051', '0x3c385', '0x2cae1', '0x15570', '0x370a', '0x2d70', '0x2cfae', '0x30e14', '0x1775c', '0x2923d', '0x1abd7', '0x1051e', '0x21385', '0x25999', '0x12fae', '0x35dc2', '0x91eb', '0x2347a', '0xd851', '0x378f5', '0x36947', '0x3ec28', '0x485c2', '0x47614', '0x48000', '0x494cc', '0x46dc2', '0x49b85', '0x4823d', '0x48051', '0x4970a', '0x46570', '0x39ccc', '0x46385', '0x30e14', '0x4228f', '0x3ea3d', '0x47b85', '0x44e14', '0x440f5', '0x43a8f', '0x45f5c', '0x44b85', '0x3eccc', '0x4675c', '0x432e1', '0x41d70', '0x3723d', '0x44051', '0x40bd7', '0x34e66', '0x406b8', '0x4b333', '0x48c7a', '0x4a28f', '0x4047a', '0x36c28', '0x40c7a', '0x458a3', '0x464cc', '0x4328f', '0x477ae', '0x10d0', '0x40000', '0x44e66', '0x42570', '0x47ccc', '0x47147', '0x45bd7', '0x421eb', '0x438f5', '0x4d800', '0x41d1e', '0x35d70', '0x45614', '0x3b947', '0x4ad1e', '0x4647a', '0x3de66', '0x45333', '0x3e614', '0x47bd7', '0x45b33', '0x379eb', '0x46bd7', '0x3f6b8', '0x20f5', '0x39800', '0x348f5', '0x39800', '0x41ae1', '0x46800', '0x4828f', '0x37999', '0x469eb', '0x41800', '0x41666', '0x44f0a', '0x468a3', '0x478a3', '0x484cc', '0x432e1', '0x3a800', '0x46d1e', '0x494cc', '0x43199', '0x44ccc', '0x45bd7', '0x4d47a', '0x3a614', '0x4528f', '0x4c051', '0x51051', '0x49d1e', '0x3dc28', '0x4d333', '0x45333', '0x458f5', '0x3d0a3', '0x429eb', '0x3aae1', '0x42d70', '0x3b6b8', '0x3cb85', '0x10f0', '0x433d7', '0x33147', '0x3fa3d', '0x1e999', '0x29eb8', '0x4375c', '0x44199', '0x24614', '0x10f8', '0x42d1e', '0x10d0', '0x3d0a3', '0x24bd7', '0x26570', '0x2728f', '0x29c28', '0x22385', '0x2670a', '0x25428', '0x12eb8', '0x18851', '0x1fc7a', '0x1a9eb', '0x36eb8', '0x5e66', '0x35e66', '0x261eb', '0x3028f', '0x386b8', '0x2347a', '0x2d2e1', '0x3f1eb', '0x33947', '0x3c28f', '0x11333', '0x20666', '0x3a800', '0x268f5', '0x2123d', '0x335c2', '0x12bd7', '0x3d8f5', '0x212e1', '0x3928f', '0x387ae', '0x274cc', '0x21e14', '0x43570', '0x429eb', '0x3ea8f', '0xe28f', '0xc947', '0x1551e', '0xb9eb', '0xed1e', '0x26c28', '0x3f2e1', '0x378f5', '0x2bbd7', '0x373d7', '0xf999', '0x26d1e', '0x37dc2', '0x21800', '0x30851', '0x2351e', '0xb999', '0x20666', '0x455c2', '0x404cc', '0x3d947', '0x33385', '0x2c3d7', '0x1e051', '0x20385', '0x351eb', '0x29e14', '0x17f0', '0x56b8', '0x39385', '0x177ae', '0x35b33', '0x38d70', '0x32385', '0x15147', '0x171eb', '0x11b85', '0xef5c', '0x1d8a3', '0x18ccc', '0x2a385', '0xc1eb', '0x3d0f5', '0x58f5', '0x9b85', '0x2aa8f', '0x16851', '0xcd70', '0x8dc2', '0x3614', '0x2ae1', '0x1f47a', '0x8f5c', '0x1723d', '0x110a3', '0x3bc28', '0x40f5', '0x80f5', '0x25e14', '0x1cd70', '0x100f5', '0x15fae', '0x95c2', '0x13dc2', '0x1a3d7', '0x15a8f', '0x5bd7', '0x1e614', '0x751e', '0x27000', '0x1bc28', '0x100a3', '0x2028f', '0x15800', '0x315c2', '0x8ae1', '0x26ae1', '0xe051', '0xef0a', '0x50147', '0x12851', '0x22428', '0x2ca8f', '0x17d70', '0xed1e', '0x17ccc', '0x19f5c', '0xfd70', '0x17e14', '0xd70a', '0x29e14', '0x88a3', '0x18199', '0x20bd7', '0x1bc28', '0x2c5c2', '0x1e0a3', '0xf147', '0x1f6b8', '0x30ae1', '0x22ccc', '0x10b33', '0x13eb8', '0x2c47a', '0x547a', '0x8947', '0xdae1', '0x21147', '0xd947', '0x1ad70', '0x22f5c', '0x13800', '0x27eb8', '0x25c28', '0x2023d', '0x415c2', '0x39d1e', '0x45614', '0x78f5', '0x675c', '0x9c28', '0x39333', '0x35385', '0x287ae', '0x38b33', '0x23333', '0x40c28', '0x376b8', '0x3e4cc', '0x472e1', '0x43333', '0x3a385', '0xcfae', '0x2b199', '0x1e47a', '0x450a3', '0x26c28', '0x2dc28', '0x9333', '0x26851', '0x149eb', '0x3175c', '0x26fae', '0x130a3', '0x465c2', '0x36e66', '0x2fd1e', '0x24800', '0x26c7a', '0x162e1', '0x40ae1', '0x11614', '0x74cc', '0x23614', '0xcf0a', '0x11a3d', '0x13f5c', '0x3b800', '0x28dc2', '0x3e1eb', '0x44ae1', '0x14c7a', '0x12a3d', '0x38a3d', '0x487ae', '0x36614', '0xedc2', '0x1c800', '0x2147a', '0x49fae', '0x3d6b8', '0x4c51e', '0xbc7a', '0x2d23d', '0x21c28', '0x18614', '0x13570', '0x2c570', '0x40a3d', '0xd999', '0x2847a', '0x3a666', '0x2da8f', '0x2a4cc', '0x151eb', '0x43e14', '0x27570', '0x1fb33', '0x21851', '0x38bd7', '0x351eb', '0x432e1', '0x23d70', '0x24666', '0xb428', '0xfe14', '0x277ae', '0x46d1e', '0x22dc2', '0x94cc', '0x10f8', '0x2628f', '0x11570', '0x32c28', '0x16e66', '0x21dc2', '0x40851', '0x46e14', '0xdfae', '0x17000', '0x30570', '0x3d851', '0x41333', '0x1f38', '0xbfae', '0x9ccc', '0x294cc', '0x31ae1', '0x2f3d7', '0x875c', '0x18c28', '0x185c2', '0x17000', '0x23d1e', '0x28999', '0xba3d', '0x7c7a', '0x3d8f5', '0x216b8', '0x39f5c', '0x42051', '0x2428f', '0x20f0a', '0x2f614', '0x2b666', '0x3275c', '0x390f5', '0x138f5', '0x1bb33', '0x34851', '0x26428', '0x12ccc', '0x22199', '0x29eb8', '0x2b614', '0x224cc', '0x28bd7', '0x339eb', '0x10e14', '0x3ea8f', '0x12b85', '0x25b85', '0x1cc28', '0x2f051', '0x138a3', '0x30c7a', '0x1b666', '0x17c28', '0x2e0a3', '0x22666', '0x29f0a', '0x32a8f', '0x425c2', '0x1075c', '0x11e66', '0x263d7', '0x1b199', '0x1975c', '0x29f0a', '0x1328f', '0xfc7a', '0x2aae1', '0x2cf5c', '0x1c333', '0x24cc', '0x2d4cc', '0x8e14', '0x1cccc', '0x1c70a', '0x35eb8', '0x10f8', '0x5947', '0x3723d', '0x2dd1e', '0xaa8f', '0xe7ae', '0x2b9eb', '0x1630', '0x29999', '0x292e1', '0xc6b8', '0x112e1', '0x3c3d7', '0x235c2', '0x2a0a3', '0x1feb8', '0x22b33', '0x10b85', '0x118f5', '0x2d47a', '0x3228f', '0xebd7', '0x1d800', '0x11333', '0x17d1e', '0xda8f', '0x31eb8', '0xa8a3', '0x1ceb8', '0x28051', '0x37fae', '0x428f', '0x9000', '0x6570', '0xfd70', '0x10d0', '0xb2e1', '0xa800', '0x1deb8', '0xbae1', '0x1df5c', '0x1650', '0x6d70', '0x3f947', '0x1ad1e', '0xd199', '0x277ae', '0x10051', '0x2e051', '0x3e9eb', '0x16947', '0x1a47a', '0xd614', '0x14570', '0x11bd7', '0x1cccc', '0x18947', '0x10e14', '0x7570', '0x2fb85', '0x34d1e', '0xa28f', '0x19666', '0x1e58', '0x114cc', '0x13d70', '0x43f5c', '0x2d0a3', '0xe23d', '0x311eb', '0x29eb8', '0x381eb', '0x1e28f', '0x2a28f', '0x13d1e', '0xf47a', '0x122e1', '0x21e14', '0x7147', '0x41b85', '0x24800', '0x3ca3d', '0x39000', '0x28c28', '0x229eb', '0x2275c', '0x19e66', '0x3c428', '0x3847a', '0x11d1e', '0x31947', '0x44bd7', '0x4223d', '0x2a947', '0x38a8f', '0x322e1', '0x3ed70', '0x3975c', '0x30b33', '0x37bd7', '0x3a428', '0x28a3', '0x2c28', '0x2c1eb', '0x360a3', '0x2c614', '0x3d2e1', '0x16851', '0x2db33', '0x37666', '0x4047a', '0x4a6b8', '0x4323d', '0x24000', '0xabd7', '0x14147', '0x36a8f', '0x2db85', '0x20999', '0x15a8f', '0x44c7a', '0x2d570', '0x1d614', '0x43bd7', '0x25000', '0x22199', '0x10f0', '0x20614', '0x2a5c2', '0x41570', '0x20570', '0xb6b8', '0x38428', '0xbb85', '0x3ee14', '0x12000', '0x127ae', '0xeccc', '0x42147', '0x384cc', '0x2d2e1', '0x468a3', '0x35e66', '0x340f5', '0x10f8', '0x42c28', '0x10f8', '0x418f5', '0x370f5', '0x1c47a', '0x3b666', '0x158a3', '0x49000', '0x4b7ae', '0x43ae1', '0x3d70a', '0x28ccc', '0x337ae', '0xb23d', '0x3f199', '0x306b8', '0x21d1e', '0x30ae1', '0x397ae', '0x48000', '0x2a0a3', '0x1df5c', '0x30385', '0x45b85', '0x334cc', '0x3428f', '0x448a3', '0x29800', '0x27e14', '0x3775c', '0x468a3', '0x2c3d7', '0x3d051', '0x2f851', '0x1b8f5', '0x2cbd7', '0x1e999', '0x1ef0a', '0x36f5c', '0x4a7ae', '0x2975c', '0x2c28f', '0x21999', '0x10c7a', '0x3cdc2', '0x40051', '0x4b28f', '0x31428', '0x33eb8', '0x2a570', '0x12eb8', '0x1ce14', '0x4ba3d', '0x551e', '0x24614', '0x385c2', '0x37570', '0x3ec7a', '0xa385', '0xdeb8', '0x400a3', '0x49385', '0x38614', '0x3d8f5', '0x406b8', '0x41000', '0x3870a', '0x390a3', '0x22614', '0x3351e', '0x1a947', '0x260a3', '0x42385', '0x7800', '0x2f947', '0x3623d', '0x3cb33', '0x40d70', '0x193d7', '0x3a8f5', '0x187ae', '0x2c666', '0x3f614', '0x3f23d', '0x2cd1e', '0x19570', '0x34800', '0x44c28', '0x334cc', '0x2f8a3', '0x29333', '0x2975c', '0x3c0a3', '0x29fae', '0x3ce66', '0x19851', '0x346b8', '0x14bd7', '0x42333', '0xbe66', '0x40333', '0x13e66', '0x27d70', '0x344cc', '0x38d70', '0x1b800', '0x128a3', '0x23e66', '0x18dc2', '0x34385', '0x23a3d', '0x37a3d', '0x27666', '0x2fdc2', '0xbc7a', '0x2e7ae', '0x14800', '0x2a8a3', '0x12ccc', '0x17d70', '0xf2e1', '0x2347a', '0x38000', '0x107ae', '0xf800', '0x3cb33', '0x4ddc2', '0x1f3d7', '0x1c28f', '0x2cdc2', '0x33851', '0x1e47a', '0x3e8f5', '0x3a6b8', '0x3a800', '0x35000', '0x3c70a', '0x23570', '0x2b947', '0x30d1e', '0x1751e', '0x2bc7a', '0x17ae1', '0x9d70', '0x4bdc2', '0x237ae', '0x15f5c', '0x2f614', '0x1de14', '0x29851', '0x238a3', '0x3a5c2', '0x16eb8', '0x18f5c', '0x3f385', '0x1bae1', '0x40c28', '0x21e14', '0x2475c', '0x2d333', '0x23800', '0x3251e', '0x20851', '0x233d7', '0x2c570', '0x26e14', '0x3f47a', '0x21a8f', '0x24051', '0x2747a', '0x1351e', '0x493d7', '0x24199', '0x23333', '0x22666', '0x187ae', '0x227ae', '0x2451e', '0x28614', '0x3f1eb', '0x23d1e', '0x18dc2', '0x450a3', '0x2270a', '0x420f5', '0x14000', '0x1ee14', '0x26147', '0x18bd7', '0x21851', '0x575c', '0x10947', '0x477ae', '0xbdc2', '0x2123d', '0x27d70', '0x36a8f', '0x22ccc', '0x37dc2', '0x25c7a', '0x2cf5c', '0x3b614', '0x32428', '0x12c7a', '0x489eb', '0x2f4cc', '0x1b23d', '0x22570', '0x398a3', '0x389eb', '0x3deb8', '0x3dd70', '0x20d1e', '0x3ffae', '0x2e9eb', '0x24199', '0x3f3d7', '0x3dc28', '0x1875c', '0x150f5', '0x3ebd7', '0x1088', '0x48570', '0x38614', '0x40c7a', '0x1ba8f', '0x18eb8', '0x3cb33', '0x29e66', '0x33666', '0x4af0a', '0x45bd7', '0x27614', '0x2f9eb', '0x30851', '0x44d1e', '0x1dd70', '0x268a3', '0x1a8a3', '0xdbd7', '0x32999', '0x2e70a', '0x3551e', '0x2bd70', '0x3b385', '0x39333', '0x20b85', '0x3b570', '0x43614', '0x1c570', '0x9000', '0x947a', '0x44e66', '0x3e851', '0x370f5', '0x1e800', '0x41851', '0x32eb8', '0x44c7a', '0x27c28', '0x44eb8', '0x13947', '0x2ea8f', '0x4523d', '0x28385', '0x4028f', '0x38947', '0x30f5c', '0x38051', '0x2b051', '0x3ffae', '0x1e1eb', '0x3e1eb', '0x21947', '0x24a8f', '0x39999', '0x43e66', '0x41d70', '0x41147', '0x44614', '0x2ff5c', '0x1bdc2', '0x31199', '0x3b6b8', '0x26dc2', '0x40428', '0xd800', '0xae66', '0x47dc2', '0x42000', '0x23f0a', '0x36d1e', '0x3d851', '0x52199', '0x2e0f5', '0x3fae1', '0x300f5', '0x3d23d', '0xb7ae', '0x21ccc', '0x3b70a', '0x3223d', '0x27ccc', '0x25eb8', '0x48bd7', '0x337ae', '0x355c2', '0x1e6b8', '0x15d70', '0x3b800', '0x17a3d', '0x362e1', '0x2d0a3', '0x47b33', '0x319eb', '0x457ae', '0x43851', '0x423d7', '0x3051e', '0x3e199', '0x3d9eb', '0x457ae', '0x328a3', '0x42570', '0x38428', '0x38851', '0x43000', '0x303d7', '0x223d7', '0x18385', '0x45ae1', '0x4a614', '0x2deb8', '0x40000', '0x17947', '0xb70a', '0x3c3d7', '0x4bd70', '0xf385', '0x3e333', '0x3bdc2', '0x1e999', '0x200a3', '0x370a3', '0x2e0f5', '0x1370a', '0x2cd70', '0x19ae1', '0x108a3', '0x2beb8', '0x104cc', '0x3ec7a', '0x230a3', '0x496b8', '0x42614', '0x3fc7a', '0x438a3', '0x32e14', '0x37b85', '0x14666', '0x2c7ae', '0x37851', '0x40147', '0x3d9eb', '0x39b85', '0x3a51e', '0x35800', '0x377ae', '0x1b3d7', '0x2d614', '0x25428', '0x3ad1e', '0x410a3', '0x4a947', '0x14199', '0x3b385', '0x2d0f5', '0x1e147', '0x3447a', '0xddc2', '0xc47a', '0xb75c', '0x58f5', '0x1f75c', '0x1d1eb', '0x288f5', '0x3bf0a', '0x25199', '0x34999', '0x45a3d', '0x3f947', '0x293d7', '0x42e66', '0x42000', '0x2d385', '0x395c2', '0x48428', '0x37666', '0x499eb', '0x495c2', '0x1080', '0x42f0a', '0x3cccc', '0x2323d', '0x39385', '0x3fc7a', '0x2a6b8', '0x2cc28', '0x2e8f5', '0x1c000', '0x2c333', '0x186b8', '0x20199', '0x4b947', '0x1f147', '0x302e1', '0x2147', '0x5000', '0x1970a', '0x3a3d7', '0x33947', '0x1828f', '0x2f385', '0x3ea3d', '0x285c2', '0x4f666', '0x4447a', '0x37b85', '0xc851', '0x29f0a', '0x1e0f5', '0x38d1e', '0x37fae', '0x3828f', '0x3e051', '0x14614', '0x22800', '0x268a3', '0x2575c', '0x187ae', '0x37bd7', '0x32851', '0x3b7ae', '0x280a3', '0x21c7a', '0x236b8', '0xef0a', '0x3323d', '0xff5c', '0x459eb', '0x14f0a', '0x42000', '0x2bdc2', '0x98a3', '0x29c28', '0x13570', '0x12666', '0xef0a', '0x2228f', '0x381eb', '0x2f28f', '0x355c2', '0x4aa8f', '0x4c851', '0x5c28', '0x2a28f', '0x21800', '0x303d7', '0x312e1', '0x394cc', '0x43c7a', '0x42947', '0x36a3d', '0x25c7a', '0x36147', '0x29851', '0x1f051', '0x2f800', '0x1970a', '0x39c7a', '0x2a0a3', '0x4e999', '0x406b8', '0x337ae', '0x463d7', '0xa47a', '0x37d1e', '0xe199', '0x369eb', '0x17614', '0x5c7a', '0x27614', '0x142e1', '0x114cc', '0x46c7a', '0x10f8', '0x1c51e', '0x521eb', '0xafae', '0x1bc7a', '0x6614', '0x3875c', '0x9333', '0x188a3', '0x221eb', '0x1ef5c', '0x3c999', '0x21385', '0x288a3', '0x3eb33', '0x259eb', '0x2047a', '0x16ae1', '0x33800', '0x2ce66', '0x2dc2', '0xdf0a', '0x19666', '0x188f5', '0x28d70', '0x19f5c', '0x21d70', '0x10f0', '0x1eb33', '0x37ae', '0x1f385', '0x22428', '0x7333', '0x2f75c', '0xa2e1', '0x41385', '0x4afae', '0x2947', '0x204cc', '0x15947', '0xda3d', '0x246b8', '0x1b947', '0x1323d', '0x32fae', '0x39fae', '0x35bd7', '0x45f0a', '0x3128f', '0x22f0a', '0x43a8f', '0x125c2', '0x17a3d', '0x307ae', '0x23000', '0x3deb8', '0x5666', '0x29b85', '0x30051', '0x68a3', '0x27e66', '0x2e147', '0x2251e', '0x4b3d7', '0x46570', '0x10dc2', '0x2f51e', '0x13333', '0x41199', '0x2d947', '0x128f5', '0x1751e', '0x4feb8', '0x2951e', '0x3cc28', '0x37d70', '0x3251e', '0x2fb33', '0x90f5', '0x3c570', '0x19b85', '0x37b85', '0x425c2', '0x37000', '0xd51e', '0xb999', '0x418f5', '0x36333', '0x1df5c', '0x3cd70', '0x1023d', '0xf51e', '0x4b33', '0x2470a', '0x432e1', '0x1c000', '0x13385', '0x49c28', '0x156b8', '0x3f800', '0x448a3', '0x36c28', '0x43a8f', '0x3bae1', '0x16bd7', '0x291eb', '0x2fd70', '0x38d70', '0x1fc28', '0x23d70', '0x23eb8', '0x28e14', '0x4570', '0x3c2e1', '0xb428', '0x12c7a', '0x1dc28', '0x33ae1', '0x47e14', '0x13999', '0x11051', '0xb385', '0x11c7a', '0xfd70', '0x411eb', '0x454cc', '0x37c7a', '0x1c70a', '0x3cc28', '0x3b8f5', '0x33a8f', '0xc28f', '0x38bd7', '0x3547a', '0x3c999', '0x1beb8', '0xfe14', '0x18f5c', '0xbd70', '0xac28', '0x2f6b8', '0x1f333', '0x3cc28', '0x35385', '0x30e66', '0x18051', '0x288a3', '0xfbd7', '0x244cc', '0x39051', '0x13d70', '0x15051', '0x466b8', '0x1a051', '0x1c51e', '0x4d8f5', '0x36428', '0x3b0f5', '0x3f5c2', '0x24dc2', '0x38eb8', '0x23a8f', '0x37051', '0x1628f', '0x5dc2', '0x16f0a', '0x27b33', '0x2c6b8', '0x2928f', '0xf428', '0x202e1', '0x1d70a', '0x231eb', '0x1cae1', '0x2f333', '0x23614', '0x2b333', '0x2dbd7', '0x3a23d', '0x1e23d', '0xfb33', '0x3a5c2', '0x3c199', '0x23385', '0x15d1e', '0x2f9eb', '0x42851', '0x55000', '0x1ad70', '0x17fae', '0x1fccc', '0xf1eb', '0x40c7a', '0x1cb33', '0x38d1e', '0x108f5', '0x1d75c', '0x2b385', '0x38614', '0xd147', '0x1aa8f', '0x16ae1', '0x190a3', '0xf3d7', '0x12bd7', '0x10000', '0x4f9eb', '0x1970a', '0x3da3d', '0xda3d', '0x357ae', '0x21428', '0x18eb8', '0x40ae1', '0xe147', '0xd8a3', '0x349eb', '0x36fae', '0x3a800', '0x2f75c', '0x23000', '0x1cbd7', '0xf47a', '0xf9eb', '0xf6b8', '0x1847a', '0x13a8f', '0x14c28', '0x2ef0a', '0x13b33', '0x27199', '0x10f8', '0x17614', '0x158a3', '0x180a3', '0x26851', '0x16800', '0x19c7a', '0x38d1e', '0x3dc7a', '0x18e66', '0x13385', '0x45e66', '0x18947', '0x366b8', '0x1bb85', '0x28385', '0x2c8a3', '0x2cb85', '0x1f333', '0x26e66', '0x1c428', '0x23666', '0x19e8', '0x10199', '0x2d5c2', '0x1b80', '0x412e1', '0x10f0', '0x34999', '0x2b23d', '0xf000', '0x4614', '0x2b851', '0xe23d', '0x2e1eb', '0x18000', '0x2247a', '0x19800', '0x7147', '0x1468', '0x3d614', '0x17947', '0x23fae', '0x5e14', '0x1d385', '0xe70a', '0x29dc2', '0x9666', '0x1f75c', '0x4428', '0x1b0f5', '0x4fae', '0x39eb', '0x33c7a', '0x2b333', '0x38e66', '0x54d1e', '0x16c28', '0x2d5c2', '0x8570', '0x21c7a', '0x243d7', '0x1a0a3', '0x1151e', '0x1b999', '0x68a3', '0x2a614', '0x11fae', '0x14eb8', '0x33ccc', '0x1e8f5', '0x2ca8f', '0x1e947', '0xeccc', '0x40333', '0x49d70', '0x1b999', '0x2f947', '0x269eb', '0x4bf0a', '0x2c8f5', '0x1f7ae', '0x35147', '0x3628f', '0xb9eb', '0x338f5', '0xd999', '0x12a8f', '0x3175c', '0x13dc2', '0x19851', '0x3d147', '0x3ab85', '0x3e1eb', '0x220f5', '0x333d7', '0x45bd7', '0x4ab33', '0x332e1', '0x480f5', '0x30ae1', '0x35385', '0x27999', '0x23947', '0x3e0a3', '0x245c2', '0x1d68', '0xb666', '0x27ae', '0x2dc28', '0x3175c', '0x25f0a', '0x2c666', '0x2c000', '0x321eb', '0x14947', '0x11947', '0xea8f', '0x349eb', '0x5333', '0x31614', '0x16f0a', '0x44199', '0x409eb', '0x15d70', '0x25999', '0x162e1', '0x20d1e', '0x48385', '0x23385', '0x27a3d', '0xf47a', '0x1ddc2', '0x3a666', '0x24d70', '0x266b8', '0x26f0a', '0x435c2', '0x15f5c', '0x16b33', '0x2247a', '0x31fae', '0x3647a', '0x49199', '0x35bd7', '0x32800', '0x10a8', '0x10f8', '0x459eb', '0x15000', '0x27fae', '0x226b8', '0x37999', '0x11333', '0x4370a', '0x27333', '0x285c2', '0x3251e', '0x4175c', '0x33570', '0x38d70', '0x22999', '0x1470a', '0x19eb8', '0x201eb', '0x40333', '0x1b3d7', '0x20bd7', '0x34b85', '0x28b85', '0x1328f', '0x169eb', '0x38ccc', '0xaa3d', '0x248a3', '0x35f0a', '0x3370a', '0x22dc2', '0x2bc28', '0x29b85', '0x44c7a', '0x215c2', '0x1fb33', '0xcb33', '0x11947', '0x15000', '0x3d3d7', '0x15199', '0x493d7', '0x10a8', '0x1651e', '0xc6b8', '0x4f8f5', '0x2f4cc', '0x1b47a', '0x3bb33', '0x3333', '0x10f8', '0x18d70', '0x19999', '0x35051', '0x29f0a', '0x3fb85', '0x2470a', '0x46947', '0x17000', '0x3bc28', '0xefae', '0x2a614', '0x2e333', '0xa6b8', '0x551e', '0x38428', '0x19614', '0x267ae', '0x1accc', '0xd8a3', '0x24570', '0x2f3d7', '0x1370a', '0x4c28', '0x38e66', '0x34a8f', '0x186b8', '0x5b85', '0x47947', '0x1e947', '0xddc2', '0x217ae', '0x1f23d', '0xdf5c', '0x3d0a3', '0x19b33', '0x8999', '0x25a8f', '0x45b85', '0x1775c', '0x11666', '0x25e14', '0x7ae1', '0x1d999', '0x247a', '0x178f5', '0x1e666', '0x19800', '0x10ae1', '0x368a3', '0x1ee66', '0x18ccc', '0x253d7', '0x247a', '0x4a7ae', '0x3ef5c', '0x3dfae', '0x16385', '0x1a8a3', '0x30614', '0x12d1e', '0x3e851', '0x1ca8f', '0x1651e', '0x1b800', '0x4328f', '0x4e14', '0x38ae1', '0x3e7ae', '0x156b8', '0x197ae', '0x1a1eb', '0x9999', '0x14a8f', '0x40666', '0x2f570', '0x2d851', '0x22dc2', '0x238f5', '0x18d1e', '0x18d1e', '0xc75c', '0x1a75c', '0x17ccc', '0x14e66', '0x10b33', '0xde14', '0x115c2', '0x137ae', '0x17385', '0x1e23d', '0x1620', '0x13ccc', '0x240a3', '0x1dfae', '0x16b85', '0x851e', '0xceb8', '0x13570', '0x3f0a', '0x3c75c', '0x3775c', '0x3dc7a', '0x12dc2', '0x30947', '0x3f570', '0x128a3', '0x2ae1', '0x6851', '0x2628f', '0x397ae', '0x43d1e', '0x1d999', '0x1d0f5', '0x1475c', '0x4d70', '0x1b199', '0xd51e', '0x33614', '0x1a23d', '0x327ae', '0x435c2', '0x20bd7', '0x3f23d', '0x10f8', '0x47199', '0x3accc', '0x4cb85', '0x45570', '0x25e66', '0x3c47a', '0x140f5', '0x19947', '0xedc2', '0x3b28f', '0x13bd7', '0x1dc7a', '0x2f7ae', '0x2f051', '0x4ca8f', '0x33fae', '0x38c7a', '0x3ce14', '0x4e000', '0x3bd70', '0xdb85', '0x31333', '0x397ae', '0x34385', '0x10f0', '0x1e570', '0x31570', '0xc7ae', '0x14e14', '0x42f0a', '0x85c2', '0xa800', '0xae66', '0x320a3', '0x130a3', '0x285c2', '0x32a3d', '0x2b999', '0x1d8a3', '0x4b800', '0x3847a', '0x36a8f', '0x390a3', '0x32385', '0x362e1', '0x19b85', '0x3c147', '0x1bbd7', '0x1f199', '0x43fae', '0x2c6b8', '0x16dc2', '0x1fb33', '0x27947', '0x1c5c2', '0x25666', '0x49e14', '0x34428', '0x3d666', '0x2dfae', '0x29a3d', '0x17fae', '0x256b8', '0x2d28f', '0x46e14', '0x2b800', '0x1e3d7', '0x2370a', '0x3fccc', '0x1ff0a', '0x136b8', '0xdc28', '0x1c0f5', '0x45b33', '0xac28', '0x4747a', '0x3051e', '0x28051', '0x12199', '0x186b8', '0x2c800', '0x2b147', '0x447ae', '0x28d1e', '0x2c7ae', '0x462e1', '0x45947', '0x48570', '0x2b614', '0x283d7', '0x17d70', '0x4f999', '0x77ae', '0x3a428', '0x4751e', '0x1570a', '0x34570', '0x1a47a', '0x1d570', '0x10f8', '0x8051', '0x3e0a3', '0x1d8f5', '0x3c947', '0x43000', '0x287ae', '0x3a1eb', '0x4275c', '0x3d23d', '0x21eb', '0x10d1e', '0xf4cc', '0x22570', '0x20666', '0xc800', '0x279eb', '0x3a385', '0x27bd7', '0x3b4cc', '0x8e66', '0x38c7a', '0x67ae', '0x2bb85', '0x12428', '0x34851', '0x16f0a', '0x1975c', '0x27e66', '0x2b000', '0x3c51e', '0x22c7a', '0x42b33', '0x48c28', '0x31d1e', '0x47dc2', '0x2b147', '0x78f5', '0x3ddc2', '0x3f3d7', '0xd947', '0x370a3', '0x358f5', '0x38000', '0x40385', '0x150f5', '0x32800', '0x1e800', '0x2cbd7', '0x3dc7a', '0x198a3', '0x6051', '0x33fae', '0xd9eb', '0x24ae1', '0x6385', '0xda3d', '0x35b33', '0xf0a3', '0x3b1eb', '0x30c7a', '0x3f0a3', '0x2bb33', '0x26999', '0x1678', '0x3a47a', '0xffae', '0x5bd7', '0x208a3', '0xe9eb', '0x43a3d', '0x4c947', '0x238a3', '0x448f5', '0x410a3', '0x1e0f5', '0x1f0a3', '0x4d75c', '0x5af0a', '0x1aeb8', '0x208a3', '0x9f0a', '0xfd70', '0x8e66', '0x3afae', '0x16d1e', '0x2f23d', '0x8947', '0xdfae', '0x27e14', '0x33999', '0x3ebd7', '0x177ae', '0x246b8', '0x2bccc', '0x196b8', '0x1e70a', '0x3651e', '0x3a8f5', '0x340f5', '0x2eb85', '0x18851', '0x148a3', '0x2e4cc', '0x1da3d', '0x171eb', '0x21947', '0x8eb8', '0x10f8', '0xe23d', '0x41800', '0x3f0a', '0x103d7', '0x4da3d', '0x20385', '0x198a3', '0x2a6b8', '0xf2e1', '0x16a3d', '0x2bfae', '0x32ae1', '0x35428', '0x12051', '0x23dc2', '0xaeb8', '0x44bd7', '0xff5c', '0x3b333', '0x15c7a', '0x39a3d', '0x41d1e', '0x1650', '0xe28f', '0x5d70', '0x44947', '0x3a666', '0x427ae', '0x2875c', '0x5128f', '0x52a3d', '0x52a3d', '0x25e66', '0x8f0a', '0x37666', '0x475c2', '0x43c28', '0x2b51e', '0x13b33', '0x41bd7', '0x2abd7', '0x32c28', '0x433d7', '0x298f5', '0x40000', '0x39333', '0x45147', '0x10f0', '0x2275c', '0x23428', '0x39f5c', '0x4d6b8', '0x10f0', '0x3ac28', '0x28dc2', '0x159eb', '0x3f47a', '0x383d7', '0xc47a', '0x280a3', '0xf0f5', '0x42b33', '0x1cdc2', '0x6666', '0x270a3', '0x21dc2', '0x2c1eb', '0x45000', '0x41614', '0x35f0a', '0x46b85', '0x11eb8', '0x43199', '0x39b85', '0x2d28f', '0xe4cc', '0x36d1e', '0x199eb', '0x10f8', '0x2a47a', '0x6ccc', '0x3875c', '0x44a8f', '0x335c2', '0x3cb85', '0x4c2e1', '0x1d333', '0x3a199', '0x45800', '0x42f0a', '0x36a3d', '0x3e999', '0x225c2', '0x41bd7', '0x47570', '0x3d851', '0x3d851', '0x2d9eb', '0x2e75c', '0x2bae1', '0x1ed0', '0xeae1', '0x18a3d', '0x3c7ae', '0x45614', '0x4a2e1', '0x4d70a', '0xa800', '0x2da3d', '0x1ffae', '0x1628f', '0x1c0a3', '0x44428', '0x37147', '0x103d7', '0x2523d', '0x32666', '0x1e0a3', '0x36333', '0x26851', '0x442e1', '0x34333', '0x3b47a', '0x39e14', '0x386b8', '0x3cbd7', '0x129eb', '0x10f8', '0x105c2', '0x3823d', '0x21eb', '0x36851', '0x512e1', '0x3b614', '0x4afae', '0x3d800', '0x4151e', '0x407ae', '0x2b666', '0x1ff5c', '0x5023d', '0x4475c', '0x278a3', '0x2923d', '0x41199', '0x412e1', '0xb6b8', '0x34ccc', '0x1b0a3', '0x51f0a', '0x3c570', '0x198f5', '0x35d1e', '0x41d70', '0x2bae1', '0x33e66', '0x2c7ae', '0x19a8f', '0x29b85', '0x3628f', '0xff0a', '0xd851', '0x33199', '0x3d8a3', '0x2e28f', '0x29570', '0x1e51e', '0x103d7', '0x1de14', '0x1247a', '0x2c70a', '0x14d1e', '0x2ed70', '0x38333', '0xf51e', '0x3afae', '0x42d1e', '0x847a', '0x26d70', '0x20b33', '0x446b8', '0xa0f5', '0x22fae', '0x4bd7', '0xc333', '0x36b33', '0x15ae1', '0x54614', '0x1cfae', '0x25428', '0x2d75c', '0x46fae', '0x29199', '0x338a3', '0x12fae', '0x2feb8', '0x9b33', '0x1f147', '0x37c7a', '0x23947', '0x28a3', '0x234cc', '0x18a8f', '0x847a', '0x195c2', '0x3eeb8', '0x39800', '0x3d614', '0x2f570', '0x1a28f', '0x6a3d', '0x199eb', '0x18c28', '0x27051', '0x2ef5c', '0x17570', '0x46051', '0x1fc28', '0x2e70a', '0x1a428', '0x20b33', '0x35c2', '0x323d7', '0x41333', '0x218f5', '0xd385', '0x29f5c', '0x4bd7', '0x4447a', '0x1675c', '0x219eb', '0x28a3', '0x16851', '0x3d0a3', '0x5b85', '0x1efae', '0x42947', '0x3ccc', '0x129eb', '0x68f5', '0x29a3d', '0x26a8f', '0x3ae66', '0x25666', '0xfae1', '0x1470a', '0x1088', '0x31000', '0x85c2', '0x37f0a', '0x3d000', '0x365c2', '0x15d70', '0x4423d', '0x3ffae', '0x28a3d', '0x35000', '0x1e851', '0xea8f', '0x10f0', '0x2c8f5', '0x3abd7', '0x4f851', '0x3d947', '0x44147', '0x20d70', '0x43614', '0xea3d', '0x47051', '0x210f5', '0x32000', '0x37f0a', '0x3cf0a', '0x430a3', '0x277ae', '0x23851', '0xf199', '0x4c000', '0x298f5', '0x40333', '0xb0a3', '0x4e147', '0x278a3', '0xa4cc', '0x2e851', '0x11ccc', '0x4eb8', '0x32147', '0x1a9eb', '0x2151e', '0x1e28f', '0x375c2', '0x43b85', '0x16000', '0x15a8f', '0x2028f', '0x45428', '0x29570', '0x39199', '0x1747a', '0x37d70', '0x33eb8', '0x426b8', '0x2ffae', '0x450a3', '0x15051', '0x4f8f5', '0x4ad70', '0x3470a', '0x12147', '0x436b8', '0x495c2', '0x2051e', '0x3e3d7', '0x3b3d7', '0x32bd7', '0x4b2e1', '0x128a3', '0x3523d', '0x1e5c2', '0x3f4cc', '0x58f5', '0x3c8a3', '0x3f947', '0x4728f', '0x10f8', '0x2b23d', '0x1123d', '0x1bd1e', '0x4275c', '0x40428', '0x3847a', '0x3e6b8', '0x388f5', '0x3eb33', '0x1d0a3', '0x33947', '0x46fae', '0x39570', '0x4170a', '0x369eb', '0x1ca8f', '0x4523d', '0x40c7a', '0x270a3', '0x147ae', '0x28ae1', '0x38851', '0x15e14', '0x17ccc', '0x41614', '0xc5c2', '0x43385', '0x14614', '0xd1eb', '0x2c23d', '0x446b8', '0x22a8f', '0xcbd7', '0x38a3', '0x3b23d', '0x2e8a3', '0x24c28', '0xd47a', '0x1d851', '0xf199', '0x10f8', '0x12f0a', '0x2c4cc', '0x391eb', '0x107ae', '0x1751e', '0xf428', '0x147ae', '0x3d8f5', '0x433d7', '0x175c2', '0x2951e', '0x35000', '0x3475c', '0x368a3', '0x26999', '0x3a333', '0x10f0', '0x1f147', '0x3be14', '0x33eb8', '0x37851', '0x19428', '0x26947', '0xfbd7', '0x2fb85', '0x10a8f', '0x3d051', '0x1c3d7', '0x33fae', '0x35d70', '0x34666', '0x35800', '0x1f0f5', '0x262e1', '0x26c28', '0x3f3d7', '0x2675c', '0x29dc2', '0x17666', '0x38dc2', '0x47614', '0x2af0a', '0x37e66', '0x2b333', '0x3ec7a', '0x3b570', '0x355c2', '0x36a8f', '0x46614', '0x20e66', '0x3ae66', '0x48000', '0x46d1e', '0x38333', '0x37b33', '0x3c147', '0x300a3', '0x2c9eb', '0x5b85', '0x12800', '0x2f0f5', '0x40800', '0x68f5', '0x11570', '0x30800', '0x27ae1', '0x187ae', '0x3547a', '0x31999', '0x14147', '0x8000', '0xbf5c', '0x2a147', '0x4c1eb', '0x2bd7', '0x23333', '0x3051', '0x20947', '0x1cdc2', '0x22999', '0x48f5', '0x1d5c2', '0x2e0f5', '0x13c28', '0x1e8f5', '0x1070', '0x3151e', '0x1b48', '0x231eb', '0xf47a', '0x1cccc', '0xde14', '0x21eb', '0x7fae', '0x185c2', '0x1d0a3', '0x3ae66', '0x1dc7a', '0x22c7a', '0x1e385', '0x15eb8', '0x1beb8', '0x3b2e1', '0x1a1eb', '0x183d7', '0x364cc', '0x1b5c2', '0x747a', '0x25d70', '0x3d6b8', '0x29614', '0x140a3', '0x398a3', '0x112e1', '0x119eb', '0x34385', '0x2ec7a', '0xbd70', '0x14f0a', '0x16d70', '0x15e14', '0x3528f', '0x13c28', '0x416b8', '0x10f0', '0x2c47a', '0x3a851', '0x268a3', '0x3d8f5', '0x312e1', '0x3accc', '0x20147', '0x7a3d', '0x17f0a', '0x44999', '0x1751e', '0x306b8', '0x44ae1', '0x51e14', '0x2ec7a', '0x31800', '0x4cdc2', '0x29bd7', '0x2ddc2', '0x29ccc', '0x2b75c', '0x49947', '0x17614', '0x3de14', '0x3e0f5', '0x450f5', '0x2eae1', '0x3f75c', '0x3da8f', '0x34a3d', '0x2b51e', '0x30bd7', '0x3b147', '0x30570', '0x48e66', '0x11851', '0x4cf0a', '0x303d7', '0x44570', '0x2d3d7', '0x39a8f', '0x37000', '0x40570', '0x36428', '0x38666', '0x2751e', '0x10f8', '0x18b85', '0x3bbd7', '0x3551e', '0x21d70', '0x2df0a', '0x33bd7', '0x378f5', '0x31d70', '0x3cb85', '0x10d0', '0x34a3d', '0x10f8', '0x49a8f', '0x238a3', '0x3375c', '0x493d7', '0x4347a', '0x44851', '0x3c333', '0x3575c', '0x35570', '0x42e66', '0x4b614', '0x10f0', '0x41f0a', '0x1e47a', '0x2d147', '0x2beb8', '0x44e66', '0x3370a', '0x468f5', '0x3d333', '0x41000', '0x37666', '0x33d70', '0x42000', '0x1970a', '0x3051', '0x10f8', '0x42199', '0x278f5', '0x2accc', '0x3728f', '0x3c6b8', '0x43199', '0x1b8f5', '0x1bccc', '0x46a3d', '0x3fa3d', '0x290f5', '0x21fae', '0x3e0f5', '0x4a75c', '0x3fc28', '0x3a614', '0x404cc', '0x10a8', '0x3dc7a', '0x411eb', '0x1ddc2', '0x9ae1', '0x2e333', '0x260a3', '0x1128f', '0x37a3d', '0x440a3', '0x2a333', '0x40333', '0x3c800', '0x2c051', '0x2047a', '0x3623d', '0x2d851', '0x3823d', '0x3e947', '0x35d1e', '0x3ebd7', '0x3d947', '0xe1eb', '0x328f5', '0x2ff0a', '0x176b8', '0x36051', '0x13333', '0x42333', '0x31a3d', '0x2bc7a', '0x17d1e', '0xaf5c', '0x3b85', '0x3da3d', '0x2c333', '0x7947', '0x36c28', '0x351eb', '0x33199', '0x3947a', '0x19570', '0x1475c', '0x9000', '0x11c28', '0x3d51e', '0x2f0f5', '0x11147', '0x388f5', '0x3c2e1', '0x3cd1e', '0x18f0a', '0x2f7ae', '0x43e14', '0x37b33', '0x1fae1', '0x2d947', '0xa000', '0xf2e1', '0x14f0a', '0xe999', '0xbae1', '0x49999', '0x2ef0a', '0x281eb', '0x2ea3d', '0x115c2', '0x2d0a3', '0x48f5', '0xfb33', '0x3570a', '0x314cc', '0x30f5', '0x2a385', '0xc28f', '0x37614', '0x2bf5c', '0xfe14', '0x28c7a', '0x29a8f', '0x19614', '0x21bd7', '0x13147', '0x3723d', '0x2923d', '0x29570', '0x3ac28', '0x49051', '0x19147', '0x9b85', '0x5000', '0xad1e', '0x1deb8', '0x14b85', '0x11ae1', '0x7dc2', '0xd199', '0x2cd70', '0x2a614', '0x1f7ae', '0x2f3d7', '0x38333', '0x10f8', '0x1d385', '0x17d70', '0x141eb', '0x1d947', '0x15333', '0x140a3', '0x2f147', '0x33d7', '0x2c4cc', '0x30b33', '0x39851', '0x2ce14', '0xce14', '0x7a3d', '0x2afae', '0x2af0a', '0x1fe14', '0x2b6b8', '0x10d0', '0x1e147', '0x21199', '0x3f5c', '0x2bae1', '0x365c2', '0xaae1', '0x3028f', '0x3d8a3', '0x13199', '0x1f199', '0x27d1e', '0x5947', '0xf199', '0x41b85', '0xd051', '0x33e14', '0x4666', '0x1b385', '0x39a3d', '0x3e1eb', '0x38385', '0x30947', '0x41a3d', '0x39999', '0x4323d', '0x4670a', '0x30d70', '0x49000', '0x328f5', '0x448a3', '0x1fd70', '0x31eb8', '0x2bfae', '0x6ccc', '0x34385', '0x2370a', '0x408f5', '0x410f5', '0x54999', '0x37614', '0x3bb33', '0x80f5', '0x2147', '0x44fae', '0x3f570', '0x8eb8', '0x3a614', '0x37a3d', '0x1aae1', '0x47570', '0x138a3', '0x3c333', '0x23570', '0x47666', '0x36c7a', '0x38e14', '0x3c70a', '0x33c7a', '0x3b800', '0x28947', '0x3c28f', '0x3bb85', '0x3c3d7', '0x39d70', '0x2d666', '0x3851e', '0xadc2', '0x44666', '0x2afae', '0x44fae', '0x35e66', '0x13800', '0x5c23d', '0x41333', '0x118f5', '0x28ccc', '0x2cf0a', '0x1a385', '0x21fae', '0x355c2', '0x2c666', '0x45f0a', '0x436b8', '0x42666', '0x39c7a', '0x4ec28', '0x43a3d', '0x3cb85', '0x44c28', '0x3c614', '0x353d7', '0x4323d', '0x34947', '0x3e8a3', '0x3a147', '0x39b33', '0x4f1eb', '0x43851', '0x3bd1e', '0x3df0a', '0x428f5', '0x31000', '0x2abd7', '0x1ca3d', '0x4aeb8', '0x16c7a', '0x1b51e', '0x2f000', '0x31a3d', '0x39851', '0x1e3d7', '0x46ccc', '0x3ed70', '0x4a614', '0x43428', '0x21e14', '0x1edc2', '0x22666', '0x27b33', '0x2b3d7', '0x15dc2', '0x1bb85', '0x46e66', '0x3c8a3', '0x4dc7a', '0x1fbd7', '0x26570', '0x26385', '0x1747a', '0x3bae1', '0x462e1', '0x3ee66', '0x25d70', '0x2e66', '0x1e7ae', '0x2a947', '0x3b4cc', '0x3823d', '0x22147', '0x2b147', '0x29f0a', '0x19947', '0x42d1e', '0x34ae1', '0x2d051', '0x14851', '0xf0f5', '0x1a570', '0x1f000', '0x2abd7', '0xb199', '0x1f999', '0x366b8', '0x41f0a', '0x2e9eb', '0x4823d', '0xf70a', '0x23570', '0x376b8', '0x3fa3d', '0x10f0', '0x164cc', '0x30851', '0x38999', '0x3951e', '0x383d7', '0x3c7ae', '0x40c28', '0x366b8', '0x3b000', '0x35385', '0x36c7a', '0x3f147', '0x28385', '0x19b85', '0x17999', '0x3f8f5', '0x12ccc', '0x2fa8f', '0x24800', '0x302e1', '0x2df0a', '0x46d1e', '0x2ad1e', '0x2670a', '0x2e147', '0x2c570', '0x17fae', '0x11999', '0x1328f', '0x36c7a', '0x1851e', '0x38428', '0xbbd7', '0x326b8', '0x349eb', '0x26b33', '0x1528f', '0x1fc28', '0x28a3d', '0x164cc', '0xdb33', '0x15b33', '0x10eb8', '0x12d70', '0x19b33', '0x4475c', '0x24bd7', '0xbfae', '0x163d7', '0x1f614', '0x2fdc2', '0x3028f', '0xef5c', '0x32d70', '0x26428', '0xb9eb', '0x3cd1e', '0x25c28', '0x10c7a', '0x16570', '0xc28f', '0x1a333', '0x26bd7', '0x1f38', '0x2128f', '0x290f5', '0x2b000', '0xfb33', '0x2a23d', '0x24a8f', '0x2a199', '0x24eb8', '0x21c7a', '0x23851', '0x2351e', '0x2d2e1', '0x328f5', '0x3aa8f', '0x259eb', '0x453d7', '0x44d1e', '0x5c28', '0x3d51e', '0x2a3d7', '0xd0a3', '0x309eb', '0x10f0', '0x27a3d', '0x32c28', '0x26333', '0x1af0a', '0x2df5c', '0x29c28', '0x10f0', '0x325c2', '0x241eb', '0x3c999', '0x17385', '0x2bf0a', '0x23051', '0xd51e', '0x2666', '0x19eb8', '0x33d1e', '0x1fe14', '0x1c9eb', '0x2aa8f', '0x33c28', '0x1470a', '0x1f70a', '0x1ae14', '0x38c28', '0x3b9eb', '0x47999', '0x1923d', '0x40666', '0x16147', '0x3f3d7', '0x18c7a', '0x3fae', '0x3b947', '0x40d1e', '0x2e70a', '0x25dc2', '0x4a1eb', '0x317ae', '0x2a947', '0x314cc', '0x42000', '0x2db85', '0x498f5', '0x2be14', '0x25614', '0x42666', '0x33e14', '0x10d0', '0x461eb', '0x13ccc', '0x33ae1', '0x2dc7a', '0x35385', '0x19f5c', '0x31e66', '0x47fae', '0x3b000', '0x40666', '0x2bbd7', '0x22199', '0x42000', '0x2a3d7', '0x2f8f5', '0x2ea3d', '0x21385', '0x1f6b8', '0x3a0f5', '0xe999', '0x34051', '0x33851', '0x26570', '0x26c7a', '0x36666', '0x96b8', '0x3a3d7', '0x10f0', '0x2c800', '0x2c947', '0x1b4cc', '0x22570', '0x1c199', '0x2828f', '0x234cc', '0x1528f', '0x2f051', '0x1d851', '0x38e14', '0x1f614', '0x2c5c2', '0x4a000', '0x7147', '0x23c28', '0x3dd1e', '0x3d51e', '0x3a851', '0x2a0f5', '0x33f0a', '0x4a851', '0x4c385', '0x29333', '0x3d8f5', '0x199eb', '0x2f428', '0x2aeb8', '0x10f8', '0x2d385', '0x2cd70', '0x37dc2', '0x2e851', '0x3de66', '0x3cccc', '0x2fd70', '0x3247a', '0x5ccc', '0x329eb', '0x460a3', '0x3cd70', '0x3d000', '0x1f70a', '0x13a8f', '0x405c2', '0x3423d', '0x35dc2', '0x14428', '0x26fae', '0x167ae', '0x258f5', '0x23a8f', '0x2275c', '0x3f4cc', '0x377ae', '0x2c614', '0x40e66', '0x4128f', '0x46b85', '0x2f4cc', '0x3aae1', '0x472e1', '0x23bd7', '0x3a70a', '0x2e70a', '0x1f000', '0x44666', '0xc70a', '0x41a3d', '0x15d70', '0x300f5', '0x21b85', '0x27ae', '0x2fa3d', '0x42ae1', '0x24e66', '0x38b33', '0x2d000', '0xe5c2', '0x24a3d', '0x1beb8', '0x1e051', '0x3b000', '0x2f7ae', '0x3a28f', '0x78f5', '0x3175c', '0x137ae', '0x26e66', '0x22c28', '0x248f5', '0x202e1', '0x40eb8', '0x1523d', '0x18f5c', '0x4347a', '0xe47a', '0x18fae', '0x3751e', '0x3b385', '0x2aae1', '0x140f5', '0x3947a', '0x17b0', '0x23385', '0x1a333', '0x1e4cc', '0x3f47a', '0xfeb8', '0x13051', '0x1dae1', '0x326b8', '0x167ae', '0x13000', '0x15570', '0x3e947', '0x15333', '0x6800', '0x2f800', '0x419eb', '0x2bb33', '0x5ec7a', '0x2d999', '0x1323d', '0x108f5', '0x2a4cc', '0x2a800', '0x12570', '0x18a8f', '0x30051', '0x2675c']\n",
      "[]\n"
     ]
    }
   ],
   "source": [
    "str_counter = 0\n",
    "hex_str_counter = 0\n",
    "str_list = []\n",
    "hex_str_list = []\n",
    "\n",
    "for sz in raw_broadcast_df['size']:\n",
    "    if type(sz) == type('str'):\n",
    "        str_counter += 1\n",
    "        if sz.startswith('0x'):\n",
    "            hex_str_counter += 1\n",
    "            hex_str_list.append(sz)\n",
    "        else:\n",
    "            str_list.append(sz)\n",
    "        \n",
    "print(str_counter)\n",
    "print(hex_str_counter)\n",
    "print(raw_broadcast_df.shape)\n",
    "print(hex_str_list)\n",
    "print(str_list)"
   ]
  },
  {
   "cell_type": "code",
   "execution_count": 393,
   "metadata": {},
   "outputs": [
    {
     "data": {
      "text/plain": [
       "count     8785\n",
       "unique       4\n",
       "top          0\n",
       "freq      5968\n",
       "Name: uncleNum, dtype: object"
      ]
     },
     "execution_count": 393,
     "metadata": {},
     "output_type": "execute_result"
    }
   ],
   "source": [
    "raw_broadcast_df.uncleNum.describe()"
   ]
  },
  {
   "cell_type": "code",
   "execution_count": 394,
   "metadata": {},
   "outputs": [
    {
     "data": {
      "text/plain": [
       "count    58346.0\n",
       "mean         0.0\n",
       "std          0.0\n",
       "min          0.0\n",
       "25%          0.0\n",
       "50%          0.0\n",
       "75%          0.0\n",
       "max          0.0\n",
       "Name: uncleNum, dtype: float64"
      ]
     },
     "execution_count": 394,
     "metadata": {},
     "output_type": "execute_result"
    }
   ],
   "source": [
    "uncle_df.uncleNum.describe()\n"
   ]
  },
  {
   "cell_type": "code",
   "execution_count": 395,
   "metadata": {},
   "outputs": [
    {
     "data": {
      "text/plain": [
       "count    1.537179e+06\n",
       "mean     7.328945e-02\n",
       "std      2.769415e-01\n",
       "min      0.000000e+00\n",
       "25%      0.000000e+00\n",
       "50%      0.000000e+00\n",
       "75%      0.000000e+00\n",
       "max      2.000000e+00\n",
       "Name: uncleNum, dtype: float64"
      ]
     },
     "execution_count": 395,
     "metadata": {},
     "output_type": "execute_result"
    }
   ],
   "source": [
    "canonical_df.uncleNum.describe()"
   ]
  },
  {
   "cell_type": "markdown",
   "metadata": {},
   "source": [
    "### Get uncle columns"
   ]
  },
  {
   "cell_type": "code",
   "execution_count": 396,
   "metadata": {},
   "outputs": [
    {
     "data": {
      "text/plain": [
       "Index(['difficulty', 'gasLimit', 'gasUsed', 'hash', 'miner', 'number', 'size',\n",
       "       'timestamp', 'txNum', 'uncleNum', 'label'],\n",
       "      dtype='object')"
      ]
     },
     "execution_count": 396,
     "metadata": {},
     "output_type": "execute_result"
    }
   ],
   "source": [
    "uncle_df.columns"
   ]
  },
  {
   "cell_type": "markdown",
   "metadata": {},
   "source": [
    "### Get canonical columns"
   ]
  },
  {
   "cell_type": "code",
   "execution_count": 144,
   "metadata": {},
   "outputs": [
    {
     "data": {
      "text/plain": [
       "Index(['difficulty', 'gasLimit', 'gasUsed', 'hash', 'miner', 'number', 'size',\n",
       "       'timestamp', 'txNum', 'uncleNum'],\n",
       "      dtype='object')"
      ]
     },
     "execution_count": 144,
     "metadata": {},
     "output_type": "execute_result"
    }
   ],
   "source": [
    "canonical_df.columns"
   ]
  },
  {
   "cell_type": "markdown",
   "metadata": {},
   "source": [
    "### Get forked columns"
   ]
  },
  {
   "cell_type": "code",
   "execution_count": 145,
   "metadata": {},
   "outputs": [
    {
     "data": {
      "text/plain": [
       "Index(['difficulty', 'gasLimit', 'gasUsed', 'hash', 'miner', 'number', 'size',\n",
       "       'timestamp', 'txNum', 'uncleNum'],\n",
       "      dtype='object')"
      ]
     },
     "execution_count": 145,
     "metadata": {},
     "output_type": "execute_result"
    }
   ],
   "source": [
    "forked_df.columns"
   ]
  },
  {
   "cell_type": "markdown",
   "metadata": {},
   "source": [
    "### Get Broadcast columns"
   ]
  },
  {
   "cell_type": "code",
   "execution_count": 409,
   "metadata": {},
   "outputs": [
    {
     "data": {
      "text/plain": [
       "Index(['difficulty', 'gasLimit', 'gasUsed', 'hash', 'miner', 'number', 'size',\n",
       "       'timestamp', 'txNum', 'uncleNum', 'label'],\n",
       "      dtype='object')"
      ]
     },
     "execution_count": 409,
     "metadata": {},
     "output_type": "execute_result"
    }
   ],
   "source": [
    "raw_broadcast_df.columns"
   ]
  },
  {
   "cell_type": "code",
   "execution_count": 401,
   "metadata": {},
   "outputs": [
    {
     "name": "stdout",
     "output_type": "stream",
     "text": [
      "canonical df shape:  (1537179, 11)\n",
      "uncle df shape:  (58346, 11)\n",
      "broadcast df shape:  (8785, 11)\n",
      "forked df shape:  (79242, 11)\n",
      "canonical number:  1537179 , non canonical number:  542468\n",
      "canonical is  2.8336768251767848  times of non canonical\n"
     ]
    }
   ],
   "source": [
    "print('canonical df shape: ', canonical_df.shape)\n",
    "print('uncle df shape: ', uncle_df.shape)\n",
    "print('broadcast df shape: ', raw_broadcast_df.shape)\n",
    "print('forked df shape: ', forked_df.shape)\n",
    "print('canonical number: ', canonical_df.shape[0], ', non canonical number: ', uncle_df.shape[0]+broadcast_df.shape[0]+forked_df.shape[0])\n",
    "print('canonical is ', canonical_df.shape[0]/(uncle_df.shape[0]+broadcast_df.shape[0]+forked_df.shape[0]), ' times of non canonical')"
   ]
  },
  {
   "cell_type": "markdown",
   "metadata": {},
   "source": [
    "#### Since canonical df has the majority of number in blocks, we decide to use canonical df as the standard pattern to match forked df."
   ]
  },
  {
   "cell_type": "code",
   "execution_count": 320,
   "metadata": {},
   "outputs": [
    {
     "name": "stdout",
     "output_type": "stream",
     "text": [
      "unique miner:  484\n"
     ]
    }
   ],
   "source": [
    "print('unique miner: ', len(canonical_df.miner.unique()))"
   ]
  },
  {
   "cell_type": "code",
   "execution_count": 321,
   "metadata": {},
   "outputs": [
    {
     "data": {
      "text/plain": [
       "484"
      ]
     },
     "execution_count": 321,
     "metadata": {},
     "output_type": "execute_result"
    }
   ],
   "source": [
    "canonical_miners = canonical_df.groupby('miner')\n",
    "len(canonical_miners)"
   ]
  },
  {
   "cell_type": "markdown",
   "metadata": {},
   "source": [
    "### Label canonical as 0 and others as 1"
   ]
  },
  {
   "cell_type": "code",
   "execution_count": 481,
   "metadata": {},
   "outputs": [
    {
     "data": {
      "text/html": [
       "<div>\n",
       "<style scoped>\n",
       "    .dataframe tbody tr th:only-of-type {\n",
       "        vertical-align: middle;\n",
       "    }\n",
       "\n",
       "    .dataframe tbody tr th {\n",
       "        vertical-align: top;\n",
       "    }\n",
       "\n",
       "    .dataframe thead th {\n",
       "        text-align: right;\n",
       "    }\n",
       "</style>\n",
       "<table border=\"1\" class=\"dataframe\">\n",
       "  <thead>\n",
       "    <tr style=\"text-align: right;\">\n",
       "      <th></th>\n",
       "      <th>difficulty</th>\n",
       "      <th>gasLimit</th>\n",
       "      <th>gasUsed</th>\n",
       "      <th>hash</th>\n",
       "      <th>miner</th>\n",
       "      <th>number</th>\n",
       "      <th>size</th>\n",
       "      <th>timestamp</th>\n",
       "      <th>txNum</th>\n",
       "      <th>uncleNum</th>\n",
       "      <th>label</th>\n",
       "    </tr>\n",
       "  </thead>\n",
       "  <tbody>\n",
       "    <tr>\n",
       "      <th>0</th>\n",
       "      <td>2399283668053419</td>\n",
       "      <td>8000029</td>\n",
       "      <td>7999694</td>\n",
       "      <td>0xa74abd1fe708da69f311447bde33193e9b23af3a6eec...</td>\n",
       "      <td>0x5a0b54d5dc17e0aadc383d2db43b0a0d3e029c4c</td>\n",
       "      <td>6839999</td>\n",
       "      <td>30787</td>\n",
       "      <td>0.0</td>\n",
       "      <td>183</td>\n",
       "      <td>0</td>\n",
       "      <td>1</td>\n",
       "    </tr>\n",
       "    <tr>\n",
       "      <th>1</th>\n",
       "      <td>2400387012547653</td>\n",
       "      <td>7994877</td>\n",
       "      <td>742283</td>\n",
       "      <td>0xd6a9a861552586be4f4ecbaf14754d142bb1887e67f8...</td>\n",
       "      <td>0x2a5994b501e6a560e727b6c2de5d856396aadd38</td>\n",
       "      <td>6839998</td>\n",
       "      <td>3598</td>\n",
       "      <td>0.0</td>\n",
       "      <td>15</td>\n",
       "      <td>0</td>\n",
       "      <td>1</td>\n",
       "    </tr>\n",
       "    <tr>\n",
       "      <th>2</th>\n",
       "      <td>2400318293070917</td>\n",
       "      <td>8000029</td>\n",
       "      <td>1815372</td>\n",
       "      <td>0xc8958f7838145975ab421e3a0c08a4eeab955233fd63...</td>\n",
       "      <td>0x52bc44d5378309ee2abf1539bf71de1b7d7be3b5</td>\n",
       "      <td>6839997</td>\n",
       "      <td>7253</td>\n",
       "      <td>0.0</td>\n",
       "      <td>46</td>\n",
       "      <td>0</td>\n",
       "      <td>1</td>\n",
       "    </tr>\n",
       "    <tr>\n",
       "      <th>3</th>\n",
       "      <td>2401422142999942</td>\n",
       "      <td>8000000</td>\n",
       "      <td>7985081</td>\n",
       "      <td>0x423d96a9aaf78b780bd0bb93a25a45a57260f16b1106...</td>\n",
       "      <td>0x2a65aca4d5fc5b5c859090a6c34d164135398226</td>\n",
       "      <td>6839996</td>\n",
       "      <td>19764</td>\n",
       "      <td>0.0</td>\n",
       "      <td>127</td>\n",
       "      <td>0</td>\n",
       "      <td>1</td>\n",
       "    </tr>\n",
       "    <tr>\n",
       "      <th>4</th>\n",
       "      <td>2400181459919730</td>\n",
       "      <td>8000000</td>\n",
       "      <td>7610034</td>\n",
       "      <td>0xbee381dabfe10ec32d6d28cd34c1c7200d0593f84d0d...</td>\n",
       "      <td>0x829bd824b016326a401d083b33d092293333a830</td>\n",
       "      <td>6839995</td>\n",
       "      <td>28231</td>\n",
       "      <td>0.0</td>\n",
       "      <td>194</td>\n",
       "      <td>0</td>\n",
       "      <td>1</td>\n",
       "    </tr>\n",
       "  </tbody>\n",
       "</table>\n",
       "</div>"
      ],
      "text/plain": [
       "         difficulty  gasLimit  gasUsed  \\\n",
       "0  2399283668053419   8000029  7999694   \n",
       "1  2400387012547653   7994877   742283   \n",
       "2  2400318293070917   8000029  1815372   \n",
       "3  2401422142999942   8000000  7985081   \n",
       "4  2400181459919730   8000000  7610034   \n",
       "\n",
       "                                                hash  \\\n",
       "0  0xa74abd1fe708da69f311447bde33193e9b23af3a6eec...   \n",
       "1  0xd6a9a861552586be4f4ecbaf14754d142bb1887e67f8...   \n",
       "2  0xc8958f7838145975ab421e3a0c08a4eeab955233fd63...   \n",
       "3  0x423d96a9aaf78b780bd0bb93a25a45a57260f16b1106...   \n",
       "4  0xbee381dabfe10ec32d6d28cd34c1c7200d0593f84d0d...   \n",
       "\n",
       "                                        miner   number   size  timestamp  \\\n",
       "0  0x5a0b54d5dc17e0aadc383d2db43b0a0d3e029c4c  6839999  30787        0.0   \n",
       "1  0x2a5994b501e6a560e727b6c2de5d856396aadd38  6839998   3598        0.0   \n",
       "2  0x52bc44d5378309ee2abf1539bf71de1b7d7be3b5  6839997   7253        0.0   \n",
       "3  0x2a65aca4d5fc5b5c859090a6c34d164135398226  6839996  19764        0.0   \n",
       "4  0x829bd824b016326a401d083b33d092293333a830  6839995  28231        0.0   \n",
       "\n",
       "   txNum  uncleNum  label  \n",
       "0    183         0      1  \n",
       "1     15         0      1  \n",
       "2     46         0      1  \n",
       "3    127         0      1  \n",
       "4    194         0      1  "
      ]
     },
     "execution_count": 481,
     "metadata": {},
     "output_type": "execute_result"
    }
   ],
   "source": [
    "canonical_df['label'] = 1\n",
    "canonical_df.head()"
   ]
  },
  {
   "cell_type": "code",
   "execution_count": 482,
   "metadata": {},
   "outputs": [
    {
     "data": {
      "text/html": [
       "<div>\n",
       "<style scoped>\n",
       "    .dataframe tbody tr th:only-of-type {\n",
       "        vertical-align: middle;\n",
       "    }\n",
       "\n",
       "    .dataframe tbody tr th {\n",
       "        vertical-align: top;\n",
       "    }\n",
       "\n",
       "    .dataframe thead th {\n",
       "        text-align: right;\n",
       "    }\n",
       "</style>\n",
       "<table border=\"1\" class=\"dataframe\">\n",
       "  <thead>\n",
       "    <tr style=\"text-align: right;\">\n",
       "      <th></th>\n",
       "      <th>difficulty</th>\n",
       "      <th>gasLimit</th>\n",
       "      <th>gasUsed</th>\n",
       "      <th>hash</th>\n",
       "      <th>miner</th>\n",
       "      <th>number</th>\n",
       "      <th>size</th>\n",
       "      <th>timestamp</th>\n",
       "      <th>txNum</th>\n",
       "      <th>uncleNum</th>\n",
       "      <th>label</th>\n",
       "    </tr>\n",
       "  </thead>\n",
       "  <tbody>\n",
       "    <tr>\n",
       "      <th>0</th>\n",
       "      <td>2401814073278233</td>\n",
       "      <td>7992222</td>\n",
       "      <td>5902995</td>\n",
       "      <td>0x26e21747dfd05acbb0db763447dc730dd1d20ddb70a6...</td>\n",
       "      <td>0xcc16e3c00dbbe76603fa833ec20a48f786dfe610</td>\n",
       "      <td>7200009</td>\n",
       "      <td>521</td>\n",
       "      <td>0.0</td>\n",
       "      <td>0</td>\n",
       "      <td>0</td>\n",
       "      <td>0</td>\n",
       "    </tr>\n",
       "    <tr>\n",
       "      <th>1</th>\n",
       "      <td>2406628768479038</td>\n",
       "      <td>8000029</td>\n",
       "      <td>7994199</td>\n",
       "      <td>0x4e440909390986585b35a53b31d285c95899710b9ba6...</td>\n",
       "      <td>0x5a0b54d5dc17e0aadc383d2db43b0a0d3e029c4c</td>\n",
       "      <td>7200023</td>\n",
       "      <td>541</td>\n",
       "      <td>0.0</td>\n",
       "      <td>0</td>\n",
       "      <td>0</td>\n",
       "      <td>0</td>\n",
       "    </tr>\n",
       "    <tr>\n",
       "      <th>2</th>\n",
       "      <td>2416354973629740</td>\n",
       "      <td>8000029</td>\n",
       "      <td>5743895</td>\n",
       "      <td>0x1e48f03f15d604bcecade135e218821d8d3c243f7a6a...</td>\n",
       "      <td>0xea674fdde714fd979de3edf0f56aa9716b898ec8</td>\n",
       "      <td>7200034</td>\n",
       "      <td>538</td>\n",
       "      <td>0.0</td>\n",
       "      <td>0</td>\n",
       "      <td>0</td>\n",
       "      <td>0</td>\n",
       "    </tr>\n",
       "    <tr>\n",
       "      <th>3</th>\n",
       "      <td>2435699782537319</td>\n",
       "      <td>8000025</td>\n",
       "      <td>7980364</td>\n",
       "      <td>0x8d9a618adde95515b851c248d8a94b73e766af5ea184...</td>\n",
       "      <td>0x829bd824b016326a401d083b33d092293333a830</td>\n",
       "      <td>7200072</td>\n",
       "      <td>540</td>\n",
       "      <td>0.0</td>\n",
       "      <td>0</td>\n",
       "      <td>0</td>\n",
       "      <td>0</td>\n",
       "    </tr>\n",
       "    <tr>\n",
       "      <th>4</th>\n",
       "      <td>2443574371989549</td>\n",
       "      <td>8007811</td>\n",
       "      <td>8003275</td>\n",
       "      <td>0xea126eb6612905daeb5241d7222ce28b236f4dfb25c6...</td>\n",
       "      <td>0x829bd824b016326a401d083b33d092293333a830</td>\n",
       "      <td>7200090</td>\n",
       "      <td>536</td>\n",
       "      <td>0.0</td>\n",
       "      <td>0</td>\n",
       "      <td>0</td>\n",
       "      <td>0</td>\n",
       "    </tr>\n",
       "  </tbody>\n",
       "</table>\n",
       "</div>"
      ],
      "text/plain": [
       "         difficulty  gasLimit  gasUsed  \\\n",
       "0  2401814073278233   7992222  5902995   \n",
       "1  2406628768479038   8000029  7994199   \n",
       "2  2416354973629740   8000029  5743895   \n",
       "3  2435699782537319   8000025  7980364   \n",
       "4  2443574371989549   8007811  8003275   \n",
       "\n",
       "                                                hash  \\\n",
       "0  0x26e21747dfd05acbb0db763447dc730dd1d20ddb70a6...   \n",
       "1  0x4e440909390986585b35a53b31d285c95899710b9ba6...   \n",
       "2  0x1e48f03f15d604bcecade135e218821d8d3c243f7a6a...   \n",
       "3  0x8d9a618adde95515b851c248d8a94b73e766af5ea184...   \n",
       "4  0xea126eb6612905daeb5241d7222ce28b236f4dfb25c6...   \n",
       "\n",
       "                                        miner   number  size  timestamp  \\\n",
       "0  0xcc16e3c00dbbe76603fa833ec20a48f786dfe610  7200009   521        0.0   \n",
       "1  0x5a0b54d5dc17e0aadc383d2db43b0a0d3e029c4c  7200023   541        0.0   \n",
       "2  0xea674fdde714fd979de3edf0f56aa9716b898ec8  7200034   538        0.0   \n",
       "3  0x829bd824b016326a401d083b33d092293333a830  7200072   540        0.0   \n",
       "4  0x829bd824b016326a401d083b33d092293333a830  7200090   536        0.0   \n",
       "\n",
       "   txNum  uncleNum  label  \n",
       "0      0         0      0  \n",
       "1      0         0      0  \n",
       "2      0         0      0  \n",
       "3      0         0      0  \n",
       "4      0         0      0  "
      ]
     },
     "execution_count": 482,
     "metadata": {},
     "output_type": "execute_result"
    }
   ],
   "source": [
    "uncle_df['label'] = 0\n",
    "uncle_df.head()"
   ]
  },
  {
   "cell_type": "code",
   "execution_count": 483,
   "metadata": {},
   "outputs": [
    {
     "data": {
      "text/html": [
       "<div>\n",
       "<style scoped>\n",
       "    .dataframe tbody tr th:only-of-type {\n",
       "        vertical-align: middle;\n",
       "    }\n",
       "\n",
       "    .dataframe tbody tr th {\n",
       "        vertical-align: top;\n",
       "    }\n",
       "\n",
       "    .dataframe thead th {\n",
       "        text-align: right;\n",
       "    }\n",
       "</style>\n",
       "<table border=\"1\" class=\"dataframe\">\n",
       "  <thead>\n",
       "    <tr style=\"text-align: right;\">\n",
       "      <th></th>\n",
       "      <th>difficulty</th>\n",
       "      <th>gasLimit</th>\n",
       "      <th>gasUsed</th>\n",
       "      <th>hash</th>\n",
       "      <th>miner</th>\n",
       "      <th>number</th>\n",
       "      <th>size</th>\n",
       "      <th>timestamp</th>\n",
       "      <th>txNum</th>\n",
       "      <th>uncleNum</th>\n",
       "      <th>label</th>\n",
       "    </tr>\n",
       "  </thead>\n",
       "  <tbody>\n",
       "    <tr>\n",
       "      <th>0</th>\n",
       "      <td>63331537494188</td>\n",
       "      <td>4712388</td>\n",
       "      <td>0</td>\n",
       "      <td>0xebeabb2e972e6dfe1f3cc7d6eeea5006cea363a24dd4...</td>\n",
       "      <td>0xf3b9d2c81f2b24b0fa0acaaa865b7d9ced5fc2fb</td>\n",
       "      <td>2115684</td>\n",
       "      <td>541</td>\n",
       "      <td>0.0</td>\n",
       "      <td>0</td>\n",
       "      <td>0</td>\n",
       "      <td>0</td>\n",
       "    </tr>\n",
       "    <tr>\n",
       "      <th>1</th>\n",
       "      <td>63580290188712</td>\n",
       "      <td>4703192</td>\n",
       "      <td>21000</td>\n",
       "      <td>0xc3a168aebfe6a19ca3063527a5eb990a56de91d74b69...</td>\n",
       "      <td>0x2a65aca4d5fc5b5c859090a6c34d164135398226</td>\n",
       "      <td>2115626</td>\n",
       "      <td>1179</td>\n",
       "      <td>0.0</td>\n",
       "      <td>0</td>\n",
       "      <td>0</td>\n",
       "      <td>0</td>\n",
       "    </tr>\n",
       "    <tr>\n",
       "      <th>2</th>\n",
       "      <td>63240211856690</td>\n",
       "      <td>4712379</td>\n",
       "      <td>0</td>\n",
       "      <td>0x81181666515c77a112739d09736e4db495d7b27b0143...</td>\n",
       "      <td>0x61c808d82a3ac53231750dadc13c777b59310bd9</td>\n",
       "      <td>2115562</td>\n",
       "      <td>532</td>\n",
       "      <td>0.0</td>\n",
       "      <td>0</td>\n",
       "      <td>0</td>\n",
       "      <td>0</td>\n",
       "    </tr>\n",
       "    <tr>\n",
       "      <th>3</th>\n",
       "      <td>63706474698380</td>\n",
       "      <td>4712388</td>\n",
       "      <td>105000</td>\n",
       "      <td>0xd7aecb487cef45ab492f18e78ae41be0e3f9f8d7e617...</td>\n",
       "      <td>0xea674fdde714fd979de3edf0f56aa9716b898ec8</td>\n",
       "      <td>2115478</td>\n",
       "      <td>2170</td>\n",
       "      <td>0.0</td>\n",
       "      <td>0</td>\n",
       "      <td>0</td>\n",
       "      <td>0</td>\n",
       "    </tr>\n",
       "    <tr>\n",
       "      <th>4</th>\n",
       "      <td>63737682040116</td>\n",
       "      <td>4712388</td>\n",
       "      <td>321022</td>\n",
       "      <td>0x16edcf526068f01be55c7200fb7dff56145a32a8dd3b...</td>\n",
       "      <td>0x4bb96091ee9d802ed039c4d1a5f6216f90f81b01</td>\n",
       "      <td>2115467</td>\n",
       "      <td>2138</td>\n",
       "      <td>0.0</td>\n",
       "      <td>0</td>\n",
       "      <td>0</td>\n",
       "      <td>0</td>\n",
       "    </tr>\n",
       "  </tbody>\n",
       "</table>\n",
       "</div>"
      ],
      "text/plain": [
       "       difficulty  gasLimit  gasUsed  \\\n",
       "0  63331537494188   4712388        0   \n",
       "1  63580290188712   4703192    21000   \n",
       "2  63240211856690   4712379        0   \n",
       "3  63706474698380   4712388   105000   \n",
       "4  63737682040116   4712388   321022   \n",
       "\n",
       "                                                hash  \\\n",
       "0  0xebeabb2e972e6dfe1f3cc7d6eeea5006cea363a24dd4...   \n",
       "1  0xc3a168aebfe6a19ca3063527a5eb990a56de91d74b69...   \n",
       "2  0x81181666515c77a112739d09736e4db495d7b27b0143...   \n",
       "3  0xd7aecb487cef45ab492f18e78ae41be0e3f9f8d7e617...   \n",
       "4  0x16edcf526068f01be55c7200fb7dff56145a32a8dd3b...   \n",
       "\n",
       "                                        miner   number  size  timestamp  \\\n",
       "0  0xf3b9d2c81f2b24b0fa0acaaa865b7d9ced5fc2fb  2115684   541        0.0   \n",
       "1  0x2a65aca4d5fc5b5c859090a6c34d164135398226  2115626  1179        0.0   \n",
       "2  0x61c808d82a3ac53231750dadc13c777b59310bd9  2115562   532        0.0   \n",
       "3  0xea674fdde714fd979de3edf0f56aa9716b898ec8  2115478  2170        0.0   \n",
       "4  0x4bb96091ee9d802ed039c4d1a5f6216f90f81b01  2115467  2138        0.0   \n",
       "\n",
       "   txNum  uncleNum  label  \n",
       "0      0         0      0  \n",
       "1      0         0      0  \n",
       "2      0         0      0  \n",
       "3      0         0      0  \n",
       "4      0         0      0  "
      ]
     },
     "execution_count": 483,
     "metadata": {},
     "output_type": "execute_result"
    }
   ],
   "source": [
    "forked_df['label'] = 0\n",
    "forked_df.head()"
   ]
  },
  {
   "cell_type": "code",
   "execution_count": 484,
   "metadata": {
    "scrolled": true
   },
   "outputs": [
    {
     "name": "stderr",
     "output_type": "stream",
     "text": [
      "/Users/Jinyue/anaconda3/lib/python3.6/site-packages/ipykernel_launcher.py:1: SettingWithCopyWarning: \n",
      "A value is trying to be set on a copy of a slice from a DataFrame.\n",
      "Try using .loc[row_indexer,col_indexer] = value instead\n",
      "\n",
      "See the caveats in the documentation: http://pandas.pydata.org/pandas-docs/stable/indexing.html#indexing-view-versus-copy\n",
      "  \"\"\"Entry point for launching an IPython kernel.\n"
     ]
    },
    {
     "data": {
      "text/html": [
       "<div>\n",
       "<style scoped>\n",
       "    .dataframe tbody tr th:only-of-type {\n",
       "        vertical-align: middle;\n",
       "    }\n",
       "\n",
       "    .dataframe tbody tr th {\n",
       "        vertical-align: top;\n",
       "    }\n",
       "\n",
       "    .dataframe thead th {\n",
       "        text-align: right;\n",
       "    }\n",
       "</style>\n",
       "<table border=\"1\" class=\"dataframe\">\n",
       "  <thead>\n",
       "    <tr style=\"text-align: right;\">\n",
       "      <th></th>\n",
       "      <th>difficulty</th>\n",
       "      <th>gasLimit</th>\n",
       "      <th>gasUsed</th>\n",
       "      <th>hash</th>\n",
       "      <th>miner</th>\n",
       "      <th>number</th>\n",
       "      <th>size</th>\n",
       "      <th>timestamp</th>\n",
       "      <th>txNum</th>\n",
       "      <th>uncleNum</th>\n",
       "      <th>label</th>\n",
       "    </tr>\n",
       "  </thead>\n",
       "  <tbody>\n",
       "    <tr>\n",
       "      <th>0</th>\n",
       "      <td>16971378211</td>\n",
       "      <td>5075</td>\n",
       "      <td>0</td>\n",
       "      <td>0x05b9a338eff90e6dba91dabf47e2ac84fad93baaa8a5...</td>\n",
       "      <td>0x093A0Ed738B65ed34f2A37a2D44c5e3Cd0D0DD45</td>\n",
       "      <td>25</td>\n",
       "      <td>4296</td>\n",
       "      <td>0.0</td>\n",
       "      <td>0</td>\n",
       "      <td>0</td>\n",
       "      <td>0</td>\n",
       "    </tr>\n",
       "    <tr>\n",
       "      <th>1</th>\n",
       "      <td>17171480576</td>\n",
       "      <td>5003</td>\n",
       "      <td>0</td>\n",
       "      <td>0x700aadd703c81b067d39422f793f2d694afbfd72156a...</td>\n",
       "      <td>0x0A0393d4f9988126EEEc6d2B47c816e633a20C22</td>\n",
       "      <td>1</td>\n",
       "      <td>4312</td>\n",
       "      <td>0.0</td>\n",
       "      <td>0</td>\n",
       "      <td>0</td>\n",
       "      <td>0</td>\n",
       "    </tr>\n",
       "    <tr>\n",
       "      <th>2</th>\n",
       "      <td>17163096064</td>\n",
       "      <td>5000</td>\n",
       "      <td>0</td>\n",
       "      <td>0xb495a1d7e6663152ae92708da4843337b958146015a2...</td>\n",
       "      <td>0xdd2F1e6e498202e86D8f5442Af596580A4f03c2C</td>\n",
       "      <td>2</td>\n",
       "      <td>4352</td>\n",
       "      <td>0.0</td>\n",
       "      <td>0</td>\n",
       "      <td>0</td>\n",
       "      <td>0</td>\n",
       "    </tr>\n",
       "    <tr>\n",
       "      <th>3</th>\n",
       "      <td>17154715646</td>\n",
       "      <td>5009</td>\n",
       "      <td>0</td>\n",
       "      <td>0x43be5526c636c00c391fd0a3ac635e0f2568a10102c5...</td>\n",
       "      <td>0x41F872e72813b24C2986aed888e76638264de0b9</td>\n",
       "      <td>3</td>\n",
       "      <td>4296</td>\n",
       "      <td>0.0</td>\n",
       "      <td>0</td>\n",
       "      <td>0</td>\n",
       "      <td>0</td>\n",
       "    </tr>\n",
       "    <tr>\n",
       "      <th>4</th>\n",
       "      <td>1378675664031</td>\n",
       "      <td>5057</td>\n",
       "      <td>0</td>\n",
       "      <td>0x6657c87909f45c0b7654cf02982b14a355075bc9f25d...</td>\n",
       "      <td>0x5928E011c3B8fc8bEf32d5B86A19F2A54c5BE654</td>\n",
       "      <td>41915</td>\n",
       "      <td>4296</td>\n",
       "      <td>0.0</td>\n",
       "      <td>0</td>\n",
       "      <td>0</td>\n",
       "      <td>0</td>\n",
       "    </tr>\n",
       "  </tbody>\n",
       "</table>\n",
       "</div>"
      ],
      "text/plain": [
       "      difficulty  gasLimit  gasUsed  \\\n",
       "0    16971378211      5075        0   \n",
       "1    17171480576      5003        0   \n",
       "2    17163096064      5000        0   \n",
       "3    17154715646      5009        0   \n",
       "4  1378675664031      5057        0   \n",
       "\n",
       "                                                hash  \\\n",
       "0  0x05b9a338eff90e6dba91dabf47e2ac84fad93baaa8a5...   \n",
       "1  0x700aadd703c81b067d39422f793f2d694afbfd72156a...   \n",
       "2  0xb495a1d7e6663152ae92708da4843337b958146015a2...   \n",
       "3  0x43be5526c636c00c391fd0a3ac635e0f2568a10102c5...   \n",
       "4  0x6657c87909f45c0b7654cf02982b14a355075bc9f25d...   \n",
       "\n",
       "                                        miner  number  size  timestamp txNum  \\\n",
       "0  0x093A0Ed738B65ed34f2A37a2D44c5e3Cd0D0DD45      25  4296        0.0     0   \n",
       "1  0x0A0393d4f9988126EEEc6d2B47c816e633a20C22       1  4312        0.0     0   \n",
       "2  0xdd2F1e6e498202e86D8f5442Af596580A4f03c2C       2  4352        0.0     0   \n",
       "3  0x41F872e72813b24C2986aed888e76638264de0b9       3  4296        0.0     0   \n",
       "4  0x5928E011c3B8fc8bEf32d5B86A19F2A54c5BE654   41915  4296        0.0     0   \n",
       "\n",
       "  uncleNum  label  \n",
       "0        0      0  \n",
       "1        0      0  \n",
       "2        0      0  \n",
       "3        0      0  \n",
       "4        0      0  "
      ]
     },
     "execution_count": 484,
     "metadata": {},
     "output_type": "execute_result"
    }
   ],
   "source": [
    "raw_broadcast_df['label'] = 0\n",
    "raw_broadcast_df.head()"
   ]
  },
  {
   "cell_type": "markdown",
   "metadata": {},
   "source": [
    "### Change data type in dataframes"
   ]
  },
  {
   "cell_type": "markdown",
   "metadata": {},
   "source": [
    "#### canonical df"
   ]
  },
  {
   "cell_type": "code",
   "execution_count": 322,
   "metadata": {},
   "outputs": [
    {
     "name": "stdout",
     "output_type": "stream",
     "text": [
      "original canonical df feature difficulty data type and value\n",
      "<class 'numpy.int64'>\n",
      "2399283668053419\n"
     ]
    }
   ],
   "source": [
    "print('original canonical df feature difficulty data type and value')\n",
    "print(type(canonical_df['difficulty'][0]))\n",
    "print(canonical_df['difficulty'][0])"
   ]
  },
  {
   "cell_type": "code",
   "execution_count": 168,
   "metadata": {},
   "outputs": [],
   "source": [
    "canonical_df['difficulty'] = canonical_df.difficulty.apply(lambda x: int(x, 16))"
   ]
  },
  {
   "cell_type": "code",
   "execution_count": 169,
   "metadata": {},
   "outputs": [
    {
     "name": "stdout",
     "output_type": "stream",
     "text": [
      "original canonical df feature timestamp data type and value\n",
      "<class 'numpy.float64'>\n",
      "0.0\n"
     ]
    }
   ],
   "source": [
    "print('original canonical df feature timestamp difference data type and value')\n",
    "print(type(canonical_df['timestamp'][0]))\n",
    "print(canonical_df['timestamp'][0])"
   ]
  },
  {
   "cell_type": "markdown",
   "metadata": {},
   "source": [
    "#### As shown, the timestamp difference data type is float, so do nothing. "
   ]
  },
  {
   "cell_type": "code",
   "execution_count": 323,
   "metadata": {},
   "outputs": [
    {
     "name": "stdout",
     "output_type": "stream",
     "text": [
      "difficulty <class 'numpy.int64'> ,  2399283668053419 \n",
      "\n",
      "gasLimit <class 'numpy.int64'> ,  8000029 \n",
      "\n",
      "gasUsed <class 'numpy.int64'> ,  7999694 \n",
      "\n",
      "hash <class 'str'> ,  0xa74abd1fe708da69f311447bde33193e9b23af3a6eec05989d3fb07d0f6311cc \n",
      "\n",
      "miner <class 'str'> ,  0x5a0b54d5dc17e0aadc383d2db43b0a0d3e029c4c \n",
      "\n",
      "number <class 'numpy.int64'> ,  6839999 \n",
      "\n",
      "size <class 'numpy.int64'> ,  30787 \n",
      "\n",
      "timestamp <class 'numpy.float64'> ,  0.0 \n",
      "\n",
      "txNum <class 'numpy.int64'> ,  183 \n",
      "\n",
      "uncleNum <class 'numpy.int64'> ,  0 \n",
      "\n",
      "label <class 'numpy.int64'> ,  0 \n",
      "\n"
     ]
    }
   ],
   "source": [
    "for column in canonical_df.columns:\n",
    "    print(column, type(canonical_df[column][0]), ', ', canonical_df[column][0], '\\n')"
   ]
  },
  {
   "cell_type": "markdown",
   "metadata": {},
   "source": [
    "#### forked df"
   ]
  },
  {
   "cell_type": "code",
   "execution_count": 324,
   "metadata": {},
   "outputs": [
    {
     "name": "stdout",
     "output_type": "stream",
     "text": [
      "difficulty <class 'numpy.int64'> ,  63331537494188 \n",
      "\n",
      "gasLimit <class 'numpy.int64'> ,  4712388 \n",
      "\n",
      "gasUsed <class 'numpy.int64'> ,  0 \n",
      "\n",
      "hash <class 'str'> ,  0xebeabb2e972e6dfe1f3cc7d6eeea5006cea363a24dd4ffc58ab18a621c9b4596 \n",
      "\n",
      "miner <class 'str'> ,  0xf3b9d2c81f2b24b0fa0acaaa865b7d9ced5fc2fb \n",
      "\n",
      "number <class 'numpy.int64'> ,  2115684 \n",
      "\n",
      "size <class 'numpy.int64'> ,  541 \n",
      "\n",
      "timestamp <class 'numpy.float64'> ,  0.0 \n",
      "\n",
      "txNum <class 'numpy.int64'> ,  0 \n",
      "\n",
      "uncleNum <class 'numpy.int64'> ,  0 \n",
      "\n",
      "label <class 'numpy.int64'> ,  1 \n",
      "\n"
     ]
    }
   ],
   "source": [
    "for column in forked_df.columns:\n",
    "    print(column, type(forked_df[column][0]), ', ', forked_df[column][0], '\\n')"
   ]
  },
  {
   "cell_type": "markdown",
   "metadata": {
    "collapsed": true
   },
   "source": [
    "**As shown above, all features are in the required datatype. So we don't have to change forked dataframe.**"
   ]
  },
  {
   "cell_type": "markdown",
   "metadata": {},
   "source": [
    "#### uncle df"
   ]
  },
  {
   "cell_type": "code",
   "execution_count": 325,
   "metadata": {},
   "outputs": [
    {
     "name": "stdout",
     "output_type": "stream",
     "text": [
      "difficulty <class 'numpy.int64'> ,  2401814073278233 \n",
      "\n",
      "gasLimit <class 'numpy.int64'> ,  7992222 \n",
      "\n",
      "gasUsed <class 'numpy.int64'> ,  5902995 \n",
      "\n",
      "hash <class 'str'> ,  0x26e21747dfd05acbb0db763447dc730dd1d20ddb70a64f66582147ec8e73529a \n",
      "\n",
      "miner <class 'str'> ,  0xcc16e3c00dbbe76603fa833ec20a48f786dfe610 \n",
      "\n",
      "number <class 'numpy.int64'> ,  7200009 \n",
      "\n",
      "size <class 'numpy.int64'> ,  521 \n",
      "\n",
      "timestamp <class 'numpy.float64'> ,  0.0 \n",
      "\n",
      "txNum <class 'numpy.int64'> ,  0 \n",
      "\n",
      "uncleNum <class 'numpy.int64'> ,  0 \n",
      "\n",
      "label <class 'numpy.int64'> ,  1 \n",
      "\n"
     ]
    }
   ],
   "source": [
    "for column in uncle_df.columns:\n",
    "    print(column, type(uncle_df[column][0]), ', ', uncle_df[column][0], '\\n')"
   ]
  },
  {
   "cell_type": "markdown",
   "metadata": {},
   "source": [
    "**uncle df difficulty is str but we want int**"
   ]
  },
  {
   "cell_type": "code",
   "execution_count": 183,
   "metadata": {},
   "outputs": [],
   "source": [
    "uncle_df['difficulty'] = uncle_df.difficulty.apply(lambda x: int(x, 16))"
   ]
  },
  {
   "cell_type": "code",
   "execution_count": 326,
   "metadata": {},
   "outputs": [
    {
     "name": "stdout",
     "output_type": "stream",
     "text": [
      "difficulty <class 'numpy.int64'> ,  2401814073278233 \n",
      "\n",
      "gasLimit <class 'numpy.int64'> ,  7992222 \n",
      "\n",
      "gasUsed <class 'numpy.int64'> ,  5902995 \n",
      "\n",
      "hash <class 'str'> ,  0x26e21747dfd05acbb0db763447dc730dd1d20ddb70a64f66582147ec8e73529a \n",
      "\n",
      "miner <class 'str'> ,  0xcc16e3c00dbbe76603fa833ec20a48f786dfe610 \n",
      "\n",
      "number <class 'numpy.int64'> ,  7200009 \n",
      "\n",
      "size <class 'numpy.int64'> ,  521 \n",
      "\n",
      "timestamp <class 'numpy.float64'> ,  0.0 \n",
      "\n",
      "txNum <class 'numpy.int64'> ,  0 \n",
      "\n",
      "uncleNum <class 'numpy.int64'> ,  0 \n",
      "\n",
      "label <class 'numpy.int64'> ,  1 \n",
      "\n"
     ]
    }
   ],
   "source": [
    "for column in uncle_df.columns:\n",
    "    print(column, type(uncle_df[column][0]), ', ', uncle_df[column][0], '\\n')"
   ]
  },
  {
   "cell_type": "code",
   "execution_count": 185,
   "metadata": {},
   "outputs": [
    {
     "data": {
      "text/html": [
       "<div>\n",
       "<style scoped>\n",
       "    .dataframe tbody tr th:only-of-type {\n",
       "        vertical-align: middle;\n",
       "    }\n",
       "\n",
       "    .dataframe tbody tr th {\n",
       "        vertical-align: top;\n",
       "    }\n",
       "\n",
       "    .dataframe thead th {\n",
       "        text-align: right;\n",
       "    }\n",
       "</style>\n",
       "<table border=\"1\" class=\"dataframe\">\n",
       "  <thead>\n",
       "    <tr style=\"text-align: right;\">\n",
       "      <th></th>\n",
       "      <th>difficulty</th>\n",
       "      <th>gasLimit</th>\n",
       "      <th>gasUsed</th>\n",
       "      <th>hash</th>\n",
       "      <th>miner</th>\n",
       "      <th>number</th>\n",
       "      <th>size</th>\n",
       "      <th>timestamp</th>\n",
       "      <th>txNum</th>\n",
       "      <th>uncleNum</th>\n",
       "      <th>label</th>\n",
       "    </tr>\n",
       "  </thead>\n",
       "  <tbody>\n",
       "    <tr>\n",
       "      <th>0</th>\n",
       "      <td>2401814073278233</td>\n",
       "      <td>7992222</td>\n",
       "      <td>5902995</td>\n",
       "      <td>0x26e21747dfd05acbb0db763447dc730dd1d20ddb70a6...</td>\n",
       "      <td>0xcc16e3c00dbbe76603fa833ec20a48f786dfe610</td>\n",
       "      <td>7200009</td>\n",
       "      <td>521</td>\n",
       "      <td>0.0</td>\n",
       "      <td>0</td>\n",
       "      <td>0</td>\n",
       "      <td>1</td>\n",
       "    </tr>\n",
       "    <tr>\n",
       "      <th>1</th>\n",
       "      <td>2406628768479038</td>\n",
       "      <td>8000029</td>\n",
       "      <td>7994199</td>\n",
       "      <td>0x4e440909390986585b35a53b31d285c95899710b9ba6...</td>\n",
       "      <td>0x5a0b54d5dc17e0aadc383d2db43b0a0d3e029c4c</td>\n",
       "      <td>7200023</td>\n",
       "      <td>541</td>\n",
       "      <td>0.0</td>\n",
       "      <td>0</td>\n",
       "      <td>0</td>\n",
       "      <td>1</td>\n",
       "    </tr>\n",
       "    <tr>\n",
       "      <th>2</th>\n",
       "      <td>2416354973629740</td>\n",
       "      <td>8000029</td>\n",
       "      <td>5743895</td>\n",
       "      <td>0x1e48f03f15d604bcecade135e218821d8d3c243f7a6a...</td>\n",
       "      <td>0xea674fdde714fd979de3edf0f56aa9716b898ec8</td>\n",
       "      <td>7200034</td>\n",
       "      <td>538</td>\n",
       "      <td>0.0</td>\n",
       "      <td>0</td>\n",
       "      <td>0</td>\n",
       "      <td>1</td>\n",
       "    </tr>\n",
       "    <tr>\n",
       "      <th>3</th>\n",
       "      <td>2435699782537319</td>\n",
       "      <td>8000025</td>\n",
       "      <td>7980364</td>\n",
       "      <td>0x8d9a618adde95515b851c248d8a94b73e766af5ea184...</td>\n",
       "      <td>0x829bd824b016326a401d083b33d092293333a830</td>\n",
       "      <td>7200072</td>\n",
       "      <td>540</td>\n",
       "      <td>0.0</td>\n",
       "      <td>0</td>\n",
       "      <td>0</td>\n",
       "      <td>1</td>\n",
       "    </tr>\n",
       "    <tr>\n",
       "      <th>4</th>\n",
       "      <td>2443574371989549</td>\n",
       "      <td>8007811</td>\n",
       "      <td>8003275</td>\n",
       "      <td>0xea126eb6612905daeb5241d7222ce28b236f4dfb25c6...</td>\n",
       "      <td>0x829bd824b016326a401d083b33d092293333a830</td>\n",
       "      <td>7200090</td>\n",
       "      <td>536</td>\n",
       "      <td>0.0</td>\n",
       "      <td>0</td>\n",
       "      <td>0</td>\n",
       "      <td>1</td>\n",
       "    </tr>\n",
       "  </tbody>\n",
       "</table>\n",
       "</div>"
      ],
      "text/plain": [
       "         difficulty  gasLimit  gasUsed  \\\n",
       "0  2401814073278233   7992222  5902995   \n",
       "1  2406628768479038   8000029  7994199   \n",
       "2  2416354973629740   8000029  5743895   \n",
       "3  2435699782537319   8000025  7980364   \n",
       "4  2443574371989549   8007811  8003275   \n",
       "\n",
       "                                                hash  \\\n",
       "0  0x26e21747dfd05acbb0db763447dc730dd1d20ddb70a6...   \n",
       "1  0x4e440909390986585b35a53b31d285c95899710b9ba6...   \n",
       "2  0x1e48f03f15d604bcecade135e218821d8d3c243f7a6a...   \n",
       "3  0x8d9a618adde95515b851c248d8a94b73e766af5ea184...   \n",
       "4  0xea126eb6612905daeb5241d7222ce28b236f4dfb25c6...   \n",
       "\n",
       "                                        miner   number  size  timestamp  \\\n",
       "0  0xcc16e3c00dbbe76603fa833ec20a48f786dfe610  7200009   521        0.0   \n",
       "1  0x5a0b54d5dc17e0aadc383d2db43b0a0d3e029c4c  7200023   541        0.0   \n",
       "2  0xea674fdde714fd979de3edf0f56aa9716b898ec8  7200034   538        0.0   \n",
       "3  0x829bd824b016326a401d083b33d092293333a830  7200072   540        0.0   \n",
       "4  0x829bd824b016326a401d083b33d092293333a830  7200090   536        0.0   \n",
       "\n",
       "   txNum  uncleNum  label  \n",
       "0      0         0      1  \n",
       "1      0         0      1  \n",
       "2      0         0      1  \n",
       "3      0         0      1  \n",
       "4      0         0      1  "
      ]
     },
     "execution_count": 185,
     "metadata": {},
     "output_type": "execute_result"
    }
   ],
   "source": [
    "uncle_df.head()"
   ]
  },
  {
   "cell_type": "markdown",
   "metadata": {},
   "source": [
    "#### broadcast df"
   ]
  },
  {
   "cell_type": "code",
   "execution_count": 400,
   "metadata": {},
   "outputs": [
    {
     "name": "stdout",
     "output_type": "stream",
     "text": [
      "difficulty <class 'str'> ,  16971378211 \n",
      "\n",
      "gasLimit <class 'numpy.int64'> ,  5075 \n",
      "\n",
      "gasUsed <class 'numpy.int64'> ,  0 \n",
      "\n",
      "hash <class 'str'> ,  0x05b9a338eff90e6dba91dabf47e2ac84fad93baaa8a52c9dd95481b8183b3879 \n",
      "\n",
      "miner <class 'str'> ,  0x093A0Ed738B65ed34f2A37a2D44c5e3Cd0D0DD45 \n",
      "\n",
      "number <class 'numpy.int64'> ,  25 \n",
      "\n",
      "size <class 'str'> ,  0x10c8 \n",
      "\n",
      "timestamp <class 'numpy.float64'> ,  0.0 \n",
      "\n",
      "txNum <class 'int'> ,  0 \n",
      "\n",
      "uncleNum <class 'int'> ,  0 \n",
      "\n",
      "label <class 'numpy.int64'> ,  1 \n",
      "\n"
     ]
    }
   ],
   "source": [
    "for column in raw_broadcast_df.columns:\n",
    "    print(column, type(raw_broadcast_df[column][0]), ', ', raw_broadcast_df[column][0], '\\n')"
   ]
  },
  {
   "cell_type": "markdown",
   "metadata": {},
   "source": [
    "**Same problem here, we need difficulty in int type instead of str**"
   ]
  },
  {
   "cell_type": "code",
   "execution_count": 410,
   "metadata": {},
   "outputs": [
    {
     "data": {
      "text/html": [
       "<div>\n",
       "<style scoped>\n",
       "    .dataframe tbody tr th:only-of-type {\n",
       "        vertical-align: middle;\n",
       "    }\n",
       "\n",
       "    .dataframe tbody tr th {\n",
       "        vertical-align: top;\n",
       "    }\n",
       "\n",
       "    .dataframe thead th {\n",
       "        text-align: right;\n",
       "    }\n",
       "</style>\n",
       "<table border=\"1\" class=\"dataframe\">\n",
       "  <thead>\n",
       "    <tr style=\"text-align: right;\">\n",
       "      <th></th>\n",
       "      <th>difficulty</th>\n",
       "      <th>gasLimit</th>\n",
       "      <th>gasUsed</th>\n",
       "      <th>hash</th>\n",
       "      <th>miner</th>\n",
       "      <th>number</th>\n",
       "      <th>size</th>\n",
       "      <th>timestamp</th>\n",
       "      <th>txNum</th>\n",
       "      <th>uncleNum</th>\n",
       "      <th>label</th>\n",
       "    </tr>\n",
       "  </thead>\n",
       "  <tbody>\n",
       "    <tr>\n",
       "      <th>0</th>\n",
       "      <td>16971378211</td>\n",
       "      <td>5075</td>\n",
       "      <td>0</td>\n",
       "      <td>0x05b9a338eff90e6dba91dabf47e2ac84fad93baaa8a5...</td>\n",
       "      <td>0x093A0Ed738B65ed34f2A37a2D44c5e3Cd0D0DD45</td>\n",
       "      <td>25</td>\n",
       "      <td>4296</td>\n",
       "      <td>0.0</td>\n",
       "      <td>0</td>\n",
       "      <td>0</td>\n",
       "      <td>1</td>\n",
       "    </tr>\n",
       "    <tr>\n",
       "      <th>1</th>\n",
       "      <td>17171480576</td>\n",
       "      <td>5003</td>\n",
       "      <td>0</td>\n",
       "      <td>0x700aadd703c81b067d39422f793f2d694afbfd72156a...</td>\n",
       "      <td>0x0A0393d4f9988126EEEc6d2B47c816e633a20C22</td>\n",
       "      <td>1</td>\n",
       "      <td>4312</td>\n",
       "      <td>0.0</td>\n",
       "      <td>0</td>\n",
       "      <td>0</td>\n",
       "      <td>1</td>\n",
       "    </tr>\n",
       "    <tr>\n",
       "      <th>2</th>\n",
       "      <td>17163096064</td>\n",
       "      <td>5000</td>\n",
       "      <td>0</td>\n",
       "      <td>0xb495a1d7e6663152ae92708da4843337b958146015a2...</td>\n",
       "      <td>0xdd2F1e6e498202e86D8f5442Af596580A4f03c2C</td>\n",
       "      <td>2</td>\n",
       "      <td>4352</td>\n",
       "      <td>0.0</td>\n",
       "      <td>0</td>\n",
       "      <td>0</td>\n",
       "      <td>1</td>\n",
       "    </tr>\n",
       "    <tr>\n",
       "      <th>3</th>\n",
       "      <td>17154715646</td>\n",
       "      <td>5009</td>\n",
       "      <td>0</td>\n",
       "      <td>0x43be5526c636c00c391fd0a3ac635e0f2568a10102c5...</td>\n",
       "      <td>0x41F872e72813b24C2986aed888e76638264de0b9</td>\n",
       "      <td>3</td>\n",
       "      <td>4296</td>\n",
       "      <td>0.0</td>\n",
       "      <td>0</td>\n",
       "      <td>0</td>\n",
       "      <td>1</td>\n",
       "    </tr>\n",
       "    <tr>\n",
       "      <th>4</th>\n",
       "      <td>1378675664031</td>\n",
       "      <td>5057</td>\n",
       "      <td>0</td>\n",
       "      <td>0x6657c87909f45c0b7654cf02982b14a355075bc9f25d...</td>\n",
       "      <td>0x5928E011c3B8fc8bEf32d5B86A19F2A54c5BE654</td>\n",
       "      <td>41915</td>\n",
       "      <td>4296</td>\n",
       "      <td>0.0</td>\n",
       "      <td>0</td>\n",
       "      <td>0</td>\n",
       "      <td>1</td>\n",
       "    </tr>\n",
       "  </tbody>\n",
       "</table>\n",
       "</div>"
      ],
      "text/plain": [
       "      difficulty  gasLimit  gasUsed  \\\n",
       "0    16971378211      5075        0   \n",
       "1    17171480576      5003        0   \n",
       "2    17163096064      5000        0   \n",
       "3    17154715646      5009        0   \n",
       "4  1378675664031      5057        0   \n",
       "\n",
       "                                                hash  \\\n",
       "0  0x05b9a338eff90e6dba91dabf47e2ac84fad93baaa8a5...   \n",
       "1  0x700aadd703c81b067d39422f793f2d694afbfd72156a...   \n",
       "2  0xb495a1d7e6663152ae92708da4843337b958146015a2...   \n",
       "3  0x43be5526c636c00c391fd0a3ac635e0f2568a10102c5...   \n",
       "4  0x6657c87909f45c0b7654cf02982b14a355075bc9f25d...   \n",
       "\n",
       "                                        miner  number  size  timestamp txNum  \\\n",
       "0  0x093A0Ed738B65ed34f2A37a2D44c5e3Cd0D0DD45      25  4296        0.0     0   \n",
       "1  0x0A0393d4f9988126EEEc6d2B47c816e633a20C22       1  4312        0.0     0   \n",
       "2  0xdd2F1e6e498202e86D8f5442Af596580A4f03c2C       2  4352        0.0     0   \n",
       "3  0x41F872e72813b24C2986aed888e76638264de0b9       3  4296        0.0     0   \n",
       "4  0x5928E011c3B8fc8bEf32d5B86A19F2A54c5BE654   41915  4296        0.0     0   \n",
       "\n",
       "  uncleNum  label  \n",
       "0        0      1  \n",
       "1        0      1  \n",
       "2        0      1  \n",
       "3        0      1  \n",
       "4        0      1  "
      ]
     },
     "execution_count": 410,
     "metadata": {},
     "output_type": "execute_result"
    }
   ],
   "source": [
    "raw_broadcast_df.head()"
   ]
  },
  {
   "cell_type": "code",
   "execution_count": 411,
   "metadata": {},
   "outputs": [
    {
     "data": {
      "text/plain": [
       "difficulty    0\n",
       "gasLimit      0\n",
       "gasUsed       0\n",
       "hash          0\n",
       "miner         0\n",
       "number        0\n",
       "size          0\n",
       "timestamp     0\n",
       "txNum         0\n",
       "uncleNum      0\n",
       "label         0\n",
       "dtype: int64"
      ]
     },
     "execution_count": 411,
     "metadata": {},
     "output_type": "execute_result"
    }
   ],
   "source": [
    "raw_broadcast_df.isnull().sum()"
   ]
  },
  {
   "cell_type": "code",
   "execution_count": 412,
   "metadata": {},
   "outputs": [
    {
     "name": "stdout",
     "output_type": "stream",
     "text": [
      "1591\n",
      "1591\n"
     ]
    }
   ],
   "source": [
    "import numpy as np\n",
    "\n",
    "tmp_array = np.where(raw_broadcast_df['difficulty']=='')\n",
    "print(len(tmp_array[0]))\n",
    "tmp_array = tmp_array[0]\n",
    "print(len(tmp_array))\n",
    "tmp_array = list(map(int, tmp_array))"
   ]
  },
  {
   "cell_type": "markdown",
   "metadata": {},
   "source": [
    "**As we can see, there are empty string in difficulty column and it is 1/3 of the raw_broadcast size. For now, let's drop it**"
   ]
  },
  {
   "cell_type": "code",
   "execution_count": 413,
   "metadata": {},
   "outputs": [
    {
     "name": "stdout",
     "output_type": "stream",
     "text": [
      "328\n"
     ]
    },
    {
     "data": {
      "text/plain": [
       "difficulty                                                     \n",
       "gasLimit                                                8023457\n",
       "gasUsed                                                 7999608\n",
       "hash          0xf2fb1ece1f1b70095571502980078f1aca053ae72080...\n",
       "miner                0x829BD824B016326A401d083B33D092293333A830\n",
       "number                                                  8111545\n",
       "size                                                     294748\n",
       "timestamp                                                     0\n",
       "txNum                                                       175\n",
       "uncleNum                                                      0\n",
       "label                                                         1\n",
       "Name: 328, dtype: object"
      ]
     },
     "execution_count": 413,
     "metadata": {},
     "output_type": "execute_result"
    }
   ],
   "source": [
    "print(tmp_array[0])\n",
    "raw_broadcast_df.iloc[tmp_array[0]]"
   ]
  },
  {
   "cell_type": "code",
   "execution_count": 414,
   "metadata": {},
   "outputs": [],
   "source": [
    "raw_broadcast_df = raw_broadcast_df[raw_broadcast_df.difficulty != '']"
   ]
  },
  {
   "cell_type": "code",
   "execution_count": 415,
   "metadata": {},
   "outputs": [
    {
     "data": {
      "text/plain": [
       "(7194, 11)"
      ]
     },
     "execution_count": 415,
     "metadata": {},
     "output_type": "execute_result"
    }
   ],
   "source": [
    "raw_broadcast_df.shape"
   ]
  },
  {
   "cell_type": "code",
   "execution_count": 416,
   "metadata": {
    "scrolled": true
   },
   "outputs": [
    {
     "name": "stderr",
     "output_type": "stream",
     "text": [
      "/Users/Jinyue/anaconda3/lib/python3.6/site-packages/ipykernel_launcher.py:1: SettingWithCopyWarning: \n",
      "A value is trying to be set on a copy of a slice from a DataFrame.\n",
      "Try using .loc[row_indexer,col_indexer] = value instead\n",
      "\n",
      "See the caveats in the documentation: http://pandas.pydata.org/pandas-docs/stable/indexing.html#indexing-view-versus-copy\n",
      "  \"\"\"Entry point for launching an IPython kernel.\n"
     ]
    }
   ],
   "source": [
    "raw_broadcast_df['difficulty'] = raw_broadcast_df['difficulty'].astype(int)"
   ]
  },
  {
   "cell_type": "code",
   "execution_count": 417,
   "metadata": {},
   "outputs": [
    {
     "ename": "TypeError",
     "evalue": "int() can't convert non-string with explicit base",
     "output_type": "error",
     "traceback": [
      "\u001b[0;31m---------------------------------------------------------------------------\u001b[0m",
      "\u001b[0;31mTypeError\u001b[0m                                 Traceback (most recent call last)",
      "\u001b[0;32m<ipython-input-417-3660bf62a9fd>\u001b[0m in \u001b[0;36m<module>\u001b[0;34m\u001b[0m\n\u001b[0;32m----> 1\u001b[0;31m \u001b[0mraw_broadcast_df\u001b[0m\u001b[0;34m[\u001b[0m\u001b[0;34m'size'\u001b[0m\u001b[0;34m]\u001b[0m \u001b[0;34m=\u001b[0m \u001b[0mraw_broadcast_df\u001b[0m\u001b[0;34m[\u001b[0m\u001b[0;34m'size'\u001b[0m\u001b[0;34m]\u001b[0m\u001b[0;34m.\u001b[0m\u001b[0mapply\u001b[0m\u001b[0;34m(\u001b[0m\u001b[0mint\u001b[0m\u001b[0;34m,\u001b[0m \u001b[0mbase\u001b[0m\u001b[0;34m=\u001b[0m\u001b[0;36m16\u001b[0m\u001b[0;34m)\u001b[0m\u001b[0;34m\u001b[0m\u001b[0;34m\u001b[0m\u001b[0m\n\u001b[0m",
      "\u001b[0;32m~/anaconda3/lib/python3.6/site-packages/pandas/core/series.py\u001b[0m in \u001b[0;36mapply\u001b[0;34m(self, func, convert_dtype, args, **kwds)\u001b[0m\n\u001b[1;32m   3589\u001b[0m             \u001b[0;32melse\u001b[0m\u001b[0;34m:\u001b[0m\u001b[0;34m\u001b[0m\u001b[0;34m\u001b[0m\u001b[0m\n\u001b[1;32m   3590\u001b[0m                 \u001b[0mvalues\u001b[0m \u001b[0;34m=\u001b[0m \u001b[0mself\u001b[0m\u001b[0;34m.\u001b[0m\u001b[0mastype\u001b[0m\u001b[0;34m(\u001b[0m\u001b[0mobject\u001b[0m\u001b[0;34m)\u001b[0m\u001b[0;34m.\u001b[0m\u001b[0mvalues\u001b[0m\u001b[0;34m\u001b[0m\u001b[0;34m\u001b[0m\u001b[0m\n\u001b[0;32m-> 3591\u001b[0;31m                 \u001b[0mmapped\u001b[0m \u001b[0;34m=\u001b[0m \u001b[0mlib\u001b[0m\u001b[0;34m.\u001b[0m\u001b[0mmap_infer\u001b[0m\u001b[0;34m(\u001b[0m\u001b[0mvalues\u001b[0m\u001b[0;34m,\u001b[0m \u001b[0mf\u001b[0m\u001b[0;34m,\u001b[0m \u001b[0mconvert\u001b[0m\u001b[0;34m=\u001b[0m\u001b[0mconvert_dtype\u001b[0m\u001b[0;34m)\u001b[0m\u001b[0;34m\u001b[0m\u001b[0;34m\u001b[0m\u001b[0m\n\u001b[0m\u001b[1;32m   3592\u001b[0m \u001b[0;34m\u001b[0m\u001b[0m\n\u001b[1;32m   3593\u001b[0m         \u001b[0;32mif\u001b[0m \u001b[0mlen\u001b[0m\u001b[0;34m(\u001b[0m\u001b[0mmapped\u001b[0m\u001b[0;34m)\u001b[0m \u001b[0;32mand\u001b[0m \u001b[0misinstance\u001b[0m\u001b[0;34m(\u001b[0m\u001b[0mmapped\u001b[0m\u001b[0;34m[\u001b[0m\u001b[0;36m0\u001b[0m\u001b[0;34m]\u001b[0m\u001b[0;34m,\u001b[0m \u001b[0mSeries\u001b[0m\u001b[0;34m)\u001b[0m\u001b[0;34m:\u001b[0m\u001b[0;34m\u001b[0m\u001b[0;34m\u001b[0m\u001b[0m\n",
      "\u001b[0;32mpandas/_libs/lib.pyx\u001b[0m in \u001b[0;36mpandas._libs.lib.map_infer\u001b[0;34m()\u001b[0m\n",
      "\u001b[0;32m~/anaconda3/lib/python3.6/site-packages/pandas/core/series.py\u001b[0m in \u001b[0;36mf\u001b[0;34m(x)\u001b[0m\n\u001b[1;32m   3576\u001b[0m         \u001b[0;32mif\u001b[0m \u001b[0mkwds\u001b[0m \u001b[0;32mor\u001b[0m \u001b[0margs\u001b[0m \u001b[0;32mand\u001b[0m \u001b[0;32mnot\u001b[0m \u001b[0misinstance\u001b[0m\u001b[0;34m(\u001b[0m\u001b[0mfunc\u001b[0m\u001b[0;34m,\u001b[0m \u001b[0mnp\u001b[0m\u001b[0;34m.\u001b[0m\u001b[0mufunc\u001b[0m\u001b[0;34m)\u001b[0m\u001b[0;34m:\u001b[0m\u001b[0;34m\u001b[0m\u001b[0;34m\u001b[0m\u001b[0m\n\u001b[1;32m   3577\u001b[0m             \u001b[0;32mdef\u001b[0m \u001b[0mf\u001b[0m\u001b[0;34m(\u001b[0m\u001b[0mx\u001b[0m\u001b[0;34m)\u001b[0m\u001b[0;34m:\u001b[0m\u001b[0;34m\u001b[0m\u001b[0;34m\u001b[0m\u001b[0m\n\u001b[0;32m-> 3578\u001b[0;31m                 \u001b[0;32mreturn\u001b[0m \u001b[0mfunc\u001b[0m\u001b[0;34m(\u001b[0m\u001b[0mx\u001b[0m\u001b[0;34m,\u001b[0m \u001b[0;34m*\u001b[0m\u001b[0margs\u001b[0m\u001b[0;34m,\u001b[0m \u001b[0;34m**\u001b[0m\u001b[0mkwds\u001b[0m\u001b[0;34m)\u001b[0m\u001b[0;34m\u001b[0m\u001b[0;34m\u001b[0m\u001b[0m\n\u001b[0m\u001b[1;32m   3579\u001b[0m         \u001b[0;32melse\u001b[0m\u001b[0;34m:\u001b[0m\u001b[0;34m\u001b[0m\u001b[0;34m\u001b[0m\u001b[0m\n\u001b[1;32m   3580\u001b[0m             \u001b[0mf\u001b[0m \u001b[0;34m=\u001b[0m \u001b[0mfunc\u001b[0m\u001b[0;34m\u001b[0m\u001b[0;34m\u001b[0m\u001b[0m\n",
      "\u001b[0;31mTypeError\u001b[0m: int() can't convert non-string with explicit base"
     ]
    }
   ],
   "source": [
    "raw_broadcast_df['size'] = raw_broadcast_df['size'].apply(int, base=16)"
   ]
  },
  {
   "cell_type": "code",
   "execution_count": 419,
   "metadata": {},
   "outputs": [
    {
     "name": "stdout",
     "output_type": "stream",
     "text": [
      "difficulty <class 'numpy.int64'> ,  16971378211 \n",
      "\n",
      "gasLimit <class 'numpy.int64'> ,  5075 \n",
      "\n",
      "gasUsed <class 'numpy.int64'> ,  0 \n",
      "\n",
      "hash <class 'str'> ,  0x05b9a338eff90e6dba91dabf47e2ac84fad93baaa8a52c9dd95481b8183b3879 \n",
      "\n",
      "miner <class 'str'> ,  0x093A0Ed738B65ed34f2A37a2D44c5e3Cd0D0DD45 \n",
      "\n",
      "number <class 'numpy.int64'> ,  25 \n",
      "\n",
      "size <class 'numpy.int64'> ,  4296 \n",
      "\n",
      "timestamp <class 'numpy.float64'> ,  0.0 \n",
      "\n",
      "txNum <class 'int'> ,  0 \n",
      "\n",
      "uncleNum <class 'int'> ,  0 \n",
      "\n",
      "label <class 'numpy.int64'> ,  1 \n",
      "\n"
     ]
    }
   ],
   "source": [
    "for column in raw_broadcast_df.columns:\n",
    "    print(column, type(raw_broadcast_df[column][0]), ', ', raw_broadcast_df[column][0], '\\n')"
   ]
  },
  {
   "cell_type": "code",
   "execution_count": 485,
   "metadata": {},
   "outputs": [
    {
     "data": {
      "text/html": [
       "<div>\n",
       "<style scoped>\n",
       "    .dataframe tbody tr th:only-of-type {\n",
       "        vertical-align: middle;\n",
       "    }\n",
       "\n",
       "    .dataframe tbody tr th {\n",
       "        vertical-align: top;\n",
       "    }\n",
       "\n",
       "    .dataframe thead th {\n",
       "        text-align: right;\n",
       "    }\n",
       "</style>\n",
       "<table border=\"1\" class=\"dataframe\">\n",
       "  <thead>\n",
       "    <tr style=\"text-align: right;\">\n",
       "      <th></th>\n",
       "      <th>difficulty</th>\n",
       "      <th>gasLimit</th>\n",
       "      <th>gasUsed</th>\n",
       "      <th>hash</th>\n",
       "      <th>miner</th>\n",
       "      <th>number</th>\n",
       "      <th>size</th>\n",
       "      <th>timestamp</th>\n",
       "      <th>txNum</th>\n",
       "      <th>uncleNum</th>\n",
       "      <th>label</th>\n",
       "    </tr>\n",
       "  </thead>\n",
       "  <tbody>\n",
       "    <tr>\n",
       "      <th>0</th>\n",
       "      <td>16971378211</td>\n",
       "      <td>5075</td>\n",
       "      <td>0</td>\n",
       "      <td>0x05b9a338eff90e6dba91dabf47e2ac84fad93baaa8a5...</td>\n",
       "      <td>0x093A0Ed738B65ed34f2A37a2D44c5e3Cd0D0DD45</td>\n",
       "      <td>25</td>\n",
       "      <td>4296</td>\n",
       "      <td>0.0</td>\n",
       "      <td>0</td>\n",
       "      <td>0</td>\n",
       "      <td>0</td>\n",
       "    </tr>\n",
       "    <tr>\n",
       "      <th>1</th>\n",
       "      <td>17171480576</td>\n",
       "      <td>5003</td>\n",
       "      <td>0</td>\n",
       "      <td>0x700aadd703c81b067d39422f793f2d694afbfd72156a...</td>\n",
       "      <td>0x0A0393d4f9988126EEEc6d2B47c816e633a20C22</td>\n",
       "      <td>1</td>\n",
       "      <td>4312</td>\n",
       "      <td>0.0</td>\n",
       "      <td>0</td>\n",
       "      <td>0</td>\n",
       "      <td>0</td>\n",
       "    </tr>\n",
       "    <tr>\n",
       "      <th>2</th>\n",
       "      <td>17163096064</td>\n",
       "      <td>5000</td>\n",
       "      <td>0</td>\n",
       "      <td>0xb495a1d7e6663152ae92708da4843337b958146015a2...</td>\n",
       "      <td>0xdd2F1e6e498202e86D8f5442Af596580A4f03c2C</td>\n",
       "      <td>2</td>\n",
       "      <td>4352</td>\n",
       "      <td>0.0</td>\n",
       "      <td>0</td>\n",
       "      <td>0</td>\n",
       "      <td>0</td>\n",
       "    </tr>\n",
       "    <tr>\n",
       "      <th>3</th>\n",
       "      <td>17154715646</td>\n",
       "      <td>5009</td>\n",
       "      <td>0</td>\n",
       "      <td>0x43be5526c636c00c391fd0a3ac635e0f2568a10102c5...</td>\n",
       "      <td>0x41F872e72813b24C2986aed888e76638264de0b9</td>\n",
       "      <td>3</td>\n",
       "      <td>4296</td>\n",
       "      <td>0.0</td>\n",
       "      <td>0</td>\n",
       "      <td>0</td>\n",
       "      <td>0</td>\n",
       "    </tr>\n",
       "    <tr>\n",
       "      <th>4</th>\n",
       "      <td>1378675664031</td>\n",
       "      <td>5057</td>\n",
       "      <td>0</td>\n",
       "      <td>0x6657c87909f45c0b7654cf02982b14a355075bc9f25d...</td>\n",
       "      <td>0x5928E011c3B8fc8bEf32d5B86A19F2A54c5BE654</td>\n",
       "      <td>41915</td>\n",
       "      <td>4296</td>\n",
       "      <td>0.0</td>\n",
       "      <td>0</td>\n",
       "      <td>0</td>\n",
       "      <td>0</td>\n",
       "    </tr>\n",
       "  </tbody>\n",
       "</table>\n",
       "</div>"
      ],
      "text/plain": [
       "      difficulty  gasLimit  gasUsed  \\\n",
       "0    16971378211      5075        0   \n",
       "1    17171480576      5003        0   \n",
       "2    17163096064      5000        0   \n",
       "3    17154715646      5009        0   \n",
       "4  1378675664031      5057        0   \n",
       "\n",
       "                                                hash  \\\n",
       "0  0x05b9a338eff90e6dba91dabf47e2ac84fad93baaa8a5...   \n",
       "1  0x700aadd703c81b067d39422f793f2d694afbfd72156a...   \n",
       "2  0xb495a1d7e6663152ae92708da4843337b958146015a2...   \n",
       "3  0x43be5526c636c00c391fd0a3ac635e0f2568a10102c5...   \n",
       "4  0x6657c87909f45c0b7654cf02982b14a355075bc9f25d...   \n",
       "\n",
       "                                        miner  number  size  timestamp txNum  \\\n",
       "0  0x093A0Ed738B65ed34f2A37a2D44c5e3Cd0D0DD45      25  4296        0.0     0   \n",
       "1  0x0A0393d4f9988126EEEc6d2B47c816e633a20C22       1  4312        0.0     0   \n",
       "2  0xdd2F1e6e498202e86D8f5442Af596580A4f03c2C       2  4352        0.0     0   \n",
       "3  0x41F872e72813b24C2986aed888e76638264de0b9       3  4296        0.0     0   \n",
       "4  0x5928E011c3B8fc8bEf32d5B86A19F2A54c5BE654   41915  4296        0.0     0   \n",
       "\n",
       "  uncleNum  label  \n",
       "0        0      0  \n",
       "1        0      0  \n",
       "2        0      0  \n",
       "3        0      0  \n",
       "4        0      0  "
      ]
     },
     "execution_count": 485,
     "metadata": {},
     "output_type": "execute_result"
    }
   ],
   "source": [
    "raw_broadcast_df.head()"
   ]
  },
  {
   "cell_type": "markdown",
   "metadata": {},
   "source": [
    "### Combine them as one dataset"
   ]
  },
  {
   "cell_type": "code",
   "execution_count": 486,
   "metadata": {},
   "outputs": [
    {
     "name": "stdout",
     "output_type": "stream",
     "text": [
      "canonical size:  (1537179, 11)\n",
      "uncle size:  (58346, 11)\n",
      "forked size:  (79242, 11)\n",
      "broadcast size:  (7194, 11)\n",
      "combined result size:  (1681961, 11)\n"
     ]
    }
   ],
   "source": [
    "result = pd.concat([canonical_df, uncle_df, forked_df, raw_broadcast_df], ignore_index=True)\n",
    "\n",
    "print('canonical size: ', canonical_df.shape)\n",
    "print('uncle size: ', uncle_df.shape)\n",
    "print('forked size: ', forked_df.shape)\n",
    "print('broadcast size: ', raw_broadcast_df.shape)\n",
    "print('combined result size: ', result.shape)\n"
   ]
  },
  {
   "cell_type": "markdown",
   "metadata": {},
   "source": [
    "**Drop hash column**"
   ]
  },
  {
   "cell_type": "code",
   "execution_count": 487,
   "metadata": {},
   "outputs": [],
   "source": [
    "result.drop(columns=['hash'], inplace=True)"
   ]
  },
  {
   "cell_type": "markdown",
   "metadata": {},
   "source": [
    "### Encode Miner"
   ]
  },
  {
   "cell_type": "code",
   "execution_count": 488,
   "metadata": {},
   "outputs": [
    {
     "name": "stdout",
     "output_type": "stream",
     "text": [
      "852\n",
      "(1681961,)\n"
     ]
    }
   ],
   "source": [
    "temp_set = set()\n",
    "for item in result.miner:\n",
    "    temp_set.add(item)\n",
    "print(len(temp_set))\n",
    "print(result.miner.shape)\n"
   ]
  },
  {
   "cell_type": "code",
   "execution_count": 489,
   "metadata": {},
   "outputs": [
    {
     "data": {
      "text/html": [
       "<div>\n",
       "<style scoped>\n",
       "    .dataframe tbody tr th:only-of-type {\n",
       "        vertical-align: middle;\n",
       "    }\n",
       "\n",
       "    .dataframe tbody tr th {\n",
       "        vertical-align: top;\n",
       "    }\n",
       "\n",
       "    .dataframe thead th {\n",
       "        text-align: right;\n",
       "    }\n",
       "</style>\n",
       "<table border=\"1\" class=\"dataframe\">\n",
       "  <thead>\n",
       "    <tr style=\"text-align: right;\">\n",
       "      <th></th>\n",
       "      <th>difficulty</th>\n",
       "      <th>gasLimit</th>\n",
       "      <th>gasUsed</th>\n",
       "      <th>miner</th>\n",
       "      <th>number</th>\n",
       "      <th>size</th>\n",
       "      <th>timestamp</th>\n",
       "      <th>txNum</th>\n",
       "      <th>uncleNum</th>\n",
       "      <th>label</th>\n",
       "    </tr>\n",
       "  </thead>\n",
       "  <tbody>\n",
       "    <tr>\n",
       "      <th>0</th>\n",
       "      <td>2399283668053419</td>\n",
       "      <td>8000029</td>\n",
       "      <td>7999694</td>\n",
       "      <td>317</td>\n",
       "      <td>6839999</td>\n",
       "      <td>30787</td>\n",
       "      <td>0.0</td>\n",
       "      <td>183</td>\n",
       "      <td>0</td>\n",
       "      <td>1</td>\n",
       "    </tr>\n",
       "    <tr>\n",
       "      <th>1</th>\n",
       "      <td>2400387012547653</td>\n",
       "      <td>7994877</td>\n",
       "      <td>742283</td>\n",
       "      <td>161</td>\n",
       "      <td>6839998</td>\n",
       "      <td>3598</td>\n",
       "      <td>0.0</td>\n",
       "      <td>15</td>\n",
       "      <td>0</td>\n",
       "      <td>1</td>\n",
       "    </tr>\n",
       "    <tr>\n",
       "      <th>2</th>\n",
       "      <td>2400318293070917</td>\n",
       "      <td>8000029</td>\n",
       "      <td>1815372</td>\n",
       "      <td>294</td>\n",
       "      <td>6839997</td>\n",
       "      <td>7253</td>\n",
       "      <td>0.0</td>\n",
       "      <td>46</td>\n",
       "      <td>0</td>\n",
       "      <td>1</td>\n",
       "    </tr>\n",
       "    <tr>\n",
       "      <th>3</th>\n",
       "      <td>2401422142999942</td>\n",
       "      <td>8000000</td>\n",
       "      <td>7985081</td>\n",
       "      <td>163</td>\n",
       "      <td>6839996</td>\n",
       "      <td>19764</td>\n",
       "      <td>0.0</td>\n",
       "      <td>127</td>\n",
       "      <td>0</td>\n",
       "      <td>1</td>\n",
       "    </tr>\n",
       "    <tr>\n",
       "      <th>4</th>\n",
       "      <td>2400181459919730</td>\n",
       "      <td>8000000</td>\n",
       "      <td>7610034</td>\n",
       "      <td>444</td>\n",
       "      <td>6839995</td>\n",
       "      <td>28231</td>\n",
       "      <td>0.0</td>\n",
       "      <td>194</td>\n",
       "      <td>0</td>\n",
       "      <td>1</td>\n",
       "    </tr>\n",
       "  </tbody>\n",
       "</table>\n",
       "</div>"
      ],
      "text/plain": [
       "         difficulty  gasLimit  gasUsed  miner   number   size  timestamp  \\\n",
       "0  2399283668053419   8000029  7999694    317  6839999  30787        0.0   \n",
       "1  2400387012547653   7994877   742283    161  6839998   3598        0.0   \n",
       "2  2400318293070917   8000029  1815372    294  6839997   7253        0.0   \n",
       "3  2401422142999942   8000000  7985081    163  6839996  19764        0.0   \n",
       "4  2400181459919730   8000000  7610034    444  6839995  28231        0.0   \n",
       "\n",
       "  txNum uncleNum  label  \n",
       "0   183        0      1  \n",
       "1    15        0      1  \n",
       "2    46        0      1  \n",
       "3   127        0      1  \n",
       "4   194        0      1  "
      ]
     },
     "execution_count": 489,
     "metadata": {},
     "output_type": "execute_result"
    }
   ],
   "source": [
    "from sklearn.preprocessing import LabelEncoder\n",
    "\n",
    "col = result.miner\n",
    "le2 = LabelEncoder()\n",
    "le2.fit(col)\n",
    "encoded_column = le2.transform(col)\n",
    "encoded_column\n",
    "result.miner = encoded_column\n",
    "\n",
    "result.head()\n"
   ]
  },
  {
   "cell_type": "code",
   "execution_count": 490,
   "metadata": {},
   "outputs": [
    {
     "name": "stdout",
     "output_type": "stream",
     "text": [
      "There are  852  unique miners in the dataset.\n"
     ]
    }
   ],
   "source": [
    "print('There are ', len(result.miner.unique()), ' unique miners in the dataset.')"
   ]
  },
  {
   "cell_type": "markdown",
   "metadata": {},
   "source": [
    "# 可以考虑特征离散化 https://juejin.im/post/5c6aaf4951882562962eda1b"
   ]
  },
  {
   "cell_type": "markdown",
   "metadata": {},
   "source": [
    "#### Double check columns types and make sure they are int for calculation."
   ]
  },
  {
   "cell_type": "code",
   "execution_count": 491,
   "metadata": {},
   "outputs": [
    {
     "name": "stdout",
     "output_type": "stream",
     "text": [
      "<class 'numpy.int64'>\n",
      "<class 'numpy.int64'>\n",
      "<class 'numpy.int64'>\n",
      "<class 'numpy.int64'>\n",
      "<class 'numpy.int64'>\n",
      "<class 'numpy.int64'>\n",
      "<class 'numpy.float64'>\n"
     ]
    }
   ],
   "source": [
    "print(type(result.difficulty.iloc[0]))\n",
    "print(type(result.gasLimit.iloc[0]))\n",
    "print(type(result.gasUsed.iloc[0]))\n",
    "print(type(result.miner.iloc[0]))\n",
    "print(type(result.number.iloc[0]))\n",
    "print(type(result['size'].iloc[0]))\n",
    "print(type(result.timestamp.iloc[0]))"
   ]
  },
  {
   "cell_type": "markdown",
   "metadata": {},
   "source": [
    "#### Make sure there is no NA values."
   ]
  },
  {
   "cell_type": "code",
   "execution_count": 492,
   "metadata": {},
   "outputs": [
    {
     "data": {
      "text/plain": [
       "False"
      ]
     },
     "execution_count": 492,
     "metadata": {},
     "output_type": "execute_result"
    }
   ],
   "source": [
    "result.isnull().values.any()"
   ]
  },
  {
   "cell_type": "code",
   "execution_count": 493,
   "metadata": {},
   "outputs": [
    {
     "data": {
      "text/plain": [
       "0"
      ]
     },
     "execution_count": 493,
     "metadata": {},
     "output_type": "execute_result"
    }
   ],
   "source": [
    "result.isnull().sum().sum()"
   ]
  },
  {
   "cell_type": "code",
   "execution_count": 494,
   "metadata": {},
   "outputs": [
    {
     "data": {
      "text/plain": [
       "0"
      ]
     },
     "execution_count": 494,
     "metadata": {},
     "output_type": "execute_result"
    }
   ],
   "source": [
    "canonical_df.isnull().sum().sum()"
   ]
  },
  {
   "cell_type": "code",
   "execution_count": 495,
   "metadata": {},
   "outputs": [
    {
     "data": {
      "text/plain": [
       "0"
      ]
     },
     "execution_count": 495,
     "metadata": {},
     "output_type": "execute_result"
    }
   ],
   "source": [
    "uncle_df.isnull().sum().sum()"
   ]
  },
  {
   "cell_type": "code",
   "execution_count": 496,
   "metadata": {},
   "outputs": [
    {
     "data": {
      "text/plain": [
       "0"
      ]
     },
     "execution_count": 496,
     "metadata": {},
     "output_type": "execute_result"
    }
   ],
   "source": [
    "forked_df.isnull().sum().sum()"
   ]
  },
  {
   "cell_type": "code",
   "execution_count": 497,
   "metadata": {},
   "outputs": [
    {
     "data": {
      "text/plain": [
       "difficulty    0\n",
       "gasLimit      0\n",
       "gasUsed       0\n",
       "hash          0\n",
       "miner         0\n",
       "number        0\n",
       "size          0\n",
       "timestamp     0\n",
       "txNum         0\n",
       "uncleNum      0\n",
       "label         0\n",
       "dtype: int64"
      ]
     },
     "execution_count": 497,
     "metadata": {},
     "output_type": "execute_result"
    }
   ],
   "source": [
    "raw_broadcast_df.isnull().sum()"
   ]
  },
  {
   "cell_type": "code",
   "execution_count": 449,
   "metadata": {},
   "outputs": [
    {
     "data": {
      "text/plain": [
       "False"
      ]
     },
     "execution_count": 449,
     "metadata": {},
     "output_type": "execute_result"
    }
   ],
   "source": [
    "raw_broadcast_df.isnull().values.any()"
   ]
  },
  {
   "cell_type": "code",
   "execution_count": 450,
   "metadata": {},
   "outputs": [
    {
     "data": {
      "text/plain": [
       "(7194, 11)"
      ]
     },
     "execution_count": 450,
     "metadata": {},
     "output_type": "execute_result"
    }
   ],
   "source": [
    "raw_broadcast_df.shape"
   ]
  },
  {
   "cell_type": "code",
   "execution_count": 451,
   "metadata": {},
   "outputs": [
    {
     "data": {
      "text/plain": [
       "difficulty    0\n",
       "gasLimit      0\n",
       "gasUsed       0\n",
       "hash          0\n",
       "miner         0\n",
       "number        0\n",
       "size          0\n",
       "timestamp     0\n",
       "txNum         0\n",
       "uncleNum      0\n",
       "dtype: int64"
      ]
     },
     "execution_count": 451,
     "metadata": {},
     "output_type": "execute_result"
    }
   ],
   "source": [
    "broadcast_df.isnull().sum()"
   ]
  },
  {
   "cell_type": "code",
   "execution_count": 452,
   "metadata": {},
   "outputs": [
    {
     "data": {
      "text/plain": [
       "(404880, 10)"
      ]
     },
     "execution_count": 452,
     "metadata": {},
     "output_type": "execute_result"
    }
   ],
   "source": [
    "broadcast_df.shape"
   ]
  },
  {
   "cell_type": "markdown",
   "metadata": {},
   "source": [
    "#### Prepare Training and Testing Datasets"
   ]
  },
  {
   "cell_type": "code",
   "execution_count": 498,
   "metadata": {},
   "outputs": [],
   "source": [
    "from sklearn.model_selection import train_test_split\n",
    "\n",
    "# x = result.iloc[:, :-1]\n",
    "# y = result.iloc[:, -1]\n",
    "X_train, X_test, y_train, y_test = train_test_split(result.iloc[:, :-1], result.iloc[:, -1], test_size=0.33, random_state=42)\n",
    "\n"
   ]
  },
  {
   "cell_type": "code",
   "execution_count": 499,
   "metadata": {},
   "outputs": [
    {
     "name": "stdout",
     "output_type": "stream",
     "text": [
      "(1126913, 9)\n",
      "(1126913,)\n",
      "(555048, 9)\n",
      "(555048,)\n"
     ]
    }
   ],
   "source": [
    "print(X_train.shape)\n",
    "print(y_train.shape)\n",
    "print(X_test.shape)\n",
    "print(y_test.shape)\n"
   ]
  },
  {
   "cell_type": "markdown",
   "metadata": {},
   "source": [
    "## Step 3: Apply Models"
   ]
  },
  {
   "cell_type": "markdown",
   "metadata": {},
   "source": [
    "### Random Forest"
   ]
  },
  {
   "cell_type": "code",
   "execution_count": 500,
   "metadata": {},
   "outputs": [
    {
     "data": {
      "text/plain": [
       "RandomForestClassifier(bootstrap=True, class_weight='balanced',\n",
       "            criterion='gini', max_depth=None, max_features='auto',\n",
       "            max_leaf_nodes=None, min_impurity_decrease=0.0,\n",
       "            min_impurity_split=None, min_samples_leaf=1,\n",
       "            min_samples_split=2, min_weight_fraction_leaf=0.0,\n",
       "            n_estimators=100, n_jobs=None, oob_score=False, random_state=0,\n",
       "            verbose=0, warm_start=False)"
      ]
     },
     "execution_count": 500,
     "metadata": {},
     "output_type": "execute_result"
    }
   ],
   "source": [
    "from sklearn.ensemble import RandomForestClassifier\n",
    "from sklearn.datasets import make_classification\n",
    "\n",
    "balanced_clf = RandomForestClassifier(n_estimators=100, random_state=0, class_weight='balanced')\n",
    "balanced_clf.fit(X_train, y_train)  \n"
   ]
  },
  {
   "cell_type": "code",
   "execution_count": 501,
   "metadata": {},
   "outputs": [
    {
     "data": {
      "text/plain": [
       "array([0.02104063, 0.03144345, 0.01617707, 0.00513421, 0.18465624,\n",
       "       0.2018883 , 0.03227707, 0.50579781, 0.00158522])"
      ]
     },
     "execution_count": 501,
     "metadata": {},
     "output_type": "execute_result"
    }
   ],
   "source": [
    "balanced_clf.feature_importances_\n"
   ]
  },
  {
   "cell_type": "code",
   "execution_count": 502,
   "metadata": {},
   "outputs": [
    {
     "data": {
      "text/plain": [
       "Index(['difficulty', 'gasLimit', 'gasUsed', 'miner', 'number', 'size',\n",
       "       'timestamp', 'txNum', 'uncleNum'],\n",
       "      dtype='object')"
      ]
     },
     "execution_count": 502,
     "metadata": {},
     "output_type": "execute_result"
    }
   ],
   "source": [
    "X_train.columns\n"
   ]
  },
  {
   "cell_type": "code",
   "execution_count": 503,
   "metadata": {},
   "outputs": [],
   "source": [
    "balanced_y_pred = balanced_clf.predict(X_test)\n"
   ]
  },
  {
   "cell_type": "code",
   "execution_count": 504,
   "metadata": {},
   "outputs": [
    {
     "name": "stdout",
     "output_type": "stream",
     "text": [
      "canonical number:  47913\n",
      "non canonical number:  507135\n",
      "total number :  555048\n"
     ]
    }
   ],
   "source": [
    "print('canonical number: ', y_test.shape[0]-y_test.sum())\n",
    "print('non canonical number: ', y_test.sum())\n",
    "print('total number : ', y_test.shape[0])"
   ]
  },
  {
   "cell_type": "markdown",
   "metadata": {},
   "source": [
    "Compute confusion matrix to evaluate the accuracy of a classification\n",
    "\n",
    "By definition a confusion matrix C is such that C_i_j is equal to the number of observations known to be in group i but predicted to be in group j.\n",
    "\n",
    "Thus in binary classification, the count of true negatives is C_0_0, false negatives is C_1_0, true positives is C_1_1 and false positives is C_0_1."
   ]
  },
  {
   "cell_type": "markdown",
   "metadata": {},
   "source": [
    "**RF built-in classes balanced funciton**"
   ]
  },
  {
   "cell_type": "code",
   "execution_count": 510,
   "metadata": {},
   "outputs": [
    {
     "name": "stdout",
     "output_type": "stream",
     "text": [
      "[[ 47694    219]\n",
      " [    80 507055]]\n",
      "True Negatives (TN):  47694\n",
      "False Positives (FP):  219\n",
      "False Negatives (FN):  80\n",
      "True Positives (TP):  507055\n",
      "accuracy:  0.9994613078508525\n",
      "precision:  0.9995682806530592\n",
      "recall:  0.9998422510771293\n",
      "f1-score:  0.9997052470946137\n",
      "              precision    recall  f1-score   support\n",
      "\n",
      "           0       1.00      1.00      1.00     47913\n",
      "           1       1.00      1.00      1.00    507135\n",
      "\n",
      "   micro avg       1.00      1.00      1.00    555048\n",
      "   macro avg       1.00      1.00      1.00    555048\n",
      "weighted avg       1.00      1.00      1.00    555048\n",
      "\n"
     ]
    }
   ],
   "source": [
    "from sklearn.metrics import accuracy_score\n",
    "from sklearn.metrics import confusion_matrix\n",
    "from sklearn.metrics import classification_report \n",
    "\n",
    "balanced_c_matrix = confusion_matrix(y_test, balanced_y_pred)\n",
    "TN = balanced_c_matrix[0][0]\n",
    "FP = balanced_c_matrix[0][1]\n",
    "FN = balanced_c_matrix[1][0]\n",
    "TP = balanced_c_matrix[1][1]\n",
    "print(balanced_c_matrix)\n",
    "print('True Negatives (TN): ', balanced_c_matrix[0][0])\n",
    "print('False Positives (FP): ', balanced_c_matrix[0][1])\n",
    "print('False Negatives (FN): ', balanced_c_matrix[1][0])\n",
    "print('True Positives (TP): ', balanced_c_matrix[1][1])\n",
    "print('accuracy: ', accuracy_score(y_test, balanced_y_pred))\n",
    "precision = TP/(TP+FP)\n",
    "print('precision: ', precision)\n",
    "recall = TP/(TP+FN)\n",
    "print('recall: ', recall)\n",
    "print('f1-score: ', 2*precision*recall/(precision+recall))\n",
    "print(classification_report(y_test, balanced_y_pred))\n"
   ]
  },
  {
   "cell_type": "markdown",
   "metadata": {},
   "source": [
    "**Try Random Forest without balanced class**"
   ]
  },
  {
   "cell_type": "code",
   "execution_count": 542,
   "metadata": {},
   "outputs": [],
   "source": [
    "clf = RandomForestClassifier(n_estimators=100, random_state=0)\n",
    "clf.fit(X_train, y_train)  \n",
    "y_pred = clf.predict(X_test)"
   ]
  },
  {
   "cell_type": "code",
   "execution_count": 543,
   "metadata": {},
   "outputs": [
    {
     "name": "stdout",
     "output_type": "stream",
     "text": [
      "[0.03307112 0.03625674 0.10332798 0.00663242 0.22738274 0.16314633\n",
      " 0.01831334 0.40975264 0.0021167 ]\n",
      "Index(['difficulty', 'gasLimit', 'gasUsed', 'miner', 'number', 'size',\n",
      "       'timestamp', 'txNum', 'uncleNum'],\n",
      "      dtype='object')\n"
     ]
    }
   ],
   "source": [
    "print(clf.feature_importances_)\n",
    "print(X_train.columns)"
   ]
  },
  {
   "cell_type": "code",
   "execution_count": 513,
   "metadata": {},
   "outputs": [
    {
     "name": "stdout",
     "output_type": "stream",
     "text": [
      "[[ 47708    205]\n",
      " [    85 507050]]\n",
      "True Negatives (TN):  47708\n",
      "False Positives (FP):  205\n",
      "False Negatives (FN):  85\n",
      "True Positives (TP):  507050\n",
      "accuracy:  0.9994775226647065\n",
      "precision:  0.9995958640131689\n",
      "recall:  0.9998323917694499\n",
      "f1-score:  0.9997141139009651\n",
      "              precision    recall  f1-score   support\n",
      "\n",
      "           0       1.00      1.00      1.00     47913\n",
      "           1       1.00      1.00      1.00    507135\n",
      "\n",
      "   micro avg       1.00      1.00      1.00    555048\n",
      "   macro avg       1.00      1.00      1.00    555048\n",
      "weighted avg       1.00      1.00      1.00    555048\n",
      "\n"
     ]
    }
   ],
   "source": [
    "c_matrix = confusion_matrix(y_test, y_pred)\n",
    "TN = c_matrix[0][0]\n",
    "FP = c_matrix[0][1]\n",
    "FN = c_matrix[1][0]\n",
    "TP = c_matrix[1][1]\n",
    "print(c_matrix)\n",
    "print('True Negatives (TN): ', c_matrix[0][0])\n",
    "print('False Positives (FP): ', c_matrix[0][1])\n",
    "print('False Negatives (FN): ', c_matrix[1][0])\n",
    "print('True Positives (TP): ', c_matrix[1][1])\n",
    "print('accuracy: ', accuracy_score(y_test, y_pred))\n",
    "precision = TP/(TP+FP)\n",
    "print('precision: ', precision)\n",
    "recall = TP/(TP+FN)\n",
    "print('recall: ', recall)\n",
    "print('f1-score: ', 2*precision*recall/(precision+recall))\n",
    "print(classification_report(y_test, y_pred))\n"
   ]
  },
  {
   "cell_type": "markdown",
   "metadata": {},
   "source": [
    "**Use SMOTE to balance two classes and compare the performance**"
   ]
  },
  {
   "cell_type": "code",
   "execution_count": 516,
   "metadata": {},
   "outputs": [
    {
     "name": "stdout",
     "output_type": "stream",
     "text": [
      "Origin dataset shape Counter({1: 1030044, 0: 96869})\n",
      "Resampled dataset shape by SMOTE  Counter({1: 1030044, 0: 1030044})\n"
     ]
    }
   ],
   "source": [
    "from imblearn.over_sampling import SMOTE\n",
    "from collections import Counter\n",
    "\n",
    "sm = SMOTE()\n",
    "smote_x_train, smote_y_train = sm.fit_sample(X_train, y_train)\n",
    "print('Origin dataset shape %s' % Counter(y_train))\n",
    "print('Resampled dataset shape by SMOTE  %s' % Counter(smote_y_train))"
   ]
  },
  {
   "cell_type": "code",
   "execution_count": 518,
   "metadata": {},
   "outputs": [],
   "source": [
    "smote_clf = RandomForestClassifier(n_estimators=100, random_state=0)\n",
    "smote_clf.fit(smote_x_train, smote_y_train)  \n",
    "smote_y_pred = smote_clf.predict(X_test)"
   ]
  },
  {
   "cell_type": "code",
   "execution_count": 544,
   "metadata": {},
   "outputs": [
    {
     "name": "stdout",
     "output_type": "stream",
     "text": [
      "[0.01744899 0.04613652 0.02273799 0.00904401 0.18309235 0.16449127\n",
      " 0.06513465 0.49101418 0.00090004]\n",
      "Index(['difficulty', 'gasLimit', 'gasUsed', 'miner', 'number', 'size',\n",
      "       'timestamp', 'txNum', 'uncleNum'],\n",
      "      dtype='object')\n"
     ]
    }
   ],
   "source": [
    "print(smote_clf.feature_importances_)\n",
    "print(X_train.columns)"
   ]
  },
  {
   "cell_type": "code",
   "execution_count": 519,
   "metadata": {},
   "outputs": [
    {
     "name": "stdout",
     "output_type": "stream",
     "text": [
      "[[ 47719    194]\n",
      " [   114 507021]]\n",
      "True Negatives (TN):  47719\n",
      "False Positives (FP):  194\n",
      "False Negatives (FN):  114\n",
      "True Positives (TP):  507021\n",
      "accuracy:  0.9994450930369986\n",
      "precision:  0.9996175191979733\n",
      "recall:  0.9997752077849094\n",
      "f1-score:  0.9996963572731306\n",
      "              precision    recall  f1-score   support\n",
      "\n",
      "           0       1.00      1.00      1.00     47913\n",
      "           1       1.00      1.00      1.00    507135\n",
      "\n",
      "   micro avg       1.00      1.00      1.00    555048\n",
      "   macro avg       1.00      1.00      1.00    555048\n",
      "weighted avg       1.00      1.00      1.00    555048\n",
      "\n"
     ]
    }
   ],
   "source": [
    "smote_c_matrix = confusion_matrix(y_test, smote_y_pred)\n",
    "TN = smote_c_matrix[0][0]\n",
    "FP = smote_c_matrix[0][1]\n",
    "FN = smote_c_matrix[1][0]\n",
    "TP = smote_c_matrix[1][1]\n",
    "print(smote_c_matrix)\n",
    "print('True Negatives (TN): ', smote_c_matrix[0][0])\n",
    "print('False Positives (FP): ', smote_c_matrix[0][1])\n",
    "print('False Negatives (FN): ', smote_c_matrix[1][0])\n",
    "print('True Positives (TP): ', smote_c_matrix[1][1])\n",
    "print('accuracy: ', accuracy_score(y_test, smote_y_pred))\n",
    "precision = TP/(TP+FP)\n",
    "print('precision: ', precision)\n",
    "recall = TP/(TP+FN)\n",
    "print('recall: ', recall)\n",
    "print('f1-score: ', 2*precision*recall/(precision+recall))\n",
    "print(classification_report(y_test, smote_y_pred))\n"
   ]
  },
  {
   "cell_type": "markdown",
   "metadata": {},
   "source": [
    "**ROC**"
   ]
  },
  {
   "cell_type": "code",
   "execution_count": 523,
   "metadata": {},
   "outputs": [],
   "source": [
    "# code reference:\n",
    "# https://scikit-learn.org/stable/auto_examples/ensemble/plot_feature_transformation.html#sphx-glr-auto-examples-ensemble-plot-feature-transformation-py\n",
    "\n",
    "from sklearn.metrics import roc_curve\n",
    "import matplotlib.pyplot as plt"
   ]
  },
  {
   "cell_type": "markdown",
   "metadata": {},
   "source": [
    "**smote RF**"
   ]
  },
  {
   "cell_type": "code",
   "execution_count": 521,
   "metadata": {},
   "outputs": [],
   "source": [
    "y_pred_rf = smote_clf.predict_proba(X_test)[:, 1]\n",
    "fpr_rf, tpr_rf, _ = roc_curve(y_test, y_pred_rf)"
   ]
  },
  {
   "cell_type": "code",
   "execution_count": 524,
   "metadata": {},
   "outputs": [
    {
     "data": {
      "image/png": "[encoded data removed]",
      "text/plain": [
       "<Figure size 432x288 with 1 Axes>"
      ]
     },
     "metadata": {
      "needs_background": "light"
     },
     "output_type": "display_data"
    }
   ],
   "source": [
    "plt.figure(1)\n",
    "plt.plot([0, 1], [0, 1], 'k--')\n",
    "plt.plot(fpr_rf, tpr_rf, label='RF')\n",
    "plt.xlabel('False positive rate')\n",
    "plt.ylabel('True positive rate')\n",
    "plt.title('ROC curve')\n",
    "plt.legend(loc='best')\n",
    "plt.show()"
   ]
  },
  {
   "cell_type": "markdown",
   "metadata": {},
   "source": [
    "**RF balanced classes**"
   ]
  },
  {
   "cell_type": "code",
   "execution_count": 526,
   "metadata": {},
   "outputs": [],
   "source": [
    "balanced_y_pred_rf = balanced_clf.predict_proba(X_test)[:, 1]\n",
    "fpr_rf, tpr_rf, _ = roc_curve(y_test, balanced_y_pred_rf)"
   ]
  },
  {
   "cell_type": "code",
   "execution_count": 527,
   "metadata": {},
   "outputs": [
    {
     "data": {
      "image/png": "[encoded data removed]",
      "text/plain": [
       "<Figure size 432x288 with 1 Axes>"
      ]
     },
     "metadata": {
      "needs_background": "light"
     },
     "output_type": "display_data"
    }
   ],
   "source": [
    "plt.figure(1)\n",
    "plt.plot([0, 1], [0, 1], 'k--')\n",
    "plt.plot(fpr_rf, tpr_rf, label='RF')\n",
    "plt.xlabel('False positive rate')\n",
    "plt.ylabel('True positive rate')\n",
    "plt.title('ROC curve')\n",
    "plt.legend(loc='best')\n",
    "plt.show()"
   ]
  },
  {
   "cell_type": "markdown",
   "metadata": {},
   "source": [
    "**RF unbalanced classes**"
   ]
  },
  {
   "cell_type": "code",
   "execution_count": 528,
   "metadata": {},
   "outputs": [],
   "source": [
    "un_b_y_pred_rf = clf.predict_proba(X_test)[:, 1]\n",
    "fpr_rf, tpr_rf, _ = roc_curve(y_test, un_b_y_pred_rf)"
   ]
  },
  {
   "cell_type": "code",
   "execution_count": 529,
   "metadata": {},
   "outputs": [
    {
     "data": {
      "image/png": "[encoded data removed]",
      "text/plain": [
       "<Figure size 432x288 with 1 Axes>"
      ]
     },
     "metadata": {
      "needs_background": "light"
     },
     "output_type": "display_data"
    }
   ],
   "source": [
    "plt.figure(1)\n",
    "plt.plot([0, 1], [0, 1], 'k--')\n",
    "plt.plot(fpr_rf, tpr_rf, label='RF')\n",
    "plt.xlabel('False positive rate')\n",
    "plt.ylabel('True positive rate')\n",
    "plt.title('ROC curve')\n",
    "plt.legend(loc='best')\n",
    "plt.show()"
   ]
  },
  {
   "cell_type": "markdown",
   "metadata": {},
   "source": [
    "**We can see that three types of RFs all perform well.**"
   ]
  },
  {
   "cell_type": "markdown",
   "metadata": {},
   "source": [
    "### KNN"
   ]
  },
  {
   "cell_type": "code",
   "execution_count": 531,
   "metadata": {},
   "outputs": [
    {
     "data": {
      "text/plain": [
       "KNeighborsClassifier(algorithm='auto', leaf_size=30, metric='minkowski',\n",
       "           metric_params=None, n_jobs=None, n_neighbors=5, p=2,\n",
       "           weights='uniform')"
      ]
     },
     "execution_count": 531,
     "metadata": {},
     "output_type": "execute_result"
    }
   ],
   "source": [
    "from sklearn.neighbors import KNeighborsClassifier\n",
    "\n",
    "# neigh = KNeighborsClassifier(algorithm='ball_tree')\n",
    "neigh = KNeighborsClassifier(algorithm='auto')\n",
    "neigh.fit(X_train, y_train)"
   ]
  },
  {
   "cell_type": "code",
   "execution_count": 532,
   "metadata": {},
   "outputs": [],
   "source": [
    "y_pred = neigh.predict(X_test)"
   ]
  },
  {
   "cell_type": "code",
   "execution_count": 533,
   "metadata": {},
   "outputs": [
    {
     "name": "stdout",
     "output_type": "stream",
     "text": [
      "[[ 17866  30047]\n",
      " [  1813 505322]]\n",
      "True Negatives (TN):  17866\n",
      "False Positives (FP):  30047\n",
      "False Negatives (FN):  1813\n",
      "True Positives (TP):  505322\n",
      "accuracy:  0.9425995589570632\n",
      "precision:  0.9438760929377682\n",
      "recall:  0.9964250150354442\n",
      "f1-score:  0.9694389661814248\n",
      "              precision    recall  f1-score   support\n",
      "\n",
      "           0       0.91      0.37      0.53     47913\n",
      "           1       0.94      1.00      0.97    507135\n",
      "\n",
      "   micro avg       0.94      0.94      0.94    555048\n",
      "   macro avg       0.93      0.68      0.75    555048\n",
      "weighted avg       0.94      0.94      0.93    555048\n",
      "\n"
     ]
    },
    {
     "data": {
      "image/png": "[encoded data removed]",
      "text/plain": [
       "<Figure size 432x288 with 1 Axes>"
      ]
     },
     "metadata": {
      "needs_background": "light"
     },
     "output_type": "display_data"
    }
   ],
   "source": [
    "# confusion matrix\n",
    "c_matrix = confusion_matrix(y_test, y_pred)\n",
    "TN = c_matrix[0][0]\n",
    "FP = c_matrix[0][1]\n",
    "FN = c_matrix[1][0]\n",
    "TP = c_matrix[1][1]\n",
    "print(c_matrix)\n",
    "print('True Negatives (TN): ', c_matrix[0][0])\n",
    "print('False Positives (FP): ', c_matrix[0][1])\n",
    "print('False Negatives (FN): ', c_matrix[1][0])\n",
    "print('True Positives (TP): ', c_matrix[1][1])\n",
    "print('accuracy: ', accuracy_score(y_test, y_pred))\n",
    "precision = TP/(TP+FP)\n",
    "print('precision: ', precision)\n",
    "recall = TP/(TP+FN)\n",
    "print('recall: ', recall)\n",
    "print('f1-score: ', 2*precision*recall/(precision+recall))\n",
    "print(classification_report(y_test, y_pred))\n",
    "\n",
    "# ROC\n",
    "y_pred_rf = neigh.predict_proba(X_test)[:, 1]\n",
    "fpr_rf, tpr_rf, _ = roc_curve(y_test, y_pred_rf)\n",
    "plt.figure(1)\n",
    "plt.plot([0, 1], [0, 1], 'k--')\n",
    "plt.plot(fpr_rf, tpr_rf, label='RF')\n",
    "plt.xlabel('False positive rate')\n",
    "plt.ylabel('True positive rate')\n",
    "plt.title('ROC curve')\n",
    "plt.legend(loc='best')\n",
    "plt.show()"
   ]
  },
  {
   "cell_type": "markdown",
   "metadata": {},
   "source": [
    "**ball tree**"
   ]
  },
  {
   "cell_type": "code",
   "execution_count": 534,
   "metadata": {},
   "outputs": [
    {
     "name": "stdout",
     "output_type": "stream",
     "text": [
      "[[ 17866  30047]\n",
      " [  1813 505322]]\n",
      "True Negatives (TN):  17866\n",
      "False Positives (FP):  30047\n",
      "False Negatives (FN):  1813\n",
      "True Positives (TP):  505322\n",
      "accuracy:  0.9425995589570632\n",
      "precision:  0.9438760929377682\n",
      "recall:  0.9964250150354442\n",
      "f1-score:  0.9694389661814248\n",
      "              precision    recall  f1-score   support\n",
      "\n",
      "           0       0.91      0.37      0.53     47913\n",
      "           1       0.94      1.00      0.97    507135\n",
      "\n",
      "   micro avg       0.94      0.94      0.94    555048\n",
      "   macro avg       0.93      0.68      0.75    555048\n",
      "weighted avg       0.94      0.94      0.93    555048\n",
      "\n"
     ]
    },
    {
     "data": {
      "image/png": "[encoded data removed]",
      "text/plain": [
       "<Figure size 432x288 with 1 Axes>"
      ]
     },
     "metadata": {
      "needs_background": "light"
     },
     "output_type": "display_data"
    }
   ],
   "source": [
    "neigh = KNeighborsClassifier(algorithm='ball_tree')\n",
    "neigh.fit(X_train, y_train)\n",
    "y_pred = neigh.predict(X_test)\n",
    "# confusion matrix\n",
    "c_matrix = confusion_matrix(y_test, y_pred)\n",
    "TN = c_matrix[0][0]\n",
    "FP = c_matrix[0][1]\n",
    "FN = c_matrix[1][0]\n",
    "TP = c_matrix[1][1]\n",
    "print(c_matrix)\n",
    "print('True Negatives (TN): ', c_matrix[0][0])\n",
    "print('False Positives (FP): ', c_matrix[0][1])\n",
    "print('False Negatives (FN): ', c_matrix[1][0])\n",
    "print('True Positives (TP): ', c_matrix[1][1])\n",
    "print('accuracy: ', accuracy_score(y_test, y_pred))\n",
    "precision = TP/(TP+FP)\n",
    "print('precision: ', precision)\n",
    "recall = TP/(TP+FN)\n",
    "print('recall: ', recall)\n",
    "print('f1-score: ', 2*precision*recall/(precision+recall))\n",
    "print(classification_report(y_test, y_pred))\n",
    "\n",
    "# ROC\n",
    "y_pred_rf = neigh.predict_proba(X_test)[:, 1]\n",
    "fpr_rf, tpr_rf, _ = roc_curve(y_test, y_pred_rf)\n",
    "plt.figure(1)\n",
    "plt.plot([0, 1], [0, 1], 'k--')\n",
    "plt.plot(fpr_rf, tpr_rf, label='RF')\n",
    "plt.xlabel('False positive rate')\n",
    "plt.ylabel('True positive rate')\n",
    "plt.title('ROC curve')\n",
    "plt.legend(loc='best')\n",
    "plt.show()"
   ]
  },
  {
   "cell_type": "markdown",
   "metadata": {},
   "source": [
    "\n",
    "**loops n_neighbors, weights, leaf_size and p seperately as the variable and try to find the optimal**"
   ]
  },
  {
   "cell_type": "code",
   "execution_count": 547,
   "metadata": {},
   "outputs": [
    {
     "name": "stdout",
     "output_type": "stream",
     "text": [
      "current n neigh:  1011\n",
      "Running time: 420 seconds\n",
      "\n",
      "current n neigh:  1021\n",
      "Running time: 822 seconds\n",
      "\n",
      "current n neigh:  1031\n",
      "Running time: 1225 seconds\n",
      "\n",
      "current n neigh:  1041\n",
      "Running time: 1634 seconds\n",
      "\n",
      "current n neigh:  1051\n",
      "Running time: 2046 seconds\n",
      "\n",
      "current n neigh:  1061\n",
      "Running time: 2457 seconds\n",
      "\n",
      "current n neigh:  1071\n",
      "Running time: 2878 seconds\n",
      "\n",
      "current n neigh:  1081\n",
      "Running time: 3305 seconds\n",
      "\n",
      "current n neigh:  1091\n",
      "Running time: 3732 seconds\n",
      "\n",
      "current n neigh:  1101\n",
      "Running time: 4163 seconds\n",
      "\n"
     ]
    }
   ],
   "source": [
    "# n_neighbors \n",
    "import math\n",
    "from datetime import datetime\n",
    "\n",
    "k_size = int(math.sqrt(X_train.shape[0]))\n",
    "performance_dict = dict() #dict[n_neigh] = [confusion_matrix, y_pred_rf]\n",
    "started_at = datetime.now()\n",
    "\n",
    "for n_neigh in range(k_size-50, k_size+50, 10):\n",
    "    cur_performance = []\n",
    "    print('current n neigh: ', n_neigh)\n",
    "    neigh = KNeighborsClassifier(n_neighbors=n_neigh)\n",
    "    neigh.fit(X_train, y_train)\n",
    "    y_pred = neigh.predict(X_test)\n",
    "    # confusion matrix\n",
    "    c_matrix = confusion_matrix(y_test, y_pred)\n",
    "    # ROC prob\n",
    "    y_pred_rf = neigh.predict_proba(X_test)[:, 1]\n",
    "    \n",
    "    cur_performance.append(c_matrix)\n",
    "    cur_performance.append(y_pred_rf)\n",
    "    performance_dict[n_neigh] = cur_performance\n",
    "    print(f\"Running time: {((datetime.now() - started_at).seconds)} seconds\\n\")\n"
   ]
  },
  {
   "cell_type": "code",
   "execution_count": 550,
   "metadata": {},
   "outputs": [
    {
     "name": "stdout",
     "output_type": "stream",
     "text": [
      "[[ 17561  30352]\n",
      " [   334 506801]] [0.9248269  0.97428289 0.92779426 ... 0.93669634 0.94757666 0.93768546]\n",
      "[[ 17561  30352]\n",
      " [   334 506801]] [0.92556317 0.97453477 0.92752204 ... 0.93731636 0.94809011 0.93829579]\n",
      "[[ 17561  30352]\n",
      " [   334 506801]] [0.9243453  0.97478177 0.92531523 ... 0.93792435 0.94762367 0.93792435]\n",
      "[[ 17560  30353]\n",
      " [   334 506801]] [0.92507205 0.9740634  0.92507205 ... 0.93756004 0.9481268  0.93852065]\n",
      "[[ 17557  30356]\n",
      " [   334 506801]] [0.92578497 0.97431018 0.92578497 ... 0.93720266 0.94862036 0.93815414]\n",
      "[[ 17558  30355]\n",
      " [   335 506800]] [0.92648445 0.97455231 0.92648445 ... 0.93496701 0.94816211 0.93590952]\n",
      "[[ 17560  30353]\n",
      " [   334 506801]] [0.92717087 0.97478992 0.92623716 ... 0.93277311 0.94864613 0.93557423]\n",
      "[[ 17561  30352]\n",
      " [   335 506800]] [0.92691952 0.97502313 0.92691952 ... 0.933395   0.94819611 0.93524514]\n",
      "[[ 17564  30349]\n",
      " [   336 506799]] [0.92758937 0.97433547 0.92575619 ... 0.93217232 0.94867094 0.93308891]\n",
      "[[ 17564  30349]\n",
      " [   336 506799]] [0.92824705 0.97366031 0.92552225 ... 0.93278837 0.94913715 0.93369664]\n"
     ]
    }
   ],
   "source": [
    "for n_neigh in performance_dict:\n",
    "    print(performance_dict[n_neigh][0], performance_dict[n_neigh][1])"
   ]
  },
  {
   "cell_type": "code",
   "execution_count": null,
   "metadata": {},
   "outputs": [],
   "source": [
    "def "
   ]
  },
  {
   "cell_type": "code",
   "execution_count": null,
   "metadata": {},
   "outputs": [],
   "source": []
  },
  {
   "cell_type": "code",
   "execution_count": null,
   "metadata": {},
   "outputs": [],
   "source": []
  },
  {
   "cell_type": "code",
   "execution_count": null,
   "metadata": {},
   "outputs": [],
   "source": []
  },
  {
   "cell_type": "code",
   "execution_count": null,
   "metadata": {},
   "outputs": [],
   "source": []
  },
  {
   "cell_type": "code",
   "execution_count": null,
   "metadata": {},
   "outputs": [],
   "source": []
  },
  {
   "cell_type": "code",
   "execution_count": null,
   "metadata": {},
   "outputs": [],
   "source": []
  },
  {
   "cell_type": "code",
   "execution_count": null,
   "metadata": {},
   "outputs": [],
   "source": []
  },
  {
   "cell_type": "code",
   "execution_count": null,
   "metadata": {},
   "outputs": [],
   "source": []
  },
  {
   "cell_type": "code",
   "execution_count": 545,
   "metadata": {},
   "outputs": [
    {
     "name": "stdout",
     "output_type": "stream",
     "text": [
      "current n neigh:  1021\n",
      "Running time: 418 seconds\n",
      "\n"
     ]
    }
   ],
   "source": [
    "# n_neighbors \n",
    "\n",
    "k_size = int(math.sqrt(X_train.shape[0]))\n",
    "performance_dict = dict() #dict[n_neigh] = [confusion_matrix, y_pred_rf]\n",
    "started_at = datetime.now()\n",
    "\n",
    "\n",
    "cur_performance = []\n",
    "print('current n neigh: ', n_neigh)\n",
    "neigh = KNeighborsClassifier(n_neighbors=k_size)\n",
    "neigh.fit(X_train, y_train)\n",
    "y_pred = neigh.predict(X_test)\n",
    "# confusion matrix\n",
    "c_matrix = confusion_matrix(y_test, y_pred)\n",
    "# ROC prob\n",
    "y_pred_rf = neigh.predict_proba(X_test)[:, 1]\n",
    "\n",
    "cur_performance.append(c_matrix)\n",
    "cur_performance.append(y_pred_rf)\n",
    "performance_dict[n_neigh] = cur_performance\n",
    "print(f\"Running time: {((datetime.now() - started_at).seconds)} seconds\\n\")\n"
   ]
  },
  {
   "cell_type": "code",
   "execution_count": 546,
   "metadata": {},
   "outputs": [
    {
     "data": {
      "text/plain": [
       "{1021: [array([[ 17558,  30355],\n",
       "         [   335, 506800]]),\n",
       "  array([0.92648445, 0.97455231, 0.92648445, ..., 0.93496701, 0.94816211,\n",
       "         0.93590952])]}"
      ]
     },
     "execution_count": 546,
     "metadata": {},
     "output_type": "execute_result"
    }
   ],
   "source": [
    "performance_dict"
   ]
  },
  {
   "cell_type": "markdown",
   "metadata": {},
   "source": [
    "### Logistic Regression"
   ]
  },
  {
   "cell_type": "code",
   "execution_count": 225,
   "metadata": {},
   "outputs": [
    {
     "name": "stdout",
     "output_type": "stream",
     "text": [
      "0.8675893690240892\n"
     ]
    },
    {
     "data": {
      "text/plain": [
       "array([[518841,      0],\n",
       "       [ 79185,      0]])"
      ]
     },
     "execution_count": 225,
     "metadata": {},
     "output_type": "execute_result"
    }
   ],
   "source": [
    "from sklearn.linear_model import LogisticRegressionCV\n",
    "\n",
    "clf_lr = LogisticRegressionCV(cv=10, random_state=0, multi_class='auto').fit(X_train, y_train)\n",
    "y_pred = clf_lr.predict(X_test)\n",
    "\n",
    "print(accuracy_score(y_test, y_pred))\n",
    "confusion_matrix(y_test, y_pred)\n"
   ]
  },
  {
   "cell_type": "markdown",
   "metadata": {},
   "source": [
    "### K fold Cross Validation"
   ]
  },
  {
   "cell_type": "markdown",
   "metadata": {},
   "source": [
    "Split the original dataset into train 0.8 and test 0.2  \n",
    "Then, train dataset is used for k fold"
   ]
  },
  {
   "cell_type": "code",
   "execution_count": 226,
   "metadata": {},
   "outputs": [],
   "source": [
    "X_train, X_test, y_train, y_test = train_test_split(result.iloc[:, :-1], result.iloc[:, -1], test_size=0.2, random_state=42)\n",
    "\n"
   ]
  },
  {
   "cell_type": "code",
   "execution_count": 233,
   "metadata": {},
   "outputs": [],
   "source": [
    "# code reference:\n",
    "# https://www.kaggle.com/ynouri/random-forest-k-fold-cross-validation\n",
    "\n",
    "from sklearn import metrics\n",
    "import matplotlib.pyplot as plt\n",
    "\n",
    "def plot_roc_curve(fprs, tprs):\n",
    "    \"\"\"Plot the Receiver Operating Characteristic from a list\n",
    "    of true positive rates and false positive rates.\"\"\"\n",
    "    \n",
    "    # Initialize useful lists + the plot axes.\n",
    "    tprs_interp = []\n",
    "    aucs = []\n",
    "    mean_fpr = np.linspace(0, 1, 100)\n",
    "    f, ax = plt.subplots(figsize=(14,10))\n",
    "    \n",
    "    # Plot ROC for each K-Fold + compute AUC scores.\n",
    "    for i, (fpr, tpr) in enumerate(zip(fprs, tprs)):\n",
    "        tprs_interp.append(np.interp(mean_fpr, fpr, tpr))\n",
    "        tprs_interp[-1][0] = 0.0\n",
    "        roc_auc = metrics.auc(fpr, tpr)\n",
    "        aucs.append(roc_auc)\n",
    "        ax.plot(fpr, tpr, lw=1, alpha=0.3,\n",
    "                 label='ROC fold %d (AUC = %0.2f)' % (i, roc_auc))\n",
    "        \n",
    "    # Plot the luck line.\n",
    "    plt.plot([0, 1], [0, 1], linestyle='--', lw=2, color='r',\n",
    "             label='Luck', alpha=.8)\n",
    "    \n",
    "    # Plot the mean ROC.\n",
    "    mean_tpr = np.mean(tprs_interp, axis=0)\n",
    "    mean_tpr[-1] = 1.0\n",
    "    mean_auc = metrics.auc(mean_fpr, mean_tpr)\n",
    "    std_auc = np.std(aucs)\n",
    "    ax.plot(mean_fpr, mean_tpr, color='b',\n",
    "             label=r'Mean ROC (AUC = %0.2f $\\pm$ %0.2f)' % (mean_auc, std_auc),\n",
    "             lw=2, alpha=.8)\n",
    "    \n",
    "    # Plot the standard deviation around the mean ROC.\n",
    "    std_tpr = np.std(tprs_interp, axis=0)\n",
    "    tprs_upper = np.minimum(mean_tpr + std_tpr, 1)\n",
    "    tprs_lower = np.maximum(mean_tpr - std_tpr, 0)\n",
    "    ax.fill_between(mean_fpr, tprs_lower, tprs_upper, color='grey', alpha=.2,\n",
    "                     label=r'$\\pm$ 1 std. dev.')\n",
    "    \n",
    "    # Fine tune and show the plot.\n",
    "    ax.set_xlim([-0.05, 1.05])\n",
    "    ax.set_ylim([-0.05, 1.05])\n",
    "    ax.set_xlabel('False Positive Rate')\n",
    "    ax.set_ylabel('True Positive Rate')\n",
    "    ax.set_title('Receiver operating characteristic')\n",
    "    ax.legend(loc=\"lower right\")\n",
    "    plt.show()\n",
    "    return (f, ax)\n",
    "\n",
    "def compute_roc_auc(index):\n",
    "    y_predict = clf.predict_proba(X_train.iloc[index])[:,1]\n",
    "    fpr, tpr, thresholds = metrics.roc_curve(y_train.iloc[index], y_predict)\n",
    "    auc_score = metrics.auc(fpr, tpr)\n",
    "    return fpr, tpr, auc_score\n"
   ]
  },
  {
   "cell_type": "code",
   "execution_count": 234,
   "metadata": {},
   "outputs": [
    {
     "name": "stdout",
     "output_type": "stream",
     "text": [
      "fold 0 in process\n",
      "fitting...\n",
      "computing train roc auc...\n",
      "computing test roc auc...\n",
      "appending socres\n",
      "fold 1 in process\n",
      "fitting...\n",
      "computing train roc auc...\n",
      "computing test roc auc...\n",
      "appending socres\n",
      "fold 2 in process\n",
      "fitting...\n",
      "computing train roc auc...\n",
      "computing test roc auc...\n",
      "appending socres\n",
      "fold 3 in process\n",
      "fitting...\n",
      "computing train roc auc...\n",
      "computing test roc auc...\n",
      "appending socres\n",
      "fold 4 in process\n",
      "fitting...\n",
      "computing train roc auc...\n",
      "computing test roc auc...\n",
      "appending socres\n",
      "fold 5 in process\n",
      "fitting...\n",
      "computing train roc auc...\n",
      "computing test roc auc...\n",
      "appending socres\n",
      "fold 6 in process\n",
      "fitting...\n",
      "computing train roc auc...\n",
      "computing test roc auc...\n",
      "appending socres\n",
      "fold 7 in process\n",
      "fitting...\n",
      "computing train roc auc...\n",
      "computing test roc auc...\n",
      "appending socres\n",
      "fold 8 in process\n",
      "fitting...\n",
      "computing train roc auc...\n",
      "computing test roc auc...\n",
      "appending socres\n",
      "fold 9 in process\n",
      "fitting...\n",
      "computing train roc auc...\n",
      "computing test roc auc...\n",
      "appending socres\n"
     ]
    },
    {
     "data": {
      "image/png": "[encoded data removed]",
      "text/plain": [
       "<Figure size 1008x720 with 1 Axes>"
      ]
     },
     "metadata": {
      "needs_background": "light"
     },
     "output_type": "display_data"
    },
    {
     "data": {
      "text/html": [
       "<div>\n",
       "<style scoped>\n",
       "    .dataframe tbody tr th:only-of-type {\n",
       "        vertical-align: middle;\n",
       "    }\n",
       "\n",
       "    .dataframe tbody tr th {\n",
       "        vertical-align: top;\n",
       "    }\n",
       "\n",
       "    .dataframe thead th {\n",
       "        text-align: right;\n",
       "    }\n",
       "</style>\n",
       "<table border=\"1\" class=\"dataframe\">\n",
       "  <thead>\n",
       "    <tr style=\"text-align: right;\">\n",
       "      <th></th>\n",
       "      <th>AUC Train</th>\n",
       "      <th>AUC Test</th>\n",
       "    </tr>\n",
       "  </thead>\n",
       "  <tbody>\n",
       "    <tr>\n",
       "      <th>0</th>\n",
       "      <td>1.0</td>\n",
       "      <td>0.991634</td>\n",
       "    </tr>\n",
       "    <tr>\n",
       "      <th>1</th>\n",
       "      <td>1.0</td>\n",
       "      <td>0.991826</td>\n",
       "    </tr>\n",
       "    <tr>\n",
       "      <th>2</th>\n",
       "      <td>1.0</td>\n",
       "      <td>0.993129</td>\n",
       "    </tr>\n",
       "    <tr>\n",
       "      <th>3</th>\n",
       "      <td>1.0</td>\n",
       "      <td>0.992555</td>\n",
       "    </tr>\n",
       "    <tr>\n",
       "      <th>4</th>\n",
       "      <td>1.0</td>\n",
       "      <td>0.992065</td>\n",
       "    </tr>\n",
       "    <tr>\n",
       "      <th>5</th>\n",
       "      <td>1.0</td>\n",
       "      <td>0.992091</td>\n",
       "    </tr>\n",
       "    <tr>\n",
       "      <th>6</th>\n",
       "      <td>1.0</td>\n",
       "      <td>0.992018</td>\n",
       "    </tr>\n",
       "    <tr>\n",
       "      <th>7</th>\n",
       "      <td>1.0</td>\n",
       "      <td>0.991673</td>\n",
       "    </tr>\n",
       "    <tr>\n",
       "      <th>8</th>\n",
       "      <td>1.0</td>\n",
       "      <td>0.992071</td>\n",
       "    </tr>\n",
       "    <tr>\n",
       "      <th>9</th>\n",
       "      <td>1.0</td>\n",
       "      <td>0.992803</td>\n",
       "    </tr>\n",
       "  </tbody>\n",
       "</table>\n",
       "</div>"
      ],
      "text/plain": [
       "   AUC Train  AUC Test\n",
       "0        1.0  0.991634\n",
       "1        1.0  0.991826\n",
       "2        1.0  0.993129\n",
       "3        1.0  0.992555\n",
       "4        1.0  0.992065\n",
       "5        1.0  0.992091\n",
       "6        1.0  0.992018\n",
       "7        1.0  0.991673\n",
       "8        1.0  0.992071\n",
       "9        1.0  0.992803"
      ]
     },
     "execution_count": 234,
     "metadata": {},
     "output_type": "execute_result"
    }
   ],
   "source": [
    "from sklearn.model_selection import StratifiedKFold\n",
    "cv = StratifiedKFold(n_splits=10, random_state=123, shuffle=True)\n",
    "clf = RandomForestClassifier(n_estimators=100, random_state=0, class_weight='balanced')\n",
    "\n",
    "results = pd.DataFrame(columns=['training_score', 'test_score'])\n",
    "fprs, tprs, scores = [], [], []\n",
    "    \n",
    "for (train, test), i in zip(cv.split(X_train, y_train), range(10)):\n",
    "    print(f'fold {i} in process')\n",
    "    print('fitting...')\n",
    "    clf.fit(X_train.iloc[train], y_train.iloc[train])\n",
    "    print('computing train roc auc...')\n",
    "    _, _, auc_score_train = compute_roc_auc(train)\n",
    "    print('computing test roc auc...')\n",
    "    fpr, tpr, auc_score = compute_roc_auc(test)\n",
    "    print('appending socres')\n",
    "    scores.append((auc_score_train, auc_score))\n",
    "    fprs.append(fpr)\n",
    "    tprs.append(tpr)\n",
    "\n",
    "plot_roc_curve(fprs, tprs);\n",
    "pd.DataFrame(scores, columns=['AUC Train', 'AUC Test'])\n"
   ]
  },
  {
   "cell_type": "markdown",
   "metadata": {},
   "source": [
    "### Analyze random forest results"
   ]
  },
  {
   "cell_type": "code",
   "execution_count": 235,
   "metadata": {},
   "outputs": [
    {
     "name": "stdout",
     "output_type": "stream",
     "text": [
      "0.9875951881690762\n"
     ]
    },
    {
     "data": {
      "text/plain": [
       "array([[314178,     61],\n",
       "       [  4435,  43766]])"
      ]
     },
     "execution_count": 235,
     "metadata": {},
     "output_type": "execute_result"
    }
   ],
   "source": [
    "y_pred = clf.predict(X_test)\n",
    "print(accuracy_score(y_test, y_pred))\n",
    "confusion_matrix(y_test, y_pred)\n"
   ]
  },
  {
   "cell_type": "code",
   "execution_count": 236,
   "metadata": {},
   "outputs": [
    {
     "data": {
      "text/plain": [
       "array([0.0624846 , 0.04060229, 0.05029301, 0.06310145, 0.17272782,\n",
       "       0.41094833, 0.19984252])"
      ]
     },
     "execution_count": 236,
     "metadata": {},
     "output_type": "execute_result"
    }
   ],
   "source": [
    "clf.feature_importances_\n"
   ]
  },
  {
   "cell_type": "code",
   "execution_count": 237,
   "metadata": {},
   "outputs": [
    {
     "data": {
      "text/plain": [
       "Index(['difficulty', 'gasLimit', 'gasUsed', 'miner', 'number', 'size',\n",
       "       'timestamp'],\n",
       "      dtype='object')"
      ]
     },
     "execution_count": 237,
     "metadata": {},
     "output_type": "execute_result"
    }
   ],
   "source": [
    "X_test.columns\n"
   ]
  },
  {
   "cell_type": "code",
   "execution_count": 238,
   "metadata": {},
   "outputs": [],
   "source": [
    "import sklearn.feature_selection\n"
   ]
  },
  {
   "cell_type": "code",
   "execution_count": 239,
   "metadata": {},
   "outputs": [
    {
     "data": {
      "text/plain": [
       "(array([1.12022622e+17, 2.15258409e+09, 8.83380544e+08, 7.53259563e+05,\n",
       "        9.34132218e+09, 5.54222873e+09, 1.01753650e+10]),\n",
       " array([0., 0., 0., 0., 0., 0., 0.]))"
      ]
     },
     "execution_count": 239,
     "metadata": {},
     "output_type": "execute_result"
    }
   ],
   "source": [
    "sklearn.feature_selection.chi2(X_train, y_train)\n"
   ]
  },
  {
   "cell_type": "code",
   "execution_count": 240,
   "metadata": {},
   "outputs": [],
   "source": [
    "from sklearn.feature_selection import SelectKBest\n",
    "from sklearn.feature_selection import chi2\n"
   ]
  },
  {
   "cell_type": "code",
   "execution_count": 241,
   "metadata": {},
   "outputs": [],
   "source": [
    "kbest_model = SelectKBest(chi2, 'all').fit(X_train, y_train)\n"
   ]
  },
  {
   "cell_type": "code",
   "execution_count": 242,
   "metadata": {},
   "outputs": [
    {
     "data": {
      "text/plain": [
       "array([1.12022622e+17, 2.15258409e+09, 8.83380544e+08, 7.53259563e+05,\n",
       "       9.34132218e+09, 5.54222873e+09, 1.01753650e+10])"
      ]
     },
     "execution_count": 242,
     "metadata": {},
     "output_type": "execute_result"
    }
   ],
   "source": [
    "kbest_model.scores_\n"
   ]
  },
  {
   "cell_type": "markdown",
   "metadata": {},
   "source": [
    "### Logistic Regression with Cross Validation"
   ]
  },
  {
   "cell_type": "code",
   "execution_count": 274,
   "metadata": {},
   "outputs": [],
   "source": [
    "from sklearn.linear_model import LogisticRegressionCV\n",
    "\n",
    "clf = LogisticRegressionCV(cv=5, random_state=0, class_weight='balanced').fit(X_train, y_train)"
   ]
  },
  {
   "cell_type": "code",
   "execution_count": 275,
   "metadata": {},
   "outputs": [],
   "source": [
    "y_pred = clf.predict(X_test)"
   ]
  },
  {
   "cell_type": "code",
   "execution_count": 276,
   "metadata": {},
   "outputs": [
    {
     "data": {
      "text/plain": [
       "0.8670097119523231"
      ]
     },
     "execution_count": 276,
     "metadata": {},
     "output_type": "execute_result"
    }
   ],
   "source": [
    "accuracy_score(y_test, y_pred)"
   ]
  },
  {
   "cell_type": "code",
   "execution_count": 277,
   "metadata": {},
   "outputs": [
    {
     "data": {
      "text/plain": [
       "array([[-7.70124039e-18, -1.40602682e-25, -6.80580477e-26,\n",
       "        -2.49135962e-29, -3.43788189e-25,  1.77432499e-26,\n",
       "         4.53132585e-24]])"
      ]
     },
     "execution_count": 277,
     "metadata": {},
     "output_type": "execute_result"
    }
   ],
   "source": [
    "clf.coef_"
   ]
  },
  {
   "cell_type": "markdown",
   "metadata": {},
   "source": [
    "## Step 4: Analyze Features"
   ]
  },
  {
   "cell_type": "markdown",
   "metadata": {},
   "source": [
    "### size"
   ]
  },
  {
   "cell_type": "code",
   "execution_count": 246,
   "metadata": {},
   "outputs": [
    {
     "data": {
      "text/plain": [
       "count    1.572046e+06\n",
       "mean     2.125502e+04\n",
       "std      1.169464e+04\n",
       "min      5.180000e+02\n",
       "25%      1.273600e+04\n",
       "50%      2.236700e+04\n",
       "75%      2.981100e+04\n",
       "max      5.355760e+05\n",
       "Name: size, dtype: float64"
      ]
     },
     "execution_count": 246,
     "metadata": {},
     "output_type": "execute_result"
    }
   ],
   "source": [
    "canonical_df['size'].describe()\n"
   ]
  },
  {
   "cell_type": "code",
   "execution_count": 245,
   "metadata": {},
   "outputs": [
    {
     "data": {
      "text/plain": [
       "count    81202.000000\n",
       "mean       539.661782\n",
       "std          6.076964\n",
       "min        518.000000\n",
       "25%        538.000000\n",
       "50%        541.000000\n",
       "75%        545.000000\n",
       "max        553.000000\n",
       "Name: size, dtype: float64"
      ]
     },
     "execution_count": 245,
     "metadata": {},
     "output_type": "execute_result"
    }
   ],
   "source": [
    "uncle_df['size'].describe()\n"
   ]
  },
  {
   "cell_type": "code",
   "execution_count": 247,
   "metadata": {},
   "outputs": [
    {
     "data": {
      "text/plain": [
       "count     94483.000000\n",
       "mean      19430.001069\n",
       "std       12794.332241\n",
       "min         517.000000\n",
       "25%        8729.000000\n",
       "50%       20817.000000\n",
       "75%       29016.000000\n",
       "max      426087.000000\n",
       "Name: size, dtype: float64"
      ]
     },
     "execution_count": 247,
     "metadata": {},
     "output_type": "execute_result"
    }
   ],
   "source": [
    "forked_df['size'].describe()"
   ]
  },
  {
   "cell_type": "code",
   "execution_count": 248,
   "metadata": {},
   "outputs": [
    {
     "data": {
      "text/plain": [
       "count    6.446700e+04\n",
       "mean     1.580268e+05\n",
       "std      1.274961e+05\n",
       "min      1.054000e+03\n",
       "25%      5.890000e+04\n",
       "50%      1.565490e+05\n",
       "75%      2.429330e+05\n",
       "max      4.042178e+06\n",
       "Name: size, dtype: float64"
      ]
     },
     "execution_count": 248,
     "metadata": {},
     "output_type": "execute_result"
    }
   ],
   "source": [
    "broadcast_df['size'].describe()"
   ]
  },
  {
   "cell_type": "markdown",
   "metadata": {},
   "source": [
    "### miner"
   ]
  },
  {
   "cell_type": "markdown",
   "metadata": {},
   "source": [
    "We group miners and count their canonical blocks,   \n",
    "and then, show their performance, which is performance = canonical number / (canonical number + non canonical number)"
   ]
  },
  {
   "cell_type": "code",
   "execution_count": 252,
   "metadata": {},
   "outputs": [],
   "source": [
    "# dict['miner_addr'] = counter\n",
    "non_canonical_miner_dict = dict()  \n",
    "canonical_miner_dict = dict()\n",
    "\n",
    "# count non canonical blocks for miners\n",
    "for miner_addr in uncle_df.miner:\n",
    "    if miner_addr in non_canonical_miner_dict:\n",
    "        non_canonical_miner_dict[miner_addr] += 1\n",
    "    else:\n",
    "        non_canonical_miner_dict[miner_addr] = 1\n",
    "\n",
    "for miner_addr in forked_df.miner:\n",
    "    if miner_addr in non_canonical_miner_dict:\n",
    "        non_canonical_miner_dict[miner_addr] += 1\n",
    "    else:\n",
    "        non_canonical_miner_dict[miner_addr] = 1\n",
    "        \n",
    "for miner_addr in broadcast_df.miner:\n",
    "    if miner_addr in non_canonical_miner_dict:\n",
    "        non_canonical_miner_dict[miner_addr] += 1\n",
    "    else:\n",
    "        non_canonical_miner_dict[miner_addr] = 1\n",
    "        \n",
    "# count canonical blocks for miners\n",
    "for miner_addr in canonical_df.miner:\n",
    "    if miner_addr in canonical_miner_dict:\n",
    "        canonical_miner_dict[miner_addr] += 1\n",
    "    else:\n",
    "        canonical_miner_dict[miner_addr] = 1"
   ]
  },
  {
   "cell_type": "markdown",
   "metadata": {},
   "source": [
    "List the miners who create most non canonical blocks"
   ]
  },
  {
   "cell_type": "code",
   "execution_count": 253,
   "metadata": {},
   "outputs": [
    {
     "data": {
      "text/plain": [
       "[('0xea674fdde714fd979de3edf0f56aa9716b898ec8', 36975),\n",
       " ('0x5a0b54d5dc17e0aadc383d2db43b0a0d3e029c4c', 30266),\n",
       " ('0x52bc44d5378309ee2abf1539bf71de1b7d7be3b5', 23591),\n",
       " ('0x829bd824b016326a401d083b33d092293333a830', 20553),\n",
       " ('0xb2930b35844a230f00e51431acae96fe543a0347', 14002),\n",
       " ('', 11295),\n",
       " ('0x5A0b54D5dc17e0AadC383d2db43B0a0D3E029c4c', 9802),\n",
       " ('0xEA674fdDe714fd979de3EdF0F56AA9716B898ec8', 9492),\n",
       " ('0x52bc44d5378309EE2abF1539BF71dE1b7d7bE3b5', 7697),\n",
       " ('0x2a65aca4d5fc5b5c859090a6c34d164135398226', 6672),\n",
       " ('0x829BD824B016326A401d083B33D092293333A830', 5764),\n",
       " ('0xb2930B35844a230f00E51431aCAe96Fe543a0347', 4142),\n",
       " ('0x1b5b5906306c96b842dc03105e3b38636a4eda0b', 2869),\n",
       " ('0x4bb96091ee9d802ed039c4d1a5f6216f90f81b01', 2228),\n",
       " ('0x2a5994b501e6a560e727b6c2de5d856396aadd38', 2041),\n",
       " ('0x61c808d82a3ac53231750dadc13c777b59310bd9', 1995),\n",
       " ('0xf3b9d2c81f2b24b0fa0acaaa865b7d9ced5fc2fb', 1699),\n",
       " ('0x84a0d77c693adabe0ebc48f88b3ffff010577051', 1545),\n",
       " ('0x04668Ec2f57cC15c381b461B9fEDaB5D451c8F7F', 1545),\n",
       " ('0x09ab1303d3ccaf5f018cd511146b07a240c70294', 1494),\n",
       " ('0x9d6d492bD500DA5B33cf95A5d610a73360FcaAa0', 1478),\n",
       " ('0xAA5c4244F05c92781C4F259913319d8ba1aCF05E', 1417),\n",
       " ('0xbcdfc35b86bedf72f0cda046a3c16829a2ef41d1', 1379),\n",
       " ('0xd224ca0c819e8e97ba0136b3b95ceff503b79f53', 1336),\n",
       " ('0x35f61dfb08ada13eba64bf156b80df3d5b3a738d', 1311),\n",
       " ('0x2a65Aca4D5fC5B5C859090a6c34d164135398226', 1300),\n",
       " ('0x005e288d713a5fb3d7c9cf1b43810a98688c7223', 1253),\n",
       " ('0xaa5c4244f05c92781c4f259913319d8ba1acf05e', 1169),\n",
       " ('0x9d6d492bd500da5b33cf95a5d610a73360fcaaa0', 1125),\n",
       " ('0x1e9939daaad6924ad004c2560e90804164900341', 1098),\n",
       " ('0x52e44f279f4203dcf680395379e5f9990a69f13c', 1097),\n",
       " ('0x6a7a43be33ba930fe58f34e07d0ad6ba7adb9b1f', 1033),\n",
       " ('0x04668ec2f57cc15c381b461b9fedab5d451c8f7f', 1032),\n",
       " ('0x2a5994b501E6A560e727b6C2DE5D856396aaDd38', 1031),\n",
       " ('0x9435d50503aee35c8757ae4933f7a0ab56597805', 1030),\n",
       " ('0x4c549990a7ef3fea8784406c1eecc98bf4211fa5', 927),\n",
       " ('0x06B8C5883Ec71bC3f4B332081519f23834c8706E', 927),\n",
       " ('0x06b8c5883ec71bc3f4b332081519f23834c8706e', 926),\n",
       " ('0x858fdec2da9fa3cd3d97b8bd1af98e9249d33613', 860),\n",
       " ('0xD224cA0c819e8E97ba0136B3b95ceFf503B79f53', 838),\n",
       " ('0x005e288D713a5fB3d7c9cf1B43810A98688C7223', 741),\n",
       " ('0x464b0b37db1ee1b5fbe27300acfbf172fd5e4f53', 702),\n",
       " ('0xeea5b82b61424df8020f5fedd81767f2d0d25bfb', 676),\n",
       " ('0x09ab1303d3CcAF5f018CD511146b07A240c70294', 669),\n",
       " ('0x00192fb10df37c9fb26829eb2cc623cd1bf599e8', 606),\n",
       " ('0x002e08000acbbae2155fab7ac01929564949070d', 588),\n",
       " ('0xc0ea08a2d404d3172d2add29a45be56da40e2949', 577),\n",
       " ('0xa42af2c70d316684e57aefcc6e393fecb1c7e84e', 572),\n",
       " ('0xEEa5B82B61424dF8020f5feDD81767f2d0D25Bfb', 546),\n",
       " ('0x35F61DFB08ada13eBA64Bf156B80Df3D5B3a738d', 546),\n",
       " ('0x99c85bb64564d9ef9a99621301f22c9993cb89e3', 544),\n",
       " ('0x4C549990A7eF3FEA8784406c1EECc98bF4211fA5', 438),\n",
       " ('0x84990f5d2e09f56cabdabf6409ad31bdd8363b50', 431),\n",
       " ('0xa855c20a1351acd2690c716e2709c7dff3978d12', 423),\n",
       " ('0x44fd3ab8381cc3d14afa7c4af7fd13cdc65026e1', 421),\n",
       " ('0x70aec4b9cffa7b55c0711b82dd719049d615e21d', 404),\n",
       " ('0xcc16e3c00dbbe76603fa833ec20a48f786dfe610', 399),\n",
       " ('0x1ca43b645886c98d7eb7d27ec16ea59f509cbe1a', 376),\n",
       " ('0xb75d1e62b10e4ba91315c4aa3facc536f8a922f5', 373),\n",
       " ('0x6a7a43BE33ba930fE58F34E07D0ad6bA7ADB9B1F', 349),\n",
       " ('0x84A0d77c693aDAbE0ebc48F88b3fFFF010577051', 318),\n",
       " ('0xcC22CB1b6625b64e81909456111d76Be6158dfBc', 304),\n",
       " ('0xd4383232c8d1dbe0e03bdfab849871fa17e61807', 302),\n",
       " ('0xede16675c4aea9b5b92ce1a3750992880d83bb12', 281),\n",
       " ('0x00192Fb10dF37c9FB26829eb2CC623cd1BF599E8', 268),\n",
       " ('0xce742257c4e5ce5422dabdf83a58d994202736ac', 266),\n",
       " ('0x4a071eee72bc8664c81b62836932ed0d246da82b', 253),\n",
       " ('0x44fD3AB8381cC3d14AFa7c4aF7Fd13CdC65026E1', 242),\n",
       " ('0x1a060b0604883a99809eb3f798df71bef6c358f1', 239),\n",
       " ('0x9435D50503aeE35C8757ae4933f7a0aB56597805', 230),\n",
       " ('0x002e08000acbbaE2155Fab7AC01929564949070d', 219),\n",
       " ('0x99C85bb64564D9eF9A99621301f22C9993Cb89E3', 212),\n",
       " ('0x180ba8f73897c0cb26d76265fc7868cfd936e617', 207),\n",
       " ('0x4Bb96091Ee9D802ED039C4D1a5f6216F90f81B01', 206),\n",
       " ('0x41c74604182a1531534e6d553b49b1d78e6fa9a2', 200),\n",
       " ('0xe4bdced60430a90f31dba03524dd5d15a2670649', 200),\n",
       " ('0x6b7d50bb8fab584e54251a10e1c6cfa51dd7b618', 195),\n",
       " ('0xA855C20A1351AcD2690c716E2709C7dfF3978D12', 184),\n",
       " ('0x96338149e9f6c262d4cb7aeec1cf4c652079a11c', 177),\n",
       " ('0x464B0B37db1eE1b5Fbe27300aCFBf172fD5E4F53', 172),\n",
       " ('0x6c7f03ddfdd8a37ca267c88630a4fee958591de0', 149),\n",
       " ('0x52E44f279f4203Dcf680395379E5F9990A69f13c', 139),\n",
       " ('0x497a49648885f7aac3d761817f191ee1afaf399c', 138),\n",
       " ('0xa3c084Ae80a3f03963017669bC696E961d3aE5d5', 135),\n",
       " ('0xb8c674fa6c1cedaa25ee5679ecf5c3e452a13795', 130),\n",
       " ('0x441d463d69cb6eaa851eb6138c3efac95c86d17b', 128),\n",
       " ('0x6f24D7fC7fb17D051c25bE5dA1af150077d60FC1', 128),\n",
       " ('0xf35074bbD0a9AEE46F4Ea137971FEEC024Ab704e', 125),\n",
       " ('0x8122abd38e70a25af2315c1556b0c6940506cff5', 116),\n",
       " ('0xf35074bbd0a9aee46f4ea137971feec024ab704e', 115),\n",
       " ('0xd34da389374caad1a048fbdc4569aae33fd5a375', 111),\n",
       " ('0xd1008015aa0cf2a61493bd19de6c9ca88e934fce', 103),\n",
       " ('0xcc22cb1b6625b64e81909456111d76be6158dfbc', 102),\n",
       " ('0x3209E020B641163F5a7418A899C70f09c00Bd2Ed', 102),\n",
       " ('0xadf055c6222d75c5f7fe90e021f481e8c55f0afd', 101),\n",
       " ('0x73b8865eda227d6fffabc83c78124dea8c347fea', 99),\n",
       " ('0x5928E011c3B8fc8bEf32d5B86A19F2A54c5BE654', 99),\n",
       " ('0x8fce1ef27f3add1411c7a99be402de598ad38389', 98),\n",
       " ('0x2Cb463e0803dA5f24e96B998C2388567921d1725', 92),\n",
       " ('0x5be1bfc0b1f01f32178d46abf70bb5ff5c4e425a', 87),\n",
       " ('0x1CA43B645886C98d7Eb7d27ec16Ea59f509CBe1a', 85),\n",
       " ('0x41c74604182A1531534E6d553B49b1D78e6fa9A2', 85),\n",
       " ('0xab7f2baf977f02beb242af077a51ce9fa2cf83d2', 84),\n",
       " ('0xEDE16675c4Aea9B5b92cE1A3750992880d83bb12', 83),\n",
       " ('0x8fCe1EF27f3ADD1411c7a99BE402De598ad38389', 82),\n",
       " ('0x11905bD0863BA579023f662d1935E39d0C671933', 81),\n",
       " ('0x6f24d7fc7fb17d051c25be5da1af150077d60fc1', 78),\n",
       " ('0x6e8583b7b062b38851e3fc9f09346e920bdfb9d4', 75),\n",
       " ('0x625a083bee9e6f0fd756e79880b26b955826702c', 75),\n",
       " ('0x11905bd0863ba579023f662d1935e39d0c671933', 74),\n",
       " ('0x433022c4066558e7a32d850f02d2da5ca782174d', 72),\n",
       " ('0x6c3183792fbb4a4dd276451af6baf5c66d5f5e48', 71),\n",
       " ('0xfa927f196a46067ca3aee3edcaaabce7ef77bb26', 70),\n",
       " ('0x2ea1e928e4af14910e141896ece96c812094e3f9', 69),\n",
       " ('0xb8f82b073479c9afe33463852d7778554a405453', 65),\n",
       " ('0xa4aaf1d8dca32196f26c157a690a85c71b387f0d', 64),\n",
       " ('0x6cafe7473925998db07a497ac3fd10405637a46d', 62),\n",
       " ('0xff1b891969773159366ab6310ff63A69AC4ACFFd', 60),\n",
       " ('0xa3c084ae80a3f03963017669bc696e961d3ae5d5', 57),\n",
       " ('0x90e4be5cd24970a87e23e281f3ad40a89558b433', 56),\n",
       " ('0x914d0e134b92986a55e49cc23ddf39ec6d971dcd', 56),\n",
       " ('0xD1008015aA0Cf2a61493Bd19dE6C9ca88E934FCe', 56),\n",
       " ('0x30b6ef1ea77dc4e114c6a7865869b932503f4e6d', 53),\n",
       " ('0x96338149E9f6c262D4CB7aeec1CF4c652079a11C', 53),\n",
       " ('0x6C3183792fbb4A4dD276451Af6BAF5c66D5F5e48', 51),\n",
       " ('0x92e3f585ab699445fd7a809b5edf0c3dc88fb549', 50),\n",
       " ('0x6a851246689eb8fc77a9bf68df5860f13f679fa0', 49),\n",
       " ('0xc0fe5c137587fa8ecaa8d0ba2910ee00bab8d7f5', 49),\n",
       " ('0x215c86bc952b0d98c4b2313a0a9ae56fa33c7f5d', 49),\n",
       " ('0xD144E30a0571AAF0d0C050070AC435debA461Fab', 49),\n",
       " ('0xa027231f42c80ca4125b5cb962a21cd4f812e88f', 47),\n",
       " ('0xa9a926bed50dc038b20bb20de361e4c35aae51fc', 46),\n",
       " ('0xff1b891969773159366ab6310ff63a69ac4acffd', 44),\n",
       " ('0x40ce7569d555dbf939e58867be78fd76142df821', 44),\n",
       " ('0x433022C4066558E7a32D850F02d2da5cA782174D', 44),\n",
       " ('0x463f3bc8186c43b449c8b31dc9a89e6ea8439202', 43),\n",
       " ('0x7a1458f33122080819a2483f2a16034cd8cb0b95', 41),\n",
       " ('0x5cecd1f7261e1f4c684e297be3edf03b825e01c4', 41),\n",
       " ('0xB8C674fA6C1CeDaA25Ee5679Ecf5C3e452A13795', 41),\n",
       " ('0x249bdb4499bd7c683664C149276C1D86108E2137', 40),\n",
       " ('0x6a851246689EB8fC77a9bF68Df5860f13f679fA0', 39),\n",
       " ('0xd144e30a0571aaf0d0c050070ac435deba461fab', 35),\n",
       " ('0x8d35067233605bef6069191ae0922d134ff80d48', 35),\n",
       " ('0xdc3f366882d53c6d5eb808018acfd1cfaa7ee455', 34),\n",
       " ('0xddd920d3755205a9d018963c97e8851d33152dd5', 32),\n",
       " ('0x497A49648885f7aaC3d761817F191ee1AFAF399C', 32),\n",
       " ('0x16545fb79dbee1ad3a7f868b7661c023f372d5de', 31),\n",
       " ('0xd3d038bcb4f2450c592381f8bb4bee860532ee9d', 31),\n",
       " ('0x7759031caf64c691213020e23096078915077d3d', 30),\n",
       " ('0x0501b62d81a3f072f1d393d2f74013bab8d36d5c', 30),\n",
       " ('0xf78465bce3c4620fd124c67d523d2ab80a76c0d8', 28),\n",
       " ('0x2cb463e0803da5f24e96b998c2388567921d1725', 28),\n",
       " ('0xbf23b68ff20c411be5658595612f873d785f12d7', 28),\n",
       " ('0xd9580260be45c3c0c2fb259a82f219b513054012', 28),\n",
       " ('0x7c6694032b4db11ac485e1cff0f7509d58b41569', 27),\n",
       " ('0x9b6e98d7fe6ba17587539c5cdd24ef282f5122e2', 25),\n",
       " ('0xAC4b9729Cfb42EC0379db62767e268cb93504D55', 25),\n",
       " ('0xDf7D7e053933b5cC24372f878c90E62dADAD5d42', 25),\n",
       " ('0xcc4b9f070005334306386e04e5b04d001ed7e068', 24),\n",
       " ('0x0f06d283513504c261ff789f33df1d93e9a5225c', 24),\n",
       " ('0x95d41a6ecd6c36abdc584ac87de5b454281cb2c1', 23),\n",
       " ('0xaDf055c6222D75C5F7fE90e021F481e8c55f0aFD', 23),\n",
       " ('0x51c335a397bbfbdaf5c4482d50f5cd23b95cb0f0', 22),\n",
       " ('0x61bb630d3b2e8eda0fc1d50f9f958ec02e3969f6', 21),\n",
       " ('0x37f92397adeb25a9c57b8593cd8369e0d8b7d5c6', 21),\n",
       " ('0x2724ad5bdf8c91dc2bdc1c0dbf395f7fa389e223', 21),\n",
       " ('0x3c75e10e9cd95cff212460b45aba93c9e3d0c964', 19),\n",
       " ('0xe8baa417ae28c39f723ddf9fc4e4f3b28f5d9f6b', 17),\n",
       " ('0xF616d8d43635098d7A145d8Bc5418d95d6A3D8c0', 17),\n",
       " ('0xa150D46f386610e7468C8bCDD3a64316e06203e0', 17),\n",
       " ('0xd7a15baeb7ea05c9660cbe03fb7999c2c2e57625', 16),\n",
       " ('0x06a641f1274fe79624b8484ac59988edc557d834', 16),\n",
       " ('0x9ad47b64f333fb2e313ee7828e11bef01aa8c2de', 16),\n",
       " ('0xae691e15be544649bd9a6cce24c318210f3984d8', 16),\n",
       " ('0x2b128ba01b39209b972faf23e956405b4189da2e', 16),\n",
       " ('0x61056c663bb78e9ef997a559ad621ddad11510bd', 16),\n",
       " ('0x535d56aa2cd8f945f05a6c498ac2e6e0bf7faa61', 15),\n",
       " ('0x94ce84a93056cca150d4436d3f7e9b20d6a9a2f7', 15),\n",
       " ('0x65c748e146d83c189d9af9eb0e98a657898633da', 15),\n",
       " ('0x4894a542053248e0c504e3def2048c08f73e1ca6', 15),\n",
       " ('0xd380a3fa09c781f3b1b4545dd04048c4a4ee636d', 15),\n",
       " ('0x6bbe0a82d06af41b97a49b1b9f0bc7d3cfcc11c0', 15),\n",
       " ('0xa39b0ff4c3413db472d62a12a7a474544b58bc25', 15),\n",
       " ('0x9EAb4b0fC468A7f5D46228bf5a76cB52370d068D', 15),\n",
       " ('0xe16263eE79b0Ee32c242C99f02559E92ABAEA9eB', 15),\n",
       " ('0x20c3064bb37c53104b4929b25be0eCeD6A3Ba711', 15),\n",
       " ('0xac4b9729cfb42ec0379db62767e268cb93504d55', 14),\n",
       " ('0xa2feb87cb3ca94ea27f45ca30069f15279e143f4', 14),\n",
       " ('0x6aBd39fB5b851B8a5f913DB74D1E6dc242cB4f17', 14),\n",
       " ('0xD76534f5619856e13e8540caD2d586033600c5af', 14),\n",
       " ('0xd0db3c9cf4029bac5a9ed216cd174cba5dbf047c', 13),\n",
       " ('0x3f14cb4f670008ac92efa364ddd72bce118a3af6', 13),\n",
       " ('0x3209e020b641163f5a7418a899c70f09c00bd2ed', 13),\n",
       " ('0x72a5345c4c17b6989706d171139551d7258d3f01', 13),\n",
       " ('0xf914Dc3CDd0Db7B1E8B8770933807315ADA2A032', 13),\n",
       " ('0x2A98776C7e13Ed1c240858Bd241DCF95FC1928b4', 13),\n",
       " ('0x1a496ef4a87299c3fa2da155f581242a1d0d40de', 12),\n",
       " ('0xe7a5f5e5b41f4113dcd16fb797d0f3071b8fcb6c', 12),\n",
       " ('0x6f1a31878405f2422372d838282a83f64e216f51', 12),\n",
       " ('0x4e4e23ac3c11789e23169025503ea4373b01417b', 12),\n",
       " ('0x5BE1bfC0b1F01F32178d46ABf70BB5FF5C4E425a', 12),\n",
       " ('0xF3A71CC1BE5CE833C471E3F25aA391f9cd56E1AA', 12),\n",
       " ('0xc015dc8b1952dc379b820e0ffd8220ca74566113', 11),\n",
       " ('0x249bdb4499bd7c683664c149276c1d86108e2137', 11),\n",
       " ('0x4c10a52647e8ee35a166cef8aa5b01e3c4e267b0', 11),\n",
       " ('0xe4e359702a4ab1f9c7b2f1a4da8064492ec1d41a', 11),\n",
       " ('0x83ff764ee42b39a0c06d992f5e1e683f44690dbd', 11),\n",
       " ('0x031ad097a5A0cc323731eDFE55Ea13806300Ea57', 11),\n",
       " ('0xA90F72d6D08082fc3A40b52b163607EBDD778F79', 11),\n",
       " ('0xd5bbb4264b70ca4f58c45d27b9d7e11190754a54', 10),\n",
       " ('0x4b38a1f9c1a580fe29f150d738eac85ba52569ad', 10),\n",
       " ('0xc1933e06b25ce4192384d36fbd1dd2eb014d6255', 10),\n",
       " ('0x6cd82f055e7fe2673e61f22e0292caeefd88249d', 10),\n",
       " ('0x8727716b7f5b5b9d2febcf3612289064b4e687a5', 10),\n",
       " ('0xf3753d1d41cfa08a605089cd666fe1e011a3ea6e', 10),\n",
       " ('0xc1518ebbaf1a9b6aeb98e4c59c659b95128fd72b', 10),\n",
       " ('0xfe05a3e72235c9f92fd9f1282f51a8154d6d342b', 9),\n",
       " ('0x63e8943f2edb9d670f1d971a335e16031d1c55d2', 9),\n",
       " ('0x05b71e90d9f3da4d8b61484560df89063f398fc9', 9),\n",
       " ('0x96b27bc6ca335437b36f72ce1990322a81872378', 9),\n",
       " ('0xe3a8371fbc76dbe536aee1ab03d975c1bae60dce', 9),\n",
       " ('0xd7b15eda48fa5caa2b6bc48f064fda57d76f480f', 9),\n",
       " ('0x11A73B18557944fBDe9f41C0c436069f870Bd2eb', 9),\n",
       " ('0x0ab3f8af360908beabde0a1354b52af334b8b078', 8),\n",
       " ('0x06328211d9ee493e0c02234650f9ee55dd4d164e', 8),\n",
       " ('0x6b4afbc48f4d6564fe7b2ef80f256a6567ed155e', 8),\n",
       " ('0x2eed220881a71f485f244228d2b89b2cbf1b4ffb', 8),\n",
       " ('0x00ff662dedf49679e5d8391f2280e52500570900', 8),\n",
       " ('0x071cc3d8ac987ae7beb9e422d50a2d6bbffa95fc', 8),\n",
       " ('0xc18b04165707b3dde66280902c1ccf5c9e44360b', 8),\n",
       " ('0xf139f57ee08f3f7f02a6f0cebffe14147635ea2f', 8),\n",
       " ('0x336686f25e2e645cc2fae32e865989652afa1fd2', 8),\n",
       " ('0xa1aB57aB70C572eacB1B3363742162173460D1CE', 8),\n",
       " ('0xcF0e04Cc0B8fcD66F42679BCE42BF2569F438234', 8),\n",
       " ('0x9841316fd9fc5bad84fc4e22a0b5a2b4a107ac0c', 7),\n",
       " ('0xbbf3ce0e1470ce42d5e4c914dce63f3701b136e0', 7),\n",
       " ('0x8bf932fb121c3c278d62ad4d36fad2fc03a14bce', 7),\n",
       " ('0xdcdc7beb7e4287c35639bdaca6594304bee78d0f', 7),\n",
       " ('0x138ad256e99d8818fd4305d12e6f7ea0aac09d59', 7),\n",
       " ('0x5c8bf7d294b002c52bd0ba0fb480c7b30d6a0fb2', 7),\n",
       " ('0xd9cf7b0caa65abb591da07237bb3d0686f3206e3', 7),\n",
       " ('0x8939be10f3612763f41f92c8f73d7420a2507fb4', 6),\n",
       " ('0x88d00f8b951faffd9c70ae047f56f2dc17e56948', 6),\n",
       " ('0x738db714c08b8a32a29e0e68af00215079aa9c5c', 6),\n",
       " ('0x7b818b805ac3a94e74e5d417f5871ca0a53fd04d', 6),\n",
       " ('0xb6b12f9f4ed7c57be24b08f69155e7862865dc20', 6),\n",
       " ('0x3e8702685ed7826a55acb1c6eb4a6d74638d165c', 6),\n",
       " ('0xb6cf40aee9990c25d7d6193952af222e120b31c2', 6),\n",
       " ('0x1C0FA194a9d3B44313DCD849F3C6be6Ad270a0A4', 6),\n",
       " ('0xac34420c1A657273bBa4927be3F2552A082cA918', 6),\n",
       " ('0x2A6c70A06303E6f2e24B75Bc024f1a29C06FF5C2', 6),\n",
       " ('0x7dc36b4135e08901bfc73c536Ba93181de4c8c5D', 6),\n",
       " ('0x5af8996e209f1f04daf499da643eb14973d39253', 5),\n",
       " ('0x804a55a05fdab06831d6ac11e9ca41fcfba1a8bf', 5),\n",
       " ('0x83cc5d2ca391d011356c6d07228907f3c0f13f54', 5),\n",
       " ('0xbb7b8287f3f0a933474a79eae42cbca977791171', 5),\n",
       " ('0x86d45aa4fc73dfe4c0d2da846045310d5e6d98de', 5),\n",
       " ('0x3f0bd44141507def573177aa619913bc036a8b0b', 5),\n",
       " ('0x62e1dfd5390374f2b17a83aeb0373bfb9b4a17b4', 5),\n",
       " ('0x00a86233f4d65f4018ca7f8626b96ce72af05a7c', 5),\n",
       " ('0x36da475cb5df0fdf780e09a4a87455e9ff0c31c4', 5),\n",
       " ('0x31804665a40dfac9015c0ebb85ee667d63d4f587', 5),\n",
       " ('0xf616d8d43635098d7a145d8bc5418d95d6a3d8c0', 5),\n",
       " ('0x31022eF89D44e44c91B6E045e39086319eBd82aE', 5),\n",
       " ('0xDF78b2E254B45c1Ef20074beC0fa6c4efc8E94F0', 5),\n",
       " ('0x07d675f7610398202a807Cf91E1dDAcC9B01b45b', 5),\n",
       " ('0x1230Bda14820afca3A65A55D428ffe00257e9633', 5),\n",
       " ('0x28974b4a92e7be907418722b37446f2eb60184cc', 4),\n",
       " ('0xa150d46f386610e7468c8bcdd3a64316e06203e0', 4),\n",
       " ('0xc6b84914dd0e0d64962e2f0d99bcae4e4a2daf8a', 4),\n",
       " ('0xc16e30c2c6481ae838d16afda42b95ea7d6cb90a', 4),\n",
       " ('0x38a9c479bb97a8f8d08d5f839a5faabb15093055', 4),\n",
       " ('0x7668ed190097ee715663680268f665dda216a6ef', 4),\n",
       " ('0x790b8a3ce86e707ed0ed32bf89b3269692a23cc1', 4),\n",
       " ('0x13a06d3dfe21e0db5c016c03ea7d2509f7f8d1e3', 4),\n",
       " ('0x963d8954ce74b6004cdb2d03b1827484f4cd0d21', 4),\n",
       " ('0x3763e6e1228bfeab94191c856412d1bb0a8e6996', 4),\n",
       " ('0xea70c281e83db1995f7fe63e6399ced96f997a3e', 4),\n",
       " ('0x692f98dcc6a912f1273e8222640b3ee589a86e67', 4),\n",
       " ('0xa837c07c0fa74df46e3759e14cb7647480e84ec0', 4),\n",
       " ('0xf97bcb15908c0fd6d021044e77c0330e476d72fc', 4),\n",
       " ('0xbc1b320d2d94cee41652fd964aaa19ff4c6f2c52', 4),\n",
       " ('0x51ba806563ce301c741db8ed4f0dc5aed9b6fa25', 4),\n",
       " ('0x5493470f859e1571e30ffd9c4ec95d6faa689162', 4),\n",
       " ('0xe24deba4700ef1b07722d21c4b35d85c2aafb8b7', 4),\n",
       " ('0xa2690d72d6c932ae7aa1cc0de48aeabbdcaf2799', 4),\n",
       " ('0x6ad8f33ca48d79748b517154bc92d5fced294c01', 4),\n",
       " ('0x6E8583b7b062B38851e3Fc9F09346E920bDfB9D4', 4),\n",
       " ('0x8122ABd38e70a25Af2315C1556b0c6940506CfF5', 4),\n",
       " ('0x2575188Aa6fab4D7Dd948544039B4231CF20baDd', 4),\n",
       " ('0xCDCF491606DCa4F080987Da8b9E4951368572F01', 4),\n",
       " ('0xc519E5aa49E8a420140a008F4115161D6a73CF83', 4),\n",
       " ('0x491BB642B20db983D2d5E2A37C7fCC5DD85eb5ae', 4),\n",
       " ('0x24D19a703D66b8C2D93496CdEaD75FD0FE0F4775', 4),\n",
       " ('0x5a820fDbD4a4756384392F08feAb5df145db5Eb9', 4),\n",
       " ('0x0B85D03fAF9d4105D41d800000f58876e69692a7', 4),\n",
       " ('0x8e59176cd996342da6fdf20c85cb02bca095d552', 3),\n",
       " ('0xd9ee4d08a86b430544254ff95e32aa6fcc1d3163', 3),\n",
       " ('0xf3a71cc1be5ce833c471e3f25aa391f9cd56e1aa', 3),\n",
       " ('0x74e93dce97fd5048210afae069d2bf08202540ec', 3),\n",
       " ('0x59888b29a47af6b524debf3ebf916bfbc2ddf89d', 3),\n",
       " ('0x135609342b1233fd80de415827f093f71eb439c2', 3),\n",
       " ('0xe16263ee79b0ee32c242c99f02559e92abaea9eb', 3),\n",
       " ('0x95581ea0c5b362933f3523138f54d51eae817211', 3),\n",
       " ('0xc4acb1ba2c18be7294fbdc6e7b36988c059b67e2', 3),\n",
       " ('0x0d0c9855c722ff0c78f21e43aa275a5b8ea60dce', 3),\n",
       " ('0x017256827656fb61791c2f0b28c73f9d51c5b34a', 3),\n",
       " ('0xf12cf342cfe295260effd2e62c838a13c803f012', 3),\n",
       " ('0xcd2fa1c2d93a3c4290ff05e88fef1c5f7c67c792', 3),\n",
       " ('0xc5625ae31faad0100d2e408504b5ebbaa6412e83', 3),\n",
       " ('0xbac747e84d53e1a264bc4d03133b5800aa6c0d23', 3),\n",
       " ('0xe987cb8685cd8eb21a2dc6673b3d76bf70968780', 3),\n",
       " ('0xe487d39625d2dee190a59f2bf1ff771009d44d38', 3),\n",
       " ('0x0cd08b413d7d611f12ce5251ebe3f8a60b0f0287', 3),\n",
       " ('0xfbb9a2ef93d9629a0aa074456e6dbac8839062ec', 3),\n",
       " ('0x2a98776c7e13ed1c240858bd241dcf95fc1928b4', 3),\n",
       " ('0x1Ca593136E953b9a5994263f4ddb6d3c59B30675', 3),\n",
       " ('0x004730417CD2B1D19f6bE2679906dEd4fA8A64e2', 3),\n",
       " ('0x0E0ca7a30aC7eecDc9B87cB19F52f6c053aF2A86', 3),\n",
       " ('0xD7a15BAEB7EA05C9660CBe03fB7999c2C2e57625', 3),\n",
       " ('0x58af3f3797861fba4a5e5de621fa2c15807d0487', 2),\n",
       " ('0xa86b9e4c83ac93266bf31520ac8e16bdee9f923f', 2),\n",
       " ('0x0f382b6693a54666c0a12b1cc20f9f48e21da7a2', 2),\n",
       " ('0xa9876a54cc0854317115e7b8260973e20bd44a2d', 2),\n",
       " ('0x02af4731eb5cc2c218b470e4c22f4661637e4bc0', 2),\n",
       " ('0x74d5a000983d8c4a37041ad065abc09b5c9fe94d', 2),\n",
       " ('0x7eac6f940a0ea1b2b52932b9ded7b1eb45eda414', 2),\n",
       " ('0xadd823f3b2a13fa365f03d8d59ac3f017b15db02', 2),\n",
       " ('0xad33bb4d1e56875c97ff1651dfe21c542602a763', 2),\n",
       " ('0xcab27fc3916e28663f36fc6dcdbe087008f9c5a4', 2),\n",
       " ('0xaab5f6870d6c1973a4bfc6cc11c683870788bbec', 2),\n",
       " ('0xe2fe6b13287f28e193333fdfe7fedf2f6df6124a', 2),\n",
       " ('0xb35848338704f8f921bec8c747a8e15f4d343860', 2),\n",
       " ('0x8a54862e08d0c2ee3bafc034a4f6db88f18608b3', 2),\n",
       " ('0xe4d83b42fa10fdb38dfa3a35db6085074cf47125', 2),\n",
       " ('0x9dd134d14d1e65f84b706d6f205cd5b1cd03a46b', 2),\n",
       " ('0x3f4e874d4218ce28709524e05bcbf946b7d8a1b8', 2),\n",
       " ('0x3e579e2c220ef6eaef7fbd3fc705a2b8642e0d20', 2),\n",
       " ('0x7b49fe515e027f80cc93a9d6db6e3c5aaca91917', 2),\n",
       " ('0xeb5421a34c1425ab0124bdbfd6697b106faa82d4', 2),\n",
       " ('0x322f3ef03a63b0681d35ad3273ff69d1ca8601ae', 2),\n",
       " ('0xdc3e78fdc5a2784dead276ba114ca8b6c3465ded', 2),\n",
       " ('0x06a0689e554213f5b960a2aa6fb8956547698c5e', 2),\n",
       " ('0x9a85c77f4bafe52b3acac6407ceef3f3965b22f0', 2),\n",
       " ('0x007944eaf77e851e2fe68a4abc183579455b2c52', 2),\n",
       " ('0x0037810da3d73488c1874ba557946873aa472880', 2),\n",
       " ('0x246e8b6ad8e91fa464f5895a8482314a44bafee2', 2),\n",
       " ('0xb3abc42edc86234ca7e4bc63a1423fd58bbe2609', 2),\n",
       " ('0x31b5c2ac2cd8947488bae5edfb468b337b398b9a', 2),\n",
       " ('0xea5da323a34cdaecbdfcfc9e09eb2c6538f1081a', 2),\n",
       " ('0x0019405887ce7cdf99075c2fa41dae0dda1ea596', 2),\n",
       " ('0x00d29bfdf5f8d2d0466da4b948f37692ca50867a', 2),\n",
       " ('0xa89648695a0a04a5bf3acc51b607660653d2b3e5', 2),\n",
       " ('0xdae0c7733682941ea9b8e75df890c60c2026b4ef', 2),\n",
       " ('0xc799c0149c3020835039a0a8b3f9d758cc3c0cae', 2),\n",
       " ('0xc25b3364b86105d17fd4dfcdf4b006773d3864ff', 2),\n",
       " ('0xf60fda6905b7687e523677cb9f8eb7afcfc9dd0e', 2),\n",
       " ('0x7e618a59d30f6151b47d3be03e04e89e3a3a8793', 2),\n",
       " ('0xaea6edcde9206a8c7f3e0505aab566e5e2f3085b', 2),\n",
       " ('0xaca4393004d681a9bf391a0fc51e61e029690cda', 2),\n",
       " ('0xffb1aad73113f02651f750b86ba5fa998c9f4b75', 2),\n",
       " ('0xa60b4d12d7789b68483429dc1b659aa4c0bb6bc2', 2),\n",
       " ('0x6537b65a50a862391515455272f9b6c7168afe94', 2),\n",
       " ('0x46e34fdb1ee528811a2e7e0728fd49aec3f57832', 2),\n",
       " ('0x0317c82fff6e10d9fb4691beaf9934185534f364', 2),\n",
       " ('0x938a575cfef8880e0c3c759a594773e497fe13d2', 2),\n",
       " ('0x8f3fc91130a01d7651d5fceb1c55814adf6bec52', 2),\n",
       " ('0x11a73b18557944fbde9f41c0c436069f870bd2eb', 2),\n",
       " ('0x50A54c7cB00eF3E41de63d8cbB59f81a2Fd785Dd', 2),\n",
       " ('0xfBb9a2Ef93D9629a0aa074456e6dBAc8839062Ec', 2),\n",
       " ('0x0073Cf1B9230cF3EE8Cab1971B8DbeF21eA7B595', 2),\n",
       " ('0x0A0b2D61f47E4e5f53Eb29c52ac173933F7442b8', 2),\n",
       " ('0x4b0ae4358d39EB0d4032082da682db68Bd53FcA6', 2),\n",
       " ('0x093A0Ed738B65ed34f2A37a2D44c5e3Cd0D0DD45', 2),\n",
       " ('0x1Fb13e4e0A238DDBd2D2a5cCdb5b5e9E6a728e1e', 2),\n",
       " ('0xab39aee96a58cabd846352f7a8b05d6788e4bc9f', 1),\n",
       " ('0x09e76074fa4e2d100d14d54c45a5558567d80c28', 1),\n",
       " ('0xb8cba5b46b78ea289c041dd2a48d2ccee293bd53', 1),\n",
       " ('0x97f20793454ea470cf980ae8a0856b1661d7dc1a', 1),\n",
       " ('0x2b9991cad9377937757cc16b3f78af9ec9147eec', 1),\n",
       " ('0x825a97b927e2cc770b1c0fd3341aab150fbf23a5', 1),\n",
       " ('0xeb70819c9479950b780544f5e5f208f50c95bdfd', 1),\n",
       " ('0x5b6f235fdd9858cf54d4701dd916fd756872df19', 1),\n",
       " ('0x66faba4315a850f9fe751f8a92e7ad19de0be903', 1),\n",
       " ('0x8aa463112314905620d0b8ce192c2261c282ca1b', 1),\n",
       " ('0xa0871d982f60cc5e8f85f755d5374b16c134d193', 1),\n",
       " ('0x02d480abd11deddcf7477c7194df0f35b0925bd5', 1),\n",
       " ('0xeb29cf9431c59ab5f7ecace5f69cd8a8c2a1efa9', 1),\n",
       " ('0x09224827a1384c3a778a7d48dcfc9d3ef2f4a193', 1),\n",
       " ('0x0864b3452ee338ab13b59cf9e89bf1cf707972be', 1),\n",
       " ('0x6f07fa1486034d057ac79687082ca4b258c3982e', 1),\n",
       " ('0x7d352d32227f7296bb2c8296c7a81c2c967d3b22', 1),\n",
       " ('0x5938e3cdc9aaa1bc667735676fe4bd7a3ec37aba', 1),\n",
       " ('0x1bdcfa32e31ed58e951212019e582083b91942d4', 1),\n",
       " ('0x2cb7caffdc0a6cb87d340071ced95b47ed676402', 1),\n",
       " ('0x864be7a79fb74b41b2c07bd0e1715dd843fc20db', 1),\n",
       " ('0xfa59eab1769dfe9378226fa1c65ba0419218f9a2', 1),\n",
       " ('0x40ce42eeceff97ed89209fccc0a54ff978d45a2c', 1),\n",
       " ('0x5d56361e68bb9d6441c91d0ef4fd20bb9055f9c4', 1),\n",
       " ('0x6619e22317cdb2d97e32fb2650392fb2d31e3c10', 1),\n",
       " ('0x376026b5d29055ac0a3a0ead8cfb12af5a49ef06', 1),\n",
       " ('0x3b670df9fbc5866ee356b426361d57911f1da682', 1),\n",
       " ('0x7ee1cc30f12731068b31c440512b8aaa44277ab7', 1),\n",
       " ('0x825ea1a16e750b7bc81dea61ab28b225c026c754', 1),\n",
       " ('0x6b9142cc3addbd98e82e6a92cca73933ac6b0b16', 1),\n",
       " ('0xd1e56c2e765180aa0371928fd4d1e41fbcda34d4', 1),\n",
       " ('0xc5ceedc2015bd22a82840644a5882eee7393b397', 1),\n",
       " ('0x727a42a8d67fcaa0ab81d46f1ee66bfc9b8789ac', 1),\n",
       " ('0x067621ec90928eb311e03fa97ef65f8cd0368c43', 1),\n",
       " ('0xc77bd6f9e08af05c7f64dbc5bb0a2225c64216a0', 1),\n",
       " ('0x617200a4b1f67bf0ba4ca722d1f853ad818f8fb5', 1),\n",
       " ('0x958204b8ac869defa0ca6bc2bd0b6b3befdd3cf1', 1),\n",
       " ('0x8722141eeebeceb88c2891ce30925396f4be2d69', 1),\n",
       " ('0xd1c01f9e09d57ddc690fbdf94236aa8b3b3fa86d', 1),\n",
       " ('0x62b9b415c9914de69b1582deb0d08b58ceb4dd00', 1),\n",
       " ('0x94cbfc9e94027ce606db0779a81880df404c08fc', 1),\n",
       " ('0xeda325e43332ed9b5b731a07746df48e442e04b0', 1),\n",
       " ('0x957a519a53b722814480396206fdcebc6bc55b47', 1),\n",
       " ('0x8ec93e3248224bcd90958e6750eb0b8328173bf7', 1),\n",
       " ('0xc994a8d92fcacd9e78497bf4559ce00e18e4652e', 1),\n",
       " ('0xe09c8239cd65d322da2777789fcc3a418d357d60', 1),\n",
       " ('0xd3de9ea6e3b616f2aeeeeb50a67e6487180cbd9c', 1),\n",
       " ('0xb60543b5c17b08edbfbc56630402d421658e980f', 1),\n",
       " ('0xbb593d865b4eb2b57c869100197e66ca931b8792', 1),\n",
       " ('0x0f1f65da2dd63930ac54cd894e21f62e44fdf014', 1),\n",
       " ('0x0309e7201d75e45d5f7e01935ae8c87466bec4cf', 1),\n",
       " ('0x009777da0f13766699df01cf468b84a2224ff8e4', 1),\n",
       " ('0x6000a0d1503631443e7833de6ed46f91d7787219', 1),\n",
       " ('0x3b198ddbbe667bb74efbcf9c3213fa9e25b3d488', 1),\n",
       " ('0x41a6d4370e4aebdca59c1c2b0c20dfe5264314ca', 1),\n",
       " ('0x674d956fcc4607f93d381353be7c99c18f837755', 1),\n",
       " ('0x5d85d776cbefdf99c4ccfd727994983fbdd0742f', 1),\n",
       " ('0x7ec4ada9731940bab43be9dc69c705338297e02d', 1),\n",
       " ('0x568979437cc65ef7bb30dce64860f41ffde1f899', 1),\n",
       " ('0x106d3ef8b8c58a3ea3c67635a56497d29d3a6bff', 1),\n",
       " ('0xde934f1d565c8e831327713a17eeaecc8a0b8064', 1),\n",
       " ('0x4d807841d81b686081d1acb3b43ba1b126312cd6', 1),\n",
       " ('0x009dd89afaf79ffced5e252ef4cb2cfd000d76e7', 1),\n",
       " ('0xcbaa6dd6c99f4681049c79a2201df5c17067b63c', 1),\n",
       " ('0x7fa48f658cef4bc219ca33b7b3ade4e3771e0fcf', 1),\n",
       " ('0xf46cb6b5f3d82ba89e64b3bc1b4d5992e54a6a84', 1),\n",
       " ('0xf226344f2d31b21cb23c7165608be04da3c41f9b', 1),\n",
       " ('0x2cf469661e6367ad4621dad04b3c4fa80dd6879d', 1),\n",
       " ('0x5e7bf723ec0591c251fe40fff2b658c49ab3e65c', 1),\n",
       " ('0xef9b39457e37507ef765b78491772892f52ecc37', 1),\n",
       " ('0x49deb42acbbce35aa74f6df0be77162463658081', 1),\n",
       " ('0x00e4bbe87ab2133495d430529c9060e7457c9c5b', 1),\n",
       " ('0x8c50aa82263464d4dffba0dc786a03f4faf16021', 1),\n",
       " ('0x00c6c2e3a827fc9fe1b09603a017b1ad9d6eaa6f', 1),\n",
       " ('0x004595dbf2c86c70d6876e0d8cee2397d56e86bc', 1),\n",
       " ('0x926c9e6e0730d14893ed738f0ec7059831598332', 1),\n",
       " ('0xc7cc16e7654237a968494ea3bf79bbb714775f1b', 1),\n",
       " ('0xcbbb94bc4665a8f36787ca4f2c53426fdd3659a1', 1),\n",
       " ('0x4fbf13ec2a0af62d388b84de07c4c4141096bf63', 1),\n",
       " ('0x258d6088611023b614f72b91fee7d8caee3b9d9b', 1),\n",
       " ('0xadf81b0313d77d489428d29e0b0bb408a5b1feea', 1),\n",
       " ('0xf0edec24f6d2ac8256909d0b213ff7c897298515', 1),\n",
       " ('0x26ea78f3cf9f1e082f4bc3002acc667de130aa94', 1),\n",
       " ('0x4333865faf9e791d6a5febba1a1c545101b0fb54', 1),\n",
       " ('0x6eb231d41a8f33df4bce885c5b450655d5390ce8', 1),\n",
       " ('0x3b002724b67967c8e7a6c6f0e252f88da6cd47e0', 1),\n",
       " ('0xec9f3d9c982611891a527d2d206f2e9648a49a13', 1),\n",
       " ('0x3ac57ec9e7027713d2b24e6eb6be119d974197fa', 1),\n",
       " ('0xc0fcc180d3a9ba184a9cc39f884ad32241f9a3f7', 1),\n",
       " ('0xf04fdc3b80f01630aa60448e4450b2bd837c9bbc', 1),\n",
       " ('0xa52009d12e52a22b20bf9d309c177e02be650328', 1),\n",
       " ('0x466b80fc87a20c5b1b944af4999ac87e8d35c10d', 1),\n",
       " ('0x13017cccef4b1855c27c41a03ad549fbb707609f', 1),\n",
       " ('0xd585262464821e6d80afa2409a7ec91014d911c5', 1),\n",
       " ('0x47c439c8784b44366735fc2cfe08228cb91d5b8e', 1),\n",
       " ('0x943064b29b2dbbb605e76e424891dfbd32ff2762', 1),\n",
       " ('0x1ab3b89d39417af398ef60863d338d7be5bb10b1', 1),\n",
       " ('0x842336e23dcc8fb4150455b5d21fc4053be60fa0', 1),\n",
       " ('0xf9dab8c65a649aa145b4d7718e2dada7284f7d88', 1),\n",
       " ('0x7a78b97a13f39f7c712f05597482fbc5354f1315', 1),\n",
       " ('0x8216b180de7357b948898c09979798c59044c545', 1),\n",
       " ('0x7c98598409e64b74d7afb93f9b3db3b7b64b70f9', 1),\n",
       " ('0x85f24bf0b026356b6459a17577ee27f733ba94b3', 1),\n",
       " ('0x8de2c1979604d0a787f1874fc3a7126111699a3c', 1),\n",
       " ('0xad3081a4ec1ee802d2564b16805d9bddef477522', 1),\n",
       " ('0x411e17ca4b46fcc1f2218013dfbc7be27f6a1cfc', 1),\n",
       " ('0x8e43a17f7204cef70778e2fde471755271340dd3', 1),\n",
       " ('0x7db483211c0e6e8da90933c8b531d5396e9d2329', 1),\n",
       " ('0x2438292f169b564e8ace8c71b3d7926ec3b39ca5', 1),\n",
       " ('0xfda2ec942d10b69f0ff5829f96417659d220ed8f', 1),\n",
       " ('0x8b70cb0a79d84daf1afbb364bf42b47db109a759', 1),\n",
       " ('0x61dbbfe3ed782f27385fde4fb00a0913707f43af', 1),\n",
       " ('0x32e7acf0b46c317ecc4461e7ce7b2d78bc7be5d9', 1),\n",
       " ('0x68d92680b4d9e961f4d118f8bbf0724b2f7af913', 1),\n",
       " ('0x5c282fe36e6ecfbead066368a3e5b345cf8d1591', 1),\n",
       " ('0xee2564013e07792478a289c7d2e2791a2d73fe3d', 1),\n",
       " ('0xb3e2d691a9aa6a7895891243c63646326adb2a8e', 1),\n",
       " ('0x11482fb5e24d03dd8a3ef8099df796cdcb54d9f0', 1),\n",
       " ('0x88425ef2bd193977080b31dc63b4aad3a6e23fe6', 1),\n",
       " ('0x9541b5a7beb445641990e8cf67ce8ad467ec930b', 1),\n",
       " ('0xf48b9a8e67107ab47070d4ee2b673730f6468c04', 1),\n",
       " ('0xaa212b374bce9bcbba6b8e3f0c20aa1c0b036b44', 1),\n",
       " ('0xb2d0cba76ed764c068d25bc9b620365fd5bf4a35', 1),\n",
       " ('0x265978eb75482e72322100e3e337f762e4f9eff3', 1),\n",
       " ('0x50a54c7cb00ef3e41de63d8cbb59f81a2fd785dd', 1),\n",
       " ('0x2575188aa6fab4d7dd948544039b4231cf20badd', 1),\n",
       " ('0xa1ab57ab70c572eacb1b3363742162173460d1ce', 1),\n",
       " ('0x20c3064bb37c53104b4929b25be0eced6a3ba711', 1),\n",
       " ('0xf914dc3cdd0db7b1e8b8770933807315ada2a032', 1),\n",
       " ('0x33e50c2bdae000ae3769d25f437ae9aacb7ca3c0', 1),\n",
       " ('0x1A496ef4A87299C3Fa2DA155F581242a1D0d40De', 1),\n",
       " ('0x7E79eB6112827399076c134b22dC1BBAFdcf1479', 1),\n",
       " ('0x87cfD09C483FE65352456BB26c784a0E4C4bA389', 1),\n",
       " ('0xd3Bfd58a31ddeB2Fdd2BC212E38C41725BC93Ccd', 1),\n",
       " ('0x47cb11428A97e543B58a6d926Bf2e1846042775D', 1),\n",
       " ('0x989f31fAf7f52dD5e2d38c6ee12085f7E9B32e16', 1),\n",
       " ('0x232cAd0429e653ab610FBcF7e7EBEE2f05f28410', 1),\n",
       " ('0x49066F1CEa63a565Bb45D7b2Df8a94d55b342dDf', 1),\n",
       " ('0xe090bD456d2bA5D2F6Da9D10374c0F0cd704e4d2', 1),\n",
       " ('0x33E50c2BDaE000Ae3769d25f437AE9aAcB7ca3C0', 1),\n",
       " ('0xBb61BD974b444ea4152fb1B2EEe0b893Bf4A6507', 1)]"
      ]
     },
     "execution_count": 253,
     "metadata": {},
     "output_type": "execute_result"
    }
   ],
   "source": [
    "sorted(non_canonical_miner_dict.items(), key=lambda kv: kv[1], reverse=True)"
   ]
  },
  {
   "cell_type": "markdown",
   "metadata": {},
   "source": [
    "List the miners who create most canonical blocks"
   ]
  },
  {
   "cell_type": "code",
   "execution_count": 251,
   "metadata": {},
   "outputs": [
    {
     "data": {
      "text/plain": [
       "[('0xea674fdde714fd979de3edf0f56aa9716b898ec8', 417480),\n",
       " ('0x5a0b54d5dc17e0aadc383d2db43b0a0d3e029c4c', 353943),\n",
       " ('0x829bd824b016326a401d083b33d092293333a830', 190661),\n",
       " ('0x52bc44d5378309ee2abf1539bf71de1b7d7be3b5', 190257),\n",
       " ('0xb2930b35844a230f00e51431acae96fe543a0347', 88772),\n",
       " ('0x2a65aca4d5fc5b5c859090a6c34d164135398226', 27046),\n",
       " ('0x2a5994b501e6a560e727b6c2de5d856396aadd38', 22593),\n",
       " ('0x35f61dfb08ada13eba64bf156b80df3d5b3a738d', 20852),\n",
       " ('0x04668ec2f57cc15c381b461b9fedab5d451c8f7f', 20750),\n",
       " ('0x005e288d713a5fb3d7c9cf1b43810a98688c7223', 19225),\n",
       " ('0xd224ca0c819e8e97ba0136b3b95ceff503b79f53', 18427),\n",
       " ('0x09ab1303d3ccaf5f018cd511146b07a240c70294', 17333),\n",
       " ('0xaa5c4244f05c92781c4f259913319d8ba1acf05e', 13154),\n",
       " ('0x52e44f279f4203dcf680395379e5f9990a69f13c', 12214),\n",
       " ('0x4c549990a7ef3fea8784406c1eecc98bf4211fa5', 12049),\n",
       " ('0x06b8c5883ec71bc3f4b332081519f23834c8706e', 10796),\n",
       " ('0x9d6d492bd500da5b33cf95a5d610a73360fcaaa0', 10488),\n",
       " ('0x00192fb10df37c9fb26829eb2cc623cd1bf599e8', 9813),\n",
       " ('0x6a7a43be33ba930fe58f34e07d0ad6ba7adb9b1f', 8935),\n",
       " ('0x002e08000acbbae2155fab7ac01929564949070d', 7894),\n",
       " ('0x1b5b5906306c96b842dc03105e3b38636a4eda0b', 7685),\n",
       " ('0x84a0d77c693adabe0ebc48f88b3ffff010577051', 7235),\n",
       " ('0x4bb96091ee9d802ed039c4d1a5f6216f90f81b01', 6373),\n",
       " ('0x464b0b37db1ee1b5fbe27300acfbf172fd5e4f53', 5629),\n",
       " ('0xcc16e3c00dbbe76603fa833ec20a48f786dfe610', 5003),\n",
       " ('0x9435d50503aee35c8757ae4933f7a0ab56597805', 4923),\n",
       " ('0x99c85bb64564d9ef9a99621301f22c9993cb89e3', 4917),\n",
       " ('0xeea5b82b61424df8020f5fedd81767f2d0d25bfb', 4723),\n",
       " ('0x44fd3ab8381cc3d14afa7c4af7fd13cdc65026e1', 4414),\n",
       " ('0xa855c20a1351acd2690c716e2709c7dff3978d12', 3523),\n",
       " ('0x858fdec2da9fa3cd3d97b8bd1af98e9249d33613', 3204),\n",
       " ('0xf35074bbd0a9aee46f4ea137971feec024ab704e', 2640),\n",
       " ('0x1ca43b645886c98d7eb7d27ec16ea59f509cbe1a', 2616),\n",
       " ('0xede16675c4aea9b5b92ce1a3750992880d83bb12', 2596),\n",
       " ('0x70aec4b9cffa7b55c0711b82dd719049d615e21d', 2513),\n",
       " ('0x8122abd38e70a25af2315c1556b0c6940506cff5', 1985),\n",
       " ('0xff1b891969773159366ab6310ff63a69ac4acffd', 1810),\n",
       " ('0xd4383232c8d1dbe0e03bdfab849871fa17e61807', 1802),\n",
       " ('0xb8c674fa6c1cedaa25ee5679ecf5c3e452a13795', 1682),\n",
       " ('0xcc22cb1b6625b64e81909456111d76be6158dfbc', 1603),\n",
       " ('0x497a49648885f7aac3d761817f191ee1afaf399c', 1527),\n",
       " ('0x0f06d283513504c261ff789f33df1d93e9a5225c', 1419),\n",
       " ('0x433022c4066558e7a32d850f02d2da5ca782174d', 1354),\n",
       " ('0x6f24d7fc7fb17d051c25be5da1af150077d60fc1', 1337),\n",
       " ('0x7c6694032b4db11ac485e1cff0f7509d58b41569', 1327),\n",
       " ('0x41c74604182a1531534e6d553b49b1d78e6fa9a2', 1220),\n",
       " ('0xd1008015aa0cf2a61493bd19de6c9ca88e934fce', 903),\n",
       " ('0x8fce1ef27f3add1411c7a99be402de598ad38389', 844),\n",
       " ('0x6a851246689eb8fc77a9bf68df5860f13f679fa0', 801),\n",
       " ('0x6e8583b7b062b38851e3fc9f09346e920bdfb9d4', 737),\n",
       " ('0xce742257c4e5ce5422dabdf83a58d994202736ac', 714),\n",
       " ('0x6c3183792fbb4a4dd276451af6baf5c66d5f5e48', 704),\n",
       " ('0xadf055c6222d75c5f7fe90e021f481e8c55f0afd', 697),\n",
       " ('0xd144e30a0571aaf0d0c050070ac435deba461fab', 609),\n",
       " ('0xa3c084ae80a3f03963017669bc696e961d3ae5d5', 503),\n",
       " ('0x5be1bfc0b1f01f32178d46abf70bb5ff5c4e425a', 481),\n",
       " ('0x11905bd0863ba579023f662d1935e39d0c671933', 392),\n",
       " ('0xf616d8d43635098d7a145d8bc5418d95d6a3d8c0', 379),\n",
       " ('0x8bf932fb121c3c278d62ad4d36fad2fc03a14bce', 320),\n",
       " ('0x2cb463e0803da5f24e96b998c2388567921d1725', 309),\n",
       " ('0xd0db3c9cf4029bac5a9ed216cd174cba5dbf047c', 306),\n",
       " ('0x1a496ef4a87299c3fa2da155f581242a1d0d40de', 297),\n",
       " ('0x3209e020b641163f5a7418a899c70f09c00bd2ed', 297),\n",
       " ('0x9541b5a7beb445641990e8cf67ce8ad467ec930b', 282),\n",
       " ('0x96338149e9f6c262d4cb7aeec1cf4c652079a11c', 262),\n",
       " ('0x4b38a1f9c1a580fe29f150d738eac85ba52569ad', 236),\n",
       " ('0xa39b0ff4c3413db472d62a12a7a474544b58bc25', 234),\n",
       " ('0x06a641f1274fe79624b8484ac59988edc557d834', 234),\n",
       " ('0x249bdb4499bd7c683664c149276c1d86108e2137', 219),\n",
       " ('0xc0fe5c137587fa8ecaa8d0ba2910ee00bab8d7f5', 193),\n",
       " ('0xf78465bce3c4620fd124c67d523d2ab80a76c0d8', 183),\n",
       " ('0xac4b9729cfb42ec0379db62767e268cb93504d55', 176),\n",
       " ('0x9841316fd9fc5bad84fc4e22a0b5a2b4a107ac0c', 164),\n",
       " ('0xd7a15baeb7ea05c9660cbe03fb7999c2c2e57625', 157),\n",
       " ('0x3f14cb4f670008ac92efa364ddd72bce118a3af6', 118),\n",
       " ('0x3e8702685ed7826a55acb1c6eb4a6d74638d165c', 96),\n",
       " ('0xfe05a3e72235c9f92fd9f1282f51a8154d6d342b', 76),\n",
       " ('0x09e76074fa4e2d100d14d54c45a5558567d80c28', 76),\n",
       " ('0xf3a71cc1be5ce833c471e3f25aa391f9cd56e1aa', 75),\n",
       " ('0x2a98776c7e13ed1c240858bd241dcf95fc1928b4', 67),\n",
       " ('0xa150d46f386610e7468c8bcdd3a64316e06203e0', 67),\n",
       " ('0x8e59176cd996342da6fdf20c85cb02bca095d552', 64),\n",
       " ('0x8939be10f3612763f41f92c8f73d7420a2507fb4', 63),\n",
       " ('0x0501b62d81a3f072f1d393d2f74013bab8d36d5c', 63),\n",
       " ('0x535d56aa2cd8f945f05a6c498ac2e6e0bf7faa61', 63),\n",
       " ('0xb6cf40aee9990c25d7d6193952af222e120b31c2', 61),\n",
       " ('0x14b30f257c2737370203a15aa343c2b600dfb675', 59),\n",
       " ('0x298ac03fb6cd6dd37d53ca4813070bf5be5719d4', 57),\n",
       " ('0x11a73b18557944fbde9f41c0c436069f870bd2eb', 57),\n",
       " ('0x9b6e98d7fe6ba17587539c5cdd24ef282f5122e2', 54),\n",
       " ('0xe16263ee79b0ee32c242c99f02559e92abaea9eb', 53),\n",
       " ('0xc015dc8b1952dc379b820e0ffd8220ca74566113', 52),\n",
       " ('0x95d41a6ecd6c36abdc584ac87de5b454281cb2c1', 52),\n",
       " ('0x7759031caf64c691213020e23096078915077d3d', 46),\n",
       " ('0x6abd39fb5b851b8a5f913db74d1e6dc242cb4f17', 45),\n",
       " ('0xee2564013e07792478a289c7d2e2791a2d73fe3d', 41),\n",
       " ('0x58af3f3797861fba4a5e5de621fa2c15807d0487', 39),\n",
       " ('0x914d0e134b92986a55e49cc23ddf39ec6d971dcd', 38),\n",
       " ('0x07d675f7610398202a807cf91e1ddacc9b01b45b', 37),\n",
       " ('0xd76534f5619856e13e8540cad2d586033600c5af', 37),\n",
       " ('0xac34420c1a657273bba4927be3f2552a082ca918', 34),\n",
       " ('0xb3e2d691a9aa6a7895891243c63646326adb2a8e', 34),\n",
       " ('0x2575188aa6fab4d7dd948544039b4231cf20badd', 30),\n",
       " ('0xb2d0cba76ed764c068d25bc9b620365fd5bf4a35', 29),\n",
       " ('0xb8f82b073479c9afe33463852d7778554a405453', 28),\n",
       " ('0x28974b4a92e7be907418722b37446f2eb60184cc', 28),\n",
       " ('0xf49c0849e0dcac44445b4a7e7dac6cf5f8ddd243', 26),\n",
       " ('0x1230bda14820afca3a65a55d428ffe00257e9633', 25),\n",
       " ('0x031ad097a5a0cc323731edfe55ea13806300ea57', 25),\n",
       " ('0x74d5a000983d8c4a37041ad065abc09b5c9fe94d', 23),\n",
       " ('0x1fb13e4e0a238ddbd2d2a5ccdb5b5e9e6a728e1e', 23),\n",
       " ('0x1bc74798560eb5737cb0d290ac2c2a266893f269', 22),\n",
       " ('0xa90f72d6d08082fc3a40b52b163607ebdd778f79', 22),\n",
       " ('0x135609342b1233fd80de415827f093f71eb439c2', 20),\n",
       " ('0x197ef452241d7efed81e27601d0aeb49a140a64c', 20),\n",
       " ('0x093a0ed738b65ed34f2a37a2d44c5e3cd0d0dd45', 19),\n",
       " ('0xcdc5984c11caa06f483ca4c949eaef43235436f9', 19),\n",
       " ('0x5b6f235fdd9858cf54d4701dd916fd756872df19', 18),\n",
       " ('0xaa212b374bce9bcbba6b8e3f0c20aa1c0b036b44', 18),\n",
       " ('0xb75d1e62b10e4ba91315c4aa3facc536f8a922f5', 17),\n",
       " ('0xdf78b2e254b45c1ef20074bec0fa6c4efc8e94f0', 17),\n",
       " ('0x68df2536ce987ed505e17f75f3d5ef9d78f3785a', 16),\n",
       " ('0x000b800ab6000bc8e5c02423723bbb168720530a', 16),\n",
       " ('0x7dc36b4135e08901bfc73c536ba93181de4c8c5d', 14),\n",
       " ('0x5c282fe36e6ecfbead066368a3e5b345cf8d1591', 13),\n",
       " ('0xc6b84914dd0e0d64962e2f0d99bcae4e4a2daf8a', 12),\n",
       " ('0xb85b1efa66f7a4c4fabaacc701c7e3eb6619eaa7', 11),\n",
       " ('0xcf0e04cc0b8fcd66f42679bce42bf2569f438234', 11),\n",
       " ('0xce7e776d48e7063fa294c15d5de796a4c0c60c43', 11),\n",
       " ('0x804a55a05fdab06831d6ac11e9ca41fcfba1a8bf', 11),\n",
       " ('0xa6f19cccdd5f90864b9dfd5d5b9e316b1f00c550', 11),\n",
       " ('0x5af8996e209f1f04daf499da643eb14973d39253', 10),\n",
       " ('0x8a0e304226b1e123c55cdb853e8944d68f57092d', 9),\n",
       " ('0xf84720b18c73150aab13f73f96af0dd9a83f4709', 9),\n",
       " ('0x9c8238026cb079d22e11c816a6564cf9cbf814ee', 9),\n",
       " ('0x825a97b927e2cc770b1c0fd3341aab150fbf23a5', 9),\n",
       " ('0x20c3064bb37c53104b4929b25be0eced6a3ba711', 9),\n",
       " ('0xf64f9720cfcb59ca4f5f45e6fdb3f68b875b7295', 9),\n",
       " ('0x8191cf6b842b9057393de025e2cc997c631097cf', 7),\n",
       " ('0xd5bbb4264b70ca4f58c45d27b9d7e11190754a54', 7),\n",
       " ('0x0399560f1e952fd3452a6812b716a0c502bf0bcb', 7),\n",
       " ('0xa1ab57ab70c572eacb1b3363742162173460d1ce', 7),\n",
       " ('0x491bb642b20db983d2d5e2a37c7fcc5dd85eb5ae', 7),\n",
       " ('0x007ce4938c586740bf84eefd691e74f453e7cbf4', 6),\n",
       " ('0x29854f3b5ed8dcb6dae4433f09ee57a8e29260b2', 6),\n",
       " ('0xa027231f42c80ca4125b5cb962a21cd4f812e88f', 5),\n",
       " ('0x6d00dfb4047c6eb62f8b365f264868f6ee2730bd', 5),\n",
       " ('0x00dba8f8159bd5c557a432988973c04298f86233', 4),\n",
       " ('0x842336e23dcc8fb4150455b5d21fc4053be60fa0', 3),\n",
       " ('0xd380a3fa09c781f3b1b4545dd04048c4a4ee636d', 3),\n",
       " ('0x00d5e851a9900a37174f9870d1a76c554d2006b5', 3),\n",
       " ('0x3ac1f4f23229127edc7c6237cc99a90a93ae0dd0', 3),\n",
       " ('0x67b9b163b3cbcbe01e4d26a1ced2ec04edaf89ed', 3),\n",
       " ('0x50a54c7cb00ef3e41de63d8cbb59f81a2fd785dd', 3),\n",
       " ('0x0b85d03faf9d4105d41d800000f58876e69692a7', 3),\n",
       " ('0x4b0ae4358d39eb0d4032082da682db68bd53fca6', 3),\n",
       " ('0xf139f57ee08f3f7f02a6f0cebffe14147635ea2f', 2),\n",
       " ('0x85f24bf0b026356b6459a17577ee27f733ba94b3', 2),\n",
       " ('0xbbf3ce0e1470ce42d5e4c914dce63f3701b136e0', 2),\n",
       " ('0xda9f62744f9528b6e8235b05b27b17d90c479a4e', 2),\n",
       " ('0x3e7420f95c4bff6d2d855656df1e8c53e1ea5216', 2),\n",
       " ('0x8aa463112314905620d0b8ce192c2261c282ca1b', 2),\n",
       " ('0x4c6f258d5374351b5b09d7ee71d6d1a4bf11b9d1', 2),\n",
       " ('0x27a7aad104b418f0d7821339ef30a4fde1d6cf93', 2),\n",
       " ('0x821219a753a0dfd7719e769d076d4b221c23fe1d', 2),\n",
       " ('0xfbe46b203b8dcf2a598a0f329e7cfa72fae371ab', 2),\n",
       " ('0x0075bef33bb3ead4cb81cec39b804aa2f41bb062', 2),\n",
       " ('0x4881ed8ef5836a5ef688ff71a10ce945d60ce07d', 2),\n",
       " ('0x2d13482705e7ec95cd291c75dfedb2d18ffa833f', 2),\n",
       " ('0xc519e5aa49e8a420140a008f4115161d6a73cf83', 2),\n",
       " ('0x044dc5f523af555673c4901fddb1ecdc85e369da', 2),\n",
       " ('0x3519f6ad34c2790b08a3940e6d80622c9fba7d38', 1),\n",
       " ('0xdf19d2783f257d65b9938b1d50618c3f340db5d1', 1),\n",
       " ('0x894f6ff52ecb5ebb9ae1c0f049ff6f3ed5f40c44', 1),\n",
       " ('0x9433ef63740e0e94e35efd401de098d7f201221b', 1),\n",
       " ('0x322de697fea386f499897e9945f1e064624f85d1', 1),\n",
       " ('0x9d849642ce2dc6f0a90a05bee3259779e23b25ec', 1),\n",
       " ('0xfce1294e0f41ba9ee33962b4d4022ce6a343fc0a', 1),\n",
       " ('0x83ff764ee42b39a0c06d992f5e1e683f44690dbd', 1),\n",
       " ('0x84b5e7ceb979fb54bcc97ad90e70682b8f14d2e5', 1),\n",
       " ('0xcef770dce313fa3a9725bc189fd3ab121adbec97', 1),\n",
       " ('0xd17c79721a39b53bc4a27b159be707302586d85f', 1),\n",
       " ('0x0496772853d85cf05f2692e1f25435ce4347fea8', 1),\n",
       " ('0x3ebf7012458d47c47887251409c9bbed51d872f7', 1),\n",
       " ('0xdafc9b67bc50308ec86564cda54ab11a4875881a', 1),\n",
       " ('0xdccd0639e8bae6928fef3c0369f73f3afe510742', 1),\n",
       " ('0x74347da2bf30a5e666483c5dc76478b67e1715f3', 1),\n",
       " ('0xe692de7a4f150d7624a684614698eeb60a747eac', 1),\n",
       " ('0xca7216c8403b1f2404b2cce3bb6b82471ea31666', 1),\n",
       " ('0x4db29c70f910d620987f791a91a7c8ba053aaf1f', 1),\n",
       " ('0x99461deef17bec94ecc5407a2feb40406fa785a0', 1),\n",
       " ('0x0542fdc3dbcaf21f67dfe34bf62af55464192a8a', 1),\n",
       " ('0xede12386754b60aff5e85172fba5a44f3e460e77', 1),\n",
       " ('0x275a8b1ca4d85709359eab28601d5ae15508831f', 1),\n",
       " ('0x4b11dbdd54e388e4908f2a8f79a988207a5d9d03', 1),\n",
       " ('0x8bc3021dd835fc8648e2c71097a8b0022312f386', 1),\n",
       " ('0xb5bd53c66435fad2bc2bdbc141e80364dbcb2a09', 1),\n",
       " ('0x8e0d589dc4fa9ff10db2cc3e833995326444a856', 1),\n",
       " ('0x17b269604bb3a67acde9036e075f1093026fab00', 1),\n",
       " ('0xa4fccf27451574984d4dbce3dbd107732bccb28c', 1),\n",
       " ('0xcc0d90ddc453b3a9d32bc1b461010d38ef6ac6ae', 1),\n",
       " ('0xb81171caec83d2d1500167a94716d517f8d0e1b9', 1),\n",
       " ('0xe8cd6b50bb78d5fc4321999b1d3141d4fd67aea2', 1),\n",
       " ('0x1eb81ba85919af63175ad5ccce6dd70dbb7da2de', 1),\n",
       " ('0xcd729118d173e13de99c303933ba0f00909201fb', 1),\n",
       " ('0x24a6c49a2ec37bcabccf588ac6a74a293a2435b6', 1),\n",
       " ('0x237b9bff692facd9306c69de3830e4620e0a864a', 1),\n",
       " ('0xba8b41591729a69be5f8300435ada71096d11fa8', 1),\n",
       " ('0x67d668eb4d6f768c987d785af67d9f4cb4fc16e8', 1),\n",
       " ('0x5ace2a3570aa863ae0e3c429763e17872f55ea83', 1),\n",
       " ('0xe4c6bf9455cecf5d6974c806e0d668ffeb656099', 1),\n",
       " ('0xb68c8a5d1a5cc4296f518b6ee2135add0e10ea40', 1),\n",
       " ('0x55a7ca0ba2bd80ef34ad2cb75112c86637a6bd0a', 1),\n",
       " ('0x1007877983e7b98c7b136020757cefd0cb5873ae', 1),\n",
       " ('0x81d57ca4a5956143560c0db9647bf07938ab4105', 1),\n",
       " ('0xab5056ed30255320d49869b49530fed6137530d7', 1),\n",
       " ('0x6774730111d9ee26de4698b759c9008b98c06623', 1),\n",
       " ('0xb80820d13420818eeea2d966f89d01fe812386c7', 1),\n",
       " ('0xb7e1691bcc1f65a5d10075efb8950af19cfe6b9a', 1),\n",
       " ('0x27b0ddd090d59e1233063cc661b4137b0b7e5eb9', 1),\n",
       " ('0x8fa404ad677d5e77c668f253fb328c51b61c1071', 1),\n",
       " ('0x1901541a96c96c97d576f42b5feddf36d0871771', 1),\n",
       " ('0x4feb43f873ecf50962d0a6f860ff6e4997e3cb86', 1),\n",
       " ('0x6f7423873fc5da7459c4c8efb6a1bd0b0b342c18', 1),\n",
       " ('0x9906341ec852cd06546646515f765ffdbcc76163', 1),\n",
       " ('0x792499fb11bbaca76bd4b664a7619f6833cd75b6', 1),\n",
       " ('0xb0f0c0572e77294d0bf0d95fff440f3f95ae248b', 1),\n",
       " ('0x2bdb3d67bc51a38d1efca9874b03285d744c4da3', 1),\n",
       " ('0x38054511a150bd047a58a99fdd8b0a63a361faa0', 1),\n",
       " ('0x40317fecdb5b2c022a8641e1e025bc02799f5add', 1),\n",
       " ('0xf23eae44750a095bee84ba78fb42eafc94dbf3be', 1),\n",
       " ('0x1266f64df95f9e9bc083cfad2a0457e6d2dc5281', 1),\n",
       " ('0xeec66afea0eaa908a23c4a29062e75c78a20a68f', 1),\n",
       " ('0x75e458dfbdbe2df467131c1d37fb931f73fac1d9', 1),\n",
       " ('0x22e077232832afba8812ea6a0ffd7d2887416569', 1),\n",
       " ('0x9149b678074be85a56d823f32360a2079c4e7017', 1),\n",
       " ('0xb0ca3fe2bdc5674698cdb2dd22237bb38afeb055', 1),\n",
       " ('0x51d84c86ae64a3457af9f2ca9ba89b7b7d60e5c7', 1),\n",
       " ('0xfcd577d948fdbb92e32f97b38e6e9a2d55124607', 1),\n",
       " ('0x4c75d3ae3b1add88317c063254ac2c7e44d8030a', 1),\n",
       " ('0x6c38fbd3916cfb2921f927c382a8e005803e6f75', 1),\n",
       " ('0x6a78734aa5214f82c67b3c07710a9cfab78c4ab4', 1),\n",
       " ('0x23f436bf7d639930f4433268c5c2bf33c3be75d7', 1),\n",
       " ('0xd98b7bdc1acca5cd79868ad3447eb711e1880234', 1),\n",
       " ('0x5e0f4d3b28af685642f6d8b64bf197efa9e49e4b', 1),\n",
       " ('0x03f628d8e4dd2a894c4d3e99b13130fcb7b1fbb4', 1),\n",
       " ('0xad1eb6878aa1833b1b49a2f7a7a52eadb8d7c944', 1),\n",
       " ('0xc82835db629b41320e517a2d9efb310164ca4a93', 1),\n",
       " ('0x0f382b6693a54666c0a12b1cc20f9f48e21da7a2', 1),\n",
       " ('0xfb02196dbc9792b46d16263e8cefc57822f9ce9a', 1),\n",
       " ('0x32b3014d8e8c08a239a135867af3da59e26a8717', 1),\n",
       " ('0x4e755f7cbf0b9bea229d03f581088aef6b68291b', 1),\n",
       " ('0x868ec17c3675684cf5735fc7d54d16de0d78349e', 1),\n",
       " ('0x9765719d01c07cebf2e33351e1fcbdf9e9a8dcdf', 1),\n",
       " ('0x6b063fd82230cb77617053c6d502295f1de961f8', 1),\n",
       " ('0x56e3c89d193284a187a6cf6cb9452edfd93a2886', 1),\n",
       " ('0xb149aa886d9aa02faa70397edecf4c2401a603fb', 1),\n",
       " ('0x5d1fb7de3ddf5989222661cebe168189add7c984', 1),\n",
       " ('0xcd058cb19edddbe0c31cdf9d3bb096ef9d22ca0c', 1),\n",
       " ('0xbed6289f815058b5b467950012b012dfa1877d56', 1),\n",
       " ('0x1172a17240650311b838f244996adcf4d7c843a5', 1),\n",
       " ('0x7192a51559b7d4493921e10b5510aa969328bc8e', 1),\n",
       " ('0xc88594aaa2e1488f039baf643b243263daa31f3d', 1),\n",
       " ('0xad7c03cf301a28806bf695d4d0151a7b19aef5ff', 1),\n",
       " ('0x53720fd787eb58dcad5997fdfe5d87f1a3b8b828', 1),\n",
       " ('0xda4ea70f2e2dd3ff479fc0913128d8464d3b693d', 1),\n",
       " ('0x2d0e142b34bf2784384390af5ebd088664ac8353', 1),\n",
       " ('0x5b2f1a4709d7de58f90acfdebe692ff513d53f8b', 1),\n",
       " ('0x70ca1e07441ce88b86a9dd41b525c2265285ec9b', 1),\n",
       " ('0xd03d2c36c66fd57c609f334091e658fc1697036b', 1),\n",
       " ('0x82e773ef003131ea7bbef212708f88e883d354b1', 1),\n",
       " ('0x3f4bdf36196233afa0f66f093d9e5d33686473a7', 1),\n",
       " ('0x0a4cf30ee8b403ad6c92e343884fce2a95f7e0ac', 1),\n",
       " ('0x53e7416c07c2f08262b0e14ebd8be4d6aa5c40c6', 1),\n",
       " ('0xa6e2169f4c9b9fdb429cf8e2fbcba6ac8e75206f', 1),\n",
       " ('0x1df8c5b4ff96a934d7c586b197181b9b65d37b88', 1),\n",
       " ('0x0686518e00d264e0a8b6a338b2481eeb1f7c662f', 1),\n",
       " ('0x70d54bf7c5eae45d37e87cd560248467b38ff461', 1),\n",
       " ('0xcf89b339d3cd026498ea01da9d22e484006fd522', 1),\n",
       " ('0x411e17ca4b46fcc1f2218013dfbc7be27f6a1cfc', 1),\n",
       " ('0x63124aab3f6291c6cd1bce54342004571d0fa532', 1),\n",
       " ('0x8487da7a7abccef9a0e7ee7c8657d1b7594f43b5', 1),\n",
       " ('0xa30d1b8ef433bead3ac756b816ed821ad7076789', 1),\n",
       " ('0xd1b31b09dbb20ed8f2ffebfc8b1cf84d9aa7c49c', 1),\n",
       " ('0xa523107b4a50e260302c7e00b32a0b5071c5ce7e', 1),\n",
       " ('0x702f48253654433fb9c0c3666b87ab052a0620d1', 1),\n",
       " ('0xae08e555abb3a6d812f90cd3fe9e7164ec692de3', 1),\n",
       " ('0x2e9525cc7dc66ad6e7d24b235b3ca5fabacb9e20', 1),\n",
       " ('0x92f0962a7831367c12eff93d607641df20bde42d', 1),\n",
       " ('0xbff98599bb87382133f45250543f8c2d5b704801', 1),\n",
       " ('0x6e071ea812c8d04eb98025dc36b80949ab5e7d0e', 1),\n",
       " ('0x8ee9c82e94bb3cb0f5bcaa53ae7eb0cbbd678bbe', 1),\n",
       " ('0x5acb5635f7ae965d37d6ca4ab29df0c74ee83307', 1),\n",
       " ('0x6f8cc76ee82e2c3d4d1b28b17306e4613680e81a', 1),\n",
       " ('0xe4c1bd925e346935448b2f821af1311f7a3fddeb', 1),\n",
       " ('0xcb73a58a791b91c14aff5f617be36a1e1f4d60b9', 1),\n",
       " ('0x69960897ebcc8962049380ddaafc810885501728', 1),\n",
       " ('0x86a866e075e08369ded6080fd4043d6dec0a5241', 1),\n",
       " ('0xc6530faa07934a55de12108cdbdfb88cff33f5cd', 1),\n",
       " ('0x7634393c540b9d5249e4c355f391f4f9613f3d1d', 1),\n",
       " ('0xf60504bfb7eda8aca0e5ca611df53ea7f9918a0e', 1),\n",
       " ('0x7fa51f9058f887df4c9cab0ff01b8d83c0edb6c0', 1),\n",
       " ('0x3783721d5e67630cad77820042d8ad034d7286c5', 1),\n",
       " ('0x11f9a9cd0c926429576f336fa018effa9f4c6c9d', 1),\n",
       " ('0x9d18a9f62e636d27ad1ddc0ce963742e7bc91a8e', 1),\n",
       " ('0x341bdcc2956f021043c6e9451e7b80f13f2799ce', 1),\n",
       " ('0x598aefdae37dc89a1111e3d2a3bce2e686322d74', 1),\n",
       " ('0xd363c9b2c3197c40bee3fd9154d1664e43a1d54c', 1),\n",
       " ('0x42b9a5d8eb587b22286e69cd041d3e7b2ae3dff0', 1),\n",
       " ('0xcab216fbc0cc4bf77d33534dd561c169600b6b04', 1),\n",
       " ('0x0322d49f69dd1dd925bb6e37c338f79ff868326a', 1),\n",
       " ('0xd2c7b04e48e3794f2497e3b1e2851d5ae2e0c361', 1),\n",
       " ('0x1d05e66ccd2d8ac2ceab2ae64d93aebf4b927994', 1),\n",
       " ('0xd9ee4d08a86b430544254ff95e32aa6fcc1d3163', 1),\n",
       " ('0x6e6052e596062a88dddf32126a492f8a5fee1a30', 1),\n",
       " ('0x7093a9c52f22a39527e0761313dfd6a15cc8f5f3', 1),\n",
       " ('0xa598ba75d571d49f76bb4ae7ba73cd596f156c91', 1),\n",
       " ('0x02972095b220830ef6a68bf88fd6750f29f4e87c', 1),\n",
       " ('0x61c7ffa5ee0174d3af3c07874e1de5911c67b91f', 1),\n",
       " ('0xd8c71f6e45ccd5a24857993b8504109c6f36728f', 1),\n",
       " ('0x1fd7743b42a13575ef39eb6d7cf461282b429834', 1),\n",
       " ('0x58da618275173a9c7b225e785b1d0d7c4c2d36b7', 1),\n",
       " ('0x45d8c68c263ccf3b887afd45fb60b03a556c286a', 1),\n",
       " ('0x64dc6a7852e2e93c56029f17bed14752b4f6944b', 1),\n",
       " ('0xaf7e2e29cb875630c7a38d0649345f00db3c91ba', 1),\n",
       " ('0x3269c0ca24294d3cbeeac04fb36ad893c47946b2', 1),\n",
       " ('0xb10d420f5ba37e219ddb607d03330bf35306c399', 1),\n",
       " ('0xcd4db1a9be6f69ee46852aa1aaccfc7e397ac054', 1),\n",
       " ('0x0244acbf87a9264ac336f746d5be2a909a83d866', 1),\n",
       " ('0x1567ae8b356ea46b1e658e1bcedc75da27ec1579', 1),\n",
       " ('0x02d9d0f67f3e42a251315794daf8bcafd50dc468', 1),\n",
       " ('0x3615202633491758f6f9e66196ac738ff4ce1238', 1),\n",
       " ('0x895e6e76c9c4510063a5cbf0f9a4f5f9f42d0abe', 1),\n",
       " ('0xb7f08d2a47524304cc351d295add3a11be061e0f', 1),\n",
       " ('0x153f3ec4127d96974b6354e1f5ff58bc27668e00', 1),\n",
       " ('0x511f7d90b04d0ff6f6e168a4da6ece32bbe159a0', 1),\n",
       " ('0xb85593f75d21b384fbd857664ade4165382bf0a6', 1),\n",
       " ('0x22a1d5ec43fc513989068689076320d3c3061b35', 1),\n",
       " ('0xa40dd35cc47c604be8687832b34c0eca1ffabafe', 1),\n",
       " ('0x63a947d13c53ff014fbfe782cf355dd5d6153eb4', 1),\n",
       " ('0x615f561c90482ff4c337c14d504886b4e49294f9', 1),\n",
       " ('0x5f770e2c1f7b2c4ad788fe35eaffdf0eac2a4fcc', 1),\n",
       " ('0x3523b6461cab135f87902aa07f40d92aaaf9cf9f', 1),\n",
       " ('0xae924c0d2228485269f187956d6ce284180ac9f7', 1),\n",
       " ('0xfd3ab4fd83655df540ab511b707fa7d39a7c50c3', 1),\n",
       " ('0x0ae9a3fc5bca08c97b16f8b12d2e709523c1713e', 1),\n",
       " ('0x0707d3cebb89f2a186be1ea018580bc79db57850', 1),\n",
       " ('0x46be2d2ace708346f0090be54c3de03a759baeaa', 1),\n",
       " ('0x62b4b7fce9bc965d57d65a206217649a46c66e83', 1),\n",
       " ('0xd9e370cfa1e6f55bc74cdb230d6a302b56d6ad54', 1),\n",
       " ('0xbdeff86dc006bcbbc2d5c7a074ba7855da83a198', 1),\n",
       " ('0x5107e2d875a64853a6821ee527478d2b92bca22e', 1),\n",
       " ('0x0c4df13856221a7e88630efe81dfd01a355d688a', 1),\n",
       " ('0x9988835f6078c936332e8fc924095fd98ecb4605', 1),\n",
       " ('0xc7a969392f5314d004b85885557c5bb891cf8caf', 1),\n",
       " ('0x67a20c952c92f9d5ef0df6f18ab6aab8087b1da9', 1),\n",
       " ('0x57ebcc36eb49c7a2239d3f3a65c7bb5047c28e90', 1),\n",
       " ('0xd664f0f9a273b15d1b4b6b2485bab59fce85a457', 1),\n",
       " ('0xcedbf9a60216916e33a317fbe67230ee13693c6d', 1),\n",
       " ('0x2e43e4cae69b63996f301274654f487f85ad4e8a', 1),\n",
       " ('0x0be84857a069192fee67a70aa3529c2ba430a544', 1),\n",
       " ('0xadd60e0c86555d753136f12cfcb5df96d5fd1b5b', 1),\n",
       " ('0xb5c01b102da4a74f716294357193e56c14975dc5', 1),\n",
       " ('0xc67c0a651c8e8f05129b1dce66cbd862a4c75a01', 1),\n",
       " ('0x46d9e203f9eadb2289e2b270ebce693ebaeea928', 1),\n",
       " ('0xeb70819c9479950b780544f5e5f208f50c95bdfd', 1),\n",
       " ('0x39b27bdcd3ef64317b90c080dba23a655509e013', 1),\n",
       " ('0x2cfcc05302e57258cd515fe13c9e62de2d9fe835', 1),\n",
       " ('0x5816a66cc51569a77591fca7b218f55b38e8a1db', 1),\n",
       " ('0xcee368f2ad9fcbc00f75e0220a86e1520ddd862f', 1),\n",
       " ('0xa3567419a688a892d81828e1143b60633babe842', 1),\n",
       " ('0x5d971a660c7dff0a1d80ff252affe85145c462b1', 1),\n",
       " ('0xbf114d74f0db625bffeac794463448fe835de87d', 1),\n",
       " ('0xaaab158c5e65c6b7c4a68cb0a41dd5c879d089ba', 1),\n",
       " ('0xdf2a8c2d5f7eb0c9431022b88c4d5e6178a902c2', 1),\n",
       " ('0x74edad0d3f2666a95f592b4b0f82ccd249de4837', 1),\n",
       " ('0x40ed50b5037072287f71e9d5afdd9a8c380fd9e4', 1),\n",
       " ('0x97aa1d071aa4e7eb2b4950965c22974e4898004c', 1),\n",
       " ('0xb5cbaf6009ecfd3ff01186cf0523f54e3808bbe5', 1),\n",
       " ('0x542de1dd9d8e073965993923280ef7ec230ae461', 1),\n",
       " ('0x1438635db4f7192eb12dfd85847d2bbcc92b69f3', 1),\n",
       " ('0xd7bfbea3a675b9d5a474c52c07573de107a54a0e', 1),\n",
       " ('0xa3950087c00f18727d6acd55f007a427a16715c1', 1),\n",
       " ('0x0fa5827f43de43ee3763c68ea6ba3d80b81306f4', 1),\n",
       " ('0xfa3c9c784f3afaee5521a8cfdbc90f129144b923', 1),\n",
       " ('0x24edbf0915ffe0dcea0067ae0202967856212ba9', 1),\n",
       " ('0xa3cf0f7cee23e40ad9ad69a37161f3fca2f110b4', 1),\n",
       " ('0xc86f9ce115e3b3d1480481922c3c9b7a41795e2e', 1),\n",
       " ('0x6420b119615f5ccba2b241863172da379f07e43d', 1),\n",
       " ('0xea7beb3751cc31c6056eee110b2d26cbd0666d9f', 1),\n",
       " ('0x442b83491d06e2ec9f785750a59760de4a3c320c', 1),\n",
       " ('0x8e3f692c2bbed0c0c65e13c1f097a04670104dbd', 1),\n",
       " ('0x01f7d914ef73aba2e26e935f08245bc8c4ea609e', 1),\n",
       " ('0x02af4731eb5cc2c218b470e4c22f4661637e4bc0', 1),\n",
       " ('0xa9a926bed50dc038b20bb20de361e4c35aae51fc', 1),\n",
       " ('0x8f889a8ad67d1aaffb96cf0d745a8412b2e85c24', 1),\n",
       " ('0x0646eb8b5ec11e3aec2964faa667857f38183ee5', 1),\n",
       " ('0x7eac6f940a0ea1b2b52932b9ded7b1eb45eda414', 1),\n",
       " ('0x2d7823510e2a995678fa0f268d4723a01eee1b28', 1),\n",
       " ('0xdea83e44886e4aaeee0b79b724189d547f9af2a3', 1),\n",
       " ('0xd3c85877f7931889ae999a57f5ae41f847611c68', 1),\n",
       " ('0xa6b24182da177d4be273bc8c073bd398c92890bc', 1),\n",
       " ('0x54d5262f7cfab2a42e8fc66500209e84b7d1e917', 1),\n",
       " ('0xd39428d0d41cae1eb30de8c36af4c5708ace3586', 1),\n",
       " ('0x02703eab1e2d99cfa790ee010d6926dbc07d8111', 1),\n",
       " ('0x9adea40fd3d01ff946bf9cb7ad5b5ee8a281653b', 1),\n",
       " ('0x6aa4165ce235623586dc521977e21bec491e5b80', 1),\n",
       " ('0xa14254ddc00ea87bb2cc7825bc62c640b614617b', 1),\n",
       " ('0xcd64f5e1c95d5eeb2ba86b9e4ee4e5bb993d8309', 1),\n",
       " ('0x02d480abd11deddcf7477c7194df0f35b0925bd5', 1),\n",
       " ('0x3740659dcec7f049be0b2289b255f4e94ae3446e', 1),\n",
       " ('0x19c29c8290876799a19b689d0d9e1b096d6af152', 1),\n",
       " ('0x3fe0963b59995593fc7abb9cc3228fc2e5b57d0d', 1),\n",
       " ('0x197151cc568aeb8dd0ce62ffbf603c127d53d701', 1),\n",
       " ('0x8c2865048c9066529e624c1a2b766fcdde688531', 1),\n",
       " ('0x5dacacf9f85036c424366aed55aa78a641d03cb6', 1),\n",
       " ('0x85e79d23b03ecd323fe865f9a2c39522e9c43138', 1),\n",
       " ('0x9ffe34fab344f5dc18d10dfb1357925d7ec1e565', 1),\n",
       " ('0xbcd1fae65b3130599277081e6cc4aaa8d4bf291b', 1),\n",
       " ('0x11a2c5551f6a78432fabbeea380a472be0452619', 1),\n",
       " ('0xbcf89ae404ae184bd76aea2bca98e1c640522f61', 1),\n",
       " ('0xebd8863584b4d934f17526cdb19dec9c7d565832', 1),\n",
       " ('0x8e68396716ab53cd6d207d8e6e985d5d7e2c87c1', 1),\n",
       " ('0xb85365e8591c227120fddd428af0ac286358c7a5', 1),\n",
       " ('0x38d54e86a9b6fbc791f5ddb47c316a6cf49269ff', 1),\n",
       " ('0x8d4b73554844e83d8768f297b668eb1e3916f5d5', 1),\n",
       " ('0x0144a13fdfdabf8ab12a105c400434fdf3d58857', 1),\n",
       " ('0xfc6b01dc95f484a5a4b0ae90d2c6ed97f1427706', 1),\n",
       " ('0x87cc954f91501a238361cbb87716a794ec8d8e13', 1),\n",
       " ('0x4d9bd66b3d49f38e93a56e24524ecdd69cc4e342', 1),\n",
       " ('0x2b43eeab35d1ff9cf8806b94e829d760382c7481', 1),\n",
       " ('0xd3b86fd23dbcfee24dff075681ff217d3dbf0e35', 1),\n",
       " ('0x18dc907de4fe46540c61213d0616afe5e62ae0da', 1),\n",
       " ('0x55079cea13c1f88ea4ab106c6c91317f7a5ee418', 1),\n",
       " ('0xeb561c27d38321cd7bcac3c546ed0c4a2ca0ea87', 1),\n",
       " ('0x9216c469c768ec5a3593bcdd440fce8df14e14b4', 1),\n",
       " ('0xfb1ac41d1c45d0f26b6f59fbf4b343def6692eb5', 1),\n",
       " ('0xdc731d7dd66c9a541a85162922ade6a10274951e', 1),\n",
       " ('0x271c418807e74b029835e539bda8e4b6ff178ca4', 1),\n",
       " ('0xfb21bc591212bea9125e314bf2e39b00b8fd95dd', 1),\n",
       " ('0x4075009c96d06f20e33151dcc5900914bee2932f', 1),\n",
       " ('0xb6bdb854bf7cb80d3b3a6bd97d30fee58b9c3e8a', 1),\n",
       " ('0x8ab9585902fdb42b1fe6716d0a850e3c375192df', 1),\n",
       " ('0xb00fd75b6ea9ac035650776b9ce30c0c8e115f45', 1),\n",
       " ('0x9ddaf56377826289943368927e6d08fd4c77359f', 1),\n",
       " ('0x86962574a42629b00612a2408b9d29efef08b2dc', 1),\n",
       " ('0xcdcf491606dca4f080987da8b9e4951368572f01', 1),\n",
       " ('0x18024c6490cbfaf7d4d459b59406a7792bc49cbd', 1),\n",
       " ('0xe87482eb11a5b6d5022e2f128987f97cccb2697b', 1),\n",
       " ('0xab7d08fef040de5eda9eb05ca96d84508a0d2fcb', 1),\n",
       " ('0xfd687eadf0eca01667dfb80f7f4f999b81477f64', 1),\n",
       " ('0x2d89062a86d9f24631525f7f25e85e360b3137bc', 1),\n",
       " ('0x20cafc4bd759494f0e4a982aba74e6cecc67d7ab', 1),\n",
       " ('0x57d8a25c9c1aed4040976a1248c23c1957664fd6', 1),\n",
       " ('0x31022ef89d44e44c91b6e045e39086319ebd82ae', 1),\n",
       " ('0xe763b1f3e3f903873f148e56554e4b8550e1df2c', 1),\n",
       " ('0x30b9ea67949904c73fbed2c84d1c6de80e73315b', 1),\n",
       " ('0x3bd31f04914153debb927b949925d19445b09d8b', 1),\n",
       " ('0x0b95c763c63bfe84ad355563e8695574cb15dfe7', 1),\n",
       " ('0x3619d7096e4694ae97d77ed90089c03d85af734e', 1),\n",
       " ('0xac4a8f0b0063e6c2da0c7491ab504111354adf9c', 1),\n",
       " ('0xccf0b570608268d85f276b2c9fb59400a9544d78', 1),\n",
       " ('0xc3266f500fa65e1dc0901562987728cf0c6f5063', 1),\n",
       " ('0xef6344f2b433387ea3a868970bba5ac4f864cfb9', 1),\n",
       " ('0x0a0b2d61f47e4e5f53eb29c52ac173933f7442b8', 1),\n",
       " ('0x9bd328a8e0b0d6af7bc393c19a7bf2c0cde93d53', 1),\n",
       " ('0xa6b6ae2e803643ee8cf1e8c2efbc7bc567893309', 1),\n",
       " ('0xf914dc3cdd0db7b1e8b8770933807315ada2a032', 1),\n",
       " ('0xdd148e2638dda38e2f2f181d0fbc3cce07380299', 1),\n",
       " ('0x529240f13b624b51611cf81069415075f26d8fb5', 1),\n",
       " ('0x408b62970e837ff7d9160975dee0940d5bfda654', 1),\n",
       " ('0xb416a4034ecc3b579cc789e4ff07a47e515e627a', 1),\n",
       " ('0x47cb11428a97e543b58a6d926bf2e1846042775d', 1),\n",
       " ('0x88be2ec8d2a2e3a4b9a9be1657c27c29184989d3', 1),\n",
       " ('0xb6648852cb037b0f3a0d2638593e2e2d7862b57b', 1),\n",
       " ('0x8b33c3af41d840e78963cbdd408cc74e2398ca4b', 1),\n",
       " ('0xec3b82bbb562ef664c529fbb469d83204310f5dd', 1),\n",
       " ('0x14993c9bec0f6be0359d8f35022adf48be9dbc86', 1),\n",
       " ('0xe163906180164a8d3c0ff7ee1b8e6bd8d5b49c3b', 1),\n",
       " ('0xdc76101594c726cb623e426d49940ceeb6a6bdf4', 1),\n",
       " ('0x3329127df03947ea652c60f82ffd388f690e9110', 1),\n",
       " ('0x7451d59d129bd6b380d67d657441a3ec719c2074', 1),\n",
       " ('0xbdc22a9f9d4330f7c53ef7870442161e17dbf93a', 1),\n",
       " ('0x6ba08247c5734e085a1f067616762f47ba1b7ed5', 1)]"
      ]
     },
     "execution_count": 251,
     "metadata": {},
     "output_type": "execute_result"
    }
   ],
   "source": [
    "sorted(canonical_miner_dict.items(), key=lambda kv: kv[1], reverse=True)"
   ]
  },
  {
   "cell_type": "markdown",
   "metadata": {},
   "source": [
    "Collect miners appearing in both canonical and non canonical datasets  \n",
    "Calculate the miners performance"
   ]
  },
  {
   "cell_type": "code",
   "execution_count": 261,
   "metadata": {},
   "outputs": [],
   "source": [
    "# performance = canonical / (canonical + non canonical)\n",
    "# we have canonical and non canonical (uncle, forked and broadcast),\n",
    "# miner_performance_dict = dict()  # dict[miner_addr] = performance\n",
    "# for miner_addr, c_block_number in canonical_miner_dict.iter:\n",
    "\n",
    "miner_performance_dict = dict()\n",
    "\n",
    "for cur_miner, canonical_number in canonical_miner_dict.items():\n",
    "    if cur_miner in non_canonical_miner_dict:\n",
    "        miner_performance_dict[cur_miner] = canonical_number / (canonical_number + non_canonical_miner_dict[cur_miner])\n",
    "#    else:\n",
    " #       miner_performance_dict[cur_miner] = \n"
   ]
  },
  {
   "cell_type": "markdown",
   "metadata": {},
   "source": [
    "List miners performance "
   ]
  },
  {
   "cell_type": "code",
   "execution_count": 263,
   "metadata": {},
   "outputs": [
    {
     "data": {
      "text/plain": [
       "[('0x9541b5a7beb445641990e8cf67ce8ad467ec930b', 0.9964664310954063),\n",
       " ('0x09e76074fa4e2d100d14d54c45a5558567d80c28', 0.987012987012987),\n",
       " ('0xf616d8d43635098d7a145d8bc5418d95d6a3d8c0', 0.9869791666666666),\n",
       " ('0x0f06d283513504c261ff789f33df1d93e9a5225c', 0.9833679833679834),\n",
       " ('0x7c6694032b4db11ac485e1cff0f7509d58b41569', 0.9800590841949779),\n",
       " ('0x8bf932fb121c3c278d62ad4d36fad2fc03a14bce', 0.9785932721712538),\n",
       " ('0xff1b891969773159366ab6310ff63a69ac4acffd', 0.9762675296655879),\n",
       " ('0xee2564013e07792478a289c7d2e2791a2d73fe3d', 0.9761904761904762),\n",
       " ('0xb3e2d691a9aa6a7895891243c63646326adb2a8e', 0.9714285714285714),\n",
       " ('0x2575188aa6fab4d7dd948544039b4231cf20badd', 0.967741935483871),\n",
       " ('0xb2d0cba76ed764c068d25bc9b620365fd5bf4a35', 0.9666666666666667),\n",
       " ('0x11a73b18557944fbde9f41c0c436069f870bd2eb', 0.9661016949152542),\n",
       " ('0xf3a71cc1be5ce833c471e3f25aa391f9cd56e1aa', 0.9615384615384616),\n",
       " ('0x1a496ef4a87299c3fa2da155f581242a1d0d40de', 0.9611650485436893),\n",
       " ('0x4b38a1f9c1a580fe29f150d738eac85ba52569ad', 0.959349593495935),\n",
       " ('0xd0db3c9cf4029bac5a9ed216cd174cba5dbf047c', 0.9592476489028213),\n",
       " ('0x9841316fd9fc5bad84fc4e22a0b5a2b4a107ac0c', 0.9590643274853801),\n",
       " ('0xf35074bbd0a9aee46f4ea137971feec024ab704e', 0.9582577132486388),\n",
       " ('0x3209e020b641163f5a7418a899c70f09c00bd2ed', 0.9580645161290322),\n",
       " ('0x2a98776c7e13ed1c240858bd241dcf95fc1928b4', 0.9571428571428572),\n",
       " ('0x8e59176cd996342da6fdf20c85cb02bca095d552', 0.9552238805970149),\n",
       " ('0x04668ec2f57cc15c381b461b9fedab5d451c8f7f', 0.9526214305389772),\n",
       " ('0x249bdb4499bd7c683664c149276c1d86108e2137', 0.9521739130434783),\n",
       " ('0x58af3f3797861fba4a5e5de621fa2c15807d0487', 0.9512195121951219),\n",
       " ('0x433022c4066558e7a32d850f02d2da5ca782174d', 0.9495091164095372),\n",
       " ('0x5b6f235fdd9858cf54d4701dd916fd756872df19', 0.9473684210526315),\n",
       " ('0xaa212b374bce9bcbba6b8e3f0c20aa1c0b036b44', 0.9473684210526315),\n",
       " ('0xe16263ee79b0ee32c242c99f02559e92abaea9eb', 0.9464285714285714),\n",
       " ('0xd144e30a0571aaf0d0c050070ac435deba461fab', 0.9456521739130435),\n",
       " ('0x6f24d7fc7fb17d051c25be5da1af150077d60fc1', 0.9448763250883392),\n",
       " ('0x8122abd38e70a25af2315c1556b0c6940506cff5', 0.9447881960970966),\n",
       " ('0xa150d46f386610e7468c8bcdd3a64316e06203e0', 0.9436619718309859),\n",
       " ('0x6a851246689eb8fc77a9bf68df5860f13f679fa0', 0.9423529411764706),\n",
       " ('0x00192fb10df37c9fb26829eb2cc623cd1bf599e8', 0.9418370285056148),\n",
       " ('0x3e8702685ed7826a55acb1c6eb4a6d74638d165c', 0.9411764705882353),\n",
       " ('0x35f61dfb08ada13eba64bf156b80df3d5b3a738d', 0.9408473582096286),\n",
       " ('0xcc22cb1b6625b64e81909456111d76be6158dfbc', 0.9401759530791789),\n",
       " ('0xa39b0ff4c3413db472d62a12a7a474544b58bc25', 0.9397590361445783),\n",
       " ('0x005e288d713a5fb3d7c9cf1b43810a98688c7223', 0.9388123840218772),\n",
       " ('0x06a641f1274fe79624b8484ac59988edc557d834', 0.936),\n",
       " ('0xd224ca0c819e8e97ba0136b3b95ceff503b79f53', 0.9323989272883672),\n",
       " ('0x002e08000acbbae2155fab7ac01929564949070d', 0.9306767271869842),\n",
       " ('0x5c282fe36e6ecfbead066368a3e5b345cf8d1591', 0.9285714285714286),\n",
       " ('0x4c549990a7ef3fea8784406c1eecc98bf4211fa5', 0.9285604192355117),\n",
       " ('0xb8c674fa6c1cedaa25ee5679ecf5c3e452a13795', 0.9282560706401766),\n",
       " ('0xac4b9729cfb42ec0379db62767e268cb93504d55', 0.9263157894736842),\n",
       " ('0xcc16e3c00dbbe76603fa833ec20a48f786dfe610', 0.9261384672343577),\n",
       " ('0x5a0b54d5dc17e0aadc383d2db43b0a0d3e029c4c', 0.9212251665109354),\n",
       " ('0x06b8c5883ec71bc3f4b332081519f23834c8706e', 0.9210032417676165),\n",
       " ('0x09ab1303d3ccaf5f018cd511146b07a240c70294', 0.9206458809157062),\n",
       " ('0x74d5a000983d8c4a37041ad065abc09b5c9fe94d', 0.92),\n",
       " ('0xea674fdde714fd979de3edf0f56aa9716b898ec8', 0.9186388091230154),\n",
       " ('0xaa5c4244f05c92781c4f259913319d8ba1acf05e', 0.9183830203169727),\n",
       " ('0x52e44f279f4203dcf680395379e5f9990a69f13c', 0.9175869581549094),\n",
       " ('0x2a5994b501e6a560e727b6c2de5d856396aadd38', 0.917147032556629),\n",
       " ('0x497a49648885f7aac3d761817f191ee1afaf399c', 0.9171171171171171),\n",
       " ('0x2cb463e0803da5f24e96b998c2388567921d1725', 0.9169139465875371),\n",
       " ('0x8939be10f3612763f41f92c8f73d7420a2507fb4', 0.9130434782608695),\n",
       " ('0x44fd3ab8381cc3d14afa7c4af7fd13cdc65026e1', 0.9129265770423992),\n",
       " ('0xb6cf40aee9990c25d7d6193952af222e120b31c2', 0.9104477611940298),\n",
       " ('0x6c3183792fbb4a4dd276451af6baf5c66d5f5e48', 0.9083870967741936),\n",
       " ('0x6e8583b7b062b38851e3fc9f09346e920bdfb9d4', 0.9076354679802956),\n",
       " ('0xd7a15baeb7ea05c9660cbe03fb7999c2c2e57625', 0.9075144508670521),\n",
       " ('0x9d6d492bd500da5b33cf95a5d610a73360fcaaa0', 0.9031258072849393),\n",
       " ('0x829bd824b016326a401d083b33d092293333a830', 0.9026911094908482),\n",
       " ('0xede16675c4aea9b5b92ce1a3750992880d83bb12', 0.9023288147375739),\n",
       " ('0x3f14cb4f670008ac92efa364ddd72bce118a3af6', 0.9007633587786259),\n",
       " ('0x99c85bb64564d9ef9a99621301f22c9993cb89e3', 0.9003845449551364),\n",
       " ('0x825a97b927e2cc770b1c0fd3341aab150fbf23a5', 0.9),\n",
       " ('0x20c3064bb37c53104b4929b25be0eced6a3ba711', 0.9),\n",
       " ('0xa3c084ae80a3f03963017669bc696e961d3ae5d5', 0.8982142857142857),\n",
       " ('0xd1008015aa0cf2a61493bd19de6c9ca88e934fce', 0.8976143141153081),\n",
       " ('0x6a7a43be33ba930fe58f34e07d0ad6ba7adb9b1f', 0.896368378812199),\n",
       " ('0x8fce1ef27f3add1411c7a99be402de598ad38389', 0.8959660297239915),\n",
       " ('0xfe05a3e72235c9f92fd9f1282f51a8154d6d342b', 0.8941176470588236),\n",
       " ('0xa855c20a1351acd2690c716e2709c7dff3978d12', 0.8928028383172834),\n",
       " ('0x52bc44d5378309ee2abf1539bf71de1b7d7be3b5', 0.8896833264748794),\n",
       " ('0x464b0b37db1ee1b5fbe27300acfbf172fd5e4f53', 0.8891170431211499),\n",
       " ('0x28974b4a92e7be907418722b37446f2eb60184cc', 0.875),\n",
       " ('0xa1ab57ab70c572eacb1b3363742162173460d1ce', 0.875),\n",
       " ('0xeea5b82b61424df8020f5fedd81767f2d0d25bfb', 0.8747916280792739),\n",
       " ('0x1ca43b645886c98d7eb7d27ec16ea59f509cbe1a', 0.8743315508021391),\n",
       " ('0xadf055c6222d75c5f7fe90e021f481e8c55f0afd', 0.8734335839598998),\n",
       " ('0x135609342b1233fd80de415827f093f71eb439c2', 0.8695652173913043),\n",
       " ('0xf78465bce3c4620fd124c67d523d2ab80a76c0d8', 0.8672985781990521),\n",
       " ('0xb2930b35844a230f00e51431acae96fe543a0347', 0.8637593165586627),\n",
       " ('0x70aec4b9cffa7b55c0711b82dd719049d615e21d', 0.8615015426808365),\n",
       " ('0x41c74604182a1531534e6d553b49b1d78e6fa9a2', 0.8591549295774648),\n",
       " ('0xd4383232c8d1dbe0e03bdfab849871fa17e61807', 0.8564638783269962),\n",
       " ('0x5be1bfc0b1f01f32178d46abf70bb5ff5c4e425a', 0.846830985915493),\n",
       " ('0x11905bd0863ba579023f662d1935e39d0c671933', 0.8412017167381974),\n",
       " ('0x9435d50503aee35c8757ae4933f7a0ab56597805', 0.826977994288594),\n",
       " ('0xc015dc8b1952dc379b820e0ffd8220ca74566113', 0.8253968253968254),\n",
       " ('0x84a0d77c693adabe0ebc48f88b3ffff010577051', 0.8240318906605922),\n",
       " ('0x535d56aa2cd8f945f05a6c498ac2e6e0bf7faa61', 0.8076923076923077),\n",
       " ('0x2a65aca4d5fc5b5c859090a6c34d164135398226', 0.8021234948692093),\n",
       " ('0xc0fe5c137587fa8ecaa8d0ba2910ee00bab8d7f5', 0.7975206611570248),\n",
       " ('0x858fdec2da9fa3cd3d97b8bd1af98e9249d33613', 0.7883858267716536),\n",
       " ('0x842336e23dcc8fb4150455b5d21fc4053be60fa0', 0.75),\n",
       " ('0x50a54c7cb00ef3e41de63d8cbb59f81a2fd785dd', 0.75),\n",
       " ('0xc6b84914dd0e0d64962e2f0d99bcae4e4a2daf8a', 0.75),\n",
       " ('0x4bb96091ee9d802ed039c4d1a5f6216f90f81b01', 0.7409603534472736),\n",
       " ('0xce742257c4e5ce5422dabdf83a58d994202736ac', 0.7285714285714285),\n",
       " ('0x1b5b5906306c96b842dc03105e3b38636a4eda0b', 0.7281599393594845),\n",
       " ('0x95d41a6ecd6c36abdc584ac87de5b454281cb2c1', 0.6933333333333334),\n",
       " ('0x804a55a05fdab06831d6ac11e9ca41fcfba1a8bf', 0.6875),\n",
       " ('0x9b6e98d7fe6ba17587539c5cdd24ef282f5122e2', 0.6835443037974683),\n",
       " ('0x0501b62d81a3f072f1d393d2f74013bab8d36d5c', 0.6774193548387096),\n",
       " ('0x85f24bf0b026356b6459a17577ee27f733ba94b3', 0.6666666666666666),\n",
       " ('0x5af8996e209f1f04daf499da643eb14973d39253', 0.6666666666666666),\n",
       " ('0x8aa463112314905620d0b8ce192c2261c282ca1b', 0.6666666666666666),\n",
       " ('0x7759031caf64c691213020e23096078915077d3d', 0.6052631578947368),\n",
       " ('0x96338149e9f6c262d4cb7aeec1cf4c652079a11c', 0.5968109339407744),\n",
       " ('0x411e17ca4b46fcc1f2218013dfbc7be27f6a1cfc', 0.5),\n",
       " ('0xeb70819c9479950b780544f5e5f208f50c95bdfd', 0.5),\n",
       " ('0x02d480abd11deddcf7477c7194df0f35b0925bd5', 0.5),\n",
       " ('0xf914dc3cdd0db7b1e8b8770933807315ada2a032', 0.5),\n",
       " ('0xd5bbb4264b70ca4f58c45d27b9d7e11190754a54', 0.4117647058823529),\n",
       " ('0x914d0e134b92986a55e49cc23ddf39ec6d971dcd', 0.40425531914893614),\n",
       " ('0x0f382b6693a54666c0a12b1cc20f9f48e21da7a2', 0.3333333333333333),\n",
       " ('0x02af4731eb5cc2c218b470e4c22f4661637e4bc0', 0.3333333333333333),\n",
       " ('0x7eac6f940a0ea1b2b52932b9ded7b1eb45eda414', 0.3333333333333333),\n",
       " ('0xb8f82b073479c9afe33463852d7778554a405453', 0.3010752688172043),\n",
       " ('0xd9ee4d08a86b430544254ff95e32aa6fcc1d3163', 0.25),\n",
       " ('0xbbf3ce0e1470ce42d5e4c914dce63f3701b136e0', 0.2222222222222222),\n",
       " ('0xf139f57ee08f3f7f02a6f0cebffe14147635ea2f', 0.2),\n",
       " ('0xd380a3fa09c781f3b1b4545dd04048c4a4ee636d', 0.16666666666666666),\n",
       " ('0xa027231f42c80ca4125b5cb962a21cd4f812e88f', 0.09615384615384616),\n",
       " ('0x83ff764ee42b39a0c06d992f5e1e683f44690dbd', 0.08333333333333333),\n",
       " ('0xb75d1e62b10e4ba91315c4aa3facc536f8a922f5', 0.04358974358974359),\n",
       " ('0xa9a926bed50dc038b20bb20de361e4c35aae51fc', 0.02127659574468085)]"
      ]
     },
     "execution_count": 263,
     "metadata": {},
     "output_type": "execute_result"
    }
   ],
   "source": [
    "sorted(miner_performance_dict.items(), key=lambda kv: kv[1], reverse=True)      \n"
   ]
  },
  {
   "cell_type": "markdown",
   "metadata": {},
   "source": [
    "Set the performance bar  \n",
    "Collect miners whose performance is higher than the bar"
   ]
  },
  {
   "cell_type": "code",
   "execution_count": 264,
   "metadata": {},
   "outputs": [],
   "source": [
    "performance_boundary = 0.5\n",
    "good_miner = dict()\n",
    "\n",
    "for cur_miner, cur_performance in miner_performance_dict.items():\n",
    "    if cur_performance >= performance_boundary:\n",
    "        good_miner[cur_miner] = cur_performance     "
   ]
  },
  {
   "cell_type": "markdown",
   "metadata": {},
   "source": [
    "List good miners with canoncial number and performance"
   ]
  },
  {
   "cell_type": "code",
   "execution_count": 266,
   "metadata": {},
   "outputs": [
    {
     "name": "stdout",
     "output_type": "stream",
     "text": [
      "0x5a0b54d5dc17e0aadc383d2db43b0a0d3e029c4c   353943   0.9212251665109354\n",
      "0x2a5994b501e6a560e727b6c2de5d856396aadd38   22593   0.917147032556629\n",
      "0x52bc44d5378309ee2abf1539bf71de1b7d7be3b5   190257   0.8896833264748794\n",
      "0x2a65aca4d5fc5b5c859090a6c34d164135398226   27046   0.8021234948692093\n",
      "0x829bd824b016326a401d083b33d092293333a830   190661   0.9026911094908482\n",
      "0xea674fdde714fd979de3edf0f56aa9716b898ec8   417480   0.9186388091230154\n",
      "0x35f61dfb08ada13eba64bf156b80df3d5b3a738d   20852   0.9408473582096286\n",
      "0x70aec4b9cffa7b55c0711b82dd719049d615e21d   2513   0.8615015426808365\n",
      "0xb2930b35844a230f00e51431acae96fe543a0347   88772   0.8637593165586627\n",
      "0x3e8702685ed7826a55acb1c6eb4a6d74638d165c   96   0.9411764705882353\n",
      "0x52e44f279f4203dcf680395379e5f9990a69f13c   12214   0.9175869581549094\n",
      "0x09ab1303d3ccaf5f018cd511146b07a240c70294   17333   0.9206458809157062\n",
      "0xff1b891969773159366ab6310ff63a69ac4acffd   1810   0.9762675296655879\n",
      "0x06b8c5883ec71bc3f4b332081519f23834c8706e   10796   0.9210032417676165\n",
      "0x005e288d713a5fb3d7c9cf1b43810a98688c7223   19225   0.9388123840218772\n",
      "0x7c6694032b4db11ac485e1cff0f7509d58b41569   1327   0.9800590841949779\n",
      "0x4c549990a7ef3fea8784406c1eecc98bf4211fa5   12049   0.9285604192355117\n",
      "0xd4383232c8d1dbe0e03bdfab849871fa17e61807   1802   0.8564638783269962\n",
      "0x84a0d77c693adabe0ebc48f88b3ffff010577051   7235   0.8240318906605922\n",
      "0x002e08000acbbae2155fab7ac01929564949070d   7894   0.9306767271869842\n",
      "0x00192fb10df37c9fb26829eb2cc623cd1bf599e8   9813   0.9418370285056148\n",
      "0xcc16e3c00dbbe76603fa833ec20a48f786dfe610   5003   0.9261384672343577\n",
      "0x04668ec2f57cc15c381b461b9fedab5d451c8f7f   20750   0.9526214305389772\n",
      "0x4bb96091ee9d802ed039c4d1a5f6216f90f81b01   6373   0.7409603534472736\n",
      "0x9435d50503aee35c8757ae4933f7a0ab56597805   4923   0.826977994288594\n",
      "0x464b0b37db1ee1b5fbe27300acfbf172fd5e4f53   5629   0.8891170431211499\n",
      "0x6a851246689eb8fc77a9bf68df5860f13f679fa0   801   0.9423529411764706\n",
      "0x6a7a43be33ba930fe58f34e07d0ad6ba7adb9b1f   8935   0.896368378812199\n",
      "0xa855c20a1351acd2690c716e2709c7dff3978d12   3523   0.8928028383172834\n",
      "0x41c74604182a1531534e6d553b49b1d78e6fa9a2   1220   0.8591549295774648\n",
      "0x6c3183792fbb4a4dd276451af6baf5c66d5f5e48   704   0.9083870967741936\n",
      "0xadf055c6222d75c5f7fe90e021f481e8c55f0afd   697   0.8734335839598998\n",
      "0xa39b0ff4c3413db472d62a12a7a474544b58bc25   234   0.9397590361445783\n",
      "0x11905bd0863ba579023f662d1935e39d0c671933   392   0.8412017167381974\n",
      "0xf35074bbd0a9aee46f4ea137971feec024ab704e   2640   0.9582577132486388\n",
      "0x58af3f3797861fba4a5e5de621fa2c15807d0487   39   0.9512195121951219\n",
      "0x99c85bb64564d9ef9a99621301f22c9993cb89e3   4917   0.9003845449551364\n",
      "0x1ca43b645886c98d7eb7d27ec16ea59f509cbe1a   2616   0.8743315508021391\n",
      "0x8e59176cd996342da6fdf20c85cb02bca095d552   64   0.9552238805970149\n",
      "0xd0db3c9cf4029bac5a9ed216cd174cba5dbf047c   306   0.9592476489028213\n",
      "0x497a49648885f7aac3d761817f191ee1afaf399c   1527   0.9171171171171171\n",
      "0x433022c4066558e7a32d850f02d2da5ca782174d   1354   0.9495091164095372\n",
      "0xede16675c4aea9b5b92ce1a3750992880d83bb12   2596   0.9023288147375739\n",
      "0xb8c674fa6c1cedaa25ee5679ecf5c3e452a13795   1682   0.9282560706401766\n",
      "0xa3c084ae80a3f03963017669bc696e961d3ae5d5   503   0.8982142857142857\n",
      "0xeea5b82b61424df8020f5fedd81767f2d0d25bfb   4723   0.8747916280792739\n",
      "0x5be1bfc0b1f01f32178d46abf70bb5ff5c4e425a   481   0.846830985915493\n",
      "0x6e8583b7b062b38851e3fc9f09346e920bdfb9d4   737   0.9076354679802956\n",
      "0x1a496ef4a87299c3fa2da155f581242a1d0d40de   297   0.9611650485436893\n",
      "0x5c282fe36e6ecfbead066368a3e5b345cf8d1591   13   0.9285714285714286\n",
      "0x8939be10f3612763f41f92c8f73d7420a2507fb4   63   0.9130434782608695\n",
      "0x96338149e9f6c262d4cb7aeec1cf4c652079a11c   262   0.5968109339407744\n",
      "0xfe05a3e72235c9f92fd9f1282f51a8154d6d342b   76   0.8941176470588236\n",
      "0x28974b4a92e7be907418722b37446f2eb60184cc   28   0.875\n",
      "0xf78465bce3c4620fd124c67d523d2ab80a76c0d8   183   0.8672985781990521\n",
      "0xb6cf40aee9990c25d7d6193952af222e120b31c2   61   0.9104477611940298\n",
      "0x0f06d283513504c261ff789f33df1d93e9a5225c   1419   0.9833679833679834\n",
      "0x3f14cb4f670008ac92efa364ddd72bce118a3af6   118   0.9007633587786259\n",
      "0x842336e23dcc8fb4150455b5d21fc4053be60fa0   3   0.75\n",
      "0x9841316fd9fc5bad84fc4e22a0b5a2b4a107ac0c   164   0.9590643274853801\n",
      "0xd144e30a0571aaf0d0c050070ac435deba461fab   609   0.9456521739130435\n",
      "0xee2564013e07792478a289c7d2e2791a2d73fe3d   41   0.9761904761904762\n",
      "0xb3e2d691a9aa6a7895891243c63646326adb2a8e   34   0.9714285714285714\n",
      "0xd1008015aa0cf2a61493bd19de6c9ca88e934fce   903   0.8976143141153081\n",
      "0xf3a71cc1be5ce833c471e3f25aa391f9cd56e1aa   75   0.9615384615384616\n",
      "0x8bf932fb121c3c278d62ad4d36fad2fc03a14bce   320   0.9785932721712538\n",
      "0xb2d0cba76ed764c068d25bc9b620365fd5bf4a35   29   0.9666666666666667\n",
      "0x9541b5a7beb445641990e8cf67ce8ad467ec930b   282   0.9964664310954063\n",
      "0x249bdb4499bd7c683664c149276c1d86108e2137   219   0.9521739130434783\n",
      "0xce742257c4e5ce5422dabdf83a58d994202736ac   714   0.7285714285714285\n",
      "0x8122abd38e70a25af2315c1556b0c6940506cff5   1985   0.9447881960970966\n",
      "0xd224ca0c819e8e97ba0136b3b95ceff503b79f53   18427   0.9323989272883672\n",
      "0x6f24d7fc7fb17d051c25be5da1af150077d60fc1   1337   0.9448763250883392\n",
      "0x85f24bf0b026356b6459a17577ee27f733ba94b3   2   0.6666666666666666\n",
      "0x8fce1ef27f3add1411c7a99be402de598ad38389   844   0.8959660297239915\n",
      "0xf616d8d43635098d7a145d8bc5418d95d6a3d8c0   379   0.9869791666666666\n",
      "0x858fdec2da9fa3cd3d97b8bd1af98e9249d33613   3204   0.7883858267716536\n",
      "0x2a98776c7e13ed1c240858bd241dcf95fc1928b4   67   0.9571428571428572\n",
      "0x09e76074fa4e2d100d14d54c45a5558567d80c28   76   0.987012987012987\n",
      "0x44fd3ab8381cc3d14afa7c4af7fd13cdc65026e1   4414   0.9129265770423992\n",
      "0x5af8996e209f1f04daf499da643eb14973d39253   10   0.6666666666666666\n",
      "0xc015dc8b1952dc379b820e0ffd8220ca74566113   52   0.8253968253968254\n",
      "0x7759031caf64c691213020e23096078915077d3d   46   0.6052631578947368\n",
      "0x804a55a05fdab06831d6ac11e9ca41fcfba1a8bf   11   0.6875\n",
      "0x95d41a6ecd6c36abdc584ac87de5b454281cb2c1   52   0.6933333333333334\n",
      "0x9d6d492bd500da5b33cf95a5d610a73360fcaaa0   10488   0.9031258072849393\n",
      "0x411e17ca4b46fcc1f2218013dfbc7be27f6a1cfc   1   0.5\n",
      "0x1b5b5906306c96b842dc03105e3b38636a4eda0b   7685   0.7281599393594845\n",
      "0xac4b9729cfb42ec0379db62767e268cb93504d55   176   0.9263157894736842\n",
      "0x9b6e98d7fe6ba17587539c5cdd24ef282f5122e2   54   0.6835443037974683\n",
      "0xaa5c4244f05c92781c4f259913319d8ba1acf05e   13154   0.9183830203169727\n",
      "0x0501b62d81a3f072f1d393d2f74013bab8d36d5c   63   0.6774193548387096\n",
      "0xc0fe5c137587fa8ecaa8d0ba2910ee00bab8d7f5   193   0.7975206611570248\n",
      "0xa150d46f386610e7468c8bcdd3a64316e06203e0   67   0.9436619718309859\n",
      "0xd7a15baeb7ea05c9660cbe03fb7999c2c2e57625   157   0.9075144508670521\n",
      "0x3209e020b641163f5a7418a899c70f09c00bd2ed   297   0.9580645161290322\n",
      "0x2cb463e0803da5f24e96b998c2388567921d1725   309   0.9169139465875371\n",
      "0x50a54c7cb00ef3e41de63d8cbb59f81a2fd785dd   3   0.75\n",
      "0x825a97b927e2cc770b1c0fd3341aab150fbf23a5   9   0.9\n",
      "0xeb70819c9479950b780544f5e5f208f50c95bdfd   1   0.5\n",
      "0xc6b84914dd0e0d64962e2f0d99bcae4e4a2daf8a   12   0.75\n",
      "0x5b6f235fdd9858cf54d4701dd916fd756872df19   18   0.9473684210526315\n",
      "0x8aa463112314905620d0b8ce192c2261c282ca1b   2   0.6666666666666666\n",
      "0xcc22cb1b6625b64e81909456111d76be6158dfbc   1603   0.9401759530791789\n",
      "0x135609342b1233fd80de415827f093f71eb439c2   20   0.8695652173913043\n",
      "0x74d5a000983d8c4a37041ad065abc09b5c9fe94d   23   0.92\n",
      "0x535d56aa2cd8f945f05a6c498ac2e6e0bf7faa61   63   0.8076923076923077\n",
      "0x4b38a1f9c1a580fe29f150d738eac85ba52569ad   236   0.959349593495935\n",
      "0x02d480abd11deddcf7477c7194df0f35b0925bd5   1   0.5\n",
      "0x06a641f1274fe79624b8484ac59988edc557d834   234   0.936\n",
      "0xe16263ee79b0ee32c242c99f02559e92abaea9eb   53   0.9464285714285714\n",
      "0x11a73b18557944fbde9f41c0c436069f870bd2eb   57   0.9661016949152542\n",
      "0xaa212b374bce9bcbba6b8e3f0c20aa1c0b036b44   18   0.9473684210526315\n",
      "0x2575188aa6fab4d7dd948544039b4231cf20badd   30   0.967741935483871\n",
      "0x20c3064bb37c53104b4929b25be0eced6a3ba711   9   0.9\n",
      "0xa1ab57ab70c572eacb1b3363742162173460d1ce   7   0.875\n",
      "0xf914dc3cdd0db7b1e8b8770933807315ada2a032   1   0.5\n"
     ]
    }
   ],
   "source": [
    "for miner in canonical_miner_dict:\n",
    "    if miner in good_miner:\n",
    "        print(miner, ' ', canonical_miner_dict[miner], ' ', good_miner[miner])"
   ]
  },
  {
   "cell_type": "markdown",
   "metadata": {},
   "source": [
    "For miners not appearing in good miner, we find their canonical blocks numbers are pretty small. So we can ignore them."
   ]
  },
  {
   "cell_type": "code",
   "execution_count": 267,
   "metadata": {},
   "outputs": [
    {
     "name": "stdout",
     "output_type": "stream",
     "text": [
      "28\n",
      "1\n",
      "38\n",
      "34\n",
      "1\n",
      "1\n",
      "1\n",
      "3\n",
      "17\n",
      "16\n",
      "11\n",
      "1\n",
      "2\n",
      "22\n",
      "7\n",
      "1\n",
      "1\n",
      "1\n",
      "1\n",
      "1\n",
      "1\n",
      "1\n",
      "26\n",
      "1\n",
      "1\n",
      "1\n",
      "1\n",
      "1\n",
      "1\n",
      "1\n",
      "1\n",
      "1\n",
      "1\n",
      "1\n",
      "1\n",
      "1\n",
      "1\n",
      "3\n",
      "1\n",
      "5\n",
      "1\n",
      "1\n",
      "1\n",
      "1\n",
      "1\n",
      "1\n",
      "1\n",
      "1\n",
      "1\n",
      "6\n",
      "1\n",
      "1\n",
      "16\n",
      "11\n",
      "1\n",
      "1\n",
      "1\n",
      "1\n",
      "1\n",
      "1\n",
      "1\n",
      "1\n",
      "1\n",
      "1\n",
      "11\n",
      "5\n",
      "4\n",
      "1\n",
      "1\n",
      "1\n",
      "1\n",
      "1\n",
      "1\n",
      "1\n",
      "1\n",
      "1\n",
      "3\n",
      "9\n",
      "1\n",
      "1\n",
      "6\n",
      "1\n",
      "1\n",
      "1\n",
      "1\n",
      "1\n",
      "1\n",
      "1\n",
      "1\n",
      "1\n",
      "1\n",
      "1\n",
      "7\n",
      "1\n",
      "1\n",
      "1\n",
      "1\n",
      "1\n",
      "1\n",
      "1\n",
      "1\n",
      "1\n",
      "1\n",
      "57\n",
      "1\n",
      "1\n",
      "1\n",
      "1\n",
      "1\n",
      "1\n",
      "1\n",
      "1\n",
      "1\n",
      "1\n",
      "1\n",
      "1\n",
      "1\n",
      "1\n",
      "2\n",
      "1\n",
      "1\n",
      "1\n",
      "1\n",
      "1\n",
      "1\n",
      "1\n",
      "1\n",
      "1\n",
      "2\n",
      "1\n",
      "1\n",
      "1\n",
      "1\n",
      "1\n",
      "1\n",
      "1\n",
      "1\n",
      "1\n",
      "1\n",
      "1\n",
      "1\n",
      "1\n",
      "1\n",
      "1\n",
      "1\n",
      "1\n",
      "1\n",
      "1\n",
      "9\n",
      "1\n",
      "1\n",
      "1\n",
      "1\n",
      "1\n",
      "1\n",
      "1\n",
      "1\n",
      "1\n",
      "1\n",
      "1\n",
      "1\n",
      "1\n",
      "1\n",
      "1\n",
      "1\n",
      "1\n",
      "1\n",
      "1\n",
      "1\n",
      "1\n",
      "1\n",
      "1\n",
      "1\n",
      "1\n",
      "1\n",
      "1\n",
      "1\n",
      "1\n",
      "1\n",
      "1\n",
      "1\n",
      "1\n",
      "1\n",
      "1\n",
      "1\n",
      "1\n",
      "1\n",
      "1\n",
      "1\n",
      "9\n",
      "1\n",
      "1\n",
      "1\n",
      "1\n",
      "1\n",
      "1\n",
      "1\n",
      "1\n",
      "1\n",
      "1\n",
      "2\n",
      "1\n",
      "3\n",
      "17\n",
      "1\n",
      "1\n",
      "1\n",
      "1\n",
      "1\n",
      "1\n",
      "1\n",
      "1\n",
      "1\n",
      "1\n",
      "25\n",
      "1\n",
      "1\n",
      "1\n",
      "1\n",
      "1\n",
      "1\n",
      "1\n",
      "1\n",
      "1\n",
      "1\n",
      "1\n",
      "1\n",
      "1\n",
      "1\n",
      "1\n",
      "1\n",
      "1\n",
      "1\n",
      "1\n",
      "1\n",
      "1\n",
      "1\n",
      "1\n",
      "1\n",
      "1\n",
      "1\n",
      "1\n",
      "1\n",
      "1\n",
      "1\n",
      "1\n",
      "1\n",
      "1\n",
      "1\n",
      "1\n",
      "1\n",
      "1\n",
      "1\n",
      "1\n",
      "2\n",
      "7\n",
      "1\n",
      "1\n",
      "1\n",
      "1\n",
      "1\n",
      "1\n",
      "1\n",
      "1\n",
      "1\n",
      "1\n",
      "1\n",
      "1\n",
      "1\n",
      "1\n",
      "1\n",
      "1\n",
      "2\n",
      "2\n",
      "2\n",
      "2\n",
      "2\n",
      "2\n",
      "1\n",
      "1\n",
      "25\n",
      "1\n",
      "1\n",
      "1\n",
      "1\n",
      "1\n",
      "1\n",
      "1\n",
      "1\n",
      "1\n",
      "1\n",
      "20\n",
      "1\n",
      "11\n",
      "1\n",
      "1\n",
      "1\n",
      "1\n",
      "1\n",
      "1\n",
      "1\n",
      "1\n",
      "1\n",
      "1\n",
      "1\n",
      "1\n",
      "1\n",
      "1\n",
      "1\n",
      "1\n",
      "1\n",
      "1\n",
      "1\n",
      "1\n",
      "1\n",
      "1\n",
      "1\n",
      "1\n",
      "1\n",
      "45\n",
      "7\n",
      "1\n",
      "1\n",
      "1\n",
      "1\n",
      "1\n",
      "1\n",
      "1\n",
      "1\n",
      "1\n",
      "1\n",
      "1\n",
      "1\n",
      "1\n",
      "1\n",
      "1\n",
      "1\n",
      "1\n",
      "1\n",
      "2\n",
      "1\n",
      "1\n",
      "1\n",
      "1\n",
      "14\n",
      "9\n",
      "59\n",
      "1\n",
      "2\n",
      "37\n",
      "1\n",
      "1\n",
      "1\n",
      "19\n",
      "19\n",
      "23\n",
      "1\n",
      "37\n",
      "22\n",
      "1\n",
      "3\n",
      "1\n",
      "1\n",
      "1\n",
      "3\n",
      "1\n",
      "1\n"
     ]
    }
   ],
   "source": [
    "for miner in canonical_miner_dict:\n",
    "    if miner not in good_miner:\n",
    "        print(canonical_miner_dict[miner])"
   ]
  },
  {
   "cell_type": "markdown",
   "metadata": {},
   "source": [
    "### Analyze relationship between factors and the corresponding value "
   ]
  },
  {
   "cell_type": "code",
   "execution_count": 278,
   "metadata": {},
   "outputs": [],
   "source": [
    "from scipy import stats"
   ]
  },
  {
   "cell_type": "code",
   "execution_count": 279,
   "metadata": {},
   "outputs": [
    {
     "data": {
      "text/plain": [
       "(-0.30414423503104915, 0.0)"
      ]
     },
     "execution_count": 279,
     "metadata": {},
     "output_type": "execute_result"
    }
   ],
   "source": [
    "stats.pearsonr(result.timestamp.to_numpy(), result.label.to_numpy())"
   ]
  },
  {
   "cell_type": "code",
   "execution_count": 287,
   "metadata": {},
   "outputs": [
    {
     "data": {
      "text/plain": [
       "(-0.2623883112084949, 0.0)"
      ]
     },
     "execution_count": 287,
     "metadata": {},
     "output_type": "execute_result"
    }
   ],
   "source": [
    "stats.pearsonr(result.gasLimit.to_numpy(), result.label.to_numpy())"
   ]
  },
  {
   "cell_type": "code",
   "execution_count": 288,
   "metadata": {},
   "outputs": [
    {
     "data": {
      "text/plain": [
       "(-0.02557144910533309, 9.173872111352913e-260)"
      ]
     },
     "execution_count": 288,
     "metadata": {},
     "output_type": "execute_result"
    }
   ],
   "source": [
    "stats.pearsonr(result.gasUsed.to_numpy(), result.label.to_numpy())"
   ]
  },
  {
   "cell_type": "code",
   "execution_count": 291,
   "metadata": {},
   "outputs": [
    {
     "data": {
      "text/plain": [
       "(-0.06438982829823495, 0.0)"
      ]
     },
     "execution_count": 291,
     "metadata": {},
     "output_type": "execute_result"
    }
   ],
   "source": [
    "stats.pearsonr(result.miner.to_numpy(), result.label.to_numpy())"
   ]
  },
  {
   "cell_type": "code",
   "execution_count": 292,
   "metadata": {},
   "outputs": [
    {
     "data": {
      "text/plain": [
       "Index(['difficulty', 'gasLimit', 'gasUsed', 'miner', 'number', 'size',\n",
       "       'timestamp', 'label'],\n",
       "      dtype='object')"
      ]
     },
     "execution_count": 292,
     "metadata": {},
     "output_type": "execute_result"
    }
   ],
   "source": [
    "result.columns"
   ]
  }
 ],
 "metadata": {
  "kernelspec": {
   "display_name": "Python 3",
   "language": "python",
   "name": "python3"
  },
  "language_info": {
   "codemirror_mode": {
    "name": "ipython",
    "version": 3
   },
   "file_extension": ".py",
   "mimetype": "text/x-python",
   "name": "python",
   "nbconvert_exporter": "python",
   "pygments_lexer": "ipython3",
   "version": "3.6.8"
  }
 },
 "nbformat": 4,
 "nbformat_minor": 2
}
